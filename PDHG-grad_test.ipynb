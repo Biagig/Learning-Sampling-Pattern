{
 "cells": [
  {
   "cell_type": "code",
   "execution_count": 1,
   "metadata": {},
   "outputs": [
    {
     "name": "stderr",
     "output_type": "stream",
     "text": [
      "/home/guillaume/temp/pysap-mri/mri/operators/fourier/cartesian.py:33: UserWarning: pynufft python package has not been found. If needed use the master release. Till then you cannot use NUFFT on GPU\n",
      "  warnings.warn(\"pynufft python package has not been found. If needed use \"\n",
      "/home/guillaume/temp/pysap-mri/mri/operators/fourier/non_cartesian.py:33: UserWarning: pynufft python package has not been found. If needed use the master release. Till then you cannot use NUFFT on GPU\n",
      "  warnings.warn(\"pynufft python package has not been found. If needed use \"\n"
     ]
    },
    {
     "name": "stdout",
     "output_type": "stream",
     "text": [
      "\n",
      "                 .|'''|       /.\\      '||'''|,\n",
      "                 ||          // \\\\      ||   ||\n",
      "'||''|, '||  ||` `|'''|,    //...\\\\     ||...|'\n",
      " ||  ||  `|..||   .   ||   //     \\\\    ||\n",
      " ||..|'      ||   |...|' .//       \\\\. .||\n",
      " ||       ,  |'\n",
      ".||        ''\n",
      "\n",
      "Package version: 0.0.3\n",
      "\n",
      "License: CeCILL-B\n",
      "\n",
      "Authors: \n",
      "\n",
      "Antoine Grigis <antoine.grigis@cea.fr>\n",
      "Samuel Farrens <samuel.farrens@cea.fr>\n",
      "Jean-Luc Starck <jl.stark@cea.fr>\n",
      "Philippe Ciuciu <philippe.ciuciu@cea.fr>\n",
      "\n",
      "Dependencies: \n",
      "\n",
      "scipy          : >=1.3.0   - required | 1.3.0     installed\n",
      "numpy          : >=1.16.4  - required | 1.16.4    installed\n",
      "matplotlib     : >=3.0.0   - required | 3.1.1     installed\n",
      "astropy        : >=3.0.0   - required | 3.2.1     installed\n",
      "nibabel        : >=2.3.2   - required | 2.5.1     installed\n",
      "pyqtgraph      : >=0.10.0  - required | 0.10.0    installed\n",
      "progressbar2   : >=3.34.3  - required | ?         installed\n",
      "modopt         : >=1.4.0   - required | 1.4.1     installed\n",
      "scikit-learn   : >=0.19.1  - required | ?         installed\n",
      "pywt           : >=1.0.0   - required | 1.0.3     installed\n",
      "pysparse       : >=0.0.1   - required | 0.1.0     installed\n",
      "\n"
     ]
    }
   ],
   "source": [
    "# Package import\n",
    "from mri.operators import NonCartesianFFT, WaveletUD2, WaveletN ,FFT, gradient\n",
    "from mri.operators.utils import convert_mask_to_locations, convert_locations_to_mask, \\\n",
    "    gridded_inverse_fourier_transform_nd\n",
    "from mri.reconstructors import SingleChannelReconstructor\n",
    "import pysap\n",
    "from pysap.data import get_sample_data\n",
    "from pysap.utils import save_image"
   ]
  },
  {
   "cell_type": "code",
   "execution_count": 2,
   "metadata": {},
   "outputs": [],
   "source": [
    "# Third party import\n",
    "from modopt.math.metrics import ssim\n",
    "from modopt.opt.linear import Identity\n",
    "from modopt.opt.proximity import SparseThreshold,Ridge\n",
    "\n",
    "import numpy as np\n",
    "import matplotlib.pyplot as plt\n",
    "import random as rd\n",
    "from PIL import Image\n",
    "from modopt.math.matrix import PowerMethod"
   ]
  },
  {
   "cell_type": "code",
   "execution_count": 3,
   "metadata": {},
   "outputs": [
    {
     "name": "stderr",
     "output_type": "stream",
     "text": [
      "/home/guillaume/temp/pysap-mri/mri/operators/fourier/utils.py:78: FutureWarning: Using a non-tuple sequence for multidimensional indexing is deprecated; use `arr[tuple(seq)]` instead of `arr[seq]`. In the future this will be interpreted as an array index, `arr[np.array(seq)]`, which will result either in an error or a different result.\n",
      "  mask[test] = 1\n"
     ]
    }
   ],
   "source": [
    "u0 = get_sample_data('2d-mri')\n",
    "\n",
    "# Obtain MRI non-cartesian mask\n",
    "radial_mask = get_sample_data(\"mri-radial-samples\")\n",
    "kspace_loc = radial_mask.data\n",
    "mask = pysap.Image(data=convert_locations_to_mask(kspace_loc, u0.shape))"
   ]
  },
  {
   "cell_type": "code",
   "execution_count": 4,
   "metadata": {},
   "outputs": [],
   "source": [
    "#Original image\n",
    "image_rec0 = pysap.Image(data=np.abs(u0))\n",
    "image_rec0.show()"
   ]
  },
  {
   "cell_type": "code",
   "execution_count": 5,
   "metadata": {},
   "outputs": [],
   "source": [
    "# Adding noise\n",
    "(n1,n2) = u0.shape\n",
    "s = 1e-6\n",
    "# Computing y with non-cartesian Fourier transform\n",
    "fourier_op = NonCartesianFFT(samples=kspace_loc, shape=u0.shape,implementation='cpu')\n",
    "y = fourier_op.op(u0.data)\n",
    "y += np.asarray([np.random.normal(0,s)+np.random.normal(0,s)*1j for i in range(len(y))])\n",
    "u0_mat = np.asarray(u0)\n",
    "\n",
    "p=np.asarray([1 for i in range(len(y))])\n",
    "pn1 = 1e-9\n",
    "y *= p\n",
    "y_temp = np.copy(y)"
   ]
  },
  {
   "cell_type": "code",
   "execution_count": 6,
   "metadata": {},
   "outputs": [],
   "source": [
    "def grad(u):\n",
    "    (n,p) = u.shape\n",
    "    Gx = np.zeros(u.shape)\n",
    "    Gy = np.zeros(u.shape)\n",
    "    for j in range(p):\n",
    "        for i in range(n-1):\n",
    "            Gy[i][j] = u[i+1][j]-u[i][j]\n",
    "        Gy[n-1][j] = Gy[n-2][j]\n",
    "        \n",
    "    for i in range(n):\n",
    "        for j in range(p-1):\n",
    "            Gx[i][j] = u[i][j+1]-u[i][j]\n",
    "        Gx[i][p-1] = Gx[i][p-2]\n",
    "    return(np.array([Gx,Gy]))\n",
    "\n",
    "def divergence(field):\n",
    "    a = field[0]\n",
    "    b = field[1]\n",
    "    d = np.zeros(a.shape)\n",
    "    (n,p) = a.shape\n",
    "    for i in range(n):\n",
    "        for j in range(p-1):\n",
    "            d[i][j+1] += a[i][j]\n",
    "            d[i][j] -= a[i][j]\n",
    "        d[i][p-1] += a[i][p-1]\n",
    "        d[i][p-2] -= a[i][p-1]\n",
    "    \n",
    "    for j in range(p):\n",
    "        for i in range(n-1):\n",
    "            d[i+1][j] += b[i][j]\n",
    "            d[i][j] -= b[i][j]\n",
    "        d[n-1][j] += b[n-1][j]\n",
    "        d[n-2][j] -= b[n-1][j]\n",
    "    return d"
   ]
  },
  {
   "cell_type": "code",
   "execution_count": 7,
   "metadata": {},
   "outputs": [],
   "source": [
    "# Tools for inverse fft\n",
    "grid_space = np.linspace(-0.5, 0.5, num=u0.shape[0])\n",
    "grid2D = np.meshgrid(grid_space, grid_space)"
   ]
  },
  {
   "cell_type": "code",
   "execution_count": 8,
   "metadata": {},
   "outputs": [],
   "source": [
    "# Base reconstructed image: computes an inverse fft according to the mask on the noised data\n",
    "grid_soln = gridded_inverse_fourier_transform_nd(kspace_loc, y,\n",
    "                                                 tuple(grid2D), 'linear')\n",
    "image_rec0 = pysap.Image(data=np.abs(grid_soln))\n",
    "image_rec0.show()"
   ]
  },
  {
   "cell_type": "code",
   "execution_count": 164,
   "metadata": {},
   "outputs": [],
   "source": [
    "s = 2e-5\n",
    "ynp = np.fft.fft(u0_mat)\n",
    "ynp += np.random.normal(0,s,ynp.shape) + 1j*np.random.normal(0,s,ynp.shape)\n",
    "p2 = np.ones(ynp.shape)"
   ]
  },
  {
   "cell_type": "code",
   "execution_count": 165,
   "metadata": {},
   "outputs": [],
   "source": [
    "xnp = np.fft.ifft(ynp)\n",
    "image_rec0 = pysap.Image(data=np.abs(xnp))\n",
    "image_rec0.show()"
   ]
  },
  {
   "cell_type": "markdown",
   "metadata": {},
   "source": [
    "# Definition of functions to compute energy\n",
    "Since S is a nxn diagonal matrix, we won't store it in memory and do all the computations directly with p"
   ]
  },
  {
   "cell_type": "code",
   "execution_count": 33,
   "metadata": {},
   "outputs": [],
   "source": [
    "#constants\n",
    "zeta = 1e10\n",
    "epsilon = 1e-3\n",
    "gamma = 1e-9\n",
    "beta = 100"
   ]
  },
  {
   "cell_type": "code",
   "execution_count": 12,
   "metadata": {},
   "outputs": [],
   "source": [
    "# functions B and G in the paper\n",
    "def b(u):\n",
    "    return np.sum([np.sum([max(0,-z**3)for z in u[i]]) for i in range(len(u))])*zeta\n",
    "def g(u):return np.real(b(u)+epsilon*np.linalg.norm(u)**2/2)"
   ]
  },
  {
   "cell_type": "code",
   "execution_count": 13,
   "metadata": {},
   "outputs": [],
   "source": [
    "# functions J and F2 in the paper\n",
    "# We also compute rho and its first derivative since we will need it later\n",
    "def rho(x):\n",
    "    m = np.absolute(x)\n",
    "    if m<gamma:\n",
    "        return -m*m*m/3/gamma/gamma+m*m/gamma\n",
    "    else:\n",
    "        return m-gamma/3\n",
    "def drho(x):\n",
    "    if x<-gamma:return -1\n",
    "    elif x<0:return x**2/gamma**2+2*x/gamma\n",
    "    elif x<gamma:return -x**2/gamma**2+2*x/gamma\n",
    "    else:return 1\n",
    "    \n",
    "\n",
    "def j(u):\n",
    "    v = divergence(u)\n",
    "    return np.sum([np.sum([rho(x) for x in y])for y in v])\n",
    "def f2(w): return pn1*j(w)"
   ]
  },
  {
   "cell_type": "code",
   "execution_count": 14,
   "metadata": {},
   "outputs": [],
   "source": [
    "#function F1 in the paper\n",
    "def R(u):\n",
    "    return np.real(u)\n",
    "def Rstar(u):\n",
    "    return u+1j*np.zeros(u.shape)\n",
    "def f1(v):\n",
    "    return 0.5*np.linalg.norm((fourier_op.op(v)-y)*p)**2\n",
    "def f1np(v):\n",
    "    return 0.5*np.linalg.norm((np.fft.fft(v)-ynp)*p2*p2)**2"
   ]
  },
  {
   "cell_type": "code",
   "execution_count": 15,
   "metadata": {},
   "outputs": [],
   "source": [
    "def energy(u):\n",
    "    return(f1(Rstar(u))+f2(grad(u))+g(u))\n",
    "def energynp(u):\n",
    "    return f1np(Rstar(u))+f2(grad(u))+g(u)"
   ]
  },
  {
   "cell_type": "code",
   "execution_count": 16,
   "metadata": {},
   "outputs": [
    {
     "name": "stdout",
     "output_type": "stream",
     "text": [
      "0.0005595728251908753\n",
      "3.4666703662778224e-08\n",
      "0.0005595960719595716\n"
     ]
    }
   ],
   "source": [
    "print(energy(np.zeros(u0_mat.shape)))\n",
    "print(energy(u0_mat))\n",
    "print(energy(2*u0_mat))"
   ]
  },
  {
   "cell_type": "code",
   "execution_count": 17,
   "metadata": {},
   "outputs": [
    {
     "name": "stdout",
     "output_type": "stream",
     "text": [
      "0.00010480639846032333\n"
     ]
    }
   ],
   "source": [
    "print(energynp(u0_mat))"
   ]
  },
  {
   "cell_type": "markdown",
   "metadata": {},
   "source": [
    "# Proximal operators\n",
    "The objective is to find the point minimizing $f_u(x) = F(x)+1/2||x-u||^2$ for a given u and for $F=\\tau F1,\\tau F2,\\tau G$ where $\\tau$ is a given constant.\n",
    "## Proximal operator of F2\n",
    "We want to minimize $f_u(x) = \\tau\\alpha (p)J(|x|)+\\frac{1}{2}||x-u||^2$. As explained in the paper, given the definition of J, we can compute the solution component by component, but the paper expresses $x_i$ in terms of $u_i$ with a constant C that we need to compute. We have in 1D $f_u'(x) = \\tau\\alpha (p)\\frac{x}{|x|}\\rho '(|x|)+x-u$. Since $\\rho '(x)$ depends on if $|x|<\\gamma$ or not, we need to separate these two cases:\n",
    "### |x|>$\\gamma$\n",
    "In this case, $\\rho '(|x|)=1$, so we simply have $(1+\\frac{\\tau\\alpha(p)}{|x|})x=u\\Rightarrow x=(|u|-\\tau\\alpha(p))\\frac{u}{|u|}$. Since we supposed $|x|<\\gamma$ beforehand, this will be true when $|u|>\\tau\\alpha(p)+\\gamma$.\n",
    "### |x|$\\leq\\gamma$\n",
    "From what we just saw, this is equivalent to $|u|\\leq\\tau\\alpha(p)+\\gamma$. This case is a bit more complicated, since now $\\rho '(|x|)=-\\frac{|x|^2}{\\gamma^2}+2\\frac{|x|}{\\gamma}$ and taking the norm on both sides of $\\tau\\alpha (p)\\frac{x}{|x|}\\rho '(|x|)+x-u$ gives us:\n",
    "$$-\\frac{\\tau\\alpha(p)}{\\gamma^2}|x|^2+(1+\\frac{2\\tau\\alpha(p)}{\\gamma})|x|-|u|=0\\\\\n",
    "\\Rightarrow |x| = \\gamma+\\frac{\\gamma^2}{2\\tau\\alpha(p)}(1\\pm\\sqrt{\\Delta})\\\\\n",
    "with\\ \\Delta=1+\\frac{4\\tau\\alpha(p)}{\\gamma^2}(\\gamma+\\tau\\alpha(p)-|u|)$$\n",
    "But since we want $|x|<\\gamma$, the only acceptable solution is $x=\\left(\\gamma+\\frac{\\gamma^2}{2\\tau\\alpha(p)}(1-\\sqrt{\\Delta})\\right)\\frac{u}{|u|}$. Since $|u|\\leq\\tau\\alpha(p)+\\gamma$, we see that $\\Delta>1$, so the condition $|x|\\leq\\gamma$ is verified.\n",
    "\n",
    "## Proximal operator of F1\n",
    "The expression given in the paper is:\n",
    "$$prox_{\\tau F1}(u) = \\mathcal{F}(I+\\tau S(p)^2)^{-1}(\\mathcal{F}u+\\tau S(p)^2y)$$\n",
    "with y the data.\\\\\n",
    "I find a different value when I recompute it: we want to minimize $f_u(x) = \\frac{1}{2}\\tau||S(p)(\\mathcal{F}x-y)||+\\frac{1}{2}||x-u||^2$. When we differentiate, we get:\n",
    "$$f_u(x+h) = f_u(x)+\\tau <S(p)\\mathcal{F}h,S(p)(\\mathcal{F}x-y)> + <h,(x-u)>+o(||h||)$$\n",
    "Since S(p) is diagonal, we have:\n",
    "$$f_u(x+h)-f_u(x) = <\\mathcal{F}h,\\tau S(p)^2(\\mathcal{F}x-y)>+<h,x-u>+o(||h||)\\\\\n",
    "\\Rightarrow \\nabla f_u(x) = \\mathcal{F}^{-1}\\left[\\tau S(p)^2(\\mathcal{F}x-y)\\right]+x-u$$\n",
    "\n",
    "\n",
    "## Proximal dual operators\n",
    "We use the Moreau identity to compute the proximal dual operators:\n",
    "$$prox_{\\gamma\\phi ^*}(x) = x-\\gamma prox_{\\phi/\\gamma}(\\frac{x}{\\gamma})$$"
   ]
  },
  {
   "cell_type": "code",
   "execution_count": 18,
   "metadata": {},
   "outputs": [],
   "source": [
    "#Prox_tauG\n",
    "def prox_B(u,c):\n",
    "    return np.asarray([[x/(0.5+np.sqrt(0.25-3*zeta*c*min(0,x)))for x in u[i]]for i in range(len(u))])\n",
    "def prox_G(u,c):\n",
    "    return prox_B(u/(1+epsilon),c/(1+epsilon))"
   ]
  },
  {
   "cell_type": "code",
   "execution_count": 19,
   "metadata": {},
   "outputs": [],
   "source": [
    "#Prox_tau/F2\n",
    "def prox_F2(u,c):\n",
    "    (l,n,p) = u.shape\n",
    "    v = (1+1j)*np.zeros(u.shape)\n",
    "    for i in range(n):\n",
    "        for j in range(p):\n",
    "            mod_u = np.linalg.norm([u[k][i][j] for k in range(l)])\n",
    "            for k in range(l):\n",
    "                if mod_u>c*pn1+gamma:\n",
    "                    v[k][i][j] = (mod_u-c*pn1)*u[k][i][j]/mod_u\n",
    "                else:\n",
    "                    delta = 1+4*c*pn1/(gamma**2)*(gamma+c*pn1-mod_u)\n",
    "                    v[k][i][j] = (gamma+gamma**2/(2*c*pn1)*(1-np.sqrt(delta)))*u[k][i][j]/mod_u\n",
    "    return v\n",
    "def prox_F2_dual(u,c):\n",
    "    return u-c*prox_F2(u/c,1/c)"
   ]
  },
  {
   "cell_type": "code",
   "execution_count": 20,
   "metadata": {},
   "outputs": [],
   "source": [
    "#prox_tauF1\n",
    "def prox_F1(u,c):\n",
    "    im=(fourier_op.op(u)+c*p*p*y)/(np.ones(y.shape)+c*p*p)\n",
    "    return gridded_inverse_fourier_transform_nd(kspace_loc,im,tuple(grid2D),'linear')\n",
    "\n",
    "def prox_F1_dual2(u,c):\n",
    "    return u-c*prox_F1(u/c,1/c)\n",
    "\n",
    "def prox_F1_dual(u,c):\n",
    "    inner = (fourier_op.op(u)+p*p*y)/(c*np.ones(y.shape)+p*p)\n",
    "    return u-c*gridded_inverse_fourier_transform_nd(kspace_loc,inner,tuple(grid2D),'linear')\n",
    "\n",
    "def prox_F1np_dual(u,c):\n",
    "    inner = (np.fft.fft(u)+p2*p2*ynp)/(c*np.ones(ynp.shape)+p2*p2)\n",
    "    return u-c*np.fft.ifft(inner)"
   ]
  },
  {
   "cell_type": "markdown",
   "metadata": {},
   "source": [
    "# Test with only one regulariser\n",
    "Utiliser prox_F1np_dual et uk = np.fft.ifft(ynp) pour comparer les resultats avec les deux methodes de transformee de Fourier (i.e. via pysap (mask) ou numpy (\"exact\"))."
   ]
  },
  {
   "cell_type": "code",
   "execution_count": 192,
   "metadata": {},
   "outputs": [],
   "source": [
    "#constants\n",
    "epsilon = 1e0\n",
    "L=1\n",
    "eta = 1\n",
    "mu = 2*np.sqrt(epsilon/(1+L*L)/eta)\n",
    "tau = mu/2/epsilon\n",
    "sigma = mu*eta/2\n",
    "theta = 1/(1+mu)\n",
    "\n",
    "maxit = 20\n",
    "tol = 1e-4"
   ]
  },
  {
   "cell_type": "code",
   "execution_count": 193,
   "metadata": {},
   "outputs": [
    {
     "data": {
      "text/plain": [
       "1.9073484054388313e-06"
      ]
     },
     "execution_count": 193,
     "metadata": {},
     "output_type": "execute_result"
    }
   ],
   "source": [
    "g(u0_mat)"
   ]
  },
  {
   "cell_type": "code",
   "execution_count": 194,
   "metadata": {},
   "outputs": [],
   "source": [
    "def step_test(uk,vk,uk_bar):\n",
    "    #vk1 = prox_F1_dual(vk+sigma*uk_bar,sigma)\n",
    "    vk1 = prox_F1np_dual(vk+sigma*uk_bar,sigma)\n",
    "    uk1 = prox_G(uk-tau*R(vk1),tau)\n",
    "    uk_bar1 = uk1+theta*(uk-uk1)\n",
    "\n",
    "    norm = np.linalg.norm(uk1-uk)/np.linalg.norm(uk)\n",
    "    norm += (np.linalg.norm(vk1-vk))/(np.linalg.norm(vk))\n",
    "    return uk1,vk1,uk_bar1,norm"
   ]
  },
  {
   "cell_type": "code",
   "execution_count": 195,
   "metadata": {},
   "outputs": [],
   "source": [
    "#initialisation\n",
    "n_iter = 0\n",
    "#uk = gridded_inverse_fourier_transform_nd(kspace_loc, y,tuple(grid2D), 'linear')\n",
    "uk = np.fft.ifft(ynp)\n",
    "image_rec0 = pysap.Image(data=np.abs(uk))\n",
    "#image_rec0.show()\n",
    "#print(ssim(uk,u0_mat))"
   ]
  },
  {
   "cell_type": "code",
   "execution_count": 196,
   "metadata": {
    "scrolled": true
   },
   "outputs": [
    {
     "name": "stderr",
     "output_type": "stream",
     "text": [
      "/home/guillaume/anaconda3/lib/python3.7/site-packages/ipykernel_launcher.py:7: ComplexWarning: Casting complex values to real discards the imaginary part\n",
      "  import sys\n",
      "/home/guillaume/anaconda3/lib/python3.7/site-packages/ipykernel_launcher.py:12: ComplexWarning: Casting complex values to real discards the imaginary part\n",
      "  if sys.path[0] == '':\n"
     ]
    },
    {
     "name": "stdout",
     "output_type": "stream",
     "text": [
      "Base ssim: 0.6492260834099838 \n",
      "Base cost: 0.0018245789944050304\n",
      "1  iterations:\n",
      "Cost: 0.0005029380848222653 \n",
      "ssim: 0.5993212708454355 \n",
      "Norm: 1.1196922165380874 \n",
      "\n",
      "2  iterations:\n",
      "Cost: 0.0004984480814304893 \n",
      "ssim: 0.44743429155346054 \n",
      "Norm: 1.3936248146253014 \n",
      "\n",
      "3  iterations:\n",
      "Cost: 0.00042482271830670605 \n",
      "ssim: 0.7018708399628729 \n",
      "Norm: 2.8877535828045664 \n",
      "\n",
      "4  iterations:\n",
      "Cost: 0.00031434372561180835 \n",
      "ssim: 0.773324855844717 \n",
      "Norm: 2.0015869663344 \n",
      "\n",
      "5  iterations:\n",
      "Cost: 0.00023355724978889737 \n",
      "ssim: 0.7796422940216087 \n",
      "Norm: 0.6603484446967588 \n",
      "\n",
      "6  iterations:\n",
      "Cost: 0.00019140969136425106 \n",
      "ssim: 0.7805147225110644 \n",
      "Norm: 0.23538695663083603 \n",
      "\n",
      "7  iterations:\n",
      "Cost: 0.00017558323330877035 \n",
      "ssim: 0.7806824980041444 \n",
      "Norm: 0.09683617960814923 \n",
      "\n",
      "8  iterations:\n",
      "Cost: 0.0001736527478040495 \n",
      "ssim: 0.7807200365434117 \n",
      "Norm: 0.04941579959862145 \n",
      "\n",
      "9  iterations:\n",
      "Cost: 0.00017718842577959357 \n",
      "ssim: 0.780723304622385 \n",
      "Norm: 0.045375451454832946 \n",
      "\n",
      "10  iterations:\n",
      "Cost: 0.00018145573273638726 \n",
      "ssim: 0.7807171510916587 \n",
      "Norm: 0.033952025455548915 \n",
      "\n",
      "11  iterations:\n",
      "Cost: 0.00018448995825192378 \n",
      "ssim: 0.7807110424216573 \n",
      "Norm: 0.018598713342215793 \n",
      "\n",
      "12  iterations:\n",
      "Cost: 0.00018600951756620964 \n",
      "ssim: 0.7807006775490795 \n",
      "Norm: 0.008323128296869906 \n",
      "\n",
      "13  iterations:\n",
      "Cost: 0.00018645077613360574 \n",
      "ssim: 0.7806995798421054 \n",
      "Norm: 0.004366958300440972 \n",
      "\n",
      "14  iterations:\n",
      "Cost: 0.00018635332381944145 \n",
      "ssim: 0.7806999676156907 \n",
      "Norm: 0.0027413166959346287 \n",
      "\n",
      "15  iterations:\n",
      "Cost: 0.00018609992324652479 \n",
      "ssim: 0.7806995814447504 \n",
      "Norm: 0.002441538929221762 \n",
      "\n",
      "16  iterations:\n",
      "Cost: 0.0001858811087392847 \n",
      "ssim: 0.780699032922913 \n",
      "Norm: 0.0015210404136701662 \n",
      "\n",
      "17  iterations:\n",
      "Cost: 0.00018575189274514433 \n",
      "ssim: 0.7806985943766545 \n",
      "Norm: 0.0007227041996500054 \n",
      "\n",
      "18  iterations:\n",
      "Cost: 0.00018570001789748687 \n",
      "ssim: 0.7806983453600952 \n",
      "Norm: 0.0003411312813498988 \n",
      "\n",
      "19  iterations:\n",
      "Cost: 0.00018569381841811964 \n",
      "ssim: 0.7806984326497114 \n",
      "Norm: 0.00017533788690856774 \n",
      "\n",
      "20  iterations:\n",
      "Cost: 0.00018570595893556107 \n",
      "ssim: 0.7806983953246259 \n",
      "Norm: 0.0001565848557010359 \n",
      "\n",
      "21  iterations:\n",
      "Cost: 0.00018572029231658996 \n",
      "ssim: 0.7806983219674803 \n",
      "Norm: 0.000114153915729487 \n",
      "\n",
      "22  iterations:\n",
      "Cost: 0.00018573033383609923 \n",
      "ssim: 0.7806982606060402 \n",
      "Norm: 6.144544311608792e-05 \n",
      "\n",
      "Final ssim after  22  iterations: 0.7806982606060402\n"
     ]
    }
   ],
   "source": [
    "vk = np.copy(uk)\n",
    "wk = grad(u0_mat)\n",
    "uk_bar = np.copy(uk)\n",
    "norm = 2*tol\n",
    "energies = []\n",
    "norms = []\n",
    "\n",
    "print(\"Base ssim:\",ssim(uk,u0_mat), \"\\nBase cost:\", energy(uk))\n",
    "while n_iter<50 and norm>tol:\n",
    "    uk,vk,uk_bar,norm = step_test(uk,vk,uk_bar)\n",
    "    n_iter += 1\n",
    "    energies.append(f1(uk)+g(uk))\n",
    "    norms.append(norm)\n",
    "    print(n_iter,\" iterations:\\nCost:\",f1(uk)+g(uk),\"\\nssim:\",ssim(uk,u0_mat),\"\\nNorm:\",norm,\"\\n\")\n",
    "print(\"Final ssim after \",n_iter,\" iterations:\",ssim(uk,u0_mat))"
   ]
  },
  {
   "cell_type": "code",
   "execution_count": 200,
   "metadata": {},
   "outputs": [
    {
     "name": "stdout",
     "output_type": "stream",
     "text": [
      "0.7806982606060402\n"
     ]
    }
   ],
   "source": [
    "#Final image\n",
    "image_rec = pysap.Image(data=np.abs(uk))\n",
    "print(ssim(uk,u0_mat))\n",
    "image_rec.show()"
   ]
  },
  {
   "cell_type": "markdown",
   "metadata": {},
   "source": [
    "Comme on n'a pas de regularisation sur la derivee, on n'elimine pas beaucoup de bruit."
   ]
  },
  {
   "cell_type": "code",
   "execution_count": 198,
   "metadata": {},
   "outputs": [
    {
     "data": {
      "image/png": "[encoded data removed]",
      "text/plain": [
       "<Figure size 432x288 with 1 Axes>"
      ]
     },
     "metadata": {
      "needs_background": "light"
     },
     "output_type": "display_data"
    }
   ],
   "source": [
    "plt.plot(energies)\n",
    "plt.yscale(\"log\")"
   ]
  },
  {
   "cell_type": "code",
   "execution_count": 199,
   "metadata": {},
   "outputs": [
    {
     "data": {
      "image/png": "[encoded data removed]",
      "text/plain": [
       "<Figure size 432x288 with 1 Axes>"
      ]
     },
     "metadata": {
      "needs_background": "light"
     },
     "output_type": "display_data"
    }
   ],
   "source": [
    "plt.plot(norms)\n",
    "plt.yscale(\"log\")"
   ]
  },
  {
   "cell_type": "markdown",
   "metadata": {},
   "source": [
    "# Implementation of the PDHG algorithm"
   ]
  },
  {
   "cell_type": "code",
   "execution_count": 210,
   "metadata": {},
   "outputs": [
    {
     "name": "stdout",
     "output_type": "stream",
     "text": [
      "1.748739225629645e-07\n",
      "0.00010497897904384499\n",
      "1.9073484054388313e-06\n"
     ]
    }
   ],
   "source": [
    "pn1 = 1e-6\n",
    "epsilon = 1e0\n",
    "print(f2(grad(u0_mat)))\n",
    "print(f1np(u0_mat))\n",
    "print(g(u0_mat))"
   ]
  },
  {
   "cell_type": "code",
   "execution_count": 211,
   "metadata": {},
   "outputs": [],
   "source": [
    "#constants\n",
    "L=1\n",
    "eta = np.amax(p)\n",
    "mu = 2*np.sqrt(epsilon/(1+L*L)/eta)\n",
    "tau = mu/2/epsilon\n",
    "sigma = mu*eta/2\n",
    "theta = 1/(1+mu)\n",
    "\n",
    "maxit = 20\n",
    "tol = 1e-4"
   ]
  },
  {
   "cell_type": "code",
   "execution_count": 212,
   "metadata": {},
   "outputs": [],
   "source": [
    "def step(uk,vk,wk,uk_bar):\n",
    "    vk1 = prox_F1np_dual(vk+sigma*uk_bar,sigma)\n",
    "    wk1 = prox_F2_dual(wk+sigma*grad(uk_bar),sigma)\n",
    "    uk1 = prox_G(uk-tau*R(vk1)-tau*divergence(wk1),tau)\n",
    "    uk_bar1 = uk1+theta*(uk1-uk)\n",
    "\n",
    "    norm = np.linalg.norm(uk1-uk)/np.linalg.norm(uk)\n",
    "    norm += (np.linalg.norm(vk1-vk)+np.linalg.norm(wk1-wk))/(np.linalg.norm(vk)+np.linalg.norm(wk))\n",
    "    return uk1,vk1,wk1,uk_bar1,norm"
   ]
  },
  {
   "cell_type": "code",
   "execution_count": 213,
   "metadata": {},
   "outputs": [],
   "source": [
    "#initialisation\n",
    "n_iter = 0\n",
    "uk = gridded_inverse_fourier_transform_nd(kspace_loc, y,\n",
    "                                                 tuple(grid2D), 'linear')\n",
    "uk = np.fft.ifft(ynp)\n",
    "image_rec0 = pysap.Image(data=np.abs(uk))\n",
    "#image_rec0.show()\n",
    "#print(ssim(uk,u0_mat))"
   ]
  },
  {
   "cell_type": "code",
   "execution_count": 214,
   "metadata": {
    "scrolled": true
   },
   "outputs": [
    {
     "name": "stderr",
     "output_type": "stream",
     "text": [
      "/home/guillaume/anaconda3/lib/python3.7/site-packages/ipykernel_launcher.py:7: ComplexWarning: Casting complex values to real discards the imaginary part\n",
      "  import sys\n",
      "/home/guillaume/anaconda3/lib/python3.7/site-packages/ipykernel_launcher.py:12: ComplexWarning: Casting complex values to real discards the imaginary part\n",
      "  if sys.path[0] == '':\n"
     ]
    },
    {
     "name": "stdout",
     "output_type": "stream",
     "text": [
      "Base ssim: 0.6492260834099838 \n",
      "Base cost: 0.0017381677230068747\n"
     ]
    }
   ],
   "source": [
    "vk = np.copy(uk)\n",
    "wk = grad(u0_mat)\n",
    "uk_bar = np.copy(uk)\n",
    "norm = 2*tol\n",
    "norms = []\n",
    "energies = [energynp(uk)]\n",
    "ssims = [ssim(uk,u0_mat)]\n",
    "print(\"Base ssim:\",ssim(uk,u0_mat), \"\\nBase cost:\", energynp(uk))"
   ]
  },
  {
   "cell_type": "code",
   "execution_count": 215,
   "metadata": {
    "scrolled": true
   },
   "outputs": [
    {
     "name": "stderr",
     "output_type": "stream",
     "text": [
      "/home/guillaume/anaconda3/lib/python3.7/site-packages/ipykernel_launcher.py:7: ComplexWarning: Casting complex values to real discards the imaginary part\n",
      "  import sys\n",
      "/home/guillaume/anaconda3/lib/python3.7/site-packages/ipykernel_launcher.py:12: ComplexWarning: Casting complex values to real discards the imaginary part\n",
      "  if sys.path[0] == '':\n",
      "/home/guillaume/anaconda3/lib/python3.7/site-packages/ipykernel_launcher.py:23: ComplexWarning: Casting complex values to real discards the imaginary part\n",
      "/home/guillaume/anaconda3/lib/python3.7/site-packages/ipykernel_launcher.py:24: ComplexWarning: Casting complex values to real discards the imaginary part\n",
      "/home/guillaume/anaconda3/lib/python3.7/site-packages/ipykernel_launcher.py:25: ComplexWarning: Casting complex values to real discards the imaginary part\n",
      "/home/guillaume/anaconda3/lib/python3.7/site-packages/ipykernel_launcher.py:26: ComplexWarning: Casting complex values to real discards the imaginary part\n",
      "/home/guillaume/anaconda3/lib/python3.7/site-packages/ipykernel_launcher.py:30: ComplexWarning: Casting complex values to real discards the imaginary part\n",
      "/home/guillaume/anaconda3/lib/python3.7/site-packages/ipykernel_launcher.py:31: ComplexWarning: Casting complex values to real discards the imaginary part\n",
      "/home/guillaume/anaconda3/lib/python3.7/site-packages/ipykernel_launcher.py:32: ComplexWarning: Casting complex values to real discards the imaginary part\n",
      "/home/guillaume/anaconda3/lib/python3.7/site-packages/ipykernel_launcher.py:33: ComplexWarning: Casting complex values to real discards the imaginary part\n"
     ]
    },
    {
     "name": "stdout",
     "output_type": "stream",
     "text": [
      "1  iterations:\n",
      "Cost: 0.0008450711104381319 \n",
      "ssim: 0.37835701675164596 \n",
      "Norm: 1.2843824346130917 \n",
      "\n",
      "2  iterations:\n",
      "Cost: 0.0007655230730898511 \n",
      "ssim: 0.28175906429777037 \n",
      "Norm: 1.903383020820685 \n",
      "\n",
      "3  iterations:\n",
      "Cost: 0.0006944437836541169 \n",
      "ssim: 0.5029835338993189 \n",
      "Norm: 3.0794663671353493 \n",
      "\n",
      "4  iterations:\n",
      "Cost: 0.0005630614752991362 \n",
      "ssim: 0.6056679090412312 \n",
      "Norm: 1.5506035360023267 \n",
      "\n",
      "5  iterations:\n",
      "Cost: 0.0005146694410270099 \n",
      "ssim: 0.6823266343590072 \n",
      "Norm: 1.1188074582413794 \n",
      "\n",
      "6  iterations:\n",
      "Cost: 0.0004594384932850145 \n",
      "ssim: 0.6579569100390501 \n",
      "Norm: 1.0171085505190034 \n",
      "\n",
      "7  iterations:\n",
      "Cost: 0.0004627792612127665 \n",
      "ssim: 0.6779872026019153 \n",
      "Norm: 0.9925629593427066 \n",
      "\n",
      "8  iterations:\n",
      "Cost: 0.00043894099125023296 \n",
      "ssim: 0.6312017750537491 \n",
      "Norm: 1.0043052205457257 \n",
      "\n",
      "9  iterations:\n",
      "Cost: 0.00045531095674963373 \n",
      "ssim: 0.6498839383736965 \n",
      "Norm: 1.0174615950264247 \n",
      "\n",
      "10  iterations:\n",
      "Cost: 0.0004384774510977292 \n",
      "ssim: 0.6085689955296875 \n",
      "Norm: 1.0345509700109052 \n",
      "\n",
      "11  iterations:\n",
      "Cost: 0.00045546481633622896 \n",
      "ssim: 0.6312099877187081 \n",
      "Norm: 1.0447358043001604 \n",
      "\n",
      "12  iterations:\n",
      "Cost: 0.0004399218234841681 \n",
      "ssim: 0.5971831067637274 \n",
      "Norm: 1.057046432273868 \n",
      "\n",
      "13  iterations:\n",
      "Cost: 0.00045566683638734737 \n",
      "ssim: 0.621513214026343 \n",
      "Norm: 1.0621140730193166 \n",
      "\n",
      "14  iterations:\n",
      "Cost: 0.00044077169611985833 \n",
      "ssim: 0.5910608116899282 \n",
      "Norm: 1.0712733075371759 \n",
      "\n",
      "15  iterations:\n",
      "Cost: 0.00045548922808924655 \n",
      "ssim: 0.6159663982549429 \n",
      "Norm: 1.0735001023008923 \n",
      "\n"
     ]
    },
    {
     "ename": "KeyboardInterrupt",
     "evalue": "",
     "output_type": "error",
     "traceback": [
      "\u001b[0;31m---------------------------------------------------------------------------\u001b[0m",
      "\u001b[0;31mKeyboardInterrupt\u001b[0m                         Traceback (most recent call last)",
      "\u001b[0;32m<ipython-input-215-6fbf44b25ac5>\u001b[0m in \u001b[0;36m<module>\u001b[0;34m\u001b[0m\n\u001b[1;32m      1\u001b[0m \u001b[0;32mwhile\u001b[0m \u001b[0mn_iter\u001b[0m\u001b[0;34m<\u001b[0m\u001b[0;36m50\u001b[0m \u001b[0;32mand\u001b[0m \u001b[0mnorm\u001b[0m\u001b[0;34m>\u001b[0m\u001b[0mtol\u001b[0m\u001b[0;34m:\u001b[0m\u001b[0;34m\u001b[0m\u001b[0;34m\u001b[0m\u001b[0m\n\u001b[0;32m----> 2\u001b[0;31m     \u001b[0muk\u001b[0m\u001b[0;34m,\u001b[0m\u001b[0mvk\u001b[0m\u001b[0;34m,\u001b[0m\u001b[0mwk\u001b[0m\u001b[0;34m,\u001b[0m\u001b[0muk_bar\u001b[0m\u001b[0;34m,\u001b[0m\u001b[0mnorm\u001b[0m \u001b[0;34m=\u001b[0m \u001b[0mstep\u001b[0m\u001b[0;34m(\u001b[0m\u001b[0muk\u001b[0m\u001b[0;34m,\u001b[0m\u001b[0mvk\u001b[0m\u001b[0;34m,\u001b[0m\u001b[0mwk\u001b[0m\u001b[0;34m,\u001b[0m\u001b[0muk_bar\u001b[0m\u001b[0;34m)\u001b[0m\u001b[0;34m\u001b[0m\u001b[0;34m\u001b[0m\u001b[0m\n\u001b[0m\u001b[1;32m      3\u001b[0m     \u001b[0mn_iter\u001b[0m \u001b[0;34m+=\u001b[0m \u001b[0;36m1\u001b[0m\u001b[0;34m\u001b[0m\u001b[0;34m\u001b[0m\u001b[0m\n\u001b[1;32m      4\u001b[0m     \u001b[0mssims\u001b[0m\u001b[0;34m.\u001b[0m\u001b[0mappend\u001b[0m\u001b[0;34m(\u001b[0m\u001b[0mssim\u001b[0m\u001b[0;34m(\u001b[0m\u001b[0muk\u001b[0m\u001b[0;34m,\u001b[0m\u001b[0mu0_mat\u001b[0m\u001b[0;34m)\u001b[0m\u001b[0;34m)\u001b[0m\u001b[0;34m\u001b[0m\u001b[0;34m\u001b[0m\u001b[0m\n\u001b[1;32m      5\u001b[0m     \u001b[0mnorms\u001b[0m\u001b[0;34m.\u001b[0m\u001b[0mappend\u001b[0m\u001b[0;34m(\u001b[0m\u001b[0mnorm\u001b[0m\u001b[0;34m)\u001b[0m\u001b[0;34m\u001b[0m\u001b[0;34m\u001b[0m\u001b[0m\n",
      "\u001b[0;32m<ipython-input-212-594b50d49a1f>\u001b[0m in \u001b[0;36mstep\u001b[0;34m(uk, vk, wk, uk_bar)\u001b[0m\n\u001b[1;32m      1\u001b[0m \u001b[0;32mdef\u001b[0m \u001b[0mstep\u001b[0m\u001b[0;34m(\u001b[0m\u001b[0muk\u001b[0m\u001b[0;34m,\u001b[0m\u001b[0mvk\u001b[0m\u001b[0;34m,\u001b[0m\u001b[0mwk\u001b[0m\u001b[0;34m,\u001b[0m\u001b[0muk_bar\u001b[0m\u001b[0;34m)\u001b[0m\u001b[0;34m:\u001b[0m\u001b[0;34m\u001b[0m\u001b[0;34m\u001b[0m\u001b[0m\n\u001b[1;32m      2\u001b[0m     \u001b[0mvk1\u001b[0m \u001b[0;34m=\u001b[0m \u001b[0mprox_F1np_dual\u001b[0m\u001b[0;34m(\u001b[0m\u001b[0mvk\u001b[0m\u001b[0;34m+\u001b[0m\u001b[0msigma\u001b[0m\u001b[0;34m*\u001b[0m\u001b[0muk_bar\u001b[0m\u001b[0;34m,\u001b[0m\u001b[0msigma\u001b[0m\u001b[0;34m)\u001b[0m\u001b[0;34m\u001b[0m\u001b[0;34m\u001b[0m\u001b[0m\n\u001b[0;32m----> 3\u001b[0;31m     \u001b[0mwk1\u001b[0m \u001b[0;34m=\u001b[0m \u001b[0mprox_F2_dual\u001b[0m\u001b[0;34m(\u001b[0m\u001b[0mwk\u001b[0m\u001b[0;34m+\u001b[0m\u001b[0msigma\u001b[0m\u001b[0;34m*\u001b[0m\u001b[0mgrad\u001b[0m\u001b[0;34m(\u001b[0m\u001b[0muk_bar\u001b[0m\u001b[0;34m)\u001b[0m\u001b[0;34m,\u001b[0m\u001b[0msigma\u001b[0m\u001b[0;34m)\u001b[0m\u001b[0;34m\u001b[0m\u001b[0;34m\u001b[0m\u001b[0m\n\u001b[0m\u001b[1;32m      4\u001b[0m     \u001b[0muk1\u001b[0m \u001b[0;34m=\u001b[0m \u001b[0mprox_G\u001b[0m\u001b[0;34m(\u001b[0m\u001b[0muk\u001b[0m\u001b[0;34m-\u001b[0m\u001b[0mtau\u001b[0m\u001b[0;34m*\u001b[0m\u001b[0mR\u001b[0m\u001b[0;34m(\u001b[0m\u001b[0mvk1\u001b[0m\u001b[0;34m)\u001b[0m\u001b[0;34m-\u001b[0m\u001b[0mtau\u001b[0m\u001b[0;34m*\u001b[0m\u001b[0mdivergence\u001b[0m\u001b[0;34m(\u001b[0m\u001b[0mwk1\u001b[0m\u001b[0;34m)\u001b[0m\u001b[0;34m,\u001b[0m\u001b[0mtau\u001b[0m\u001b[0;34m)\u001b[0m\u001b[0;34m\u001b[0m\u001b[0;34m\u001b[0m\u001b[0m\n\u001b[1;32m      5\u001b[0m     \u001b[0muk_bar1\u001b[0m \u001b[0;34m=\u001b[0m \u001b[0muk1\u001b[0m\u001b[0;34m+\u001b[0m\u001b[0mtheta\u001b[0m\u001b[0;34m*\u001b[0m\u001b[0;34m(\u001b[0m\u001b[0muk1\u001b[0m\u001b[0;34m-\u001b[0m\u001b[0muk\u001b[0m\u001b[0;34m)\u001b[0m\u001b[0;34m\u001b[0m\u001b[0;34m\u001b[0m\u001b[0m\n",
      "\u001b[0;32m<ipython-input-19-cfa2f29ba8dc>\u001b[0m in \u001b[0;36mprox_F2_dual\u001b[0;34m(u, c)\u001b[0m\n\u001b[1;32m     14\u001b[0m     \u001b[0;32mreturn\u001b[0m \u001b[0mv\u001b[0m\u001b[0;34m\u001b[0m\u001b[0;34m\u001b[0m\u001b[0m\n\u001b[1;32m     15\u001b[0m \u001b[0;32mdef\u001b[0m \u001b[0mprox_F2_dual\u001b[0m\u001b[0;34m(\u001b[0m\u001b[0mu\u001b[0m\u001b[0;34m,\u001b[0m\u001b[0mc\u001b[0m\u001b[0;34m)\u001b[0m\u001b[0;34m:\u001b[0m\u001b[0;34m\u001b[0m\u001b[0;34m\u001b[0m\u001b[0m\n\u001b[0;32m---> 16\u001b[0;31m     \u001b[0;32mreturn\u001b[0m \u001b[0mu\u001b[0m\u001b[0;34m-\u001b[0m\u001b[0mc\u001b[0m\u001b[0;34m*\u001b[0m\u001b[0mprox_F2\u001b[0m\u001b[0;34m(\u001b[0m\u001b[0mu\u001b[0m\u001b[0;34m/\u001b[0m\u001b[0mc\u001b[0m\u001b[0;34m,\u001b[0m\u001b[0;36m1\u001b[0m\u001b[0;34m/\u001b[0m\u001b[0mc\u001b[0m\u001b[0;34m)\u001b[0m\u001b[0;34m\u001b[0m\u001b[0;34m\u001b[0m\u001b[0m\n\u001b[0m",
      "\u001b[0;32m<ipython-input-19-cfa2f29ba8dc>\u001b[0m in \u001b[0;36mprox_F2\u001b[0;34m(u, c)\u001b[0m\n\u001b[1;32m      5\u001b[0m     \u001b[0;32mfor\u001b[0m \u001b[0mi\u001b[0m \u001b[0;32min\u001b[0m \u001b[0mrange\u001b[0m\u001b[0;34m(\u001b[0m\u001b[0mn\u001b[0m\u001b[0;34m)\u001b[0m\u001b[0;34m:\u001b[0m\u001b[0;34m\u001b[0m\u001b[0;34m\u001b[0m\u001b[0m\n\u001b[1;32m      6\u001b[0m         \u001b[0;32mfor\u001b[0m \u001b[0mj\u001b[0m \u001b[0;32min\u001b[0m \u001b[0mrange\u001b[0m\u001b[0;34m(\u001b[0m\u001b[0mp\u001b[0m\u001b[0;34m)\u001b[0m\u001b[0;34m:\u001b[0m\u001b[0;34m\u001b[0m\u001b[0;34m\u001b[0m\u001b[0m\n\u001b[0;32m----> 7\u001b[0;31m             \u001b[0mmod_u\u001b[0m \u001b[0;34m=\u001b[0m \u001b[0mnp\u001b[0m\u001b[0;34m.\u001b[0m\u001b[0mlinalg\u001b[0m\u001b[0;34m.\u001b[0m\u001b[0mnorm\u001b[0m\u001b[0;34m(\u001b[0m\u001b[0;34m[\u001b[0m\u001b[0mu\u001b[0m\u001b[0;34m[\u001b[0m\u001b[0mk\u001b[0m\u001b[0;34m]\u001b[0m\u001b[0;34m[\u001b[0m\u001b[0mi\u001b[0m\u001b[0;34m]\u001b[0m\u001b[0;34m[\u001b[0m\u001b[0mj\u001b[0m\u001b[0;34m]\u001b[0m \u001b[0;32mfor\u001b[0m \u001b[0mk\u001b[0m \u001b[0;32min\u001b[0m \u001b[0mrange\u001b[0m\u001b[0;34m(\u001b[0m\u001b[0ml\u001b[0m\u001b[0;34m)\u001b[0m\u001b[0;34m]\u001b[0m\u001b[0;34m)\u001b[0m\u001b[0;34m\u001b[0m\u001b[0;34m\u001b[0m\u001b[0m\n\u001b[0m\u001b[1;32m      8\u001b[0m             \u001b[0;32mfor\u001b[0m \u001b[0mk\u001b[0m \u001b[0;32min\u001b[0m \u001b[0mrange\u001b[0m\u001b[0;34m(\u001b[0m\u001b[0ml\u001b[0m\u001b[0;34m)\u001b[0m\u001b[0;34m:\u001b[0m\u001b[0;34m\u001b[0m\u001b[0;34m\u001b[0m\u001b[0m\n\u001b[1;32m      9\u001b[0m                 \u001b[0;32mif\u001b[0m \u001b[0mmod_u\u001b[0m\u001b[0;34m>\u001b[0m\u001b[0mc\u001b[0m\u001b[0;34m*\u001b[0m\u001b[0mpn1\u001b[0m\u001b[0;34m+\u001b[0m\u001b[0mgamma\u001b[0m\u001b[0;34m:\u001b[0m\u001b[0;34m\u001b[0m\u001b[0;34m\u001b[0m\u001b[0m\n",
      "\u001b[0;32m~/anaconda3/lib/python3.7/site-packages/numpy/linalg/linalg.py\u001b[0m in \u001b[0;36mnorm\u001b[0;34m(x, ord, axis, keepdims)\u001b[0m\n\u001b[1;32m   2449\u001b[0m             \u001b[0;32melse\u001b[0m\u001b[0;34m:\u001b[0m\u001b[0;34m\u001b[0m\u001b[0;34m\u001b[0m\u001b[0m\n\u001b[1;32m   2450\u001b[0m                 \u001b[0msqnorm\u001b[0m \u001b[0;34m=\u001b[0m \u001b[0mdot\u001b[0m\u001b[0;34m(\u001b[0m\u001b[0mx\u001b[0m\u001b[0;34m,\u001b[0m \u001b[0mx\u001b[0m\u001b[0;34m)\u001b[0m\u001b[0;34m\u001b[0m\u001b[0;34m\u001b[0m\u001b[0m\n\u001b[0;32m-> 2451\u001b[0;31m             \u001b[0mret\u001b[0m \u001b[0;34m=\u001b[0m \u001b[0msqrt\u001b[0m\u001b[0;34m(\u001b[0m\u001b[0msqnorm\u001b[0m\u001b[0;34m)\u001b[0m\u001b[0;34m\u001b[0m\u001b[0;34m\u001b[0m\u001b[0m\n\u001b[0m\u001b[1;32m   2452\u001b[0m             \u001b[0;32mif\u001b[0m \u001b[0mkeepdims\u001b[0m\u001b[0;34m:\u001b[0m\u001b[0;34m\u001b[0m\u001b[0;34m\u001b[0m\u001b[0m\n\u001b[1;32m   2453\u001b[0m                 \u001b[0mret\u001b[0m \u001b[0;34m=\u001b[0m \u001b[0mret\u001b[0m\u001b[0;34m.\u001b[0m\u001b[0mreshape\u001b[0m\u001b[0;34m(\u001b[0m\u001b[0mndim\u001b[0m\u001b[0;34m*\u001b[0m\u001b[0;34m[\u001b[0m\u001b[0;36m1\u001b[0m\u001b[0;34m]\u001b[0m\u001b[0;34m)\u001b[0m\u001b[0;34m\u001b[0m\u001b[0;34m\u001b[0m\u001b[0m\n",
      "\u001b[0;31mKeyboardInterrupt\u001b[0m: "
     ]
    }
   ],
   "source": [
    "while n_iter<50 and norm>tol:\n",
    "    uk,vk,wk,uk_bar,norm = step(uk,vk,wk,uk_bar)\n",
    "    n_iter += 1\n",
    "    ssims.append(ssim(uk,u0_mat))\n",
    "    norms.append(norm)\n",
    "    energies.append(energynp(uk))\n",
    "    print(n_iter,\" iterations:\\nCost:\",energynp(uk),\"\\nssim:\",ssim(uk,u0_mat),\"\\nNorm:\",norm,\"\\n\")\n",
    "print(\"Final ssim after \",n_iter,\" iterations:\",ssim(uk,u0_mat))"
   ]
  },
  {
   "cell_type": "code",
   "execution_count": 219,
   "metadata": {},
   "outputs": [
    {
     "name": "stdout",
     "output_type": "stream",
     "text": [
      "0.6159663982549429\n"
     ]
    }
   ],
   "source": [
    "#Final image\n",
    "image_rec = pysap.Image(data=np.abs(uk))\n",
    "print(ssim(uk,u0_mat))\n",
    "image_rec.show()"
   ]
  },
  {
   "cell_type": "code",
   "execution_count": 217,
   "metadata": {},
   "outputs": [
    {
     "data": {
      "image/png": "[encoded data removed]",
      "text/plain": [
       "<Figure size 432x288 with 1 Axes>"
      ]
     },
     "metadata": {
      "needs_background": "light"
     },
     "output_type": "display_data"
    }
   ],
   "source": [
    "plt.plot(norms)\n",
    "plt.yscale(\"log\")"
   ]
  },
  {
   "cell_type": "code",
   "execution_count": 218,
   "metadata": {},
   "outputs": [
    {
     "data": {
      "text/plain": [
       "[<matplotlib.lines.Line2D at 0x7fa31413d518>]"
      ]
     },
     "execution_count": 218,
     "metadata": {},
     "output_type": "execute_result"
    },
    {
     "data": {
      "image/png": "[encoded data removed]",
      "text/plain": [
       "<Figure size 432x288 with 1 Axes>"
      ]
     },
     "metadata": {
      "needs_background": "light"
     },
     "output_type": "display_data"
    }
   ],
   "source": [
    "plt.plot(ssims)"
   ]
  },
  {
   "cell_type": "code",
   "execution_count": 121,
   "metadata": {},
   "outputs": [
    {
     "data": {
      "image/png": "[encoded data removed]",
      "text/plain": [
       "<Figure size 432x288 with 1 Axes>"
      ]
     },
     "metadata": {
      "needs_background": "light"
     },
     "output_type": "display_data"
    }
   ],
   "source": [
    "plt.plot(energies)\n",
    "plt.yscale(\"log\")"
   ]
  },
  {
   "cell_type": "code",
   "execution_count": 85,
   "metadata": {},
   "outputs": [
    {
     "name": "stderr",
     "output_type": "stream",
     "text": [
      "/home/guillaume/anaconda3/lib/python3.7/site-packages/ipykernel_launcher.py:7: ComplexWarning: Casting complex values to real discards the imaginary part\n",
      "  import sys\n",
      "/home/guillaume/anaconda3/lib/python3.7/site-packages/ipykernel_launcher.py:12: ComplexWarning: Casting complex values to real discards the imaginary part\n",
      "  if sys.path[0] == '':\n"
     ]
    },
    {
     "name": "stdout",
     "output_type": "stream",
     "text": [
      "0.00014136519254868008 0.001041337361450538\n"
     ]
    }
   ],
   "source": [
    "print(energynp(u0_mat),energynp(uk))"
   ]
  }
 ],
 "metadata": {
  "kernelspec": {
   "display_name": "Python 3",
   "language": "python",
   "name": "python3"
  },
  "language_info": {
   "codemirror_mode": {
    "name": "ipython",
    "version": 3
   },
   "file_extension": ".py",
   "mimetype": "text/x-python",
   "name": "python",
   "nbconvert_exporter": "python",
   "pygments_lexer": "ipython3",
   "version": "3.7.3"
  }
 },
 "nbformat": 4,
 "nbformat_minor": 2
}
