{
 "cells": [
  {
   "cell_type": "markdown",
   "metadata": {},
   "source": [
    "# Learning sampling pattern\n",
    "Second version of the full algorithm:\n",
    "- Several images possible\n",
    "- Learning points (cartesian shots soon)"
   ]
  },
  {
   "cell_type": "code",
   "execution_count": 1,
   "metadata": {
    "scrolled": true
   },
   "outputs": [
    {
     "name": "stdout",
     "output_type": "stream",
     "text": [
      "\n",
      "                 .|'''|       /.\\      '||'''|,\n",
      "                 ||          // \\\\      ||   ||\n",
      "'||''|, '||  ||` `|'''|,    //...\\\\     ||...|'\n",
      " ||  ||  `|..||   .   ||   //     \\\\    ||\n",
      " ||..|'      ||   |...|' .//       \\\\. .||\n",
      " ||       ,  |'\n",
      ".||        ''\n",
      "\n",
      "Package version: 0.0.3\n",
      "\n",
      "License: CeCILL-B\n",
      "\n",
      "Authors: \n",
      "\n",
      "Antoine Grigis <antoine.grigis@cea.fr>\n",
      "Samuel Farrens <samuel.farrens@cea.fr>\n",
      "Jean-Luc Starck <jl.stark@cea.fr>\n",
      "Philippe Ciuciu <philippe.ciuciu@cea.fr>\n",
      "\n",
      "Dependencies: \n",
      "\n",
      "scipy          : >=1.3.0   - required | 1.3.0     installed\n",
      "numpy          : >=1.16.4  - required | 1.16.4    installed\n",
      "matplotlib     : >=3.0.0   - required | 3.1.1     installed\n",
      "astropy        : >=3.0.0   - required | 3.2.1     installed\n",
      "nibabel        : >=2.3.2   - required | 2.5.1     installed\n",
      "pyqtgraph      : >=0.10.0  - required | 0.10.0    installed\n",
      "progressbar2   : >=3.34.3  - required | ?         installed\n",
      "modopt         : >=1.4.0   - required | 1.4.1     installed\n",
      "scikit-learn   : >=0.19.1  - required | ?         installed\n",
      "pywt           : >=1.0.0   - required | 1.0.3     installed\n",
      "pysparse       : >=0.0.1   - required | 0.1.0     installed\n",
      "\n"
     ]
    }
   ],
   "source": [
    "from mri.operators import NonCartesianFFT, WaveletUD2, WaveletN\n",
    "import pysap\n",
    "from pysap.data import get_sample_data\n",
    "from mri.operators.utils import convert_mask_to_locations, convert_locations_to_mask\n",
    "from modopt.math.metrics import ssim\n",
    "import matplotlib.pyplot as plt\n",
    "import numpy as np"
   ]
  },
  {
   "cell_type": "code",
   "execution_count": 2,
   "metadata": {},
   "outputs": [],
   "source": [
    "# Lower level imports\n",
    "from LowerLevel.prox import prox_G,prox_F1_dual,prox_F2_dual\n",
    "from LowerLevel.pdhg import pdhg\n",
    "from LowerLevel.cost_utils import *\n",
    "\n",
    "#Upper level imports\n",
    "from scipy.sparse.linalg import cg,LinearOperator\n",
    "import scipy\n",
    "import time\n",
    "from UpperLevel.L1norm import *\n",
    "from UpperLevel.hessians import *\n",
    "from scipy.optimize.lbfgsb import fmin_l_bfgs_b\n",
    "from scipy.stats import norm"
   ]
  },
  {
   "cell_type": "code",
   "execution_count": 3,
   "metadata": {},
   "outputs": [],
   "source": [
    "import nibabel as nib\n",
    "import h5py"
   ]
  },
  {
   "cell_type": "code",
   "execution_count": 4,
   "metadata": {},
   "outputs": [],
   "source": [
    "#Oasis image\n",
    "all_images = [ \"oasis_data/sub-OAS30001_ses-d0129_run-01_T1w.nii\"]\n",
    "              #,\"../oasis_data/sub-OAS30278_ses-d1325_run-02_T1w.nii\" ]\n",
    "im = nib.load(\"oasis_data/sub-OAS30001_ses-d0129_run-01_T1w.nii\")\n",
    "im = im.get_fdata()\n",
    "\n",
    "n = 70\n",
    "Nimages = 2\n",
    "images = [(1+0j)*im[ 30:30+n, 30:30+n, i ]for i in range(124,124+Nimages)]"
   ]
  },
  {
   "cell_type": "code",
   "execution_count": 5,
   "metadata": {},
   "outputs": [
    {
     "name": "stderr",
     "output_type": "stream",
     "text": [
      "/home/guillaume/temp/pysap-mri/mri/operators/fourier/utils.py:78: FutureWarning: Using a non-tuple sequence for multidimensional indexing is deprecated; use `arr[tuple(seq)]` instead of `arr[seq]`. In the future this will be interpreted as an array index, `arr[np.array(seq)]`, which will result either in an error or a different result.\n",
      "  mask[test] = 1\n"
     ]
    }
   ],
   "source": [
    "x = np.linspace(0,n,n,endpoint=False)/n-0.5\n",
    "y = np.linspace(0,n,n,endpoint=False)/n-0.5\n",
    "X,Y = np.meshgrid(x,y)\n",
    "kspace_loc = np.stack([X.flatten('F'),Y.flatten('F')],axis=1)\n",
    "\n",
    "m = convert_locations_to_mask(kspace_loc,(n,n))\n",
    "fourier_op = NonCartesianFFT(samples=kspace_loc, shape=(n,n),implementation='cpu')"
   ]
  },
  {
   "cell_type": "markdown",
   "metadata": {},
   "source": [
    "### Creation of cartesian mask"
   ]
  },
  {
   "cell_type": "code",
   "execution_count": 6,
   "metadata": {},
   "outputs": [],
   "source": [
    "x = np.linspace( -0.5, 0.5, n, endpoint = False )\n",
    "p = np.array([norm.pdf(u,loc=0,scale=0.15) for u in x])\n",
    "p /= np.sum(p)\n",
    "y_sampled = np.random.choice( x, size=int(0.7*n), p=p, replace=False)#, p=p"
   ]
  },
  {
   "cell_type": "code",
   "execution_count": 7,
   "metadata": {},
   "outputs": [],
   "source": [
    "cartesian_p = np.zeros(n**2+1)\n",
    "cartesian_p[-1] = 5\n",
    "for y in y_sampled:\n",
    "    j=int((y+0.5)*n)\n",
    "    cartesian_p[j*n:(j+1)*n] = np.ones((n,))\n",
    "pysap.Image(data=np.reshape(cartesian_p[:-1],(n,n))).show()"
   ]
  },
  {
   "cell_type": "code",
   "execution_count": 8,
   "metadata": {},
   "outputs": [],
   "source": [
    "#Wavelet\n",
    "linear_op = WaveletN(wavelet_name=\"sym8\",nb_scale=1,padding_mode = \"periodization\")\n",
    "#linear_op = WaveletUD2(wavelet_id=24,nb_scale=3)\n",
    "\n",
    "#param = {\"pn1\":p[-1],\"epsilon\":1e0,\"gamma\":1e-10}\n",
    "param = {\"epsilon\":1e-7,\"gamma\":1e-10}\n",
    "kspace_data = [(1+0j)*fourier_op.op(u0_mat)+0.1*np.mean(u0_mat)*np.random.randn(2*n*n).view(np.complex128) \n",
    "               for u0_mat in images]"
   ]
  },
  {
   "cell_type": "code",
   "execution_count": 9,
   "metadata": {
    "scrolled": true
   },
   "outputs": [
    {
     "name": "stdout",
     "output_type": "stream",
     "text": [
      "0.882133839323623\n"
     ]
    }
   ],
   "source": [
    "print(ssim(fourier_op.adj_op(cartesian_p[:-1]*kspace_data[-1]),images[-1]))\n",
    "pysap.Image(data=np.abs(fourier_op.adj_op(cartesian_p[:-1]*kspace_data[-1]))).show()"
   ]
  },
  {
   "cell_type": "markdown",
   "metadata": {},
   "source": [
    "## Loss function and penalty"
   ]
  },
  {
   "cell_type": "code",
   "execution_count": 10,
   "metadata": {},
   "outputs": [],
   "source": [
    "c = 1e-6\n",
    "def L(u,u2):return c/2 * np.linalg.norm(u.flatten()-u2.flatten())**2\n",
    "def Du_L(u,u2):return c*(u-u2)\n",
    "\n",
    "\n",
    "beta = 1e2*c\n",
    "def P(p):return beta*np.sum(p[:-1]*(2-p[:-1]))\n",
    "def grad_P(p):\n",
    "    Dp = np.zeros(n**2+1)\n",
    "    Dp[:-1] = 2*beta*(1-p[:-1])\n",
    "    return Dp"
   ]
  },
  {
   "cell_type": "code",
   "execution_count": 11,
   "metadata": {},
   "outputs": [
    {
     "name": "stdout",
     "output_type": "stream",
     "text": [
      "Sigma: 0.00022360679774997898 \n",
      "Tau: 2236.06797749979\n"
     ]
    },
    {
     "name": "stderr",
     "output_type": "stream",
     "text": [
      "/home/guillaume/pysap-mri/Learning Sampling Pattern/LowerLevel/prox.py:17: RuntimeWarning: invalid value encountered in sqrt\n",
      "  x/np.abs(x)*(gamma+gamma**2/2/c-gamma/c*np.sqrt((c+0.5*gamma)**2-c*np.abs(x))))\n"
     ]
    },
    {
     "name": "stdout",
     "output_type": "stream",
     "text": [
      "Finished in 0.7358455657958984 seconds.\n",
      "\n",
      "L(u(p))=25.417663441213808\n",
      "P(p)=0.294\n"
     ]
    }
   ],
   "source": [
    "uk,norms,energy = pdhg(kspace_data[0] , cartesian_p ,\n",
    "                             fourier_op = fourier_op,\n",
    "                             linear_op = linear_op,\n",
    "                             param = param,\n",
    "                             maxit=50,\n",
    "                             compute_energy = True,\n",
    "                             verbose=0)\n",
    "print(f\"\\nL(u(p))={L(uk,images[0])}\\nP(p)={P(cartesian_p)}\")"
   ]
  },
  {
   "cell_type": "markdown",
   "metadata": {},
   "source": [
    "# Upper level energy"
   ]
  },
  {
   "cell_type": "code",
   "execution_count": 12,
   "metadata": {},
   "outputs": [],
   "source": [
    "def E(pk,**kwargs):\n",
    "    # Getting parameters\n",
    "    images = kwargs.get(\"images\",None)       \n",
    "    kspace_data = kwargs.get(\"kspace_data\",None)\n",
    "    verbose = kwargs.get(\"verbose\",0)\n",
    "    if verbose>=0:print(\"\\n\\nEVALUATING E(p)\")\n",
    "    \n",
    "    if images is None or len(images)<1:raise ValueError(\"At least one image is needed\")\n",
    "    if len(images)!=len(kspace_data):raise ValueError(\"Need as many images and kspace data\")\n",
    "\n",
    "    #Computing E(p)\n",
    "    Nimages = len(images)\n",
    "    Ep = P(pk)\n",
    "    param[\"pn1\"]=pk[-1]\n",
    "    for i in range(Nimages):\n",
    "        if verbose>=0:print(f\"\\nImage {i+1}:\")\n",
    "        u0_mat,y = images[i],kspace_data[i]\n",
    "        if verbose>0:print(\"\\nStarting PDHG\")\n",
    "        uk,_ = pdhg(y , pk , fourier_op = fourier_op , linear_op = linear_op , param = param,\n",
    "                    maxit = 50 , verbose = verbose)\n",
    "        Ep += L(uk,u0_mat)/Nimages\n",
    "    \n",
    "    return Ep"
   ]
  },
  {
   "cell_type": "code",
   "execution_count": 13,
   "metadata": {},
   "outputs": [
    {
     "name": "stdout",
     "output_type": "stream",
     "text": [
      "\n",
      "\n",
      "EVALUATING E(p)\n",
      "\n",
      "Image 1:\n",
      "Sigma: 0.00022360679774997898 \n",
      "Tau: 2236.06797749979\n",
      "Finished in 0.44196367263793945 seconds.\n",
      "\n",
      "Image 2:\n",
      "Sigma: 0.00022360679774997898 \n",
      "Tau: 2236.06797749979\n",
      "Finished in 0.4294149875640869 seconds.\n"
     ]
    },
    {
     "data": {
      "text/plain": [
       "25.540447139065552"
      ]
     },
     "execution_count": 13,
     "metadata": {},
     "output_type": "execute_result"
    }
   ],
   "source": [
    "E(cartesian_p,images = images, kspace_data = kspace_data)"
   ]
  },
  {
   "cell_type": "code",
   "execution_count": 14,
   "metadata": {},
   "outputs": [],
   "source": [
    "# -- Compute grad_L for one image --\n",
    "# ----------------------------------\n",
    "def grad_L(pk,**kwargs):\n",
    "    # -- Getting parameters\n",
    "    max_cgiter = kwargs.get(\"max_cgiter\",3000)\n",
    "    cgtol = kwargs.get(\"cgtol\",1e-6)\n",
    "    compute_conv = kwargs.get(\"compute_conv\",False)\n",
    "    u0_mat = kwargs.get(\"u0_mat\",None)\n",
    "    y = kwargs.get(\"y\",None)\n",
    "    verbose = kwargs.get(\"verbose\",0)\n",
    "    cg_conv = []\n",
    "    \n",
    "    if u0_mat is None:raise ValueError(\"A ground truth image u0_mat is needed\")\n",
    "    if y is None:raise ValueError(\"kspace data y are needed\")\n",
    "    \n",
    "    \n",
    "    # -- Compute uk from pk with lower level solver if not given\n",
    "    if verbose>=0:print(\"\\nStarting PDHG\")\n",
    "    param[\"pn1\"]=pk[-1]\n",
    "    uk,_ = pdhg(y , pk , fourier_op = fourier_op , linear_op = linear_op , param = param,\n",
    "                    maxit = 50 , verbose = verbose)\n",
    "    \n",
    "    # -- Defining linear operator from pk and uk\n",
    "    def mv(w):\n",
    "        w_complex = np.reshape( w[:n**2]+1j*w[n**2:] , (n,n) )\n",
    "        fx = np.reshape(Du2_Etot( uk , pk , w_complex ,\n",
    "                                   eps=param[\"epsilon\"],\n",
    "                                   fourier_op=fourier_op,\n",
    "                                   y=y,\n",
    "                                   linear_op=linear_op,\n",
    "                                   gamma=param[\"gamma\"]),(n**2,))\n",
    "        return np.concatenate([np.real(fx),np.imag(fx)])\n",
    "    lin = LinearOperator((2*n**2,2*n**2),matvec=mv)\n",
    "\n",
    "\n",
    "    if verbose>=0:print(\"\\nStarting Conjugate Gradient method\")\n",
    "    t1=time.time()\n",
    "    B = np.reshape(Du_L(uk,u0_mat),(n**2,))\n",
    "    B_real = np.concatenate([np.real(B),np.imag(B)])\n",
    "    def cgcall(x):\n",
    "        #CG callback function to plot convergence\n",
    "        if compute_conv:cg_conv.append(np.linalg.norm(lin(x)-B_real)/np.linalg.norm(B_real))\n",
    "    \n",
    "    x_inter,convergence = scipy.sparse.linalg.cg(lin,B_real,tol=cgtol,maxiter=max_cgiter,callback=cgcall)\n",
    "    if verbose>=0:print(f\"Finished in {time.time()-t1}s - ||Ax-b||/||b||: {np.linalg.norm(lin(x_inter)-B_real)/np.linalg.norm(B_real)}\")\n",
    "\n",
    "    \n",
    "    # -- Plotting\n",
    "    if compute_conv:\n",
    "        plt.plot(cg_conv)\n",
    "        plt.yscale(\"log\")\n",
    "        plt.title(\"Convergence of the conjugate gradient\")\n",
    "        plt.xlabel(\"Number of iterations\")\n",
    "        plt.ylabel(\"||Ax-b||/||b||\")\n",
    "        #plt.savefig(\"Upper Level/CG_conv.png\")\n",
    "    \n",
    "    \n",
    "    if np.linalg.norm(lin(x_inter)-B_real)/np.linalg.norm(B_real)>1e-3: return np.zeros(pk.shape)\n",
    "    else: return -Dpu_Etot(uk,pk,np.reshape( x_inter[:n**2]+1j*x_inter[n**2:] , (n,n) ),\n",
    "                               eps=param[\"epsilon\"],\n",
    "                               fourier_op=fourier_op,\n",
    "                               y=y,\n",
    "                               linear_op=linear_op,\n",
    "                               gamma=param[\"gamma\"])"
   ]
  },
  {
   "cell_type": "code",
   "execution_count": 15,
   "metadata": {},
   "outputs": [],
   "source": [
    "def grad_E(pk,**kwargs):\n",
    "    # Getting parameters\n",
    "    images = kwargs.get(\"images\",None)       \n",
    "    kspace_data = kwargs.get(\"kspace_data\",None)\n",
    "    verbose = kwargs.get(\"verbose\",0)\n",
    "    if verbose>=0:print(\"\\n\\nEVALUATING GRAD_E(p)\")\n",
    "    \n",
    "    if images is None or len(images)<1:raise ValueError(\"At least one image is needed\")\n",
    "    if len(images)!=len(kspace_data):raise ValueError(\"Need as many images and kspace data\")\n",
    "        \n",
    "    #Computing gradient\n",
    "    Nimages = len(images)\n",
    "    gEp = np.zeros(pk.shape)\n",
    "    for i in range(Nimages):\n",
    "        if verbose>=0:print(f\"\\nImage {i+1}:\")\n",
    "        gEp += grad_L(pk,u0_mat=images[i],y=kspace_data[i],**kwargs)\n",
    "    \n",
    "    #If gEp=0, CG didn't converge, so don't change pk so that L-BFGS stops\n",
    "    if np.all(gEp == np.zeros(pk.shape)):return gEp\n",
    "    else: return gEp+grad_P(pk)"
   ]
  },
  {
   "cell_type": "code",
   "execution_count": 16,
   "metadata": {
    "scrolled": true
   },
   "outputs": [
    {
     "name": "stdout",
     "output_type": "stream",
     "text": [
      "1.0\n",
      "\n",
      "\n",
      "EVALUATING GRAD_E(p)\n",
      "\n",
      "Image 1:\n",
      "\n",
      "Starting PDHG\n",
      "Sigma: 33.73416851369791 \n",
      "Tau: 0.014821767425421285\n",
      "Finished in 0.5146474838256836 seconds.\n",
      "\n",
      "Starting Conjugate Gradient method\n",
      "Finished in 9.507558822631836s - ||Ax-b||/||b||: 9.978150679307731e-09\n",
      "\n",
      "Image 2:\n",
      "\n",
      "Starting PDHG\n",
      "Sigma: 33.73416851369791 \n",
      "Tau: 0.014821767425421285\n",
      "Finished in 0.4242527484893799 seconds.\n",
      "\n",
      "Starting Conjugate Gradient method\n",
      "Finished in 10.601947784423828s - ||Ax-b||/||b||: 9.669067711482275e-09\n"
     ]
    },
    {
     "data": {
      "image/png": "[encoded data removed]",
      "text/plain": [
       "<Figure size 432x288 with 1 Axes>"
      ]
     },
     "metadata": {
      "needs_background": "light"
     },
     "output_type": "display_data"
    }
   ],
   "source": [
    "#Checking if conjugate gradient converges\n",
    "p = np.random.rand(n**2+1)\n",
    "\n",
    "p[-1]=1e0\n",
    "print( p[ -1 ] )\n",
    "gP = grad_E(p,images=images,kspace_data=kspace_data,max_cgiter=5000,cgtol=1e-8, compute_conv = True)"
   ]
  },
  {
   "cell_type": "code",
   "execution_count": 17,
   "metadata": {
    "scrolled": true
   },
   "outputs": [
    {
     "name": "stdout",
     "output_type": "stream",
     "text": [
      "\n",
      "\n",
      "EVALUATING E(p)\n",
      "\n",
      "Image 1:\n",
      "Sigma: 9.833789700105845 \n",
      "Tau: 0.050845097896960144\n",
      "Finished in 0.4370148181915283 seconds.\n",
      "\n",
      "Image 2:\n",
      "Sigma: 9.833789700105845 \n",
      "Tau: 0.050845097896960144\n",
      "Finished in 0.42360711097717285 seconds.\n",
      "\n",
      "\n",
      "EVALUATING GRAD_E(p)\n",
      "\n",
      "Image 1:\n",
      "\n",
      "Starting PDHG\n",
      "Sigma: 9.833789700105845 \n",
      "Tau: 0.050845097896960144\n",
      "Finished in 0.4467427730560303 seconds.\n",
      "\n",
      "Starting Conjugate Gradient method\n",
      "Finished in 9.049605131149292s - ||Ax-b||/||b||: 8.438848006680536e-07\n",
      "\n",
      "Image 2:\n",
      "\n",
      "Starting PDHG\n",
      "Sigma: 9.833789700105845 \n",
      "Tau: 0.050845097896960144\n",
      "Finished in 0.5477936267852783 seconds.\n",
      "\n",
      "Starting Conjugate Gradient method\n",
      "Finished in 14.835201740264893s - ||Ax-b||/||b||: 9.977105213826382e-07\n",
      "\n",
      "\n",
      "EVALUATING E(p)\n",
      "\n",
      "Image 1:\n",
      "Sigma: 9.833789707621207 \n",
      "Tau: 0.05084509785810236\n",
      "Finished in 0.3996281623840332 seconds.\n",
      "\n",
      "Image 2:\n",
      "Sigma: 9.833789707621207 \n",
      "Tau: 0.05084509785810236\n",
      "Finished in 0.3973567485809326 seconds.\n",
      "\n",
      "\n",
      "EVALUATING E(p)\n",
      "\n",
      "Image 1:\n",
      "Sigma: 9.83378971673145 \n",
      "Tau: 0.05084509781099832\n",
      "Finished in 0.40035486221313477 seconds.\n",
      "\n",
      "Image 2:\n",
      "Sigma: 9.83378971673145 \n",
      "Tau: 0.05084509781099832\n",
      "Finished in 0.4053826332092285 seconds.\n",
      "\n",
      "\n",
      "EVALUATING E(p)\n",
      "\n",
      "Image 1:\n",
      "Sigma: 9.83378973688528 \n",
      "Tau: 0.05084509770679399\n",
      "Finished in 0.4067556858062744 seconds.\n",
      "\n",
      "Image 2:\n",
      "Sigma: 9.83378973688528 \n",
      "Tau: 0.05084509770679399\n",
      "Finished in 0.399111270904541 seconds.\n",
      "\n",
      "\n",
      "EVALUATING E(p)\n",
      "\n",
      "Image 1:\n",
      "Sigma: 9.83378978146991 \n",
      "Tau: 0.05084509747627148\n",
      "Finished in 0.40059447288513184 seconds.\n",
      "\n",
      "Image 2:\n",
      "Sigma: 9.83378978146991 \n",
      "Tau: 0.05084509747627148\n",
      "Finished in 0.4025712013244629 seconds.\n",
      "\n",
      "\n",
      "EVALUATING E(p)\n",
      "\n",
      "Image 1:\n",
      "Sigma: 9.833789880100754 \n",
      "Tau: 0.05084509696630584\n",
      "Finished in 0.4199094772338867 seconds.\n",
      "\n",
      "Image 2:\n",
      "Sigma: 9.833789880100754 \n",
      "Tau: 0.05084509696630584\n",
      "Finished in 0.39888668060302734 seconds.\n",
      "\n",
      "\n",
      "EVALUATING E(p)\n",
      "\n",
      "Image 1:\n",
      "Sigma: 9.833790098293514 \n",
      "Tau: 0.05084509583815161\n",
      "Finished in 0.39853858947753906 seconds.\n",
      "\n",
      "Image 2:\n",
      "Sigma: 9.833790098293514 \n",
      "Tau: 0.05084509583815161\n",
      "Finished in 0.3980536460876465 seconds.\n",
      "\n",
      "\n",
      "EVALUATING E(p)\n",
      "\n",
      "Image 1:\n",
      "Sigma: 9.83379058098307 \n",
      "Tau: 0.050845093342430696\n",
      "Finished in 0.39853501319885254 seconds.\n",
      "\n",
      "Image 2:\n",
      "Sigma: 9.83379058098307 \n",
      "Tau: 0.050845093342430696\n",
      "Finished in 0.4024803638458252 seconds.\n",
      "\n",
      "\n",
      "EVALUATING E(p)\n",
      "\n",
      "Image 1:\n",
      "Sigma: 9.83379164879669 \n",
      "Tau: 0.05084508782135753\n",
      "Finished in 0.4002413749694824 seconds.\n",
      "\n",
      "Image 2:\n",
      "Sigma: 9.83379164879669 \n",
      "Tau: 0.05084508782135753\n",
      "Finished in 0.40014123916625977 seconds.\n",
      "\n",
      "\n",
      "EVALUATING E(p)\n",
      "\n",
      "Image 1:\n",
      "Sigma: 9.833794011030962 \n",
      "Tau: 0.05084507560755594\n",
      "Finished in 0.39805030822753906 seconds.\n",
      "\n",
      "Image 2:\n",
      "Sigma: 9.833794011030962 \n",
      "Tau: 0.05084507560755594\n",
      "Finished in 0.40791797637939453 seconds.\n",
      "\n",
      "\n",
      "EVALUATING E(p)\n",
      "\n",
      "Image 1:\n",
      "Sigma: 9.833799236802085 \n",
      "Tau: 0.05084504858801634\n",
      "Finished in 0.3991725444793701 seconds.\n",
      "\n",
      "Image 2:\n",
      "Sigma: 9.833799236802085 \n",
      "Tau: 0.05084504858801634\n",
      "Finished in 0.4039778709411621 seconds.\n",
      "\n",
      "\n",
      "EVALUATING E(p)\n",
      "\n",
      "Image 1:\n",
      "Sigma: 9.833810797328228 \n",
      "Tau: 0.05084498881510372\n",
      "Finished in 0.406583309173584 seconds.\n",
      "\n",
      "Image 2:\n",
      "Sigma: 9.833810797328228 \n",
      "Tau: 0.05084498881510372\n",
      "Finished in 0.41672492027282715 seconds.\n",
      "\n",
      "\n",
      "EVALUATING E(p)\n",
      "\n",
      "Image 1:\n",
      "Sigma: 9.83383637166421 \n",
      "Tau: 0.05084485658524166\n",
      "Finished in 0.44269299507141113 seconds.\n",
      "\n",
      "Image 2:\n",
      "Sigma: 9.83383637166421 \n",
      "Tau: 0.05084485658524166\n",
      "Finished in 0.5020570755004883 seconds.\n",
      "\n",
      "\n",
      "EVALUATING E(p)\n",
      "\n",
      "Image 1:\n",
      "Sigma: 9.83389294739059 \n",
      "Tau: 0.050844564067852135\n",
      "Finished in 0.40760374069213867 seconds.\n",
      "\n",
      "Image 2:\n",
      "Sigma: 9.83389294739059 \n",
      "Tau: 0.050844564067852135\n",
      "Finished in 0.47684669494628906 seconds.\n",
      "\n",
      "\n",
      "EVALUATING E(p)\n",
      "\n",
      "Image 1:\n",
      "Sigma: 9.834018103977703 \n",
      "Tau: 0.050843916974055395\n",
      "Finished in 0.4099557399749756 seconds.\n",
      "\n",
      "Image 2:\n",
      "Sigma: 9.834018103977703 \n",
      "Tau: 0.050843916974055395\n",
      "Finished in 0.4942777156829834 seconds.\n",
      "\n",
      "\n",
      "EVALUATING E(p)\n",
      "\n",
      "Image 1:\n",
      "Sigma: 9.8342949717593 \n",
      "Tau: 0.05084248555039556\n",
      "Finished in 0.47921109199523926 seconds.\n",
      "\n",
      "Image 2:\n",
      "Sigma: 9.8342949717593 \n",
      "Tau: 0.05084248555039556\n",
      "Finished in 0.45519018173217773 seconds.\n",
      "\n",
      "\n",
      "EVALUATING E(p)\n",
      "\n",
      "Image 1:\n",
      "Sigma: 9.834907435482782 \n",
      "Tau: 0.050839319361164446\n",
      "Finished in 0.4214484691619873 seconds.\n",
      "\n",
      "Image 2:\n",
      "Sigma: 9.834907435482782 \n",
      "Tau: 0.050839319361164446\n",
      "Finished in 0.4271836280822754 seconds.\n",
      "\n",
      "\n",
      "EVALUATING E(p)\n",
      "\n",
      "Image 1:\n",
      "Sigma: 9.836262202211516 \n",
      "Tau: 0.05083231716694004\n",
      "Finished in 0.4346010684967041 seconds.\n",
      "\n",
      "Image 2:\n",
      "Sigma: 9.836262202211516 \n",
      "Tau: 0.05083231716694004\n",
      "Finished in 0.45792293548583984 seconds.\n",
      "\n",
      "\n",
      "EVALUATING E(p)\n",
      "\n",
      "Image 1:\n",
      "Sigma: 9.839258576459986 \n",
      "Tau: 0.050816837073092994\n",
      "Finished in 0.4206099510192871 seconds.\n",
      "\n",
      "Image 2:\n",
      "Sigma: 9.839258576459986 \n",
      "Tau: 0.050816837073092994\n",
      "Finished in 0.46900463104248047 seconds.\n",
      "\n",
      "\n",
      "EVALUATING E(p)\n",
      "\n",
      "Image 1:\n",
      "Sigma: 9.845883964426223 \n",
      "Tau: 0.05078264194525656\n",
      "Finished in 0.4326326847076416 seconds.\n",
      "\n",
      "Image 2:\n",
      "Sigma: 9.845883964426223 \n",
      "Tau: 0.05078264194525656\n",
      "Finished in 0.5571117401123047 seconds.\n",
      "\n",
      "\n",
      "EVALUATING E(p)\n",
      "\n",
      "Image 1:\n",
      "Sigma: 9.860524938601538 \n",
      "Tau: 0.05070723953474551\n",
      "Finished in 0.5499725341796875 seconds.\n",
      "\n",
      "Image 2:\n",
      "Sigma: 9.860524938601538 \n",
      "Tau: 0.05070723953474551\n",
      "Finished in 0.4143226146697998 seconds.\n",
      "\n",
      "\n",
      "EVALUATING E(p)\n",
      "\n",
      "Image 1:\n",
      "Sigma: 9.892836952767007 \n",
      "Tau: 0.050541619394641996\n",
      "Finished in 0.41748571395874023 seconds.\n",
      "\n",
      "Image 2:\n",
      "Sigma: 9.892836952767007 \n",
      "Tau: 0.050541619394641996\n",
      "Finished in 0.4072284698486328 seconds.\n",
      "\n",
      "\n",
      "EVALUATING E(p)\n",
      "\n",
      "Image 1:\n",
      "Sigma: 9.963945818679996 \n",
      "Tau: 0.05018092321042339\n",
      "Finished in 0.4052610397338867 seconds.\n",
      "\n",
      "Image 2:\n",
      "Sigma: 9.963945818679996 \n",
      "Tau: 0.05018092321042339\n",
      "Finished in 0.40447068214416504 seconds.\n",
      "\n",
      "\n",
      "EVALUATING E(p)\n",
      "\n",
      "Image 1:\n",
      "Sigma: 10.119478784334905 \n",
      "Tau: 0.04940965939609528\n",
      "Finished in 0.40215611457824707 seconds.\n",
      "\n",
      "Image 2:\n",
      "Sigma: 10.119478784334905 \n",
      "Tau: 0.04940965939609528\n",
      "Finished in 0.3998374938964844 seconds.\n",
      "\n",
      "\n",
      "EVALUATING E(p)\n",
      "\n",
      "Image 1:\n",
      "Sigma: 10.455333863238014 \n",
      "Tau: 0.04782248051954126\n",
      "Finished in 0.4428114891052246 seconds.\n",
      "\n",
      "Image 2:\n",
      "Sigma: 10.455333863238014 \n",
      "Tau: 0.04782248051954126\n",
      "Finished in 0.4018700122833252 seconds.\n",
      "\n",
      "\n",
      "EVALUATING E(p)\n",
      "\n",
      "Image 1:\n",
      "Sigma: 11.162471248605026 \n",
      "Tau: 0.04479294852047077\n",
      "Finished in 0.4009225368499756 seconds.\n",
      "\n",
      "Image 2:\n",
      "Sigma: 11.162471248605026 \n",
      "Tau: 0.04479294852047077\n",
      "Finished in 0.40543627738952637 seconds.\n",
      "\n",
      "\n",
      "EVALUATING E(p)\n",
      "\n",
      "Image 1:\n",
      "Sigma: 12.586436345073702 \n",
      "Tau: 0.03972530319876434\n",
      "Finished in 0.41739535331726074 seconds.\n",
      "\n",
      "Image 2:\n",
      "Sigma: 12.586436345073702 \n",
      "Tau: 0.03972530319876434\n",
      "Finished in 0.4005427360534668 seconds.\n",
      "\n",
      "\n",
      "EVALUATING E(p)\n",
      "\n",
      "Image 1:\n",
      "Sigma: 15.271878070054367 \n",
      "Tau: 0.03273991566108805\n",
      "Finished in 0.4010453224182129 seconds.\n",
      "\n",
      "Image 2:\n",
      "Sigma: 15.271878070054367 \n",
      "Tau: 0.03273991566108805\n",
      "Finished in 0.4020700454711914 seconds.\n",
      "\n",
      "\n",
      "EVALUATING E(p)\n",
      "\n",
      "Image 1:\n",
      "Sigma: 19.968232753722777 \n",
      "Tau: 0.025039772230558685\n",
      "Finished in 0.4042022228240967 seconds.\n",
      "\n",
      "Image 2:\n",
      "Sigma: 19.968232753722777 \n",
      "Tau: 0.025039772230558685\n",
      "Finished in 0.4086124897003174 seconds.\n",
      "\n",
      "\n",
      "EVALUATING E(p)\n",
      "\n",
      "Image 1:\n",
      "Sigma: 27.655962235124772 \n",
      "Tau: 0.018079284161191443\n",
      "Finished in 0.4014425277709961 seconds.\n",
      "\n",
      "Image 2:\n",
      "Sigma: 27.655962235124772 \n",
      "Tau: 0.018079284161191443\n",
      "Finished in 0.4018254280090332 seconds.\n",
      "\n",
      "\n",
      "EVALUATING E(p)\n",
      "\n",
      "Image 1:\n",
      "Sigma: 39.683663394964256 \n",
      "Tau: 0.0125996432089344\n",
      "Finished in 0.4059934616088867 seconds.\n",
      "\n",
      "Image 2:\n",
      "Sigma: 39.683663394964256 \n",
      "Tau: 0.0125996432089344\n",
      "Finished in 0.40134406089782715 seconds.\n"
     ]
    }
   ],
   "source": [
    "# Checking gradE\n",
    "ptest = np.random.rand(n**2+1)\n",
    "ptest[-1]=1e0\n",
    "\n",
    "param[\"pn1\"] = ptest[-1]\n",
    "Eptest,gradEptest = E(ptest,images=images,kspace_data=kspace_data),grad_E(ptest,images=images,kspace_data=kspace_data)\n",
    "\n",
    "p1 = np.random.rand(n**2+1)\n",
    "tests = np.logspace(-10,0,30)\n",
    "real_values = np.array([E(ptest+t*p1,images=images,kspace_data=kspace_data) for t in tests])\n",
    "approx = np.array([Eptest+np.sum(gradEptest*t*p1) for t in tests])"
   ]
  },
  {
   "cell_type": "code",
   "execution_count": 18,
   "metadata": {
    "scrolled": true
   },
   "outputs": [
    {
     "name": "stdout",
     "output_type": "stream",
     "text": [
      "6.113617568624617\n"
     ]
    },
    {
     "data": {
      "image/png": "[encoded data removed]",
      "text/plain": [
       "<Figure size 432x288 with 1 Axes>"
      ]
     },
     "metadata": {
      "needs_background": "light"
     },
     "output_type": "display_data"
    }
   ],
   "source": [
    "print(Eptest)\n",
    "plt.plot(tests,abs((real_values-approx))/tests)\n",
    "plt.xscale(\"log\")\n",
    "plt.yscale(\"log\")"
   ]
  },
  {
   "cell_type": "markdown",
   "metadata": {},
   "source": [
    "# L-BFGS-B"
   ]
  },
  {
   "cell_type": "code",
   "execution_count": 19,
   "metadata": {
    "scrolled": true
   },
   "outputs": [
    {
     "name": "stdout",
     "output_type": "stream",
     "text": [
      "\n",
      "\n",
      "EVALUATING E(p)\n",
      "\n",
      "Image 1:\n",
      "Sigma: 37.7792908201617 \n",
      "Tau: 0.013234764050498395\n",
      "Finished in 0.45521974563598633 seconds.\n",
      "\n",
      "Image 2:\n",
      "Sigma: 37.7792908201617 \n",
      "Tau: 0.013234764050498395\n",
      "Finished in 0.43021249771118164 seconds.\n"
     ]
    }
   ],
   "source": [
    "p0 = np.random.rand(n**2+1)\n",
    "p0[-1] = 5\n",
    "param[\"epsilon\"] = 1e-7\n",
    "\n",
    "# Callback function\n",
    "niter = 0\n",
    "energy_upper = [E(p0,images=images,kspace_data=kspace_data)]\n",
    "alphas = [p0[-1]]\n",
    "def fcall(x):\n",
    "    global uk,niter\n",
    "    niter += 1\n",
    "    Ep = E(x,images=images,kspace_data=kspace_data, verbose=-1)\n",
    "    energy_upper.append(Ep)\n",
    "    alphas.append(x[-1])\n",
    "    print(\"\\033[1m\" + f\"\\n{niter} iterations: E(p)={Ep}, alpha={x[-1]}\\n\\n\" + \"\\033[0m\")"
   ]
  },
  {
   "cell_type": "code",
   "execution_count": 20,
   "metadata": {
    "scrolled": true
   },
   "outputs": [
    {
     "name": "stdout",
     "output_type": "stream",
     "text": [
      "\u001b[1m\n",
      "1 iterations: E(p)=57.05963053815772, alpha=0.8570740671057782\n",
      "\n",
      "\u001b[0m\n",
      "\u001b[1m\n",
      "2 iterations: E(p)=37.001926901250755, alpha=0.7144733918579398\n",
      "\n",
      "\u001b[0m\n",
      "\u001b[1m\n",
      "3 iterations: E(p)=27.680898847535097, alpha=0.6340063780311347\n",
      "\n",
      "\u001b[0m\n",
      "\u001b[1m\n",
      "4 iterations: E(p)=18.21901769298552, alpha=0.534626236740231\n",
      "\n",
      "\u001b[0m\n",
      "\u001b[1m\n",
      "5 iterations: E(p)=12.65643566199827, alpha=0.4668665262935927\n",
      "\n",
      "\u001b[0m\n",
      "\u001b[1m\n",
      "6 iterations: E(p)=8.808717584246754, alpha=0.42650496593227516\n",
      "\n",
      "\u001b[0m\n",
      "\u001b[1m\n",
      "7 iterations: E(p)=6.325884856599238, alpha=0.42784720028526785\n",
      "\n",
      "\u001b[0m\n",
      "\u001b[1m\n",
      "8 iterations: E(p)=4.885170873616278, alpha=0.4789531854005739\n",
      "\n",
      "\u001b[0m\n",
      "\u001b[1m\n",
      "9 iterations: E(p)=4.098825792788191, alpha=0.5319073822170329\n",
      "\n",
      "\u001b[0m\n",
      "\u001b[1m\n",
      "10 iterations: E(p)=3.2771220239859327, alpha=0.4942524083276401\n",
      "\n",
      "\u001b[0m\n",
      "\u001b[1m\n",
      "11 iterations: E(p)=3.1944154851356723, alpha=0.6353140898117621\n",
      "\n",
      "\u001b[0m\n",
      "\u001b[1m\n",
      "12 iterations: E(p)=2.1280217958553767, alpha=0.58315760867023\n",
      "\n",
      "\u001b[0m\n",
      "\u001b[1m\n",
      "13 iterations: E(p)=1.912014807868976, alpha=0.8905688083200324\n",
      "\n",
      "\u001b[0m\n",
      "\u001b[1m\n",
      "14 iterations: E(p)=1.6475748461903483, alpha=1.5352833274106499\n",
      "\n",
      "\u001b[0m\n",
      "\u001b[1m\n",
      "15 iterations: E(p)=1.4493065796409959, alpha=2.742371735214487\n",
      "\n",
      "\u001b[0m\n",
      "\u001b[1m\n",
      "16 iterations: E(p)=1.2634486708776793, alpha=5.263390019480873\n",
      "\n",
      "\u001b[0m\n"
     ]
    }
   ],
   "source": [
    "niter = 0\n",
    "energy_upper = [E(p0,images=images,kspace_data=kspace_data,verbose=-1)]\n",
    "alphas = [p0[-1]]\n",
    "pf,Emin,info = fmin_l_bfgs_b(lambda x:E(x,images=images,kspace_data=kspace_data,verbose=-1),p0,\n",
    "                             lambda x:grad_E(x,images=images,kspace_data=kspace_data,verbose=-1),\n",
    "                             bounds=[(0,1)]*n**2+[(1e-10,np.inf)],pgtol=1e-6,\n",
    "                             maxfun=20,maxiter=20,maxls=2,\n",
    "                             callback = fcall)"
   ]
  },
  {
   "cell_type": "code",
   "execution_count": 21,
   "metadata": {
    "scrolled": false
   },
   "outputs": [
    {
     "name": "stdout",
     "output_type": "stream",
     "text": [
      "78.89216930500078 1.2634486708776793\n"
     ]
    },
    {
     "data": {
      "image/png": "[encoded data removed]",
      "text/plain": [
       "<Figure size 432x288 with 1 Axes>"
      ]
     },
     "metadata": {
      "needs_background": "light"
     },
     "output_type": "display_data"
    }
   ],
   "source": [
    "print(energy_upper[0],energy_upper[-1])\n",
    "plt.plot(energy_upper)\n",
    "plt.title(\"Evolution of upper level energy\")\n",
    "plt.xlabel(\"Number of iterations\")\n",
    "plt.ylabel(\"Energy\")\n",
    "plt.yscale(\"log\")\n",
    "#plt.savefig(\"Results/Upper Level/Multiple images/10 images/convergence.png\")"
   ]
  },
  {
   "cell_type": "code",
   "execution_count": 22,
   "metadata": {},
   "outputs": [
    {
     "data": {
      "image/png": "[encoded data removed]",
      "text/plain": [
       "<Figure size 432x288 with 1 Axes>"
      ]
     },
     "metadata": {
      "needs_background": "light"
     },
     "output_type": "display_data"
    }
   ],
   "source": [
    "plt.plot(alphas)\n",
    "plt.title(\"Evolution of alpha\")\n",
    "plt.xlabel(\"Number of iterations\")\n",
    "plt.ylabel(\"alpha\")\n",
    "plt.yscale(\"log\")\n",
    "#plt.savefig(\"Results/Upper Level/Multiple images/10 images/alpha.png\")"
   ]
  },
  {
   "cell_type": "code",
   "execution_count": 23,
   "metadata": {},
   "outputs": [
    {
     "name": "stdout",
     "output_type": "stream",
     "text": [
      "5.263390019480873\n"
     ]
    }
   ],
   "source": [
    "print(pf[-1])\n",
    "ceiled_pf = np.where(pf>0.5,1,0)\n",
    "pysap.Image(data=np.reshape(pf[:-1],(n,n))).show()"
   ]
  },
  {
   "cell_type": "code",
   "execution_count": 24,
   "metadata": {
    "scrolled": true
   },
   "outputs": [
    {
     "name": "stdout",
     "output_type": "stream",
     "text": [
      "\n",
      "\n",
      "EVALUATING E(p)\n",
      "\n",
      "Image 1:\n",
      "Sigma: 37.02401630901807 \n",
      "Tau: 0.013504747724471296\n",
      "Finished in 0.5440962314605713 seconds.\n",
      "\n",
      "Image 2:\n",
      "Sigma: 37.02401630901807 \n",
      "Tau: 0.013504747724471296\n",
      "Finished in 0.4030876159667969 seconds.\n"
     ]
    },
    {
     "data": {
      "text/plain": [
       "(0.35934512528802304, 1.2634486708776793, 2855)"
      ]
     },
     "execution_count": 24,
     "metadata": {},
     "output_type": "execute_result"
    }
   ],
   "source": [
    "P(pf),E(pf,images=images,kspace_data=kspace_data),np.sum(ceiled_pf)"
   ]
  },
  {
   "cell_type": "code",
   "execution_count": 25,
   "metadata": {
    "scrolled": true
   },
   "outputs": [
    {
     "name": "stdout",
     "output_type": "stream",
     "text": [
      "Sigma: 37.02401630901807 \n",
      "Tau: 0.013504747724471296\n",
      "Finished in 2.517537832260132 seconds.\n"
     ]
    }
   ],
   "source": [
    "param[\"pn1\"]=pf[-1]\n",
    "#itest<Nimages\n",
    "itest = 0\n",
    "uk,norms,energy,ssims = pdhg(kspace_data[itest] , pf , fourier_op = fourier_op , linear_op = linear_op ,\n",
    "                             param = param , maxit = 200 , ground_truth = images[itest] , \n",
    "                             compute_energy = True , verbose = 0)"
   ]
  },
  {
   "cell_type": "code",
   "execution_count": 26,
   "metadata": {
    "scrolled": true
   },
   "outputs": [
    {
     "name": "stdout",
     "output_type": "stream",
     "text": [
      "0.9343385049355546\n"
     ]
    },
    {
     "data": {
      "image/png": "[encoded data removed]",
      "text/plain": [
       "<Figure size 432x288 with 1 Axes>"
      ]
     },
     "metadata": {
      "needs_background": "light"
     },
     "output_type": "display_data"
    },
    {
     "data": {
      "image/png": "[encoded data removed]",
      "text/plain": [
       "<Figure size 432x288 with 1 Axes>"
      ]
     },
     "metadata": {
      "needs_background": "light"
     },
     "output_type": "display_data"
    }
   ],
   "source": [
    "print(ssim(uk,images[itest]))\n",
    "\n",
    "plt.figure()\n",
    "plt.plot(ssims)\n",
    "plt.title(\"Evolution of ssim\")\n",
    "plt.show()\n",
    "\n",
    "plt.figure()\n",
    "plt.plot(energy)\n",
    "plt.title(\"Evolution of energy\")\n",
    "plt.yscale(\"log\")\n",
    "plt.show()\n",
    "\n",
    "pysap.Image(data=uk).show()"
   ]
  },
  {
   "cell_type": "code",
   "execution_count": 27,
   "metadata": {},
   "outputs": [
    {
     "data": {
      "image/png": "[encoded data removed]",
      "text/plain": [
       "<Figure size 432x288 with 1 Axes>"
      ]
     },
     "metadata": {
      "needs_background": "light"
     },
     "output_type": "display_data"
    }
   ],
   "source": [
    "plt.plot(norms)\n",
    "plt.yscale(\"log\")"
   ]
  },
  {
   "cell_type": "code",
   "execution_count": 29,
   "metadata": {},
   "outputs": [
    {
     "name": "stdout",
     "output_type": "stream",
     "text": [
      "\n",
      "\n",
      "\n",
      "\n",
      "\n",
      "Mean ssim: 0.9069826690935261\n"
     ]
    }
   ],
   "source": [
    "mean_ssim = 0\n",
    "for itest in range(Nimages):\n",
    "    print(\"\\n\")\n",
    "    uk,norms = pdhg(kspace_data[itest] , ceiled_pf , fourier_op = fourier_op , linear_op = linear_op , param = param,\n",
    "                    maxit = 50 , verbose = -1)\n",
    "    mean_ssim += ssim(uk,images[itest])\n",
    "print(f\"\\nMean ssim: {mean_ssim/Nimages}\")"
   ]
  }
 ],
 "metadata": {
  "kernelspec": {
   "display_name": "Python 3",
   "language": "python",
   "name": "python3"
  },
  "language_info": {
   "codemirror_mode": {
    "name": "ipython",
    "version": 3
   },
   "file_extension": ".py",
   "mimetype": "text/x-python",
   "name": "python",
   "nbconvert_exporter": "python",
   "pygments_lexer": "ipython3",
   "version": "3.7.3"
  }
 },
 "nbformat": 4,
 "nbformat_minor": 2
}
