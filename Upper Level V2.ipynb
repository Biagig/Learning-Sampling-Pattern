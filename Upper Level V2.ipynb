{
 "cells": [
  {
   "cell_type": "markdown",
   "metadata": {},
   "source": [
    "# Learning sampling pattern\n",
    "Second version of the full algorithm:\n",
    "- Several images possible\n",
    "- Learning points or cartesian mask"
   ]
  },
  {
   "cell_type": "code",
   "execution_count": 1,
   "metadata": {
    "scrolled": true
   },
   "outputs": [
    {
     "name": "stdout",
     "output_type": "stream",
     "text": [
      "\n",
      "                 .|'''|       /.\\      '||'''|,\n",
      "                 ||          // \\\\      ||   ||\n",
      "'||''|, '||  ||` `|'''|,    //...\\\\     ||...|'\n",
      " ||  ||  `|..||   .   ||   //     \\\\    ||\n",
      " ||..|'      ||   |...|' .//       \\\\. .||\n",
      " ||       ,  |'\n",
      ".||        ''\n",
      "\n",
      "Package version: 0.0.3\n",
      "\n",
      "License: CeCILL-B\n",
      "\n",
      "Authors: \n",
      "\n",
      "Antoine Grigis <antoine.grigis@cea.fr>\n",
      "Samuel Farrens <samuel.farrens@cea.fr>\n",
      "Jean-Luc Starck <jl.stark@cea.fr>\n",
      "Philippe Ciuciu <philippe.ciuciu@cea.fr>\n",
      "\n",
      "Dependencies: \n",
      "\n",
      "scipy          : >=1.3.0   - required | 1.3.0     installed\n",
      "numpy          : >=1.16.4  - required | 1.16.4    installed\n",
      "matplotlib     : >=3.0.0   - required | 3.1.1     installed\n",
      "astropy        : >=3.0.0   - required | 3.2.1     installed\n",
      "nibabel        : >=2.3.2   - required | 2.5.1     installed\n",
      "pyqtgraph      : >=0.10.0  - required | 0.10.0    installed\n",
      "progressbar2   : >=3.34.3  - required | ?         installed\n",
      "modopt         : >=1.4.0   - required | 1.4.1     installed\n",
      "scikit-learn   : >=0.19.1  - required | ?         installed\n",
      "pywt           : >=1.0.0   - required | 1.0.3     installed\n",
      "pysparse       : >=0.0.1   - required | 0.1.0     installed\n",
      "\n"
     ]
    }
   ],
   "source": [
    "from mri.operators import NonCartesianFFT, WaveletUD2, WaveletN\n",
    "import pysap\n",
    "from mri.operators.utils import convert_mask_to_locations, convert_locations_to_mask\n",
    "from modopt.math.metrics import ssim\n",
    "import matplotlib.pyplot as plt\n",
    "import numpy as np\n",
    "import nibabel as nib"
   ]
  },
  {
   "cell_type": "code",
   "execution_count": 2,
   "metadata": {},
   "outputs": [],
   "source": [
    "# Lower level imports\n",
    "from LowerLevel.pdhg import pdhg\n",
    "\n",
    "#Upper level imports\n",
    "import time\n",
    "from UpperLevel.LBFGSB import *\n",
    "from UpperLevel.cost_utils import *"
   ]
  },
  {
   "cell_type": "markdown",
   "metadata": {},
   "source": [
    "### Creation of Lower level tools\n",
    "Creating fourier_op, linear_op and param."
   ]
  },
  {
   "cell_type": "code",
   "execution_count": 3,
   "metadata": {},
   "outputs": [
    {
     "name": "stderr",
     "output_type": "stream",
     "text": [
      "/home/guillaume/temp/pysap-mri/mri/operators/fourier/utils.py:78: FutureWarning: Using a non-tuple sequence for multidimensional indexing is deprecated; use `arr[tuple(seq)]` instead of `arr[seq]`. In the future this will be interpreted as an array index, `arr[np.array(seq)]`, which will result either in an error or a different result.\n",
      "  mask[test] = 1\n"
     ]
    }
   ],
   "source": [
    "#Size of images to use\n",
    "n = 50\n",
    "\n",
    "x = np.linspace(0,n,n,endpoint=False)/n-0.5\n",
    "y = np.linspace(0,n,n,endpoint=False)/n-0.5\n",
    "X,Y = np.meshgrid(x,y)\n",
    "kspace_loc = np.stack([X.flatten('F'),Y.flatten('F')],axis=1)\n",
    "\n",
    "m = convert_locations_to_mask(kspace_loc,(n,n))\n",
    "fourier_op = NonCartesianFFT(samples=kspace_loc, shape=(n,n),implementation='cpu')"
   ]
  },
  {
   "cell_type": "code",
   "execution_count": 4,
   "metadata": {},
   "outputs": [],
   "source": [
    "#Wavelet\n",
    "linear_op = WaveletN(wavelet_name=\"sym8\",nb_scale=1,padding_mode = \"periodization\")\n",
    "#linear_op = WaveletUD2(wavelet_id=24,nb_scale=3)\n",
    "\n",
    "param = {\"epsilon\":1e-2,\"gamma\":1e-5}"
   ]
  },
  {
   "cell_type": "markdown",
   "metadata": {},
   "source": [
    "### Initializing upper level\n",
    "Creating images, kspace_data and updating param"
   ]
  },
  {
   "cell_type": "code",
   "execution_count": 5,
   "metadata": {},
   "outputs": [],
   "source": [
    "#Oasis image\n",
    "all_images = [ \"oasis_data/sub-OAS30001_ses-d0129_run-01_T1w.nii\"]\n",
    "              #,\"../oasis_data/sub-OAS30278_ses-d1325_run-02_T1w.nii\" ]\n",
    "im = nib.load(\"oasis_data/sub-OAS30001_ses-d0129_run-01_T1w.nii\")\n",
    "im = im.get_fdata()\n",
    "\n",
    "Nimages = 3\n",
    "images = [(1+0j)*im[ :, 30:206, i ]for i in range(124,124+Nimages)]"
   ]
  },
  {
   "cell_type": "code",
   "execution_count": 6,
   "metadata": {},
   "outputs": [],
   "source": [
    "def reduce_img_size( n_dim, image ):\n",
    "    mid = image.shape[ 0 ] // 2\n",
    "    f_coef = np.fft.fftshift( np.fft.fft2( image ) )\n",
    "    reduced_coef = f_coef[ mid - n_dim // 2: mid + n_dim // 2, mid - n_dim // 2: mid + n_dim // 2 ]\n",
    "    reduced_image = np.fft.ifft2( np.fft.fftshift( reduced_coef ) )\n",
    "    return np.abs( reduced_image )\n",
    "\n",
    "images = [reduce_img_size(n,im) for im in images]\n",
    "kspace_data = [(1+0j)*fourier_op.op(u0_mat)+0.1*np.mean(u0_mat)*np.random.randn(2*n*n).view(np.complex128) \n",
    "               for u0_mat in images]"
   ]
  },
  {
   "cell_type": "code",
   "execution_count": 7,
   "metadata": {},
   "outputs": [],
   "source": [
    "param[\"c\"] = 1e-7\n",
    "param[\"beta\"] = 3e-1"
   ]
  },
  {
   "cell_type": "code",
   "execution_count": 8,
   "metadata": {},
   "outputs": [],
   "source": [
    "# -- Main object to learn mask --\n",
    "# -------------------------------\n",
    "obj = Mask_Learner(images=images,kspace_data=kspace_data,\n",
    "                    fourier_op=fourier_op , linear_op=linear_op , param=param , \n",
    "                    verbose=-1 , my_const={\"sigma\":5,\"tau\":0.1})"
   ]
  },
  {
   "cell_type": "markdown",
   "metadata": {},
   "source": [
    "# Learning points independantly"
   ]
  },
  {
   "cell_type": "code",
   "execution_count": 9,
   "metadata": {},
   "outputs": [
    {
     "data": {
      "image/png": "[encoded data removed]",
      "text/plain": [
       "<Figure size 432x288 with 1 Axes>"
      ]
     },
     "metadata": {
      "needs_background": "light"
     },
     "output_type": "display_data"
    }
   ],
   "source": [
    "p0 = np.random.rand(n**2+1)\n",
    "p0[-1] = 1e-2\n",
    "#Choosing beta so that P(p0) = 5 ~ sum(L(û(p),u*))\n",
    "param[\"beta\"] = 5/np.sum(p0[:-1]*(1-p0[:-1]))\n",
    "\n",
    "plt.figure()\n",
    "plt.imshow(np.reshape(p0[:-1],(n,n)),cmap='gray')\n",
    "plt.show()"
   ]
  },
  {
   "cell_type": "code",
   "execution_count": 10,
   "metadata": {
    "scrolled": true
   },
   "outputs": [
    {
     "name": "stderr",
     "output_type": "stream",
     "text": [
      "/home/guillaume/pysap-mri/Learning Sampling Pattern/LowerLevel/prox.py:17: RuntimeWarning: invalid value encountered in sqrt\n",
      "  x/np.abs(x)*(gamma+gamma**2/2/c-gamma/c*np.sqrt((c+0.5*gamma)**2-c*np.abs(x))))\n"
     ]
    },
    {
     "name": "stdout",
     "output_type": "stream",
     "text": [
      "\u001b[1m\n",
      "1 iterations: E(p)=149.0351447482026, alpha=0.009361461134161855\n",
      "\n",
      "\u001b[0m\n",
      "\u001b[1m\n",
      "2 iterations: E(p)=80.61509789568225, alpha=0.006135550718201168\n",
      "\n",
      "\u001b[0m\n",
      "\u001b[1m\n",
      "3 iterations: E(p)=61.17458043226069, alpha=0.0053880879913097614\n",
      "\n",
      "\u001b[0m\n",
      "\u001b[1m\n",
      "4 iterations: E(p)=45.465781045693355, alpha=0.004337424109581707\n",
      "\n",
      "\u001b[0m\n",
      "\u001b[1m\n",
      "5 iterations: E(p)=38.02514034850588, alpha=0.003494700638564111\n",
      "\n",
      "\u001b[0m\n",
      "\u001b[1m\n",
      "6 iterations: E(p)=34.119520415150674, alpha=0.0028837919447307504\n",
      "\n",
      "\u001b[0m\n",
      "\u001b[1m\n",
      "7 iterations: E(p)=32.31412061636343, alpha=0.002772761532839717\n",
      "\n",
      "\u001b[0m\n",
      "\u001b[1m\n",
      "8 iterations: E(p)=31.540176065345463, alpha=0.0035962828594043165\n",
      "\n",
      "\u001b[0m\n",
      "\u001b[1m\n",
      "9 iterations: E(p)=31.285941321717072, alpha=0.006722784841589807\n",
      "\n",
      "\u001b[0m\n",
      "\u001b[1m\n",
      "10 iterations: E(p)=31.24450718479684, alpha=0.016663663754327884\n",
      "\n",
      "\u001b[0m\n",
      "\u001b[1m\n",
      "11 iterations: E(p)=31.240249749401777, alpha=0.03138698487866566\n",
      "\n",
      "\u001b[0m\n",
      "\u001b[1m\n",
      "12 iterations: E(p)=31.207888697765057, alpha=0.1625454072075782\n",
      "\n",
      "\u001b[0m\n",
      "\u001b[1m\n",
      "13 iterations: E(p)=31.03966207855775, alpha=0.3827431915804169\n",
      "\n",
      "\u001b[0m\n",
      "\u001b[1m\n",
      "14 iterations: E(p)=30.404293103645465, alpha=1.1361098103259115\n",
      "\n",
      "\u001b[0m\n",
      "\u001b[1m\n",
      "15 iterations: E(p)=29.135210565389475, alpha=2.9857514178905564\n",
      "\n",
      "\u001b[0m\n",
      "\u001b[1m\n",
      "16 iterations: E(p)=28.58053886428776, alpha=4.161960777447346\n",
      "\n",
      "\u001b[0m\n",
      "\u001b[1m\n",
      "17 iterations: E(p)=28.12227959495032, alpha=5.7051183685997735\n",
      "\n",
      "\u001b[0m\n",
      "\u001b[1m\n",
      "18 iterations: E(p)=27.86914062438522, alpha=6.695983047460447\n",
      "\n",
      "\u001b[0m\n",
      "\u001b[1m\n",
      "19 iterations: E(p)=27.85248558148684, alpha=7.537561377429505\n",
      "\n",
      "\u001b[0m\n",
      "\u001b[1m\n",
      "FINISHED IN 93.66024994850159 SECONDS\n",
      "\u001b[0m\n"
     ]
    }
   ],
   "source": [
    "pf,energy_upper,alphas = obj.optimize(p0=p0)"
   ]
  },
  {
   "cell_type": "code",
   "execution_count": 11,
   "metadata": {},
   "outputs": [
    {
     "name": "stdout",
     "output_type": "stream",
     "text": [
      "170.74362166416736 27.85248558148684\n"
     ]
    },
    {
     "data": {
      "image/png": "[encoded data removed]",
      "text/plain": [
       "<Figure size 432x288 with 1 Axes>"
      ]
     },
     "metadata": {
      "needs_background": "light"
     },
     "output_type": "display_data"
    }
   ],
   "source": [
    "print(energy_upper[0],energy_upper[-1])\n",
    "plt.plot(energy_upper)\n",
    "plt.title(\"Evolution of upper level energy\")\n",
    "plt.xlabel(\"Number of iterations\")\n",
    "plt.ylabel(\"Energy\")\n",
    "plt.yscale(\"log\")\n",
    "#plt.savefig(\"Results/Upper Level/Multiple images/10 images/convergence.png\")"
   ]
  },
  {
   "cell_type": "code",
   "execution_count": 12,
   "metadata": {},
   "outputs": [
    {
     "data": {
      "image/png": "[encoded data removed]",
      "text/plain": [
       "<Figure size 432x288 with 1 Axes>"
      ]
     },
     "metadata": {
      "needs_background": "light"
     },
     "output_type": "display_data"
    }
   ],
   "source": [
    "plt.plot(alphas)\n",
    "plt.title(\"Evolution of alpha\")\n",
    "plt.xlabel(\"Number of iterations\")\n",
    "plt.ylabel(\"alpha\")\n",
    "plt.yscale(\"log\")\n",
    "#plt.savefig(\"Results/Upper Level/Multiple images/10 images/alpha.png\")"
   ]
  },
  {
   "cell_type": "code",
   "execution_count": 13,
   "metadata": {},
   "outputs": [
    {
     "data": {
      "image/png": "[encoded data removed]",
      "text/plain": [
       "<Figure size 432x288 with 1 Axes>"
      ]
     },
     "metadata": {
      "needs_background": "light"
     },
     "output_type": "display_data"
    },
    {
     "data": {
      "image/png": "[encoded data removed]",
      "text/plain": [
       "<Figure size 432x288 with 1 Axes>"
      ]
     },
     "metadata": {
      "needs_background": "light"
     },
     "output_type": "display_data"
    }
   ],
   "source": [
    "ceiled_pf = np.where(pf>0.5,1,0)\n",
    "ceiled_pf[-1]=pf[-1]\n",
    "\n",
    "plt.figure()\n",
    "plt.imshow(np.reshape(pf[:-1],(n,n)),cmap='gray')\n",
    "plt.figure()\n",
    "plt.imshow(np.reshape(ceiled_pf[:-1],(n,n)),cmap='gray')\n",
    "plt.show()"
   ]
  },
  {
   "cell_type": "code",
   "execution_count": 14,
   "metadata": {},
   "outputs": [
    {
     "name": "stdout",
     "output_type": "stream",
     "text": [
      "22.418764308506315 27.85248558148684 1593\n"
     ]
    }
   ],
   "source": [
    "print(P(pf,param[\"beta\"]),\n",
    "E(pk=pf , images=images , kspace_data=kspace_data , fourier_op=fourier_op ,\n",
    "           linear_op=linear_op , param=param , verbose=-1 , const=obj.const),\n",
    "np.sum(ceiled_pf))"
   ]
  },
  {
   "cell_type": "code",
   "execution_count": 15,
   "metadata": {},
   "outputs": [
    {
     "name": "stdout",
     "output_type": "stream",
     "text": [
      "\n",
      "Mean ssim: 0.9667950852433101\n",
      "Mean ssim ceiled mask:0.9574960431846574\n"
     ]
    }
   ],
   "source": [
    "mean_ssim_pf = 0\n",
    "mean_ssim_ceiled = 0\n",
    "\n",
    "for itest in range(Nimages):\n",
    "    uk,norms = pdhg(kspace_data[itest] , ceiled_pf , fourier_op = fourier_op , linear_op = linear_op , param = param,\n",
    "                    maxit = 50 , verbose = -1 , const = obj.const)\n",
    "    mean_ssim_ceiled += ssim(uk,images[itest])\n",
    "    \n",
    "    uk,norms = pdhg(kspace_data[itest] , pf , fourier_op = fourier_op , linear_op = linear_op , param = param,\n",
    "                    maxit = 50 , verbose = -1 , const = obj.const)\n",
    "    mean_ssim_pf += ssim(uk,images[itest])\n",
    "print(f\"\\nMean ssim: {mean_ssim_pf/Nimages}\\nMean ssim ceiled mask:{mean_ssim_ceiled/Nimages}\")"
   ]
  },
  {
   "cell_type": "markdown",
   "metadata": {},
   "source": [
    "# Learning cartesian mask"
   ]
  },
  {
   "cell_type": "code",
   "execution_count": 26,
   "metadata": {},
   "outputs": [
    {
     "data": {
      "image/png": "[encoded data removed]",
      "text/plain": [
       "<Figure size 432x288 with 1 Axes>"
      ]
     },
     "metadata": {
      "needs_background": "light"
     },
     "output_type": "display_data"
    }
   ],
   "source": [
    "l0 = np.random.rand(n+1)\n",
    "l0[-1] = 1e-2\n",
    "#Choosing beta so that P(l0) ~ sum(L(û(p(l0)),u*))\n",
    "param[\"beta\"] = 10/np.sum(l0[:-1]*(1-l0[:-1]))\n",
    "\n",
    "cartesian_p = pcart(l0)\n",
    "cartesian_p[-1] = l0[-1]\n",
    "\n",
    "plt.figure()\n",
    "plt.imshow(np.reshape(cartesian_p[:-1],(n,n)),cmap='gray')\n",
    "plt.show()"
   ]
  },
  {
   "cell_type": "code",
   "execution_count": 27,
   "metadata": {
    "scrolled": true
   },
   "outputs": [
    {
     "name": "stdout",
     "output_type": "stream",
     "text": [
      "\u001b[1m\n",
      "1 iterations: E(p)=90.88498867067615, alpha=0.1922737424566355\n",
      "\n",
      "\u001b[0m\n",
      "\u001b[1m\n",
      "2 iterations: E(p)=75.87420448562717, alpha=0.29233814365343375\n",
      "\n",
      "\u001b[0m\n",
      "\u001b[1m\n",
      "3 iterations: E(p)=67.84336504883548, alpha=0.3741720111603184\n",
      "\n",
      "\u001b[0m\n",
      "\u001b[1m\n",
      "4 iterations: E(p)=63.15683081953561, alpha=0.43770836755133646\n",
      "\n",
      "\u001b[0m\n",
      "\u001b[1m\n",
      "5 iterations: E(p)=60.962061893472104, alpha=0.47505479732536365\n",
      "\n",
      "\u001b[0m\n",
      "\u001b[1m\n",
      "6 iterations: E(p)=59.74495295409965, alpha=0.49032975880863144\n",
      "\n",
      "\u001b[0m\n",
      "\u001b[1m\n",
      "7 iterations: E(p)=59.129466333065714, alpha=0.4902674449702093\n",
      "\n",
      "\u001b[0m\n",
      "\u001b[1m\n",
      "8 iterations: E(p)=58.69512166649464, alpha=0.47788292222061146\n",
      "\n",
      "\u001b[0m\n",
      "\u001b[1m\n",
      "9 iterations: E(p)=57.693198583392565, alpha=0.43858944626146457\n",
      "\n",
      "\u001b[0m\n",
      "\u001b[1m\n",
      "10 iterations: E(p)=57.569458504194515, alpha=0.5083307558866028\n",
      "\n",
      "\u001b[0m\n",
      "\u001b[1m\n",
      "11 iterations: E(p)=57.11756673484786, alpha=0.4913741608378003\n",
      "\n",
      "\u001b[0m\n",
      "\u001b[1m\n",
      "12 iterations: E(p)=56.675847724329486, alpha=0.4538601196149587\n",
      "\n",
      "\u001b[0m\n",
      "\u001b[1m\n",
      "FINISHED IN 47.405670404434204 SECONDS\n",
      "\u001b[0m\n"
     ]
    }
   ],
   "source": [
    "lf,energy_upper,alphas = obj.optimize(mask_type = \"cartesian\" , l0=l0)"
   ]
  },
  {
   "cell_type": "code",
   "execution_count": 28,
   "metadata": {
    "scrolled": true
   },
   "outputs": [
    {
     "name": "stdout",
     "output_type": "stream",
     "text": [
      "122.12825817803297 56.675847724329486\n"
     ]
    },
    {
     "data": {
      "image/png": "[encoded data removed]",
      "text/plain": [
       "<Figure size 432x288 with 1 Axes>"
      ]
     },
     "metadata": {
      "needs_background": "light"
     },
     "output_type": "display_data"
    }
   ],
   "source": [
    "print(energy_upper[0],energy_upper[-1])\n",
    "plt.plot(energy_upper)\n",
    "plt.title(\"Evolution of upper level energy\")\n",
    "plt.xlabel(\"Number of iterations\")\n",
    "plt.ylabel(\"Energy\")\n",
    "plt.yscale(\"log\")\n",
    "#plt.savefig(\"Results/Upper Level/Multiple images/10 images/convergence.png\")"
   ]
  },
  {
   "cell_type": "code",
   "execution_count": 30,
   "metadata": {},
   "outputs": [
    {
     "data": {
      "image/png": "[encoded data removed]",
      "text/plain": [
       "<Figure size 432x288 with 1 Axes>"
      ]
     },
     "metadata": {
      "needs_background": "light"
     },
     "output_type": "display_data"
    }
   ],
   "source": [
    "plt.plot(alphas)\n",
    "plt.title(\"Evolution of alpha\")\n",
    "plt.xlabel(\"Number of iterations\")\n",
    "plt.ylabel(\"alpha\")\n",
    "plt.yscale(\"log\")\n",
    "#plt.savefig(\"Results/Upper Level/Multiple images/10 images/alpha.png\")"
   ]
  },
  {
   "cell_type": "code",
   "execution_count": 38,
   "metadata": {},
   "outputs": [
    {
     "name": "stdout",
     "output_type": "stream",
     "text": [
      "0.4538601196149587\n"
     ]
    },
    {
     "data": {
      "image/png": "[encoded data removed]",
      "text/plain": [
       "<Figure size 432x288 with 1 Axes>"
      ]
     },
     "metadata": {
      "needs_background": "light"
     },
     "output_type": "display_data"
    },
    {
     "data": {
      "image/png": "[encoded data removed]",
      "text/plain": [
       "<Figure size 432x288 with 1 Axes>"
      ]
     },
     "metadata": {
      "needs_background": "light"
     },
     "output_type": "display_data"
    }
   ],
   "source": [
    "print(lf[-1])\n",
    "pf = pcart(lf)\n",
    "ceiled_pf = np.where(pf>0.5,1,0)\n",
    "\n",
    "plt.figure()\n",
    "plt.imshow(np.reshape(pf[:-1],(n,n)),cmap='gray')\n",
    "plt.figure()\n",
    "plt.imshow(np.reshape(ceiled_pf[:-1],(n,n)),cmap='gray')\n",
    "plt.show()"
   ]
  },
  {
   "cell_type": "code",
   "execution_count": 36,
   "metadata": {
    "scrolled": true
   },
   "outputs": [
    {
     "name": "stdout",
     "output_type": "stream",
     "text": [
      "48.47750267403862 56.675847724329486 1200\n"
     ]
    }
   ],
   "source": [
    "print(P(lf,param[\"beta\"]),\n",
    "E(lk=lf , mask_type = \"cartesian\" , images=images , kspace_data=kspace_data , fourier_op=fourier_op ,\n",
    "           linear_op=linear_op , param=param , verbose=-1 , const=obj.const),\n",
    "np.sum(ceiled_pf))"
   ]
  },
  {
   "cell_type": "code",
   "execution_count": 39,
   "metadata": {},
   "outputs": [
    {
     "name": "stdout",
     "output_type": "stream",
     "text": [
      "\n",
      "Mean ssim: 0.9523434074093244\n",
      "Mean ssim ceiled mask:0.9390414636474654\n"
     ]
    }
   ],
   "source": [
    "mean_ssim_pf = 0\n",
    "mean_ssim_ceiled = 0\n",
    "\n",
    "for itest in range(Nimages):\n",
    "    uk,norms = pdhg(kspace_data[itest] , ceiled_pf , fourier_op = fourier_op , linear_op = linear_op , param = param,\n",
    "                    maxit = 50 , verbose = -1 , const = obj.const)\n",
    "    mean_ssim_ceiled += ssim(uk,images[itest])\n",
    "    \n",
    "    uk,norms = pdhg(kspace_data[itest] , pf , fourier_op = fourier_op , linear_op = linear_op , param = param,\n",
    "                    maxit = 50 , verbose = -1 , const = obj.const)\n",
    "    mean_ssim_pf += ssim(uk,images[itest])\n",
    "print(f\"\\nMean ssim: {mean_ssim_pf/Nimages}\\nMean ssim ceiled mask:{mean_ssim_ceiled/Nimages}\")"
   ]
  },
  {
   "cell_type": "code",
   "execution_count": null,
   "metadata": {},
   "outputs": [],
   "source": []
  }
 ],
 "metadata": {
  "kernelspec": {
   "display_name": "Python 3",
   "language": "python",
   "name": "python3"
  },
  "language_info": {
   "codemirror_mode": {
    "name": "ipython",
    "version": 3
   },
   "file_extension": ".py",
   "mimetype": "text/x-python",
   "name": "python",
   "nbconvert_exporter": "python",
   "pygments_lexer": "ipython3",
   "version": "3.7.3"
  }
 },
 "nbformat": 4,
 "nbformat_minor": 2
}
