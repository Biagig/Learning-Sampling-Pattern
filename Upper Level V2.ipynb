{
 "cells": [
  {
   "cell_type": "markdown",
   "metadata": {},
   "source": [
    "# Learning sampling pattern\n",
    "Second version of the full algorithm:\n",
    "- Several images possible\n",
    "- Learning points or cartesian mask"
   ]
  },
  {
   "cell_type": "code",
   "execution_count": 1,
   "metadata": {
    "scrolled": true
   },
   "outputs": [
    {
     "name": "stdout",
     "output_type": "stream",
     "text": [
      "\n",
      "                 .|'''|       /.\\      '||'''|,\n",
      "                 ||          // \\\\      ||   ||\n",
      "'||''|, '||  ||` `|'''|,    //...\\\\     ||...|'\n",
      " ||  ||  `|..||   .   ||   //     \\\\    ||\n",
      " ||..|'      ||   |...|' .//       \\\\. .||\n",
      " ||       ,  |'\n",
      ".||        ''\n",
      "\n",
      "Package version: 0.0.3\n",
      "\n",
      "License: CeCILL-B\n",
      "\n",
      "Authors: \n",
      "\n",
      "Antoine Grigis <antoine.grigis@cea.fr>\n",
      "Samuel Farrens <samuel.farrens@cea.fr>\n",
      "Jean-Luc Starck <jl.stark@cea.fr>\n",
      "Philippe Ciuciu <philippe.ciuciu@cea.fr>\n",
      "\n",
      "Dependencies: \n",
      "\n",
      "scipy          : >=1.3.0   - required | 1.3.0     installed\n",
      "numpy          : >=1.16.4  - required | 1.16.4    installed\n",
      "matplotlib     : >=3.0.0   - required | 3.1.1     installed\n",
      "astropy        : >=3.0.0   - required | 3.2.1     installed\n",
      "nibabel        : >=2.3.2   - required | 2.5.1     installed\n",
      "pyqtgraph      : >=0.10.0  - required | 0.10.0    installed\n",
      "progressbar2   : >=3.34.3  - required | ?         installed\n",
      "modopt         : >=1.4.0   - required | 1.4.1     installed\n",
      "scikit-learn   : >=0.19.1  - required | ?         installed\n",
      "pywt           : >=1.0.0   - required | 1.0.3     installed\n",
      "pysparse       : >=0.0.1   - required | 0.1.0     installed\n",
      "\n"
     ]
    }
   ],
   "source": [
    "from mri.operators import NonCartesianFFT, WaveletUD2, WaveletN\n",
    "import pysap\n",
    "from mri.operators.utils import convert_mask_to_locations, convert_locations_to_mask\n",
    "from modopt.math.metrics import ssim\n",
    "import matplotlib.pyplot as plt\n",
    "import numpy as np"
   ]
  },
  {
   "cell_type": "code",
   "execution_count": 2,
   "metadata": {},
   "outputs": [],
   "source": [
    "# Lower level imports\n",
    "from LowerLevel.pdhg import pdhg\n",
    "\n",
    "#Upper level imports\n",
    "from scipy.sparse.linalg import cg,LinearOperator\n",
    "import scipy\n",
    "import time\n",
    "from UpperLevel.LBFGSB import *\n",
    "from UpperLevel.cost_utils import *\n",
    "\n",
    "from scipy.stats import norm"
   ]
  },
  {
   "cell_type": "code",
   "execution_count": 3,
   "metadata": {},
   "outputs": [],
   "source": [
    "import nibabel as nib\n",
    "import h5py"
   ]
  },
  {
   "cell_type": "markdown",
   "metadata": {},
   "source": [
    "### Creation of Lower level tools\n",
    "Creating fourier_op, linear_op and param."
   ]
  },
  {
   "cell_type": "code",
   "execution_count": 4,
   "metadata": {},
   "outputs": [
    {
     "name": "stderr",
     "output_type": "stream",
     "text": [
      "/home/guillaume/temp/pysap-mri/mri/operators/fourier/utils.py:78: FutureWarning: Using a non-tuple sequence for multidimensional indexing is deprecated; use `arr[tuple(seq)]` instead of `arr[seq]`. In the future this will be interpreted as an array index, `arr[np.array(seq)]`, which will result either in an error or a different result.\n",
      "  mask[test] = 1\n"
     ]
    }
   ],
   "source": [
    "#Size of images to use\n",
    "n = 50\n",
    "\n",
    "x = np.linspace(0,n,n,endpoint=False)/n-0.5\n",
    "y = np.linspace(0,n,n,endpoint=False)/n-0.5\n",
    "X,Y = np.meshgrid(x,y)\n",
    "kspace_loc = np.stack([X.flatten('F'),Y.flatten('F')],axis=1)\n",
    "\n",
    "m = convert_locations_to_mask(kspace_loc,(n,n))\n",
    "fourier_op = NonCartesianFFT(samples=kspace_loc, shape=(n,n),implementation='cpu')"
   ]
  },
  {
   "cell_type": "code",
   "execution_count": 5,
   "metadata": {},
   "outputs": [],
   "source": [
    "#Wavelet\n",
    "linear_op = WaveletN(wavelet_name=\"sym8\",nb_scale=1,padding_mode = \"periodization\")\n",
    "#linear_op = WaveletUD2(wavelet_id=24,nb_scale=3)\n",
    "\n",
    "param = {\"epsilon\":1e-2,\"gamma\":1e-5}"
   ]
  },
  {
   "cell_type": "markdown",
   "metadata": {},
   "source": [
    "### Initializing upper level\n",
    "Creating images, kspace_data and updating param"
   ]
  },
  {
   "cell_type": "code",
   "execution_count": 6,
   "metadata": {},
   "outputs": [],
   "source": [
    "#Oasis image\n",
    "all_images = [ \"oasis_data/sub-OAS30001_ses-d0129_run-01_T1w.nii\"]\n",
    "              #,\"../oasis_data/sub-OAS30278_ses-d1325_run-02_T1w.nii\" ]\n",
    "im = nib.load(\"oasis_data/sub-OAS30001_ses-d0129_run-01_T1w.nii\")\n",
    "im = im.get_fdata()\n",
    "\n",
    "Nimages = 3\n",
    "images = [(1+0j)*im[ :, 30:206, i ]for i in range(124,124+Nimages)]"
   ]
  },
  {
   "cell_type": "code",
   "execution_count": 7,
   "metadata": {},
   "outputs": [],
   "source": [
    "def reduce_img_size( n_dim, image ):\n",
    "    mid = image.shape[ 0 ] // 2\n",
    "    f_coef = np.fft.fftshift( np.fft.fft2( image ) )\n",
    "    reduced_coef = f_coef[ mid - n_dim // 2: mid + n_dim // 2, mid - n_dim // 2: mid + n_dim // 2 ]\n",
    "    reduced_image = np.fft.ifft2( np.fft.fftshift( reduced_coef ) )\n",
    "    return np.abs( reduced_image )\n",
    "\n",
    "images = [reduce_img_size(n,im) for im in images]\n",
    "kspace_data = [(1+0j)*fourier_op.op(u0_mat)+0.1*np.mean(u0_mat)*np.random.randn(2*n*n).view(np.complex128) \n",
    "               for u0_mat in images]"
   ]
  },
  {
   "cell_type": "code",
   "execution_count": 8,
   "metadata": {},
   "outputs": [],
   "source": [
    "param[\"c\"] = 1e-7\n",
    "param[\"beta\"] = 3e-1"
   ]
  },
  {
   "cell_type": "code",
   "execution_count": 9,
   "metadata": {},
   "outputs": [],
   "source": [
    "# -- Main object to learn mask --\n",
    "# -------------------------------\n",
    "obj = Mask_Learner(images=images,kspace_data=kspace_data,\n",
    "                    fourier_op=fourier_op , linear_op=linear_op , param=param , \n",
    "                    verbose=-1 , my_const={\"sigma\":5,\"tau\":0.1})"
   ]
  },
  {
   "cell_type": "markdown",
   "metadata": {},
   "source": [
    "# Learning points independantly"
   ]
  },
  {
   "cell_type": "code",
   "execution_count": 10,
   "metadata": {},
   "outputs": [],
   "source": [
    "p0 = np.random.rand(n**2+1)\n",
    "p0[-1] = 1e-2\n",
    "#Choosing beta so that P(p0) = 5 ~ sum(L(û(p),u*))\n",
    "param[\"beta\"] = 5/np.sum(p0[:-1]*(1-p0[:-1]))\n",
    "\n",
    "pysap.Image(data=np.reshape(p0[:-1],(n,n))).show()"
   ]
  },
  {
   "cell_type": "code",
   "execution_count": 11,
   "metadata": {
    "scrolled": true
   },
   "outputs": [
    {
     "name": "stderr",
     "output_type": "stream",
     "text": [
      "/home/guillaume/pysap-mri/Learning Sampling Pattern/LowerLevel/prox.py:17: RuntimeWarning: invalid value encountered in sqrt\n",
      "  x/np.abs(x)*(gamma+gamma**2/2/c-gamma/c*np.sqrt((c+0.5*gamma)**2-c*np.abs(x))))\n"
     ]
    },
    {
     "name": "stdout",
     "output_type": "stream",
     "text": [
      "\u001b[1m\n",
      "1 iterations: E(p)=327.53203101988703, alpha=0.009353626206396426\n",
      "\n",
      "\u001b[0m\n",
      "\u001b[1m\n",
      "2 iterations: E(p)=176.47190985299704, alpha=0.006776776908980683\n",
      "\n",
      "\u001b[0m\n",
      "\u001b[1m\n",
      "3 iterations: E(p)=132.26699657826288, alpha=0.005810742077817551\n",
      "\n",
      "\u001b[0m\n",
      "\u001b[1m\n",
      "4 iterations: E(p)=85.38497032662667, alpha=0.004466041228692522\n",
      "\n",
      "\u001b[0m\n",
      "\u001b[1m\n",
      "5 iterations: E(p)=60.790879456938825, alpha=0.003445793627965568\n",
      "\n",
      "\u001b[0m\n",
      "\u001b[1m\n",
      "6 iterations: E(p)=45.94144484924372, alpha=0.0025505161585873707\n",
      "\n",
      "\u001b[0m\n",
      "\u001b[1m\n",
      "7 iterations: E(p)=38.22929798384483, alpha=0.0018900951903422776\n",
      "\n",
      "\u001b[0m\n",
      "\u001b[1m\n",
      "8 iterations: E(p)=34.28872201136253, alpha=0.0014905516983180216\n",
      "\n",
      "\u001b[0m\n",
      "\u001b[1m\n",
      "9 iterations: E(p)=32.39481652333265, alpha=0.0014550573323113879\n",
      "\n",
      "\u001b[0m\n",
      "\u001b[1m\n",
      "10 iterations: E(p)=31.521728405159973, alpha=0.001962286409660767\n",
      "\n",
      "\u001b[0m\n",
      "\u001b[1m\n",
      "11 iterations: E(p)=31.27703157355612, alpha=0.003489712789621475\n",
      "\n",
      "\u001b[0m\n",
      "\u001b[1m\n",
      "12 iterations: E(p)=31.02885695853204, alpha=0.015738803512738854\n",
      "\n",
      "\u001b[0m\n",
      "\u001b[1m\n",
      "13 iterations: E(p)=30.981700866126587, alpha=0.039963787625719296\n",
      "\n",
      "\u001b[0m\n",
      "\u001b[1m\n",
      "14 iterations: E(p)=30.95428445975359, alpha=0.08613972560748853\n",
      "\n",
      "\u001b[0m\n",
      "\u001b[1m\n",
      "15 iterations: E(p)=30.902672546329114, alpha=0.22450601876935322\n",
      "\n",
      "\u001b[0m\n",
      "\u001b[1m\n",
      "16 iterations: E(p)=30.660643828735473, alpha=0.5080187659268506\n",
      "\n",
      "\u001b[0m\n",
      "\u001b[1m\n",
      "17 iterations: E(p)=29.79443890109948, alpha=1.5233222979288363\n",
      "\n",
      "\u001b[0m\n",
      "\u001b[1m\n",
      "18 iterations: E(p)=28.91070458283775, alpha=2.8219618095037724\n",
      "\n",
      "\u001b[0m\n",
      "\u001b[1m\n",
      "19 iterations: E(p)=28.113136580716407, alpha=4.251069597611526\n",
      "\n",
      "\u001b[0m\n",
      "\u001b[1m\n",
      "20 iterations: E(p)=27.34862380127991, alpha=5.50229367169582\n",
      "\n",
      "\u001b[0m\n",
      "\u001b[1m\n",
      "FINISHED IN 89.1699743270874 SECONDS\n",
      "\u001b[0m\n"
     ]
    }
   ],
   "source": [
    "pf,energy_upper,alphas = obj.optimize(p0=p0)"
   ]
  },
  {
   "cell_type": "code",
   "execution_count": 12,
   "metadata": {},
   "outputs": [
    {
     "name": "stdout",
     "output_type": "stream",
     "text": [
      "377.7073088442783 27.34862380127991\n"
     ]
    },
    {
     "data": {
      "image/png": "[encoded data removed]",
      "text/plain": [
       "<Figure size 432x288 with 1 Axes>"
      ]
     },
     "metadata": {
      "needs_background": "light"
     },
     "output_type": "display_data"
    }
   ],
   "source": [
    "print(energy_upper[0],energy_upper[-1])\n",
    "plt.plot(energy_upper)\n",
    "plt.title(\"Evolution of upper level energy\")\n",
    "plt.xlabel(\"Number of iterations\")\n",
    "plt.ylabel(\"Energy\")\n",
    "plt.yscale(\"log\")\n",
    "#plt.savefig(\"Results/Upper Level/Multiple images/10 images/convergence.png\")"
   ]
  },
  {
   "cell_type": "code",
   "execution_count": 13,
   "metadata": {},
   "outputs": [
    {
     "data": {
      "image/png": "[encoded data removed]",
      "text/plain": [
       "<Figure size 432x288 with 1 Axes>"
      ]
     },
     "metadata": {
      "needs_background": "light"
     },
     "output_type": "display_data"
    }
   ],
   "source": [
    "plt.plot(alphas)\n",
    "plt.title(\"Evolution of alpha\")\n",
    "plt.xlabel(\"Number of iterations\")\n",
    "plt.ylabel(\"alpha\")\n",
    "plt.yscale(\"log\")\n",
    "#plt.savefig(\"Results/Upper Level/Multiple images/10 images/alpha.png\")"
   ]
  },
  {
   "cell_type": "code",
   "execution_count": 14,
   "metadata": {},
   "outputs": [],
   "source": [
    "ceiled_pf = np.where(pf>0.5,1,0)\n",
    "ceiled_pf[-1]=pf[-1]\n",
    "pysap.Image(data = np.reshape(pf[:-1],(n,n))).show()"
   ]
  },
  {
   "cell_type": "code",
   "execution_count": 15,
   "metadata": {},
   "outputs": [
    {
     "name": "stdout",
     "output_type": "stream",
     "text": [
      "21.190943750466936 27.34862380127991 1498\n"
     ]
    }
   ],
   "source": [
    "print(P(pf,param[\"beta\"]),\n",
    "E(pk=pf , images=images , kspace_data=kspace_data , fourier_op=fourier_op ,\n",
    "           linear_op=linear_op , param=param , verbose=-1 , const=obj.const),\n",
    "np.sum(ceiled_pf))"
   ]
  },
  {
   "cell_type": "code",
   "execution_count": 16,
   "metadata": {},
   "outputs": [
    {
     "name": "stdout",
     "output_type": "stream",
     "text": [
      "\n",
      "Mean ssim: 0.96148808786797\n",
      "Mean ssim ceiled mask:0.9475754788873073\n"
     ]
    }
   ],
   "source": [
    "mean_ssim_pf = 0\n",
    "mean_ssim_ceiled = 0\n",
    "\n",
    "for itest in range(Nimages):\n",
    "    uk,norms = pdhg(kspace_data[itest] , ceiled_pf , fourier_op = fourier_op , linear_op = linear_op , param = param,\n",
    "                    maxit = 50 , verbose = -1 , const = obj.const)\n",
    "    mean_ssim_ceiled += ssim(uk,images[itest])\n",
    "    \n",
    "    uk,norms = pdhg(kspace_data[itest] , pf , fourier_op = fourier_op , linear_op = linear_op , param = param,\n",
    "                    maxit = 50 , verbose = -1 , const = obj.const)\n",
    "    mean_ssim_pf += ssim(uk,images[itest])\n",
    "print(f\"\\nMean ssim: {mean_ssim_pf/Nimages}\\nMean ssim ceiled mask:{mean_ssim_ceiled/Nimages}\")"
   ]
  },
  {
   "cell_type": "markdown",
   "metadata": {},
   "source": [
    "# Learning cartesian mask"
   ]
  },
  {
   "cell_type": "code",
   "execution_count": 17,
   "metadata": {},
   "outputs": [],
   "source": [
    "l0 = np.random.rand(n+1)\n",
    "l0[-1] = 5\n",
    "#Choosing beta so that P(l0) =  ~ sum(L(û(p(l0)),u*))\n",
    "param[\"beta\"] = 5/np.sum(l0[:-1]*(1-l0[:-1]))\n",
    "\n",
    "cartesian_p = pcart(l0)\n",
    "cartesian_p[-1] = l0[-1]\n",
    "\n",
    "pysap.Image(data=np.reshape(cartesian_p[:-1],(n,n))).show()"
   ]
  },
  {
   "cell_type": "code",
   "execution_count": 18,
   "metadata": {
    "scrolled": true
   },
   "outputs": [
    {
     "name": "stdout",
     "output_type": "stream",
     "text": [
      "\u001b[1m\n",
      "1 iterations: E(p)=80.68548001349515, alpha=5.076340637539924\n",
      "\n",
      "\u001b[0m\n",
      "\u001b[1m\n",
      "2 iterations: E(p)=52.570991381738324, alpha=5.132106071871425\n",
      "\n",
      "\u001b[0m\n",
      "\u001b[1m\n",
      "3 iterations: E(p)=45.44071251373041, alpha=5.165245189867117\n",
      "\n",
      "\u001b[0m\n",
      "\u001b[1m\n",
      "4 iterations: E(p)=39.92290855853195, alpha=5.1898497246094815\n",
      "\n",
      "\u001b[0m\n",
      "\u001b[1m\n",
      "5 iterations: E(p)=37.88012125128253, alpha=5.205802929635692\n",
      "\n",
      "\u001b[0m\n",
      "\u001b[1m\n",
      "6 iterations: E(p)=36.82511760627009, alpha=5.214154189372273\n",
      "\n",
      "\u001b[0m\n",
      "\u001b[1m\n",
      "7 iterations: E(p)=36.290212545580324, alpha=5.21598529394012\n",
      "\n",
      "\u001b[0m\n",
      "\u001b[1m\n",
      "8 iterations: E(p)=36.039112708010315, alpha=5.214448955237494\n",
      "\n",
      "\u001b[0m\n",
      "\u001b[1m\n",
      "9 iterations: E(p)=35.820675939058276, alpha=5.215179022206002\n",
      "\n",
      "\u001b[0m\n",
      "\u001b[1m\n",
      "10 iterations: E(p)=35.59310656647989, alpha=5.202878728011836\n",
      "\n",
      "\u001b[0m\n",
      "\u001b[1m\n",
      "11 iterations: E(p)=35.36043256919001, alpha=5.208525445713035\n",
      "\n",
      "\u001b[0m\n",
      "\u001b[1m\n",
      "12 iterations: E(p)=35.05500659528906, alpha=5.215227658620035\n",
      "\n",
      "\u001b[0m\n",
      "\u001b[1m\n",
      "13 iterations: E(p)=34.70217411203393, alpha=5.248183747956811\n",
      "\n",
      "\u001b[0m\n",
      "\u001b[1m\n",
      "14 iterations: E(p)=34.48271706898577, alpha=5.283409614874169\n",
      "\n",
      "\u001b[0m\n",
      "\u001b[1m\n",
      "FINISHED IN 53.27896547317505 SECONDS\n",
      "\u001b[0m\n"
     ]
    }
   ],
   "source": [
    "lf,energy_upper,alphas = obj.optimize(mask_type = \"cartesian\" , l0=l0)"
   ]
  },
  {
   "cell_type": "code",
   "execution_count": 19,
   "metadata": {
    "scrolled": true
   },
   "outputs": [
    {
     "name": "stdout",
     "output_type": "stream",
     "text": [
      "131.09511027798456 34.48271706898577\n"
     ]
    },
    {
     "data": {
      "image/png": "[encoded data removed]",
      "text/plain": [
       "<Figure size 432x288 with 1 Axes>"
      ]
     },
     "metadata": {
      "needs_background": "light"
     },
     "output_type": "display_data"
    }
   ],
   "source": [
    "print(energy_upper[0],energy_upper[-1])\n",
    "plt.plot(energy_upper)\n",
    "plt.title(\"Evolution of upper level energy\")\n",
    "plt.xlabel(\"Number of iterations\")\n",
    "plt.ylabel(\"Energy\")\n",
    "plt.yscale(\"log\")\n",
    "#plt.savefig(\"Results/Upper Level/Multiple images/10 images/convergence.png\")"
   ]
  },
  {
   "cell_type": "code",
   "execution_count": 20,
   "metadata": {},
   "outputs": [
    {
     "data": {
      "image/png": "[encoded data removed]",
      "text/plain": [
       "<Figure size 432x288 with 1 Axes>"
      ]
     },
     "metadata": {
      "needs_background": "light"
     },
     "output_type": "display_data"
    }
   ],
   "source": [
    "plt.plot(alphas)\n",
    "plt.title(\"Evolution of alpha\")\n",
    "plt.xlabel(\"Number of iterations\")\n",
    "plt.ylabel(\"alpha\")\n",
    "plt.yscale(\"log\")\n",
    "#plt.savefig(\"Results/Upper Level/Multiple images/10 images/alpha.png\")"
   ]
  },
  {
   "cell_type": "code",
   "execution_count": 21,
   "metadata": {},
   "outputs": [
    {
     "data": {
      "image/png": "[encoded data removed]",
      "text/plain": [
       "<Figure size 432x288 with 1 Axes>"
      ]
     },
     "metadata": {
      "needs_background": "light"
     },
     "output_type": "display_data"
    }
   ],
   "source": [
    "plt.plot(alphas)\n",
    "plt.title(\"Evolution of alpha\")\n",
    "plt.xlabel(\"Number of iterations\")\n",
    "plt.ylabel(\"alpha\")\n",
    "plt.yscale(\"log\")\n",
    "#plt.savefig(\"Results/Upper Level/Multiple images/10 images/alpha.png\")"
   ]
  },
  {
   "cell_type": "code",
   "execution_count": 22,
   "metadata": {},
   "outputs": [
    {
     "name": "stdout",
     "output_type": "stream",
     "text": [
      "5.283409614874169\n"
     ]
    }
   ],
   "source": [
    "print(lf[-1])\n",
    "pf = pcart(lf)\n",
    "ceiled_pf = np.where(pf>0.5,1,0)\n",
    "pysap.Image(data=np.reshape(pf[:-1],(n,n))).show()"
   ]
  },
  {
   "cell_type": "code",
   "execution_count": 23,
   "metadata": {
    "scrolled": true
   },
   "outputs": [
    {
     "name": "stdout",
     "output_type": "stream",
     "text": [
      "27.674877407737895 34.48271706898577 2101\n"
     ]
    }
   ],
   "source": [
    "print(P(lf,param[\"beta\"]),\n",
    "E(lk=lf , mask_type = \"cartesian\" , images=images , kspace_data=kspace_data , fourier_op=fourier_op ,\n",
    "           linear_op=linear_op , param=param , verbose=-1 , const=obj.const),\n",
    "np.sum(ceiled_pf))"
   ]
  },
  {
   "cell_type": "code",
   "execution_count": 24,
   "metadata": {},
   "outputs": [
    {
     "name": "stdout",
     "output_type": "stream",
     "text": [
      "\n",
      "Mean ssim: 0.9611318161137428\n",
      "Mean ssim ceiled mask:0.95252938494078\n"
     ]
    }
   ],
   "source": [
    "mean_ssim_pf = 0\n",
    "mean_ssim_ceiled = 0\n",
    "\n",
    "for itest in range(Nimages):\n",
    "    uk,norms = pdhg(kspace_data[itest] , ceiled_pf , fourier_op = fourier_op , linear_op = linear_op , param = param,\n",
    "                    maxit = 50 , verbose = -1 , const = obj.const)\n",
    "    mean_ssim_ceiled += ssim(uk,images[itest])\n",
    "    \n",
    "    uk,norms = pdhg(kspace_data[itest] , pf , fourier_op = fourier_op , linear_op = linear_op , param = param,\n",
    "                    maxit = 50 , verbose = -1 , const = obj.const)\n",
    "    mean_ssim_pf += ssim(uk,images[itest])\n",
    "print(f\"\\nMean ssim: {mean_ssim_pf/Nimages}\\nMean ssim ceiled mask:{mean_ssim_ceiled/Nimages}\")"
   ]
  },
  {
   "cell_type": "code",
   "execution_count": null,
   "metadata": {},
   "outputs": [],
   "source": []
  }
 ],
 "metadata": {
  "kernelspec": {
   "display_name": "Python 3",
   "language": "python",
   "name": "python3"
  },
  "language_info": {
   "codemirror_mode": {
    "name": "ipython",
    "version": 3
   },
   "file_extension": ".py",
   "mimetype": "text/x-python",
   "name": "python",
   "nbconvert_exporter": "python",
   "pygments_lexer": "ipython3",
   "version": "3.7.3"
  }
 },
 "nbformat": 4,
 "nbformat_minor": 2
}
