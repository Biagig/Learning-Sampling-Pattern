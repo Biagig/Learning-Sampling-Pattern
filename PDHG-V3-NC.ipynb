{
 "cells": [
  {
   "cell_type": "markdown",
   "metadata": {},
   "source": [
    "# PDHG Non-cartesian\n",
    "This notebook applies the PDHG algorithm on a non-cartesian mask based on the paper \"Learning the Sampling Pattern for MRI\" published in June 2019. More details on the functions (and especially on the proximal operators) can be found there."
   ]
  },
  {
   "cell_type": "markdown",
   "metadata": {},
   "source": [
    "## Imports"
   ]
  },
  {
   "cell_type": "code",
   "execution_count": 1,
   "metadata": {},
   "outputs": [
    {
     "name": "stderr",
     "output_type": "stream",
     "text": [
      "/home/guillaume/temp/pysap-mri/mri/operators/fourier/cartesian.py:33: UserWarning: pynufft python package has not been found. If needed use the master release. Till then you cannot use NUFFT on GPU\n",
      "  warnings.warn(\"pynufft python package has not been found. If needed use \"\n",
      "/home/guillaume/temp/pysap-mri/mri/operators/fourier/non_cartesian.py:33: UserWarning: pynufft python package has not been found. If needed use the master release. Till then you cannot use NUFFT on GPU\n",
      "  warnings.warn(\"pynufft python package has not been found. If needed use \"\n"
     ]
    },
    {
     "name": "stdout",
     "output_type": "stream",
     "text": [
      "\n",
      "                 .|'''|       /.\\      '||'''|,\n",
      "                 ||          // \\\\      ||   ||\n",
      "'||''|, '||  ||` `|'''|,    //...\\\\     ||...|'\n",
      " ||  ||  `|..||   .   ||   //     \\\\    ||\n",
      " ||..|'      ||   |...|' .//       \\\\. .||\n",
      " ||       ,  |'\n",
      ".||        ''\n",
      "\n",
      "Package version: 0.0.3\n",
      "\n",
      "License: CeCILL-B\n",
      "\n",
      "Authors: \n",
      "\n",
      "Antoine Grigis <antoine.grigis@cea.fr>\n",
      "Samuel Farrens <samuel.farrens@cea.fr>\n",
      "Jean-Luc Starck <jl.stark@cea.fr>\n",
      "Philippe Ciuciu <philippe.ciuciu@cea.fr>\n",
      "\n",
      "Dependencies: \n",
      "\n",
      "scipy          : >=1.3.0   - required | 1.3.0     installed\n",
      "numpy          : >=1.16.4  - required | 1.16.4    installed\n",
      "matplotlib     : >=3.0.0   - required | 3.1.1     installed\n",
      "astropy        : >=3.0.0   - required | 3.2.1     installed\n",
      "nibabel        : >=2.3.2   - required | 2.5.1     installed\n",
      "pyqtgraph      : >=0.10.0  - required | 0.10.0    installed\n",
      "progressbar2   : >=3.34.3  - required | ?         installed\n",
      "modopt         : >=1.4.0   - required | 1.4.1     installed\n",
      "scikit-learn   : >=0.19.1  - required | ?         installed\n",
      "pywt           : >=1.0.0   - required | 1.0.3     installed\n",
      "pysparse       : >=0.0.1   - required | 0.1.0     installed\n",
      "\n"
     ]
    }
   ],
   "source": [
    "# Package import\n",
    "from mri.operators import NonCartesianFFT, WaveletUD2, WaveletN ,FFT, gradient\n",
    "from mri.operators.utils import convert_mask_to_locations, convert_locations_to_mask, \\\n",
    "    gridded_inverse_fourier_transform_nd\n",
    "from mri.reconstructors import SingleChannelReconstructor\n",
    "import pysap\n",
    "from pysap.data import get_sample_data\n",
    "import time"
   ]
  },
  {
   "cell_type": "code",
   "execution_count": 2,
   "metadata": {},
   "outputs": [],
   "source": [
    "# Third party import\n",
    "from modopt.math.metrics import ssim\n",
    "from modopt.opt.linear import Identity\n",
    "from modopt.opt.proximity import SparseThreshold,Ridge\n",
    "\n",
    "import numpy as np\n",
    "import matplotlib.pyplot as plt\n",
    "from PIL import Image\n",
    "from modopt.math.matrix import PowerMethod"
   ]
  },
  {
   "cell_type": "markdown",
   "metadata": {},
   "source": [
    "## Inputs"
   ]
  },
  {
   "cell_type": "code",
   "execution_count": 3,
   "metadata": {
    "scrolled": true
   },
   "outputs": [
    {
     "name": "stderr",
     "output_type": "stream",
     "text": [
      "/home/guillaume/temp/pysap-mri/mri/operators/fourier/utils.py:78: FutureWarning: Using a non-tuple sequence for multidimensional indexing is deprecated; use `arr[tuple(seq)]` instead of `arr[seq]`. In the future this will be interpreted as an array index, `arr[np.array(seq)]`, which will result either in an error or a different result.\n",
      "  mask[test] = 1\n"
     ]
    }
   ],
   "source": [
    "u0 = get_sample_data('2d-mri')\n",
    "u0_mat = np.asarray(u0)\n",
    "\n",
    "# Obtain MRI non-cartesian mask\n",
    "radial_mask = get_sample_data(\"mri-radial-samples\")\n",
    "radial_kspace_loc = radial_mask.data\n",
    "radialmask = pysap.Image(data=convert_locations_to_mask(radial_kspace_loc, u0.shape))\n",
    "radial_fourier = NonCartesianFFT(samples=radial_kspace_loc, shape=u0.shape,implementation='cpu')"
   ]
  },
  {
   "cell_type": "markdown",
   "metadata": {},
   "source": [
    "### Base mask"
   ]
  },
  {
   "cell_type": "code",
   "execution_count": 14,
   "metadata": {},
   "outputs": [],
   "source": [
    "kspace_loc = np.array([[i//n,i%n] for i in range(n**2)])/n-0.5\n",
    "m = convert_locations_to_mask(kspace_loc,u0.shape)\n",
    "fourier_op = NonCartesianFFT(samples=kspace_loc, shape=u0.shape,implementation='cpu')"
   ]
  },
  {
   "cell_type": "code",
   "execution_count": 13,
   "metadata": {},
   "outputs": [],
   "source": [
    "# Verification que ifft(fft(im))~im\n",
    "y = fourier_op.op(u0_mat)\n",
    "uk = fourier_op.adj_op(y)\n",
    "pysap.Image(data = np.abs(uk)).show()"
   ]
  },
  {
   "cell_type": "markdown",
   "metadata": {},
   "source": [
    "### Compute S(p) for given mask\n",
    "#### Radial mask"
   ]
  },
  {
   "cell_type": "code",
   "execution_count": 15,
   "metadata": {},
   "outputs": [],
   "source": [
    "p = np.zeros((n*n,))\n",
    "for i in range(len(radial_kspace_loc)):\n",
    "    x = int((n-1)*(radial_kspace_loc[i][0]+0.5))\n",
    "    y = int((n-1)*(radial_kspace_loc[i][1]+0.5))\n",
    "    p[n*x+y] = 1"
   ]
  },
  {
   "cell_type": "code",
   "execution_count": 16,
   "metadata": {},
   "outputs": [],
   "source": [
    "new_loc = []\n",
    "for i in range(512):\n",
    "    for j in range(512):\n",
    "        if p[n*i+j] == 1:\n",
    "            new_loc.append(kspace_loc[n*i+j])\n",
    "pysap.Image(data = convert_locations_to_mask(np.array(new_loc),u0.shape)).show()"
   ]
  },
  {
   "cell_type": "code",
   "execution_count": 21,
   "metadata": {},
   "outputs": [
    {
     "name": "stdout",
     "output_type": "stream",
     "text": [
      "0.7611498634499178\n"
     ]
    }
   ],
   "source": [
    "uk = fourier_op.adj_op(p*fourier_op.op(u0_mat))\n",
    "print(ssim(uk,u0_mat))\n",
    "pysap.Image(data = np.abs(uk)).show()"
   ]
  },
  {
   "cell_type": "markdown",
   "metadata": {},
   "source": [
    "#### Cartesian mask"
   ]
  },
  {
   "cell_type": "code",
   "execution_count": 87,
   "metadata": {},
   "outputs": [
    {
     "name": "stdout",
     "output_type": "stream",
     "text": [
      "0.8227803311638922\n"
     ]
    }
   ],
   "source": [
    "cart_mask = get_sample_data(\"cartesian-mri-mask\")\n",
    "p = np.reshape(cart_mask.data,(512*512,))\n",
    "uk = fourier_op.adj_op(p*fourier_op.op(u0_mat))\n",
    "print(ssim(uk,u0_mat))\n",
    "pysap.Image(data = np.abs(uk)).show() "
   ]
  },
  {
   "cell_type": "markdown",
   "metadata": {},
   "source": [
    "#### Random mask"
   ]
  },
  {
   "cell_type": "code",
   "execution_count": 20,
   "metadata": {},
   "outputs": [],
   "source": [
    "p = p = np.zeros((n*n,))\n",
    "new_loc=[]\n",
    "for i in range(512):\n",
    "    for j in range(512):\n",
    "        if np.random.rand()<0.3:\n",
    "            p[i*n+j] = 1\n",
    "            new_loc.append(kspace_loc[n*i+j])\n",
    "# pysap.Image(data = convert_locations_to_mask(np.array(new_loc),u0.shape)).show()"
   ]
  },
  {
   "cell_type": "code",
   "execution_count": 119,
   "metadata": {},
   "outputs": [
    {
     "name": "stdout",
     "output_type": "stream",
     "text": [
      "0.7611498634499178\n"
     ]
    }
   ],
   "source": [
    "uk = fourier_op.adj_op(p*fourier_op.op(u0_mat))\n",
    "print(ssim(uk,u0_mat))\n",
    "pysap.Image(data = np.abs(uk)).show()"
   ]
  },
  {
   "cell_type": "markdown",
   "metadata": {},
   "source": [
    "### Data\n",
    "Observations: $y=S\\mathcal{F}Ru+\\epsilon$."
   ]
  },
  {
   "cell_type": "code",
   "execution_count": 83,
   "metadata": {},
   "outputs": [],
   "source": [
    "# Adding noise\n",
    "(n1,n2) = u0.shape\n",
    "s = 1e-6\n",
    "# Computing y with non-cartesian Fourier transform\n",
    "fourier_op = NonCartesianFFT(samples=kspace_loc, shape=u0.shape,implementation='cpu')\n",
    "y = (1+0j)*fourier_op.op(np.real(u0.data))+s*np.random.randn(2*n*n).view(np.complex128)\n",
    "u0_mat = np.asarray(u0)\n",
    "\n",
    "pn1 = 1e-7"
   ]
  },
  {
   "cell_type": "markdown",
   "metadata": {},
   "source": [
    "## Linear operators: wavelet transform"
   ]
  },
  {
   "cell_type": "code",
   "execution_count": 38,
   "metadata": {},
   "outputs": [],
   "source": [
    "linear_op = WaveletN(wavelet_name=\"db8\",nb_scale=4,padding_mode = \"periodization\")"
   ]
  },
  {
   "cell_type": "code",
   "execution_count": 39,
   "metadata": {},
   "outputs": [
    {
     "name": "stdout",
     "output_type": "stream",
     "text": [
      "0.6694707608625909\n"
     ]
    }
   ],
   "source": [
    "uk = fourier_op.adj_op(p*y)\n",
    "print(ssim(uk,u0_mat))\n",
    "pysap.Image(data = np.abs(uk)).show()"
   ]
  },
  {
   "cell_type": "markdown",
   "metadata": {},
   "source": [
    "# Definition of functions to compute energy\n",
    "Since S is a nxn diagonal matrix, we won't store it in memory and do all the computations directly with p"
   ]
  },
  {
   "cell_type": "code",
   "execution_count": 84,
   "metadata": {},
   "outputs": [],
   "source": [
    "#constants\n",
    "zeta = 1e10\n",
    "epsilon = 1e-3\n",
    "gamma = 1e-10\n",
    "pn1 = 1e-5"
   ]
  },
  {
   "cell_type": "code",
   "execution_count": 90,
   "metadata": {},
   "outputs": [],
   "source": [
    "# functions B and G in the paper\n",
    "def b(u):\n",
    "    return zeta*np.sum(np.where(u<=0,-u**3,0))\n",
    "def g(u):return np.real(b(u)+epsilon*np.linalg.norm(u)**2/2)"
   ]
  },
  {
   "cell_type": "code",
   "execution_count": 110,
   "metadata": {},
   "outputs": [],
   "source": [
    "# functions J and F2 in the paper\n",
    "# We also compute rho and its first derivative since we will need it later\n",
    "def rho(x):\n",
    "    m = np.abs(x)\n",
    "    return -m*m*m/3/gamma/gamma+m*m/gamma if m<gamma else m-gamma/3\n",
    "    \n",
    "\n",
    "def J(u):\n",
    "    global pn1\n",
    "    return pn1*np.sum(np.vectorize(rho)(u))\n",
    "def f2(w):\n",
    "    #linear_op\n",
    "    if len(w.shape) == 1:\n",
    "        return J(np.abs(w))"
   ]
  },
  {
   "cell_type": "code",
   "execution_count": 80,
   "metadata": {},
   "outputs": [],
   "source": [
    "def Rstar(u):\n",
    "    return np.array([[u[i][j]+0j for j in range(len(u[0]))]for i in range(len(u))])\n",
    "def f1(v):\n",
    "    return 0.5*np.linalg.norm(p*fourier_op.op(v)-y)**2"
   ]
  },
  {
   "cell_type": "code",
   "execution_count": 81,
   "metadata": {},
   "outputs": [],
   "source": [
    "def energy_wavelet(u):\n",
    "    return(f1(Rstar(u))+f2(np.array(linear_op.op(u)))+g(u))\n",
    "def energy_grad(u):\n",
    "    return(f1(Rstar(u))+f2(np.array(GradientIm(u)))+g(u))"
   ]
  },
  {
   "cell_type": "code",
   "execution_count": 111,
   "metadata": {
    "scrolled": true
   },
   "outputs": [
    {
     "name": "stdout",
     "output_type": "stream",
     "text": [
      "2.1693539570755863e-06\n",
      "1.4777758239608157e-06\n",
      "4.47474398174144e-06\n"
     ]
    }
   ],
   "source": [
    "pn1 = 1e-5\n",
    "print(energy_wavelet(np.zeros(u0_mat.shape)))\n",
    "print(energy_wavelet(u0_mat))\n",
    "print(energy_wavelet(2*u0_mat))"
   ]
  },
  {
   "cell_type": "markdown",
   "metadata": {},
   "source": [
    "# Proximal operators\n",
    "The objective is to find the point minimizing $f_u(x) = F(x)+1/2||x-u||^2$ for a given u and for $F=\\tau F1,\\tau F2,\\tau G$ where $\\tau$ is a given constant.\n",
    "## Proximal operator of F2\n",
    "We want to minimize $f_u(x) = \\tau\\alpha (p)J(|x|)+\\frac{1}{2}||x-u||^2$. As explained in the paper, given the definition of J, we can compute the solution component by component, but the paper expresses $x_i$ in terms of $u_i$ with a constant C that we need to compute. We have in 1D $f_u'(x) = \\tau\\alpha (p)\\frac{x}{|x|}\\rho '(|x|)+x-u$. Since $\\rho '(x)$ depends on if $|x|<\\gamma$ or not, we need to separate these two cases:\n",
    "### |x|>$\\gamma$\n",
    "In this case, $\\rho '(|x|)=1$, so we simply have $(1+\\frac{\\tau\\alpha(p)}{|x|})x=u\\Rightarrow x=(|u|-\\tau\\alpha(p))\\frac{u}{|u|}$. Since we supposed $|x|<\\gamma$ beforehand, this will be true when $|u|>\\tau\\alpha(p)+\\gamma$.\n",
    "### |x|$\\leq\\gamma$\n",
    "From what we just saw, this is equivalent to $|u|\\leq\\tau\\alpha(p)+\\gamma$. This case is a bit more complicated, since now $\\rho '(|x|)=-\\frac{|x|^2}{\\gamma^2}+2\\frac{|x|}{\\gamma}$ and taking the norm on both sides of $\\tau\\alpha (p)\\frac{x}{|x|}\\rho '(|x|)+x-u$ gives us:\n",
    "$$-\\frac{\\tau\\alpha(p)}{\\gamma^2}|x|^2+(1+\\frac{2\\tau\\alpha(p)}{\\gamma})|x|-|u|=0\\\\\n",
    "\\Rightarrow |x| = \\gamma+\\frac{\\gamma^2}{2\\tau\\alpha(p)}(1\\pm\\sqrt{\\Delta})\\\\\n",
    "with\\ \\Delta=1+\\frac{4\\tau\\alpha(p)}{\\gamma^2}(\\gamma+\\tau\\alpha(p)-|u|)$$\n",
    "But since we want $|x|<\\gamma$, the only acceptable solution is $x=\\left(\\gamma+\\frac{\\gamma^2}{2\\tau\\alpha(p)}(1-\\sqrt{\\Delta})\\right)\\frac{u}{|u|}$. Since $|u|\\leq\\tau\\alpha(p)+\\gamma$, we see that $\\Delta>1$, so the condition $|x|\\leq\\gamma$ is verified.\n",
    "\n",
    "## Proximal operator of F1\n",
    "The expression given in the paper is:\n",
    "$$prox_{\\tau F1}(u) = \\mathcal{F}(I+\\tau S(p)^2)^{-1}(\\mathcal{F}u+\\tau S(p)^2y)$$\n",
    "with y the data.\\\\\n",
    "I find a different value when I recompute it: we want to minimize $f_u(x) = \\frac{1}{2}\\tau||S(p)(\\mathcal{F}x-y)||+\\frac{1}{2}||x-u||^2$. When we differentiate, we get:\n",
    "$$f_u(x+h) = f_u(x)+\\tau <S(p)\\mathcal{F}h,S(p)(\\mathcal{F}x-y)> + <h,(x-u)>+o(||h||)$$\n",
    "Since S(p) is diagonal, we have:\n",
    "$$f_u(x+h)-f_u(x) = <\\mathcal{F}h,\\tau S(p)^2(\\mathcal{F}x-y)>+<h,x-u>+o(||h||)\\\\\n",
    "\\Rightarrow \\nabla f_u(x) = \\mathcal{F}^{-1}\\left[\\tau S(p)^2(\\mathcal{F}x-y)\\right]+x-u$$\n",
    "\n",
    "\n",
    "## Proximal dual operators\n",
    "We use the Moreau identity to compute the proximal dual operators:\n",
    "$$prox_{\\gamma\\phi ^*}(x) = x-\\gamma prox_{\\phi/\\gamma}(\\frac{x}{\\gamma})$$"
   ]
  },
  {
   "cell_type": "code",
   "execution_count": 202,
   "metadata": {},
   "outputs": [],
   "source": [
    "#Prox_tauG\n",
    "def prox_B(u,c):\n",
    "    global zeta\n",
    "    return np.asarray([[x/(0.5+np.sqrt(0.25-3*zeta*c*min(0,x)))for x in u[i]]for i in range(len(u))])\n",
    "def prox_G(u,c):\n",
    "    global epsilon\n",
    "    return prox_B(u/(1+c*epsilon),1/(1+c*epsilon))\n",
    "\n",
    "def prox_G2(u,c):\n",
    "    pG = np.zeros(u0_mat.shape)\n",
    "    for i in range(len(u)):\n",
    "        for j in range(len(u[0])):\n",
    "            pG[i][j] = u[i][j]/(1+epsilon*c) if u[i][j]>0 else u[i][j]/(0.5+np.sqrt(0.25-3*zeta*c*u[i][j]/(1+epsilon*c)**2))\n",
    "    return pG\n",
    "\n",
    "def f(x,c):\n",
    "    global epsilon,zeta\n",
    "    return x/(1+epsilon*c) if x>=0 else x/(0.5+np.sqrt(0.25-3*zeta*c*x/(1+epsilon*c)**2))\n",
    "prox_G3 = np.vectorize(f)\n",
    "\n",
    "#Vectorizing\n",
    "def prox_G4(x,c):\n",
    "    global epsilon,zeta\n",
    "    return np.where(x>=0,x/(1+epsilon*c),x/(0.5+np.sqrt(0.25-3*zeta*c*x/(1+epsilon*c)**2)))"
   ]
  },
  {
   "cell_type": "code",
   "execution_count": 203,
   "metadata": {
    "scrolled": false
   },
   "outputs": [
    {
     "name": "stdout",
     "output_type": "stream",
     "text": [
      "True \n",
      "Time for prox_G3: 0.26201820373535156 \n",
      "Time for prox_G2: 0.5590932369232178 \n",
      "Time for prox_G4: 0.004045009613037109\n"
     ]
    }
   ],
   "source": [
    "c=5\n",
    "a = 0.01*gamma*(np.random.rand(512,512)-0.5)\n",
    "t1 = time.time()\n",
    "y1 = prox_G3(a,c)\n",
    "t2 = time.time()\n",
    "y3 = prox_G2(a,c)\n",
    "t3 = time.time()\n",
    "y4 = prox_G4(a,c)\n",
    "t4 = time.time()\n",
    "\n",
    "r1 = c*g(y1)+0.5*np.linalg.norm(a-y1)**2\n",
    "r3 = c*g(y3)+0.5*np.linalg.norm(a-y3)**2\n",
    "r4 = c*g(y4)+0.5*np.linalg.norm(a-y4)**2\n",
    "print(r1==r4,\"\\nTime for prox_G3:\",t2-t1,\"\\nTime for prox_G2:\",t3-t2,\"\\nTime for prox_G4:\",t4-t3)"
   ]
  },
  {
   "cell_type": "code",
   "execution_count": 146,
   "metadata": {},
   "outputs": [],
   "source": [
    "#From Sherry's Matlab code\n",
    "# https://github.com/fsherry/bilevel-MRI-examples/blob/master/lowerlevel_numeric/proximal_operators/proxF2star.m\n",
    "def prox_J(z,gamma,c):\n",
    "    (l,n,p) = z.shape\n",
    "    out = (1+1j)*np.zeros((l,n,p))\n",
    "    for i in range(n):\n",
    "        for m in range(p):\n",
    "            mod = np.linalg.norm([z[k][i][m] for k in range(l)])\n",
    "            for k in range(l):\n",
    "                if mod>gamma+c:\n",
    "                    out[k][i][m] = z[k][i][m]*(1-c/mod)\n",
    "                else:\n",
    "                    out[k][i][m] = gamma*z[k][i][m]/(c+0.5*gamma+np.sqrt((c+0.5*gamma)**2-c*mod))\n",
    "    return out\n",
    "\n",
    "def prox_F2_test(z,c):\n",
    "    return z-c*prox_J(z/c,gamma,pn1/c)\n",
    "\n",
    "def fJ(x,c):\n",
    "    global gamma\n",
    "    m = np.abs(x)\n",
    "    return x*(1-c/m) if m>gamma+c else gamma*x/(c+0.5*gamma+np.sqrt((c+0.5*gamma)**2-c*m))\n",
    "prox_J2 = np.vectorize(fJ)\n",
    "def prox_F2_dual2(z,c):\n",
    "    global pn1\n",
    "    return z-c*prox_J2(z/c,pn1/c)\n",
    "\n",
    "#Vectorizing\n",
    "def prox_J3(x,c):\n",
    "    global gamma\n",
    "    return np.where(np.abs(x)>gamma+c,x*(1-c/np.abs(x)),\n",
    "                    gamma*x/(c+0.5*gamma+np.sqrt((c+0.5*gamma)**2-c*np.abs(x))))\n",
    "def prox_F2_dual3(z,c):\n",
    "    global pn1\n",
    "    return z-c*prox_J3(z/c,pn1/c)"
   ]
  },
  {
   "cell_type": "code",
   "execution_count": 117,
   "metadata": {},
   "outputs": [],
   "source": [
    "def prox_F2(u,c):\n",
    "    if len(u.shape)==1:\n",
    "        v = []\n",
    "        for x in u:\n",
    "            mod = np.abs(x)\n",
    "            if mod>c*pn1+gamma:\n",
    "                v.append(x*(mod-c*pn1)/mod)\n",
    "            else:\n",
    "                delta = 1+4*c*pn1/gamma/gamma*(gamma+c*pn1-mod)\n",
    "                const = gamma+gamma*gamma/(2*c*pn1)*(1-np.sqrt(delta))\n",
    "                v.append(0 if mod==0 else const*x/mod)\n",
    "        return np.array(v)\n",
    "    else:\n",
    "        (l,n,p) = u.shape\n",
    "        out = (1+1j)*np.zeros((l,n,p))\n",
    "        for i in range(n):\n",
    "            for j in range(p):\n",
    "                mod = np.linalg.norm([u[k][i][j] for k in range(l)])\n",
    "                if mod>c*pn1+gamma:\n",
    "                    for k in range(l):\n",
    "                        out[k][i][j] = u[k][i][j]*(mod-c*pn1)/mod\n",
    "                else:\n",
    "                    delta = 1+4*c*pn1/gamma/gamma*(gamma+c*pn1-mod)\n",
    "                    const = gamma+gamma*gamma/(2*c*pn1)*(1-np.sqrt(delta))\n",
    "                    for k in range(l):\n",
    "                        if mod == 0:\n",
    "                            out[k][i][j] = 0\n",
    "                        else:\n",
    "                            out[k][i][j] = const*u[k][i][j]/mod\n",
    "        return out\n",
    "\n",
    "def prox_F2_dual(u,c):\n",
    "    return u-c*prox_F2(u/c,1/c)"
   ]
  },
  {
   "cell_type": "code",
   "execution_count": 150,
   "metadata": {
    "scrolled": true
   },
   "outputs": [
    {
     "name": "stderr",
     "output_type": "stream",
     "text": [
      "/home/guillaume/anaconda3/lib/python3.7/site-packages/ipykernel_launcher.py:32: RuntimeWarning: invalid value encountered in sqrt\n"
     ]
    },
    {
     "name": "stdout",
     "output_type": "stream",
     "text": [
      "1.999592858760522e-06 1.9995928587605217e-06 1.9995928587605217e-06\n",
      "1.7085204124450684 0.7744390964508057 0.02626943588256836\n"
     ]
    }
   ],
   "source": [
    "c=2\n",
    "a = linear_op.op(fourier_op.adj_op(p*y))\n",
    "t1=time.time()\n",
    "y1 = prox_F2_dual(a,c)\n",
    "t2=time.time()\n",
    "y2 = prox_F2_dual2(a,c)\n",
    "t3=time.time()\n",
    "y3 = prox_F2_dual3(a,c)\n",
    "t4=time.time()\n",
    "\n",
    "r1 = c*f2(y1)+0.5*np.linalg.norm(a-y1)**2\n",
    "r2 = c*f2(y2)+0.5*np.linalg.norm(a-y2)**2\n",
    "r3 = c*f2(y3)+0.5*np.linalg.norm(a-y3)**2\n",
    "print(r1,r2,r3)\n",
    "print(t2-t1,t3-t2,t4-t3)"
   ]
  },
  {
   "cell_type": "code",
   "execution_count": 120,
   "metadata": {},
   "outputs": [],
   "source": [
    "#prox_tauF1\n",
    "def prox_F1(u,c):\n",
    "    im=(fourier_op.op(u)+c*p*p*y)/(np.ones(y.shape)+c*p*p)\n",
    "    return fourier_op.adj_op(im)\n",
    "\n",
    "def prox_F1_dual2(u,c):\n",
    "    return u-c*prox_F1(u/c,1/c)\n",
    "\n",
    "def prox_F1_dual(u,c):\n",
    "    global p\n",
    "    return u-c*fourier_op.adj_op((fourier_op.op(u)+p*p*y)/(c*np.ones(y.shape)+p*p))"
   ]
  },
  {
   "cell_type": "code",
   "execution_count": 272,
   "metadata": {},
   "outputs": [
    {
     "name": "stdout",
     "output_type": "stream",
     "text": [
      "True\n",
      "0.29297518730163574 0.27065205574035645\n"
     ]
    }
   ],
   "source": [
    "c=2\n",
    "a = 1e-5*np.random.rand(512,512)\n",
    "t1=time.time()\n",
    "y1 = prox_F1_dual(a,c)\n",
    "t2=time.time()\n",
    "y2 = prox_F1_dual2(a,c)\n",
    "t3=time.time()\n",
    "\n",
    "r1 = c*f1(y1)+0.5*np.linalg.norm(a-y1)**2\n",
    "r2 = c*f1(y2)+0.5*np.linalg.norm(a-y2)**2\n",
    "print(r1==r2)\n",
    "print(t2-t1,t3-t2)"
   ]
  },
  {
   "cell_type": "markdown",
   "metadata": {},
   "source": [
    "# Test with only one regulariser\n",
    "We only use F1 and G."
   ]
  },
  {
   "cell_type": "code",
   "execution_count": 150,
   "metadata": {},
   "outputs": [],
   "source": [
    "#constants\n",
    "zeta = 1e15\n",
    "epsilon = 1e4"
   ]
  },
  {
   "cell_type": "code",
   "execution_count": 151,
   "metadata": {},
   "outputs": [],
   "source": [
    "L=1\n",
    "mu = 2*np.sqrt(epsilon/(1+L*L))\n",
    "tau = mu/2/epsilon\n",
    "sigma = mu/2\n",
    "theta = 1/(1+mu)\n",
    "\n",
    "tol = 1e-4"
   ]
  },
  {
   "cell_type": "code",
   "execution_count": 96,
   "metadata": {},
   "outputs": [
    {
     "name": "stdout",
     "output_type": "stream",
     "text": [
      "3.2689696730111117e-07 0.019073484054388315\n"
     ]
    }
   ],
   "source": [
    "print(f1(u0_mat),g(u0_mat))"
   ]
  },
  {
   "cell_type": "code",
   "execution_count": 152,
   "metadata": {},
   "outputs": [],
   "source": [
    "def step_test(uk,vk,uk_bar):\n",
    "    global theta,tau,sigma\n",
    "    vk1 = prox_F1_dual(vk+sigma*uk_bar,sigma)\n",
    "    uk1 = prox_G2(uk-tau*np.real(vk1),tau)    \n",
    "    uk_bar1 = uk1+theta*(uk1-uk)\n",
    "\n",
    "    norm = np.linalg.norm(uk1-uk)/np.linalg.norm(uk)\n",
    "    norm += (np.linalg.norm(vk1-vk))/(np.linalg.norm(vk))\n",
    "    return uk1,vk1,uk_bar1,norm"
   ]
  },
  {
   "cell_type": "code",
   "execution_count": 153,
   "metadata": {},
   "outputs": [],
   "source": [
    "#initialisation\n",
    "n_iter = 0\n",
    "uk = np.real(fourier_op.adj_op(p*y))\n",
    "vk = np.copy(uk)\n",
    "uk_bar = np.copy(uk)\n",
    "norm = 2*tol\n",
    "\n",
    "energy_f1 = [f1(uk)]\n",
    "energy_g = [g(uk)]\n",
    "norms = []\n",
    "ssims = [ssim(uk,u0_mat)]\n",
    "#image_rec0.show()\n",
    "#print(ssim(uk,u0_mat))"
   ]
  },
  {
   "cell_type": "code",
   "execution_count": 154,
   "metadata": {
    "scrolled": true
   },
   "outputs": [
    {
     "name": "stdout",
     "output_type": "stream",
     "text": [
      "Base ssim: 0.7492049976313807\n",
      "1  iterations:\n",
      "Cost: 2.4686828734092863e-05 \n",
      "ssim: 0.7257510258240502 \n",
      "Norm: 1.9827369389824039 \n",
      "\n",
      "2  iterations:\n",
      "Cost: 2.2546971579439483e-06 \n",
      "ssim: 0.4993108446886969 \n",
      "Norm: 11.916473581217222 \n",
      "\n",
      "3  iterations:\n",
      "Cost: 2.1838165996516855e-06 \n",
      "ssim: 0.4585569560626431 \n",
      "Norm: 0.6409253959671363 \n",
      "\n",
      "4  iterations:\n",
      "Cost: 2.17977389843209e-06 \n",
      "ssim: 0.46967325505027574 \n",
      "Norm: 0.06778252594194804 \n",
      "\n",
      "5  iterations:\n",
      "Cost: 2.1792846997515847e-06 \n",
      "ssim: 0.47269430531793444 \n",
      "Norm: 0.013859276540296442 \n",
      "\n",
      "6  iterations:\n",
      "Cost: 2.1792114542572804e-06 \n",
      "ssim: 0.47342192123782717 \n",
      "Norm: 0.004044341630052534 \n",
      "\n",
      "7  iterations:\n",
      "Cost: 2.1791987373877236e-06 \n",
      "ssim: 0.47361900614297064 \n",
      "Norm: 0.0016033893574182766 \n",
      "\n",
      "8  iterations:\n",
      "Cost: 2.1791961553390643e-06 \n",
      "ssim: 0.47368012342441945 \n",
      "Norm: 0.0008036059871946977 \n",
      "\n",
      "9  iterations:\n",
      "Cost: 2.1791955337431457e-06 \n",
      "ssim: 0.47370261323584245 \n",
      "Norm: 0.00047035301788920906 \n",
      "\n",
      "10  iterations:\n",
      "Cost: 2.17919535580501e-06 \n",
      "ssim: 0.4737116361063388 \n",
      "Norm: 0.0003025539312566904 \n",
      "\n",
      "11  iterations:\n",
      "Cost: 2.1791952959310593e-06 \n",
      "ssim: 0.4737135516775739 \n",
      "Norm: 0.00020954965654425091 \n",
      "\n",
      "12  iterations:\n",
      "Cost: 2.179195272754611e-06 \n",
      "ssim: 0.4737168515446779 \n",
      "Norm: 0.0001574334583752147 \n",
      "\n",
      "13  iterations:\n",
      "Cost: 2.1791952626876173e-06 \n",
      "ssim: 0.4737189578968278 \n",
      "Norm: 0.00011861110754875393 \n",
      "\n",
      "14  iterations:\n",
      "Cost: 2.179195257889839e-06 \n",
      "ssim: 0.4737196568895953 \n",
      "Norm: 9.272395905192375e-05 \n",
      "\n",
      "Final ssim after  14  iterations: 0.4737196568895953\n"
     ]
    }
   ],
   "source": [
    "print(\"Base ssim:\",ssim(uk,u0_mat))\n",
    "while norm>tol and n_iter<100:\n",
    "    uk,vk,uk_bar,norm = step_test(uk,vk,uk_bar)\n",
    "    n_iter += 1\n",
    "    \n",
    "    energy_f1.append(f1(uk))\n",
    "    energy_g.append(g(uk))\n",
    "    norms.append(norm)\n",
    "    ssims.append(ssim(uk,u0_mat))\n",
    "    \n",
    "    print(n_iter,\" iterations:\\nCost:\",energy_f1[-1]+energy_g[-1],\"\\nssim:\",ssims[-1],\"\\nNorm:\",norm,\"\\n\")\n",
    "print(\"Final ssim after \",n_iter,\" iterations:\",ssim(uk,u0_mat))"
   ]
  },
  {
   "cell_type": "code",
   "execution_count": 148,
   "metadata": {},
   "outputs": [
    {
     "name": "stdout",
     "output_type": "stream",
     "text": [
      "0.13676119910646764\n"
     ]
    }
   ],
   "source": [
    "#Final image\n",
    "image_rec = pysap.Image(data=np.real(uk))\n",
    "print(ssim(uk,u0_mat))\n",
    "image_rec.show()"
   ]
  },
  {
   "cell_type": "code",
   "execution_count": 131,
   "metadata": {},
   "outputs": [
    {
     "data": {
      "text/plain": [
       "8.346192862770294e-06"
      ]
     },
     "execution_count": 131,
     "metadata": {},
     "output_type": "execute_result"
    }
   ],
   "source": [
    "g(uk)"
   ]
  },
  {
   "cell_type": "code",
   "execution_count": 132,
   "metadata": {
    "scrolled": false
   },
   "outputs": [
    {
     "data": {
      "image/png": "[encoded data removed]",
      "text/plain": [
       "<Figure size 432x288 with 1 Axes>"
      ]
     },
     "metadata": {
      "needs_background": "light"
     },
     "output_type": "display_data"
    }
   ],
   "source": [
    "plt.plot([energy_f1[i]+energy_g[i] for i in range(len(energy_g))])\n",
    "plt.xlabel(\"Nombre d'iterations\")\n",
    "plt.ylabel(\"fonction de cout\")\n",
    "plt.title(\"Evolution de la fonction de cout F1+G\")\n",
    "plt.yscale(\"log\")\n",
    "#plt.savefig(\"Cout_faible_pen.png\")"
   ]
  },
  {
   "cell_type": "code",
   "execution_count": 133,
   "metadata": {},
   "outputs": [
    {
     "data": {
      "image/png": "[encoded data removed]",
      "text/plain": [
       "<Figure size 432x288 with 1 Axes>"
      ]
     },
     "metadata": {
      "needs_background": "light"
     },
     "output_type": "display_data"
    }
   ],
   "source": [
    "plt.plot(norms)\n",
    "plt.xlabel(\"Nombre d'iterations\")\n",
    "plt.ylabel(\"Critere d'arret\")\n",
    "plt.title(\"Evolution du critere d'arret\")\n",
    "plt.yscale(\"log\")\n",
    "#plt.savefig(\"norm_faible_pen.png\")"
   ]
  },
  {
   "cell_type": "code",
   "execution_count": 134,
   "metadata": {
    "scrolled": false
   },
   "outputs": [
    {
     "data": {
      "text/plain": [
       "Text(0.5, 1.0, \"Evolution de la ssim avec l'image initiale\")"
      ]
     },
     "execution_count": 134,
     "metadata": {},
     "output_type": "execute_result"
    },
    {
     "data": {
      "image/png": "[encoded data removed]",
      "text/plain": [
       "<Figure size 432x288 with 1 Axes>"
      ]
     },
     "metadata": {
      "needs_background": "light"
     },
     "output_type": "display_data"
    }
   ],
   "source": [
    "plt.plot(ssims)\n",
    "plt.xlabel(\"Nombre d'iterations\")\n",
    "plt.ylabel(\"ssim(uk,u0)\")\n",
    "plt.title(\"Evolution de la ssim avec l'image initiale\")\n",
    "#plt.savefig(\"ssim_forte_pen.png\")"
   ]
  },
  {
   "cell_type": "markdown",
   "metadata": {},
   "source": [
    "### Tests\n",
    "- $\\zeta=10^{15}$ and $\\epsilon=10^4$: in this case, $G(u_0)/F_1(u_0)\\approx10^5$. Convergence in 14 iterations, with a final image with an amplitude of $\\approx 10^{-9}$.\n",
    "- $\\zeta=10^{10}$ and $\\epsilon=10^4$: Extremely slow convergence, final image after 100 iterations negative.\n",
    "- $\\zeta=10^{10}$ and $\\epsilon=10^{-8}$: increase of $F_1$ at the beginning, $G$ decreases quickly and stabilizes. Sudden decrease of $\\frac{||u_{k+1}-u_k||}{||u_k||}+\\frac{||v_{k+1}-v_k||}{||v_k||}$ after $\\approx20$ iterations, but no further convergence after that (stuck at $\\approx 2.10^{-4}$). Final image **negative**. The final result in $v_k$ is actually closer to the real image than the final $u_k$.\n",
    "- $\\zeta=10^{15}$ and $\\epsilon=10^{-8}$: Should penalize more the negative values. Same result as before: sudden convergence after 20 iterations, final image less negative scale of about $10^{-11}$ compared to $10^{-8}$ with previous parameters)."
   ]
  },
  {
   "cell_type": "markdown",
   "metadata": {},
   "source": [
    "## With F2 only"
   ]
  },
  {
   "cell_type": "code",
   "execution_count": 346,
   "metadata": {},
   "outputs": [],
   "source": [
    "#constants\n",
    "#convergence quand pn1 tres faible (1e-10)\n",
    "pn1 = 1e-5\n",
    "\n",
    "L=1\n",
    "eta = max(1,pn1*6/gamma)\n",
    "mu = 2*np.sqrt(1/(1+L*L)/eta)\n",
    "tau = mu/2\n",
    "sigma = mu*eta/2\n",
    "theta = 1/(1+mu)\n",
    "\n",
    "maxit = 20\n",
    "tol = 1e-4"
   ]
  },
  {
   "cell_type": "code",
   "execution_count": 347,
   "metadata": {},
   "outputs": [
    {
     "name": "stdout",
     "output_type": "stream",
     "text": [
      "3.2689696730111117e-07 9.969425708082329e-07\n"
     ]
    }
   ],
   "source": [
    "print(f1(u0_mat),f2(linear_op.op(u0_mat)))"
   ]
  },
  {
   "cell_type": "code",
   "execution_count": 348,
   "metadata": {},
   "outputs": [],
   "source": [
    "def step_test2(uk,vk,wk,uk_bar):\n",
    "    vk1 = prox_F1_dual(vk+sigma*uk_bar,sigma)\n",
    "    wk1 = prox_F2_dual(wk+sigma*linear_op.op(uk_bar),sigma)\n",
    "    uk1 = uk-tau*R(vk1)-tau*linear_op.adj_op(wk1)\n",
    "    uk_bar1 = uk1+theta*(uk1-uk)\n",
    "\n",
    "    norm = (np.linalg.norm(vk1-vk)+np.linalg.norm(wk1-wk))/(np.linalg.norm(vk)+np.linalg.norm(wk))\n",
    "    return uk1,vk1,wk1,uk_bar1,norm"
   ]
  },
  {
   "cell_type": "code",
   "execution_count": 349,
   "metadata": {},
   "outputs": [],
   "source": [
    "#initialisation\n",
    "n_iter = 0\n",
    "uk = np.real(fourier_op.adj_op(p*y))\n",
    "image_rec0 = pysap.Image(data=np.abs(uk))\n",
    "\n",
    "vk = np.copy(uk)\n",
    "wk = linear_op.op(uk)\n",
    "uk_bar = np.copy(uk)\n",
    "norm = 2*tol\n",
    "\n",
    "energies = [energy(uk)]\n",
    "norms = []\n",
    "ssims = [ssim(uk,u0_mat)]\n",
    "#image_rec0.show()\n",
    "#print(ssim(uk,u0_mat))"
   ]
  },
  {
   "cell_type": "code",
   "execution_count": 350,
   "metadata": {
    "scrolled": true
   },
   "outputs": [
    {
     "name": "stdout",
     "output_type": "stream",
     "text": [
      "1  iterations:\n",
      "Cost: 1.1088818909803405e-06 \n",
      "ssim: 0.751768852078799 \n",
      "Norm: 1.8518454921297218 \n",
      "\n",
      "2  iterations:\n",
      "Cost: 1.090681712066197e-06 \n",
      "ssim: 0.7542696842265452 \n",
      "Norm: 0.0033307554617508337 \n",
      "\n",
      "3  iterations:\n",
      "Cost: 1.0725584831890313e-06 \n",
      "ssim: 0.7566837397500373 \n",
      "Norm: 0.07185985302069106 \n",
      "\n",
      "4  iterations:\n",
      "Cost: 1.0545805908011807e-06 \n",
      "ssim: 0.7589806121513863 \n",
      "Norm: 0.10223000781713427 \n",
      "\n",
      "5  iterations:\n",
      "Cost: 1.0367252229066488e-06 \n",
      "ssim: 0.7611644803909741 \n",
      "Norm: 0.10560787479530241 \n",
      "\n",
      "6  iterations:\n",
      "Cost: 1.0191816287196224e-06 \n",
      "ssim: 0.7632608815658702 \n",
      "Norm: 0.10407000841594063 \n",
      "\n",
      "7  iterations:\n",
      "Cost: 1.0020149644150791e-06 \n",
      "ssim: 0.7653003531636436 \n",
      "Norm: 0.10642244868303874 \n",
      "\n",
      "8  iterations:\n",
      "Cost: 9.85076315826252e-07 \n",
      "ssim: 0.7672830449923533 \n",
      "Norm: 0.10933325590101174 \n",
      "\n",
      "9  iterations:\n",
      "Cost: 9.683386231594458e-07 \n",
      "ssim: 0.7692270356795313 \n",
      "Norm: 0.10996527219241291 \n",
      "\n",
      "10  iterations:\n",
      "Cost: 9.520087419677528e-07 \n",
      "ssim: 0.7710964071477949 \n",
      "Norm: 0.11051557797653391 \n",
      "\n",
      "11  iterations:\n",
      "Cost: 9.358489803915435e-07 \n",
      "ssim: 0.7729133306998199 \n",
      "Norm: 0.11145573053270942 \n",
      "\n",
      "12  iterations:\n",
      "Cost: 9.197659555083531e-07 \n",
      "ssim: 0.7746630881189801 \n",
      "Norm: 0.11179207908470899 \n",
      "\n",
      "13  iterations:\n",
      "Cost: 9.042717206713406e-07 \n",
      "ssim: 0.7763481547911658 \n",
      "Norm: 0.11248012223360326 \n",
      "\n",
      "14  iterations:\n",
      "Cost: 8.893022131921958e-07 \n",
      "ssim: 0.7779748991055992 \n",
      "Norm: 0.11410501706033555 \n",
      "\n",
      "15  iterations:\n",
      "Cost: 8.745995579811519e-07 \n",
      "ssim: 0.7795431501693172 \n",
      "Norm: 0.11458820570951364 \n",
      "\n",
      "16  iterations:\n",
      "Cost: 8.602406119758199e-07 \n",
      "ssim: 0.7810553110348774 \n",
      "Norm: 0.11464990196200478 \n",
      "\n",
      "17  iterations:\n",
      "Cost: 8.461498198461776e-07 \n",
      "ssim: 0.7825089572430558 \n",
      "Norm: 0.11504021572249748 \n",
      "\n",
      "18  iterations:\n",
      "Cost: 8.323372725434326e-07 \n",
      "ssim: 0.7839093880296475 \n",
      "Norm: 0.11507652847989609 \n",
      "\n",
      "19  iterations:\n",
      "Cost: 8.190508223301542e-07 \n",
      "ssim: 0.7852517608526569 \n",
      "Norm: 0.11520254462941831 \n",
      "\n",
      "20  iterations:\n",
      "Cost: 8.063990134428961e-07 \n",
      "ssim: 0.7865406774275333 \n",
      "Norm: 0.11540643937523444 \n",
      "\n",
      "21  iterations:\n",
      "Cost: 7.941380124916975e-07 \n",
      "ssim: 0.7877573271752357 \n",
      "Norm: 0.11589605441470137 \n",
      "\n",
      "22  iterations:\n",
      "Cost: 7.82192515080452e-07 \n",
      "ssim: 0.7889045756948032 \n",
      "Norm: 0.11673668310587675 \n",
      "\n",
      "23  iterations:\n",
      "Cost: 7.704059014830243e-07 \n",
      "ssim: 0.7899837319758168 \n",
      "Norm: 0.11708212190081389 \n",
      "\n",
      "24  iterations:\n",
      "Cost: 7.58699847558438e-07 \n",
      "ssim: 0.7910046693892607 \n",
      "Norm: 0.11684316736038831 \n",
      "\n",
      "25  iterations:\n",
      "Cost: 7.474162504706798e-07 \n",
      "ssim: 0.7920006153322721 \n",
      "Norm: 0.11684308838311348 \n",
      "\n",
      "26  iterations:\n",
      "Cost: 7.365800908575366e-07 \n",
      "ssim: 0.792933583961958 \n",
      "Norm: 0.1167760378854582 \n",
      "\n"
     ]
    },
    {
     "ename": "KeyboardInterrupt",
     "evalue": "",
     "output_type": "error",
     "traceback": [
      "\u001b[0;31m---------------------------------------------------------------------------\u001b[0m",
      "\u001b[0;31mKeyboardInterrupt\u001b[0m                         Traceback (most recent call last)",
      "\u001b[0;32m<ipython-input-350-10264272d521>\u001b[0m in \u001b[0;36m<module>\u001b[0;34m\u001b[0m\n\u001b[1;32m      3\u001b[0m     \u001b[0mn_iter\u001b[0m \u001b[0;34m+=\u001b[0m \u001b[0;36m1\u001b[0m\u001b[0;34m\u001b[0m\u001b[0;34m\u001b[0m\u001b[0m\n\u001b[1;32m      4\u001b[0m     \u001b[0mnorms\u001b[0m\u001b[0;34m.\u001b[0m\u001b[0mappend\u001b[0m\u001b[0;34m(\u001b[0m\u001b[0mnorm\u001b[0m\u001b[0;34m)\u001b[0m\u001b[0;34m\u001b[0m\u001b[0;34m\u001b[0m\u001b[0m\n\u001b[0;32m----> 5\u001b[0;31m     \u001b[0menergies\u001b[0m\u001b[0;34m.\u001b[0m\u001b[0mappend\u001b[0m\u001b[0;34m(\u001b[0m\u001b[0mf1\u001b[0m\u001b[0;34m(\u001b[0m\u001b[0muk\u001b[0m\u001b[0;34m)\u001b[0m\u001b[0;34m+\u001b[0m\u001b[0mf2\u001b[0m\u001b[0;34m(\u001b[0m\u001b[0mnp\u001b[0m\u001b[0;34m.\u001b[0m\u001b[0marray\u001b[0m\u001b[0;34m(\u001b[0m\u001b[0mGradientIm\u001b[0m\u001b[0;34m(\u001b[0m\u001b[0muk\u001b[0m\u001b[0;34m)\u001b[0m\u001b[0;34m)\u001b[0m\u001b[0;34m)\u001b[0m\u001b[0;34m)\u001b[0m\u001b[0;34m\u001b[0m\u001b[0;34m\u001b[0m\u001b[0m\n\u001b[0m\u001b[1;32m      6\u001b[0m     \u001b[0mssims\u001b[0m\u001b[0;34m.\u001b[0m\u001b[0mappend\u001b[0m\u001b[0;34m(\u001b[0m\u001b[0mssim\u001b[0m\u001b[0;34m(\u001b[0m\u001b[0muk\u001b[0m\u001b[0;34m,\u001b[0m\u001b[0mu0_mat\u001b[0m\u001b[0;34m)\u001b[0m\u001b[0;34m)\u001b[0m\u001b[0;34m\u001b[0m\u001b[0;34m\u001b[0m\u001b[0m\n\u001b[1;32m      7\u001b[0m     \u001b[0mprint\u001b[0m\u001b[0;34m(\u001b[0m\u001b[0mn_iter\u001b[0m\u001b[0;34m,\u001b[0m\u001b[0;34m\" iterations:\\nCost:\"\u001b[0m\u001b[0;34m,\u001b[0m\u001b[0menergies\u001b[0m\u001b[0;34m[\u001b[0m\u001b[0;34m-\u001b[0m\u001b[0;36m1\u001b[0m\u001b[0;34m]\u001b[0m\u001b[0;34m,\u001b[0m\u001b[0;34m\"\\nssim:\"\u001b[0m\u001b[0;34m,\u001b[0m\u001b[0mssims\u001b[0m\u001b[0;34m[\u001b[0m\u001b[0;34m-\u001b[0m\u001b[0;36m1\u001b[0m\u001b[0;34m]\u001b[0m\u001b[0;34m,\u001b[0m\u001b[0;34m\"\\nNorm:\"\u001b[0m\u001b[0;34m,\u001b[0m\u001b[0mnorm\u001b[0m\u001b[0;34m,\u001b[0m\u001b[0;34m\"\\n\"\u001b[0m\u001b[0;34m)\u001b[0m\u001b[0;34m\u001b[0m\u001b[0;34m\u001b[0m\u001b[0m\n",
      "\u001b[0;32m<ipython-input-29-2dd5a70318b2>\u001b[0m in \u001b[0;36mf2\u001b[0;34m(w)\u001b[0m\n\u001b[1;32m     27\u001b[0m         \u001b[0;32mfor\u001b[0m \u001b[0mi\u001b[0m \u001b[0;32min\u001b[0m \u001b[0mrange\u001b[0m\u001b[0;34m(\u001b[0m\u001b[0mn\u001b[0m\u001b[0;34m)\u001b[0m\u001b[0;34m:\u001b[0m\u001b[0;34m\u001b[0m\u001b[0;34m\u001b[0m\u001b[0m\n\u001b[1;32m     28\u001b[0m             \u001b[0;32mfor\u001b[0m \u001b[0mm\u001b[0m \u001b[0;32min\u001b[0m \u001b[0mrange\u001b[0m\u001b[0;34m(\u001b[0m\u001b[0mp\u001b[0m\u001b[0;34m)\u001b[0m\u001b[0;34m:\u001b[0m\u001b[0;34m\u001b[0m\u001b[0;34m\u001b[0m\u001b[0m\n\u001b[0;32m---> 29\u001b[0;31m                 \u001b[0mv\u001b[0m\u001b[0;34m[\u001b[0m\u001b[0mi\u001b[0m\u001b[0;34m]\u001b[0m\u001b[0;34m[\u001b[0m\u001b[0mm\u001b[0m\u001b[0;34m]\u001b[0m \u001b[0;34m=\u001b[0m \u001b[0mnp\u001b[0m\u001b[0;34m.\u001b[0m\u001b[0mlinalg\u001b[0m\u001b[0;34m.\u001b[0m\u001b[0mnorm\u001b[0m\u001b[0;34m(\u001b[0m\u001b[0;34m[\u001b[0m\u001b[0mw\u001b[0m\u001b[0;34m[\u001b[0m\u001b[0mk\u001b[0m\u001b[0;34m]\u001b[0m\u001b[0;34m[\u001b[0m\u001b[0mi\u001b[0m\u001b[0;34m]\u001b[0m\u001b[0;34m[\u001b[0m\u001b[0mj\u001b[0m\u001b[0;34m]\u001b[0m \u001b[0;32mfor\u001b[0m \u001b[0mk\u001b[0m \u001b[0;32min\u001b[0m \u001b[0mrange\u001b[0m\u001b[0;34m(\u001b[0m\u001b[0ml\u001b[0m\u001b[0;34m)\u001b[0m\u001b[0;34m]\u001b[0m\u001b[0;34m)\u001b[0m\u001b[0;34m\u001b[0m\u001b[0;34m\u001b[0m\u001b[0m\n\u001b[0m\u001b[1;32m     30\u001b[0m         \u001b[0;32mreturn\u001b[0m \u001b[0mJ\u001b[0m\u001b[0;34m(\u001b[0m\u001b[0mv\u001b[0m\u001b[0;34m)\u001b[0m\u001b[0;34m\u001b[0m\u001b[0;34m\u001b[0m\u001b[0m\n",
      "\u001b[0;31mKeyboardInterrupt\u001b[0m: "
     ]
    }
   ],
   "source": [
    "while n_iter<100 and norm>tol:\n",
    "    uk,vk,wk,uk_bar,norm = step_test2(uk,vk,wk,uk_bar)\n",
    "    n_iter += 1\n",
    "    norms.append(norm)\n",
    "    energies.append(f1(uk)+f2(np.array(GradientIm(uk))))\n",
    "    ssims.append(ssim(uk,u0_mat))\n",
    "    print(n_iter,\" iterations:\\nCost:\",energies[-1],\"\\nssim:\",ssims[-1],\"\\nNorm:\",norm,\"\\n\")\n",
    "print(\"Final ssim after \",n_iter,\" iterations:\",ssim(uk,u0_mat))"
   ]
  },
  {
   "cell_type": "code",
   "execution_count": 351,
   "metadata": {
    "scrolled": true
   },
   "outputs": [
    {
     "name": "stdout",
     "output_type": "stream",
     "text": [
      "0.7938358837649736\n"
     ]
    }
   ],
   "source": [
    "#Final image\n",
    "image_rec = pysap.Image(data=np.real(uk))\n",
    "print(ssim(uk,u0_mat))\n",
    "image_rec.show()"
   ]
  },
  {
   "cell_type": "code",
   "execution_count": 352,
   "metadata": {},
   "outputs": [
    {
     "data": {
      "image/png": "[encoded data removed]",
      "text/plain": [
       "<Figure size 432x288 with 1 Axes>"
      ]
     },
     "metadata": {
      "needs_background": "light"
     },
     "output_type": "display_data"
    }
   ],
   "source": [
    "plt.plot(energies)\n",
    "plt.yscale(\"log\")"
   ]
  },
  {
   "cell_type": "code",
   "execution_count": 353,
   "metadata": {},
   "outputs": [
    {
     "data": {
      "image/png": "[encoded data removed]",
      "text/plain": [
       "<Figure size 432x288 with 1 Axes>"
      ]
     },
     "metadata": {
      "needs_background": "light"
     },
     "output_type": "display_data"
    }
   ],
   "source": [
    "plt.plot(norms)\n",
    "plt.yscale(\"log\")"
   ]
  },
  {
   "cell_type": "code",
   "execution_count": 354,
   "metadata": {},
   "outputs": [
    {
     "data": {
      "text/plain": [
       "[<matplotlib.lines.Line2D at 0x7f0a3890cb00>]"
      ]
     },
     "execution_count": 354,
     "metadata": {},
     "output_type": "execute_result"
    },
    {
     "data": {
      "image/png": "[encoded data removed]",
      "text/plain": [
       "<Figure size 432x288 with 1 Axes>"
      ]
     },
     "metadata": {
      "needs_background": "light"
     },
     "output_type": "display_data"
    }
   ],
   "source": [
    "plt.plot(ssims)"
   ]
  },
  {
   "cell_type": "markdown",
   "metadata": {},
   "source": [
    "# Implementation of the PDHG algorithm"
   ]
  },
  {
   "cell_type": "code",
   "execution_count": 204,
   "metadata": {},
   "outputs": [],
   "source": [
    "#constants\n",
    "zeta = 1e15\n",
    "pn1 = 1e-6\n",
    "epsilon = 1e-1"
   ]
  },
  {
   "cell_type": "code",
   "execution_count": 205,
   "metadata": {},
   "outputs": [],
   "source": [
    "L=1\n",
    "eta = max(np.amax(p)**2,pn1*6/gamma)\n",
    "# eta = max(np.amax(p)**2,5*pn1/2/gamma)\n",
    "mu = 2*np.sqrt(epsilon/(1+L*L)/eta)\n",
    "tau = mu/2/epsilon\n",
    "sigma = mu*eta/2\n",
    "theta = 1/(1+mu)\n",
    "\n",
    "tol = 1e-4"
   ]
  },
  {
   "cell_type": "code",
   "execution_count": 206,
   "metadata": {},
   "outputs": [
    {
     "name": "stdout",
     "output_type": "stream",
     "text": [
      "3.273685818053083e-07 1.1484998937500683e-07 1.9073484054388313e-07\n"
     ]
    }
   ],
   "source": [
    "print(f1(u0_mat),f2(linear_op.op(u0_mat)),g(u0_mat))"
   ]
  },
  {
   "cell_type": "code",
   "execution_count": 207,
   "metadata": {},
   "outputs": [],
   "source": [
    "def step(uk,vk,wk,uk_bar):\n",
    "    vk1 = prox_F1_dual(vk+sigma*uk_bar,sigma)\n",
    "    wk1 = prox_F2_dual3(wk+sigma*linear_op.op(uk_bar),sigma)\n",
    "    uk1 = prox_G4(uk-tau*np.real(vk1)-tau*linear_op.adj_op(wk1),tau)\n",
    "    uk_bar1 = uk1+theta*(uk1-uk)\n",
    "\n",
    "    norm = np.linalg.norm(uk1-uk)/np.linalg.norm(uk)\n",
    "    norm += (np.linalg.norm(vk1-vk)+np.linalg.norm(wk1-wk))/(np.linalg.norm(vk)+np.linalg.norm(wk))\n",
    "    return uk1,vk1,wk1,uk_bar1,norm"
   ]
  },
  {
   "cell_type": "code",
   "execution_count": 208,
   "metadata": {},
   "outputs": [],
   "source": [
    "#initialisation\n",
    "n_iter = 0\n",
    "uk = np.real(fourier_op.adj_op(p*y))\n",
    "image_rec0 = pysap.Image(data=np.abs(uk))\n",
    "\n",
    "energy_f1 = [f1(uk)]\n",
    "energy_f2 = [f2(linear_op.op(uk))]\n",
    "energy_g = [g(uk)]\n",
    "norms = []\n",
    "ssims = [ssim(uk,u0_mat)]\n",
    "#image_rec0.show()\n",
    "#print(ssim(uk,u0_mat))"
   ]
  },
  {
   "cell_type": "code",
   "execution_count": 209,
   "metadata": {},
   "outputs": [],
   "source": [
    "vk = np.copy(uk)\n",
    "wk = linear_op.op(uk)\n",
    "uk_bar = np.copy(uk)\n",
    "norm = 2*tol"
   ]
  },
  {
   "cell_type": "code",
   "execution_count": 210,
   "metadata": {
    "scrolled": true
   },
   "outputs": [
    {
     "name": "stderr",
     "output_type": "stream",
     "text": [
      "/home/guillaume/anaconda3/lib/python3.7/site-packages/ipykernel_launcher.py:32: RuntimeWarning: invalid value encountered in sqrt\n",
      "/home/guillaume/anaconda3/lib/python3.7/site-packages/ipykernel_launcher.py:24: RuntimeWarning: invalid value encountered in sqrt\n"
     ]
    },
    {
     "name": "stdout",
     "output_type": "stream",
     "text": [
      "10  iterations:\n",
      "Cost: 5.995615078574847e-07 \n",
      "ssim: 0.7853111697175502 \n",
      "Norm: 0.0935149872577592 \n",
      "\n",
      "20  iterations:\n",
      "Cost: 5.861195807038704e-07 \n",
      "ssim: 0.7985135527191363 \n",
      "Norm: 0.07970322053196646 \n",
      "\n",
      "30  iterations:\n",
      "Cost: 5.771053267434935e-07 \n",
      "ssim: 0.8090900151217634 \n",
      "Norm: 0.06539296697350609 \n",
      "\n",
      "40  iterations:\n",
      "Cost: 5.708628083785844e-07 \n",
      "ssim: 0.8177677146058956 \n",
      "Norm: 0.0534719953738979 \n",
      "\n",
      "50  iterations:\n",
      "Cost: 5.663850042732344e-07 \n",
      "ssim: 0.8249185746439994 \n",
      "Norm: 0.04264742241102326 \n",
      "\n",
      "60  iterations:\n",
      "Cost: 5.63069434906863e-07 \n",
      "ssim: 0.831169899282638 \n",
      "Norm: 0.03482244855386377 \n",
      "\n",
      "70  iterations:\n",
      "Cost: 5.605531999077125e-07 \n",
      "ssim: 0.83676953952369 \n",
      "Norm: 0.029219903847834655 \n",
      "\n",
      "80  iterations:\n",
      "Cost: 5.586096941395822e-07 \n",
      "ssim: 0.8416325480481128 \n",
      "Norm: 0.02417952213823051 \n",
      "\n",
      "90  iterations:\n",
      "Cost: 5.570861599758995e-07 \n",
      "ssim: 0.8460140139044336 \n",
      "Norm: 0.020366232108305352 \n",
      "\n",
      "100  iterations:\n",
      "Cost: 5.558759948964858e-07 \n",
      "ssim: 0.8499258176715818 \n",
      "Norm: 0.017483879766246335 \n",
      "\n",
      "110  iterations:\n",
      "Cost: 5.549062209626562e-07 \n",
      "ssim: 0.8534309656818534 \n",
      "Norm: 0.014875124859082581 \n",
      "\n",
      "120  iterations:\n",
      "Cost: 5.541221586839462e-07 \n",
      "ssim: 0.8565929693225043 \n",
      "Norm: 0.01278094454085951 \n",
      "\n",
      "130  iterations:\n",
      "Cost: 5.534829701270621e-07 \n",
      "ssim: 0.859423694062191 \n",
      "Norm: 0.01120432566806954 \n",
      "\n",
      "140  iterations:\n",
      "Cost: 5.529592091104013e-07 \n",
      "ssim: 0.8619886558070229 \n",
      "Norm: 0.009774848267746765 \n",
      "\n",
      "150  iterations:\n",
      "Cost: 5.52527181043539e-07 \n",
      "ssim: 0.8643114502712328 \n",
      "Norm: 0.00864685865874103 \n",
      "\n",
      "160  iterations:\n",
      "Cost: 5.521689835628516e-07 \n",
      "ssim: 0.8664254836576372 \n",
      "Norm: 0.007522346207982687 \n",
      "\n",
      "170  iterations:\n",
      "Cost: 5.518708469748954e-07 \n",
      "ssim: 0.8683581052689346 \n",
      "Norm: 0.006689882790455049 \n",
      "\n",
      "180  iterations:\n",
      "Cost: 5.516216744762261e-07 \n",
      "ssim: 0.8701325559558687 \n",
      "Norm: 0.006176844648216152 \n",
      "\n",
      "190  iterations:\n",
      "Cost: 5.514125032490035e-07 \n",
      "ssim: 0.8718087335682335 \n",
      "Norm: 0.005603676334647929 \n",
      "\n",
      "200  iterations:\n",
      "Cost: 5.512365344041686e-07 \n",
      "ssim: 0.8733670962106773 \n",
      "Norm: 0.005029636105199691 \n",
      "\n",
      "Final ssim after 200 iterations: 0.8733670962106773 in 198.30341458320618 s\n"
     ]
    }
   ],
   "source": [
    "t1 = time.time()\n",
    "while n_iter<200 and norm>tol:\n",
    "    uk,vk,wk,uk_bar,norm = step(uk,vk,wk,uk_bar)\n",
    "    n_iter += 1\n",
    "    norms.append(norm)\n",
    "    energy_f1.append(f1(uk))\n",
    "    energy_f2.append(f2(linear_op.op(uk)))\n",
    "    energy_g.append(g(uk))\n",
    "    ssims.append(ssim(uk,u0_mat))\n",
    "    if n_iter%10==0:\n",
    "        print(n_iter,\" iterations:\\nCost:\",energy_f1[-1]+energy_f2[-1]+energy_g[-1]\n",
    "              ,\"\\nssim:\",ssims[-1],\"\\nNorm:\",norm,\"\\n\")\n",
    "print(\"Final ssim after\",n_iter,\"iterations:\",ssim(uk,u0_mat),\"in\",time.time()-t1,\"s\")"
   ]
  },
  {
   "cell_type": "code",
   "execution_count": 211,
   "metadata": {
    "scrolled": false
   },
   "outputs": [
    {
     "name": "stdout",
     "output_type": "stream",
     "text": [
      "0.8733670962106773\n"
     ]
    }
   ],
   "source": [
    "#Final image\n",
    "image_rec = pysap.Image(data=np.real(uk))\n",
    "print(ssim(uk,u0_mat))\n",
    "image_rec.show()"
   ]
  },
  {
   "cell_type": "code",
   "execution_count": 212,
   "metadata": {
    "scrolled": true
   },
   "outputs": [
    {
     "name": "stdout",
     "output_type": "stream",
     "text": [
      "6.329534117241982e-07 5.512365344041686e-07\n"
     ]
    }
   ],
   "source": [
    "print(energy_wavelet(u0_mat),energy_wavelet(uk))"
   ]
  },
  {
   "cell_type": "code",
   "execution_count": 213,
   "metadata": {},
   "outputs": [
    {
     "data": {
      "image/png": "[encoded data removed]",
      "text/plain": [
       "<Figure size 432x288 with 1 Axes>"
      ]
     },
     "metadata": {
      "needs_background": "light"
     },
     "output_type": "display_data"
    }
   ],
   "source": [
    "plt.plot(np.array(energy_g[1:])+np.array(energy_f1[1:])+np.array(energy_f2[1:]))\n",
    "plt.yscale(\"log\")\n",
    "plt.xlabel(\"Nombre d'iterations\")\n",
    "plt.ylabel(\"fonction de cout\")\n",
    "plt.title(\"Evolution de la fonction de cout\")\n",
    "plt.yscale(\"log\")\n",
    "#plt.savefig(\"Cout_tot.png\")"
   ]
  },
  {
   "cell_type": "code",
   "execution_count": 214,
   "metadata": {
    "scrolled": true
   },
   "outputs": [
    {
     "data": {
      "image/png": "[encoded data removed]",
      "text/plain": [
       "<Figure size 432x288 with 1 Axes>"
      ]
     },
     "metadata": {
      "needs_background": "light"
     },
     "output_type": "display_data"
    }
   ],
   "source": [
    "plt.plot(norms)\n",
    "plt.yscale(\"log\")\n",
    "plt.xlabel(\"Nombre d'iterations\")\n",
    "plt.ylabel(\"Critere d'arret\")\n",
    "plt.title(\"Evolution du critere d'arret\")\n",
    "plt.yscale(\"log\")\n",
    "#plt.savefig(\"norm_tot.png\")"
   ]
  },
  {
   "cell_type": "code",
   "execution_count": 215,
   "metadata": {
    "scrolled": true
   },
   "outputs": [
    {
     "data": {
      "text/plain": [
       "[<matplotlib.lines.Line2D at 0x7fb11a815588>]"
      ]
     },
     "execution_count": 215,
     "metadata": {},
     "output_type": "execute_result"
    },
    {
     "data": {
      "image/png": "[encoded data removed]",
      "text/plain": [
       "<Figure size 432x288 with 1 Axes>"
      ]
     },
     "metadata": {
      "needs_background": "light"
     },
     "output_type": "display_data"
    }
   ],
   "source": [
    "plt.plot(ssims)"
   ]
  },
  {
   "cell_type": "markdown",
   "metadata": {},
   "source": [
    "### Tests\n",
    "With radial mask:\n",
    "- $\\zeta=10^{15}$, $\\epsilon=10^{-1}$, $\\alpha(p)(=pn1)=10^{-5}$, haar wavelet 4 scales: In this case, we have $F_1(u_0)\\approx F_2(u_0)\\approx G(u_0)\\approx 10^{-7}$. Slow convergence, but linear as expected. Cost function decreases but extremely slowly ($6,3.10^{-7}$ to $5,6.10^{-7}$ in 100 iterations). $F_2$ and $G$ decrease but $F_1$ increases. Final image has an ssim of 0.84 (after 100 iterations) with an amplitude similar to the original image.\n",
    "\n",
    "- $\\zeta=10^{15}$, $\\epsilon=10^{-1}$, $\\alpha(p)(=pn1)=10^{-5}$, haar wavelet 7 scales: Same results.\n",
    "\n",
    "- $\\zeta=10^{15}$, $\\epsilon=10^{-5}$, $\\alpha(p)(=pn1)=10^{-6}$, haar wavelet 7 scales: Converges more quickly (52 iterations for a $tol=10^{-4}$. Good final result (ssim=0.87 with same amplitude as the original image).\n",
    "\n",
    "- $\\zeta=10^{15}$, $\\epsilon=10^{-8}$, $\\alpha(p)(=pn1)=10^{-6}$, haar wavelet 7 scales:With this value of $\\epsilon$, we had strange results with only $F_1$ and $G$. Here, we get a final image after 100 iterations close to the previous one (with $\\epsilon=10^{-5}$), which was expected, but the evolution of the cost function and norms are strange: Cost function stable after 5-6 iterations, but drops quickly at $\\approx 60$ iterations and norm increases between iterations 30 and 60 before starting to decrease again after this break. When I let it run beyond 100 iterations, the convergence seems to be again slow but linear.\n",
    "\n",
    "- $\\zeta=10^{15}$, $\\epsilon=10^{-1}$, $\\alpha(p)(=pn1)=10^{0}$, haar wavelet 4 scales: In this case, $F_2\\gg F_1,G$. Convergence in 60 iterations. Same strange convergence graph as earlier: sudden drop after $\\approx20$ iterations and slow convergence after that. The final image is very smooth inside the brain, but the noise is still there. Final image negative with low amplitude ($10^{-11}$). Decrease of $F_2$ and $G$, increase of $F_1$ again.\n",
    "\n",
    "***Further tests to do:***\n",
    "- Use other wavelet transforms: need to know their Lipschitz constant (L in the algorithm). Lipschitz constant of Haar wavelet=1?\n",
    "\n",
    "- I used the same $\\eta$ as in their Matlab code when they are in the case *wavelet_smoothed*, but not sure that this is the correct constant to use (could explain the slow convergence).\n",
    "\n",
    "- I don't really understand why it doesn't always work with only the $\\mathcal{L}^2$ regularizer."
   ]
  }
 ],
 "metadata": {
  "kernelspec": {
   "display_name": "Python 3",
   "language": "python",
   "name": "python3"
  },
  "language_info": {
   "codemirror_mode": {
    "name": "ipython",
    "version": 3
   },
   "file_extension": ".py",
   "mimetype": "text/x-python",
   "name": "python",
   "nbconvert_exporter": "python",
   "pygments_lexer": "ipython3",
   "version": "3.7.3"
  }
 },
 "nbformat": 4,
 "nbformat_minor": 2
}
