{
 "cells": [
  {
   "cell_type": "markdown",
   "metadata": {},
   "source": [
    "# PDHG Non-cartesian\n",
    "This notebook applies the PDHG algorithm on a non-cartesian mask based on the paper \"Learning the Sampling Pattern for MRI\" published in June 2019. More details on the functions (and especially on the proximal operators) can be found there."
   ]
  },
  {
   "cell_type": "markdown",
   "metadata": {},
   "source": [
    "## Imports"
   ]
  },
  {
   "cell_type": "code",
   "execution_count": 2,
   "metadata": {},
   "outputs": [
    {
     "name": "stderr",
     "output_type": "stream",
     "text": [
      "/home/guillaume/temp/pysap-mri/mri/operators/fourier/cartesian.py:33: UserWarning: pynufft python package has not been found. If needed use the master release. Till then you cannot use NUFFT on GPU\n",
      "  warnings.warn(\"pynufft python package has not been found. If needed use \"\n",
      "/home/guillaume/temp/pysap-mri/mri/operators/fourier/non_cartesian.py:33: UserWarning: pynufft python package has not been found. If needed use the master release. Till then you cannot use NUFFT on GPU\n",
      "  warnings.warn(\"pynufft python package has not been found. If needed use \"\n"
     ]
    },
    {
     "name": "stdout",
     "output_type": "stream",
     "text": [
      "\n",
      "                 .|'''|       /.\\      '||'''|,\n",
      "                 ||          // \\\\      ||   ||\n",
      "'||''|, '||  ||` `|'''|,    //...\\\\     ||...|'\n",
      " ||  ||  `|..||   .   ||   //     \\\\    ||\n",
      " ||..|'      ||   |...|' .//       \\\\. .||\n",
      " ||       ,  |'\n",
      ".||        ''\n",
      "\n",
      "Package version: 0.0.3\n",
      "\n",
      "License: CeCILL-B\n",
      "\n",
      "Authors: \n",
      "\n",
      "Antoine Grigis <antoine.grigis@cea.fr>\n",
      "Samuel Farrens <samuel.farrens@cea.fr>\n",
      "Jean-Luc Starck <jl.stark@cea.fr>\n",
      "Philippe Ciuciu <philippe.ciuciu@cea.fr>\n",
      "\n",
      "Dependencies: \n",
      "\n",
      "scipy          : >=1.3.0   - required | 1.3.0     installed\n",
      "numpy          : >=1.16.4  - required | 1.16.4    installed\n",
      "matplotlib     : >=3.0.0   - required | 3.1.1     installed\n",
      "astropy        : >=3.0.0   - required | 3.2.1     installed\n",
      "nibabel        : >=2.3.2   - required | 2.5.1     installed\n",
      "pyqtgraph      : >=0.10.0  - required | 0.10.0    installed\n",
      "progressbar2   : >=3.34.3  - required | ?         installed\n",
      "modopt         : >=1.4.0   - required | 1.4.1     installed\n",
      "scikit-learn   : >=0.19.1  - required | ?         installed\n",
      "pywt           : >=1.0.0   - required | 1.0.3     installed\n",
      "pysparse       : >=0.0.1   - required | 0.1.0     installed\n",
      "\n"
     ]
    }
   ],
   "source": [
    "# Package import\n",
    "from mri.operators import NonCartesianFFT, WaveletUD2, WaveletN ,FFT, gradient\n",
    "from mri.operators.utils import convert_mask_to_locations, convert_locations_to_mask, \\\n",
    "    gridded_inverse_fourier_transform_nd\n",
    "from mri.reconstructors import SingleChannelReconstructor\n",
    "import pysap\n",
    "from pysap.data import get_sample_data\n",
    "from pysap.utils import save_image"
   ]
  },
  {
   "cell_type": "code",
   "execution_count": 3,
   "metadata": {},
   "outputs": [],
   "source": [
    "# Third party import\n",
    "from modopt.math.metrics import ssim\n",
    "from modopt.opt.linear import Identity\n",
    "from modopt.opt.proximity import SparseThreshold,Ridge\n",
    "\n",
    "import numpy as np\n",
    "import matplotlib.pyplot as plt\n",
    "import random as rd\n",
    "from PIL import Image\n",
    "from modopt.math.matrix import PowerMethod"
   ]
  },
  {
   "cell_type": "markdown",
   "metadata": {},
   "source": [
    "## Inputs"
   ]
  },
  {
   "cell_type": "code",
   "execution_count": 4,
   "metadata": {
    "scrolled": true
   },
   "outputs": [
    {
     "name": "stderr",
     "output_type": "stream",
     "text": [
      "/home/guillaume/temp/pysap-mri/mri/operators/fourier/utils.py:78: FutureWarning: Using a non-tuple sequence for multidimensional indexing is deprecated; use `arr[tuple(seq)]` instead of `arr[seq]`. In the future this will be interpreted as an array index, `arr[np.array(seq)]`, which will result either in an error or a different result.\n",
      "  mask[test] = 1\n"
     ]
    }
   ],
   "source": [
    "u0 = get_sample_data('2d-mri')\n",
    "u0_mat = np.asarray(u0)\n",
    "\n",
    "# Obtain MRI non-cartesian mask\n",
    "radial_mask = get_sample_data(\"mri-radial-samples\")\n",
    "radial_kspace_loc = radial_mask.data\n",
    "radialmask = pysap.Image(data=convert_locations_to_mask(radial_kspace_loc, u0.shape))\n",
    "radial_fourier = NonCartesianFFT(samples=radial_kspace_loc, shape=u0.shape,implementation='cpu')"
   ]
  },
  {
   "cell_type": "markdown",
   "metadata": {},
   "source": [
    "### Base mask"
   ]
  },
  {
   "cell_type": "code",
   "execution_count": 5,
   "metadata": {},
   "outputs": [],
   "source": [
    "n = 512\n",
    "kspace_loc = np.empty((n**2,2))\n",
    "for i in range(n):\n",
    "    for j in range(n):\n",
    "        kspace_loc[n*i+j]=[i/n-0.5,j/n-0.5]"
   ]
  },
  {
   "cell_type": "code",
   "execution_count": 6,
   "metadata": {},
   "outputs": [],
   "source": [
    "m = convert_locations_to_mask(kspace_loc,u0.shape)"
   ]
  },
  {
   "cell_type": "code",
   "execution_count": 7,
   "metadata": {},
   "outputs": [],
   "source": [
    "fourier_op = NonCartesianFFT(samples=kspace_loc, shape=u0.shape,implementation='cpu')"
   ]
  },
  {
   "cell_type": "code",
   "execution_count": 8,
   "metadata": {},
   "outputs": [],
   "source": [
    "# Verification que ifft(fft(im))~im\n",
    "y = fourier_op.op(u0_mat)\n",
    "uk = fourier_op.adj_op(y)\n",
    "pysap.Image(data = np.abs(uk)).show()"
   ]
  },
  {
   "cell_type": "code",
   "execution_count": 9,
   "metadata": {
    "scrolled": true
   },
   "outputs": [
    {
     "data": {
      "text/plain": [
       "0.9999999999999997"
      ]
     },
     "execution_count": 9,
     "metadata": {},
     "output_type": "execute_result"
    }
   ],
   "source": [
    "ssim(uk,u0_mat)"
   ]
  },
  {
   "cell_type": "markdown",
   "metadata": {},
   "source": [
    "### Compute S(p) for given mask"
   ]
  },
  {
   "cell_type": "code",
   "execution_count": 10,
   "metadata": {},
   "outputs": [],
   "source": [
    "p = np.zeros((n*n,))\n",
    "for i in range(len(radial_kspace_loc)):\n",
    "    x = int((n-1)*(radial_kspace_loc[i][0]+0.5))\n",
    "    y = int((n-1)*(radial_kspace_loc[i][1]+0.5))\n",
    "    p[n*x+y] = 1"
   ]
  },
  {
   "cell_type": "code",
   "execution_count": 11,
   "metadata": {},
   "outputs": [
    {
     "name": "stdout",
     "output_type": "stream",
     "text": [
      "0.7611498634499178\n"
     ]
    }
   ],
   "source": [
    "uk = fourier_op.adj_op(p*fourier_op.op(u0_mat))\n",
    "print(ssim(uk,u0_mat))\n",
    "pysap.Image(data = np.abs(uk)).show()"
   ]
  },
  {
   "cell_type": "markdown",
   "metadata": {},
   "source": [
    "### Data\n",
    "Observations: $y=S\\mathcal{F}Ru+\\epsilon$."
   ]
  },
  {
   "cell_type": "code",
   "execution_count": 12,
   "metadata": {},
   "outputs": [],
   "source": [
    "# Adding noise\n",
    "(n1,n2) = u0.shape\n",
    "s = 1e-6\n",
    "# Computing y with non-cartesian Fourier transform\n",
    "fourier_op = NonCartesianFFT(samples=kspace_loc, shape=u0.shape,implementation='cpu')\n",
    "y = fourier_op.op(u0.data)\n",
    "y += np.asarray([np.random.normal(0,s)+np.random.normal(0,s)*1j for i in range(len(y))])\n",
    "u0_mat = np.asarray(u0)\n",
    "\n",
    "pn1 = 1e-7\n",
    "y_temp = np.copy(y)"
   ]
  },
  {
   "cell_type": "code",
   "execution_count": 13,
   "metadata": {},
   "outputs": [],
   "source": [
    "def GradientIm(image):\n",
    "    \"\"\"\n",
    "    Computes the gradient of an image\n",
    "    \n",
    "    INPUT:\n",
    "        - image: the image whose gradient is to be computed\n",
    "    \n",
    "    OUTPUT:\n",
    "        - gradient_x: gradient in the x direction\n",
    "        - gradient_y: gradient in the y direction\n",
    "        \n",
    "    \"\"\"\n",
    "    \n",
    "    horiz_difference = image[1:, :] - image[0:-1,:]\n",
    "    gradient_x = (np.c_[horiz_difference.T,np.zeros(horiz_difference.shape[1])]).T\n",
    "        \n",
    "    vert_difference = image[:,1:] - image[:,0:-1]\n",
    "    gradient_y = np.c_[vert_difference,np.zeros(vert_difference.shape[0])]\n",
    "                       \n",
    "    return  np.array([gradient_x, gradient_y])\n",
    "\n",
    "def DivergenceIm(m):\n",
    "    matrix_1 = m[0]\n",
    "    matrix_2 = m[1]\n",
    "    \"\"\"\n",
    "    Computes the divergence between two arrays matrix_1 and matrix_2\n",
    "    \n",
    "    INPUTS:\n",
    "        - matrix_1: numpy matrix\n",
    "        - matrix_2: numpy matrix\n",
    "        \n",
    "    OUTPUTS:\n",
    "    \n",
    "        - Divergence between matrix_1 and matrix_2\n",
    "        \n",
    "    \"\"\"\n",
    "    horiz_difference = matrix_2[:,1:-1] - matrix_2[:,0:-2]\n",
    "    temp_1 = np.c_[matrix_2[:,0],horiz_difference,-matrix_2[:,-1]]\n",
    "    \n",
    "    vert_difference = matrix_1[1:-1, :] - matrix_1[0:-2,:]\n",
    "    temp_2 = np.c_[matrix_1[0,:],vert_difference.T,-matrix_1[-1,:]]\n",
    "    temp_2 = temp_2.T\n",
    "    return temp_1 + temp_2"
   ]
  },
  {
   "cell_type": "code",
   "execution_count": 14,
   "metadata": {},
   "outputs": [
    {
     "name": "stdout",
     "output_type": "stream",
     "text": [
      "0.6724709542782439\n"
     ]
    }
   ],
   "source": [
    "uk = fourier_op.adj_op(p*y)\n",
    "print(ssim(uk,u0_mat))\n",
    "pysap.Image(data = np.abs(uk)).show()"
   ]
  },
  {
   "cell_type": "markdown",
   "metadata": {},
   "source": [
    "# Definition of functions to compute energy\n",
    "Since S is a nxn diagonal matrix, we won't store it in memory and do all the computations directly with p"
   ]
  },
  {
   "cell_type": "code",
   "execution_count": 15,
   "metadata": {},
   "outputs": [],
   "source": [
    "#constants\n",
    "zeta = 1e10\n",
    "epsilon = 1e-3\n",
    "gamma = 1e-8\n",
    "pn1 = 1e-5"
   ]
  },
  {
   "cell_type": "code",
   "execution_count": 16,
   "metadata": {},
   "outputs": [],
   "source": [
    "# functions B and G in the paper\n",
    "def b(u):\n",
    "    return np.sum([np.sum([max(0,-z**3)for z in u[i]]) for i in range(len(u))])*zeta\n",
    "def g(u):return np.real(b(u)+epsilon*np.linalg.norm(u)**2/2)"
   ]
  },
  {
   "cell_type": "code",
   "execution_count": 17,
   "metadata": {},
   "outputs": [],
   "source": [
    "# functions J and F2 in the paper\n",
    "# We also compute rho and its first derivative since we will need it later\n",
    "def rho(x):\n",
    "    m = np.absolute(x)\n",
    "    if m<gamma:\n",
    "        return -m*m*m/3/gamma/gamma+m*m/gamma\n",
    "    else:\n",
    "        return m-gamma/3\n",
    "def drho(x):\n",
    "    if x<-gamma:return -1\n",
    "    elif x<0:return x**2/gamma**2+2*x/gamma\n",
    "    elif x<gamma:return -x**2/gamma**2+2*x/gamma\n",
    "    else:return 1\n",
    "    \n",
    "\n",
    "def J(u):\n",
    "    global pn1\n",
    "    return pn1*np.sum([np.sum([rho(x) for x in y])for y in u])\n",
    "def f2(w):\n",
    "    (l,n,p) = w.shape\n",
    "    v = 1.*np.zeros((n,p))\n",
    "    for i in range(n):\n",
    "        for m in range(p):\n",
    "            v[i][m] = np.linalg.norm([w[k][i][j] for k in range(l)])\n",
    "    return J(v)"
   ]
  },
  {
   "cell_type": "code",
   "execution_count": 78,
   "metadata": {},
   "outputs": [
    {
     "name": "stdout",
     "output_type": "stream",
     "text": [
      "1e-08 199000000.0\n"
     ]
    }
   ],
   "source": [
    "lis = [drho(i*gamma/100)/(i*gamma/100) for i in range(1,100)]\n",
    "print(gamma,np.amax(lis))"
   ]
  },
  {
   "cell_type": "code",
   "execution_count": 18,
   "metadata": {},
   "outputs": [],
   "source": [
    "#function F1 in the paper\n",
    "def R(u):\n",
    "    return np.asarray([[np.real(u[i][j]) for j in range(len(u[0]))]for i in range(len(u))])\n",
    "def Rstar(u):\n",
    "    return np.array([[u[i][j]+0j for j in range(len(u[0]))]for i in range(len(u))])\n",
    "def f1(v):\n",
    "    return 0.5*np.linalg.norm(p*(fourier_op.op(v)-y))**2"
   ]
  },
  {
   "cell_type": "code",
   "execution_count": 19,
   "metadata": {},
   "outputs": [],
   "source": [
    "def energy(u):\n",
    "    return(f1(Rstar(u))+f2(np.array(GradientIm(u)))+g(u))"
   ]
  },
  {
   "cell_type": "code",
   "execution_count": 20,
   "metadata": {
    "scrolled": true
   },
   "outputs": [
    {
     "name": "stdout",
     "output_type": "stream",
     "text": [
      "1.8739521762490412e-06\n",
      "7.455186149996095e-08\n",
      "1.971236277797415e-06\n"
     ]
    }
   ],
   "source": [
    "print(energy(np.zeros(u0_mat.shape)))\n",
    "print(energy(u0_mat))\n",
    "print(energy(2*u0_mat))"
   ]
  },
  {
   "cell_type": "markdown",
   "metadata": {},
   "source": [
    "# Proximal operators\n",
    "The objective is to find the point minimizing $f_u(x) = F(x)+1/2||x-u||^2$ for a given u and for $F=\\tau F1,\\tau F2,\\tau G$ where $\\tau$ is a given constant.\n",
    "## Proximal operator of F2\n",
    "We want to minimize $f_u(x) = \\tau\\alpha (p)J(|x|)+\\frac{1}{2}||x-u||^2$. As explained in the paper, given the definition of J, we can compute the solution component by component, but the paper expresses $x_i$ in terms of $u_i$ with a constant C that we need to compute. We have in 1D $f_u'(x) = \\tau\\alpha (p)\\frac{x}{|x|}\\rho '(|x|)+x-u$. Since $\\rho '(x)$ depends on if $|x|<\\gamma$ or not, we need to separate these two cases:\n",
    "### |x|>$\\gamma$\n",
    "In this case, $\\rho '(|x|)=1$, so we simply have $(1+\\frac{\\tau\\alpha(p)}{|x|})x=u\\Rightarrow x=(|u|-\\tau\\alpha(p))\\frac{u}{|u|}$. Since we supposed $|x|<\\gamma$ beforehand, this will be true when $|u|>\\tau\\alpha(p)+\\gamma$.\n",
    "### |x|$\\leq\\gamma$\n",
    "From what we just saw, this is equivalent to $|u|\\leq\\tau\\alpha(p)+\\gamma$. This case is a bit more complicated, since now $\\rho '(|x|)=-\\frac{|x|^2}{\\gamma^2}+2\\frac{|x|}{\\gamma}$ and taking the norm on both sides of $\\tau\\alpha (p)\\frac{x}{|x|}\\rho '(|x|)+x-u$ gives us:\n",
    "$$-\\frac{\\tau\\alpha(p)}{\\gamma^2}|x|^2+(1+\\frac{2\\tau\\alpha(p)}{\\gamma})|x|-|u|=0\\\\\n",
    "\\Rightarrow |x| = \\gamma+\\frac{\\gamma^2}{2\\tau\\alpha(p)}(1\\pm\\sqrt{\\Delta})\\\\\n",
    "with\\ \\Delta=1+\\frac{4\\tau\\alpha(p)}{\\gamma^2}(\\gamma+\\tau\\alpha(p)-|u|)$$\n",
    "But since we want $|x|<\\gamma$, the only acceptable solution is $x=\\left(\\gamma+\\frac{\\gamma^2}{2\\tau\\alpha(p)}(1-\\sqrt{\\Delta})\\right)\\frac{u}{|u|}$. Since $|u|\\leq\\tau\\alpha(p)+\\gamma$, we see that $\\Delta>1$, so the condition $|x|\\leq\\gamma$ is verified.\n",
    "\n",
    "## Proximal operator of F1\n",
    "The expression given in the paper is:\n",
    "$$prox_{\\tau F1}(u) = \\mathcal{F}(I+\\tau S(p)^2)^{-1}(\\mathcal{F}u+\\tau S(p)^2y)$$\n",
    "with y the data.\\\\\n",
    "I find a different value when I recompute it: we want to minimize $f_u(x) = \\frac{1}{2}\\tau||S(p)(\\mathcal{F}x-y)||+\\frac{1}{2}||x-u||^2$. When we differentiate, we get:\n",
    "$$f_u(x+h) = f_u(x)+\\tau <S(p)\\mathcal{F}h,S(p)(\\mathcal{F}x-y)> + <h,(x-u)>+o(||h||)$$\n",
    "Since S(p) is diagonal, we have:\n",
    "$$f_u(x+h)-f_u(x) = <\\mathcal{F}h,\\tau S(p)^2(\\mathcal{F}x-y)>+<h,x-u>+o(||h||)\\\\\n",
    "\\Rightarrow \\nabla f_u(x) = \\mathcal{F}^{-1}\\left[\\tau S(p)^2(\\mathcal{F}x-y)\\right]+x-u$$\n",
    "\n",
    "\n",
    "## Proximal dual operators\n",
    "We use the Moreau identity to compute the proximal dual operators:\n",
    "$$prox_{\\gamma\\phi ^*}(x) = x-\\gamma prox_{\\phi/\\gamma}(\\frac{x}{\\gamma})$$"
   ]
  },
  {
   "cell_type": "code",
   "execution_count": 21,
   "metadata": {},
   "outputs": [],
   "source": [
    "#Prox_tauG\n",
    "def prox_B(u,c):\n",
    "    global zeta\n",
    "    return np.asarray([[x/(0.5+np.sqrt(0.25-3*zeta*c*min(0,x)))for x in u[i]]for i in range(len(u))])\n",
    "def prox_G(u,c):\n",
    "    global epsilon\n",
    "    return prox_B(u/(1+epsilon),c/(1+epsilon))"
   ]
  },
  {
   "cell_type": "code",
   "execution_count": 188,
   "metadata": {
    "scrolled": false
   },
   "outputs": [
    {
     "name": "stdout",
     "output_type": "stream",
     "text": [
      "Distance between the two points: 5.115050834108003e-08\n",
      "Ratio (should always be smaller than 1 if v minimises the function as it is supposed to): 0.9849282899753597\n"
     ]
    }
   ],
   "source": [
    "c=5\n",
    "a = 20*gamma*np.random.rand(512,512)\n",
    "y1 = prox_G(a,c)\n",
    "y2 = y1+np.asarray([[np.random.normal(0,1e-10)for i in range(n2)]for j in range(n1)])\n",
    "\n",
    "\n",
    "r1 = c*g(y1)+0.5*np.linalg.norm(a-y1)**2\n",
    "r2 = c*g(y2)+0.5*np.linalg.norm(a-y2)**2\n",
    "print(\"Distance between the two points:\",np.linalg.norm(y1-y2))\n",
    "print(\"Ratio (should always be smaller than 1 if v minimises the function as it is supposed to):\"\n",
    "                  ,np.abs(r1)/np.abs(r2))"
   ]
  },
  {
   "cell_type": "code",
   "execution_count": 22,
   "metadata": {},
   "outputs": [],
   "source": [
    "#From Sherry's Matlab code\n",
    "# https://github.com/fsherry/bilevel-MRI-examples/blob/master/lowerlevel_numeric/proximal_operators/proxF2star.m\n",
    "def prox_J(z,gamma,c):\n",
    "    (l,n,p) = z.shape\n",
    "    out = (1+1j)*np.zeros((l,n,p))\n",
    "    for i in range(n):\n",
    "        for m in range(p):\n",
    "            mod = np.linalg.norm([z[k][i][m] for k in range(l)])\n",
    "            for k in range(l):\n",
    "                if mod>gamma+c:\n",
    "                    out[k][i][m] = z[k][i][m]*(1-c/mod)\n",
    "                else:\n",
    "                    out[k][i][m] = gamma*z[k][i][m]/(c+0.5*gamma+np.sqrt((c+0.5*gamma)**2-c*mod))\n",
    "    return out\n",
    "\n",
    "def prox_F2_test(z,c):\n",
    "    return z-c*prox_J(z/c,gamma,pn1/c)"
   ]
  },
  {
   "cell_type": "code",
   "execution_count": 23,
   "metadata": {},
   "outputs": [],
   "source": [
    "def prox_F2(u,c):\n",
    "    (l,n,p) = u.shape\n",
    "    out = (1+1j)*np.zeros((l,n,p))\n",
    "    for i in range(n):\n",
    "        for j in range(p):\n",
    "            mod = np.linalg.norm([u[k][i][j] for k in range(l)])\n",
    "            if mod>c*pn1+gamma:\n",
    "                for k in range(l):\n",
    "                    out[k][i][j] = u[k][i][j]*(mod-c*pn1)/mod\n",
    "            else:\n",
    "                delta = 1+4*c*pn1/gamma/gamma*(gamma+c*pn1-mod)\n",
    "                const = gamma+gamma*gamma/(2*c*pn1)*(1-np.sqrt(delta))\n",
    "                for k in range(l):\n",
    "                    if mod == 0:\n",
    "                        out[k][i][j] = 0\n",
    "                    else:\n",
    "                        out[k][i][j] = const*u[k][i][j]/mod\n",
    "    return out\n",
    "\n",
    "def prox_F2_dual(u,c):\n",
    "    return u-c*prox_F2(u/c,1/c)"
   ]
  },
  {
   "cell_type": "code",
   "execution_count": 200,
   "metadata": {},
   "outputs": [
    {
     "name": "stdout",
     "output_type": "stream",
     "text": [
      "2.0093069307228553\n",
      "2.009306920674081\n"
     ]
    },
    {
     "ename": "KeyboardInterrupt",
     "evalue": "",
     "output_type": "error",
     "traceback": [
      "\u001b[0;31m---------------------------------------------------------------------------\u001b[0m",
      "\u001b[0;31mKeyboardInterrupt\u001b[0m                         Traceback (most recent call last)",
      "\u001b[0;32m<ipython-input-200-156c8e83dd25>\u001b[0m in \u001b[0;36m<module>\u001b[0;34m\u001b[0m\n\u001b[1;32m      2\u001b[0m \u001b[0;32mfor\u001b[0m \u001b[0mi\u001b[0m \u001b[0;32min\u001b[0m \u001b[0mrange\u001b[0m\u001b[0;34m(\u001b[0m\u001b[0;36m10\u001b[0m\u001b[0;34m)\u001b[0m\u001b[0;34m:\u001b[0m\u001b[0;34m\u001b[0m\u001b[0;34m\u001b[0m\u001b[0m\n\u001b[1;32m      3\u001b[0m     \u001b[0mprint\u001b[0m\u001b[0;34m(\u001b[0m\u001b[0mf2\u001b[0m\u001b[0;34m(\u001b[0m\u001b[0my1\u001b[0m\u001b[0;34m)\u001b[0m\u001b[0;34m)\u001b[0m\u001b[0;34m\u001b[0m\u001b[0;34m\u001b[0m\u001b[0m\n\u001b[0;32m----> 4\u001b[0;31m     \u001b[0my1\u001b[0m \u001b[0;34m=\u001b[0m \u001b[0mprox_F2_test\u001b[0m\u001b[0;34m(\u001b[0m\u001b[0my1\u001b[0m\u001b[0;34m,\u001b[0m\u001b[0;36m1\u001b[0m\u001b[0;34m)\u001b[0m\u001b[0;34m\u001b[0m\u001b[0;34m\u001b[0m\u001b[0m\n\u001b[0m",
      "\u001b[0;32m<ipython-input-22-c014a0ff8d37>\u001b[0m in \u001b[0;36mprox_F2_test\u001b[0;34m(z, c)\u001b[0m\n\u001b[1;32m     15\u001b[0m \u001b[0;34m\u001b[0m\u001b[0m\n\u001b[1;32m     16\u001b[0m \u001b[0;32mdef\u001b[0m \u001b[0mprox_F2_test\u001b[0m\u001b[0;34m(\u001b[0m\u001b[0mz\u001b[0m\u001b[0;34m,\u001b[0m\u001b[0mc\u001b[0m\u001b[0;34m)\u001b[0m\u001b[0;34m:\u001b[0m\u001b[0;34m\u001b[0m\u001b[0;34m\u001b[0m\u001b[0m\n\u001b[0;32m---> 17\u001b[0;31m     \u001b[0;32mreturn\u001b[0m \u001b[0mz\u001b[0m\u001b[0;34m-\u001b[0m\u001b[0mc\u001b[0m\u001b[0;34m*\u001b[0m\u001b[0mprox_J\u001b[0m\u001b[0;34m(\u001b[0m\u001b[0mz\u001b[0m\u001b[0;34m/\u001b[0m\u001b[0mc\u001b[0m\u001b[0;34m,\u001b[0m\u001b[0mgamma\u001b[0m\u001b[0;34m,\u001b[0m\u001b[0mpn1\u001b[0m\u001b[0;34m/\u001b[0m\u001b[0mc\u001b[0m\u001b[0;34m)\u001b[0m\u001b[0;34m\u001b[0m\u001b[0;34m\u001b[0m\u001b[0m\n\u001b[0m",
      "\u001b[0;32m<ipython-input-22-c014a0ff8d37>\u001b[0m in \u001b[0;36mprox_J\u001b[0;34m(z, gamma, c)\u001b[0m\n\u001b[1;32m      6\u001b[0m     \u001b[0;32mfor\u001b[0m \u001b[0mi\u001b[0m \u001b[0;32min\u001b[0m \u001b[0mrange\u001b[0m\u001b[0;34m(\u001b[0m\u001b[0mn\u001b[0m\u001b[0;34m)\u001b[0m\u001b[0;34m:\u001b[0m\u001b[0;34m\u001b[0m\u001b[0;34m\u001b[0m\u001b[0m\n\u001b[1;32m      7\u001b[0m         \u001b[0;32mfor\u001b[0m \u001b[0mm\u001b[0m \u001b[0;32min\u001b[0m \u001b[0mrange\u001b[0m\u001b[0;34m(\u001b[0m\u001b[0mp\u001b[0m\u001b[0;34m)\u001b[0m\u001b[0;34m:\u001b[0m\u001b[0;34m\u001b[0m\u001b[0;34m\u001b[0m\u001b[0m\n\u001b[0;32m----> 8\u001b[0;31m             \u001b[0mmod\u001b[0m \u001b[0;34m=\u001b[0m \u001b[0mnp\u001b[0m\u001b[0;34m.\u001b[0m\u001b[0mlinalg\u001b[0m\u001b[0;34m.\u001b[0m\u001b[0mnorm\u001b[0m\u001b[0;34m(\u001b[0m\u001b[0;34m[\u001b[0m\u001b[0mz\u001b[0m\u001b[0;34m[\u001b[0m\u001b[0mk\u001b[0m\u001b[0;34m]\u001b[0m\u001b[0;34m[\u001b[0m\u001b[0mi\u001b[0m\u001b[0;34m]\u001b[0m\u001b[0;34m[\u001b[0m\u001b[0mm\u001b[0m\u001b[0;34m]\u001b[0m \u001b[0;32mfor\u001b[0m \u001b[0mk\u001b[0m \u001b[0;32min\u001b[0m \u001b[0mrange\u001b[0m\u001b[0;34m(\u001b[0m\u001b[0ml\u001b[0m\u001b[0;34m)\u001b[0m\u001b[0;34m]\u001b[0m\u001b[0;34m)\u001b[0m\u001b[0;34m\u001b[0m\u001b[0;34m\u001b[0m\u001b[0m\n\u001b[0m\u001b[1;32m      9\u001b[0m             \u001b[0;32mfor\u001b[0m \u001b[0mk\u001b[0m \u001b[0;32min\u001b[0m \u001b[0mrange\u001b[0m\u001b[0;34m(\u001b[0m\u001b[0ml\u001b[0m\u001b[0;34m)\u001b[0m\u001b[0;34m:\u001b[0m\u001b[0;34m\u001b[0m\u001b[0;34m\u001b[0m\u001b[0m\n\u001b[1;32m     10\u001b[0m                 \u001b[0;32mif\u001b[0m \u001b[0mmod\u001b[0m\u001b[0;34m>\u001b[0m\u001b[0mgamma\u001b[0m\u001b[0;34m+\u001b[0m\u001b[0mc\u001b[0m\u001b[0;34m:\u001b[0m\u001b[0;34m\u001b[0m\u001b[0;34m\u001b[0m\u001b[0m\n",
      "\u001b[0;32m~/anaconda3/lib/python3.7/site-packages/numpy/linalg/linalg.py\u001b[0m in \u001b[0;36mnorm\u001b[0;34m(x, ord, axis, keepdims)\u001b[0m\n\u001b[1;32m   2446\u001b[0m             \u001b[0mx\u001b[0m \u001b[0;34m=\u001b[0m \u001b[0mx\u001b[0m\u001b[0;34m.\u001b[0m\u001b[0mravel\u001b[0m\u001b[0;34m(\u001b[0m\u001b[0morder\u001b[0m\u001b[0;34m=\u001b[0m\u001b[0;34m'K'\u001b[0m\u001b[0;34m)\u001b[0m\u001b[0;34m\u001b[0m\u001b[0;34m\u001b[0m\u001b[0m\n\u001b[1;32m   2447\u001b[0m             \u001b[0;32mif\u001b[0m \u001b[0misComplexType\u001b[0m\u001b[0;34m(\u001b[0m\u001b[0mx\u001b[0m\u001b[0;34m.\u001b[0m\u001b[0mdtype\u001b[0m\u001b[0;34m.\u001b[0m\u001b[0mtype\u001b[0m\u001b[0;34m)\u001b[0m\u001b[0;34m:\u001b[0m\u001b[0;34m\u001b[0m\u001b[0;34m\u001b[0m\u001b[0m\n\u001b[0;32m-> 2448\u001b[0;31m                 \u001b[0msqnorm\u001b[0m \u001b[0;34m=\u001b[0m \u001b[0mdot\u001b[0m\u001b[0;34m(\u001b[0m\u001b[0mx\u001b[0m\u001b[0;34m.\u001b[0m\u001b[0mreal\u001b[0m\u001b[0;34m,\u001b[0m \u001b[0mx\u001b[0m\u001b[0;34m.\u001b[0m\u001b[0mreal\u001b[0m\u001b[0;34m)\u001b[0m \u001b[0;34m+\u001b[0m \u001b[0mdot\u001b[0m\u001b[0;34m(\u001b[0m\u001b[0mx\u001b[0m\u001b[0;34m.\u001b[0m\u001b[0mimag\u001b[0m\u001b[0;34m,\u001b[0m \u001b[0mx\u001b[0m\u001b[0;34m.\u001b[0m\u001b[0mimag\u001b[0m\u001b[0;34m)\u001b[0m\u001b[0;34m\u001b[0m\u001b[0;34m\u001b[0m\u001b[0m\n\u001b[0m\u001b[1;32m   2449\u001b[0m             \u001b[0;32melse\u001b[0m\u001b[0;34m:\u001b[0m\u001b[0;34m\u001b[0m\u001b[0;34m\u001b[0m\u001b[0m\n\u001b[1;32m   2450\u001b[0m                 \u001b[0msqnorm\u001b[0m \u001b[0;34m=\u001b[0m \u001b[0mdot\u001b[0m\u001b[0;34m(\u001b[0m\u001b[0mx\u001b[0m\u001b[0;34m,\u001b[0m \u001b[0mx\u001b[0m\u001b[0;34m)\u001b[0m\u001b[0;34m\u001b[0m\u001b[0;34m\u001b[0m\u001b[0m\n",
      "\u001b[0;31mKeyboardInterrupt\u001b[0m: "
     ]
    }
   ],
   "source": [
    "y1 = 1e-4*np.random.rand(2,512,512)\n",
    "for i in range(10):\n",
    "    print(f2(y1))\n",
    "    y1 = prox_F2_test(y1,1)"
   ]
  },
  {
   "cell_type": "code",
   "execution_count": 131,
   "metadata": {
    "scrolled": true
   },
   "outputs": [
    {
     "name": "stdout",
     "output_type": "stream",
     "text": [
      "Distance between the two points: 0.00041809593025794115\n",
      "Ratio (should always be smaller than 1 if v minimises the function as it is supposed to): 0.06584044290708406\n"
     ]
    }
   ],
   "source": [
    "c=2\n",
    "a = GradientIm(fourier_op.adj_op(p*y))\n",
    "y1 = prox_F2(a,c)\n",
    "y2 = y1+1e-6*np.random.rand(2,512,512)\n",
    "\n",
    "r1 = c*f2(y1)+0.5*np.linalg.norm(a-y1)**2\n",
    "r2 = c*f2(y2)+0.5*np.linalg.norm(a-y2)**2\n",
    "print(\"Distance between the two points:\",np.linalg.norm(y1-y2))\n",
    "print(\"Ratio (should always be smaller than 1 if v minimises the function as it is supposed to):\",r1/r2)"
   ]
  },
  {
   "cell_type": "code",
   "execution_count": 24,
   "metadata": {},
   "outputs": [],
   "source": [
    "#prox_tauF1\n",
    "def prox_F1(u,c):\n",
    "    im=(fourier_op.op(u)+c*p*p*y)/(np.ones(y.shape)+c*p*p)\n",
    "    return fourier_op.adj_op(im)\n",
    "\n",
    "def prox_F1_dual2(u,c):\n",
    "    return u-c*prox_F1(u/c,1/c)\n",
    "\n",
    "def prox_F1_dual(u,c):\n",
    "    global p\n",
    "    inner = (fourier_op.op(u)+p*p*y)/(c*np.ones(y.shape)+p*p)\n",
    "    return u-c*fourier_op.adj_op(inner)"
   ]
  },
  {
   "cell_type": "markdown",
   "metadata": {},
   "source": [
    "# Test with only one regulariser\n",
    "We only use F1 and G.\n",
    "Use undecimated for linear_op to compare to Condat-Vu."
   ]
  },
  {
   "cell_type": "code",
   "execution_count": 25,
   "metadata": {},
   "outputs": [],
   "source": [
    "#constants\n",
    "epsilon = 1e-12\n",
    "L=1\n",
    "mu = 2*np.sqrt(epsilon/(1+L*L))\n",
    "tau = mu/2/epsilon\n",
    "sigma = mu/2\n",
    "theta = 1/(1+mu)\n",
    "\n",
    "maxit = 20\n",
    "tol = 1e-5"
   ]
  },
  {
   "cell_type": "code",
   "execution_count": 26,
   "metadata": {},
   "outputs": [],
   "source": [
    "def step_test(uk,vk,uk_bar):\n",
    "    vk1 = prox_F1_dual(vk+sigma*uk_bar,sigma)\n",
    "    uk1 = prox_G(uk-tau*R(vk1),tau)\n",
    "    uk_bar1 = uk1+theta*(uk-uk1)\n",
    "\n",
    "    norm = np.linalg.norm(uk1-uk)/np.linalg.norm(uk)\n",
    "    norm += (np.linalg.norm(vk1-vk))/(np.linalg.norm(vk))\n",
    "    return uk1,vk1,uk_bar1,norm"
   ]
  },
  {
   "cell_type": "code",
   "execution_count": 27,
   "metadata": {},
   "outputs": [],
   "source": [
    "#initialisation\n",
    "n_iter = 0\n",
    "uk = fourier_op.adj_op(p*y)\n",
    "vk = np.copy(uk)\n",
    "uk_bar = np.copy(uk)\n",
    "norm = 2*tol\n",
    "\n",
    "energies = [f1(uk)+g(uk)]\n",
    "norms = []\n",
    "ssims = [ssim(uk,u0_mat)]\n",
    "#image_rec0.show()\n",
    "#print(ssim(uk,u0_mat))"
   ]
  },
  {
   "cell_type": "code",
   "execution_count": 28,
   "metadata": {
    "scrolled": true
   },
   "outputs": [
    {
     "name": "stdout",
     "output_type": "stream",
     "text": [
      "Base ssim: 0.6724709542782439\n",
      "1  iterations:\n",
      "Cost: 0.0002435993627101029 \n",
      "ssim: 0.2182957319468082 \n",
      "Norm: 22277.667835806842 \n",
      "\n",
      "2  iterations:\n",
      "Cost: 426.951359693693 \n",
      "ssim: 0.2182956982350758 \n",
      "Norm: 1.0000010904653007 \n",
      "\n",
      "3  iterations:\n",
      "Cost: 1707.7978285447825 \n",
      "ssim: 0.21957302757869163 \n",
      "Norm: 0.3994064408993935 \n",
      "\n",
      "4  iterations:\n",
      "Cost: 3167.5663710566914 \n",
      "ssim: 0.22236774057689987 \n",
      "Norm: 0.17398549498213922 \n",
      "\n",
      "5  iterations:\n",
      "Cost: 3655.1995054123254 \n",
      "ssim: 0.22688775353427834 \n",
      "Norm: 0.19661940233340233 \n",
      "\n",
      "6  iterations:\n",
      "Cost: 2731.494216931427 \n",
      "ssim: 0.23284716258018046 \n",
      "Norm: 0.35072015671490353 \n",
      "\n",
      "7  iterations:\n",
      "Cost: 1296.5692173778243 \n",
      "ssim: 0.28320919689911866 \n",
      "Norm: 0.49577420641855685 \n",
      "\n",
      "8  iterations:\n",
      "Cost: 416.70088820642445 \n",
      "ssim: 0.3503435035739582 \n",
      "Norm: 0.5783249486502124 \n",
      "\n",
      "9  iterations:\n",
      "Cost: 119.78715141758495 \n",
      "ssim: 0.37514324421834594 \n",
      "Norm: 0.5807933855174376 \n",
      "\n",
      "10  iterations:\n",
      "Cost: 40.364846909638985 \n",
      "ssim: 0.38313723699178254 \n",
      "Norm: 0.5474679167363196 \n",
      "\n",
      "11  iterations:\n",
      "Cost: 17.716026869434415 \n",
      "ssim: 0.3846475880974396 \n",
      "Norm: 0.4721021127452981 \n",
      "\n",
      "12  iterations:\n",
      "Cost: 10.342930751811972 \n",
      "ssim: 0.38390916262517133 \n",
      "Norm: 0.37734657267546384 \n",
      "\n",
      "13  iterations:\n",
      "Cost: 7.097144656784076 \n",
      "ssim: 0.3843032813288884 \n",
      "Norm: 0.3070490893990123 \n",
      "\n",
      "14  iterations:\n",
      "Cost: 5.009704815141939 \n",
      "ssim: 0.38460700092488564 \n",
      "Norm: 0.2900449553673357 \n",
      "\n",
      "15  iterations:\n",
      "Cost: 3.3596925661065935 \n",
      "ssim: 0.3844866576136318 \n",
      "Norm: 0.3050505168582507 \n",
      "\n",
      "16  iterations:\n",
      "Cost: 2.1181884191468328 \n",
      "ssim: 0.38475455065704733 \n",
      "Norm: 0.3158297561418205 \n",
      "\n",
      "17  iterations:\n",
      "Cost: 1.2496057138799008 \n",
      "ssim: 0.38553282097227676 \n",
      "Norm: 0.36717354240543554 \n",
      "\n",
      "18  iterations:\n",
      "Cost: 0.6450858064742973 \n",
      "ssim: 0.38599732779257684 \n",
      "Norm: 0.44302700283730245 \n",
      "\n",
      "19  iterations:\n",
      "Cost: 0.27433570345589087 \n",
      "ssim: 0.3857929997836346 \n",
      "Norm: 0.5347609375736196 \n",
      "\n",
      "20  iterations:\n",
      "Cost: 0.09636698842901027 \n",
      "ssim: 0.3856411693959273 \n",
      "Norm: 0.6041653607264801 \n",
      "\n",
      "21  iterations:\n",
      "Cost: 0.02815180588757546 \n",
      "ssim: 0.3863945001948684 \n",
      "Norm: 0.6520929731442658 \n",
      "\n",
      "22  iterations:\n",
      "Cost: 0.007964168191651534 \n",
      "ssim: 0.3864104996348157 \n",
      "Norm: 0.5545688808975712 \n",
      "\n",
      "23  iterations:\n",
      "Cost: 0.002394690793386591 \n",
      "ssim: 0.3868457178516776 \n",
      "Norm: 0.6932628196504494 \n",
      "\n",
      "24  iterations:\n",
      "Cost: 0.0006016779897015105 \n",
      "ssim: 0.38684450241814294 \n",
      "Norm: 0.5445148521108135 \n",
      "\n",
      "25  iterations:\n",
      "Cost: 0.00024957414056697616 \n",
      "ssim: 0.3868447865781832 \n",
      "Norm: 0.43786709652804556 \n",
      "\n",
      "26  iterations:\n",
      "Cost: 8.835958709392213e-05 \n",
      "ssim: 0.3868125681906567 \n",
      "Norm: 0.7048471859181723 \n",
      "\n",
      "27  iterations:\n",
      "Cost: 1.6207962660982178e-05 \n",
      "ssim: 0.3869307945529001 \n",
      "Norm: 0.792773112737491 \n",
      "\n",
      "28  iterations:\n",
      "Cost: 4.67752623676263e-06 \n",
      "ssim: 0.3869566825359861 \n",
      "Norm: 0.539638170412541 \n",
      "\n",
      "29  iterations:\n",
      "Cost: 2.4768964094968386e-06 \n",
      "ssim: 0.27873312433624164 \n",
      "Norm: 1.000000577444333 \n",
      "\n",
      "30  iterations:\n",
      "Cost: 1.8855922164539581e-06 \n",
      "ssim: 0.2787353880794196 \n",
      "Norm: 5.1036655983702854e-05 \n",
      "\n",
      "31  iterations:\n",
      "Cost: 1.8855922041332771e-06 \n",
      "ssim: 0.27873530944365643 \n",
      "Norm: 2.0967846165013724e-06 \n",
      "\n",
      "Final ssim after  31  iterations: 0.27873530944365643\n"
     ]
    }
   ],
   "source": [
    "print(\"Base ssim:\",ssim(uk,u0_mat))\n",
    "while norm>tol and n_iter<50:\n",
    "    uk,vk,uk_bar,norm = step_test(uk,vk,uk_bar)\n",
    "    n_iter += 1\n",
    "    \n",
    "    e = f1(uk_bar)+g(uk_bar)\n",
    "    energies.append(e)\n",
    "    norms.append(norm)\n",
    "    ssims.append(ssim(uk,u0_mat))\n",
    "    \n",
    "    print(n_iter,\" iterations:\\nCost:\",energies[-1],\"\\nssim:\",ssims[-1],\"\\nNorm:\",norm,\"\\n\")\n",
    "print(\"Final ssim after \",n_iter,\" iterations:\",ssim(uk,u0_mat))"
   ]
  },
  {
   "cell_type": "code",
   "execution_count": 29,
   "metadata": {},
   "outputs": [
    {
     "name": "stdout",
     "output_type": "stream",
     "text": [
      "0.27873530944365643\n"
     ]
    }
   ],
   "source": [
    "#Final image\n",
    "image_rec = pysap.Image(data=np.abs(uk))\n",
    "print(ssim(uk,u0_mat))\n",
    "image_rec.show()"
   ]
  },
  {
   "cell_type": "code",
   "execution_count": 30,
   "metadata": {
    "scrolled": false
   },
   "outputs": [
    {
     "data": {
      "image/png": "[encoded data removed]",
      "text/plain": [
       "<Figure size 432x288 with 1 Axes>"
      ]
     },
     "metadata": {
      "needs_background": "light"
     },
     "output_type": "display_data"
    }
   ],
   "source": [
    "plt.plot(energies)\n",
    "plt.yscale(\"log\")"
   ]
  },
  {
   "cell_type": "code",
   "execution_count": 31,
   "metadata": {},
   "outputs": [
    {
     "data": {
      "image/png": "[encoded data removed]",
      "text/plain": [
       "<Figure size 432x288 with 1 Axes>"
      ]
     },
     "metadata": {
      "needs_background": "light"
     },
     "output_type": "display_data"
    }
   ],
   "source": [
    "plt.plot(norms)\n",
    "plt.yscale(\"log\")"
   ]
  },
  {
   "cell_type": "code",
   "execution_count": 32,
   "metadata": {
    "scrolled": true
   },
   "outputs": [
    {
     "data": {
      "text/plain": [
       "[<matplotlib.lines.Line2D at 0x7f64138caef0>]"
      ]
     },
     "execution_count": 32,
     "metadata": {},
     "output_type": "execute_result"
    },
    {
     "data": {
      "image/png": "[encoded data removed]",
      "text/plain": [
       "<Figure size 432x288 with 1 Axes>"
      ]
     },
     "metadata": {
      "needs_background": "light"
     },
     "output_type": "display_data"
    }
   ],
   "source": [
    "plt.plot(ssims)"
   ]
  },
  {
   "cell_type": "markdown",
   "metadata": {},
   "source": [
    "## With F2 only"
   ]
  },
  {
   "cell_type": "code",
   "execution_count": 110,
   "metadata": {},
   "outputs": [],
   "source": [
    "#constants\n",
    "pn1 = 1e-6\n",
    "\n",
    "L=1\n",
    "eta = max(1,pn1*6/gamma)\n",
    "mu = 2*np.sqrt(1/(1+L*L)/eta)\n",
    "tau = mu/2\n",
    "sigma = mu*eta/2\n",
    "theta = 1/(1+mu)\n",
    "\n",
    "maxit = 20\n",
    "tol = 1e-4"
   ]
  },
  {
   "cell_type": "code",
   "execution_count": 99,
   "metadata": {},
   "outputs": [
    {
     "data": {
      "text/plain": [
       "6.000000000000001"
      ]
     },
     "execution_count": 99,
     "metadata": {},
     "output_type": "execute_result"
    }
   ],
   "source": [
    "eta"
   ]
  },
  {
   "cell_type": "code",
   "execution_count": 120,
   "metadata": {},
   "outputs": [],
   "source": [
    "def step_test2(uk,vk,wk,uk_bar):\n",
    "    vk1 = prox_F1_dual(vk+sigma*uk_bar,sigma)\n",
    "    wk1 = prox_F2_dual(wk+sigma*GradientIm(uk_bar),sigma)\n",
    "    uk1 = uk-tau*R(vk1)-tau*DivergenceIm(wk1)\n",
    "    uk_bar1 = uk1+theta*(uk-uk1)\n",
    "\n",
    "    norm = (np.linalg.norm(vk1-vk)+np.linalg.norm(wk1-wk))/(np.linalg.norm(vk)+np.linalg.norm(wk))\n",
    "    return uk1,vk1,wk1,uk_bar1,norm"
   ]
  },
  {
   "cell_type": "code",
   "execution_count": 121,
   "metadata": {},
   "outputs": [],
   "source": [
    "#initialisation\n",
    "n_iter = 0\n",
    "uk = fourier_op.adj_op(p*y)\n",
    "image_rec0 = pysap.Image(data=np.abs(uk))\n",
    "\n",
    "vk = np.copy(uk)\n",
    "wk = GradientIm(uk)\n",
    "uk_bar = np.copy(uk)\n",
    "norm = 2*tol\n",
    "\n",
    "energies = [energy(uk)]\n",
    "norms = []\n",
    "ssims = [ssim(uk,u0_mat)]\n",
    "#image_rec0.show()\n",
    "#print(ssim(uk,u0_mat))"
   ]
  },
  {
   "cell_type": "code",
   "execution_count": 122,
   "metadata": {
    "scrolled": true
   },
   "outputs": [
    {
     "name": "stdout",
     "output_type": "stream",
     "text": [
      "1  iterations:\n",
      "Cost: 1.4774899299714874e-07 \n",
      "ssim: 0.6596546973714456 \n",
      "Norm: 0.856663015063448 \n",
      "\n",
      "2  iterations:\n",
      "Cost: 1.6617022360850063e-07 \n",
      "ssim: 0.6456269688767857 \n",
      "Norm: 0.1658968743938124 \n",
      "\n",
      "3  iterations:\n",
      "Cost: 1.8559098748811943e-07 \n",
      "ssim: 0.6315100748879788 \n",
      "Norm: 0.1040275513461795 \n",
      "\n",
      "4  iterations:\n",
      "Cost: 2.0591775348661657e-07 \n",
      "ssim: 0.616856370716581 \n",
      "Norm: 0.09349839843361998 \n",
      "\n",
      "5  iterations:\n",
      "Cost: 2.270860920069044e-07 \n",
      "ssim: 0.6028877309826356 \n",
      "Norm: 0.08435698823579958 \n",
      "\n",
      "6  iterations:\n",
      "Cost: 2.490414120359033e-07 \n",
      "ssim: 0.5881731085874011 \n",
      "Norm: 0.07647568678710281 \n",
      "\n",
      "7  iterations:\n",
      "Cost: 2.7173495520533173e-07 \n",
      "ssim: 0.5750433582018198 \n",
      "Norm: 0.06990014719473264 \n",
      "\n",
      "8  iterations:\n",
      "Cost: 2.951219209902135e-07 \n",
      "ssim: 0.5605832151819723 \n",
      "Norm: 0.06434645488544455 \n",
      "\n",
      "9  iterations:\n",
      "Cost: 3.191608238664633e-07 \n",
      "ssim: 0.5472907031747019 \n",
      "Norm: 0.05960284188613858 \n",
      "\n",
      "10  iterations:\n",
      "Cost: 3.4381330087405633e-07 \n",
      "ssim: 0.5344566896017164 \n",
      "Norm: 0.05550586960077365 \n",
      "\n",
      "11  iterations:\n",
      "Cost: 3.690439731306698e-07 \n",
      "ssim: 0.5217005621293199 \n",
      "Norm: 0.05193352806955733 \n",
      "\n",
      "12  iterations:\n",
      "Cost: 3.948202279070957e-07 \n",
      "ssim: 0.509168194119651 \n",
      "Norm: 0.04879271056560698 \n",
      "\n",
      "13  iterations:\n",
      "Cost: 4.2111191603902445e-07 \n",
      "ssim: 0.4985109376949586 \n",
      "Norm: 0.04601077025542265 \n",
      "\n",
      "14  iterations:\n",
      "Cost: 4.4789099661369436e-07 \n",
      "ssim: 0.4863916353407877 \n",
      "Norm: 0.04353025318096391 \n",
      "\n",
      "15  iterations:\n",
      "Cost: 4.7513116728658215e-07 \n",
      "ssim: 0.4759868459029491 \n",
      "Norm: 0.041305217748094404 \n",
      "\n",
      "16  iterations:\n",
      "Cost: 5.028075200267928e-07 \n",
      "ssim: 0.4650314810776302 \n",
      "Norm: 0.03929848968639166 \n",
      "\n",
      "17  iterations:\n",
      "Cost: 5.308962583553529e-07 \n",
      "ssim: 0.45484843062285557 \n",
      "Norm: 0.03747964552188326 \n",
      "\n",
      "18  iterations:\n",
      "Cost: 5.59374499190291e-07 \n",
      "ssim: 0.44485777729480597 \n",
      "Norm: 0.035823556792928694 \n",
      "\n",
      "19  iterations:\n",
      "Cost: 5.882201627078944e-07 \n",
      "ssim: 0.43568665182624894 \n",
      "Norm: 0.034309314129363805 \n",
      "\n",
      "20  iterations:\n",
      "Cost: 6.174119345700034e-07 \n",
      "ssim: 0.4269955960129271 \n",
      "Norm: 0.032919398065644055 \n",
      "\n",
      "21  iterations:\n",
      "Cost: 6.469292733676637e-07 \n",
      "ssim: 0.417999995766754 \n",
      "Norm: 0.03163902745647714 \n",
      "\n",
      "22  iterations:\n",
      "Cost: 6.767524350014112e-07 \n",
      "ssim: 0.40954899353211405 \n",
      "Norm: 0.0304556502814044 \n",
      "\n",
      "23  iterations:\n",
      "Cost: 7.068624928939258e-07 \n",
      "ssim: 0.40140825646548794 \n",
      "Norm: 0.02935854691705834 \n",
      "\n",
      "24  iterations:\n",
      "Cost: 7.372413433518609e-07 \n",
      "ssim: 0.3934411465961619 \n",
      "Norm: 0.028338515473993603 \n",
      "\n",
      "25  iterations:\n",
      "Cost: 7.678716943368733e-07 \n",
      "ssim: 0.3859619984638588 \n",
      "Norm: 0.02738761634307875 \n",
      "\n",
      "26  iterations:\n",
      "Cost: 7.987370412091988e-07 \n",
      "ssim: 0.37873403789798576 \n",
      "Norm: 0.026498963848509735 \n",
      "\n",
      "27  iterations:\n",
      "Cost: 8.298216349366247e-07 \n",
      "ssim: 0.37144411719982634 \n",
      "Norm: 0.025666557119241002 \n",
      "\n",
      "28  iterations:\n",
      "Cost: 8.611104481218817e-07 \n",
      "ssim: 0.36480972117013494 \n",
      "Norm: 0.024885141513036113 \n",
      "\n",
      "29  iterations:\n",
      "Cost: 8.925891431781549e-07 \n",
      "ssim: 0.3579044901134063 \n",
      "Norm: 0.024150093317654026 \n",
      "\n",
      "30  iterations:\n",
      "Cost: 9.242440456977114e-07 \n",
      "ssim: 0.3511003462763144 \n",
      "Norm: 0.02345732405298075 \n",
      "\n",
      "31  iterations:\n",
      "Cost: 9.560621245907192e-07 \n",
      "ssim: 0.34511152483991003 \n",
      "Norm: 0.022803202304006526 \n",
      "\n",
      "32  iterations:\n",
      "Cost: 9.880309786308748e-07 \n",
      "ssim: 0.3386390324517441 \n",
      "Norm: 0.022184490426756884 \n",
      "\n",
      "33  iterations:\n",
      "Cost: 1.0201388262188555e-06 \n",
      "ssim: 0.33273028921449205 \n",
      "Norm: 0.021598292925683073 \n",
      "\n",
      "34  iterations:\n",
      "Cost: 1.0523744913558008e-06 \n",
      "ssim: 0.3267086393204692 \n",
      "Norm: 0.021042012534666584 \n",
      "\n",
      "35  iterations:\n",
      "Cost: 1.0847273749477549e-06 \n",
      "ssim: 0.3211806305912817 \n",
      "Norm: 0.020513306437448937 \n",
      "\n",
      "36  iterations:\n",
      "Cost: 1.1171873993696848e-06 \n",
      "ssim: 0.3153402344429241 \n",
      "Norm: 0.02001002716350569 \n",
      "\n",
      "37  iterations:\n",
      "Cost: 1.1497449196210132e-06 \n",
      "ssim: 0.31019289060585464 \n",
      "Norm: 0.019530128404559324 \n",
      "\n",
      "38  iterations:\n",
      "Cost: 1.1823906079386345e-06 \n",
      "ssim: 0.30445758402904105 \n",
      "Norm: 0.01907155005437356 \n",
      "\n",
      "39  iterations:\n",
      "Cost: 1.2151153348530657e-06 \n",
      "ssim: 0.299171575507345 \n",
      "Norm: 0.018632205379537473 \n",
      "\n",
      "40  iterations:\n",
      "Cost: 1.2479100774619205e-06 \n",
      "ssim: 0.2949157232784202 \n",
      "Norm: 0.018210220255389077 \n",
      "\n",
      "41  iterations:\n",
      "Cost: 1.2807658796173975e-06 \n",
      "ssim: 0.29080686444237247 \n",
      "Norm: 0.017804224413305838 \n",
      "\n",
      "42  iterations:\n",
      "Cost: 1.3136738738458492e-06 \n",
      "ssim: 0.2868050743196816 \n",
      "Norm: 0.01741326554203903 \n",
      "\n",
      "43  iterations:\n",
      "Cost: 1.3466253594010126e-06 \n",
      "ssim: 0.28278269713254944 \n",
      "Norm: 0.017036453071458603 \n",
      "\n",
      "44  iterations:\n",
      "Cost: 1.3796119220531176e-06 \n",
      "ssim: 0.27899430796932184 \n",
      "Norm: 0.0166727601747324 \n",
      "\n",
      "45  iterations:\n",
      "Cost: 1.412625583425344e-06 \n",
      "ssim: 0.27503584919951884 \n",
      "Norm: 0.0163210599711235 \n",
      "\n",
      "46  iterations:\n",
      "Cost: 1.4456589782606365e-06 \n",
      "ssim: 0.2712734709674768 \n",
      "Norm: 0.015980230347630846 \n",
      "\n",
      "47  iterations:\n",
      "Cost: 1.4787055666259025e-06 \n",
      "ssim: 0.2675970977881308 \n",
      "Norm: 0.01564921366865066 \n",
      "\n",
      "48  iterations:\n",
      "Cost: 1.511759874422963e-06 \n",
      "ssim: 0.2640953047421268 \n",
      "Norm: 0.015327043590178736 \n",
      "\n",
      "49  iterations:\n",
      "Cost: 1.5448176819753223e-06 \n",
      "ssim: 0.26017222009776925 \n",
      "Norm: 0.015012908833924345 \n",
      "\n",
      "50  iterations:\n",
      "Cost: 1.5778759231438912e-06 \n",
      "ssim: 0.2566866057108173 \n",
      "Norm: 0.014706253069250278 \n",
      "\n",
      "51  iterations:\n",
      "Cost: 1.6109319848225603e-06 \n",
      "ssim: 0.2529385940544269 \n",
      "Norm: 0.014406778367286517 \n",
      "\n",
      "52  iterations:\n",
      "Cost: 1.643982556022174e-06 \n",
      "ssim: 0.2494253258527694 \n",
      "Norm: 0.014114216116750882 \n",
      "\n",
      "53  iterations:\n",
      "Cost: 1.6770229408152535e-06 \n",
      "ssim: 0.24593444527854066 \n",
      "Norm: 0.0138280162298785 \n",
      "\n",
      "54  iterations:\n",
      "Cost: 1.7100474277884982e-06 \n",
      "ssim: 0.24213801705433113 \n",
      "Norm: 0.013547459051145112 \n",
      "\n",
      "55  iterations:\n",
      "Cost: 1.7430501621470095e-06 \n",
      "ssim: 0.2385898952239907 \n",
      "Norm: 0.01327242165404842 \n",
      "\n",
      "56  iterations:\n",
      "Cost: 1.7760258041285928e-06 \n",
      "ssim: 0.23511757301707142 \n",
      "Norm: 0.013003705659692028 \n",
      "\n",
      "57  iterations:\n",
      "Cost: 1.8089698271967813e-06 \n",
      "ssim: 0.23165670271327454 \n",
      "Norm: 0.012742037934747843 \n",
      "\n",
      "58  iterations:\n",
      "Cost: 1.8418785921907206e-06 \n",
      "ssim: 0.2280822035073494 \n",
      "Norm: 0.012487297327383382 \n",
      "\n",
      "59  iterations:\n",
      "Cost: 1.8747493114592954e-06 \n",
      "ssim: 0.2246648971143685 \n",
      "Norm: 0.012239269522663614 \n",
      "\n",
      "60  iterations:\n",
      "Cost: 1.907579956502202e-06 \n",
      "ssim: 0.22099971603955645 \n",
      "Norm: 0.011998455732904452 \n",
      "\n",
      "61  iterations:\n",
      "Cost: 1.9403691422982506e-06 \n",
      "ssim: 0.21763279873873248 \n",
      "Norm: 0.01176548554163428 \n",
      "\n",
      "62  iterations:\n",
      "Cost: 1.973116008567875e-06 \n",
      "ssim: 0.21408675643577343 \n",
      "Norm: 0.011540593846252964 \n",
      "\n",
      "63  iterations:\n",
      "Cost: 2.0058201070708053e-06 \n",
      "ssim: 0.21050134591859015 \n",
      "Norm: 0.011323842393421737 \n",
      "\n",
      "64  iterations:\n",
      "Cost: 2.0384813067072846e-06 \n",
      "ssim: 0.20697804524133387 \n",
      "Norm: 0.011114990910728335 \n",
      "\n",
      "65  iterations:\n",
      "Cost: 2.071099732024469e-06 \n",
      "ssim: 0.20352388773988747 \n",
      "Norm: 0.010912685941891495 \n",
      "\n",
      "66  iterations:\n",
      "Cost: 2.1036757282506344e-06 \n",
      "ssim: 0.19994725317399317 \n",
      "Norm: 0.010715325679187771 \n",
      "\n",
      "67  iterations:\n",
      "Cost: 2.1362098296651106e-06 \n",
      "ssim: 0.19656099249157458 \n",
      "Norm: 0.010523177580390434 \n",
      "\n",
      "68  iterations:\n",
      "Cost: 2.1687027395409694e-06 \n",
      "ssim: 0.19313732958547547 \n",
      "Norm: 0.01033733620916678 \n",
      "\n",
      "69  iterations:\n",
      "Cost: 2.201155335025202e-06 \n",
      "ssim: 0.18967068360527284 \n",
      "Norm: 0.010158740976835919 \n",
      "\n",
      "70  iterations:\n",
      "Cost: 2.2335686879945913e-06 \n",
      "ssim: 0.18628395092486075 \n",
      "Norm: 0.009990075699448748 \n",
      "\n",
      "71  iterations:\n",
      "Cost: 2.265944073104958e-06 \n",
      "ssim: 0.18288532629911322 \n",
      "Norm: 0.009842397598517261 \n",
      "\n"
     ]
    },
    {
     "ename": "KeyboardInterrupt",
     "evalue": "",
     "output_type": "error",
     "traceback": [
      "\u001b[0;31m---------------------------------------------------------------------------\u001b[0m",
      "\u001b[0;31mKeyboardInterrupt\u001b[0m                         Traceback (most recent call last)",
      "\u001b[0;32m<ipython-input-122-10264272d521>\u001b[0m in \u001b[0;36m<module>\u001b[0;34m\u001b[0m\n\u001b[1;32m      1\u001b[0m \u001b[0;32mwhile\u001b[0m \u001b[0mn_iter\u001b[0m\u001b[0;34m<\u001b[0m\u001b[0;36m100\u001b[0m \u001b[0;32mand\u001b[0m \u001b[0mnorm\u001b[0m\u001b[0;34m>\u001b[0m\u001b[0mtol\u001b[0m\u001b[0;34m:\u001b[0m\u001b[0;34m\u001b[0m\u001b[0;34m\u001b[0m\u001b[0m\n\u001b[0;32m----> 2\u001b[0;31m     \u001b[0muk\u001b[0m\u001b[0;34m,\u001b[0m\u001b[0mvk\u001b[0m\u001b[0;34m,\u001b[0m\u001b[0mwk\u001b[0m\u001b[0;34m,\u001b[0m\u001b[0muk_bar\u001b[0m\u001b[0;34m,\u001b[0m\u001b[0mnorm\u001b[0m \u001b[0;34m=\u001b[0m \u001b[0mstep_test2\u001b[0m\u001b[0;34m(\u001b[0m\u001b[0muk\u001b[0m\u001b[0;34m,\u001b[0m\u001b[0mvk\u001b[0m\u001b[0;34m,\u001b[0m\u001b[0mwk\u001b[0m\u001b[0;34m,\u001b[0m\u001b[0muk_bar\u001b[0m\u001b[0;34m)\u001b[0m\u001b[0;34m\u001b[0m\u001b[0;34m\u001b[0m\u001b[0m\n\u001b[0m\u001b[1;32m      3\u001b[0m     \u001b[0mn_iter\u001b[0m \u001b[0;34m+=\u001b[0m \u001b[0;36m1\u001b[0m\u001b[0;34m\u001b[0m\u001b[0;34m\u001b[0m\u001b[0m\n\u001b[1;32m      4\u001b[0m     \u001b[0mnorms\u001b[0m\u001b[0;34m.\u001b[0m\u001b[0mappend\u001b[0m\u001b[0;34m(\u001b[0m\u001b[0mnorm\u001b[0m\u001b[0;34m)\u001b[0m\u001b[0;34m\u001b[0m\u001b[0;34m\u001b[0m\u001b[0m\n\u001b[1;32m      5\u001b[0m     \u001b[0menergies\u001b[0m\u001b[0;34m.\u001b[0m\u001b[0mappend\u001b[0m\u001b[0;34m(\u001b[0m\u001b[0mf1\u001b[0m\u001b[0;34m(\u001b[0m\u001b[0muk\u001b[0m\u001b[0;34m)\u001b[0m\u001b[0;34m+\u001b[0m\u001b[0mf2\u001b[0m\u001b[0;34m(\u001b[0m\u001b[0mnp\u001b[0m\u001b[0;34m.\u001b[0m\u001b[0marray\u001b[0m\u001b[0;34m(\u001b[0m\u001b[0mGradientIm\u001b[0m\u001b[0;34m(\u001b[0m\u001b[0muk\u001b[0m\u001b[0;34m)\u001b[0m\u001b[0;34m)\u001b[0m\u001b[0;34m)\u001b[0m\u001b[0;34m)\u001b[0m\u001b[0;34m\u001b[0m\u001b[0;34m\u001b[0m\u001b[0m\n",
      "\u001b[0;32m<ipython-input-120-c4b237cf9535>\u001b[0m in \u001b[0;36mstep_test2\u001b[0;34m(uk, vk, wk, uk_bar)\u001b[0m\n\u001b[1;32m      1\u001b[0m \u001b[0;32mdef\u001b[0m \u001b[0mstep_test2\u001b[0m\u001b[0;34m(\u001b[0m\u001b[0muk\u001b[0m\u001b[0;34m,\u001b[0m\u001b[0mvk\u001b[0m\u001b[0;34m,\u001b[0m\u001b[0mwk\u001b[0m\u001b[0;34m,\u001b[0m\u001b[0muk_bar\u001b[0m\u001b[0;34m)\u001b[0m\u001b[0;34m:\u001b[0m\u001b[0;34m\u001b[0m\u001b[0;34m\u001b[0m\u001b[0m\n\u001b[1;32m      2\u001b[0m     \u001b[0mvk1\u001b[0m \u001b[0;34m=\u001b[0m \u001b[0mprox_F1_dual\u001b[0m\u001b[0;34m(\u001b[0m\u001b[0mvk\u001b[0m\u001b[0;34m+\u001b[0m\u001b[0msigma\u001b[0m\u001b[0;34m*\u001b[0m\u001b[0muk_bar\u001b[0m\u001b[0;34m,\u001b[0m\u001b[0msigma\u001b[0m\u001b[0;34m)\u001b[0m\u001b[0;34m\u001b[0m\u001b[0;34m\u001b[0m\u001b[0m\n\u001b[0;32m----> 3\u001b[0;31m     \u001b[0mwk1\u001b[0m \u001b[0;34m=\u001b[0m \u001b[0mprox_F2_dual\u001b[0m\u001b[0;34m(\u001b[0m\u001b[0mwk\u001b[0m\u001b[0;34m+\u001b[0m\u001b[0msigma\u001b[0m\u001b[0;34m*\u001b[0m\u001b[0mGradientIm\u001b[0m\u001b[0;34m(\u001b[0m\u001b[0muk_bar\u001b[0m\u001b[0;34m)\u001b[0m\u001b[0;34m,\u001b[0m\u001b[0msigma\u001b[0m\u001b[0;34m)\u001b[0m\u001b[0;34m\u001b[0m\u001b[0;34m\u001b[0m\u001b[0m\n\u001b[0m\u001b[1;32m      4\u001b[0m     \u001b[0muk1\u001b[0m \u001b[0;34m=\u001b[0m \u001b[0muk\u001b[0m\u001b[0;34m-\u001b[0m\u001b[0mtau\u001b[0m\u001b[0;34m*\u001b[0m\u001b[0mR\u001b[0m\u001b[0;34m(\u001b[0m\u001b[0mvk1\u001b[0m\u001b[0;34m)\u001b[0m\u001b[0;34m-\u001b[0m\u001b[0mtau\u001b[0m\u001b[0;34m*\u001b[0m\u001b[0mDivergenceIm\u001b[0m\u001b[0;34m(\u001b[0m\u001b[0mwk1\u001b[0m\u001b[0;34m)\u001b[0m\u001b[0;34m\u001b[0m\u001b[0;34m\u001b[0m\u001b[0m\n\u001b[1;32m      5\u001b[0m     \u001b[0muk_bar1\u001b[0m \u001b[0;34m=\u001b[0m \u001b[0muk1\u001b[0m\u001b[0;34m+\u001b[0m\u001b[0mtheta\u001b[0m\u001b[0;34m*\u001b[0m\u001b[0;34m(\u001b[0m\u001b[0muk\u001b[0m\u001b[0;34m-\u001b[0m\u001b[0muk1\u001b[0m\u001b[0;34m)\u001b[0m\u001b[0;34m\u001b[0m\u001b[0;34m\u001b[0m\u001b[0m\n",
      "\u001b[0;32m<ipython-input-23-a9e78991611e>\u001b[0m in \u001b[0;36mprox_F2_dual\u001b[0;34m(u, c)\u001b[0m\n\u001b[1;32m     19\u001b[0m \u001b[0;34m\u001b[0m\u001b[0m\n\u001b[1;32m     20\u001b[0m \u001b[0;32mdef\u001b[0m \u001b[0mprox_F2_dual\u001b[0m\u001b[0;34m(\u001b[0m\u001b[0mu\u001b[0m\u001b[0;34m,\u001b[0m\u001b[0mc\u001b[0m\u001b[0;34m)\u001b[0m\u001b[0;34m:\u001b[0m\u001b[0;34m\u001b[0m\u001b[0;34m\u001b[0m\u001b[0m\n\u001b[0;32m---> 21\u001b[0;31m     \u001b[0;32mreturn\u001b[0m \u001b[0mu\u001b[0m\u001b[0;34m-\u001b[0m\u001b[0mc\u001b[0m\u001b[0;34m*\u001b[0m\u001b[0mprox_F2\u001b[0m\u001b[0;34m(\u001b[0m\u001b[0mu\u001b[0m\u001b[0;34m/\u001b[0m\u001b[0mc\u001b[0m\u001b[0;34m,\u001b[0m\u001b[0;36m1\u001b[0m\u001b[0;34m/\u001b[0m\u001b[0mc\u001b[0m\u001b[0;34m)\u001b[0m\u001b[0;34m\u001b[0m\u001b[0;34m\u001b[0m\u001b[0m\n\u001b[0m",
      "\u001b[0;32m<ipython-input-23-a9e78991611e>\u001b[0m in \u001b[0;36mprox_F2\u001b[0;34m(u, c)\u001b[0m\n\u001b[1;32m      4\u001b[0m     \u001b[0;32mfor\u001b[0m \u001b[0mi\u001b[0m \u001b[0;32min\u001b[0m \u001b[0mrange\u001b[0m\u001b[0;34m(\u001b[0m\u001b[0mn\u001b[0m\u001b[0;34m)\u001b[0m\u001b[0;34m:\u001b[0m\u001b[0;34m\u001b[0m\u001b[0;34m\u001b[0m\u001b[0m\n\u001b[1;32m      5\u001b[0m         \u001b[0;32mfor\u001b[0m \u001b[0mj\u001b[0m \u001b[0;32min\u001b[0m \u001b[0mrange\u001b[0m\u001b[0;34m(\u001b[0m\u001b[0mp\u001b[0m\u001b[0;34m)\u001b[0m\u001b[0;34m:\u001b[0m\u001b[0;34m\u001b[0m\u001b[0;34m\u001b[0m\u001b[0m\n\u001b[0;32m----> 6\u001b[0;31m             \u001b[0mmod\u001b[0m \u001b[0;34m=\u001b[0m \u001b[0mnp\u001b[0m\u001b[0;34m.\u001b[0m\u001b[0mlinalg\u001b[0m\u001b[0;34m.\u001b[0m\u001b[0mnorm\u001b[0m\u001b[0;34m(\u001b[0m\u001b[0;34m[\u001b[0m\u001b[0mu\u001b[0m\u001b[0;34m[\u001b[0m\u001b[0mk\u001b[0m\u001b[0;34m]\u001b[0m\u001b[0;34m[\u001b[0m\u001b[0mi\u001b[0m\u001b[0;34m]\u001b[0m\u001b[0;34m[\u001b[0m\u001b[0mj\u001b[0m\u001b[0;34m]\u001b[0m \u001b[0;32mfor\u001b[0m \u001b[0mk\u001b[0m \u001b[0;32min\u001b[0m \u001b[0mrange\u001b[0m\u001b[0;34m(\u001b[0m\u001b[0ml\u001b[0m\u001b[0;34m)\u001b[0m\u001b[0;34m]\u001b[0m\u001b[0;34m)\u001b[0m\u001b[0;34m\u001b[0m\u001b[0;34m\u001b[0m\u001b[0m\n\u001b[0m\u001b[1;32m      7\u001b[0m             \u001b[0;32mif\u001b[0m \u001b[0mmod\u001b[0m\u001b[0;34m>\u001b[0m\u001b[0mc\u001b[0m\u001b[0;34m*\u001b[0m\u001b[0mpn1\u001b[0m\u001b[0;34m+\u001b[0m\u001b[0mgamma\u001b[0m\u001b[0;34m:\u001b[0m\u001b[0;34m\u001b[0m\u001b[0;34m\u001b[0m\u001b[0m\n\u001b[1;32m      8\u001b[0m                 \u001b[0;32mfor\u001b[0m \u001b[0mk\u001b[0m \u001b[0;32min\u001b[0m \u001b[0mrange\u001b[0m\u001b[0;34m(\u001b[0m\u001b[0ml\u001b[0m\u001b[0;34m)\u001b[0m\u001b[0;34m:\u001b[0m\u001b[0;34m\u001b[0m\u001b[0;34m\u001b[0m\u001b[0m\n",
      "\u001b[0;32m~/anaconda3/lib/python3.7/site-packages/numpy/linalg/linalg.py\u001b[0m in \u001b[0;36mnorm\u001b[0;34m(x, ord, axis, keepdims)\u001b[0m\n\u001b[1;32m   2449\u001b[0m             \u001b[0;32melse\u001b[0m\u001b[0;34m:\u001b[0m\u001b[0;34m\u001b[0m\u001b[0;34m\u001b[0m\u001b[0m\n\u001b[1;32m   2450\u001b[0m                 \u001b[0msqnorm\u001b[0m \u001b[0;34m=\u001b[0m \u001b[0mdot\u001b[0m\u001b[0;34m(\u001b[0m\u001b[0mx\u001b[0m\u001b[0;34m,\u001b[0m \u001b[0mx\u001b[0m\u001b[0;34m)\u001b[0m\u001b[0;34m\u001b[0m\u001b[0;34m\u001b[0m\u001b[0m\n\u001b[0;32m-> 2451\u001b[0;31m             \u001b[0mret\u001b[0m \u001b[0;34m=\u001b[0m \u001b[0msqrt\u001b[0m\u001b[0;34m(\u001b[0m\u001b[0msqnorm\u001b[0m\u001b[0;34m)\u001b[0m\u001b[0;34m\u001b[0m\u001b[0;34m\u001b[0m\u001b[0m\n\u001b[0m\u001b[1;32m   2452\u001b[0m             \u001b[0;32mif\u001b[0m \u001b[0mkeepdims\u001b[0m\u001b[0;34m:\u001b[0m\u001b[0;34m\u001b[0m\u001b[0;34m\u001b[0m\u001b[0m\n\u001b[1;32m   2453\u001b[0m                 \u001b[0mret\u001b[0m \u001b[0;34m=\u001b[0m \u001b[0mret\u001b[0m\u001b[0;34m.\u001b[0m\u001b[0mreshape\u001b[0m\u001b[0;34m(\u001b[0m\u001b[0mndim\u001b[0m\u001b[0;34m*\u001b[0m\u001b[0;34m[\u001b[0m\u001b[0;36m1\u001b[0m\u001b[0;34m]\u001b[0m\u001b[0;34m)\u001b[0m\u001b[0;34m\u001b[0m\u001b[0;34m\u001b[0m\u001b[0m\n",
      "\u001b[0;31mKeyboardInterrupt\u001b[0m: "
     ]
    }
   ],
   "source": [
    "while n_iter<100 and norm>tol:\n",
    "    uk,vk,wk,uk_bar,norm = step_test2(uk,vk,wk,uk_bar)\n",
    "    n_iter += 1\n",
    "    norms.append(norm)\n",
    "    energies.append(f1(uk)+f2(np.array(GradientIm(uk))))\n",
    "    ssims.append(ssim(uk,u0_mat))\n",
    "    print(n_iter,\" iterations:\\nCost:\",energies[-1],\"\\nssim:\",ssims[-1],\"\\nNorm:\",norm,\"\\n\")\n",
    "print(\"Final ssim after \",n_iter,\" iterations:\",ssim(uk,u0_mat))"
   ]
  },
  {
   "cell_type": "code",
   "execution_count": 123,
   "metadata": {},
   "outputs": [
    {
     "name": "stdout",
     "output_type": "stream",
     "text": [
      "0.18288532629911322\n"
     ]
    }
   ],
   "source": [
    "#Final image\n",
    "image_rec = pysap.Image(data=uk)\n",
    "print(ssim(uk,u0_mat))\n",
    "image_rec.show()"
   ]
  },
  {
   "cell_type": "code",
   "execution_count": 124,
   "metadata": {},
   "outputs": [
    {
     "data": {
      "image/png": "[encoded data removed]",
      "text/plain": [
       "<Figure size 432x288 with 1 Axes>"
      ]
     },
     "metadata": {
      "needs_background": "light"
     },
     "output_type": "display_data"
    }
   ],
   "source": [
    "plt.plot(energies)\n",
    "plt.yscale(\"log\")"
   ]
  },
  {
   "cell_type": "code",
   "execution_count": 125,
   "metadata": {},
   "outputs": [
    {
     "data": {
      "image/png": "[encoded data removed]",
      "text/plain": [
       "<Figure size 432x288 with 1 Axes>"
      ]
     },
     "metadata": {
      "needs_background": "light"
     },
     "output_type": "display_data"
    }
   ],
   "source": [
    "plt.plot(norms)\n",
    "plt.yscale(\"log\")"
   ]
  },
  {
   "cell_type": "code",
   "execution_count": 126,
   "metadata": {},
   "outputs": [
    {
     "data": {
      "text/plain": [
       "[<matplotlib.lines.Line2D at 0x7f640ed46828>]"
      ]
     },
     "execution_count": 126,
     "metadata": {},
     "output_type": "execute_result"
    },
    {
     "data": {
      "image/png": "[encoded data removed]",
      "text/plain": [
       "<Figure size 432x288 with 1 Axes>"
      ]
     },
     "metadata": {
      "needs_background": "light"
     },
     "output_type": "display_data"
    }
   ],
   "source": [
    "plt.plot(ssims)"
   ]
  },
  {
   "cell_type": "markdown",
   "metadata": {},
   "source": [
    "# Implementation of the PDHG algorithm"
   ]
  },
  {
   "cell_type": "code",
   "execution_count": 293,
   "metadata": {},
   "outputs": [],
   "source": [
    "#constants\n",
    "pn1 = 1e-1\n",
    "epsilon = 1e-10\n",
    "\n",
    "L=1\n",
    "eta = max(np.amax(p)**2,pn1*6/gamma)\n",
    "mu = 2*np.sqrt(epsilon/(1+L*L)/eta)\n",
    "tau = mu/2/epsilon\n",
    "sigma = mu*eta/2\n",
    "theta = 1/(1+mu)\n",
    "\n",
    "maxit = 20\n",
    "tol = 1e-5"
   ]
  },
  {
   "cell_type": "code",
   "execution_count": 171,
   "metadata": {},
   "outputs": [
    {
     "name": "stdout",
     "output_type": "stream",
     "text": [
      "1.9073484054388315e-16 2.962353337276962e-08 0.0005000485137651704\n"
     ]
    }
   ],
   "source": [
    "print(g(u0_mat),f1(u0_mat),f2(GradientIm(u0_mat)))"
   ]
  },
  {
   "cell_type": "code",
   "execution_count": 294,
   "metadata": {},
   "outputs": [],
   "source": [
    "def step(uk,vk,wk,uk_bar):\n",
    "    vk1 = prox_F1_dual(vk+sigma*uk_bar,sigma)\n",
    "    wk1 = prox_F2_dual(wk+sigma*GradientIm(uk_bar),sigma)\n",
    "    uk1 = prox_G(uk-tau*R(vk1)+tau*DivergenceIm(wk1),tau)\n",
    "    uk_bar1 = uk1+theta*(uk1-uk)\n",
    "\n",
    "    norm = np.linalg.norm(uk1-uk)/np.linalg.norm(uk)\n",
    "    norm += (np.linalg.norm(vk1-vk)+np.linalg.norm(wk1-wk))/(np.linalg.norm(vk)+np.linalg.norm(wk))\n",
    "    return uk1,vk1,wk1,uk_bar1,norm"
   ]
  },
  {
   "cell_type": "code",
   "execution_count": 295,
   "metadata": {},
   "outputs": [],
   "source": [
    "#initialisation\n",
    "n_iter = 0\n",
    "uk = fourier_op.adj_op(p*y)\n",
    "image_rec0 = pysap.Image(data=np.abs(uk))\n",
    "\n",
    "energies = [energy(uk)]\n",
    "norms = []\n",
    "ssims = [ssim(uk,u0_mat)]\n",
    "#image_rec0.show()\n",
    "#print(ssim(uk,u0_mat))"
   ]
  },
  {
   "cell_type": "code",
   "execution_count": 1,
   "metadata": {},
   "outputs": [
    {
     "ename": "NameError",
     "evalue": "name 'np' is not defined",
     "output_type": "error",
     "traceback": [
      "\u001b[0;31m---------------------------------------------------------------------------\u001b[0m",
      "\u001b[0;31mNameError\u001b[0m                                 Traceback (most recent call last)",
      "\u001b[0;32m<ipython-input-1-6a9245bea7ca>\u001b[0m in \u001b[0;36m<module>\u001b[0;34m\u001b[0m\n\u001b[0;32m----> 1\u001b[0;31m \u001b[0mvk\u001b[0m \u001b[0;34m=\u001b[0m \u001b[0mnp\u001b[0m\u001b[0;34m.\u001b[0m\u001b[0mcopy\u001b[0m\u001b[0;34m(\u001b[0m\u001b[0muk\u001b[0m\u001b[0;34m)\u001b[0m\u001b[0;34m\u001b[0m\u001b[0;34m\u001b[0m\u001b[0m\n\u001b[0m\u001b[1;32m      2\u001b[0m \u001b[0mwk\u001b[0m \u001b[0;34m=\u001b[0m \u001b[0mGradientIm\u001b[0m\u001b[0;34m(\u001b[0m\u001b[0muk\u001b[0m\u001b[0;34m)\u001b[0m\u001b[0;34m\u001b[0m\u001b[0;34m\u001b[0m\u001b[0m\n\u001b[1;32m      3\u001b[0m \u001b[0muk_bar\u001b[0m \u001b[0;34m=\u001b[0m \u001b[0mnp\u001b[0m\u001b[0;34m.\u001b[0m\u001b[0mcopy\u001b[0m\u001b[0;34m(\u001b[0m\u001b[0muk\u001b[0m\u001b[0;34m)\u001b[0m\u001b[0;34m\u001b[0m\u001b[0;34m\u001b[0m\u001b[0m\n\u001b[1;32m      4\u001b[0m \u001b[0mnorm\u001b[0m \u001b[0;34m=\u001b[0m \u001b[0;36m2\u001b[0m\u001b[0;34m*\u001b[0m\u001b[0mtol\u001b[0m\u001b[0;34m\u001b[0m\u001b[0;34m\u001b[0m\u001b[0m\n\u001b[1;32m      5\u001b[0m \u001b[0mprint\u001b[0m\u001b[0;34m(\u001b[0m\u001b[0;34m\"Base ssim:\"\u001b[0m\u001b[0;34m,\u001b[0m\u001b[0mssim\u001b[0m\u001b[0;34m(\u001b[0m\u001b[0muk\u001b[0m\u001b[0;34m,\u001b[0m\u001b[0mu0_mat\u001b[0m\u001b[0;34m)\u001b[0m\u001b[0;34m,\u001b[0m \u001b[0;34m\"\\nBase cost:\"\u001b[0m\u001b[0;34m,\u001b[0m \u001b[0menergy\u001b[0m\u001b[0;34m(\u001b[0m\u001b[0muk\u001b[0m\u001b[0;34m)\u001b[0m\u001b[0;34m)\u001b[0m\u001b[0;34m\u001b[0m\u001b[0;34m\u001b[0m\u001b[0m\n",
      "\u001b[0;31mNameError\u001b[0m: name 'np' is not defined"
     ]
    }
   ],
   "source": [
    "vk = np.copy(uk)\n",
    "wk = GradientIm(uk)\n",
    "uk_bar = np.copy(uk)\n",
    "norm = 2*tol\n",
    "print(\"Base ssim:\",ssim(uk,u0_mat), \"\\nBase cost:\", energy(uk))"
   ]
  },
  {
   "cell_type": "code",
   "execution_count": null,
   "metadata": {
    "scrolled": true
   },
   "outputs": [],
   "source": [
    "while n_iter<100 and norm>tol:\n",
    "    uk,vk,wk,uk_bar,norm = step(uk,vk,wk,uk_bar)\n",
    "    n_iter += 1\n",
    "    norms.append(norm)\n",
    "    energies.append(energy(uk))\n",
    "    ssims.append(ssim(uk,u0_mat))\n",
    "    print(n_iter,\" iterations:\\nCost:\",energies[-1],\"\\nssim:\",ssims[-1],\"\\nNorm:\",norm,\"\\n\")\n",
    "print(\"Final ssim after \",n_iter,\" iterations:\",ssim(uk,u0_mat))"
   ]
  },
  {
   "cell_type": "code",
   "execution_count": 242,
   "metadata": {
    "scrolled": true
   },
   "outputs": [
    {
     "name": "stdout",
     "output_type": "stream",
     "text": [
      "0.4699286203416976\n"
     ]
    }
   ],
   "source": [
    "#Final image\n",
    "image_rec = pysap.Image(data=np.abs(uk))\n",
    "print(ssim(uk,u0_mat))\n",
    "image_rec.show()"
   ]
  },
  {
   "cell_type": "code",
   "execution_count": 141,
   "metadata": {},
   "outputs": [
    {
     "data": {
      "image/png": "[encoded data removed]",
      "text/plain": [
       "<Figure size 432x288 with 1 Axes>"
      ]
     },
     "metadata": {
      "needs_background": "light"
     },
     "output_type": "display_data"
    }
   ],
   "source": [
    "plt.plot(energies)\n",
    "plt.yscale(\"log\")"
   ]
  },
  {
   "cell_type": "code",
   "execution_count": 142,
   "metadata": {},
   "outputs": [
    {
     "data": {
      "image/png": "[encoded data removed]",
      "text/plain": [
       "<Figure size 432x288 with 1 Axes>"
      ]
     },
     "metadata": {
      "needs_background": "light"
     },
     "output_type": "display_data"
    }
   ],
   "source": [
    "plt.plot(norms)\n",
    "plt.yscale(\"log\")"
   ]
  },
  {
   "cell_type": "code",
   "execution_count": 143,
   "metadata": {},
   "outputs": [
    {
     "data": {
      "text/plain": [
       "[<matplotlib.lines.Line2D at 0x7f10ce866eb8>]"
      ]
     },
     "execution_count": 143,
     "metadata": {},
     "output_type": "execute_result"
    },
    {
     "data": {
      "image/png": "[encoded data removed]",
      "text/plain": [
       "<Figure size 432x288 with 1 Axes>"
      ]
     },
     "metadata": {
      "needs_background": "light"
     },
     "output_type": "display_data"
    }
   ],
   "source": [
    "plt.plot(ssims)"
   ]
  }
 ],
 "metadata": {
  "kernelspec": {
   "display_name": "Python 3",
   "language": "python",
   "name": "python3"
  },
  "language_info": {
   "codemirror_mode": {
    "name": "ipython",
    "version": 3
   },
   "file_extension": ".py",
   "mimetype": "text/x-python",
   "name": "python",
   "nbconvert_exporter": "python",
   "pygments_lexer": "ipython3",
   "version": "3.7.3"
  }
 },
 "nbformat": 4,
 "nbformat_minor": 2
}
