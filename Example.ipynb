{
 "cells": [
  {
   "cell_type": "markdown",
   "metadata": {},
   "source": [
    "PDHG algorithm"
   ]
  },
  {
   "cell_type": "code",
   "execution_count": 1,
   "metadata": {
    "scrolled": true
   },
   "outputs": [
    {
     "name": "stderr",
     "output_type": "stream",
     "text": [
      "/home/guillaume/temp/pysap-mri/mri/operators/fourier/cartesian.py:33: UserWarning: pynufft python package has not been found. If needed use the master release. Till then you cannot use NUFFT on GPU\n",
      "  warnings.warn(\"pynufft python package has not been found. If needed use \"\n",
      "/home/guillaume/temp/pysap-mri/mri/operators/fourier/non_cartesian.py:33: UserWarning: pynufft python package has not been found. If needed use the master release. Till then you cannot use NUFFT on GPU\n",
      "  warnings.warn(\"pynufft python package has not been found. If needed use \"\n"
     ]
    },
    {
     "name": "stdout",
     "output_type": "stream",
     "text": [
      "\n",
      "                 .|'''|       /.\\      '||'''|,\n",
      "                 ||          // \\\\      ||   ||\n",
      "'||''|, '||  ||` `|'''|,    //...\\\\     ||...|'\n",
      " ||  ||  `|..||   .   ||   //     \\\\    ||\n",
      " ||..|'      ||   |...|' .//       \\\\. .||\n",
      " ||       ,  |'\n",
      ".||        ''\n",
      "\n",
      "Package version: 0.0.3\n",
      "\n",
      "License: CeCILL-B\n",
      "\n",
      "Authors: \n",
      "\n",
      "Antoine Grigis <antoine.grigis@cea.fr>\n",
      "Samuel Farrens <samuel.farrens@cea.fr>\n",
      "Jean-Luc Starck <jl.stark@cea.fr>\n",
      "Philippe Ciuciu <philippe.ciuciu@cea.fr>\n",
      "\n",
      "Dependencies: \n",
      "\n",
      "scipy          : >=1.3.0   - required | 1.3.0     installed\n",
      "numpy          : >=1.16.4  - required | 1.16.4    installed\n",
      "matplotlib     : >=3.0.0   - required | 3.1.1     installed\n",
      "astropy        : >=3.0.0   - required | 3.2.1     installed\n",
      "nibabel        : >=2.3.2   - required | 2.5.1     installed\n",
      "pyqtgraph      : >=0.10.0  - required | 0.10.0    installed\n",
      "progressbar2   : >=3.34.3  - required | ?         installed\n",
      "modopt         : >=1.4.0   - required | 1.4.1     installed\n",
      "scikit-learn   : >=0.19.1  - required | ?         installed\n",
      "pywt           : >=1.0.0   - required | 1.0.3     installed\n",
      "pysparse       : >=0.0.1   - required | 0.1.0     installed\n",
      "\n"
     ]
    }
   ],
   "source": [
    "# Package import\n",
    "from mri.operators import NonCartesianFFT, WaveletUD2, WaveletN , gradient\n",
    "from mri.operators.utils import convert_mask_to_locations, convert_locations_to_mask\n",
    "from mri.reconstructors import SingleChannelReconstructor\n",
    "import pysap\n",
    "from pysap.data import get_sample_data\n",
    "import time"
   ]
  },
  {
   "cell_type": "code",
   "execution_count": 2,
   "metadata": {},
   "outputs": [],
   "source": [
    "from modopt.math.metrics import ssim\n",
    "\n",
    "import numpy as np\n",
    "import matplotlib.pyplot as plt"
   ]
  },
  {
   "cell_type": "markdown",
   "metadata": {},
   "source": [
    "## Import data and add noise"
   ]
  },
  {
   "cell_type": "markdown",
   "metadata": {},
   "source": [
    "### Fourier operator and noise"
   ]
  },
  {
   "cell_type": "code",
   "execution_count": 43,
   "metadata": {
    "scrolled": true
   },
   "outputs": [],
   "source": [
    "u0 = get_sample_data('2d-mri')\n",
    "u0_mat = u0.data+0j*u0.data\n",
    "\n",
    "n=u0_mat.shape[0]\n",
    "x = np.linspace(0,n,n,endpoint=False)/n-0.5\n",
    "y = np.linspace(0,n,n,endpoint=False)/n-0.5\n",
    "X,Y = np.meshgrid(x,y)\n",
    "kspace_loc = np.stack([X.flatten('F'),Y.flatten('F')],axis=1)\n",
    "\n",
    "m = convert_locations_to_mask(kspace_loc,u0.shape)\n",
    "fourier_op = NonCartesianFFT(samples=kspace_loc, shape=u0.shape,implementation='cpu')\n",
    "\n",
    "# Adding noise\n",
    "(n1,n2) = u0.shape\n",
    "s = 1e-6\n",
    "# Computing y with non-cartesian Fourier transform\n",
    "fourier_op = NonCartesianFFT(samples=kspace_loc, shape=u0.shape,implementation='cpu')\n",
    "y = (1+0j)*fourier_op.op(u0_mat)+s*np.random.randn(2*n*n).view(np.complex128)"
   ]
  },
  {
   "cell_type": "markdown",
   "metadata": {},
   "source": [
    "### Operators"
   ]
  },
  {
   "cell_type": "code",
   "execution_count": 44,
   "metadata": {},
   "outputs": [],
   "source": [
    "#Subsampling: From pysap radial mask \n",
    "radial_mask = get_sample_data(\"mri-radial-samples\")\n",
    "radial_kspace_loc = radial_mask.data\n",
    "p = np.zeros((n*n,))\n",
    "\n",
    "ind1 = ((n-1)*(radial_kspace_loc[:,0]+0.5)).astype(int)\n",
    "ind2 = ((n-1)*(radial_kspace_loc[:,1]+0.5)).astype(int)\n",
    "p[n*ind1+ind2]=1\n",
    "\n",
    "new_loc = kspace_loc[np.where(p)]\n",
    "#pysap.Image(data = convert_locations_to_mask(np.array(new_loc),u0.shape)).show()\n",
    "\n",
    "#Wavelet\n",
    "linear_op = WaveletN(wavelet_name=\"db8\",nb_scale=4,padding_mode = \"periodization\")\n",
    "#linear_op = WaveletUD2(wavelet_id=24,nb_scale=3)"
   ]
  },
  {
   "cell_type": "code",
   "execution_count": 45,
   "metadata": {
    "scrolled": true
   },
   "outputs": [
    {
     "name": "stdout",
     "output_type": "stream",
     "text": [
      "0.7613531350183936\n"
     ]
    }
   ],
   "source": [
    "#ifft on noised data = base result\n",
    "uk = fourier_op.adj_op(p*y)\n",
    "print(ssim(uk,u0_mat))\n",
    "pysap.Image(data = np.real(uk)).show()\n",
    "pysap.Image(data = np.imag(uk)).show()"
   ]
  },
  {
   "cell_type": "markdown",
   "metadata": {},
   "source": [
    "## Reconstruction"
   ]
  },
  {
   "cell_type": "code",
   "execution_count": 46,
   "metadata": {},
   "outputs": [],
   "source": [
    "# Specific files import\n",
    "from algo.prox import prox_G,prox_F1_dual,prox_F2_dual\n",
    "from algo.pdhg import pdhg\n",
    "from algo.cost_utils import f1,f2,g"
   ]
  },
  {
   "cell_type": "code",
   "execution_count": 47,
   "metadata": {},
   "outputs": [],
   "source": [
    "param = {\"pn1\":2e-6,\"epsilon\":1e-5,\"gamma\":1e-10}"
   ]
  },
  {
   "cell_type": "code",
   "execution_count": 48,
   "metadata": {},
   "outputs": [
    {
     "name": "stdout",
     "output_type": "stream",
     "text": [
      "1.9073479506915347e-11 2.296999543905258e-07\n"
     ]
    }
   ],
   "source": [
    "print(g(u0_mat,param[\"epsilon\"]),f2(linear_op.op(u0_mat),param[\"pn1\"],param[\"gamma\"]))"
   ]
  },
  {
   "cell_type": "code",
   "execution_count": 49,
   "metadata": {
    "scrolled": true
   },
   "outputs": [
    {
     "name": "stdout",
     "output_type": "stream",
     "text": [
      "10  iterations:\n",
      "Cost: 1.1603230055988853e-07 \n",
      "Norm: 0.05957906010654581 \n",
      "\n",
      "20  iterations:\n",
      "Cost: 1.1136617491889166e-07 \n",
      "Norm: 0.006314040077735877 \n",
      "\n",
      "30  iterations:\n",
      "Cost: 1.107875048061492e-07 \n",
      "Norm: 0.0009990118819554047 \n",
      "\n",
      "40  iterations:\n",
      "Cost: 1.1072267214255466e-07 \n",
      "Norm: 0.00018948048592051374 \n",
      "\n",
      "Finished in 26.518193244934082 seconds.\n"
     ]
    }
   ],
   "source": [
    "# -- Solving --\n",
    "# myconst = {\"sigma\":1.15,\"tau\":0.43}\n",
    "uk,norms,energy,ssims = pdhg(y,p,fourier_op,linear_op,param,ground_truth=u0_mat,maxit=200)"
   ]
  },
  {
   "cell_type": "code",
   "execution_count": 51,
   "metadata": {
    "scrolled": true
   },
   "outputs": [
    {
     "name": "stdout",
     "output_type": "stream",
     "text": [
      "0.9056330919467643\n"
     ]
    }
   ],
   "source": [
    "#Showing\n",
    "print(ssim(u0_mat,uk))\n",
    "pysap.Image(data = np.imag(uk)).show()"
   ]
  },
  {
   "cell_type": "code",
   "execution_count": 52,
   "metadata": {},
   "outputs": [],
   "source": [
    "pysap.Image(data = np.abs(np.real(uk-u0_mat))).show()"
   ]
  },
  {
   "cell_type": "code",
   "execution_count": 53,
   "metadata": {
    "scrolled": true
   },
   "outputs": [
    {
     "data": {
      "image/png": "[encoded data removed]",
      "text/plain": [
       "<Figure size 432x288 with 1 Axes>"
      ]
     },
     "metadata": {
      "needs_background": "light"
     },
     "output_type": "display_data"
    }
   ],
   "source": [
    "plt.plot(energy[1:])\n",
    "plt.yscale(\"log\")\n",
    "plt.xlabel(\"Number of iterations\")\n",
    "plt.ylabel(\"Cost function\")\n",
    "plt.title(\"Evolution of the cost function\")\n",
    "plt.yscale(\"log\")\n",
    "#plt.savefig(\"Comparisons/undecimated/pdhg/energy.png\")\n",
    "plt.show()"
   ]
  },
  {
   "cell_type": "code",
   "execution_count": 54,
   "metadata": {},
   "outputs": [
    {
     "data": {
      "image/png": "[encoded data removed]",
      "text/plain": [
       "<Figure size 432x288 with 1 Axes>"
      ]
     },
     "metadata": {
      "needs_background": "light"
     },
     "output_type": "display_data"
    }
   ],
   "source": [
    "plt.plot(ssims[3:])\n",
    "plt.yscale(\"log\")\n",
    "plt.xlabel(\"Number of iterations\")\n",
    "plt.ylabel(\"SSIM\")\n",
    "plt.title(\"Evolution of the SSIM\")\n",
    "plt.yscale(\"log\")\n",
    "#plt.savefig(\"Comparisons/undecimated/pdhg/metrics.png\")\n",
    "plt.show()"
   ]
  },
  {
   "cell_type": "code",
   "execution_count": 31,
   "metadata": {},
   "outputs": [
    {
     "data": {
      "image/png": "[encoded data removed]",
      "text/plain": [
       "<Figure size 432x288 with 1 Axes>"
      ]
     },
     "metadata": {
      "needs_background": "light"
     },
     "output_type": "display_data"
    }
   ],
   "source": [
    "plt.plot(norms)\n",
    "plt.yscale(\"log\")\n",
    "plt.xlabel(\"Number of iterations\")\n",
    "plt.ylabel(\"Stopping criterion\")\n",
    "plt.title(\"Evolution of the stopping criterion\")\n",
    "plt.yscale(\"log\")\n",
    "#plt.savefig(\"Comparisons/undecimated/pdhg/norms.png\")\n",
    "plt.show()"
   ]
  },
  {
   "cell_type": "markdown",
   "metadata": {},
   "source": [
    "## Grid search over parameters"
   ]
  },
  {
   "cell_type": "code",
   "execution_count": 32,
   "metadata": {
    "scrolled": true
   },
   "outputs": [
    {
     "name": "stdout",
     "output_type": "stream",
     "text": [
      "Finished in 16.72200918197632 seconds.\n",
      "(1e-07,1.0000000000000001e-07):\n",
      "ssim:0.6960841571281536\n",
      "energy:1.4866539924118667e-08\n",
      "norm:0.039470338774003993\n",
      "\n",
      "Finished in 16.719056606292725 seconds.\n",
      "(1e-07,4.641588833612778e-07):\n",
      "ssim:0.7130247873391187\n",
      "energy:1.3553511419193118e-08\n",
      "norm:0.031785159539967585\n",
      "\n",
      "Finished in 16.77766513824463 seconds.\n",
      "(1e-07,2.1544346900318835e-06):\n",
      "ssim:0.7220162441872845\n",
      "energy:1.301841466457982e-08\n",
      "norm:0.02567486968646776\n",
      "\n",
      "Finished in 16.92851161956787 seconds.\n",
      "(1e-07,1e-05):\n",
      "ssim:0.7347070847093904\n",
      "energy:1.2697473321813345e-08\n",
      "norm:0.01958038095239836\n",
      "\n",
      "Finished in 16.878268480300903 seconds.\n",
      "(1e-07,4.641588833612778e-05):\n",
      "ssim:0.7325088485004719\n",
      "energy:1.2827983194510937e-08\n",
      "norm:0.017193038408343655\n",
      "\n",
      "Finished in 16.85902738571167 seconds.\n",
      "(1e-07,0.00021544346900318823):\n",
      "ssim:0.7232786124092835\n",
      "energy:1.3418717881274039e-08\n",
      "norm:0.016785669601928833\n",
      "\n",
      "Finished in 16.93473196029663 seconds.\n",
      "(1e-07,0.001):\n",
      "ssim:0.7118299349710582\n",
      "energy:1.5326215495212386e-08\n",
      "norm:0.01801471820078716\n",
      "\n",
      "Finished in 17.062198400497437 seconds.\n",
      "(2.1544346900318832e-07,1.0000000000000001e-07):\n",
      "ssim:0.818932299106494\n",
      "energy:3.054651685943011e-08\n",
      "norm:0.045008030869249704\n",
      "\n",
      "Finished in 17.139503717422485 seconds.\n",
      "(2.1544346900318832e-07,4.641588833612778e-07):\n",
      "ssim:0.7274349311139795\n",
      "energy:2.921422159422127e-08\n",
      "norm:0.03883930909662507\n",
      "\n",
      "Finished in 16.733710289001465 seconds.\n",
      "(2.1544346900318832e-07,2.1544346900318835e-06):\n",
      "ssim:0.7544432388190061\n",
      "energy:2.6480491721698717e-08\n",
      "norm:0.025423715499287604\n",
      "\n",
      "Finished in 17.382918119430542 seconds.\n",
      "(2.1544346900318832e-07,1e-05):\n",
      "ssim:0.7619728056112021\n",
      "energy:2.5887791504710497e-08\n",
      "norm:0.01581597070364774\n",
      "\n",
      "Finished in 16.903450965881348 seconds.\n",
      "(2.1544346900318832e-07,4.641588833612778e-05):\n",
      "ssim:0.7629907162680019\n",
      "energy:2.58154111419551e-08\n",
      "norm:0.012677947688568655\n",
      "\n",
      "Finished in 18.183910369873047 seconds.\n",
      "(2.1544346900318832e-07,0.00021544346900318823):\n",
      "ssim:0.7573133586021511\n",
      "energy:2.6433202746805657e-08\n",
      "norm:0.012403419351224743\n",
      "\n",
      "Finished in 17.73520851135254 seconds.\n",
      "(2.1544346900318832e-07,0.001):\n",
      "ssim:0.7424322896089037\n",
      "energy:2.8588346565889602e-08\n",
      "norm:0.01413372275274853\n",
      "\n",
      "Finished in 16.53871726989746 seconds.\n",
      "(4.6415888336127784e-07,1.0000000000000001e-07):\n",
      "ssim:0.8636298664199218\n",
      "energy:5.692636626774162e-08\n",
      "norm:0.04084000478221583\n",
      "\n",
      "Finished in 16.585623502731323 seconds.\n",
      "(4.6415888336127784e-07,4.641588833612778e-07):\n",
      "ssim:0.8319691307453647\n",
      "energy:5.3960953375218116e-08\n",
      "norm:0.03553821900536349\n",
      "\n",
      "Finished in 16.52913761138916 seconds.\n",
      "(4.6415888336127784e-07,2.1544346900318835e-06):\n",
      "ssim:0.8036595960830712\n",
      "energy:5.1839579594312695e-08\n",
      "norm:0.021702179259222274\n",
      "\n",
      "Finished in 16.71719765663147 seconds.\n",
      "(4.6415888336127784e-07,1e-05):\n",
      "ssim:0.8225019373099528\n",
      "energy:4.9488959467808446e-08\n",
      "norm:0.010175262935483192\n",
      "\n",
      "Finished in 16.652250289916992 seconds.\n",
      "(4.6415888336127784e-07,4.641588833612778e-05):\n",
      "ssim:0.8202871354477742\n",
      "energy:4.9206469335553086e-08\n",
      "norm:0.007071535211338328\n",
      "\n",
      "Finished in 16.698947191238403 seconds.\n",
      "(4.6415888336127784e-07,0.00021544346900318823):\n",
      "ssim:0.8126226322742972\n",
      "energy:4.979074277373793e-08\n",
      "norm:0.00824132359215439\n",
      "\n",
      "Finished in 16.75190544128418 seconds.\n",
      "(4.6415888336127784e-07,0.001):\n",
      "ssim:0.7948390565952412\n",
      "energy:5.2045330533584084e-08\n",
      "norm:0.010037660517896847\n",
      "\n",
      "Finished in 16.518251657485962 seconds.\n",
      "(1e-06,1.0000000000000001e-07):\n",
      "ssim:0.8918626049213957\n",
      "energy:1.0381904320231831e-07\n",
      "norm:0.035357878693477646\n",
      "\n",
      "Finished in 16.525420665740967 seconds.\n",
      "(1e-06,4.641588833612778e-07):\n",
      "ssim:0.8856674591842173\n",
      "energy:9.533562259394216e-08\n",
      "norm:0.025525507161382924\n",
      "\n",
      "Finished in 16.498380184173584 seconds.\n",
      "(1e-06,2.1544346900318835e-06):\n",
      "ssim:0.8908903895991963\n",
      "energy:8.885103451954804e-08\n",
      "norm:0.012205245496328534\n",
      "\n",
      "Finished in 16.661805152893066 seconds.\n",
      "(1e-06,1e-05):\n",
      "ssim:0.8934360255330692\n",
      "energy:8.645419402931035e-08\n",
      "norm:0.0035867533304402032\n",
      "\n",
      "Finished in 16.575477123260498 seconds.\n",
      "(1e-06,4.641588833612778e-05):\n",
      "ssim:0.8906845884128732\n",
      "energy:8.61368409758133e-08\n",
      "norm:0.0031024090591491426\n",
      "\n",
      "Finished in 17.021362781524658 seconds.\n",
      "(1e-06,0.00021544346900318823):\n",
      "ssim:0.8774912172213727\n",
      "energy:8.661415085929972e-08\n",
      "norm:0.005400340235104347\n",
      "\n",
      "Finished in 17.053297996520996 seconds.\n",
      "(1e-06,0.001):\n",
      "ssim:0.8510828924877121\n",
      "energy:8.878402721629356e-08\n",
      "norm:0.007820279581312144\n",
      "\n",
      "Finished in 16.60103154182434 seconds.\n",
      "(2.154434690031883e-06,1.0000000000000001e-07):\n",
      "ssim:0.8958685037788181\n",
      "energy:1.8756306809386386e-07\n",
      "norm:0.029417165029262123\n",
      "\n",
      "Finished in 16.560052633285522 seconds.\n",
      "(2.154434690031883e-06,4.641588833612778e-07):\n",
      "ssim:0.9021475889928757\n",
      "energy:1.6291058103236151e-07\n",
      "norm:0.017203170230008072\n",
      "\n",
      "Finished in 17.025558710098267 seconds.\n",
      "(2.154434690031883e-06,2.1544346900318835e-06):\n",
      "ssim:0.9009585780170194\n",
      "energy:1.487641594031e-07\n",
      "norm:0.0053688242082300455\n",
      "\n",
      "Finished in 16.932202339172363 seconds.\n",
      "(2.154434690031883e-06,1e-05):\n",
      "ssim:0.9013398560120168\n",
      "energy:1.4596736190211165e-07\n",
      "norm:0.0006626306943865823\n",
      "\n",
      "Finished in 16.71570110321045 seconds.\n",
      "(2.154434690031883e-06,4.641588833612778e-05):\n",
      "ssim:0.900853783150703\n",
      "energy:1.4601345149715735e-07\n",
      "norm:0.0016180778031643314\n",
      "\n",
      "Finished in 16.621492624282837 seconds.\n",
      "(2.154434690031883e-06,0.00021544346900318823):\n",
      "ssim:0.8940919707335857\n",
      "energy:1.4648168304460776e-07\n",
      "norm:0.0042768220991481615\n",
      "\n",
      "Finished in 16.674302577972412 seconds.\n",
      "(2.154434690031883e-06,0.001):\n",
      "ssim:0.8743906019559325\n",
      "energy:1.4863359699027273e-07\n",
      "norm:0.00899239751564242\n",
      "\n",
      "Finished in 16.53966975212097 seconds.\n",
      "(4.641588833612778e-06,1.0000000000000001e-07):\n",
      "ssim:0.8721943424662227\n",
      "energy:3.3132838992459043e-07\n",
      "norm:0.02219005579200832\n",
      "\n",
      "Finished in 16.57779622077942 seconds.\n",
      "(4.641588833612778e-06,4.641588833612778e-07):\n",
      "ssim:0.8749492886656962\n",
      "energy:2.7686542564383826e-07\n",
      "norm:0.009672077052087297\n",
      "\n",
      "Finished in 16.62302803993225 seconds.\n",
      "(4.641588833612778e-06,2.1544346900318835e-06):\n",
      "ssim:0.8706627085708729\n",
      "energy:2.57088535489129e-07\n",
      "norm:0.0015963181528060434\n",
      "\n",
      "Finished in 16.56073784828186 seconds.\n",
      "(4.641588833612778e-06,1e-05):\n",
      "ssim:0.8706653165791561\n",
      "energy:2.5551221417743363e-07\n",
      "norm:8.984590456473226e-05\n",
      "\n",
      "Finished in 16.543825387954712 seconds.\n",
      "(4.641588833612778e-06,4.641588833612778e-05):\n",
      "ssim:0.8704451782894124\n",
      "energy:2.556102528772219e-07\n",
      "norm:0.0009938598444928037\n",
      "\n",
      "Finished in 16.554015636444092 seconds.\n",
      "(4.641588833612778e-06,0.00021544346900318823):\n",
      "ssim:0.8704367946245694\n",
      "energy:2.5602643147930653e-07\n",
      "norm:0.0033295804046831416\n",
      "\n",
      "Finished in 16.57595658302307 seconds.\n",
      "(4.641588833612778e-06,0.001):\n",
      "ssim:0.8709507477741443\n",
      "energy:2.5828725093173576e-07\n",
      "norm:0.011996679115374866\n",
      "\n",
      "Finished in 16.47055697441101 seconds.\n",
      "(9.999999999999999e-06,1.0000000000000001e-07):\n",
      "ssim:0.8230357867845776\n",
      "energy:5.658297397800976e-07\n",
      "norm:0.015066374970573011\n",
      "\n",
      "Finished in 16.916257619857788 seconds.\n",
      "(9.999999999999999e-06,4.641588833612778e-07):\n",
      "ssim:0.797053475586246\n",
      "energy:4.7412996626208624e-07\n",
      "norm:0.00408621163993644\n",
      "\n",
      "Finished in 16.52687907218933 seconds.\n",
      "(9.999999999999999e-06,2.1544346900318835e-06):\n",
      "ssim:0.7915681343471973\n",
      "energy:4.567511016450462e-07\n",
      "norm:0.00022654692515194425\n",
      "\n",
      "Finished in 14.110612630844116 seconds.\n",
      "(9.999999999999999e-06,1e-05):\n",
      "ssim:0.7915937340934174\n",
      "energy:4.5645468322890725e-07\n",
      "norm:9.65512518800008e-05\n",
      "\n",
      "Finished in 18.862884998321533 seconds.\n",
      "(9.999999999999999e-06,4.641588833612778e-05):\n",
      "ssim:0.7922293284862785\n",
      "energy:4.5655666219000523e-07\n",
      "norm:0.0008479481250212929\n",
      "\n",
      "Finished in 18.990788221359253 seconds.\n",
      "(9.999999999999999e-06,0.00021544346900318823):\n",
      "ssim:0.7987156088690825\n",
      "energy:4.5711814046505866e-07\n",
      "norm:0.005268845533324855\n",
      "\n",
      "Finished in 17.612805366516113 seconds.\n",
      "(9.999999999999999e-06,0.001):\n",
      "ssim:0.8256209562572241\n",
      "energy:4.6213052196646333e-07\n",
      "norm:0.018336788230127216\n",
      "\n"
     ]
    }
   ],
   "source": [
    "alphas = 1e-6*np.logspace(-1,1,7)\n",
    "eps = 1e-5*np.logspace(-2,2,7)\n",
    "ssims = np.zeros((7,7))\n",
    "conv = np.zeros((7,7))\n",
    "energies = np.zeros((7,7))\n",
    "\n",
    "for i in range(7):\n",
    "    for j in range(7):\n",
    "        param[\"pn1\"]=alphas[i]\n",
    "        param[\"epsilon\"]=eps[j]\n",
    "        uk,norms,energy = pdhg(y,p,fourier_op,linear_op,param,maxit=30,verbose=0)\n",
    "        \n",
    "        energies[i,j]=energy[-1]\n",
    "        conv[i,j]=norms[-1]\n",
    "        ssims[i,j]=ssim(uk,u0_mat)\n",
    "        print(f\"({alphas[i]},{eps[j]}):\\nssim:{ssims[i,j]}\\nenergy:{energies[i,j]}\\nnorm:{conv[i,j]}\\n\")"
   ]
  },
  {
   "cell_type": "code",
   "execution_count": 33,
   "metadata": {},
   "outputs": [
    {
     "name": "stderr",
     "output_type": "stream",
     "text": [
      "No handles with labels found to put in legend.\n"
     ]
    },
    {
     "data": {
      "image/png": "[encoded data removed]",
      "text/plain": [
       "<Figure size 432x288 with 2 Axes>"
      ]
     },
     "metadata": {
      "needs_background": "light"
     },
     "output_type": "display_data"
    }
   ],
   "source": [
    "X,Y = np.meshgrid(alphas,eps)\n",
    "const_to_test = np.stack([X.flatten('F'),Y.flatten('F')],axis=1)\n",
    "\n",
    "plt.contourf(X,Y,ssims.transpose())\n",
    "plt.title(\"Value of ssim after 10 iterations\")\n",
    "plt.xlabel(\"alpha(p)\")\n",
    "plt.ylabel(\"epsilon\")\n",
    "plt.xscale(\"log\")\n",
    "plt.yscale(\"log\")\n",
    "plt.colorbar()\n",
    "plt.legend()\n",
    "#plt.savefig(\"Comparisons/sym8/pdhg/ssims.png\")\n",
    "plt.show()"
   ]
  },
  {
   "cell_type": "code",
   "execution_count": 34,
   "metadata": {},
   "outputs": [
    {
     "name": "stdout",
     "output_type": "stream",
     "text": [
      "2.154434690031883e-06 4.641588833612778e-07\n"
     ]
    }
   ],
   "source": [
    "print(alphas[np.argmax(ssims)//7],eps[np.argmax(ssims)%7])"
   ]
  }
 ],
 "metadata": {
  "kernelspec": {
   "display_name": "Python 3",
   "language": "python",
   "name": "python3"
  },
  "language_info": {
   "codemirror_mode": {
    "name": "ipython",
    "version": 3
   },
   "file_extension": ".py",
   "mimetype": "text/x-python",
   "name": "python",
   "nbconvert_exporter": "python",
   "pygments_lexer": "ipython3",
   "version": "3.7.3"
  }
 },
 "nbformat": 4,
 "nbformat_minor": 2
}
