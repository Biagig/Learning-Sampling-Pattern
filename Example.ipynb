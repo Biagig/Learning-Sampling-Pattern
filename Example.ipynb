{
 "cells": [
  {
   "cell_type": "markdown",
   "metadata": {},
   "source": [
    "PDHG algorithm"
   ]
  },
  {
   "cell_type": "code",
   "execution_count": 55,
   "metadata": {
    "scrolled": true
   },
   "outputs": [],
   "source": [
    "# Package import\n",
    "from mri.operators import NonCartesianFFT, WaveletUD2, WaveletN , gradient\n",
    "from mri.operators.utils import convert_mask_to_locations, convert_locations_to_mask\n",
    "from mri.reconstructors import SingleChannelReconstructor\n",
    "import pysap\n",
    "from pysap.data import get_sample_data\n",
    "import time"
   ]
  },
  {
   "cell_type": "code",
   "execution_count": 56,
   "metadata": {},
   "outputs": [],
   "source": [
    "from modopt.math.metrics import ssim\n",
    "\n",
    "import numpy as np\n",
    "import matplotlib.pyplot as plt"
   ]
  },
  {
   "cell_type": "markdown",
   "metadata": {},
   "source": [
    "## Import data and add noise"
   ]
  },
  {
   "cell_type": "markdown",
   "metadata": {},
   "source": [
    "### Fourier operator and noise"
   ]
  },
  {
   "cell_type": "code",
   "execution_count": 57,
   "metadata": {
    "scrolled": true
   },
   "outputs": [],
   "source": [
    "u0 = get_sample_data('2d-mri')\n",
    "u0_mat = u0.data+0j*u0.data\n",
    "\n",
    "n=u0_mat.shape[0]\n",
    "x = np.linspace(0,n,n,endpoint=False)/n-0.5\n",
    "y = np.linspace(0,n,n,endpoint=False)/n-0.5\n",
    "X,Y = np.meshgrid(x,y)\n",
    "kspace_loc = np.stack([X.flatten('F'),Y.flatten('F')],axis=1)\n",
    "\n",
    "m = convert_locations_to_mask(kspace_loc,u0.shape)\n",
    "fourier_op = NonCartesianFFT(samples=kspace_loc, shape=u0.shape,implementation='cpu')\n",
    "\n",
    "# Adding noise\n",
    "(n1,n2) = u0.shape\n",
    "s = 1e-6\n",
    "# Computing y with non-cartesian Fourier transform\n",
    "fourier_op = NonCartesianFFT(samples=kspace_loc, shape=u0.shape,implementation='cpu')\n",
    "y = (1+0j)*fourier_op.op(u0_mat)+s*np.random.randn(2*n*n).view(np.complex128)"
   ]
  },
  {
   "cell_type": "markdown",
   "metadata": {},
   "source": [
    "### Operators"
   ]
  },
  {
   "cell_type": "code",
   "execution_count": 78,
   "metadata": {},
   "outputs": [],
   "source": [
    "#Subsampling: From pysap radial mask \n",
    "radial_mask = get_sample_data(\"mri-radial-samples\")\n",
    "radial_kspace_loc = radial_mask.data\n",
    "p = np.zeros((n*n,))\n",
    "\n",
    "ind1 = ((n-1)*(radial_kspace_loc[:,0]+0.5)).astype(int)\n",
    "ind2 = ((n-1)*(radial_kspace_loc[:,1]+0.5)).astype(int)\n",
    "p[n*ind1+ind2]=1\n",
    "\n",
    "new_loc = kspace_loc[np.where(p)]\n",
    "#pysap.Image(data = convert_locations_to_mask(np.array(new_loc),u0.shape)).show()\n",
    "\n",
    "#Wavelet\n",
    "#linear_op = WaveletN(wavelet_name=\"db8\",nb_scale=4,padding_mode = \"periodization\")\n",
    "linear_op = WaveletUD2(wavelet_id=24,nb_scale=3)"
   ]
  },
  {
   "cell_type": "code",
   "execution_count": 66,
   "metadata": {
    "scrolled": true
   },
   "outputs": [
    {
     "name": "stdout",
     "output_type": "stream",
     "text": [
      "0.673407872449903\n"
     ]
    }
   ],
   "source": [
    "#ifft on noised data = base result\n",
    "uk = fourier_op.adj_op(p*y)\n",
    "print(ssim(uk,u0_mat))\n",
    "pysap.Image(data = np.real(uk)).show()\n",
    "pysap.Image(data = np.imag(uk)).show()"
   ]
  },
  {
   "cell_type": "markdown",
   "metadata": {},
   "source": [
    "## Reconstruction"
   ]
  },
  {
   "cell_type": "code",
   "execution_count": 67,
   "metadata": {},
   "outputs": [],
   "source": [
    "# Specific files import\n",
    "from algo.prox import prox_G,prox_F1_dual,prox_F2_dual\n",
    "from algo.pdhg import pdhg\n",
    "from algo.cost_utils import f1,f2,g"
   ]
  },
  {
   "cell_type": "code",
   "execution_count": 88,
   "metadata": {},
   "outputs": [],
   "source": [
    "param = {\"pn1\":2.15e-7,\"epsilon\":1e-5,\"gamma\":1e-10}"
   ]
  },
  {
   "cell_type": "code",
   "execution_count": 89,
   "metadata": {},
   "outputs": [
    {
     "name": "stdout",
     "output_type": "stream",
     "text": [
      "1.9073479506915347e-11 1.7223146706819534e-07\n"
     ]
    }
   ],
   "source": [
    "print(g(u0_mat,param[\"epsilon\"]),f2(linear_op.op(u0_mat),param[\"pn1\"],param[\"gamma\"]))"
   ]
  },
  {
   "cell_type": "code",
   "execution_count": 90,
   "metadata": {
    "scrolled": true
   },
   "outputs": [
    {
     "name": "stdout",
     "output_type": "stream",
     "text": [
      "10  iterations:\n",
      "Cost: 1.7481780903177974e-07 \n",
      "Norm: 0.23548478076046278 \n",
      "\n",
      "20  iterations:\n",
      "Cost: 1.6909880216879018e-07 \n",
      "Norm: 0.026373436854244543 \n",
      "\n",
      "30  iterations:\n",
      "Cost: 1.6855816307148196e-07 \n",
      "Norm: 0.011386016788385566 \n",
      "\n",
      "40  iterations:\n",
      "Cost: 1.6835821709806555e-07 \n",
      "Norm: 0.006533027557513706 \n",
      "\n",
      "50  iterations:\n",
      "Cost: 1.6827565303571525e-07 \n",
      "Norm: 0.0043876073892776144 \n",
      "\n",
      "60  iterations:\n",
      "Cost: 1.6822842604446378e-07 \n",
      "Norm: 0.003238011567963298 \n",
      "\n",
      "70  iterations:\n",
      "Cost: 1.6819921892170444e-07 \n",
      "Norm: 0.002521308413571435 \n",
      "\n",
      "80  iterations:\n",
      "Cost: 1.6817925082833096e-07 \n",
      "Norm: 0.0020424307798314533 \n",
      "\n",
      "90  iterations:\n",
      "Cost: 1.6816503414244356e-07 \n",
      "Norm: 0.0017115723441548131 \n",
      "\n",
      "100  iterations:\n",
      "Cost: 1.6815477257813096e-07 \n",
      "Norm: 0.0014608801940299 \n",
      "\n",
      "Finished in 130.46007084846497 seconds.\n"
     ]
    }
   ],
   "source": [
    "# -- Solving --\n",
    "# myconst = {\"sigma\":1.15,\"tau\":0.43}\n",
    "uk,norms,energy,ssims = pdhg(y,p,fourier_op,linear_op,param,ground_truth=u0_mat,maxit=100)"
   ]
  },
  {
   "cell_type": "code",
   "execution_count": 107,
   "metadata": {
    "scrolled": true
   },
   "outputs": [
    {
     "name": "stdout",
     "output_type": "stream",
     "text": [
      "0.9336083416244443\n"
     ]
    }
   ],
   "source": [
    "#Showing\n",
    "print(ssim(u0_mat,uk))\n",
    "pysap.Image(data = np.abs(uk)).show()"
   ]
  },
  {
   "cell_type": "code",
   "execution_count": 105,
   "metadata": {},
   "outputs": [],
   "source": [
    "pysap.Image(data = np.abs(uk-u0_mat)).show()"
   ]
  },
  {
   "cell_type": "code",
   "execution_count": 106,
   "metadata": {},
   "outputs": [],
   "source": [
    "pysap.Image(data = np.arctan(np.imag(uk)/np.real(uk))).show()"
   ]
  },
  {
   "cell_type": "code",
   "execution_count": 93,
   "metadata": {
    "scrolled": true
   },
   "outputs": [
    {
     "data": {
      "image/png": "[encoded data removed]",
      "text/plain": [
       "<Figure size 432x288 with 1 Axes>"
      ]
     },
     "metadata": {
      "needs_background": "light"
     },
     "output_type": "display_data"
    }
   ],
   "source": [
    "plt.plot(energy[1:])\n",
    "plt.yscale(\"log\")\n",
    "plt.xlabel(\"Number of iterations\")\n",
    "plt.ylabel(\"Cost function\")\n",
    "plt.title(\"Evolution of the cost function\")\n",
    "plt.yscale(\"log\")\n",
    "#plt.savefig(\"Comparisons/undecimated/pdhg/energy.png\")\n",
    "plt.show()"
   ]
  },
  {
   "cell_type": "code",
   "execution_count": 94,
   "metadata": {},
   "outputs": [
    {
     "data": {
      "image/png": "[encoded data removed]",
      "text/plain": [
       "<Figure size 432x288 with 1 Axes>"
      ]
     },
     "metadata": {
      "needs_background": "light"
     },
     "output_type": "display_data"
    }
   ],
   "source": [
    "plt.plot(ssims[3:])\n",
    "plt.yscale(\"log\")\n",
    "plt.xlabel(\"Number of iterations\")\n",
    "plt.ylabel(\"SSIM\")\n",
    "plt.title(\"Evolution of the SSIM\")\n",
    "plt.yscale(\"log\")\n",
    "#plt.savefig(\"Comparisons/undecimated/pdhg/metrics.png\")\n",
    "plt.show()"
   ]
  },
  {
   "cell_type": "code",
   "execution_count": 95,
   "metadata": {},
   "outputs": [
    {
     "data": {
      "image/png": "[encoded data removed]",
      "text/plain": [
       "<Figure size 432x288 with 1 Axes>"
      ]
     },
     "metadata": {
      "needs_background": "light"
     },
     "output_type": "display_data"
    }
   ],
   "source": [
    "plt.plot(norms)\n",
    "plt.yscale(\"log\")\n",
    "plt.xlabel(\"Number of iterations\")\n",
    "plt.ylabel(\"Stopping criterion\")\n",
    "plt.title(\"Evolution of the stopping criterion\")\n",
    "plt.yscale(\"log\")\n",
    "#plt.savefig(\"Comparisons/undecimated/pdhg/norms.png\")\n",
    "plt.show()"
   ]
  },
  {
   "cell_type": "markdown",
   "metadata": {},
   "source": [
    "## Grid search over parameters"
   ]
  },
  {
   "cell_type": "code",
   "execution_count": 84,
   "metadata": {
    "scrolled": true
   },
   "outputs": [
    {
     "name": "stdout",
     "output_type": "stream",
     "text": [
      "Finished in 25.167152643203735 seconds.\n",
      "(1e-08,1.0000000000000001e-07):\n",
      "ssim:0.8661627958163691\n",
      "energy:2.5532908119341067e-08\n",
      "norm:0.36557219640430816\n",
      "\n",
      "Finished in 25.217538118362427 seconds.\n",
      "(1e-08,4.641588833612778e-07):\n",
      "ssim:0.8762144566856367\n",
      "energy:1.3144094836878048e-08\n",
      "norm:0.18419326219191895\n",
      "\n",
      "Finished in 25.312231302261353 seconds.\n",
      "(1e-08,2.1544346900318835e-06):\n",
      "ssim:0.8522913711523161\n",
      "energy:9.742413542347966e-09\n",
      "norm:0.10306588120537594\n",
      "\n",
      "Finished in 25.651742935180664 seconds.\n",
      "(1e-08,1e-05):\n",
      "ssim:0.8377713501865329\n",
      "energy:9.337881562341432e-09\n",
      "norm:0.07825266153914823\n",
      "\n",
      "Finished in 25.7410409450531 seconds.\n",
      "(1e-08,4.641588833612778e-05):\n",
      "ssim:0.800208238577764\n",
      "energy:9.297923939822826e-09\n",
      "norm:0.05902345837299917\n",
      "\n",
      "Finished in 25.54370355606079 seconds.\n",
      "(1e-08,0.00021544346900318823):\n",
      "ssim:0.7578606953826112\n",
      "energy:9.66703065941585e-09\n",
      "norm:0.04626575823244466\n",
      "\n",
      "Finished in 27.101019382476807 seconds.\n",
      "(1e-08,0.001):\n",
      "ssim:0.7248555422250937\n",
      "energy:1.1215661039997475e-08\n",
      "norm:0.013939109485029147\n",
      "\n",
      "Finished in 26.272541761398315 seconds.\n",
      "(2.1544346900318832e-08,1.0000000000000001e-07):\n",
      "ssim:0.8818478338556843\n",
      "energy:3.1998260009667594e-08\n",
      "norm:0.16462978009576051\n",
      "\n",
      "Finished in 26.010233879089355 seconds.\n",
      "(2.1544346900318832e-08,4.641588833612778e-07):\n",
      "ssim:0.8752470119603402\n",
      "energy:2.232195337826538e-08\n",
      "norm:0.09870484458780399\n",
      "\n",
      "Finished in 27.199599504470825 seconds.\n",
      "(2.1544346900318832e-08,2.1544346900318835e-06):\n",
      "ssim:0.886034955236851\n",
      "energy:2.014637196644686e-08\n",
      "norm:0.06249835861918768\n",
      "\n",
      "Finished in 31.173400402069092 seconds.\n",
      "(2.1544346900318832e-08,1e-05):\n",
      "ssim:0.869045948961947\n",
      "energy:1.9605315868650506e-08\n",
      "norm:0.0408122043599151\n",
      "\n",
      "Finished in 30.533392190933228 seconds.\n",
      "(2.1544346900318832e-08,4.641588833612778e-05):\n",
      "ssim:0.8338658006134272\n",
      "energy:1.964168065311749e-08\n",
      "norm:0.03500465178780617\n",
      "\n",
      "Finished in 32.161593437194824 seconds.\n",
      "(2.1544346900318832e-08,0.00021544346900318823):\n",
      "ssim:0.7890189254755727\n",
      "energy:2.0079581409501874e-08\n",
      "norm:0.02314531310977596\n",
      "\n",
      "Finished in 32.01321482658386 seconds.\n",
      "(2.1544346900318832e-08,0.001):\n",
      "ssim:0.7538951711353424\n",
      "energy:2.170337467558542e-08\n",
      "norm:0.014355224684849772\n",
      "\n",
      "Finished in 27.67630887031555 seconds.\n",
      "(4.641588833612778e-08,1.0000000000000001e-07):\n",
      "ssim:0.8748784941493777\n",
      "energy:5.142844114379569e-08\n",
      "norm:0.10194014094627889\n",
      "\n",
      "Finished in 25.806581497192383 seconds.\n",
      "(4.641588833612778e-08,4.641588833612778e-07):\n",
      "ssim:0.8869288999642131\n",
      "energy:4.4272936676536407e-08\n",
      "norm:0.0689439816609613\n",
      "\n",
      "Finished in 25.43621301651001 seconds.\n",
      "(4.641588833612778e-08,2.1544346900318835e-06):\n",
      "ssim:0.9033558680012561\n",
      "energy:4.1924843645172614e-08\n",
      "norm:0.05340671858486087\n",
      "\n",
      "Finished in 25.28559684753418 seconds.\n",
      "(4.641588833612778e-08,1e-05):\n",
      "ssim:0.8946201744765797\n",
      "energy:4.1339770515806144e-08\n",
      "norm:0.03040452310425642\n",
      "\n",
      "Finished in 25.72282338142395 seconds.\n",
      "(4.641588833612778e-08,4.641588833612778e-05):\n",
      "ssim:0.8726190403793632\n",
      "energy:4.135329431078219e-08\n",
      "norm:0.023174064547578206\n",
      "\n",
      "Finished in 26.081154823303223 seconds.\n",
      "(4.641588833612778e-08,0.00021544346900318823):\n",
      "ssim:0.8363235331605697\n",
      "energy:4.180073912491677e-08\n",
      "norm:0.018782100502400093\n",
      "\n",
      "Finished in 25.72859764099121 seconds.\n",
      "(4.641588833612778e-08,0.001):\n",
      "ssim:0.8001631400453406\n",
      "energy:4.35238358577175e-08\n",
      "norm:0.014412939315333002\n",
      "\n",
      "Finished in 24.75731921195984 seconds.\n",
      "(1e-07,1.0000000000000001e-07):\n",
      "ssim:0.8835633657682744\n",
      "energy:1.0539545922072527e-07\n",
      "norm:0.1309633958171515\n",
      "\n",
      "Finished in 24.989168405532837 seconds.\n",
      "(1e-07,4.641588833612778e-07):\n",
      "ssim:0.9091365534425354\n",
      "energy:8.924783432804695e-08\n",
      "norm:0.07496356819301214\n",
      "\n",
      "Finished in 25.973002910614014 seconds.\n",
      "(1e-07,2.1544346900318835e-06):\n",
      "ssim:0.9228549360023235\n",
      "energy:8.601163059848516e-08\n",
      "norm:0.04823044942064665\n",
      "\n",
      "Finished in 25.701369524002075 seconds.\n",
      "(1e-07,1e-05):\n",
      "ssim:0.9231794205133952\n",
      "energy:8.556454480840254e-08\n",
      "norm:0.028525385366048626\n",
      "\n",
      "Finished in 26.153475046157837 seconds.\n",
      "(1e-07,4.641588833612778e-05):\n",
      "ssim:0.9154833398640023\n",
      "energy:8.545714688933079e-08\n",
      "norm:0.018770450785087784\n",
      "\n",
      "Finished in 25.81567358970642 seconds.\n",
      "(1e-07,0.00021544346900318823):\n",
      "ssim:0.8967460691169211\n",
      "energy:8.577185910642264e-08\n",
      "norm:0.01671803330613627\n",
      "\n",
      "Finished in 26.000925540924072 seconds.\n",
      "(1e-07,0.001):\n",
      "ssim:0.8644244898989654\n",
      "energy:8.759855701145565e-08\n",
      "norm:0.015102345816202963\n",
      "\n",
      "Finished in 24.65670418739319 seconds.\n",
      "(2.1544346900318832e-07,1.0000000000000001e-07):\n",
      "ssim:0.8875351499296594\n",
      "energy:1.8262857207585127e-07\n",
      "norm:0.10149258464594374\n",
      "\n",
      "Finished in 24.509478092193604 seconds.\n",
      "(2.1544346900318832e-07,4.641588833612778e-07):\n",
      "ssim:0.9176251665221756\n",
      "energy:1.7323960547896696e-07\n",
      "norm:0.05376593237313587\n",
      "\n",
      "Finished in 24.860495567321777 seconds.\n",
      "(2.1544346900318832e-07,2.1544346900318835e-06):\n",
      "ssim:0.9289246170781568\n",
      "energy:1.7077037374663232e-07\n",
      "norm:0.04168637667750886\n",
      "\n",
      "Finished in 26.013004779815674 seconds.\n",
      "(2.1544346900318832e-07,1e-05):\n",
      "ssim:0.9355279774247484\n",
      "energy:1.6939632854832116e-07\n",
      "norm:0.02635757805048871\n",
      "\n",
      "Finished in 26.622891187667847 seconds.\n",
      "(2.1544346900318832e-07,4.641588833612778e-05):\n",
      "ssim:0.9338305801895377\n",
      "energy:1.6903243298991407e-07\n",
      "norm:0.016528000990953445\n",
      "\n",
      "Finished in 25.390317678451538 seconds.\n",
      "(2.1544346900318832e-07,0.00021544346900318823):\n",
      "ssim:0.930067720445838\n",
      "energy:1.6908809136033512e-07\n",
      "norm:0.01409087072020529\n",
      "\n",
      "Finished in 25.91513156890869 seconds.\n",
      "(2.1544346900318832e-07,0.001):\n",
      "ssim:0.9184843113825282\n",
      "energy:1.7083199436548115e-07\n",
      "norm:0.016476570919691843\n",
      "\n",
      "Finished in 24.505619287490845 seconds.\n",
      "(4.6415888336127773e-07,1.0000000000000001e-07):\n",
      "ssim:0.8987259925658516\n",
      "energy:3.502390494370524e-07\n",
      "norm:0.05399599800932896\n",
      "\n",
      "Finished in 25.365790128707886 seconds.\n",
      "(4.6415888336127773e-07,4.641588833612778e-07):\n",
      "ssim:0.9049927677919778\n",
      "energy:3.4039687229508816e-07\n",
      "norm:0.0447874718837806\n",
      "\n",
      "Finished in 25.365692615509033 seconds.\n",
      "(4.6415888336127773e-07,2.1544346900318835e-06):\n",
      "ssim:0.8981335286131609\n",
      "energy:3.2960351410348093e-07\n",
      "norm:0.0325998093153538\n",
      "\n",
      "Finished in 25.065459966659546 seconds.\n",
      "(4.6415888336127773e-07,1e-05):\n",
      "ssim:0.8825981650730574\n",
      "energy:3.220743122034652e-07\n",
      "norm:0.019399861153495516\n",
      "\n",
      "Finished in 25.29500722885132 seconds.\n",
      "(4.6415888336127773e-07,4.641588833612778e-05):\n",
      "ssim:0.872677379058841\n",
      "energy:3.1979191371781197e-07\n",
      "norm:0.012590937639797973\n",
      "\n",
      "Finished in 24.992106437683105 seconds.\n",
      "(4.6415888336127773e-07,0.00021544346900318823):\n",
      "ssim:0.8704138230176927\n",
      "energy:3.1967917363845265e-07\n",
      "norm:0.012891505345548034\n",
      "\n",
      "Finished in 24.882684469223022 seconds.\n",
      "(4.6415888336127773e-07,0.001):\n",
      "ssim:0.8712716368469788\n",
      "energy:3.212393977563985e-07\n",
      "norm:0.017391182552612214\n",
      "\n",
      "Finished in 24.37595796585083 seconds.\n",
      "(1e-06,1.0000000000000001e-07):\n",
      "ssim:0.8427980458200959\n",
      "energy:7.067833116931516e-07\n",
      "norm:0.07465895187822394\n",
      "\n",
      "Finished in 24.58524227142334 seconds.\n",
      "(1e-06,4.641588833612778e-07):\n",
      "ssim:0.8841785380233972\n",
      "energy:6.570802085522205e-07\n",
      "norm:0.03862409832273615\n",
      "\n",
      "Finished in 24.46033263206482 seconds.\n",
      "(1e-06,2.1544346900318835e-06):\n",
      "ssim:0.8339941713101515\n",
      "energy:6.228897611679387e-07\n",
      "norm:0.02413272441148167\n",
      "\n",
      "Finished in 24.601054430007935 seconds.\n",
      "(1e-06,1e-05):\n",
      "ssim:0.783649400769167\n",
      "energy:6.047367293413132e-07\n",
      "norm:0.014649358252750572\n",
      "\n",
      "Finished in 25.333771467208862 seconds.\n",
      "(1e-06,4.641588833612778e-05):\n",
      "ssim:0.77069611715323\n",
      "energy:6.008846318229028e-07\n",
      "norm:0.011877250408815501\n",
      "\n",
      "Finished in 24.45898675918579 seconds.\n",
      "(1e-06,0.00021544346900318823):\n",
      "ssim:0.7676207215440365\n",
      "energy:6.004299192305377e-07\n",
      "norm:0.013101697453373456\n",
      "\n",
      "Finished in 24.804811000823975 seconds.\n",
      "(1e-06,0.001):\n",
      "ssim:0.7697720846388834\n",
      "energy:6.019667655112989e-07\n",
      "norm:0.020338166889524768\n",
      "\n"
     ]
    }
   ],
   "source": [
    "alphas = 1e-7*np.logspace(-1,1,7)\n",
    "eps = 1e-5*np.logspace(-2,2,7)\n",
    "ssims = np.zeros((7,7))\n",
    "conv = np.zeros((7,7))\n",
    "energies = np.zeros((7,7))\n",
    "\n",
    "for i in range(7):\n",
    "    for j in range(7):\n",
    "        param[\"pn1\"]=alphas[i]\n",
    "        param[\"epsilon\"]=eps[j]\n",
    "        uk,norms,energy = pdhg(y,p,fourier_op,linear_op,param,maxit=20,verbose=0)\n",
    "        \n",
    "        energies[i,j]=energy[-1]\n",
    "        conv[i,j]=norms[-1]\n",
    "        ssims[i,j]=ssim(uk,u0_mat)\n",
    "        print(f\"({alphas[i]},{eps[j]}):\\nssim:{ssims[i,j]}\\nenergy:{energies[i,j]}\\nnorm:{conv[i,j]}\\n\")"
   ]
  },
  {
   "cell_type": "code",
   "execution_count": 87,
   "metadata": {},
   "outputs": [
    {
     "data": {
      "image/png": "[encoded data removed]",
      "text/plain": [
       "<Figure size 432x288 with 2 Axes>"
      ]
     },
     "metadata": {
      "needs_background": "light"
     },
     "output_type": "display_data"
    }
   ],
   "source": [
    "X,Y = np.meshgrid(alphas,eps)\n",
    "const_to_test = np.stack([X.flatten('F'),Y.flatten('F')],axis=1)\n",
    "\n",
    "plt.contourf(X,Y,ssims.transpose())\n",
    "plt.title(\"Value of ssim after 10 iterations\")\n",
    "plt.xlabel(\"alpha(p)\")\n",
    "plt.ylabel(\"epsilon\")\n",
    "plt.xscale(\"log\")\n",
    "plt.yscale(\"log\")\n",
    "plt.colorbar()\n",
    "#plt.savefig(\"Comparisons/undecimated/pdhg/ssims.png\")\n",
    "plt.show()"
   ]
  },
  {
   "cell_type": "code",
   "execution_count": 86,
   "metadata": {},
   "outputs": [
    {
     "name": "stdout",
     "output_type": "stream",
     "text": [
      "2.1544346900318832e-07 1e-05\n"
     ]
    }
   ],
   "source": [
    "print(alphas[np.argmax(ssims)//7],eps[np.argmax(ssims)%7])"
   ]
  }
 ],
 "metadata": {
  "kernelspec": {
   "display_name": "Python 3",
   "language": "python",
   "name": "python3"
  },
  "language_info": {
   "codemirror_mode": {
    "name": "ipython",
    "version": 3
   },
   "file_extension": ".py",
   "mimetype": "text/x-python",
   "name": "python",
   "nbconvert_exporter": "python",
   "pygments_lexer": "ipython3",
   "version": "3.7.3"
  }
 },
 "nbformat": 4,
 "nbformat_minor": 2
}
