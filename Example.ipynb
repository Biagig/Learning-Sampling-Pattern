{
 "cells": [
  {
   "cell_type": "markdown",
   "metadata": {},
   "source": [
    "PDHG algorithm"
   ]
  },
  {
   "cell_type": "code",
   "execution_count": 1,
   "metadata": {},
   "outputs": [
    {
     "name": "stderr",
     "output_type": "stream",
     "text": [
      "/home/guillaume/temp/pysap-mri/mri/operators/fourier/cartesian.py:33: UserWarning: pynufft python package has not been found. If needed use the master release. Till then you cannot use NUFFT on GPU\n",
      "  warnings.warn(\"pynufft python package has not been found. If needed use \"\n",
      "/home/guillaume/temp/pysap-mri/mri/operators/fourier/non_cartesian.py:33: UserWarning: pynufft python package has not been found. If needed use the master release. Till then you cannot use NUFFT on GPU\n",
      "  warnings.warn(\"pynufft python package has not been found. If needed use \"\n"
     ]
    },
    {
     "name": "stdout",
     "output_type": "stream",
     "text": [
      "\n",
      "                 .|'''|       /.\\      '||'''|,\n",
      "                 ||          // \\\\      ||   ||\n",
      "'||''|, '||  ||` `|'''|,    //...\\\\     ||...|'\n",
      " ||  ||  `|..||   .   ||   //     \\\\    ||\n",
      " ||..|'      ||   |...|' .//       \\\\. .||\n",
      " ||       ,  |'\n",
      ".||        ''\n",
      "\n",
      "Package version: 0.0.3\n",
      "\n",
      "License: CeCILL-B\n",
      "\n",
      "Authors: \n",
      "\n",
      "Antoine Grigis <antoine.grigis@cea.fr>\n",
      "Samuel Farrens <samuel.farrens@cea.fr>\n",
      "Jean-Luc Starck <jl.stark@cea.fr>\n",
      "Philippe Ciuciu <philippe.ciuciu@cea.fr>\n",
      "\n",
      "Dependencies: \n",
      "\n",
      "scipy          : >=1.3.0   - required | 1.3.0     installed\n",
      "numpy          : >=1.16.4  - required | 1.16.4    installed\n",
      "matplotlib     : >=3.0.0   - required | 3.1.1     installed\n",
      "astropy        : >=3.0.0   - required | 3.2.1     installed\n",
      "nibabel        : >=2.3.2   - required | 2.5.1     installed\n",
      "pyqtgraph      : >=0.10.0  - required | 0.10.0    installed\n",
      "progressbar2   : >=3.34.3  - required | ?         installed\n",
      "modopt         : >=1.4.0   - required | 1.4.1     installed\n",
      "scikit-learn   : >=0.19.1  - required | ?         installed\n",
      "pywt           : >=1.0.0   - required | 1.0.3     installed\n",
      "pysparse       : >=0.0.1   - required | 0.1.0     installed\n",
      "\n"
     ]
    }
   ],
   "source": [
    "# Package import\n",
    "from mri.operators import NonCartesianFFT, WaveletUD2, WaveletN , gradient\n",
    "from mri.operators.utils import convert_mask_to_locations, convert_locations_to_mask\n",
    "from mri.reconstructors import SingleChannelReconstructor\n",
    "import pysap\n",
    "from pysap.data import get_sample_data\n",
    "import time"
   ]
  },
  {
   "cell_type": "code",
   "execution_count": 2,
   "metadata": {},
   "outputs": [],
   "source": [
    "from modopt.math.metrics import ssim\n",
    "\n",
    "import numpy as np\n",
    "import matplotlib.pyplot as plt"
   ]
  },
  {
   "cell_type": "markdown",
   "metadata": {},
   "source": [
    "## Import data and add noise"
   ]
  },
  {
   "cell_type": "markdown",
   "metadata": {},
   "source": [
    "### Fourier operator and noise"
   ]
  },
  {
   "cell_type": "code",
   "execution_count": 3,
   "metadata": {
    "scrolled": true
   },
   "outputs": [
    {
     "name": "stderr",
     "output_type": "stream",
     "text": [
      "/home/guillaume/temp/pysap-mri/mri/operators/fourier/utils.py:78: FutureWarning: Using a non-tuple sequence for multidimensional indexing is deprecated; use `arr[tuple(seq)]` instead of `arr[seq]`. In the future this will be interpreted as an array index, `arr[np.array(seq)]`, which will result either in an error or a different result.\n",
      "  mask[test] = 1\n"
     ]
    }
   ],
   "source": [
    "u0 = get_sample_data('2d-mri')\n",
    "u0_mat = u0.data\n",
    "\n",
    "n=u0_mat.shape[0]\n",
    "x = np.linspace(0,n,n,endpoint=False)/n-0.5\n",
    "y = np.linspace(0,n,n,endpoint=False)/n-0.5\n",
    "X,Y = np.meshgrid(x,y)\n",
    "kspace_loc = np.stack([X.flatten('F'),Y.flatten('F')],axis=1)\n",
    "\n",
    "m = convert_locations_to_mask(kspace_loc,u0.shape)\n",
    "fourier_op = NonCartesianFFT(samples=kspace_loc, shape=u0.shape,implementation='cpu')\n",
    "\n",
    "# Adding noise\n",
    "(n1,n2) = u0.shape\n",
    "s = 2e-6\n",
    "# Computing y with non-cartesian Fourier transform\n",
    "fourier_op = NonCartesianFFT(samples=kspace_loc, shape=u0.shape,implementation='cpu')\n",
    "y = (1+0j)*fourier_op.op(np.real(u0.data))+s*np.random.randn(2*n*n).view(np.complex128)\n",
    "u0_mat = np.asarray(u0)"
   ]
  },
  {
   "cell_type": "markdown",
   "metadata": {},
   "source": [
    "### Operators"
   ]
  },
  {
   "cell_type": "code",
   "execution_count": 4,
   "metadata": {},
   "outputs": [],
   "source": [
    "#Subsampling: From pysap radial mask \n",
    "radial_mask = get_sample_data(\"mri-radial-samples\")\n",
    "radial_kspace_loc = radial_mask.data\n",
    "\n",
    "p = np.zeros((n*n,))\n",
    "\n",
    "ind1 = ((n-1)*(radial_kspace_loc[:,0]+0.5)).astype(int)\n",
    "ind2 = ((n-1)*(radial_kspace_loc[:,1]+0.5)).astype(int)\n",
    "p[n*ind1+ind2]=1\n",
    "\n",
    "new_loc = kspace_loc[np.where(p)]\n",
    "#pysap.Image(data = convert_locations_to_mask(np.array(new_loc),u0.shape)).show()\n",
    "\n",
    "#Wavelet\n",
    "linear_op = WaveletN(wavelet_name=\"db8\",nb_scale=4,padding_mode = \"periodization\")"
   ]
  },
  {
   "cell_type": "code",
   "execution_count": 5,
   "metadata": {},
   "outputs": [
    {
     "name": "stdout",
     "output_type": "stream",
     "text": [
      "0.5075374591157028\n"
     ]
    }
   ],
   "source": [
    "#ifft on noised data = base result\n",
    "uk = fourier_op.adj_op(p*y)\n",
    "print(ssim(uk,u0_mat))\n",
    "pysap.Image(data = np.abs(uk)).show()"
   ]
  },
  {
   "cell_type": "markdown",
   "metadata": {},
   "source": [
    "## Reconstruction"
   ]
  },
  {
   "cell_type": "code",
   "execution_count": 6,
   "metadata": {},
   "outputs": [],
   "source": [
    "# Specific files import\n",
    "from algo.prox import prox_G,prox_F1_dual,prox_F2_dual\n",
    "from algo.pdhg import pdhg"
   ]
  },
  {
   "cell_type": "code",
   "execution_count": 7,
   "metadata": {
    "scrolled": true
   },
   "outputs": [
    {
     "name": "stderr",
     "output_type": "stream",
     "text": [
      "/home/guillaume/pysap-mri/Lower Level/algo/prox.py:8: RuntimeWarning: invalid value encountered in sqrt\n",
      "  gamma*x/(c+0.5*gamma+np.sqrt((c+0.5*gamma)**2-c*np.abs(x))))\n",
      "/home/guillaume/pysap-mri/Lower Level/algo/prox.py:4: RuntimeWarning: invalid value encountered in sqrt\n",
      "  return np.where(x>=0,x/(1+epsilon*c),x/(0.5+np.sqrt(0.25-3*zeta*c*x/(1+epsilon*c)**2)))\n"
     ]
    },
    {
     "name": "stdout",
     "output_type": "stream",
     "text": [
      "10  iterations:\n",
      "Cost: 2.846621185054287e-07 \n",
      "Norm: 0.14036964206037922 \n",
      "\n",
      "20  iterations:\n",
      "Cost: 2.567392991535402e-07 \n",
      "Norm: 0.0659173130295577 \n",
      "\n",
      "30  iterations:\n",
      "Cost: 2.483477969209249e-07 \n",
      "Norm: 0.03585498216377192 \n",
      "\n",
      "40  iterations:\n",
      "Cost: 2.449931131745948e-07 \n",
      "Norm: 0.021584977910229182 \n",
      "\n",
      "50  iterations:\n",
      "Cost: 2.4337740913981843e-07 \n",
      "Norm: 0.014525306148660122 \n",
      "\n",
      "60  iterations:\n",
      "Cost: 2.424980977746876e-07 \n",
      "Norm: 0.010239578655844591 \n",
      "\n",
      "70  iterations:\n",
      "Cost: 2.4197555038311274e-07 \n",
      "Norm: 0.007864072744165231 \n",
      "\n",
      "80  iterations:\n",
      "Cost: 2.4164431944395706e-07 \n",
      "Norm: 0.006105595129180868 \n",
      "\n",
      "90  iterations:\n",
      "Cost: 2.41422095856355e-07 \n",
      "Norm: 0.004851803343886008 \n",
      "\n",
      "100  iterations:\n",
      "Cost: 2.4126855081277726e-07 \n",
      "Norm: 0.004015016996066158 \n",
      "\n",
      "110  iterations:\n",
      "Cost: 2.411598298664089e-07 \n",
      "Norm: 0.00334339787539948 \n",
      "\n",
      "120  iterations:\n",
      "Cost: 2.410804788689084e-07 \n",
      "Norm: 0.002871057261227533 \n",
      "\n",
      "130  iterations:\n",
      "Cost: 2.4101895786186995e-07 \n",
      "Norm: 0.0024217258229842302 \n",
      "\n",
      "140  iterations:\n",
      "Cost: 2.409732237041315e-07 \n",
      "Norm: 0.00216175953814518 \n",
      "\n",
      "150  iterations:\n",
      "Cost: 2.4093723221146977e-07 \n",
      "Norm: 0.001815811838909721 \n",
      "\n",
      "160  iterations:\n",
      "Cost: 2.4090951839761945e-07 \n",
      "Norm: 0.001574902765384618 \n",
      "\n",
      "170  iterations:\n",
      "Cost: 2.4088701345169535e-07 \n",
      "Norm: 0.001468510540345149 \n",
      "\n",
      "180  iterations:\n",
      "Cost: 2.40869030571389e-07 \n",
      "Norm: 0.0013190272770640657 \n",
      "\n",
      "190  iterations:\n",
      "Cost: 2.408543844207206e-07 \n",
      "Norm: 0.0011938817808938114 \n",
      "\n",
      "200  iterations:\n",
      "Cost: 2.4084217531767445e-07 \n",
      "Norm: 0.0010885626134386677 \n",
      "\n",
      "Finished in 103.63464450836182 seconds.\n"
     ]
    }
   ],
   "source": [
    "# -- Solving --\n",
    "lower_level_parameters = {\"zeta\":1e15,\"pn1\":2e-6,\"epsilon\":1e-2,\"gamma\":1e-10}\n",
    "# myconst = {\"sigma\":1.15,\"tau\":0.43}\n",
    "uk,norms,energy = pdhg(y,p,fourier_op,linear_op,lower_level_parameters)"
   ]
  },
  {
   "cell_type": "code",
   "execution_count": 8,
   "metadata": {
    "scrolled": true
   },
   "outputs": [
    {
     "name": "stdout",
     "output_type": "stream",
     "text": [
      "0.8638842273965522\n"
     ]
    }
   ],
   "source": [
    "#Showing\n",
    "print(ssim(u0_mat,uk))\n",
    "pysap.Image(data = np.real(uk)).show()"
   ]
  },
  {
   "cell_type": "code",
   "execution_count": 9,
   "metadata": {},
   "outputs": [
    {
     "data": {
      "image/png": "[encoded data removed]",
      "text/plain": [
       "<Figure size 432x288 with 1 Axes>"
      ]
     },
     "metadata": {
      "needs_background": "light"
     },
     "output_type": "display_data"
    }
   ],
   "source": [
    "plt.plot(energy[1:])\n",
    "plt.yscale(\"log\")\n",
    "plt.xlabel(\"Nombre d'iterations\")\n",
    "plt.ylabel(\"fonction de cout\")\n",
    "plt.title(\"Evolution de la fonction de cout\")\n",
    "plt.yscale(\"log\")"
   ]
  },
  {
   "cell_type": "code",
   "execution_count": 10,
   "metadata": {},
   "outputs": [
    {
     "data": {
      "image/png": "[encoded data removed]",
      "text/plain": [
       "<Figure size 432x288 with 1 Axes>"
      ]
     },
     "metadata": {
      "needs_background": "light"
     },
     "output_type": "display_data"
    }
   ],
   "source": [
    "plt.plot(norms)\n",
    "plt.yscale(\"log\")\n",
    "plt.xlabel(\"Nombre d'iterations\")\n",
    "plt.ylabel(\"Critere d'arret\")\n",
    "plt.title(\"Evolution du critere d'arret\")\n",
    "plt.yscale(\"log\")"
   ]
  }
 ],
 "metadata": {
  "kernelspec": {
   "display_name": "Python 3",
   "language": "python",
   "name": "python3"
  },
  "language_info": {
   "codemirror_mode": {
    "name": "ipython",
    "version": 3
   },
   "file_extension": ".py",
   "mimetype": "text/x-python",
   "name": "python",
   "nbconvert_exporter": "python",
   "pygments_lexer": "ipython3",
   "version": "3.7.3"
  }
 },
 "nbformat": 4,
 "nbformat_minor": 2
}
