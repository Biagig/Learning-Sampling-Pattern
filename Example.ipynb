{
 "cells": [
  {
   "cell_type": "markdown",
   "metadata": {},
   "source": [
    "PDHG algorithm"
   ]
  },
  {
   "cell_type": "code",
   "execution_count": 1,
   "metadata": {},
   "outputs": [
    {
     "name": "stderr",
     "output_type": "stream",
     "text": [
      "/home/guillaume/temp/pysap-mri/mri/operators/fourier/cartesian.py:33: UserWarning: pynufft python package has not been found. If needed use the master release. Till then you cannot use NUFFT on GPU\n",
      "  warnings.warn(\"pynufft python package has not been found. If needed use \"\n",
      "/home/guillaume/temp/pysap-mri/mri/operators/fourier/non_cartesian.py:33: UserWarning: pynufft python package has not been found. If needed use the master release. Till then you cannot use NUFFT on GPU\n",
      "  warnings.warn(\"pynufft python package has not been found. If needed use \"\n"
     ]
    },
    {
     "name": "stdout",
     "output_type": "stream",
     "text": [
      "\n",
      "                 .|'''|       /.\\      '||'''|,\n",
      "                 ||          // \\\\      ||   ||\n",
      "'||''|, '||  ||` `|'''|,    //...\\\\     ||...|'\n",
      " ||  ||  `|..||   .   ||   //     \\\\    ||\n",
      " ||..|'      ||   |...|' .//       \\\\. .||\n",
      " ||       ,  |'\n",
      ".||        ''\n",
      "\n",
      "Package version: 0.0.3\n",
      "\n",
      "License: CeCILL-B\n",
      "\n",
      "Authors: \n",
      "\n",
      "Antoine Grigis <antoine.grigis@cea.fr>\n",
      "Samuel Farrens <samuel.farrens@cea.fr>\n",
      "Jean-Luc Starck <jl.stark@cea.fr>\n",
      "Philippe Ciuciu <philippe.ciuciu@cea.fr>\n",
      "\n",
      "Dependencies: \n",
      "\n",
      "scipy          : >=1.3.0   - required | 1.3.0     installed\n",
      "numpy          : >=1.16.4  - required | 1.16.4    installed\n",
      "matplotlib     : >=3.0.0   - required | 3.1.1     installed\n",
      "astropy        : >=3.0.0   - required | 3.2.1     installed\n",
      "nibabel        : >=2.3.2   - required | 2.5.1     installed\n",
      "pyqtgraph      : >=0.10.0  - required | 0.10.0    installed\n",
      "progressbar2   : >=3.34.3  - required | ?         installed\n",
      "modopt         : >=1.4.0   - required | 1.4.1     installed\n",
      "scikit-learn   : >=0.19.1  - required | ?         installed\n",
      "pywt           : >=1.0.0   - required | 1.0.3     installed\n",
      "pysparse       : >=0.0.1   - required | 0.1.0     installed\n",
      "\n"
     ]
    }
   ],
   "source": [
    "# Package import\n",
    "from mri.operators import NonCartesianFFT, WaveletUD2, WaveletN , gradient\n",
    "from mri.operators.utils import convert_mask_to_locations, convert_locations_to_mask\n",
    "from mri.reconstructors import SingleChannelReconstructor\n",
    "import pysap\n",
    "from pysap.data import get_sample_data\n",
    "import time"
   ]
  },
  {
   "cell_type": "code",
   "execution_count": 2,
   "metadata": {},
   "outputs": [],
   "source": [
    "from modopt.math.metrics import ssim\n",
    "\n",
    "import numpy as np\n",
    "import matplotlib.pyplot as plt"
   ]
  },
  {
   "cell_type": "markdown",
   "metadata": {},
   "source": [
    "## Import data and add noise"
   ]
  },
  {
   "cell_type": "markdown",
   "metadata": {},
   "source": [
    "### Fourier operator and noise"
   ]
  },
  {
   "cell_type": "code",
   "execution_count": 3,
   "metadata": {
    "scrolled": true
   },
   "outputs": [
    {
     "name": "stderr",
     "output_type": "stream",
     "text": [
      "/home/guillaume/temp/pysap-mri/mri/operators/fourier/utils.py:78: FutureWarning: Using a non-tuple sequence for multidimensional indexing is deprecated; use `arr[tuple(seq)]` instead of `arr[seq]`. In the future this will be interpreted as an array index, `arr[np.array(seq)]`, which will result either in an error or a different result.\n",
      "  mask[test] = 1\n"
     ]
    }
   ],
   "source": [
    "u0 = get_sample_data('2d-mri')\n",
    "u0_mat = u0.data\n",
    "\n",
    "n=u0_mat.shape[0]\n",
    "x = np.linspace(0,n,n,endpoint=False)/n-0.5\n",
    "y = np.linspace(0,n,n,endpoint=False)/n-0.5\n",
    "X,Y = np.meshgrid(x,y)\n",
    "kspace_loc = np.stack([X.flatten('F'),Y.flatten('F')],axis=1)\n",
    "\n",
    "m = convert_locations_to_mask(kspace_loc,u0.shape)\n",
    "fourier_op = NonCartesianFFT(samples=kspace_loc, shape=u0.shape,implementation='cpu')\n",
    "\n",
    "# Adding noise\n",
    "(n1,n2) = u0.shape\n",
    "s = 1e-6\n",
    "# Computing y with non-cartesian Fourier transform\n",
    "fourier_op = NonCartesianFFT(samples=kspace_loc, shape=u0.shape,implementation='cpu')\n",
    "y = (1+0j)*fourier_op.op(np.real(u0.data))+s*np.random.randn(2*n*n).view(np.complex128)\n",
    "u0_mat = np.asarray(u0)"
   ]
  },
  {
   "cell_type": "markdown",
   "metadata": {},
   "source": [
    "### Operators"
   ]
  },
  {
   "cell_type": "code",
   "execution_count": 37,
   "metadata": {},
   "outputs": [],
   "source": [
    "#Subsampling: From pysap radial mask \n",
    "radial_mask = get_sample_data(\"mri-radial-samples\")\n",
    "radial_kspace_loc = radial_mask.data\n",
    "\n",
    "p = np.zeros((n*n,))\n",
    "\n",
    "ind1 = ((n-1)*(radial_kspace_loc[:,0]+0.5)).astype(int)\n",
    "ind2 = ((n-1)*(radial_kspace_loc[:,1]+0.5)).astype(int)\n",
    "p[n*ind1+ind2]=1\n",
    "\n",
    "new_loc = kspace_loc[np.where(p)]\n",
    "#pysap.Image(data = convert_locations_to_mask(np.array(new_loc),u0.shape)).show()\n",
    "\n",
    "#Wavelet\n",
    "linear_op = WaveletN(wavelet_name=\"db8\",nb_scale=4,padding_mode = \"periodization\")\n",
    "#linear_op = WaveletUD2(wavelet_id=24,nb_scale=3)"
   ]
  },
  {
   "cell_type": "code",
   "execution_count": 7,
   "metadata": {},
   "outputs": [
    {
     "name": "stdout",
     "output_type": "stream",
     "text": [
      "0.6633419212432164\n"
     ]
    }
   ],
   "source": [
    "#ifft on noised data = base result\n",
    "uk = fourier_op.adj_op(p*y)\n",
    "print(ssim(uk,u0_mat))\n",
    "pysap.Image(data = np.abs(uk)).show()"
   ]
  },
  {
   "cell_type": "code",
   "execution_count": 38,
   "metadata": {},
   "outputs": [
    {
     "data": {
      "text/plain": [
       "(262144,)"
      ]
     },
     "execution_count": 38,
     "metadata": {},
     "output_type": "execute_result"
    }
   ],
   "source": [
    "linear_op.op(u0_mat).shape"
   ]
  },
  {
   "cell_type": "markdown",
   "metadata": {},
   "source": [
    "## Reconstruction"
   ]
  },
  {
   "cell_type": "code",
   "execution_count": 8,
   "metadata": {},
   "outputs": [],
   "source": [
    "# Specific files import\n",
    "from algo.prox import prox_G,prox_F1_dual,prox_F2_dual\n",
    "from algo.pdhg import pdhg\n",
    "from algo.cost_utils import f1,f2,g"
   ]
  },
  {
   "cell_type": "code",
   "execution_count": 49,
   "metadata": {},
   "outputs": [],
   "source": [
    "param = {\"zeta\":1e15,\"pn1\":2e-6,\"epsilon\":1e-1,\"gamma\":1e-10}"
   ]
  },
  {
   "cell_type": "code",
   "execution_count": 40,
   "metadata": {},
   "outputs": [
    {
     "name": "stdout",
     "output_type": "stream",
     "text": [
      "1.9073484054388313e-07 2.296999543905258e-07\n"
     ]
    }
   ],
   "source": [
    "print(g(u0_mat,param[\"zeta\"],param[\"epsilon\"]),f2(linear_op.op(u0_mat),param[\"pn1\"],param[\"gamma\"]))"
   ]
  },
  {
   "cell_type": "code",
   "execution_count": 50,
   "metadata": {
    "scrolled": true
   },
   "outputs": [
    {
     "name": "stdout",
     "output_type": "stream",
     "text": [
      "10  iterations:\n",
      "Cost: 3.742106918147298e-07 \n",
      "Norm: 0.1574793058507964 \n",
      "\n",
      "20  iterations:\n",
      "Cost: 3.435809816713808e-07 \n",
      "Norm: 0.11776669248834556 \n",
      "\n",
      "30  iterations:\n",
      "Cost: 3.2864884163031623e-07 \n",
      "Norm: 0.08470109092200676 \n",
      "\n",
      "40  iterations:\n",
      "Cost: 3.2021433954569335e-07 \n",
      "Norm: 0.06161881231022997 \n",
      "\n",
      "50  iterations:\n",
      "Cost: 3.148620079192484e-07 \n",
      "Norm: 0.04497430372748097 \n",
      "\n",
      "60  iterations:\n",
      "Cost: 3.111878456362412e-07 \n",
      "Norm: 0.033200797746210674 \n",
      "\n",
      "70  iterations:\n",
      "Cost: 3.0852163011453696e-07 \n",
      "Norm: 0.02528844919929828 \n",
      "\n",
      "80  iterations:\n",
      "Cost: 3.065129289570737e-07 \n",
      "Norm: 0.020489123971811116 \n",
      "\n",
      "90  iterations:\n",
      "Cost: 3.0497111347327825e-07 \n",
      "Norm: 0.01654129140574036 \n",
      "\n",
      "100  iterations:\n",
      "Cost: 3.0376803276666353e-07 \n",
      "Norm: 0.013749618515835865 \n",
      "\n",
      "110  iterations:\n",
      "Cost: 3.028219590940606e-07 \n",
      "Norm: 0.011661263301705435 \n",
      "\n",
      "120  iterations:\n",
      "Cost: 3.0207071338515043e-07 \n",
      "Norm: 0.009908519363395407 \n",
      "\n",
      "130  iterations:\n",
      "Cost: 3.014683206471531e-07 \n",
      "Norm: 0.008602026126943725 \n",
      "\n",
      "140  iterations:\n",
      "Cost: 3.0098379777006565e-07 \n",
      "Norm: 0.006973377674368161 \n",
      "\n",
      "150  iterations:\n",
      "Cost: 3.005943798175121e-07 \n",
      "Norm: 0.006564036686109359 \n",
      "\n",
      "160  iterations:\n",
      "Cost: 3.0027941819776964e-07 \n",
      "Norm: 0.005880301417734786 \n",
      "\n",
      "170  iterations:\n",
      "Cost: 3.000240610325875e-07 \n",
      "Norm: 0.005012666668116807 \n",
      "\n",
      "180  iterations:\n",
      "Cost: 2.998162369777371e-07 \n",
      "Norm: 0.004764330054520145 \n",
      "\n",
      "190  iterations:\n",
      "Cost: 2.996462739204979e-07 \n",
      "Norm: 0.004206619301498825 \n",
      "\n",
      "200  iterations:\n",
      "Cost: 2.995069041726578e-07 \n",
      "Norm: 0.0035104672642632703 \n",
      "\n",
      "Finished in 96.74077343940735 seconds.\n"
     ]
    }
   ],
   "source": [
    "# -- Solving --\n",
    "# myconst = {\"sigma\":1.15,\"tau\":0.43}\n",
    "uk,norms,energy = pdhg(y,p,fourier_op,linear_op,param)"
   ]
  },
  {
   "cell_type": "code",
   "execution_count": 51,
   "metadata": {
    "scrolled": true
   },
   "outputs": [
    {
     "name": "stdout",
     "output_type": "stream",
     "text": [
      "0.8820393195738303\n"
     ]
    }
   ],
   "source": [
    "#Showing\n",
    "print(ssim(u0_mat,uk))\n",
    "pysap.Image(data = np.real(uk)).show()"
   ]
  },
  {
   "cell_type": "code",
   "execution_count": 30,
   "metadata": {},
   "outputs": [
    {
     "data": {
      "image/png": "[encoded data removed]",
      "text/plain": [
       "<Figure size 432x288 with 1 Axes>"
      ]
     },
     "metadata": {
      "needs_background": "light"
     },
     "output_type": "display_data"
    }
   ],
   "source": [
    "plt.plot(energy[1:])\n",
    "plt.yscale(\"log\")\n",
    "plt.xlabel(\"Nombre d'iterations\")\n",
    "plt.ylabel(\"fonction de cout\")\n",
    "plt.title(\"Evolution de la fonction de cout\")\n",
    "plt.yscale(\"log\")"
   ]
  },
  {
   "cell_type": "code",
   "execution_count": 31,
   "metadata": {},
   "outputs": [
    {
     "data": {
      "image/png": "[encoded data removed]",
      "text/plain": [
       "<Figure size 432x288 with 1 Axes>"
      ]
     },
     "metadata": {
      "needs_background": "light"
     },
     "output_type": "display_data"
    }
   ],
   "source": [
    "plt.plot(norms)\n",
    "plt.yscale(\"log\")\n",
    "plt.xlabel(\"Nombre d'iterations\")\n",
    "plt.ylabel(\"Critere d'arret\")\n",
    "plt.title(\"Evolution du critere d'arret\")\n",
    "plt.yscale(\"log\")"
   ]
  },
  {
   "cell_type": "markdown",
   "metadata": {},
   "source": [
    "## Condat-Vu L1"
   ]
  },
  {
   "cell_type": "code",
   "execution_count": 56,
   "metadata": {},
   "outputs": [
    {
     "name": "stderr",
     "output_type": "stream",
     "text": [
      "\u001b[33mWARNING\u001b[0m: Making input data immutable.\n"
     ]
    },
    {
     "name": "stdout",
     "output_type": "stream",
     "text": [
      "Lipschitz constant is 1.0999999999999786\n",
      "The lipschitz constraint is satisfied\n",
      " - mu:  1e-06\n",
      " - lipschitz constant:  1.0999999999999786\n",
      " - tau:  0.9523809433106676\n",
      " - sigma:  0.5\n",
      " - rho:  1.0\n",
      " - std:  None\n",
      " - 1/tau - sigma||L||^2 >= beta/2:  True\n",
      " - data:  (512, 512)\n",
      " - wavelet:  <mri.operators.linear.wavelet.WaveletN object at 0x7f354a9be080> - 4\n",
      " - max iterations:  200\n",
      " - number of reweights:  0\n",
      " - primal variable shape:  (512, 512)\n",
      " - dual variable shape:  (262144,)\n",
      "----------------------------------------\n",
      "Starting optimization...\n"
     ]
    },
    {
     "name": "stderr",
     "output_type": "stream",
     "text": [
      "\u001b[33mWARNING\u001b[0m: Making input data immutable.\n",
      "100% (200 of 200) |######################| Elapsed Time: 0:01:40 Time:  0:01:40\n"
     ]
    },
    {
     "name": "stdout",
     "output_type": "stream",
     "text": [
      " - final iteration number:  200\n",
      " - final cost value:  9.108310749485707e-08\n",
      " - converged:  True\n",
      "Done.\n",
      "Execution time:  804.6685800000014  seconds\n",
      "----------------------------------------\n"
     ]
    }
   ],
   "source": [
    "from modopt.opt.proximity import SparseThreshold\n",
    "\n",
    "regularizer_op = SparseThreshold(linear_op, 1e-6, thresh_type=\"soft\")\n",
    "reconstructor = SingleChannelReconstructor(\n",
    "    fourier_op=fourier_op,\n",
    "    linear_op=linear_op,\n",
    "    regularizer_op=regularizer_op,\n",
    "    gradient_formulation='analysis',\n",
    "    verbose=1,\n",
    ")\n",
    "x_final, costs, metrics = reconstructor.reconstruct(\n",
    "    kspace_data=p*y,\n",
    "    optimization_alg='condatvu',\n",
    "    num_iterations=200,\n",
    ")"
   ]
  },
  {
   "cell_type": "code",
   "execution_count": 58,
   "metadata": {},
   "outputs": [
    {
     "name": "stdout",
     "output_type": "stream",
     "text": [
      "0.9309132920990283\n"
     ]
    }
   ],
   "source": [
    "print(ssim(uk,np.abs(x_final)))\n",
    "pysap.Image(data=np.abs(x_final)).show()"
   ]
  }
 ],
 "metadata": {
  "kernelspec": {
   "display_name": "Python 3",
   "language": "python",
   "name": "python3"
  },
  "language_info": {
   "codemirror_mode": {
    "name": "ipython",
    "version": 3
   },
   "file_extension": ".py",
   "mimetype": "text/x-python",
   "name": "python",
   "nbconvert_exporter": "python",
   "pygments_lexer": "ipython3",
   "version": "3.7.3"
  }
 },
 "nbformat": 4,
 "nbformat_minor": 2
}
