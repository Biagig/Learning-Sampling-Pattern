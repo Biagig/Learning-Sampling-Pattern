{
 "cells": [
  {
   "cell_type": "markdown",
   "metadata": {},
   "source": [
    "PDHG algorithm"
   ]
  },
  {
   "cell_type": "code",
   "execution_count": 1,
   "metadata": {
    "scrolled": true
   },
   "outputs": [
    {
     "name": "stdout",
     "output_type": "stream",
     "text": [
      "\n",
      "                 .|'''|       /.\\      '||'''|,\n",
      "                 ||          // \\\\      ||   ||\n",
      "'||''|, '||  ||` `|'''|,    //...\\\\     ||...|'\n",
      " ||  ||  `|..||   .   ||   //     \\\\    ||\n",
      " ||..|'      ||   |...|' .//       \\\\. .||\n",
      " ||       ,  |'\n",
      ".||        ''\n",
      "\n",
      "Package version: 0.0.3\n",
      "\n",
      "License: CeCILL-B\n",
      "\n",
      "Authors: \n",
      "\n",
      "Antoine Grigis <antoine.grigis@cea.fr>\n",
      "Samuel Farrens <samuel.farrens@cea.fr>\n",
      "Jean-Luc Starck <jl.stark@cea.fr>\n",
      "Philippe Ciuciu <philippe.ciuciu@cea.fr>\n",
      "\n",
      "Dependencies: \n",
      "\n",
      "scipy          : >=1.3.0   - required | 1.3.0     installed\n",
      "numpy          : >=1.16.4  - required | 1.16.4    installed\n",
      "matplotlib     : >=3.0.0   - required | 3.1.1     installed\n",
      "astropy        : >=3.0.0   - required | 3.2.1     installed\n",
      "nibabel        : >=2.3.2   - required | 2.5.1     installed\n",
      "pyqtgraph      : >=0.10.0  - required | 0.10.0    installed\n",
      "progressbar2   : >=3.34.3  - required | ?         installed\n",
      "modopt         : >=1.4.0   - required | 1.4.1     installed\n",
      "scikit-learn   : >=0.19.1  - required | ?         installed\n",
      "pywt           : >=1.0.0   - required | 1.0.3     installed\n",
      "pysparse       : >=0.0.1   - required | 0.1.0     installed\n",
      "\n"
     ]
    }
   ],
   "source": [
    "# Package import\n",
    "from mri.operators import NonCartesianFFT, WaveletUD2, WaveletN , gradient\n",
    "from mri.operators.utils import convert_mask_to_locations, convert_locations_to_mask\n",
    "from mri.reconstructors import SingleChannelReconstructor\n",
    "import pysap\n",
    "from pysap.data import get_sample_data\n",
    "import time"
   ]
  },
  {
   "cell_type": "code",
   "execution_count": 2,
   "metadata": {},
   "outputs": [],
   "source": [
    "from modopt.math.metrics import ssim\n",
    "from scipy.stats import norm\n",
    "\n",
    "import numpy as np\n",
    "import matplotlib.pyplot as plt\n",
    "\n",
    "import nibabel as nib\n",
    "import h5py"
   ]
  },
  {
   "cell_type": "markdown",
   "metadata": {},
   "source": [
    "## Import data and add noise"
   ]
  },
  {
   "cell_type": "markdown",
   "metadata": {},
   "source": [
    "### Cartesian Fourier operator and noise"
   ]
  },
  {
   "cell_type": "code",
   "execution_count": 3,
   "metadata": {},
   "outputs": [],
   "source": [
    "u0 = get_sample_data('2d-mri')\n",
    "u0_mat = u0.data*(1+0j)"
   ]
  },
  {
   "cell_type": "code",
   "execution_count": 4,
   "metadata": {},
   "outputs": [
    {
     "name": "stderr",
     "output_type": "stream",
     "text": [
      "/home/guillaume/temp/pysap-mri/mri/operators/fourier/utils.py:78: FutureWarning: Using a non-tuple sequence for multidimensional indexing is deprecated; use `arr[tuple(seq)]` instead of `arr[seq]`. In the future this will be interpreted as an array index, `arr[np.array(seq)]`, which will result either in an error or a different result.\n",
      "  mask[test] = 1\n"
     ]
    }
   ],
   "source": [
    "(n,m) = u0_mat.shape\n",
    "x = np.linspace(0,m,m,endpoint=False)/m-0.5\n",
    "y = np.linspace(0,n,n,endpoint=False)/n-0.5\n",
    "X,Y = np.meshgrid(x,y)\n",
    "kspace_loc = np.stack([X.flatten('F'),Y.flatten('F')],axis=1)\n",
    "\n",
    "mask = convert_locations_to_mask(kspace_loc,u0_mat.shape)\n",
    "fourier_op = NonCartesianFFT(samples=kspace_loc, shape=u0_mat.shape,implementation='cpu')\n",
    "\n",
    "# Adding noise\n",
    "s = 0.1*np.mean(u0_mat)\n",
    "# Computing y with non-cartesian Fourier transform\n",
    "fourier_op = NonCartesianFFT(samples=kspace_loc, shape=u0_mat.shape,implementation='cpu')\n",
    "y = (1+0j)*fourier_op.op(u0_mat)+s*np.random.randn(2*n*m).view(np.complex128)"
   ]
  },
  {
   "cell_type": "markdown",
   "metadata": {},
   "source": [
    "### Creating a random cartesian mask or projecting a radial mask on cartesian grid"
   ]
  },
  {
   "cell_type": "code",
   "execution_count": 5,
   "metadata": {},
   "outputs": [],
   "source": [
    "x = np.linspace( -0.5, 0.5, n, endpoint = False )\n",
    "p = np.array([norm.pdf(u,loc=0,scale=0.2) for u in x])\n",
    "p /= np.sum(p)\n",
    "y_sampled = np.random.choice( x, size=int(0.6*n), p=p, replace=False)\n",
    "\n",
    "#Subsampling: From pysap radial mask \n",
    "cartesian_p = np.zeros(n**2+1)\n",
    "cartesian_p[-1] = 7e-7\n",
    "for yi in y_sampled:\n",
    "    j=int((yi+0.5)*n)\n",
    "    cartesian_p[j*n:(j+1)*n] = np.ones((n,))\n",
    "pysap.Image(data=np.reshape(cartesian_p[:-1],(n,n))).show()"
   ]
  },
  {
   "cell_type": "code",
   "execution_count": 6,
   "metadata": {},
   "outputs": [],
   "source": [
    "#Subsampling: From pysap radial mask \n",
    "radial_mask = get_sample_data(\"mri-radial-samples\")\n",
    "radial_kspace_loc = radial_mask.data\n",
    "radial_p = np.zeros((n*n+1,))\n",
    "\n",
    "ind1 = ((n-1)*(radial_kspace_loc[:,0]+0.5)).astype(int)\n",
    "ind2 = ((n-1)*(radial_kspace_loc[:,1]+0.5)).astype(int)\n",
    "radial_p[n*ind1+ind2]=1\n",
    "radial_p[-1] = 7e-7"
   ]
  },
  {
   "cell_type": "markdown",
   "metadata": {},
   "source": [
    "### Operators"
   ]
  },
  {
   "cell_type": "code",
   "execution_count": 7,
   "metadata": {},
   "outputs": [],
   "source": [
    "#Wavelet\n",
    "linear_op = WaveletN(wavelet_name=\"sym8\",nb_scale=4,padding_mode = \"periodization\")\n",
    "#linear_op = WaveletUD2(wavelet_id=24,nb_scale=3)"
   ]
  },
  {
   "cell_type": "code",
   "execution_count": 8,
   "metadata": {
    "scrolled": true
   },
   "outputs": [
    {
     "name": "stdout",
     "output_type": "stream",
     "text": [
      "0.7538292255587153\n"
     ]
    }
   ],
   "source": [
    "#ifft on noised data = base result\n",
    "uk = fourier_op.adj_op(radial_p[:-1]*y)\n",
    "print(ssim(uk,u0_mat))\n",
    "pysap.Image(data = np.real(uk)).show()\n",
    "pysap.Image(data = np.arctan(np.imag(uk)/np.real(uk))).show()"
   ]
  },
  {
   "cell_type": "markdown",
   "metadata": {},
   "source": [
    "## Reconstruction"
   ]
  },
  {
   "cell_type": "code",
   "execution_count": 9,
   "metadata": {},
   "outputs": [],
   "source": [
    "# Specific files import\n",
    "from LowerLevel.prox import prox_G,prox_F1_dual,prox_F2_dual\n",
    "from LowerLevel.pdhg import pdhg\n",
    "from LowerLevel.cost_utils import f1,f2,g"
   ]
  },
  {
   "cell_type": "code",
   "execution_count": 10,
   "metadata": {},
   "outputs": [],
   "source": [
    "param = {\"epsilon\":1e-3,\"gamma\":1e-10}"
   ]
  },
  {
   "cell_type": "code",
   "execution_count": 11,
   "metadata": {},
   "outputs": [
    {
     "name": "stdout",
     "output_type": "stream",
     "text": [
      "1.9073479506915348e-09 7.747514396905899e-08 1.8613871750297372e-09\n"
     ]
    }
   ],
   "source": [
    "print(g(u0_mat,param[\"epsilon\"]),\n",
    "      f2(linear_op.op(u0_mat),radial_p[-1],param[\"gamma\"]),\n",
    "      f1(u0_mat,radial_p[:-1],y,fourier_op))"
   ]
  },
  {
   "cell_type": "code",
   "execution_count": 13,
   "metadata": {
    "scrolled": true
   },
   "outputs": [
    {
     "name": "stdout",
     "output_type": "stream",
     "text": [
      "alpha:7e-07\n",
      "Sigma: 0.022360679774997897 \n",
      "Tau: 22.360679774997898\n",
      "10  iterations:\n",
      "Cost: 1.5493341918465298e-06 \n",
      "Norm: 1.1207805946626679 \n",
      "\n",
      "20  iterations:\n",
      "Cost: 5.943098401911322e-08 \n",
      "Norm: 0.07644406698615946 \n",
      "\n",
      "30  iterations:\n",
      "Cost: 5.5435423658269464e-08 \n",
      "Norm: 0.03435197586725154 \n",
      "\n",
      "40  iterations:\n",
      "Cost: 5.407119081554088e-08 \n",
      "Norm: 0.023870417678689245 \n",
      "\n",
      "50  iterations:\n",
      "Cost: 5.300164660145007e-08 \n",
      "Norm: 0.018112446102707926 \n",
      "\n",
      "60  iterations:\n",
      "Cost: 5.213607212710446e-08 \n",
      "Norm: 0.014006850934490514 \n",
      "\n",
      "70  iterations:\n",
      "Cost: 5.141496014707502e-08 \n",
      "Norm: 0.01110831792495195 \n",
      "\n",
      "80  iterations:\n",
      "Cost: 5.081014472069403e-08 \n",
      "Norm: 0.00902868686039252 \n",
      "\n",
      "90  iterations:\n",
      "Cost: 5.0297848088277896e-08 \n",
      "Norm: 0.007369913887816515 \n",
      "\n",
      "100  iterations:\n",
      "Cost: 4.9857056903803324e-08 \n",
      "Norm: 0.006195916865856667 \n",
      "\n",
      "110  iterations:\n",
      "Cost: 4.9478070847590484e-08 \n",
      "Norm: 0.005185377418228195 \n",
      "\n",
      "120  iterations:\n",
      "Cost: 4.913687388820315e-08 \n",
      "Norm: 0.004383019894691342 \n",
      "\n",
      "130  iterations:\n",
      "Cost: 4.884904886611418e-08 \n",
      "Norm: 0.0036713513435476866 \n",
      "\n",
      "140  iterations:\n",
      "Cost: 4.85901690994813e-08 \n",
      "Norm: 0.0031690322836101063 \n",
      "\n",
      "150  iterations:\n",
      "Cost: 4.8368470213346256e-08 \n",
      "Norm: 0.002722839694729244 \n",
      "\n",
      "160  iterations:\n",
      "Cost: 4.817022806362272e-08 \n",
      "Norm: 0.0023397633988298657 \n",
      "\n",
      "170  iterations:\n",
      "Cost: 4.799601076843573e-08 \n",
      "Norm: 0.0020269404619148146 \n",
      "\n",
      "180  iterations:\n",
      "Cost: 4.784150047420279e-08 \n",
      "Norm: 0.0017737480177445516 \n",
      "\n",
      "190  iterations:\n",
      "Cost: 4.7704067647588015e-08 \n",
      "Norm: 0.0015202659182894749 \n",
      "\n",
      "200  iterations:\n",
      "Cost: 4.758300833419407e-08 \n",
      "Norm: 0.0013272714984481778 \n",
      "\n",
      "Finished in 120.87728071212769 seconds.\n"
     ]
    }
   ],
   "source": [
    "# -- Solving --\n",
    "# myconst = {\"sigma\":0.4,\"tau\":1.1}\n",
    "uk,norms,energy,ssims = pdhg(y , radial_p ,\n",
    "                             fourier_op = fourier_op,\n",
    "                             linear_op = linear_op,\n",
    "                             param = param,\n",
    "                             ground_truth=u0_mat,\n",
    "                             maxit=200,\n",
    "                             compute_energy = True)"
   ]
  },
  {
   "cell_type": "code",
   "execution_count": 14,
   "metadata": {
    "scrolled": false
   },
   "outputs": [
    {
     "name": "stdout",
     "output_type": "stream",
     "text": [
      "0.9235031459045142\n"
     ]
    }
   ],
   "source": [
    "#Showing\n",
    "print(ssim(u0_mat,uk))\n",
    "pysap.Image(data = np.abs(uk)).show()"
   ]
  },
  {
   "cell_type": "code",
   "execution_count": 15,
   "metadata": {},
   "outputs": [
    {
     "name": "stdout",
     "output_type": "stream",
     "text": [
      "1.8209297824355612e-09 3.9512557123095605e-08 6.249521428662905e-09\n"
     ]
    }
   ],
   "source": [
    "print(g(uk,param[\"epsilon\"]),f2(linear_op.op(uk),radial_p[-1],param[\"gamma\"]),f1(uk,radial_p[:-1],y,fourier_op))"
   ]
  },
  {
   "cell_type": "code",
   "execution_count": 16,
   "metadata": {},
   "outputs": [],
   "source": [
    "pysap.Image(data = np.abs(np.abs(uk)-u0_mat)).show()"
   ]
  },
  {
   "cell_type": "code",
   "execution_count": 17,
   "metadata": {},
   "outputs": [],
   "source": [
    "pysap.Image(data = np.arctan(np.imag(uk)/np.real(uk))).show()"
   ]
  },
  {
   "cell_type": "code",
   "execution_count": 18,
   "metadata": {
    "scrolled": false
   },
   "outputs": [
    {
     "data": {
      "image/png": "[encoded data removed]",
      "text/plain": [
       "<Figure size 432x288 with 1 Axes>"
      ]
     },
     "metadata": {
      "needs_background": "light"
     },
     "output_type": "display_data"
    }
   ],
   "source": [
    "plt.plot(energy[1:])\n",
    "plt.yscale(\"log\")\n",
    "plt.xlabel(\"Number of iterations\")\n",
    "plt.ylabel(\"Cost function\")\n",
    "plt.title(\"Evolution of the cost function\")\n",
    "plt.yscale(\"log\")\n",
    "#plt.savefig(\"Comparisons/haar/pdhg/Complex/energy.png\")\n",
    "plt.show()"
   ]
  },
  {
   "cell_type": "code",
   "execution_count": 19,
   "metadata": {},
   "outputs": [
    {
     "data": {
      "image/png": "[encoded data removed]",
      "text/plain": [
       "<Figure size 432x288 with 1 Axes>"
      ]
     },
     "metadata": {
      "needs_background": "light"
     },
     "output_type": "display_data"
    }
   ],
   "source": [
    "plt.plot(ssims[10:])\n",
    "plt.yscale(\"log\")\n",
    "plt.xlabel(\"Number of iterations\")\n",
    "plt.ylabel(\"SSIM\")\n",
    "plt.title(\"Evolution of the SSIM\")\n",
    "plt.yscale(\"log\")\n",
    "#plt.savefig(\"Comparisons/haar/pdhg/Complex/metrics.png\")\n",
    "plt.show()"
   ]
  },
  {
   "cell_type": "code",
   "execution_count": 20,
   "metadata": {},
   "outputs": [
    {
     "data": {
      "image/png": "[encoded data removed]",
      "text/plain": [
       "<Figure size 432x288 with 1 Axes>"
      ]
     },
     "metadata": {
      "needs_background": "light"
     },
     "output_type": "display_data"
    }
   ],
   "source": [
    "plt.plot(norms[10:])\n",
    "plt.yscale(\"log\")\n",
    "plt.xlabel(\"Number of iterations\")\n",
    "plt.ylabel(\"SSIM\")\n",
    "plt.title(\"Evolution of the stopping criterion\")\n",
    "plt.yscale(\"log\")\n",
    "#plt.savefig(\"Comparisons/haar/pdhg/Complex/metrics.png\")\n",
    "plt.show()"
   ]
  }
 ],
 "metadata": {
  "kernelspec": {
   "display_name": "Python 3",
   "language": "python",
   "name": "python3"
  },
  "language_info": {
   "codemirror_mode": {
    "name": "ipython",
    "version": 3
   },
   "file_extension": ".py",
   "mimetype": "text/x-python",
   "name": "python",
   "nbconvert_exporter": "python",
   "pygments_lexer": "ipython3",
   "version": "3.7.3"
  }
 },
 "nbformat": 4,
 "nbformat_minor": 2
}
