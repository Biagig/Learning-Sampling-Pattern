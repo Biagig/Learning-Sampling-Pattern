{
 "cells": [
  {
   "cell_type": "code",
   "execution_count": 6,
   "metadata": {},
   "outputs": [],
   "source": [
    "# Package import\n",
    "from modopt.math.metrics import ssim\n",
    "from modopt.opt.linear import Identity\n",
    "from modopt.opt.proximity import SparseThreshold\n",
    "from mri.operators import FFT, WaveletN, WaveletUD2, NonCartesianFFT\n",
    "from mri.operators.utils import convert_mask_to_locations\n",
    "from mri.reconstructors import SingleChannelReconstructor\n",
    "from pysap.data import get_sample_data\n",
    "import pysap\n",
    "\n",
    "# Third party import\n",
    "import numpy as np\n",
    "import matplotlib.pyplot as plt"
   ]
  },
  {
   "cell_type": "code",
   "execution_count": 40,
   "metadata": {},
   "outputs": [],
   "source": [
    "image = get_sample_data('2d-mri')\n",
    "\n",
    "#Radial mask\n",
    "radial_mask = get_sample_data(\"mri-radial-samples\")\n",
    "radial_kspace_loc = radial_mask.data\n",
    "\n",
    "#Cartesian mask\n",
    "mask = get_sample_data(\"cartesian-mri-mask\")\n",
    "kspace_loc = convert_mask_to_locations(mask.data)"
   ]
  },
  {
   "cell_type": "code",
   "execution_count": 74,
   "metadata": {},
   "outputs": [
    {
     "name": "stdout",
     "output_type": "stream",
     "text": [
      "2.438104974074126e-07\n"
     ]
    },
    {
     "name": "stderr",
     "output_type": "stream",
     "text": [
      "/home/guillaume/temp/pysap-mri/mri/operators/fourier/utils.py:78: FutureWarning: Using a non-tuple sequence for multidimensional indexing is deprecated; use `arr[tuple(seq)]` instead of `arr[seq]`. In the future this will be interpreted as an array index, `arr[np.array(seq)]`, which will result either in an error or a different result.\n",
      "  mask[test] = 1\n"
     ]
    }
   ],
   "source": [
    "#Radial mask fourier\n",
    "#fourier_op = NonCartesianFFT(samples=radial_kspace_loc, shape=image.shape,implementation='cpu')\n",
    "\n",
    "#Cartesian mask fourier\n",
    "fourier_op = FFT(samples=kspace_loc, shape=image.shape)\n",
    "\n",
    "kspace_data = fourier_op.op(image.data)\n",
    "print(np.mean(np.abs(kspace_data)))\n",
    "kspace_data += 1e-7*np.random.randn(2*len(kspace_data)).view(np.complex128)"
   ]
  },
  {
   "cell_type": "markdown",
   "metadata": {},
   "source": [
    "Take epsilon~1e-7 to get good results with cartesian mask"
   ]
  },
  {
   "cell_type": "code",
   "execution_count": 75,
   "metadata": {
    "scrolled": true
   },
   "outputs": [
    {
     "name": "stderr",
     "output_type": "stream",
     "text": [
      "\u001b[33mWARNING\u001b[0m: Making input data immutable.\n"
     ]
    },
    {
     "name": "stdout",
     "output_type": "stream",
     "text": [
      "Lipschitz constant is 1.1\n",
      "The lipschitz constraint is satisfied\n"
     ]
    },
    {
     "name": "stderr",
     "output_type": "stream",
     "text": [
      "\u001b[33mWARNING\u001b[0m: Making input data immutable.\n"
     ]
    },
    {
     "name": "stdout",
     "output_type": "stream",
     "text": [
      " - mu:  1e-07\n",
      " - lipschitz constant:  1.1\n",
      " - tau:  0.9383364158273717\n",
      " - sigma:  0.5\n",
      " - rho:  1.0\n",
      " - std:  None\n",
      " - 1/tau - sigma||L||^2 >= beta/2:  True\n",
      " - data:  (512, 512)\n",
      " - wavelet:  <mri.operators.linear.wavelet.WaveletUD2 object at 0x7f5b68868eb8> - 3\n",
      " - max iterations:  100\n",
      " - number of reweights:  0\n",
      " - primal variable shape:  (512, 512)\n",
      " - dual variable shape:  (1835008,)\n",
      "----------------------------------------\n",
      "Starting optimization...\n"
     ]
    },
    {
     "name": "stderr",
     "output_type": "stream",
     "text": [
      "100% (100 of 100) |######################| Elapsed Time: 0:01:02 Time:  0:01:02\n"
     ]
    },
    {
     "name": "stdout",
     "output_type": "stream",
     "text": [
      " - final iteration number:  100\n",
      " - final cost value:  1.0389879493094792e-07\n",
      " - converged:  True\n",
      "Done.\n",
      "Execution time:  255.59949499999993  seconds\n",
      "----------------------------------------\n"
     ]
    }
   ],
   "source": [
    "linear_op = WaveletUD2(wavelet_id=24,nb_scale=3,)\n",
    "#linear_op = WaveletN(wavelet_name=\"db8\", nb_scales=4)\n",
    "\n",
    "epsilon = 1e-7\n",
    "regularizer_op = SparseThreshold(linear_op, epsilon, thresh_type=\"soft\")\n",
    "reconstructor = SingleChannelReconstructor(\n",
    "    fourier_op=fourier_op,\n",
    "    linear_op=linear_op,\n",
    "    regularizer_op=regularizer_op,\n",
    "    gradient_formulation='analysis',\n",
    "    verbose=1,\n",
    ")\n",
    "x_final, costs, metrics = reconstructor.reconstruct(\n",
    "    kspace_data=kspace_data,\n",
    "    optimization_alg='condatvu',\n",
    "    num_iterations=100,\n",
    ")"
   ]
  },
  {
   "cell_type": "code",
   "execution_count": 76,
   "metadata": {},
   "outputs": [
    {
     "name": "stdout",
     "output_type": "stream",
     "text": [
      "0.9383002984839741\n"
     ]
    }
   ],
   "source": [
    "print(ssim(np.abs(x_final),image))\n",
    "pysap.Image(data=x_final).show()"
   ]
  }
 ],
 "metadata": {
  "kernelspec": {
   "display_name": "Python 3",
   "language": "python",
   "name": "python3"
  },
  "language_info": {
   "codemirror_mode": {
    "name": "ipython",
    "version": 3
   },
   "file_extension": ".py",
   "mimetype": "text/x-python",
   "name": "python",
   "nbconvert_exporter": "python",
   "pygments_lexer": "ipython3",
   "version": "3.7.3"
  }
 },
 "nbformat": 4,
 "nbformat_minor": 2
}
