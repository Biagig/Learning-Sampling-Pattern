{
 "cells": [
  {
   "cell_type": "code",
   "execution_count": 1,
   "metadata": {
    "scrolled": true
   },
   "outputs": [
    {
     "name": "stderr",
     "output_type": "stream",
     "text": [
      "/home/guillaume/temp/pysap-mri/mri/operators/fourier/cartesian.py:33: UserWarning: pynufft python package has not been found. If needed use the master release. Till then you cannot use NUFFT on GPU\n",
      "  warnings.warn(\"pynufft python package has not been found. If needed use \"\n",
      "/home/guillaume/temp/pysap-mri/mri/operators/fourier/non_cartesian.py:33: UserWarning: pynufft python package has not been found. If needed use the master release. Till then you cannot use NUFFT on GPU\n",
      "  warnings.warn(\"pynufft python package has not been found. If needed use \"\n"
     ]
    },
    {
     "name": "stdout",
     "output_type": "stream",
     "text": [
      "\n",
      "                 .|'''|       /.\\      '||'''|,\n",
      "                 ||          // \\\\      ||   ||\n",
      "'||''|, '||  ||` `|'''|,    //...\\\\     ||...|'\n",
      " ||  ||  `|..||   .   ||   //     \\\\    ||\n",
      " ||..|'      ||   |...|' .//       \\\\. .||\n",
      " ||       ,  |'\n",
      ".||        ''\n",
      "\n",
      "Package version: 0.0.3\n",
      "\n",
      "License: CeCILL-B\n",
      "\n",
      "Authors: \n",
      "\n",
      "Antoine Grigis <antoine.grigis@cea.fr>\n",
      "Samuel Farrens <samuel.farrens@cea.fr>\n",
      "Jean-Luc Starck <jl.stark@cea.fr>\n",
      "Philippe Ciuciu <philippe.ciuciu@cea.fr>\n",
      "\n",
      "Dependencies: \n",
      "\n",
      "scipy          : >=1.3.0   - required | 1.3.0     installed\n",
      "numpy          : >=1.16.4  - required | 1.16.4    installed\n",
      "matplotlib     : >=3.0.0   - required | 3.1.1     installed\n",
      "astropy        : >=3.0.0   - required | 3.2.1     installed\n",
      "nibabel        : >=2.3.2   - required | 2.5.1     installed\n",
      "pyqtgraph      : >=0.10.0  - required | 0.10.0    installed\n",
      "progressbar2   : >=3.34.3  - required | ?         installed\n",
      "modopt         : >=1.4.0   - required | 1.4.1     installed\n",
      "scikit-learn   : >=0.19.1  - required | ?         installed\n",
      "pywt           : >=1.0.0   - required | 1.0.3     installed\n",
      "pysparse       : >=0.0.1   - required | 0.1.0     installed\n",
      "\n"
     ]
    }
   ],
   "source": [
    "from mri.operators import NonCartesianFFT, WaveletUD2, WaveletN\n",
    "import pysap\n",
    "from pysap.data import get_sample_data\n",
    "from mri.operators.utils import convert_mask_to_locations, convert_locations_to_mask\n",
    "from modopt.math.metrics import ssim\n",
    "import matplotlib.pyplot as plt\n",
    "import numpy as np"
   ]
  },
  {
   "cell_type": "code",
   "execution_count": 112,
   "metadata": {},
   "outputs": [],
   "source": [
    "# Lower level imports\n",
    "from algo.prox import prox_G,prox_F1_dual,prox_F2_dual\n",
    "from algo.pdhg import pdhg\n",
    "from algo.cost_utils import *\n",
    "\n",
    "#Upper level imports\n",
    "from scipy.sparse.linalg import cg,LinearOperator\n",
    "import scipy\n",
    "import time\n",
    "from algo.upper_level_utils import *\n",
    "from scipy.optimize.lbfgsb import fmin_l_bfgs_b"
   ]
  },
  {
   "cell_type": "code",
   "execution_count": 169,
   "metadata": {},
   "outputs": [
    {
     "name": "stderr",
     "output_type": "stream",
     "text": [
      "/home/guillaume/temp/pysap-mri/mri/operators/fourier/utils.py:78: FutureWarning: Using a non-tuple sequence for multidimensional indexing is deprecated; use `arr[tuple(seq)]` instead of `arr[seq]`. In the future this will be interpreted as an array index, `arr[np.array(seq)]`, which will result either in an error or a different result.\n",
      "  mask[test] = 1\n"
     ]
    }
   ],
   "source": [
    "u0 = get_sample_data('2d-mri')\n",
    "u0_mat = u0.data[125:175,125:175]\n",
    "\n",
    "n=u0_mat.shape[0]\n",
    "x = np.linspace(0,n,n,endpoint=False)/n-0.5\n",
    "y = np.linspace(0,n,n,endpoint=False)/n-0.5\n",
    "X,Y = np.meshgrid(x,y)\n",
    "kspace_loc = np.stack([X.flatten('F'),Y.flatten('F')],axis=1)\n",
    "\n",
    "m = convert_locations_to_mask(kspace_loc,u0_mat.shape)\n",
    "fourier_op = NonCartesianFFT(samples=kspace_loc, shape=u0_mat.shape,implementation='cpu')\n",
    "\n",
    "y = (1+0j)*fourier_op.op(np.real(u0_mat))+3e-7*np.random.randn(2*n*n).view(np.complex128)"
   ]
  },
  {
   "cell_type": "code",
   "execution_count": 40,
   "metadata": {},
   "outputs": [],
   "source": [
    "#Subsampling: From pysap radial mask \n",
    "radial_mask = get_sample_data(\"mri-radial-samples\")\n",
    "radial_kspace_loc = radial_mask.data\n",
    "radial_p = np.zeros((n*n+1,))\n",
    "\n",
    "ind1 = ((n-1)*(radial_kspace_loc[:,0]+0.5)).astype(int)\n",
    "ind2 = ((n-1)*(radial_kspace_loc[:,1]+0.5)).astype(int)\n",
    "radial_p[n*ind1+ind2]=1\n",
    "radial_p[-1]=1e-6\n",
    "p = np.copy(radial_p)\n",
    "\n",
    "#Wavelet\n",
    "linear_op = WaveletN(wavelet_name=\"sym8\",nb_scale=4,padding_mode = \"periodization\")\n",
    "#linear_op = WaveletUD2(wavelet_id=24,nb_scale=3)\n",
    "\n",
    "param = {\"zeta\":1e15,\"pn1\":p[-1],\"epsilon\":1e-5,\"gamma\":1e-10}\n"
   ]
  },
  {
   "cell_type": "code",
   "execution_count": 174,
   "metadata": {},
   "outputs": [
    {
     "name": "stdout",
     "output_type": "stream",
     "text": [
      "0.9669328543474274\n"
     ]
    }
   ],
   "source": [
    "print(ssim(fourier_op.adj_op(y),u0_mat))\n",
    "pysap.Image(data=fourier_op.adj_op(y)).show()"
   ]
  },
  {
   "cell_type": "markdown",
   "metadata": {},
   "source": [
    "# Definition of functions\n",
    "Only for one linear operator for the moment (wavelet)."
   ]
  },
  {
   "cell_type": "code",
   "execution_count": 42,
   "metadata": {
    "scrolled": true
   },
   "outputs": [
    {
     "data": {
      "text/plain": [
       "[<matplotlib.lines.Line2D at 0x7f5aaa86fef0>]"
      ]
     },
     "execution_count": 42,
     "metadata": {},
     "output_type": "execute_result"
    },
    {
     "data": {
      "image/png": "[encoded data removed]",
      "text/plain": [
       "<Figure size 432x288 with 1 Axes>"
      ]
     },
     "metadata": {
      "needs_background": "light"
     },
     "output_type": "display_data"
    }
   ],
   "source": [
    "x = np.linspace(0,3*param[\"gamma\"],200)\n",
    "plt.plot(x,psix_vec(x,param[\"gamma\"]))"
   ]
  },
  {
   "cell_type": "markdown",
   "metadata": {},
   "source": [
    "# Functions and first order derivatives"
   ]
  },
  {
   "cell_type": "code",
   "execution_count": 43,
   "metadata": {},
   "outputs": [],
   "source": [
    "#Base functions\n",
    "Eeps = lambda x:param[\"epsilon\"]/2*np.linalg.norm(x)**2\n",
    "Edata = lambda x:f1(x,p[:-1],y,fourier_op)\n",
    "Enonneg = lambda x:b(x,param[\"zeta\"])\n",
    "Ereg = lambda x:param[\"pn1\"]*np.sum(rho_vec(linear_op.op(x),param[\"gamma\"]))\n",
    "Etot = lambda x:Eeps(x)+Edata(x)+Enonneg(x)+Ereg(x)\n",
    "\n",
    "#First order derivatives\n",
    "Du_Eeps = lambda x:param[\"epsilon\"]*x\n",
    "Du_Edata = lambda x:np.real(fourier_op.adj_op(p[:-1]**2*(fourier_op.op(Rstar(x))-y)))\n",
    "Du_Enonneg = lambda x:-3*param[\"zeta\"]*np.where(x<=0,x**2,0)\n",
    "Du_Ereg = lambda x:param[\"pn1\"]*linear_op.adj_op(phi_vec(linear_op.op(x),param[\"gamma\"])*linear_op.op(x))\n",
    "Du_Etot = lambda x:Du_Eeps(x)+Du_Edata(x)+Du_Enonneg(x)+Du_Ereg(x)"
   ]
  },
  {
   "cell_type": "markdown",
   "metadata": {},
   "source": [
    "### Numerical check\n",
    "Plots of $\\left|\\frac{f(a+th)-f(a)-<\\nabla f(a),th>}{t}\\right|$ for $t\\rightarrow 0$. Eeps, Edata and Enonneg seem to work, but problem with Ereg."
   ]
  },
  {
   "cell_type": "code",
   "execution_count": 44,
   "metadata": {},
   "outputs": [
    {
     "data": {
      "image/png": "[encoded data removed]",
      "text/plain": [
       "<Figure size 432x288 with 1 Axes>"
      ]
     },
     "metadata": {
      "needs_background": "light"
     },
     "output_type": "display_data"
    }
   ],
   "source": [
    "# -- Eeps --\n",
    "#Two random vectors with same amplitude\n",
    "a = np.random.randn(n**2).reshape((n,n))\n",
    "a2 = np.random.randn(n**2).reshape((n,n))\n",
    "\n",
    "tests = np.logspace(-7,0,20)\n",
    "real_values = np.array([Eeps(a+t*a2) for t in tests])\n",
    "approx = np.array([Eeps(a)+t*np.sum(Du_Eeps(a)*a2)for t in tests])\n",
    "\n",
    "plt.plot(tests,(real_values-approx)/tests)\n",
    "plt.xscale(\"log\")\n",
    "plt.yscale(\"log\")"
   ]
  },
  {
   "cell_type": "code",
   "execution_count": 45,
   "metadata": {},
   "outputs": [
    {
     "data": {
      "image/png": "[encoded data removed]",
      "text/plain": [
       "<Figure size 432x288 with 1 Axes>"
      ]
     },
     "metadata": {
      "needs_background": "light"
     },
     "output_type": "display_data"
    }
   ],
   "source": [
    "# -- Edata --\n",
    "#Random vector with same amplitude as u0\n",
    "a2 = np.random.randn(n**2).reshape((n,n))/n*np.linalg.norm(u0_mat)\n",
    "\n",
    "p=radial_p\n",
    "tests = np.logspace(-7,0,20)\n",
    "real_values = np.array([Edata(u0_mat+t*a2) for t in tests])\n",
    "approx = np.array([Edata(u0_mat)+t*np.sum(Du_Edata(u0_mat)*a2)for t in tests])\n",
    "\n",
    "plt.plot(tests,(real_values-approx)/tests)\n",
    "plt.xscale(\"log\")\n",
    "plt.yscale(\"log\")"
   ]
  },
  {
   "cell_type": "code",
   "execution_count": 46,
   "metadata": {},
   "outputs": [
    {
     "data": {
      "image/png": "[encoded data removed]",
      "text/plain": [
       "<Figure size 432x288 with 1 Axes>"
      ]
     },
     "metadata": {
      "needs_background": "light"
     },
     "output_type": "display_data"
    }
   ],
   "source": [
    "# -- Enonneg --\n",
    "#Two random vectors with same amplitude\n",
    "a = np.random.randn(n**2).reshape((n,n))\n",
    "a2 = np.random.randn(n**2).reshape((n,n))\n",
    "\n",
    "tests = np.logspace(-7,0,20)\n",
    "real_values = np.array([Enonneg(a+t*a2) for t in tests])\n",
    "approx = np.array([Enonneg(a)+t*np.sum(Du_Enonneg(a)*a2)for t in tests])\n",
    "\n",
    "plt.plot(tests,(real_values-approx)/tests)\n",
    "plt.xscale(\"log\")\n",
    "plt.yscale(\"log\")"
   ]
  },
  {
   "cell_type": "code",
   "execution_count": 47,
   "metadata": {},
   "outputs": [
    {
     "name": "stderr",
     "output_type": "stream",
     "text": [
      "/home/guillaume/anaconda3/lib/python3.7/site-packages/pywt/_multilevel.py:45: UserWarning: Level value of 4 is too high: all coefficients will experience boundary effects.\n",
      "  \"boundary effects.\").format(level))\n"
     ]
    },
    {
     "data": {
      "image/png": "[encoded data removed]",
      "text/plain": [
       "<Figure size 432x288 with 1 Axes>"
      ]
     },
     "metadata": {
      "needs_background": "light"
     },
     "output_type": "display_data"
    }
   ],
   "source": [
    "# -- Ereg --\n",
    "#Random vector with same amplitude as u0\n",
    "a = np.random.randn(n**2).reshape((n,n))/n*np.linalg.norm(u0_mat)\n",
    "#a=u0_mat\n",
    "a2 = np.random.randn(n**2).reshape((n,n))/n*np.linalg.norm(u0_mat)\n",
    "\n",
    "tests = np.logspace(-8,-0,30)\n",
    "real_values = np.array([Ereg(a+t*a2) for t in tests])\n",
    "approx = np.array([Ereg(a)+t*np.sum(Du_Ereg(a)*a2)for t in tests])\n",
    "\n",
    "plt.plot(tests,(real_values-approx)/tests)\n",
    "plt.xscale(\"log\")\n",
    "plt.yscale(\"log\")"
   ]
  },
  {
   "cell_type": "code",
   "execution_count": 48,
   "metadata": {},
   "outputs": [
    {
     "name": "stdout",
     "output_type": "stream",
     "text": [
      "1.5702441081455845e-08\n"
     ]
    }
   ],
   "source": [
    "print(Ereg(a))"
   ]
  },
  {
   "cell_type": "code",
   "execution_count": 49,
   "metadata": {
    "scrolled": true
   },
   "outputs": [
    {
     "name": "stdout",
     "output_type": "stream",
     "text": [
      "Gap between limits:4.949782611068313e-19\n"
     ]
    },
    {
     "data": {
      "text/plain": [
       "<matplotlib.legend.Legend at 0x7f5a9a958cc0>"
      ]
     },
     "execution_count": 49,
     "metadata": {},
     "output_type": "execute_result"
    },
    {
     "data": {
      "image/png": "[encoded data removed]",
      "text/plain": [
       "<Figure size 432x288 with 1 Axes>"
      ]
     },
     "metadata": {
      "needs_background": "light"
     },
     "output_type": "display_data"
    }
   ],
   "source": [
    "print(f\"Gap between limits:{real_values[0]-approx[0]}\")\n",
    "\n",
    "plt.plot(tests[:5],real_values[:5],'r',label=\"Real value\")\n",
    "plt.plot(tests[:5],approx[:5],label=\"Estimation with gradient\")\n",
    "plt.xscale(\"log\")\n",
    "plt.title(\"Comparison between real value of $E_{reg}(u_0+th)$ and linear approximation\")\n",
    "plt.legend()"
   ]
  },
  {
   "cell_type": "code",
   "execution_count": 50,
   "metadata": {},
   "outputs": [
    {
     "data": {
      "image/png": "[encoded data removed]",
      "text/plain": [
       "<Figure size 432x288 with 1 Axes>"
      ]
     },
     "metadata": {
      "needs_background": "light"
     },
     "output_type": "display_data"
    }
   ],
   "source": [
    "# -- Etot --\n",
    "#Random vector with same amplitude as u0\n",
    "a2 = np.random.randn(n**2).reshape((n,n))/n*np.linalg.norm(u0_mat)\n",
    "a = np.random.randn(n**2).reshape((n,n))/n*np.linalg.norm(u0_mat)\n",
    "#a=u0_mat\n",
    "\n",
    "tests = np.logspace(-7,0,20)\n",
    "real_values = np.array([Etot(a+t*a2) for t in tests])\n",
    "approx = np.array([Etot(a)+t*np.sum(Du_Etot(a)*a2)for t in tests])\n",
    "\n",
    "plt.plot(tests,(real_values-approx)/tests)\n",
    "plt.xscale(\"log\")\n",
    "plt.yscale(\"log\")"
   ]
  },
  {
   "cell_type": "markdown",
   "metadata": {},
   "source": [
    "# Second order derivatives\n",
    "We don't express the hessians as matrices but as linear operators. Same verifications: $\\frac{||\\nabla f(a+th)-(\\nabla f(a)+t\\nabla^2f(a)h)||_2}{t}$."
   ]
  },
  {
   "cell_type": "code",
   "execution_count": 51,
   "metadata": {},
   "outputs": [],
   "source": [
    "def Du2_Eeps(u,p,w):return param[\"epsilon\"]*w\n",
    "def Du2_Edata(u,p,w):return np.real(fourier_op.adj_op(p[:-1]**2*fourier_op.op(w)))\n",
    "def Du2_Enonneg(u,p,w):return -6*param[\"zeta\"]*np.where(u<0,u,0)*w\n",
    "def Du2_Ereg(u,p,w):\n",
    "    lin_u = linear_op.op(u)\n",
    "    lin_w = linear_op.op(w)\n",
    "    psi_Au = psix_vec(lin_u,param[\"gamma\"])\n",
    "    phi_Au = phi_vec(lin_u,param[\"gamma\"])\n",
    "    return p[-1]*(linear_op.adj_op(lin_u**2*lin_w*psi_Au+phi_Au*lin_w))\n",
    "def Du2_Etot(u,p,w):return Du2_Eeps(u,p,w)+Du2_Edata(u,p,w)+Du2_Enonneg(u,p,w)+Du2_Ereg(u,p,w)"
   ]
  },
  {
   "cell_type": "code",
   "execution_count": 52,
   "metadata": {},
   "outputs": [
    {
     "data": {
      "image/png": "[encoded data removed]",
      "text/plain": [
       "<Figure size 432x288 with 1 Axes>"
      ]
     },
     "metadata": {
      "needs_background": "light"
     },
     "output_type": "display_data"
    }
   ],
   "source": [
    "# -- Eeps --\n",
    "#Two random vectors with same amplitude\n",
    "a = np.random.randn(n**2).reshape((n,n))\n",
    "a2 = np.random.randn(n**2).reshape((n,n))\n",
    "\n",
    "ntest=20\n",
    "tests = np.logspace(-7,0,ntest)\n",
    "Dua = Du_Eeps(a)\n",
    "real = []\n",
    "approx = []\n",
    "for t in tests:\n",
    "    real.append(Du_Eeps(a+t*a2))\n",
    "    approx.append(Dua+t*Du2_Eeps(a,p,a2))\n",
    "\n",
    "plt.plot(tests,np.array([np.linalg.norm(real[i]-approx[i]) for i in range(ntest)])/tests)\n",
    "plt.xscale(\"log\")\n",
    "plt.yscale(\"log\")"
   ]
  },
  {
   "cell_type": "code",
   "execution_count": 53,
   "metadata": {},
   "outputs": [
    {
     "data": {
      "image/png": "[encoded data removed]",
      "text/plain": [
       "<Figure size 432x288 with 1 Axes>"
      ]
     },
     "metadata": {
      "needs_background": "light"
     },
     "output_type": "display_data"
    }
   ],
   "source": [
    "# -- Edata --\n",
    "#Two random vectors with same amplitude\n",
    "a = np.random.randn(n**2).reshape((n,n))\n",
    "a2 = np.random.randn(n**2).reshape((n,n))\n",
    "\n",
    "ntest=20\n",
    "tests = np.logspace(-7,0,ntest)\n",
    "real = []\n",
    "approx = []\n",
    "for t in tests:\n",
    "    real.append(Du_Edata(a+t*a2))\n",
    "    approx.append(Du_Edata(a)+Du2_Edata(a,radial_p,t*a2))\n",
    "\n",
    "plt.plot(tests,np.array([np.linalg.norm(real[i]-approx[i]) for i in range(ntest)])/tests)\n",
    "plt.xscale(\"log\")\n",
    "plt.yscale(\"log\")"
   ]
  },
  {
   "cell_type": "code",
   "execution_count": 54,
   "metadata": {},
   "outputs": [
    {
     "data": {
      "image/png": "[encoded data removed]",
      "text/plain": [
       "<Figure size 432x288 with 1 Axes>"
      ]
     },
     "metadata": {
      "needs_background": "light"
     },
     "output_type": "display_data"
    }
   ],
   "source": [
    "# -- Enonneg --\n",
    "#Two random vectors with same amplitude\n",
    "a = np.random.randn(n**2).reshape((n,n))\n",
    "a2 = np.random.randn(n**2).reshape((n,n))\n",
    "\n",
    "ntest=20\n",
    "tests = np.logspace(-7,0,ntest)\n",
    "real = []\n",
    "approx = []\n",
    "for t in tests:\n",
    "    real.append(Du_Enonneg(a+t*a2))\n",
    "    approx.append(Du_Enonneg(a)+Du2_Enonneg(a,p,t*a2))\n",
    "\n",
    "plt.plot(tests,np.array([np.linalg.norm(real[i]-approx[i]) for i in range(ntest)])/tests)\n",
    "plt.xscale(\"log\")\n",
    "plt.yscale(\"log\")"
   ]
  },
  {
   "cell_type": "code",
   "execution_count": 55,
   "metadata": {},
   "outputs": [
    {
     "data": {
      "image/png": "[encoded data removed]",
      "text/plain": [
       "<Figure size 432x288 with 1 Axes>"
      ]
     },
     "metadata": {
      "needs_background": "light"
     },
     "output_type": "display_data"
    }
   ],
   "source": [
    "# -- Ereg --\n",
    "#Two random vectors with same amplitude\n",
    "a = np.random.randn(n**2).reshape((n,n))\n",
    "a2 = np.random.randn(n**2).reshape((n,n))\n",
    "\n",
    "ntest=20\n",
    "tests = np.logspace(-7,0,ntest)\n",
    "real = []\n",
    "approx = []\n",
    "for t in tests:\n",
    "    real.append(Du_Ereg(a+t*a2))\n",
    "    approx.append(Du_Ereg(a)+Du2_Ereg(a,p,t*a2))\n",
    "\n",
    "plt.plot(tests,np.array([np.linalg.norm(real[i]-approx[i]) for i in range(ntest)])/tests)\n",
    "plt.xscale(\"log\")\n",
    "plt.yscale(\"log\")"
   ]
  },
  {
   "cell_type": "code",
   "execution_count": 56,
   "metadata": {},
   "outputs": [
    {
     "data": {
      "image/png": "[encoded data removed]",
      "text/plain": [
       "<Figure size 432x288 with 1 Axes>"
      ]
     },
     "metadata": {
      "needs_background": "light"
     },
     "output_type": "display_data"
    }
   ],
   "source": [
    "# -- Etot --\n",
    "#Two random vectors with same amplitude\n",
    "a = np.random.randn(n**2).reshape((n,n))\n",
    "a=u0_mat\n",
    "a2 = np.random.randn(n**2).reshape((n,n))\n",
    "\n",
    "ntest=20\n",
    "tests = np.logspace(-7,0,ntest)\n",
    "real = []\n",
    "approx = []\n",
    "for t in tests:\n",
    "    real.append(Du_Etot(a+t*a2))\n",
    "    approx.append(Du_Etot(a)+Du2_Etot(a,p,t*a2))\n",
    "\n",
    "plt.plot(tests,np.array([np.linalg.norm(real[i]-approx[i]) for i in range(ntest)])/tests)\n",
    "plt.xscale(\"log\")\n",
    "plt.yscale(\"log\")"
   ]
  },
  {
   "cell_type": "markdown",
   "metadata": {},
   "source": [
    "## Cross derivatives"
   ]
  },
  {
   "cell_type": "code",
   "execution_count": 57,
   "metadata": {},
   "outputs": [],
   "source": [
    "def Dpu_Edata(u,p,w):\n",
    "    Fu = np.conj(fourier_op.op(Rstar(u))-y)\n",
    "    Fw = fourier_op.op(w)\n",
    "    return 2*p[:-1]*np.real(Fu*Fw)\n",
    "def Dpu_Ereg(u,p,w):\n",
    "    return p[-1]*np.sum(w*linear_op.adj_op(phi_vec(linear_op.op(u),param[\"gamma\"])*linear_op.op(u)))\n",
    "\n",
    "def Dpu_Etot(u,p,w):\n",
    "    g = np.zeros((n**2+1,))\n",
    "    g[:-1] = Dpu_Edata(u,p,w)\n",
    "    g[-1] = Dpu_Ereg(u,p,w)\n",
    "    return g"
   ]
  },
  {
   "cell_type": "markdown",
   "metadata": {},
   "source": [
    "## Loss function and penalty"
   ]
  },
  {
   "cell_type": "code",
   "execution_count": 158,
   "metadata": {},
   "outputs": [],
   "source": [
    "c = 1e0\n",
    "def L(u,u2):return c*np.linalg.norm(u-u2)**2\n",
    "def grad_L(u,u2):return 2*c*(u-u2)\n",
    "\n",
    "beta = 1e-10*c\n",
    "def P(p):return beta*np.sum(p[:-1]*(2-p[:-1]))\n",
    "def grad_P(p):\n",
    "    Dp = 2*(1-p)\n",
    "    #Don't change alpha\n",
    "    Dp[-1] = 0\n",
    "    return beta*Dp\n",
    "# P = lambda x:beta*np.linalg.norm(p)**2\n",
    "# grad_P = lambda x:2*beta*x"
   ]
  },
  {
   "cell_type": "code",
   "execution_count": 82,
   "metadata": {},
   "outputs": [
    {
     "name": "stdout",
     "output_type": "stream",
     "text": [
      "Finished in 0.1527271270751953 seconds.\n",
      "L(u(p))=1.1310234180081462e-09\n",
      "P(p)=1.8789999999999998e-08\n"
     ]
    }
   ],
   "source": [
    "param[\"pn1\"]=1e-6\n",
    "p = np.copy(radial_p)\n",
    "uk,norms,energy = pdhg(y,p[:-1],fourier_op,linear_op,param,maxit=20,verbose=0)\n",
    "print(f\"L(u(p))={L(uk,u0_mat)}\\nP(p)={P(p)}\")"
   ]
  },
  {
   "cell_type": "markdown",
   "metadata": {},
   "source": [
    "# Upper level energy"
   ]
  },
  {
   "cell_type": "code",
   "execution_count": 125,
   "metadata": {},
   "outputs": [],
   "source": [
    "uk = np.zeros(u0_mat.shape)\n",
    "\n",
    "def E(pk):\n",
    "    global uk\n",
    "    print(\"\\nEvaluating E(p)\")\n",
    "    param[\"pn1\"]=pk[-1]\n",
    "    uk,norms = pdhg(y,pk[:-1],fourier_op,linear_op,param,compute_energy=False,maxit=20,verbose=0)\n",
    "    return L(uk,u0_mat)+P(pk)\n",
    "\n",
    "cgconv = []\n",
    "def grad_E(pk,max_cgiter=3000,tol=1e-8,compute_conv=False):\n",
    "    global uk,cgconv\n",
    "    #Update alpha(p)\n",
    "    param[\"pn1\"]=pk[-1]\n",
    "    \n",
    "    print(\"\\nStarting PDHG\")\n",
    "    uk,norms = pdhg(y,pk[:-1],fourier_op,linear_op,param,compute_energy=False,maxit=30,verbose=0)\n",
    "    \n",
    "    def mv(w):\n",
    "        w = np.reshape(w,(n,n))\n",
    "        return np.reshape(Du2_Etot(uk,pk,w),(n**2,))\n",
    "    \n",
    "    \n",
    "    # -- Use cg to compute gradient --\n",
    "    lin = LinearOperator((n**2,n**2),matvec=mv)\n",
    "    B = np.reshape(grad_L(uk,u0_mat),(n**2,))\n",
    "    def cgcall(x):\n",
    "        if compute_conv:cgconv.append(np.linalg.norm(lin(x)-B)/np.linalg.norm(B))\n",
    "    \n",
    "    t1=time.time()\n",
    "    print(\"\\nStarting Conjugate Gradient method\")\n",
    "    x_inter,convergence = cg(lin,B,tol=tol,maxiter=max_cgiter,callback=cgcall)\n",
    "    print(f\"Finished in {time.time()-t1}s - ||Ax-b||/||b||: {np.linalg.norm(lin(x_inter)-B)/np.linalg.norm(B)}\")\n",
    "    return Dpu_Etot(uk,pk,np.reshape(x_inter,(n,n)))+grad_P(pk)\n",
    "\n",
    "# Callback function\n",
    "niter = 0\n",
    "def fcall(x):\n",
    "    global uk,niter\n",
    "    niter += 1\n",
    "    print(\"\\033[1m\" + f\"\\n{niter} iterations: ssim={ssim(uk,u0_mat)}\\n\\n\" + \"\\033[0m\")"
   ]
  },
  {
   "cell_type": "code",
   "execution_count": 88,
   "metadata": {
    "scrolled": true
   },
   "outputs": [
    {
     "name": "stdout",
     "output_type": "stream",
     "text": [
      "\n",
      "Evaluating E(p)\n",
      "Finished in 0.11686229705810547 seconds.\n",
      "\n",
      "Starting PDHG\n",
      "Finished in 0.15758347511291504 seconds.\n",
      "\n",
      "Starting Conjugate Gradient method\n",
      "Relative error: 1.1271488536440373\n",
      "Relative error: 0.9237142576483576\n",
      "Relative error: 1.0656678621292524\n",
      "Relative error: 1.4672764451275393\n",
      "Finished in 0.5842146873474121s - ||Ax-b||/||b||: 1.4672764451275393\n",
      "\n",
      "Evaluating E(p)\n",
      "Finished in 0.09261345863342285 seconds.\n",
      "\n",
      "Evaluating E(p)\n",
      "Finished in 0.0921790599822998 seconds.\n",
      "\n",
      "Evaluating E(p)\n",
      "Finished in 0.1041100025177002 seconds.\n",
      "\n",
      "Evaluating E(p)\n",
      "Finished in 0.11605191230773926 seconds.\n",
      "\n",
      "Evaluating E(p)\n",
      "Finished in 0.09299540519714355 seconds.\n",
      "\n",
      "Evaluating E(p)\n",
      "Finished in 0.08931493759155273 seconds.\n",
      "\n",
      "Evaluating E(p)\n",
      "Finished in 0.10646724700927734 seconds.\n",
      "\n",
      "Evaluating E(p)\n",
      "Finished in 0.09018969535827637 seconds.\n",
      "\n",
      "Evaluating E(p)\n",
      "Finished in 0.09016704559326172 seconds.\n",
      "\n",
      "Evaluating E(p)\n",
      "Finished in 0.10241913795471191 seconds.\n",
      "\n",
      "Evaluating E(p)\n",
      "Finished in 0.08934903144836426 seconds.\n",
      "\n",
      "Evaluating E(p)\n",
      "Finished in 0.09002947807312012 seconds.\n",
      "\n",
      "Evaluating E(p)\n",
      "Finished in 0.10591626167297363 seconds.\n",
      "\n",
      "Evaluating E(p)\n",
      "Finished in 0.08990168571472168 seconds.\n",
      "\n",
      "Evaluating E(p)\n",
      "Finished in 0.0894160270690918 seconds.\n",
      "\n",
      "Evaluating E(p)\n",
      "Finished in 0.10297656059265137 seconds.\n",
      "\n",
      "Evaluating E(p)\n",
      "Finished in 0.0889277458190918 seconds.\n",
      "\n",
      "Evaluating E(p)\n",
      "Finished in 0.09034156799316406 seconds.\n",
      "\n",
      "Evaluating E(p)\n",
      "Finished in 0.10545969009399414 seconds.\n",
      "\n",
      "Evaluating E(p)\n",
      "Finished in 0.08942985534667969 seconds.\n",
      "\n",
      "Evaluating E(p)\n",
      "Finished in 0.08899450302124023 seconds.\n",
      "\n",
      "Evaluating E(p)\n",
      "Finished in 0.10611128807067871 seconds.\n",
      "\n",
      "Evaluating E(p)\n",
      "Finished in 0.08941268920898438 seconds.\n",
      "\n",
      "Evaluating E(p)\n",
      "Finished in 0.08877229690551758 seconds.\n",
      "\n",
      "Evaluating E(p)\n",
      "Finished in 0.1046760082244873 seconds.\n",
      "\n",
      "Evaluating E(p)\n",
      "Finished in 0.0895388126373291 seconds.\n",
      "\n",
      "Evaluating E(p)\n",
      "Finished in 0.08887577056884766 seconds.\n",
      "\n",
      "Evaluating E(p)\n",
      "Finished in 0.10540962219238281 seconds.\n",
      "\n",
      "Evaluating E(p)\n",
      "Finished in 0.09604573249816895 seconds.\n",
      "\n",
      "Evaluating E(p)\n",
      "Finished in 0.08914399147033691 seconds.\n"
     ]
    }
   ],
   "source": [
    "p0 = np.random.rand(n**2+1)\n",
    "Ep0,gradEp0 = E(p0),grad_E(p0)\n",
    "p1 = np.random.rand(n**2+1)\n",
    "\n",
    "tests = np.logspace(-9,0,30)\n",
    "real_values = np.array([E(p0+t*p1) for t in tests])\n",
    "approx = np.array([Ep0+t*np.sum(gradEp0*p1) for t in tests])"
   ]
  },
  {
   "cell_type": "code",
   "execution_count": 90,
   "metadata": {},
   "outputs": [
    {
     "data": {
      "image/png": "[encoded data removed]",
      "text/plain": [
       "<Figure size 432x288 with 1 Axes>"
      ]
     },
     "metadata": {
      "needs_background": "light"
     },
     "output_type": "display_data"
    }
   ],
   "source": [
    "plt.plot(tests,abs((real_values-approx)/tests))\n",
    "plt.xscale(\"log\")\n",
    "plt.yscale(\"log\")"
   ]
  },
  {
   "cell_type": "code",
   "execution_count": 92,
   "metadata": {},
   "outputs": [
    {
     "name": "stdout",
     "output_type": "stream",
     "text": [
      "\n",
      "Starting PDHG\n",
      "Finished in 0.16615843772888184 seconds.\n",
      "\n",
      "Starting Conjugate Gradient method\n",
      "Relative error: 9.4638111403801\n",
      "Relative error: 8.672552926758692\n",
      "Relative error: 3.72120455670533\n",
      "Relative error: 2.9599133266975084\n",
      "Relative error: 3.7437341076952224\n",
      "Relative error: 1.7979043350552055\n",
      "Relative error: 1.9389360990961957\n",
      "Relative error: 1.5651994527880853\n",
      "Relative error: 2.062202397443076\n",
      "Relative error: 1.761495281477733\n",
      "Relative error: 0.829519125361597\n",
      "Relative error: 0.5489123462477152\n",
      "Relative error: 0.5595104884617477\n",
      "Relative error: 0.7928629946976109\n",
      "Relative error: 0.5067257820891794\n",
      "Relative error: 0.36189526982593495\n",
      "Relative error: 0.34132476817878005\n",
      "Relative error: 0.2144693217762808\n",
      "Relative error: 0.24851923669639614\n",
      "Relative error: 0.25497611992950325\n",
      "Relative error: 0.12642432189848965\n",
      "Relative error: 0.16744374437178408\n",
      "Relative error: 0.14716961423161568\n",
      "Relative error: 0.08118108259745618\n",
      "Relative error: 0.134848128695441\n",
      "Relative error: 0.05374477209352503\n",
      "Relative error: 0.06113806150786469\n",
      "Relative error: 0.05164559828882954\n",
      "Relative error: 0.059447734336915706\n",
      "Relative error: 0.039316220620904195\n",
      "Relative error: 0.03612040195847003\n",
      "Relative error: 0.03676064089089526\n",
      "Relative error: 0.02521852257882518\n",
      "Relative error: 0.019098390399814126\n",
      "Relative error: 0.020586337758444484\n",
      "Relative error: 0.016341106531582127\n",
      "Relative error: 0.013255771084972947\n",
      "Relative error: 0.011503538611678644\n",
      "Relative error: 0.012013161196755178\n",
      "Relative error: 0.008110775161530739\n",
      "Relative error: 0.008029157868710274\n",
      "Relative error: 0.007047340338143612\n",
      "Relative error: 0.009972057231250522\n",
      "Relative error: 0.007946515784793983\n",
      "Relative error: 0.006952074252055193\n",
      "Relative error: 0.006422612029101793\n",
      "Relative error: 0.004989647693307137\n",
      "Relative error: 0.004982290929569942\n",
      "Relative error: 0.0035547044457869157\n",
      "Relative error: 0.0024977281917798843\n",
      "Relative error: 0.001984327415354775\n",
      "Relative error: 0.0017723413861396478\n",
      "Relative error: 0.0022680128618249645\n",
      "Relative error: 0.0019825705758734994\n",
      "Relative error: 0.0012514964411957535\n",
      "Relative error: 0.0016351776238823044\n",
      "Relative error: 0.0008769603958955751\n",
      "Relative error: 0.0009131547455266267\n",
      "Relative error: 0.0009061436823691865\n",
      "Relative error: 0.000764291648362722\n",
      "Relative error: 0.0006809712145116947\n",
      "Relative error: 0.0004984851573365592\n",
      "Relative error: 0.0004874356416846137\n",
      "Relative error: 0.0003686783202811126\n",
      "Relative error: 0.00039020461702360057\n",
      "Relative error: 0.00027136194040200206\n",
      "Relative error: 0.0002499903091923559\n",
      "Relative error: 0.00029066044255802846\n",
      "Relative error: 0.00020658244197699764\n",
      "Relative error: 0.00022146145112970995\n",
      "Relative error: 0.0001701189552421476\n",
      "Relative error: 0.0001507980949878118\n",
      "Relative error: 0.00012689759759198482\n",
      "Relative error: 0.00010305890361116991\n",
      "Relative error: 8.293754750292148e-05\n",
      "Relative error: 6.407939212842327e-05\n",
      "Relative error: 6.122281280016168e-05\n",
      "Relative error: 6.534812045452511e-05\n",
      "Relative error: 4.953229030327277e-05\n",
      "Relative error: 5.291428482869239e-05\n",
      "Relative error: 4.292228655127801e-05\n",
      "Relative error: 4.3818273868061245e-05\n",
      "Relative error: 3.556004780413734e-05\n",
      "Relative error: 3.0112852899705955e-05\n",
      "Relative error: 2.6818834839960674e-05\n",
      "Relative error: 2.5105061163942808e-05\n",
      "Relative error: 1.977617450640991e-05\n",
      "Relative error: 2.131630431281587e-05\n",
      "Relative error: 1.721964438312983e-05\n",
      "Relative error: 1.5766769019020035e-05\n",
      "Relative error: 1.773580295440141e-05\n",
      "Relative error: 1.1265936324628003e-05\n",
      "Relative error: 1.0668173284808154e-05\n",
      "Relative error: 7.898954820133535e-06\n",
      "Relative error: 1.1656465057179537e-05\n",
      "Relative error: 7.774996101006253e-06\n",
      "Relative error: 6.219873148620318e-06\n",
      "Relative error: 5.35723248006178e-06\n",
      "Relative error: 5.2934870920272274e-06\n",
      "Relative error: 4.508338433845781e-06\n",
      "Relative error: 3.7448629720579886e-06\n",
      "Relative error: 3.487057387643495e-06\n",
      "Relative error: 3.1385347433857672e-06\n",
      "Relative error: 3.3815664244119453e-06\n",
      "Relative error: 2.925095385805832e-06\n",
      "Relative error: 2.8281006325022544e-06\n",
      "Relative error: 2.2134823749699826e-06\n",
      "Relative error: 1.5096400846027218e-06\n",
      "Relative error: 1.32350033128789e-06\n",
      "Relative error: 1.3260443828360367e-06\n",
      "Relative error: 1.3120874562136182e-06\n",
      "Relative error: 1.371627080735534e-06\n",
      "Relative error: 1.1778983074532773e-06\n",
      "Relative error: 7.66216947847407e-07\n",
      "Relative error: 8.641294192517574e-07\n",
      "Relative error: 7.584513809400971e-07\n",
      "Relative error: 6.997747598467357e-07\n",
      "Relative error: 5.910375438285606e-07\n",
      "Relative error: 6.377761509510842e-07\n",
      "Relative error: 4.741225629647425e-07\n",
      "Finished in 34.33393383026123s - ||Ax-b||/||b||: 4.741225629647425e-07\n"
     ]
    }
   ],
   "source": [
    "gP = grad_E(p,max_cgiter=3000,tol=1e-10,compute_conv=True)"
   ]
  },
  {
   "cell_type": "code",
   "execution_count": 93,
   "metadata": {},
   "outputs": [
    {
     "data": {
      "text/plain": [
       "Text(0, 0.5, '||Ax-b||/||b||')"
      ]
     },
     "execution_count": 93,
     "metadata": {},
     "output_type": "execute_result"
    },
    {
     "data": {
      "image/png": "[encoded data removed]",
      "text/plain": [
       "<Figure size 432x288 with 1 Axes>"
      ]
     },
     "metadata": {
      "needs_background": "light"
     },
     "output_type": "display_data"
    }
   ],
   "source": [
    "plt.plot(cgconv)\n",
    "plt.yscale(\"log\")\n",
    "plt.title(\"Convergence of the conjugate gradient\")\n",
    "plt.xlabel(\"Number of iterations\")\n",
    "plt.ylabel(\"||Ax-b||/||b||\")\n",
    "#plt.savefig(\"Upper Level/CG_conv.png\")"
   ]
  },
  {
   "cell_type": "markdown",
   "metadata": {},
   "source": [
    "# L-BFGS-B"
   ]
  },
  {
   "cell_type": "code",
   "execution_count": 178,
   "metadata": {},
   "outputs": [],
   "source": [
    "# p0 = 0.9*p+0.1*np.random.rand(n**2+1)\n",
    "p0 = np.random.rand(n**2+1)\n",
    "# p0=np.ones(n**2+1)\n",
    "p0[-1] = 1e-6"
   ]
  },
  {
   "cell_type": "code",
   "execution_count": 179,
   "metadata": {
    "scrolled": true
   },
   "outputs": [
    {
     "name": "stdout",
     "output_type": "stream",
     "text": [
      "\n",
      "Evaluating E(p)\n",
      "Finished in 0.10639452934265137 seconds.\n",
      "\n",
      "Starting PDHG\n",
      "Finished in 0.1592855453491211 seconds.\n",
      "\n",
      "Starting Conjugate Gradient method\n",
      "Finished in 14.700314044952393s - ||Ax-b||/||b||: 2.587987348291716\n",
      "\n",
      "Evaluating E(p)\n",
      "Finished in 0.09035229682922363 seconds.\n",
      "\n",
      "Starting PDHG\n",
      "Finished in 0.15856051445007324 seconds.\n",
      "\n",
      "Starting Conjugate Gradient method\n",
      "Finished in 14.698318481445312s - ||Ax-b||/||b||: 5.329076561619176\n",
      "\n",
      "Evaluating E(p)\n",
      "Finished in 0.08950352668762207 seconds.\n",
      "\n",
      "Starting PDHG\n",
      "Finished in 0.18056535720825195 seconds.\n",
      "\n",
      "Starting Conjugate Gradient method\n"
     ]
    },
    {
     "ename": "KeyboardInterrupt",
     "evalue": "",
     "output_type": "error",
     "traceback": [
      "\u001b[0;31m---------------------------------------------------------------------------\u001b[0m",
      "\u001b[0;31mKeyboardInterrupt\u001b[0m                         Traceback (most recent call last)",
      "\u001b[0;32m<ipython-input-179-2db9685cc8fe>\u001b[0m in \u001b[0;36m<module>\u001b[0;34m\u001b[0m\n\u001b[1;32m      2\u001b[0m x,Emin,info = fmin_l_bfgs_b(E,p0,grad_E,bounds=[(0,1)]*n**2+[(0,np.inf)],pgtol=1e-11,\n\u001b[1;32m      3\u001b[0m                            \u001b[0mmaxfun\u001b[0m\u001b[0;34m=\u001b[0m\u001b[0;36m1000\u001b[0m\u001b[0;34m,\u001b[0m\u001b[0mmaxiter\u001b[0m\u001b[0;34m=\u001b[0m\u001b[0;36m1000\u001b[0m\u001b[0;34m,\u001b[0m\u001b[0;34m\u001b[0m\u001b[0;34m\u001b[0m\u001b[0m\n\u001b[0;32m----> 4\u001b[0;31m                             callback = fcall)\n\u001b[0m",
      "\u001b[0;32m~/anaconda3/lib/python3.7/site-packages/scipy/optimize/lbfgsb.py\u001b[0m in \u001b[0;36mfmin_l_bfgs_b\u001b[0;34m(func, x0, fprime, args, approx_grad, bounds, m, factr, pgtol, epsilon, iprint, maxfun, maxiter, disp, callback, maxls)\u001b[0m\n\u001b[1;32m    197\u001b[0m \u001b[0;34m\u001b[0m\u001b[0m\n\u001b[1;32m    198\u001b[0m     res = _minimize_lbfgsb(fun, x0, args=args, jac=jac, bounds=bounds,\n\u001b[0;32m--> 199\u001b[0;31m                            **opts)\n\u001b[0m\u001b[1;32m    200\u001b[0m     d = {'grad': res['jac'],\n\u001b[1;32m    201\u001b[0m          \u001b[0;34m'task'\u001b[0m\u001b[0;34m:\u001b[0m \u001b[0mres\u001b[0m\u001b[0;34m[\u001b[0m\u001b[0;34m'message'\u001b[0m\u001b[0;34m]\u001b[0m\u001b[0;34m,\u001b[0m\u001b[0;34m\u001b[0m\u001b[0;34m\u001b[0m\u001b[0m\n",
      "\u001b[0;32m~/anaconda3/lib/python3.7/site-packages/scipy/optimize/lbfgsb.py\u001b[0m in \u001b[0;36m_minimize_lbfgsb\u001b[0;34m(fun, x0, args, jac, bounds, disp, maxcor, ftol, gtol, eps, maxfun, maxiter, iprint, callback, maxls, **unknown_options)\u001b[0m\n\u001b[1;32m    333\u001b[0m             \u001b[0;31m# until the completion of the current minimization iteration.\u001b[0m\u001b[0;34m\u001b[0m\u001b[0;34m\u001b[0m\u001b[0;34m\u001b[0m\u001b[0m\n\u001b[1;32m    334\u001b[0m             \u001b[0;31m# Overwrite f and g:\u001b[0m\u001b[0;34m\u001b[0m\u001b[0;34m\u001b[0m\u001b[0;34m\u001b[0m\u001b[0m\n\u001b[0;32m--> 335\u001b[0;31m             \u001b[0mf\u001b[0m\u001b[0;34m,\u001b[0m \u001b[0mg\u001b[0m \u001b[0;34m=\u001b[0m \u001b[0mfunc_and_grad\u001b[0m\u001b[0;34m(\u001b[0m\u001b[0mx\u001b[0m\u001b[0;34m)\u001b[0m\u001b[0;34m\u001b[0m\u001b[0;34m\u001b[0m\u001b[0m\n\u001b[0m\u001b[1;32m    336\u001b[0m         \u001b[0;32melif\u001b[0m \u001b[0mtask_str\u001b[0m\u001b[0;34m.\u001b[0m\u001b[0mstartswith\u001b[0m\u001b[0;34m(\u001b[0m\u001b[0;34mb'NEW_X'\u001b[0m\u001b[0;34m)\u001b[0m\u001b[0;34m:\u001b[0m\u001b[0;34m\u001b[0m\u001b[0;34m\u001b[0m\u001b[0m\n\u001b[1;32m    337\u001b[0m             \u001b[0;31m# new iteration\u001b[0m\u001b[0;34m\u001b[0m\u001b[0;34m\u001b[0m\u001b[0;34m\u001b[0m\u001b[0m\n",
      "\u001b[0;32m~/anaconda3/lib/python3.7/site-packages/scipy/optimize/lbfgsb.py\u001b[0m in \u001b[0;36mfunc_and_grad\u001b[0;34m(x)\u001b[0m\n\u001b[1;32m    284\u001b[0m         \u001b[0;32mdef\u001b[0m \u001b[0mfunc_and_grad\u001b[0m\u001b[0;34m(\u001b[0m\u001b[0mx\u001b[0m\u001b[0;34m)\u001b[0m\u001b[0;34m:\u001b[0m\u001b[0;34m\u001b[0m\u001b[0;34m\u001b[0m\u001b[0m\n\u001b[1;32m    285\u001b[0m             \u001b[0mf\u001b[0m \u001b[0;34m=\u001b[0m \u001b[0mfun\u001b[0m\u001b[0;34m(\u001b[0m\u001b[0mx\u001b[0m\u001b[0;34m,\u001b[0m \u001b[0;34m*\u001b[0m\u001b[0margs\u001b[0m\u001b[0;34m)\u001b[0m\u001b[0;34m\u001b[0m\u001b[0;34m\u001b[0m\u001b[0m\n\u001b[0;32m--> 286\u001b[0;31m             \u001b[0mg\u001b[0m \u001b[0;34m=\u001b[0m \u001b[0mjac\u001b[0m\u001b[0;34m(\u001b[0m\u001b[0mx\u001b[0m\u001b[0;34m,\u001b[0m \u001b[0;34m*\u001b[0m\u001b[0margs\u001b[0m\u001b[0;34m)\u001b[0m\u001b[0;34m\u001b[0m\u001b[0;34m\u001b[0m\u001b[0m\n\u001b[0m\u001b[1;32m    287\u001b[0m             \u001b[0;32mreturn\u001b[0m \u001b[0mf\u001b[0m\u001b[0;34m,\u001b[0m \u001b[0mg\u001b[0m\u001b[0;34m\u001b[0m\u001b[0;34m\u001b[0m\u001b[0m\n\u001b[1;32m    288\u001b[0m \u001b[0;34m\u001b[0m\u001b[0m\n",
      "\u001b[0;32m<ipython-input-125-04883b1cc9d4>\u001b[0m in \u001b[0;36mgrad_E\u001b[0;34m(pk, max_cgiter, tol, compute_conv)\u001b[0m\n\u001b[1;32m     30\u001b[0m     \u001b[0mt1\u001b[0m\u001b[0;34m=\u001b[0m\u001b[0mtime\u001b[0m\u001b[0;34m.\u001b[0m\u001b[0mtime\u001b[0m\u001b[0;34m(\u001b[0m\u001b[0;34m)\u001b[0m\u001b[0;34m\u001b[0m\u001b[0;34m\u001b[0m\u001b[0m\n\u001b[1;32m     31\u001b[0m     \u001b[0mprint\u001b[0m\u001b[0;34m(\u001b[0m\u001b[0;34m\"\\nStarting Conjugate Gradient method\"\u001b[0m\u001b[0;34m)\u001b[0m\u001b[0;34m\u001b[0m\u001b[0;34m\u001b[0m\u001b[0m\n\u001b[0;32m---> 32\u001b[0;31m     \u001b[0mx_inter\u001b[0m\u001b[0;34m,\u001b[0m\u001b[0mconvergence\u001b[0m \u001b[0;34m=\u001b[0m \u001b[0mcg\u001b[0m\u001b[0;34m(\u001b[0m\u001b[0mlin\u001b[0m\u001b[0;34m,\u001b[0m\u001b[0mB\u001b[0m\u001b[0;34m,\u001b[0m\u001b[0mtol\u001b[0m\u001b[0;34m=\u001b[0m\u001b[0mtol\u001b[0m\u001b[0;34m,\u001b[0m\u001b[0mmaxiter\u001b[0m\u001b[0;34m=\u001b[0m\u001b[0mmax_cgiter\u001b[0m\u001b[0;34m,\u001b[0m\u001b[0mcallback\u001b[0m\u001b[0;34m=\u001b[0m\u001b[0mcgcall\u001b[0m\u001b[0;34m)\u001b[0m\u001b[0;34m\u001b[0m\u001b[0;34m\u001b[0m\u001b[0m\n\u001b[0m\u001b[1;32m     33\u001b[0m     \u001b[0mprint\u001b[0m\u001b[0;34m(\u001b[0m\u001b[0;34mf\"Finished in {time.time()-t1}s - ||Ax-b||/||b||: {np.linalg.norm(lin(x_inter)-B)/np.linalg.norm(B)}\"\u001b[0m\u001b[0;34m)\u001b[0m\u001b[0;34m\u001b[0m\u001b[0;34m\u001b[0m\u001b[0m\n\u001b[1;32m     34\u001b[0m     \u001b[0;32mreturn\u001b[0m \u001b[0mDpu_Etot\u001b[0m\u001b[0;34m(\u001b[0m\u001b[0muk\u001b[0m\u001b[0;34m,\u001b[0m\u001b[0mpk\u001b[0m\u001b[0;34m,\u001b[0m\u001b[0mnp\u001b[0m\u001b[0;34m.\u001b[0m\u001b[0mreshape\u001b[0m\u001b[0;34m(\u001b[0m\u001b[0mx_inter\u001b[0m\u001b[0;34m,\u001b[0m\u001b[0;34m(\u001b[0m\u001b[0mn\u001b[0m\u001b[0;34m,\u001b[0m\u001b[0mn\u001b[0m\u001b[0;34m)\u001b[0m\u001b[0;34m)\u001b[0m\u001b[0;34m)\u001b[0m\u001b[0;34m+\u001b[0m\u001b[0mgrad_P\u001b[0m\u001b[0;34m(\u001b[0m\u001b[0mpk\u001b[0m\u001b[0;34m)\u001b[0m\u001b[0;34m\u001b[0m\u001b[0;34m\u001b[0m\u001b[0m\n",
      "\u001b[0;32m~/anaconda3/lib/python3.7/site-packages/scipy/sparse/linalg/isolve/iterative.py\u001b[0m in \u001b[0;36mcg\u001b[0;34m(A, b, x0, tol, maxiter, M, callback, atol)\u001b[0m\n",
      "\u001b[0;32m~/anaconda3/lib/python3.7/site-packages/scipy/_lib/_threadsafety.py\u001b[0m in \u001b[0;36mcaller\u001b[0;34m(func, *a, **kw)\u001b[0m\n\u001b[1;32m     44\u001b[0m         \u001b[0;32mdef\u001b[0m \u001b[0mcaller\u001b[0m\u001b[0;34m(\u001b[0m\u001b[0mfunc\u001b[0m\u001b[0;34m,\u001b[0m \u001b[0;34m*\u001b[0m\u001b[0ma\u001b[0m\u001b[0;34m,\u001b[0m \u001b[0;34m**\u001b[0m\u001b[0mkw\u001b[0m\u001b[0;34m)\u001b[0m\u001b[0;34m:\u001b[0m\u001b[0;34m\u001b[0m\u001b[0;34m\u001b[0m\u001b[0m\n\u001b[1;32m     45\u001b[0m             \u001b[0;32mwith\u001b[0m \u001b[0mself\u001b[0m\u001b[0;34m:\u001b[0m\u001b[0;34m\u001b[0m\u001b[0;34m\u001b[0m\u001b[0m\n\u001b[0;32m---> 46\u001b[0;31m                 \u001b[0;32mreturn\u001b[0m \u001b[0mfunc\u001b[0m\u001b[0;34m(\u001b[0m\u001b[0;34m*\u001b[0m\u001b[0ma\u001b[0m\u001b[0;34m,\u001b[0m \u001b[0;34m**\u001b[0m\u001b[0mkw\u001b[0m\u001b[0;34m)\u001b[0m\u001b[0;34m\u001b[0m\u001b[0;34m\u001b[0m\u001b[0m\n\u001b[0m\u001b[1;32m     47\u001b[0m         \u001b[0;32mreturn\u001b[0m \u001b[0mscipy\u001b[0m\u001b[0;34m.\u001b[0m\u001b[0m_lib\u001b[0m\u001b[0;34m.\u001b[0m\u001b[0mdecorator\u001b[0m\u001b[0;34m.\u001b[0m\u001b[0mdecorate\u001b[0m\u001b[0;34m(\u001b[0m\u001b[0mfunc\u001b[0m\u001b[0;34m,\u001b[0m \u001b[0mcaller\u001b[0m\u001b[0;34m)\u001b[0m\u001b[0;34m\u001b[0m\u001b[0;34m\u001b[0m\u001b[0m\n\u001b[1;32m     48\u001b[0m \u001b[0;34m\u001b[0m\u001b[0m\n",
      "\u001b[0;32m~/anaconda3/lib/python3.7/site-packages/scipy/sparse/linalg/isolve/iterative.py\u001b[0m in \u001b[0;36mcg\u001b[0;34m(A, b, x0, tol, maxiter, M, callback, atol)\u001b[0m\n\u001b[1;32m    313\u001b[0m         \u001b[0;32melif\u001b[0m \u001b[0;34m(\u001b[0m\u001b[0mijob\u001b[0m \u001b[0;34m==\u001b[0m \u001b[0;36m1\u001b[0m\u001b[0;34m)\u001b[0m\u001b[0;34m:\u001b[0m\u001b[0;34m\u001b[0m\u001b[0;34m\u001b[0m\u001b[0m\n\u001b[1;32m    314\u001b[0m             \u001b[0mwork\u001b[0m\u001b[0;34m[\u001b[0m\u001b[0mslice2\u001b[0m\u001b[0;34m]\u001b[0m \u001b[0;34m*=\u001b[0m \u001b[0msclr2\u001b[0m\u001b[0;34m\u001b[0m\u001b[0;34m\u001b[0m\u001b[0m\n\u001b[0;32m--> 315\u001b[0;31m             \u001b[0mwork\u001b[0m\u001b[0;34m[\u001b[0m\u001b[0mslice2\u001b[0m\u001b[0;34m]\u001b[0m \u001b[0;34m+=\u001b[0m \u001b[0msclr1\u001b[0m\u001b[0;34m*\u001b[0m\u001b[0mmatvec\u001b[0m\u001b[0;34m(\u001b[0m\u001b[0mwork\u001b[0m\u001b[0;34m[\u001b[0m\u001b[0mslice1\u001b[0m\u001b[0;34m]\u001b[0m\u001b[0;34m)\u001b[0m\u001b[0;34m\u001b[0m\u001b[0;34m\u001b[0m\u001b[0m\n\u001b[0m\u001b[1;32m    316\u001b[0m         \u001b[0;32melif\u001b[0m \u001b[0;34m(\u001b[0m\u001b[0mijob\u001b[0m \u001b[0;34m==\u001b[0m \u001b[0;36m2\u001b[0m\u001b[0;34m)\u001b[0m\u001b[0;34m:\u001b[0m\u001b[0;34m\u001b[0m\u001b[0;34m\u001b[0m\u001b[0m\n\u001b[1;32m    317\u001b[0m             \u001b[0mwork\u001b[0m\u001b[0;34m[\u001b[0m\u001b[0mslice1\u001b[0m\u001b[0;34m]\u001b[0m \u001b[0;34m=\u001b[0m \u001b[0mpsolve\u001b[0m\u001b[0;34m(\u001b[0m\u001b[0mwork\u001b[0m\u001b[0;34m[\u001b[0m\u001b[0mslice2\u001b[0m\u001b[0;34m]\u001b[0m\u001b[0;34m)\u001b[0m\u001b[0;34m\u001b[0m\u001b[0;34m\u001b[0m\u001b[0m\n",
      "\u001b[0;32m~/anaconda3/lib/python3.7/site-packages/scipy/sparse/linalg/interface.py\u001b[0m in \u001b[0;36mmatvec\u001b[0;34m(self, x)\u001b[0m\n\u001b[1;32m    225\u001b[0m             \u001b[0;32mraise\u001b[0m \u001b[0mValueError\u001b[0m\u001b[0;34m(\u001b[0m\u001b[0;34m'dimension mismatch'\u001b[0m\u001b[0;34m)\u001b[0m\u001b[0;34m\u001b[0m\u001b[0;34m\u001b[0m\u001b[0m\n\u001b[1;32m    226\u001b[0m \u001b[0;34m\u001b[0m\u001b[0m\n\u001b[0;32m--> 227\u001b[0;31m         \u001b[0my\u001b[0m \u001b[0;34m=\u001b[0m \u001b[0mself\u001b[0m\u001b[0;34m.\u001b[0m\u001b[0m_matvec\u001b[0m\u001b[0;34m(\u001b[0m\u001b[0mx\u001b[0m\u001b[0;34m)\u001b[0m\u001b[0;34m\u001b[0m\u001b[0;34m\u001b[0m\u001b[0m\n\u001b[0m\u001b[1;32m    228\u001b[0m \u001b[0;34m\u001b[0m\u001b[0m\n\u001b[1;32m    229\u001b[0m         \u001b[0;32mif\u001b[0m \u001b[0misinstance\u001b[0m\u001b[0;34m(\u001b[0m\u001b[0mx\u001b[0m\u001b[0;34m,\u001b[0m \u001b[0mnp\u001b[0m\u001b[0;34m.\u001b[0m\u001b[0mmatrix\u001b[0m\u001b[0;34m)\u001b[0m\u001b[0;34m:\u001b[0m\u001b[0;34m\u001b[0m\u001b[0;34m\u001b[0m\u001b[0m\n",
      "\u001b[0;32m~/anaconda3/lib/python3.7/site-packages/scipy/sparse/linalg/interface.py\u001b[0m in \u001b[0;36m_matvec\u001b[0;34m(self, x)\u001b[0m\n\u001b[1;32m    477\u001b[0m \u001b[0;34m\u001b[0m\u001b[0m\n\u001b[1;32m    478\u001b[0m     \u001b[0;32mdef\u001b[0m \u001b[0m_matvec\u001b[0m\u001b[0;34m(\u001b[0m\u001b[0mself\u001b[0m\u001b[0;34m,\u001b[0m \u001b[0mx\u001b[0m\u001b[0;34m)\u001b[0m\u001b[0;34m:\u001b[0m\u001b[0;34m\u001b[0m\u001b[0;34m\u001b[0m\u001b[0m\n\u001b[0;32m--> 479\u001b[0;31m         \u001b[0;32mreturn\u001b[0m \u001b[0mself\u001b[0m\u001b[0;34m.\u001b[0m\u001b[0m__matvec_impl\u001b[0m\u001b[0;34m(\u001b[0m\u001b[0mx\u001b[0m\u001b[0;34m)\u001b[0m\u001b[0;34m\u001b[0m\u001b[0;34m\u001b[0m\u001b[0m\n\u001b[0m\u001b[1;32m    480\u001b[0m \u001b[0;34m\u001b[0m\u001b[0m\n\u001b[1;32m    481\u001b[0m     \u001b[0;32mdef\u001b[0m \u001b[0m_rmatvec\u001b[0m\u001b[0;34m(\u001b[0m\u001b[0mself\u001b[0m\u001b[0;34m,\u001b[0m \u001b[0mx\u001b[0m\u001b[0;34m)\u001b[0m\u001b[0;34m:\u001b[0m\u001b[0;34m\u001b[0m\u001b[0;34m\u001b[0m\u001b[0m\n",
      "\u001b[0;32m<ipython-input-125-04883b1cc9d4>\u001b[0m in \u001b[0;36mmv\u001b[0;34m(w)\u001b[0m\n\u001b[1;32m     19\u001b[0m     \u001b[0;32mdef\u001b[0m \u001b[0mmv\u001b[0m\u001b[0;34m(\u001b[0m\u001b[0mw\u001b[0m\u001b[0;34m)\u001b[0m\u001b[0;34m:\u001b[0m\u001b[0;34m\u001b[0m\u001b[0;34m\u001b[0m\u001b[0m\n\u001b[1;32m     20\u001b[0m         \u001b[0mw\u001b[0m \u001b[0;34m=\u001b[0m \u001b[0mnp\u001b[0m\u001b[0;34m.\u001b[0m\u001b[0mreshape\u001b[0m\u001b[0;34m(\u001b[0m\u001b[0mw\u001b[0m\u001b[0;34m,\u001b[0m\u001b[0;34m(\u001b[0m\u001b[0mn\u001b[0m\u001b[0;34m,\u001b[0m\u001b[0mn\u001b[0m\u001b[0;34m)\u001b[0m\u001b[0;34m)\u001b[0m\u001b[0;34m\u001b[0m\u001b[0;34m\u001b[0m\u001b[0m\n\u001b[0;32m---> 21\u001b[0;31m         \u001b[0;32mreturn\u001b[0m \u001b[0mnp\u001b[0m\u001b[0;34m.\u001b[0m\u001b[0mreshape\u001b[0m\u001b[0;34m(\u001b[0m\u001b[0mDu2_Etot\u001b[0m\u001b[0;34m(\u001b[0m\u001b[0muk\u001b[0m\u001b[0;34m,\u001b[0m\u001b[0mpk\u001b[0m\u001b[0;34m,\u001b[0m\u001b[0mw\u001b[0m\u001b[0;34m)\u001b[0m\u001b[0;34m,\u001b[0m\u001b[0;34m(\u001b[0m\u001b[0mn\u001b[0m\u001b[0;34m**\u001b[0m\u001b[0;36m2\u001b[0m\u001b[0;34m,\u001b[0m\u001b[0;34m)\u001b[0m\u001b[0;34m)\u001b[0m\u001b[0;34m\u001b[0m\u001b[0;34m\u001b[0m\u001b[0m\n\u001b[0m\u001b[1;32m     22\u001b[0m \u001b[0;34m\u001b[0m\u001b[0m\n\u001b[1;32m     23\u001b[0m \u001b[0;34m\u001b[0m\u001b[0m\n",
      "\u001b[0;32m<ipython-input-51-9cb5e686f0be>\u001b[0m in \u001b[0;36mDu2_Etot\u001b[0;34m(u, p, w)\u001b[0m\n\u001b[1;32m      8\u001b[0m     \u001b[0mphi_Au\u001b[0m \u001b[0;34m=\u001b[0m \u001b[0mphi_vec\u001b[0m\u001b[0;34m(\u001b[0m\u001b[0mlin_u\u001b[0m\u001b[0;34m,\u001b[0m\u001b[0mparam\u001b[0m\u001b[0;34m[\u001b[0m\u001b[0;34m\"gamma\"\u001b[0m\u001b[0;34m]\u001b[0m\u001b[0;34m)\u001b[0m\u001b[0;34m\u001b[0m\u001b[0;34m\u001b[0m\u001b[0m\n\u001b[1;32m      9\u001b[0m     \u001b[0;32mreturn\u001b[0m \u001b[0mp\u001b[0m\u001b[0;34m[\u001b[0m\u001b[0;34m-\u001b[0m\u001b[0;36m1\u001b[0m\u001b[0;34m]\u001b[0m\u001b[0;34m*\u001b[0m\u001b[0;34m(\u001b[0m\u001b[0mlinear_op\u001b[0m\u001b[0;34m.\u001b[0m\u001b[0madj_op\u001b[0m\u001b[0;34m(\u001b[0m\u001b[0mlin_u\u001b[0m\u001b[0;34m**\u001b[0m\u001b[0;36m2\u001b[0m\u001b[0;34m*\u001b[0m\u001b[0mlin_w\u001b[0m\u001b[0;34m*\u001b[0m\u001b[0mpsi_Au\u001b[0m\u001b[0;34m+\u001b[0m\u001b[0mphi_Au\u001b[0m\u001b[0;34m*\u001b[0m\u001b[0mlin_w\u001b[0m\u001b[0;34m)\u001b[0m\u001b[0;34m)\u001b[0m\u001b[0;34m\u001b[0m\u001b[0;34m\u001b[0m\u001b[0m\n\u001b[0;32m---> 10\u001b[0;31m \u001b[0;32mdef\u001b[0m \u001b[0mDu2_Etot\u001b[0m\u001b[0;34m(\u001b[0m\u001b[0mu\u001b[0m\u001b[0;34m,\u001b[0m\u001b[0mp\u001b[0m\u001b[0;34m,\u001b[0m\u001b[0mw\u001b[0m\u001b[0;34m)\u001b[0m\u001b[0;34m:\u001b[0m\u001b[0;32mreturn\u001b[0m \u001b[0mDu2_Eeps\u001b[0m\u001b[0;34m(\u001b[0m\u001b[0mu\u001b[0m\u001b[0;34m,\u001b[0m\u001b[0mp\u001b[0m\u001b[0;34m,\u001b[0m\u001b[0mw\u001b[0m\u001b[0;34m)\u001b[0m\u001b[0;34m+\u001b[0m\u001b[0mDu2_Edata\u001b[0m\u001b[0;34m(\u001b[0m\u001b[0mu\u001b[0m\u001b[0;34m,\u001b[0m\u001b[0mp\u001b[0m\u001b[0;34m,\u001b[0m\u001b[0mw\u001b[0m\u001b[0;34m)\u001b[0m\u001b[0;34m+\u001b[0m\u001b[0mDu2_Enonneg\u001b[0m\u001b[0;34m(\u001b[0m\u001b[0mu\u001b[0m\u001b[0;34m,\u001b[0m\u001b[0mp\u001b[0m\u001b[0;34m,\u001b[0m\u001b[0mw\u001b[0m\u001b[0;34m)\u001b[0m\u001b[0;34m+\u001b[0m\u001b[0mDu2_Ereg\u001b[0m\u001b[0;34m(\u001b[0m\u001b[0mu\u001b[0m\u001b[0;34m,\u001b[0m\u001b[0mp\u001b[0m\u001b[0;34m,\u001b[0m\u001b[0mw\u001b[0m\u001b[0;34m)\u001b[0m\u001b[0;34m\u001b[0m\u001b[0;34m\u001b[0m\u001b[0m\n\u001b[0m",
      "\u001b[0;32m<ipython-input-51-9cb5e686f0be>\u001b[0m in \u001b[0;36mDu2_Edata\u001b[0;34m(u, p, w)\u001b[0m\n\u001b[1;32m      1\u001b[0m \u001b[0;32mdef\u001b[0m \u001b[0mDu2_Eeps\u001b[0m\u001b[0;34m(\u001b[0m\u001b[0mu\u001b[0m\u001b[0;34m,\u001b[0m\u001b[0mp\u001b[0m\u001b[0;34m,\u001b[0m\u001b[0mw\u001b[0m\u001b[0;34m)\u001b[0m\u001b[0;34m:\u001b[0m\u001b[0;32mreturn\u001b[0m \u001b[0mparam\u001b[0m\u001b[0;34m[\u001b[0m\u001b[0;34m\"epsilon\"\u001b[0m\u001b[0;34m]\u001b[0m\u001b[0;34m*\u001b[0m\u001b[0mw\u001b[0m\u001b[0;34m\u001b[0m\u001b[0;34m\u001b[0m\u001b[0m\n\u001b[0;32m----> 2\u001b[0;31m \u001b[0;32mdef\u001b[0m \u001b[0mDu2_Edata\u001b[0m\u001b[0;34m(\u001b[0m\u001b[0mu\u001b[0m\u001b[0;34m,\u001b[0m\u001b[0mp\u001b[0m\u001b[0;34m,\u001b[0m\u001b[0mw\u001b[0m\u001b[0;34m)\u001b[0m\u001b[0;34m:\u001b[0m\u001b[0;32mreturn\u001b[0m \u001b[0mnp\u001b[0m\u001b[0;34m.\u001b[0m\u001b[0mreal\u001b[0m\u001b[0;34m(\u001b[0m\u001b[0mfourier_op\u001b[0m\u001b[0;34m.\u001b[0m\u001b[0madj_op\u001b[0m\u001b[0;34m(\u001b[0m\u001b[0mp\u001b[0m\u001b[0;34m[\u001b[0m\u001b[0;34m:\u001b[0m\u001b[0;34m-\u001b[0m\u001b[0;36m1\u001b[0m\u001b[0;34m]\u001b[0m\u001b[0;34m**\u001b[0m\u001b[0;36m2\u001b[0m\u001b[0;34m*\u001b[0m\u001b[0mfourier_op\u001b[0m\u001b[0;34m.\u001b[0m\u001b[0mop\u001b[0m\u001b[0;34m(\u001b[0m\u001b[0mw\u001b[0m\u001b[0;34m)\u001b[0m\u001b[0;34m)\u001b[0m\u001b[0;34m)\u001b[0m\u001b[0;34m\u001b[0m\u001b[0;34m\u001b[0m\u001b[0m\n\u001b[0m\u001b[1;32m      3\u001b[0m \u001b[0;32mdef\u001b[0m \u001b[0mDu2_Enonneg\u001b[0m\u001b[0;34m(\u001b[0m\u001b[0mu\u001b[0m\u001b[0;34m,\u001b[0m\u001b[0mp\u001b[0m\u001b[0;34m,\u001b[0m\u001b[0mw\u001b[0m\u001b[0;34m)\u001b[0m\u001b[0;34m:\u001b[0m\u001b[0;32mreturn\u001b[0m \u001b[0;34m-\u001b[0m\u001b[0;36m6\u001b[0m\u001b[0;34m*\u001b[0m\u001b[0mparam\u001b[0m\u001b[0;34m[\u001b[0m\u001b[0;34m\"zeta\"\u001b[0m\u001b[0;34m]\u001b[0m\u001b[0;34m*\u001b[0m\u001b[0mnp\u001b[0m\u001b[0;34m.\u001b[0m\u001b[0mwhere\u001b[0m\u001b[0;34m(\u001b[0m\u001b[0mu\u001b[0m\u001b[0;34m<\u001b[0m\u001b[0;36m0\u001b[0m\u001b[0;34m,\u001b[0m\u001b[0mu\u001b[0m\u001b[0;34m,\u001b[0m\u001b[0;36m0\u001b[0m\u001b[0;34m)\u001b[0m\u001b[0;34m*\u001b[0m\u001b[0mw\u001b[0m\u001b[0;34m\u001b[0m\u001b[0;34m\u001b[0m\u001b[0m\n\u001b[1;32m      4\u001b[0m \u001b[0;32mdef\u001b[0m \u001b[0mDu2_Ereg\u001b[0m\u001b[0;34m(\u001b[0m\u001b[0mu\u001b[0m\u001b[0;34m,\u001b[0m\u001b[0mp\u001b[0m\u001b[0;34m,\u001b[0m\u001b[0mw\u001b[0m\u001b[0;34m)\u001b[0m\u001b[0;34m:\u001b[0m\u001b[0;34m\u001b[0m\u001b[0;34m\u001b[0m\u001b[0m\n\u001b[1;32m      5\u001b[0m     \u001b[0mlin_u\u001b[0m \u001b[0;34m=\u001b[0m \u001b[0mlinear_op\u001b[0m\u001b[0;34m.\u001b[0m\u001b[0mop\u001b[0m\u001b[0;34m(\u001b[0m\u001b[0mu\u001b[0m\u001b[0;34m)\u001b[0m\u001b[0;34m\u001b[0m\u001b[0;34m\u001b[0m\u001b[0m\n",
      "\u001b[0;32m~/temp/pysap-mri/mri/operators/fourier/non_cartesian.py\u001b[0m in \u001b[0;36madj_op\u001b[0;34m(self, coeffs)\u001b[0m\n\u001b[1;32m    441\u001b[0m             \u001b[0minverse\u001b[0m \u001b[0mdiscrete\u001b[0m \u001b[0mFourier\u001b[0m \u001b[0mtransform\u001b[0m \u001b[0mof\u001b[0m \u001b[0mthe\u001b[0m \u001b[0minput\u001b[0m \u001b[0mcoefficients\u001b[0m\u001b[0;34m.\u001b[0m\u001b[0;34m\u001b[0m\u001b[0;34m\u001b[0m\u001b[0m\n\u001b[1;32m    442\u001b[0m         \"\"\"\n\u001b[0;32m--> 443\u001b[0;31m         \u001b[0;32mreturn\u001b[0m \u001b[0mself\u001b[0m\u001b[0;34m.\u001b[0m\u001b[0mimplementation\u001b[0m\u001b[0;34m.\u001b[0m\u001b[0madj_op\u001b[0m\u001b[0;34m(\u001b[0m\u001b[0mcoeffs\u001b[0m\u001b[0;34m)\u001b[0m\u001b[0;34m\u001b[0m\u001b[0;34m\u001b[0m\u001b[0m\n\u001b[0m\u001b[1;32m    444\u001b[0m \u001b[0;34m\u001b[0m\u001b[0m\n\u001b[1;32m    445\u001b[0m \u001b[0;34m\u001b[0m\u001b[0m\n",
      "\u001b[0;32m~/temp/pysap-mri/mri/operators/fourier/non_cartesian.py\u001b[0m in \u001b[0;36madj_op\u001b[0;34m(self, x)\u001b[0m\n\u001b[1;32m    146\u001b[0m         \"\"\"\n\u001b[1;32m    147\u001b[0m         \u001b[0;32mif\u001b[0m \u001b[0mself\u001b[0m\u001b[0;34m.\u001b[0m\u001b[0mnb_coils\u001b[0m \u001b[0;34m==\u001b[0m \u001b[0;36m1\u001b[0m\u001b[0;34m:\u001b[0m\u001b[0;34m\u001b[0m\u001b[0;34m\u001b[0m\u001b[0m\n\u001b[0;32m--> 148\u001b[0;31m             \u001b[0mimg\u001b[0m \u001b[0;34m=\u001b[0m \u001b[0mself\u001b[0m\u001b[0;34m.\u001b[0m\u001b[0m_adj_op\u001b[0m\u001b[0;34m(\u001b[0m\u001b[0mx\u001b[0m\u001b[0;34m)\u001b[0m\u001b[0;34m\u001b[0m\u001b[0;34m\u001b[0m\u001b[0m\n\u001b[0m\u001b[1;32m    149\u001b[0m         \u001b[0;32melse\u001b[0m\u001b[0;34m:\u001b[0m\u001b[0;34m\u001b[0m\u001b[0;34m\u001b[0m\u001b[0m\n\u001b[1;32m    150\u001b[0m             img = [self._adj_op(x[i])\n",
      "\u001b[0;32m~/temp/pysap-mri/mri/operators/fourier/non_cartesian.py\u001b[0m in \u001b[0;36m_adj_op\u001b[0;34m(self, x)\u001b[0m\n\u001b[1;32m    129\u001b[0m     \u001b[0;32mdef\u001b[0m \u001b[0m_adj_op\u001b[0m\u001b[0;34m(\u001b[0m\u001b[0mself\u001b[0m\u001b[0;34m,\u001b[0m \u001b[0mx\u001b[0m\u001b[0;34m)\u001b[0m\u001b[0;34m:\u001b[0m\u001b[0;34m\u001b[0m\u001b[0;34m\u001b[0m\u001b[0m\n\u001b[1;32m    130\u001b[0m         \u001b[0mself\u001b[0m\u001b[0;34m.\u001b[0m\u001b[0mplan\u001b[0m\u001b[0;34m.\u001b[0m\u001b[0mf\u001b[0m \u001b[0;34m=\u001b[0m \u001b[0mx\u001b[0m\u001b[0;34m\u001b[0m\u001b[0;34m\u001b[0m\u001b[0m\n\u001b[0;32m--> 131\u001b[0;31m         \u001b[0;32mreturn\u001b[0m \u001b[0mnp\u001b[0m\u001b[0;34m.\u001b[0m\u001b[0mcopy\u001b[0m\u001b[0;34m(\u001b[0m\u001b[0mself\u001b[0m\u001b[0;34m.\u001b[0m\u001b[0mplan\u001b[0m\u001b[0;34m.\u001b[0m\u001b[0madjoint\u001b[0m\u001b[0;34m(\u001b[0m\u001b[0;34m)\u001b[0m\u001b[0;34m)\u001b[0m \u001b[0;34m/\u001b[0m \u001b[0mnp\u001b[0m\u001b[0;34m.\u001b[0m\u001b[0msqrt\u001b[0m\u001b[0;34m(\u001b[0m\u001b[0mself\u001b[0m\u001b[0;34m.\u001b[0m\u001b[0mplan\u001b[0m\u001b[0;34m.\u001b[0m\u001b[0mM\u001b[0m\u001b[0;34m)\u001b[0m\u001b[0;34m\u001b[0m\u001b[0;34m\u001b[0m\u001b[0m\n\u001b[0m\u001b[1;32m    132\u001b[0m \u001b[0;34m\u001b[0m\u001b[0m\n\u001b[1;32m    133\u001b[0m     \u001b[0;32mdef\u001b[0m \u001b[0madj_op\u001b[0m\u001b[0;34m(\u001b[0m\u001b[0mself\u001b[0m\u001b[0;34m,\u001b[0m \u001b[0mx\u001b[0m\u001b[0;34m)\u001b[0m\u001b[0;34m:\u001b[0m\u001b[0;34m\u001b[0m\u001b[0;34m\u001b[0m\u001b[0m\n",
      "\u001b[0;31mKeyboardInterrupt\u001b[0m: "
     ]
    }
   ],
   "source": [
    "niter = 0\n",
    "x,Emin,info = fmin_l_bfgs_b(E,p0,grad_E,bounds=[(0,1)]*n**2+[(0,np.inf)],pgtol=1e-11,\n",
    "                           maxfun=1000,maxiter=1000,\n",
    "                            callback = fcall)"
   ]
  },
  {
   "cell_type": "code",
   "execution_count": 176,
   "metadata": {
    "scrolled": true
   },
   "outputs": [
    {
     "name": "stdout",
     "output_type": "stream",
     "text": [
      "\n",
      "Evaluating E(p)\n",
      "Finished in 0.11043310165405273 seconds.\n",
      "\n",
      "Evaluating E(p)\n",
      "Finished in 0.14274215698242188 seconds.\n",
      "1.6939558400073071e-07 2.5073300245877407e-07\n"
     ]
    }
   ],
   "source": [
    "pf = res.x\n",
    "print(E(p0),E(pf))"
   ]
  },
  {
   "cell_type": "code",
   "execution_count": 177,
   "metadata": {},
   "outputs": [
    {
     "name": "stdout",
     "output_type": "stream",
     "text": [
      "1e-06\n"
     ]
    }
   ],
   "source": [
    "print(pf[-1])\n",
    "pysap.Image(data=np.reshape(pf[:-1],(n,n))).show()"
   ]
  },
  {
   "cell_type": "code",
   "execution_count": 155,
   "metadata": {
    "scrolled": true
   },
   "outputs": [
    {
     "name": "stdout",
     "output_type": "stream",
     "text": [
      "10  iterations:\n",
      "Cost: 5.439026602966341e-09 \n",
      "Norm: 0.05660764219612862 \n",
      "\n",
      "20  iterations:\n",
      "Cost: 5.407972516679958e-09 \n",
      "Norm: 0.0032040722098140182 \n",
      "\n",
      "30  iterations:\n",
      "Cost: 5.404728919283458e-09 \n",
      "Norm: 0.000783407474819563 \n",
      "\n",
      "40  iterations:\n",
      "Cost: 5.404112860901755e-09 \n",
      "Norm: 0.0004767721406664516 \n",
      "\n",
      "50  iterations:\n",
      "Cost: 5.403884315288288e-09 \n",
      "Norm: 0.00029591305762731424 \n",
      "\n",
      "60  iterations:\n",
      "Cost: 5.403825572224563e-09 \n",
      "Norm: 0.00023286996158221196 \n",
      "\n",
      "70  iterations:\n",
      "Cost: 5.403800844474262e-09 \n",
      "Norm: 0.00014362952059123938 \n",
      "\n",
      "80  iterations:\n",
      "Cost: 5.403789203350742e-09 \n",
      "Norm: 9.665309261932059e-05 \n",
      "\n",
      "Finished in 0.6531422138214111 seconds.\n",
      "0.8858134658938746\n"
     ]
    },
    {
     "data": {
      "image/png": "[encoded data removed]",
      "text/plain": [
       "<Figure size 432x288 with 1 Axes>"
      ]
     },
     "metadata": {
      "needs_background": "light"
     },
     "output_type": "display_data"
    },
    {
     "data": {
      "image/png": "[encoded data removed]",
      "text/plain": [
       "<Figure size 432x288 with 1 Axes>"
      ]
     },
     "metadata": {
      "needs_background": "light"
     },
     "output_type": "display_data"
    }
   ],
   "source": [
    "uk,norms,energy,ssims = pdhg(y,pf[:-1],fourier_op,linear_op,param,real_image=u0_mat,maxit=100)\n",
    "print(ssim(uk,u0_mat))\n",
    "\n",
    "plt.figure()\n",
    "plt.plot(ssims)\n",
    "plt.title(\"Evolution of ssim\")\n",
    "plt.show()\n",
    "\n",
    "plt.figure()\n",
    "plt.plot(energy)\n",
    "plt.title(\"Evolution of energy\")\n",
    "plt.yscale(\"log\")\n",
    "plt.show()\n",
    "\n",
    "pysap.Image(data=uk).show()"
   ]
  }
 ],
 "metadata": {
  "kernelspec": {
   "display_name": "Python 3",
   "language": "python",
   "name": "python3"
  },
  "language_info": {
   "codemirror_mode": {
    "name": "ipython",
    "version": 3
   },
   "file_extension": ".py",
   "mimetype": "text/x-python",
   "name": "python",
   "nbconvert_exporter": "python",
   "pygments_lexer": "ipython3",
   "version": "3.7.3"
  }
 },
 "nbformat": 4,
 "nbformat_minor": 2
}
