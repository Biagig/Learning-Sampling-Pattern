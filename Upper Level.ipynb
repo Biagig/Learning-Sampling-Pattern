{
 "cells": [
  {
   "cell_type": "code",
   "execution_count": 1,
   "metadata": {
    "scrolled": true
   },
   "outputs": [
    {
     "name": "stdout",
     "output_type": "stream",
     "text": [
      "\n",
      "                 .|'''|       /.\\      '||'''|,\n",
      "                 ||          // \\\\      ||   ||\n",
      "'||''|, '||  ||` `|'''|,    //...\\\\     ||...|'\n",
      " ||  ||  `|..||   .   ||   //     \\\\    ||\n",
      " ||..|'      ||   |...|' .//       \\\\. .||\n",
      " ||       ,  |'\n",
      ".||        ''\n",
      "\n",
      "Package version: 0.0.3\n",
      "\n",
      "License: CeCILL-B\n",
      "\n",
      "Authors: \n",
      "\n",
      "Antoine Grigis <antoine.grigis@cea.fr>\n",
      "Samuel Farrens <samuel.farrens@cea.fr>\n",
      "Jean-Luc Starck <jl.stark@cea.fr>\n",
      "Philippe Ciuciu <philippe.ciuciu@cea.fr>\n",
      "\n",
      "Dependencies: \n",
      "\n",
      "scipy          : >=1.3.0   - required | 1.3.0     installed\n",
      "numpy          : >=1.16.4  - required | 1.16.4    installed\n",
      "matplotlib     : >=3.0.0   - required | 3.1.1     installed\n",
      "astropy        : >=3.0.0   - required | 3.2.1     installed\n",
      "nibabel        : >=2.3.2   - required | 2.5.1     installed\n",
      "pyqtgraph      : >=0.10.0  - required | 0.10.0    installed\n",
      "progressbar2   : >=3.34.3  - required | ?         installed\n",
      "modopt         : >=1.4.0   - required | 1.4.1     installed\n",
      "scikit-learn   : >=0.19.1  - required | ?         installed\n",
      "pywt           : >=1.0.0   - required | 1.0.3     installed\n",
      "pysparse       : >=0.0.1   - required | 0.1.0     installed\n",
      "\n"
     ]
    }
   ],
   "source": [
    "from mri.operators import NonCartesianFFT, WaveletUD2, WaveletN\n",
    "import pysap\n",
    "from pysap.data import get_sample_data\n",
    "from mri.operators.utils import convert_mask_to_locations, convert_locations_to_mask\n",
    "from modopt.math.metrics import ssim\n",
    "import matplotlib.pyplot as plt\n",
    "import numpy as np"
   ]
  },
  {
   "cell_type": "code",
   "execution_count": 2,
   "metadata": {},
   "outputs": [],
   "source": [
    "# Lower level imports\n",
    "from algo.prox import prox_G,prox_F1_dual,prox_F2_dual\n",
    "from algo.pdhg import pdhg\n",
    "from algo.cost_utils import *\n",
    "\n",
    "#Upper level imports\n",
    "from scipy.sparse.linalg import cg,LinearOperator\n",
    "import scipy\n",
    "import time\n",
    "from algo.upper_level_utils import *\n",
    "from scipy.optimize.lbfgsb import fmin_l_bfgs_b"
   ]
  },
  {
   "cell_type": "code",
   "execution_count": 3,
   "metadata": {},
   "outputs": [],
   "source": [
    "u0 = get_sample_data('2d-mri')\n",
    "u0_mat = (1+0j)*u0.data[125:175,125:175]"
   ]
  },
  {
   "cell_type": "code",
   "execution_count": 4,
   "metadata": {},
   "outputs": [
    {
     "name": "stderr",
     "output_type": "stream",
     "text": [
      "/home/guillaume/temp/pysap-mri/mri/operators/fourier/utils.py:78: FutureWarning: Using a non-tuple sequence for multidimensional indexing is deprecated; use `arr[tuple(seq)]` instead of `arr[seq]`. In the future this will be interpreted as an array index, `arr[np.array(seq)]`, which will result either in an error or a different result.\n",
      "  mask[test] = 1\n"
     ]
    }
   ],
   "source": [
    "n=u0_mat.shape[0]\n",
    "x = np.linspace(0,n,n,endpoint=False)/n-0.5\n",
    "y = np.linspace(0,n,n,endpoint=False)/n-0.5\n",
    "X,Y = np.meshgrid(x,y)\n",
    "kspace_loc = np.stack([X.flatten('F'),Y.flatten('F')],axis=1)\n",
    "\n",
    "m = convert_locations_to_mask(kspace_loc,u0_mat.shape)\n",
    "fourier_op = NonCartesianFFT(samples=kspace_loc, shape=u0_mat.shape,implementation='cpu')\n",
    "\n",
    "y = (1+0j)*fourier_op.op(u0_mat)+1e-7*np.random.randn(2*n*n).view(np.complex128)"
   ]
  },
  {
   "cell_type": "code",
   "execution_count": 5,
   "metadata": {},
   "outputs": [],
   "source": [
    "#Subsampling: From pysap radial mask \n",
    "radial_mask = get_sample_data(\"mri-radial-samples\")\n",
    "radial_kspace_loc = radial_mask.data\n",
    "radial_p = np.zeros((n*n+1,))\n",
    "\n",
    "ind1 = ((n-1)*(radial_kspace_loc[:,0]+0.5)).astype(int)\n",
    "ind2 = ((n-1)*(radial_kspace_loc[:,1]+0.5)).astype(int)\n",
    "radial_p[n*ind1+ind2]=1\n",
    "radial_p[-1]=1e-6\n",
    "p = np.copy(radial_p)\n",
    "\n",
    "#Wavelet\n",
    "linear_op = WaveletN(wavelet_name=\"sym8\",nb_scale=3,padding_mode = \"periodization\")\n",
    "#linear_op = WaveletUD2(wavelet_id=24,nb_scale=3)\n",
    "\n",
    "param = {\"pn1\":p[-1],\"epsilon\":1e-5,\"gamma\":1e-10}\n"
   ]
  },
  {
   "cell_type": "code",
   "execution_count": 6,
   "metadata": {},
   "outputs": [],
   "source": [
    "pysap.Image(data=np.reshape(radial_p[:-1],(n,n))).show()"
   ]
  },
  {
   "cell_type": "code",
   "execution_count": 7,
   "metadata": {},
   "outputs": [
    {
     "name": "stdout",
     "output_type": "stream",
     "text": [
      "0.9864636221509772\n"
     ]
    }
   ],
   "source": [
    "print(ssim(fourier_op.adj_op(p[:-1]*y),u0_mat))\n",
    "pysap.Image(data=fourier_op.adj_op(p[:-1]*y)).show()"
   ]
  },
  {
   "cell_type": "code",
   "execution_count": 8,
   "metadata": {},
   "outputs": [
    {
     "name": "stderr",
     "output_type": "stream",
     "text": [
      "/home/guillaume/anaconda3/lib/python3.7/site-packages/pywt/_multilevel.py:45: UserWarning: Level value of 3 is too high: all coefficients will experience boundary effects.\n",
      "  \"boundary effects.\").format(level))\n"
     ]
    },
    {
     "data": {
      "text/plain": [
       "(2578,)"
      ]
     },
     "execution_count": 8,
     "metadata": {},
     "output_type": "execute_result"
    }
   ],
   "source": [
    "linear_op.op(u0_mat).shape"
   ]
  },
  {
   "cell_type": "markdown",
   "metadata": {},
   "source": [
    "# Definition of functions\n",
    "Only for one linear operator for the moment (wavelet)."
   ]
  },
  {
   "cell_type": "code",
   "execution_count": 9,
   "metadata": {
    "scrolled": true
   },
   "outputs": [
    {
     "data": {
      "text/plain": [
       "[<matplotlib.lines.Line2D at 0x7f86329ca550>]"
      ]
     },
     "execution_count": 9,
     "metadata": {},
     "output_type": "execute_result"
    },
    {
     "data": {
      "image/png": "[encoded data removed]",
      "text/plain": [
       "<Figure size 432x288 with 1 Axes>"
      ]
     },
     "metadata": {
      "needs_background": "light"
     },
     "output_type": "display_data"
    }
   ],
   "source": [
    "x = np.linspace(0.1*param[\"gamma\"],3*param[\"gamma\"],200)\n",
    "plt.plot(x,phi_vec(x,param[\"gamma\"]))"
   ]
  },
  {
   "cell_type": "code",
   "execution_count": 10,
   "metadata": {},
   "outputs": [
    {
     "data": {
      "text/plain": [
       "array([-0.35355339-0.35355339j])"
      ]
     },
     "execution_count": 10,
     "metadata": {},
     "output_type": "execute_result"
    }
   ],
   "source": [
    "psix_vec(np.array([1+1j]),1e-10)"
   ]
  },
  {
   "cell_type": "markdown",
   "metadata": {},
   "source": [
    "# Functions and first order derivatives"
   ]
  },
  {
   "cell_type": "code",
   "execution_count": 11,
   "metadata": {},
   "outputs": [],
   "source": [
    "#Base functions\n",
    "def Eeps(x,p):return param[\"epsilon\"]/2*np.linalg.norm(x)**2\n",
    "def Edata(x,p):return 0.5*np.linalg.norm(p[:-1]**2*(fourier_op.op(x)-y))**2\n",
    "def Ereg(x,p):return p[-1]*np.sum(rho_vec(np.abs(linear_op.op(x)),param[\"gamma\"]))\n",
    "def Etot(x,p):return Eeps(x,p)+Edata(x,p)+Ereg(x,p)\n",
    "\n",
    "#First order derivatives\n",
    "def Du_Eeps(x,p):return param[\"epsilon\"]*x\n",
    "def Du_Edata(x,p):return fourier_op.adj_op(p[:-1]*(fourier_op.op(x)-y))\n",
    "def Du_Ereg(x,p):\n",
    "    lin_x = linear_op.op(x)\n",
    "    return p[-1]*linear_op.adj_op(phi_vec(np.abs(lin_x),param[\"gamma\"])*lin_x)\n",
    "def Du_Etot(x,p):return Du_Eeps(x,p)+Du_Edata(x,p)+Du_Ereg(x,p)"
   ]
  },
  {
   "cell_type": "markdown",
   "metadata": {},
   "source": [
    "### Numerical check\n",
    "Plots of $\\left|\\frac{f(a+th)-f(a)-<\\mathcal{Re}(\\nabla f(a)),\\mathcal{Re}(th)>-<\\mathcal{Im}(\\nabla f(a)),\\mathcal{Im}(th)>}{t}\\right|$ for $t\\rightarrow 0$."
   ]
  },
  {
   "cell_type": "code",
   "execution_count": 12,
   "metadata": {},
   "outputs": [
    {
     "data": {
      "image/png": "[encoded data removed]",
      "text/plain": [
       "<Figure size 432x288 with 1 Axes>"
      ]
     },
     "metadata": {
      "needs_background": "light"
     },
     "output_type": "display_data"
    }
   ],
   "source": [
    "# -- Eeps --\n",
    "#Two random vectors with same amplitude\n",
    "a = np.random.randn(2*n**2).view(np.complex128).reshape((n,n))/n*np.linalg.norm(u0_mat)\n",
    "a2 = np.random.randn(2*n**2).view(np.complex128).reshape((n,n))/n*np.linalg.norm(u0_mat)\n",
    "\n",
    "tests = np.logspace(-8,0,50)\n",
    "real_values = np.array([Eeps(a+t*a2,radial_p) for t in tests])\n",
    "approx = np.array([Eeps(a,radial_p)+t*np.sum(np.real(Du_Eeps(a,radial_p))*np.real(a2)+\n",
    "                                          np.imag(Du_Eeps(a,radial_p))*np.imag(a2)) for t in tests])\n",
    "\n",
    "plt.plot(tests,np.abs((real_values-approx))/tests)\n",
    "plt.xscale(\"log\")\n",
    "plt.yscale(\"log\")"
   ]
  },
  {
   "cell_type": "code",
   "execution_count": 13,
   "metadata": {},
   "outputs": [
    {
     "name": "stdout",
     "output_type": "stream",
     "text": [
      "1.8530144792056314e-07\n"
     ]
    },
    {
     "data": {
      "image/png": "[encoded data removed]",
      "text/plain": [
       "<Figure size 432x288 with 1 Axes>"
      ]
     },
     "metadata": {
      "needs_background": "light"
     },
     "output_type": "display_data"
    }
   ],
   "source": [
    "# -- Edata --\n",
    "#Random vector with same amplitude as u0\n",
    "a = np.random.randn(2*n**2).view(np.complex128).reshape((n,n))/n*np.linalg.norm(u0_mat)\n",
    "a2 = np.random.randn(2*n*n).view(np.complex128).reshape((n,n))/n*np.linalg.norm(u0_mat)\n",
    "\n",
    "p=radial_p\n",
    "tests = np.logspace(-8,0,30)\n",
    "real_values = np.array([Edata(a+t*a2,p) for t in tests])\n",
    "approx = np.array([Edata(a,p)+np.sum(np.real(Du_Edata(a,radial_p))*np.real(t*a2)+\n",
    "                                          np.imag(Du_Edata(a,radial_p))*np.imag(t*a2)) for t in tests])\n",
    "\n",
    "print(Edata(a,radial_p))\n",
    "plt.plot(tests,np.abs((real_values-approx))/tests)\n",
    "plt.xscale(\"log\")\n",
    "plt.yscale(\"log\")"
   ]
  },
  {
   "cell_type": "code",
   "execution_count": 14,
   "metadata": {},
   "outputs": [
    {
     "name": "stdout",
     "output_type": "stream",
     "text": [
      "2.5229608279130836e-08\n"
     ]
    },
    {
     "data": {
      "image/png": "[encoded data removed]",
      "text/plain": [
       "<Figure size 432x288 with 1 Axes>"
      ]
     },
     "metadata": {
      "needs_background": "light"
     },
     "output_type": "display_data"
    }
   ],
   "source": [
    "# -- Ereg --\n",
    "#Random vector with same amplitude as u0\n",
    "a = np.random.randn(2*n*n).view(np.complex128).reshape((n,n))/n*np.linalg.norm(u0_mat)\n",
    "a2 = np.random.randn(2*n*n).view(np.complex128).reshape((n,n))/n*np.linalg.norm(u0_mat)\n",
    "\n",
    "tests = np.logspace(-8,0,50)\n",
    "real_values = np.array([Ereg(a+t*a2,radial_p) for t in tests])\n",
    "approx = np.array([Ereg(a,radial_p)+t*np.sum(np.real(Du_Ereg(a,radial_p))*np.real(a2)+\n",
    "                                          np.imag(Du_Ereg(a,radial_p))*np.imag(a2)) for t in tests])\n",
    "\n",
    "print(Ereg(a,radial_p))\n",
    "plt.plot(tests,np.abs((real_values-approx))/tests)\n",
    "plt.xscale(\"log\")\n",
    "plt.yscale(\"log\")"
   ]
  },
  {
   "cell_type": "code",
   "execution_count": 15,
   "metadata": {},
   "outputs": [
    {
     "name": "stdout",
     "output_type": "stream",
     "text": [
      "-2.18838902857029e-19\n"
     ]
    },
    {
     "data": {
      "text/plain": [
       "<matplotlib.legend.Legend at 0x7f85f641bb70>"
      ]
     },
     "execution_count": 15,
     "metadata": {},
     "output_type": "execute_result"
    },
    {
     "data": {
      "image/png": "[encoded data removed]",
      "text/plain": [
       "<Figure size 432x288 with 1 Axes>"
      ]
     },
     "metadata": {
      "needs_background": "light"
     },
     "output_type": "display_data"
    }
   ],
   "source": [
    "print(real_values[0]-approx[0])\n",
    "limit = 10\n",
    "plt.plot(tests[:limit],real_values[:limit],label=\"real values\")\n",
    "plt.plot(tests[:limit],approx[:limit],label=\"linear approximation\")\n",
    "plt.xscale(\"log\")\n",
    "plt.yscale(\"log\")\n",
    "plt.legend()"
   ]
  },
  {
   "cell_type": "code",
   "execution_count": 20,
   "metadata": {},
   "outputs": [
    {
     "name": "stdout",
     "output_type": "stream",
     "text": [
      "2.0419354610854015e-07\n"
     ]
    },
    {
     "data": {
      "image/png": "[encoded data removed]",
      "text/plain": [
       "<Figure size 432x288 with 1 Axes>"
      ]
     },
     "metadata": {
      "needs_background": "light"
     },
     "output_type": "display_data"
    }
   ],
   "source": [
    "# -- Etot --\n",
    "#Random vector with same amplitude as u0\n",
    "a = np.random.randn(2*n*n).view(np.complex128).reshape((n,n))/n*np.linalg.norm(u0_mat)\n",
    "a2 = np.random.randn(2*n*n).view(np.complex128).reshape((n,n))/n*np.linalg.norm(u0_mat)\n",
    "\n",
    "tests = np.logspace(-10,-2,30)\n",
    "real_values = np.array([Etot(a+t*a2,radial_p) for t in tests])\n",
    "approx = np.array([Etot(a,radial_p)+t*np.sum(np.real(Du_Etot(a,radial_p))*np.real(a2)+\n",
    "                                          np.imag(Du_Etot(a,radial_p))*np.imag(a2))for t in tests])\n",
    "\n",
    "print(Etot(a,radial_p))\n",
    "plt.plot(tests,np.abs((real_values-approx))/tests)\n",
    "plt.xscale(\"log\")\n",
    "plt.yscale(\"log\")"
   ]
  },
  {
   "cell_type": "code",
   "execution_count": 21,
   "metadata": {},
   "outputs": [
    {
     "data": {
      "text/plain": [
       "<matplotlib.legend.Legend at 0x7f85f64dfa20>"
      ]
     },
     "execution_count": 21,
     "metadata": {},
     "output_type": "execute_result"
    },
    {
     "data": {
      "image/png": "[encoded data removed]",
      "text/plain": [
       "<Figure size 432x288 with 1 Axes>"
      ]
     },
     "metadata": {
      "needs_background": "light"
     },
     "output_type": "display_data"
    }
   ],
   "source": [
    "plt.plot(tests,real_values,label=\"real values\")\n",
    "plt.plot(tests,approx,label=\"linear approximation\")\n",
    "plt.xscale(\"log\")\n",
    "plt.yscale(\"log\")\n",
    "plt.legend()"
   ]
  },
  {
   "cell_type": "markdown",
   "metadata": {},
   "source": [
    "# Second order derivatives\n",
    "We don't express the hessians as matrices but as linear operators."
   ]
  },
  {
   "cell_type": "code",
   "execution_count": 22,
   "metadata": {},
   "outputs": [],
   "source": [
    "def Du2_Eeps(u,p,w):return param[\"epsilon\"]*w\n",
    "def Du2_Edata(u,p,w):return fourier_op.adj_op(p[:-1]**2*fourier_op.op(w))\n",
    "def Du2_Ereg(u,p,w):\n",
    "    lin_u = linear_op.op(u)\n",
    "    lin_w = linear_op.op(w)\n",
    "    psix_Au = psix_vec(lin_u,param[\"gamma\"])\n",
    "    phi_Au = phi_vec(np.abs(lin_u),param[\"gamma\"])\n",
    "    \n",
    "    part1 = psix_Au*(np.real(lin_u)*np.real(lin_w)+np.imag(lin_u)*np.imag(lin_w))\n",
    "    part2 = phi_Au*lin_w\n",
    "    return p[-1]*(linear_op.adj_op(part1+part2))\n",
    "def Du2_Etot(u,p,w):return Du2_Eeps(u,p,w)+Du2_Edata(u,p,w)+Du2_Ereg(u,p,w)"
   ]
  },
  {
   "cell_type": "code",
   "execution_count": 23,
   "metadata": {
    "scrolled": true
   },
   "outputs": [
    {
     "name": "stdout",
     "output_type": "stream",
     "text": [
      "5.400724547107898e-09\n"
     ]
    },
    {
     "data": {
      "image/png": "[encoded data removed]",
      "text/plain": [
       "<Figure size 432x288 with 1 Axes>"
      ]
     },
     "metadata": {
      "needs_background": "light"
     },
     "output_type": "display_data"
    }
   ],
   "source": [
    "# -- Eeps --\n",
    "#Two random vectors with same amplitude\n",
    "a = np.random.randn(2*n**2).view(np.complex128).reshape((n,n))/n*np.linalg.norm(u0_mat)\n",
    "a2 = np.random.randn(2*n**2).view(np.complex128).reshape((n,n))/n*np.linalg.norm(u0_mat)\n",
    "\n",
    "ntest=30\n",
    "tests = np.logspace(-8,0,ntest)\n",
    "Dua = Du_Eeps(a,p)\n",
    "real = []\n",
    "approx = []\n",
    "for t in tests:\n",
    "    real.append(Du_Eeps(a+t*a2,p))\n",
    "    approx.append(Dua+Du2_Eeps(a,p,t*a2))\n",
    "\n",
    "print(np.linalg.norm(Dua))\n",
    "plt.plot(tests,np.array([np.linalg.norm(real[i]-approx[i]) for i in range(ntest)])/tests)\n",
    "plt.xscale(\"log\")\n",
    "plt.yscale(\"log\")"
   ]
  },
  {
   "cell_type": "code",
   "execution_count": 24,
   "metadata": {},
   "outputs": [
    {
     "name": "stdout",
     "output_type": "stream",
     "text": [
      "0.0006235299095322859\n"
     ]
    },
    {
     "data": {
      "image/png": "[encoded data removed]",
      "text/plain": [
       "<Figure size 432x288 with 1 Axes>"
      ]
     },
     "metadata": {
      "needs_background": "light"
     },
     "output_type": "display_data"
    }
   ],
   "source": [
    "# -- Edata --\n",
    "#Two random vectors with same amplitude\n",
    "a = np.random.randn(2*n**2).view(np.complex128).reshape((n,n))/n*np.linalg.norm(u0_mat)\n",
    "a2 = np.random.randn(2*n**2).view(np.complex128).reshape((n,n))/n*np.linalg.norm(u0_mat)\n",
    "\n",
    "ntest=30\n",
    "tests = np.logspace(-8,0,ntest)\n",
    "real = []\n",
    "approx = []\n",
    "Dua = Du_Edata(a,radial_p)\n",
    "for t in tests:\n",
    "    real.append(Du_Edata(a+t*a2,radial_p))\n",
    "    approx.append(Dua+t*Du2_Edata(a,radial_p,a2))\n",
    "\n",
    "print(np.linalg.norm(Dua))\n",
    "plt.plot(tests,np.array([np.linalg.norm(real[i]-approx[i]) for i in range(ntest)])/tests)\n",
    "plt.xscale(\"log\")\n",
    "plt.yscale(\"log\")"
   ]
  },
  {
   "cell_type": "code",
   "execution_count": 25,
   "metadata": {},
   "outputs": [
    {
     "name": "stdout",
     "output_type": "stream",
     "text": [
      "5.011507428921614e-05\n"
     ]
    },
    {
     "data": {
      "image/png": "[encoded data removed]",
      "text/plain": [
       "<Figure size 432x288 with 1 Axes>"
      ]
     },
     "metadata": {
      "needs_background": "light"
     },
     "output_type": "display_data"
    }
   ],
   "source": [
    "# -- Ereg --\n",
    "#Two random vectors with same amplitude\n",
    "a = np.random.randn(2*n**2).view(np.complex128).reshape((n,n))/n*np.linalg.norm(u0_mat)\n",
    "a2 = np.random.randn(2*n**2).view(np.complex128).reshape((n,n))/n*np.linalg.norm(u0_mat)\n",
    "\n",
    "ntest=50\n",
    "tests = np.logspace(-8,0,ntest)\n",
    "real = []\n",
    "approx = []\n",
    "Dua = Du_Ereg(a,radial_p)\n",
    "for t in tests:\n",
    "    real.append(Du_Ereg(a+t*a2,radial_p))\n",
    "    approx.append(Dua+Du2_Ereg(a,radial_p,t*a2))\n",
    "\n",
    "print(np.linalg.norm(Dua))\n",
    "plt.plot(tests,np.array([np.linalg.norm(real[i]-approx[i]) for i in range(ntest)])/tests)\n",
    "plt.xscale(\"log\")\n",
    "plt.yscale(\"log\")"
   ]
  },
  {
   "cell_type": "code",
   "execution_count": 26,
   "metadata": {},
   "outputs": [
    {
     "name": "stdout",
     "output_type": "stream",
     "text": [
      "0.0006443410171299116\n"
     ]
    },
    {
     "data": {
      "image/png": "[encoded data removed]",
      "text/plain": [
       "<Figure size 432x288 with 1 Axes>"
      ]
     },
     "metadata": {
      "needs_background": "light"
     },
     "output_type": "display_data"
    }
   ],
   "source": [
    "# -- Etot --\n",
    "#Two random vectors with same amplitude\n",
    "a = np.random.randn(2*n**2).view(np.complex128).reshape((n,n))/n*np.linalg.norm(u0_mat)\n",
    "a2 = np.random.randn(2*n**2).view(np.complex128).reshape((n,n))/n*np.linalg.norm(u0_mat)\n",
    "\n",
    "ntest=20\n",
    "tests = np.logspace(-8,0,ntest)\n",
    "real = []\n",
    "approx = []\n",
    "for t in tests:\n",
    "    real.append(Du_Etot(a+t*a2,p))\n",
    "    approx.append(Du_Etot(a,p)+t*Du2_Etot(a,p,a2))\n",
    "\n",
    "print(np.linalg.norm(Du_Etot(a,p)))\n",
    "plt.plot(tests,np.array([np.linalg.norm(real[i]-approx[i]) for i in range(ntest)])/tests)\n",
    "plt.xscale(\"log\")\n",
    "plt.yscale(\"log\")"
   ]
  },
  {
   "cell_type": "markdown",
   "metadata": {},
   "source": [
    "## Cross derivatives"
   ]
  },
  {
   "cell_type": "code",
   "execution_count": 27,
   "metadata": {},
   "outputs": [],
   "source": [
    "def Dpu_Edata(u,p,w):\n",
    "    Fu = fourier_op.op(u)-y\n",
    "    Fw = fourier_op.op(w)\n",
    "    return 2*p[:-1]*(np.real(Fu)*np.real(Fw)+np.imag(Fu)*np.imag(Fw))\n",
    "def Dpu_Ereg(u,p,w):\n",
    "    return p[-1]*np.sum(np.comp(w)*linear_op.adj_op(phi_vec(linear_op.op(u),param[\"gamma\"])*linear_op.op(u)))\n",
    "\n",
    "def Dpu_Etot(u,p,w):\n",
    "    g = np.zeros((n**2+1,))\n",
    "    g[:-1] = Dpu_Edata(u,p,w)\n",
    "    #Don't learn alpha for the moment\n",
    "    g[-1] = 0\n",
    "    #g[-1] = Dpu_Ereg(u,p,w)\n",
    "    return g"
   ]
  },
  {
   "cell_type": "markdown",
   "metadata": {},
   "source": [
    "## Loss function and penalty"
   ]
  },
  {
   "cell_type": "code",
   "execution_count": 28,
   "metadata": {},
   "outputs": [],
   "source": [
    "c = 1e0\n",
    "def L(u,u2):return c*np.sum(rho_vec(u-u2,param[\"gamma\"]))\n",
    "def grad_L(u,u2):return c*phix_vec(u-u2,param[\"gamma\"])\n",
    "\n",
    "beta = 0*c\n",
    "def P(p):return beta*np.linalg.norm(p[:-1])**2\n",
    "def grad_P(p):\n",
    "    Dp = 2*beta*p\n",
    "    Dp[-1] = 0\n",
    "    return Dp\n",
    "\n",
    "# def P(p):return beta*np.sum(p[:-1]*(2-p[:-1]))\n",
    "# def grad_P(p):\n",
    "#     Dp = np.zeros(n**2+1)\n",
    "#     Dp[:-1] = 2*beta*(1-p[:-1])\n",
    "#     return Dp"
   ]
  },
  {
   "cell_type": "code",
   "execution_count": 29,
   "metadata": {},
   "outputs": [
    {
     "name": "stdout",
     "output_type": "stream",
     "text": [
      "Sigma: 0.4472135954999579 \n",
      "Tau: 1.118033988749895\n",
      "Finished in 0.2942776679992676 seconds.\n",
      "\n",
      "L(u(p))=0.0010060418874037133\n",
      "P(p)=0.0\n"
     ]
    },
    {
     "name": "stderr",
     "output_type": "stream",
     "text": [
      "/home/guillaume/pysap-mri/Lower Level/algo/prox.py:14: RuntimeWarning: invalid value encountered in sqrt\n",
      "  x/np.abs(x)*(gamma+gamma**2/2/c-gamma/c*np.sqrt((c+0.5*gamma)**2-c*np.abs(x))))\n"
     ]
    }
   ],
   "source": [
    "param[\"pn1\"]=1e-6\n",
    "p = np.copy(radial_p)\n",
    "uk,norms,energy = pdhg(y,p[:-1],fourier_op,linear_op,param,maxit=20,verbose=0)\n",
    "print(f\"\\nL(u(p))={L(uk,u0_mat)}\\nP(p)={P(p)}\")"
   ]
  },
  {
   "cell_type": "markdown",
   "metadata": {},
   "source": [
    "# Upper level energy"
   ]
  },
  {
   "cell_type": "code",
   "execution_count": 30,
   "metadata": {},
   "outputs": [],
   "source": [
    "def E(pk):\n",
    "    print(\"\\nEvaluating E(p)\")\n",
    "    param[\"pn1\"]=pk[-1]\n",
    "    uk,norms = pdhg(y,pk[:-1],fourier_op,linear_op,param,compute_energy=False,maxit=20,verbose=0)\n",
    "    return L(uk,u0_mat)+P(pk)\n",
    "\n",
    "cgconv = []\n",
    "def grad_E(pk,max_cgiter=1000,tol=1e-8,compute_conv=False):\n",
    "    global cgconv\n",
    "    #Update alpha(p)\n",
    "    param[\"pn1\"]=pk[-1]\n",
    "    print(\"\\nStarting PDHG\")\n",
    "    uk,norms = pdhg(y,pk[:-1],fourier_op,linear_op,param,compute_energy=False,maxit=50,verbose=0)\n",
    "    \n",
    "    #Defining linear operator from pk and uk\n",
    "    def mv(w):\n",
    "        w = np.reshape(w,(n,n))\n",
    "        return np.reshape(Du2_Etot(uk,pk,w),(n**2,))\n",
    "    \n",
    "    \n",
    "    # -- Use cg to compute gradient --\n",
    "    lin = LinearOperator((n**2,n**2),matvec=mv)\n",
    "    B = np.reshape(np.conj(grad_L(uk,u0_mat)),(n**2,)).transpose()\n",
    "    def cgcall(x):\n",
    "        if compute_conv:cgconv.append(np.linalg.norm(lin(x)-B)/np.linalg.norm(B))\n",
    "    \n",
    "    t1=time.time()\n",
    "    print(\"\\nStarting Conjugate Gradient method\")\n",
    "    x_inter,convergence = cg(lin,B,tol=tol,maxiter=max_cgiter,callback=cgcall)\n",
    "    print(f\"Finished in {time.time()-t1}s - ||Ax-b||/||b||: {np.linalg.norm(lin(x_inter)-B)/np.linalg.norm(B)}\")\n",
    "    \n",
    "    #Apply DpuE\n",
    "    return -Dpu_Etot(uk,pk,np.reshape(x_inter,(n,n)))+grad_P(pk)\n",
    "\n",
    "# Callback function\n",
    "niter = 0\n",
    "def fcall(x):\n",
    "    global uk,niter\n",
    "    niter += 1\n",
    "    print(\"\\033[1m\" + f\"\\n{niter} iterations: ssim={ssim(uk,u0_mat)}\\n\\n\" + \"\\033[0m\")"
   ]
  },
  {
   "cell_type": "code",
   "execution_count": 31,
   "metadata": {
    "scrolled": true
   },
   "outputs": [
    {
     "name": "stdout",
     "output_type": "stream",
     "text": [
      "\n",
      "Starting PDHG\n",
      "Sigma: 0.4472135954999579 \n",
      "Tau: 1.118033988749895\n",
      "Finished in 0.32491230964660645 seconds.\n",
      "\n",
      "Starting Conjugate Gradient method\n",
      "Finished in 14.149818181991577s - ||Ax-b||/||b||: 47.754889671131345\n"
     ]
    }
   ],
   "source": [
    "#Checking if conjugate gradient converges\n",
    "p=0.9*radial_p+0.1*np.random.rand(n**2+1)\n",
    "p[-1]=1e-6\n",
    "gP = grad_E(p,max_cgiter=1000,tol=1e-10,compute_conv=True)"
   ]
  },
  {
   "cell_type": "code",
   "execution_count": 32,
   "metadata": {},
   "outputs": [
    {
     "data": {
      "text/plain": [
       "Text(0, 0.5, '||Ax-b||/||b||')"
      ]
     },
     "execution_count": 32,
     "metadata": {},
     "output_type": "execute_result"
    },
    {
     "data": {
      "image/png": "[encoded data removed]",
      "text/plain": [
       "<Figure size 432x288 with 1 Axes>"
      ]
     },
     "metadata": {
      "needs_background": "light"
     },
     "output_type": "display_data"
    }
   ],
   "source": [
    "plt.plot(cgconv)\n",
    "plt.yscale(\"log\")\n",
    "plt.title(\"Convergence of the conjugate gradient\")\n",
    "plt.xlabel(\"Number of iterations\")\n",
    "plt.ylabel(\"||Ax-b||/||b||\")\n",
    "#plt.savefig(\"Upper Level/CG_conv.png\")"
   ]
  },
  {
   "cell_type": "code",
   "execution_count": 33,
   "metadata": {
    "scrolled": true
   },
   "outputs": [
    {
     "name": "stdout",
     "output_type": "stream",
     "text": [
      "\n",
      "Evaluating E(p)\n",
      "Sigma: 0.4472135954999579 \n",
      "Tau: 1.118033988749895\n",
      "Finished in 0.12996387481689453 seconds.\n",
      "\n",
      "Starting PDHG\n",
      "Sigma: 0.4472135954999579 \n",
      "Tau: 1.118033988749895\n",
      "Finished in 0.3029477596282959 seconds.\n",
      "\n",
      "Starting Conjugate Gradient method\n",
      "Finished in 7.3025147914886475s - ||Ax-b||/||b||: 71.9917085987378\n",
      "\n",
      "Evaluating E(p)\n",
      "Sigma: 0.4472135954999579 \n",
      "Tau: 1.118033988749895\n",
      "Finished in 0.11131548881530762 seconds.\n",
      "\n",
      "Evaluating E(p)\n",
      "Sigma: 0.4472135954999579 \n",
      "Tau: 1.118033988749895\n",
      "Finished in 0.15392374992370605 seconds.\n",
      "\n",
      "Evaluating E(p)\n",
      "Sigma: 0.4472135954999579 \n",
      "Tau: 1.118033988749895\n",
      "Finished in 0.11040878295898438 seconds.\n",
      "\n",
      "Evaluating E(p)\n",
      "Sigma: 0.4472135954999579 \n",
      "Tau: 1.118033988749895\n",
      "Finished in 0.12278056144714355 seconds.\n",
      "\n",
      "Evaluating E(p)\n",
      "Sigma: 0.4472135954999579 \n",
      "Tau: 1.118033988749895\n",
      "Finished in 0.11829757690429688 seconds.\n",
      "\n",
      "Evaluating E(p)\n",
      "Sigma: 0.4472135954999579 \n",
      "Tau: 1.118033988749895\n",
      "Finished in 0.1194005012512207 seconds.\n",
      "\n",
      "Evaluating E(p)\n",
      "Sigma: 0.4472135954999579 \n",
      "Tau: 1.118033988749895\n",
      "Finished in 0.11313962936401367 seconds.\n",
      "\n",
      "Evaluating E(p)\n",
      "Sigma: 0.4472135954999579 \n",
      "Tau: 1.118033988749895\n",
      "Finished in 0.12466859817504883 seconds.\n",
      "\n",
      "Evaluating E(p)\n",
      "Sigma: 0.4472135954999579 \n",
      "Tau: 1.118033988749895\n",
      "Finished in 0.1105964183807373 seconds.\n",
      "\n",
      "Evaluating E(p)\n",
      "Sigma: 0.4472135954999579 \n",
      "Tau: 1.118033988749895\n",
      "Finished in 0.12219500541687012 seconds.\n",
      "\n",
      "Evaluating E(p)\n",
      "Sigma: 0.4472135954999579 \n",
      "Tau: 1.118033988749895\n",
      "Finished in 0.1120297908782959 seconds.\n",
      "\n",
      "Evaluating E(p)\n",
      "Sigma: 0.4472135954999579 \n",
      "Tau: 1.118033988749895\n",
      "Finished in 0.12350940704345703 seconds.\n",
      "\n",
      "Evaluating E(p)\n",
      "Sigma: 0.4472135954999579 \n",
      "Tau: 1.118033988749895\n",
      "Finished in 0.11261820793151855 seconds.\n",
      "\n",
      "Evaluating E(p)\n",
      "Sigma: 0.4472135954999579 \n",
      "Tau: 1.118033988749895\n",
      "Finished in 0.12464618682861328 seconds.\n",
      "\n",
      "Evaluating E(p)\n",
      "Sigma: 0.4472135954999579 \n",
      "Tau: 1.118033988749895\n",
      "Finished in 0.12875819206237793 seconds.\n",
      "\n",
      "Evaluating E(p)\n",
      "Sigma: 0.4472135954999579 \n",
      "Tau: 1.118033988749895\n",
      "Finished in 0.16010689735412598 seconds.\n",
      "\n",
      "Evaluating E(p)\n",
      "Sigma: 0.4472135954999579 \n",
      "Tau: 1.118033988749895\n",
      "Finished in 0.1476893424987793 seconds.\n",
      "\n",
      "Evaluating E(p)\n",
      "Sigma: 0.4472135954999579 \n",
      "Tau: 1.118033988749895\n",
      "Finished in 0.18042230606079102 seconds.\n",
      "\n",
      "Evaluating E(p)\n",
      "Sigma: 0.4472135954999579 \n",
      "Tau: 1.118033988749895\n",
      "Finished in 0.11174535751342773 seconds.\n",
      "\n",
      "Evaluating E(p)\n",
      "Sigma: 0.4472135954999579 \n",
      "Tau: 1.118033988749895\n",
      "Finished in 0.12377619743347168 seconds.\n",
      "\n",
      "Evaluating E(p)\n",
      "Sigma: 0.4472135954999579 \n",
      "Tau: 1.118033988749895\n",
      "Finished in 0.11037564277648926 seconds.\n",
      "\n",
      "Evaluating E(p)\n",
      "Sigma: 0.4472135954999579 \n",
      "Tau: 1.118033988749895\n",
      "Finished in 0.12298178672790527 seconds.\n",
      "\n",
      "Evaluating E(p)\n",
      "Sigma: 0.4472135954999579 \n",
      "Tau: 1.118033988749895\n",
      "Finished in 0.11136269569396973 seconds.\n",
      "\n",
      "Evaluating E(p)\n",
      "Sigma: 0.4472135954999579 \n",
      "Tau: 1.118033988749895\n",
      "Finished in 0.12062549591064453 seconds.\n",
      "\n",
      "Evaluating E(p)\n",
      "Sigma: 0.4472135954999579 \n",
      "Tau: 1.118033988749895\n",
      "Finished in 0.11060762405395508 seconds.\n",
      "\n",
      "Evaluating E(p)\n",
      "Sigma: 0.4472135954999579 \n",
      "Tau: 1.118033988749895\n",
      "Finished in 0.12158656120300293 seconds.\n",
      "\n",
      "Evaluating E(p)\n",
      "Sigma: 0.4472135954999579 \n",
      "Tau: 1.118033988749895\n",
      "Finished in 0.11173892021179199 seconds.\n",
      "\n",
      "Evaluating E(p)\n",
      "Sigma: 0.4472135954999579 \n",
      "Tau: 1.118033988749895\n",
      "Finished in 0.12050557136535645 seconds.\n",
      "\n",
      "Evaluating E(p)\n",
      "Sigma: 0.4472135954999579 \n",
      "Tau: 1.118033988749895\n",
      "Finished in 0.11057162284851074 seconds.\n",
      "\n",
      "Evaluating E(p)\n",
      "Sigma: 0.4472135954999579 \n",
      "Tau: 1.118033988749895\n",
      "Finished in 0.12136483192443848 seconds.\n",
      "\n",
      "Evaluating E(p)\n",
      "Sigma: 0.4472135954999579 \n",
      "Tau: 1.118033988749895\n",
      "Finished in 0.11502981185913086 seconds.\n",
      "\n",
      "Evaluating E(p)\n",
      "Sigma: 0.4472135954999579 \n",
      "Tau: 1.118033988749895\n",
      "Finished in 0.12308263778686523 seconds.\n",
      "\n",
      "Evaluating E(p)\n",
      "Sigma: 0.4472135954999579 \n",
      "Tau: 1.118033988749895\n",
      "Finished in 0.11064887046813965 seconds.\n",
      "\n",
      "Evaluating E(p)\n",
      "Sigma: 0.4472135954999579 \n",
      "Tau: 1.118033988749895\n",
      "Finished in 0.12421560287475586 seconds.\n",
      "\n",
      "Evaluating E(p)\n",
      "Sigma: 0.4472135954999579 \n",
      "Tau: 1.118033988749895\n",
      "Finished in 0.11218023300170898 seconds.\n",
      "\n",
      "Evaluating E(p)\n",
      "Sigma: 0.4472135954999579 \n",
      "Tau: 1.118033988749895\n",
      "Finished in 0.12808942794799805 seconds.\n",
      "\n",
      "Evaluating E(p)\n",
      "Sigma: 0.4472135954999579 \n",
      "Tau: 1.118033988749895\n",
      "Finished in 0.11020517349243164 seconds.\n",
      "\n",
      "Evaluating E(p)\n",
      "Sigma: 0.4472135954999579 \n",
      "Tau: 1.118033988749895\n",
      "Finished in 0.12340903282165527 seconds.\n",
      "\n",
      "Evaluating E(p)\n",
      "Sigma: 0.4472135954999579 \n",
      "Tau: 1.118033988749895\n",
      "Finished in 0.11315560340881348 seconds.\n",
      "\n",
      "Evaluating E(p)\n",
      "Sigma: 0.4472135954999579 \n",
      "Tau: 1.118033988749895\n",
      "Finished in 0.1225275993347168 seconds.\n",
      "\n",
      "Evaluating E(p)\n",
      "Sigma: 0.4472135954999579 \n",
      "Tau: 1.118033988749895\n",
      "Finished in 0.10983562469482422 seconds.\n",
      "\n",
      "Evaluating E(p)\n",
      "Sigma: 0.4472135954999579 \n",
      "Tau: 1.118033988749895\n",
      "Finished in 0.12162613868713379 seconds.\n",
      "\n",
      "Evaluating E(p)\n",
      "Sigma: 0.4472135954999579 \n",
      "Tau: 1.118033988749895\n",
      "Finished in 0.11082029342651367 seconds.\n",
      "\n",
      "Evaluating E(p)\n",
      "Sigma: 0.4472135954999579 \n",
      "Tau: 1.118033988749895\n",
      "Finished in 0.12256741523742676 seconds.\n",
      "\n",
      "Evaluating E(p)\n",
      "Sigma: 0.4472135954999579 \n",
      "Tau: 1.118033988749895\n",
      "Finished in 0.11684107780456543 seconds.\n",
      "\n",
      "Evaluating E(p)\n",
      "Sigma: 0.4472135954999579 \n",
      "Tau: 1.118033988749895\n",
      "Finished in 0.12266850471496582 seconds.\n",
      "\n",
      "Evaluating E(p)\n",
      "Sigma: 0.4472135954999579 \n",
      "Tau: 1.118033988749895\n",
      "Finished in 0.11491608619689941 seconds.\n",
      "\n",
      "Evaluating E(p)\n",
      "Sigma: 0.4472135954999579 \n",
      "Tau: 1.118033988749895\n",
      "Finished in 0.12148857116699219 seconds.\n",
      "\n",
      "Evaluating E(p)\n",
      "Sigma: 0.4472135954999579 \n",
      "Tau: 1.118033988749895\n",
      "Finished in 0.11045002937316895 seconds.\n",
      "\n",
      "Evaluating E(p)\n",
      "Sigma: 0.4472135954999579 \n",
      "Tau: 1.118033988749895\n",
      "Finished in 0.12697696685791016 seconds.\n"
     ]
    }
   ],
   "source": [
    "# Checking gradE\n",
    "p0 = 0.9*radial_p+0.1*np.random.rand(n**2+1)\n",
    "p0[-1] = 1e-6\n",
    "Ep0,gradEp0 = E(p0),grad_E(p0)\n",
    "p1 = np.random.rand(n**2+1)\n",
    "\n",
    "tests = np.logspace(-15,0,50)\n",
    "real_values = np.array([E(p0+t*p1) for t in tests])\n",
    "approx = np.array([Ep0+t*np.sum(gradEp0*p1) for t in tests])"
   ]
  },
  {
   "cell_type": "code",
   "execution_count": 34,
   "metadata": {},
   "outputs": [
    {
     "name": "stdout",
     "output_type": "stream",
     "text": [
      "\n",
      "Evaluating E(p)\n",
      "Sigma: 0.4472135954999579 \n",
      "Tau: 1.118033988749895\n",
      "Finished in 0.12431597709655762 seconds.\n",
      "0.0010717619941464011\n"
     ]
    },
    {
     "data": {
      "image/png": "[encoded data removed]",
      "text/plain": [
       "<Figure size 432x288 with 1 Axes>"
      ]
     },
     "metadata": {
      "needs_background": "light"
     },
     "output_type": "display_data"
    }
   ],
   "source": [
    "print(E(p0))\n",
    "plt.plot(tests,abs((real_values-approx)/tests))\n",
    "plt.xscale(\"log\")\n",
    "plt.yscale(\"log\")"
   ]
  },
  {
   "cell_type": "code",
   "execution_count": 35,
   "metadata": {},
   "outputs": [
    {
     "data": {
      "text/plain": [
       "<matplotlib.legend.Legend at 0x7f85f646e7b8>"
      ]
     },
     "execution_count": 35,
     "metadata": {},
     "output_type": "execute_result"
    },
    {
     "data": {
      "image/png": "[encoded data removed]",
      "text/plain": [
       "<Figure size 432x288 with 1 Axes>"
      ]
     },
     "metadata": {
      "needs_background": "light"
     },
     "output_type": "display_data"
    }
   ],
   "source": [
    "plt.plot(tests,real_values,label=\"Real values\")\n",
    "plt.plot(tests,approx,label=\"Approximation\")\n",
    "plt.xscale(\"log\")\n",
    "plt.yscale(\"log\")\n",
    "plt.legend()"
   ]
  },
  {
   "cell_type": "markdown",
   "metadata": {},
   "source": [
    "# L-BFGS-B"
   ]
  },
  {
   "cell_type": "code",
   "execution_count": 89,
   "metadata": {},
   "outputs": [],
   "source": [
    "p0 = 0.9*p+0.1*np.random.rand(n**2+1)\n",
    "# p0 = np.random.rand(n**2+1)\n",
    "# p0=np.ones(n**2+1)\n",
    "p0[-1] = 1e-6"
   ]
  },
  {
   "cell_type": "code",
   "execution_count": 90,
   "metadata": {
    "scrolled": true
   },
   "outputs": [
    {
     "name": "stdout",
     "output_type": "stream",
     "text": [
      "\n",
      "Evaluating E(p)\n",
      "Sigma: 0.4472135954999579 \n",
      "Tau: 1.118033988749895\n",
      "Finished in 0.1196737289428711 seconds.\n",
      "\n",
      "Starting PDHG\n",
      "Sigma: 0.4472135954999579 \n",
      "Tau: 1.118033988749895\n",
      "Finished in 0.3165442943572998 seconds.\n",
      "\n",
      "Starting Conjugate Gradient method\n",
      "Finished in 6.518722057342529s - ||Ax-b||/||b||: 101.8714171606591\n",
      "\n",
      "Evaluating E(p)\n",
      "Sigma: 0.4472135954999579 \n",
      "Tau: 1.118033988749895\n",
      "Finished in 0.11062884330749512 seconds.\n",
      "\n",
      "Starting PDHG\n",
      "Sigma: 0.4472135954999579 \n",
      "Tau: 1.118033988749895\n",
      "Finished in 0.3113524913787842 seconds.\n",
      "\n",
      "Starting Conjugate Gradient method\n",
      "Finished in 6.6503074169158936s - ||Ax-b||/||b||: 101.87141734705509\n",
      "\n",
      "Evaluating E(p)\n",
      "Sigma: 0.4472135954999579 \n",
      "Tau: 1.118033988749895\n",
      "Finished in 0.1123356819152832 seconds.\n",
      "\n",
      "Starting PDHG\n",
      "Sigma: 0.4472135954999579 \n",
      "Tau: 1.118033988749895\n",
      "Finished in 0.29275012016296387 seconds.\n",
      "\n",
      "Starting Conjugate Gradient method\n",
      "Finished in 6.733741283416748s - ||Ax-b||/||b||: 101.87141728329362\n",
      "\n",
      "Evaluating E(p)\n",
      "Sigma: 0.4472135954999579 \n",
      "Tau: 1.118033988749895\n",
      "Finished in 0.11050796508789062 seconds.\n",
      "\n",
      "Starting PDHG\n",
      "Sigma: 0.4472135954999579 \n",
      "Tau: 1.118033988749895\n",
      "Finished in 0.29142117500305176 seconds.\n",
      "\n",
      "Starting Conjugate Gradient method\n",
      "Finished in 6.4821937084198s - ||Ax-b||/||b||: 101.87141701638114\n",
      "\n",
      "Evaluating E(p)\n",
      "Sigma: 0.4472135954999579 \n",
      "Tau: 1.118033988749895\n",
      "Finished in 0.11046743392944336 seconds.\n",
      "\n",
      "Starting PDHG\n",
      "Sigma: 0.4472135954999579 \n",
      "Tau: 1.118033988749895\n",
      "Finished in 0.29045653343200684 seconds.\n",
      "\n",
      "Starting Conjugate Gradient method\n",
      "Finished in 6.6157612800598145s - ||Ax-b||/||b||: 101.87141746739192\n",
      "\n",
      "Evaluating E(p)\n",
      "Sigma: 0.4472135954999579 \n",
      "Tau: 1.118033988749895\n",
      "Finished in 0.1106259822845459 seconds.\n",
      "\n",
      "Starting PDHG\n",
      "Sigma: 0.4472135954999579 \n",
      "Tau: 1.118033988749895\n",
      "Finished in 0.2978992462158203 seconds.\n",
      "\n",
      "Starting Conjugate Gradient method\n",
      "Finished in 6.497330665588379s - ||Ax-b||/||b||: 101.87141727001787\n",
      "\n",
      "Evaluating E(p)\n",
      "Sigma: 0.4472135954999579 \n",
      "Tau: 1.118033988749895\n",
      "Finished in 0.11057043075561523 seconds.\n",
      "\n",
      "Starting PDHG\n",
      "Sigma: 0.4472135954999579 \n",
      "Tau: 1.118033988749895\n",
      "Finished in 0.2885091304779053 seconds.\n",
      "\n",
      "Starting Conjugate Gradient method\n",
      "Finished in 6.519633769989014s - ||Ax-b||/||b||: 101.87141740644576\n",
      "\n",
      "Evaluating E(p)\n",
      "Sigma: 0.4472135954999579 \n",
      "Tau: 1.118033988749895\n",
      "Finished in 0.11073613166809082 seconds.\n",
      "\n",
      "Starting PDHG\n",
      "Sigma: 0.4472135954999579 \n",
      "Tau: 1.118033988749895\n",
      "Finished in 0.2894272804260254 seconds.\n",
      "\n",
      "Starting Conjugate Gradient method\n",
      "Finished in 6.4727699756622314s - ||Ax-b||/||b||: 101.87141758559864\n",
      "\n",
      "Evaluating E(p)\n",
      "Sigma: 0.4472135954999579 \n",
      "Tau: 1.118033988749895\n",
      "Finished in 0.11482477188110352 seconds.\n",
      "\n",
      "Starting PDHG\n",
      "Sigma: 0.4472135954999579 \n",
      "Tau: 1.118033988749895\n",
      "Finished in 0.28900790214538574 seconds.\n",
      "\n",
      "Starting Conjugate Gradient method\n",
      "Finished in 6.505336046218872s - ||Ax-b||/||b||: 101.87141744974831\n",
      "\n",
      "Evaluating E(p)\n",
      "Sigma: 0.4472135954999579 \n",
      "Tau: 1.118033988749895\n",
      "Finished in 0.11242103576660156 seconds.\n",
      "\n",
      "Starting PDHG\n",
      "Sigma: 0.4472135954999579 \n",
      "Tau: 1.118033988749895\n",
      "Finished in 0.288623571395874 seconds.\n",
      "\n",
      "Starting Conjugate Gradient method\n",
      "Finished in 6.499619245529175s - ||Ax-b||/||b||: 101.87141657353199\n",
      "\n",
      "Evaluating E(p)\n",
      "Sigma: 0.4472135954999579 \n",
      "Tau: 1.118033988749895\n",
      "Finished in 0.11141681671142578 seconds.\n",
      "\n",
      "Starting PDHG\n",
      "Sigma: 0.4472135954999579 \n",
      "Tau: 1.118033988749895\n",
      "Finished in 0.2884225845336914 seconds.\n",
      "\n",
      "Starting Conjugate Gradient method\n",
      "Finished in 6.480712175369263s - ||Ax-b||/||b||: 101.87141758559864\n",
      "\u001b[1m\n",
      "1 iterations: ssim=0.9334299235761504\n",
      "\n",
      "\u001b[0m\n"
     ]
    }
   ],
   "source": [
    "niter = 0\n",
    "pf,Emin,info = fmin_l_bfgs_b(E,p0,grad_E,bounds=[(0,1)]*n**2+[(0,np.inf)],pgtol=1e-15,\n",
    "                           maxfun=1000,maxiter=1000,\n",
    "                            callback = fcall)"
   ]
  },
  {
   "cell_type": "code",
   "execution_count": 91,
   "metadata": {
    "scrolled": false
   },
   "outputs": [
    {
     "name": "stdout",
     "output_type": "stream",
     "text": [
      "\n",
      "Evaluating E(p)\n",
      "Sigma: 0.4472135954999579 \n",
      "Tau: 1.118033988749895\n",
      "Finished in 0.14279794692993164 seconds.\n",
      "\n",
      "Evaluating E(p)\n",
      "Sigma: 0.4472135954999579 \n",
      "Tau: 1.118033988749895\n",
      "Finished in 0.1420116424560547 seconds.\n",
      "8.469892545177671e-10 8.469892545177659e-10\n"
     ]
    }
   ],
   "source": [
    "print(E(p0),E(pf))"
   ]
  },
  {
   "cell_type": "code",
   "execution_count": 92,
   "metadata": {},
   "outputs": [
    {
     "name": "stdout",
     "output_type": "stream",
     "text": [
      "1e-06\n"
     ]
    }
   ],
   "source": [
    "print(pf[-1])\n",
    "pysap.Image(data=np.reshape(p0[:-1]-pf[:-1],(n,n))).show()"
   ]
  },
  {
   "cell_type": "code",
   "execution_count": 96,
   "metadata": {},
   "outputs": [
    {
     "data": {
      "text/plain": [
       "(1817.0829139984885, 1817.0829139837847)"
      ]
     },
     "execution_count": 96,
     "metadata": {},
     "output_type": "execute_result"
    }
   ],
   "source": [
    "np.sum(p0),np.sum(pf)"
   ]
  },
  {
   "cell_type": "code",
   "execution_count": 97,
   "metadata": {
    "scrolled": true
   },
   "outputs": [
    {
     "name": "stdout",
     "output_type": "stream",
     "text": [
      "Sigma: 0.4472135954999579 \n",
      "Tau: 1.118033988749895\n",
      "10  iterations:\n",
      "Cost: 3.3388846510981776e-09 \n",
      "Norm: 0.04227038262152637 \n",
      "\n",
      "20  iterations:\n",
      "Cost: 3.2985177468947222e-09 \n",
      "Norm: 0.002861538105700542 \n",
      "\n",
      "30  iterations:\n",
      "Cost: 3.2963825745761375e-09 \n",
      "Norm: 0.0007402123997088788 \n",
      "\n",
      "40  iterations:\n",
      "Cost: 3.2961340210915897e-09 \n",
      "Norm: 0.0004898522176367676 \n",
      "\n",
      "50  iterations:\n",
      "Cost: 3.2961183856879973e-09 \n",
      "Norm: 0.0004336489924865564 \n",
      "\n",
      "60  iterations:\n",
      "Cost: 3.296118798097257e-09 \n",
      "Norm: 0.0003636482006864322 \n",
      "\n",
      "70  iterations:\n",
      "Cost: 3.2961242995551457e-09 \n",
      "Norm: 0.00022369329254972307 \n",
      "\n",
      "80  iterations:\n",
      "Cost: 3.2961259376821167e-09 \n",
      "Norm: 0.00019722638708378318 \n",
      "\n",
      "90  iterations:\n",
      "Cost: 3.2961259397312407e-09 \n",
      "Norm: 0.0001899019704274946 \n",
      "\n",
      "100  iterations:\n",
      "Cost: 3.2961251662005523e-09 \n",
      "Norm: 0.00018708274338026791 \n",
      "\n",
      "Finished in 0.9759185314178467 seconds.\n",
      "0.9259355787507637\n"
     ]
    },
    {
     "data": {
      "image/png": "[encoded data removed]",
      "text/plain": [
       "<Figure size 432x288 with 1 Axes>"
      ]
     },
     "metadata": {
      "needs_background": "light"
     },
     "output_type": "display_data"
    },
    {
     "data": {
      "image/png": "[encoded data removed]",
      "text/plain": [
       "<Figure size 432x288 with 1 Axes>"
      ]
     },
     "metadata": {
      "needs_background": "light"
     },
     "output_type": "display_data"
    }
   ],
   "source": [
    "uk,norms,energy,ssims = pdhg(y,pf[:-1],fourier_op,linear_op,param,ground_truth=u0_mat,maxit=100)\n",
    "print(ssim(uk,u0_mat))\n",
    "\n",
    "plt.figure()\n",
    "plt.plot(ssims)\n",
    "plt.title(\"Evolution of ssim\")\n",
    "plt.show()\n",
    "\n",
    "plt.figure()\n",
    "plt.plot(energy)\n",
    "plt.title(\"Evolution of energy\")\n",
    "plt.yscale(\"log\")\n",
    "plt.show()\n",
    "\n",
    "pysap.Image(data=uk).show()"
   ]
  }
 ],
 "metadata": {
  "kernelspec": {
   "display_name": "Python 3",
   "language": "python",
   "name": "python3"
  },
  "language_info": {
   "codemirror_mode": {
    "name": "ipython",
    "version": 3
   },
   "file_extension": ".py",
   "mimetype": "text/x-python",
   "name": "python",
   "nbconvert_exporter": "python",
   "pygments_lexer": "ipython3",
   "version": "3.7.3"
  }
 },
 "nbformat": 4,
 "nbformat_minor": 2
}
