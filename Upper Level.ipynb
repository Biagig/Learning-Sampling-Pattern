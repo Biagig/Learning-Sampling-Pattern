{
 "cells": [
  {
   "cell_type": "code",
   "execution_count": 1,
   "metadata": {
    "scrolled": true
   },
   "outputs": [
    {
     "name": "stdout",
     "output_type": "stream",
     "text": [
      "\n",
      "                 .|'''|       /.\\      '||'''|,\n",
      "                 ||          // \\\\      ||   ||\n",
      "'||''|, '||  ||` `|'''|,    //...\\\\     ||...|'\n",
      " ||  ||  `|..||   .   ||   //     \\\\    ||\n",
      " ||..|'      ||   |...|' .//       \\\\. .||\n",
      " ||       ,  |'\n",
      ".||        ''\n",
      "\n",
      "Package version: 0.0.3\n",
      "\n",
      "License: CeCILL-B\n",
      "\n",
      "Authors: \n",
      "\n",
      "Antoine Grigis <antoine.grigis@cea.fr>\n",
      "Samuel Farrens <samuel.farrens@cea.fr>\n",
      "Jean-Luc Starck <jl.stark@cea.fr>\n",
      "Philippe Ciuciu <philippe.ciuciu@cea.fr>\n",
      "\n",
      "Dependencies: \n",
      "\n",
      "scipy          : >=1.3.0   - required | 1.3.0     installed\n",
      "numpy          : >=1.16.4  - required | 1.16.4    installed\n",
      "matplotlib     : >=3.0.0   - required | 3.1.1     installed\n",
      "astropy        : >=3.0.0   - required | 3.2.1     installed\n",
      "nibabel        : >=2.3.2   - required | 2.5.1     installed\n",
      "pyqtgraph      : >=0.10.0  - required | 0.10.0    installed\n",
      "progressbar2   : >=3.34.3  - required | ?         installed\n",
      "modopt         : >=1.4.0   - required | 1.4.1     installed\n",
      "scikit-learn   : >=0.19.1  - required | ?         installed\n",
      "pywt           : >=1.0.0   - required | 1.0.3     installed\n",
      "pysparse       : >=0.0.1   - required | 0.1.0     installed\n",
      "\n"
     ]
    }
   ],
   "source": [
    "from mri.operators import NonCartesianFFT, WaveletUD2, WaveletN\n",
    "import pysap\n",
    "from pysap.data import get_sample_data\n",
    "from mri.operators.utils import convert_mask_to_locations, convert_locations_to_mask\n",
    "from modopt.math.metrics import ssim\n",
    "import matplotlib.pyplot as plt\n",
    "import numpy as np"
   ]
  },
  {
   "cell_type": "code",
   "execution_count": 2,
   "metadata": {},
   "outputs": [],
   "source": [
    "# Lower level imports\n",
    "from algo.prox import prox_G,prox_F1_dual,prox_F2_dual\n",
    "from algo.pdhg import pdhg\n",
    "from algo.cost_utils import *\n",
    "\n",
    "#Upper level imports\n",
    "from scipy.sparse.linalg import cg,LinearOperator\n",
    "import scipy\n",
    "import time\n",
    "from algo.upper_level_utils import *\n",
    "from scipy.optimize.lbfgsb import fmin_l_bfgs_b"
   ]
  },
  {
   "cell_type": "code",
   "execution_count": 3,
   "metadata": {},
   "outputs": [],
   "source": [
    "u0 = get_sample_data('2d-mri')\n",
    "u0_mat = u0.data[125:175,125:175]"
   ]
  },
  {
   "cell_type": "code",
   "execution_count": 4,
   "metadata": {},
   "outputs": [
    {
     "name": "stderr",
     "output_type": "stream",
     "text": [
      "/home/guillaume/temp/pysap-mri/mri/operators/fourier/utils.py:78: FutureWarning: Using a non-tuple sequence for multidimensional indexing is deprecated; use `arr[tuple(seq)]` instead of `arr[seq]`. In the future this will be interpreted as an array index, `arr[np.array(seq)]`, which will result either in an error or a different result.\n",
      "  mask[test] = 1\n"
     ]
    }
   ],
   "source": [
    "n=u0_mat.shape[0]\n",
    "x = np.linspace(0,n,n,endpoint=False)/n-0.5\n",
    "y = np.linspace(0,n,n,endpoint=False)/n-0.5\n",
    "X,Y = np.meshgrid(x,y)\n",
    "kspace_loc = np.stack([X.flatten('F'),Y.flatten('F')],axis=1)\n",
    "\n",
    "m = convert_locations_to_mask(kspace_loc,u0_mat.shape)\n",
    "fourier_op = NonCartesianFFT(samples=kspace_loc, shape=u0_mat.shape,implementation='cpu')\n",
    "\n",
    "y = (1+0j)*fourier_op.op(u0_mat)+1e-7*np.random.randn(2*n*n).view(np.complex128)"
   ]
  },
  {
   "cell_type": "code",
   "execution_count": 5,
   "metadata": {},
   "outputs": [],
   "source": [
    "#Subsampling: From pysap radial mask \n",
    "radial_mask = get_sample_data(\"mri-radial-samples\")\n",
    "radial_kspace_loc = radial_mask.data\n",
    "radial_p = np.zeros((n*n+1,))\n",
    "\n",
    "ind1 = ((n-1)*(radial_kspace_loc[:,0]+0.5)).astype(int)\n",
    "ind2 = ((n-1)*(radial_kspace_loc[:,1]+0.5)).astype(int)\n",
    "radial_p[n*ind1+ind2]=1\n",
    "radial_p[-1]=1e-6\n",
    "p = np.copy(radial_p)\n",
    "\n",
    "#Wavelet\n",
    "linear_op = WaveletN(wavelet_name=\"sym8\",nb_scale=4,padding_mode = \"periodization\")\n",
    "#linear_op = WaveletUD2(wavelet_id=24,nb_scale=3)\n",
    "\n",
    "param = {\"pn1\":p[-1],\"epsilon\":1e-5,\"gamma\":1e-10}\n"
   ]
  },
  {
   "cell_type": "code",
   "execution_count": 13,
   "metadata": {},
   "outputs": [],
   "source": [
    "pysap.Image(data=np.reshape(radial_p[:-1],(n,n))).show()"
   ]
  },
  {
   "cell_type": "code",
   "execution_count": 16,
   "metadata": {},
   "outputs": [
    {
     "name": "stdout",
     "output_type": "stream",
     "text": [
      "0.986610399009073\n"
     ]
    }
   ],
   "source": [
    "print(ssim(fourier_op.adj_op(p[:-1]*y),u0_mat))\n",
    "pysap.Image(data=fourier_op.adj_op(p[:-1]*y)).show()"
   ]
  },
  {
   "cell_type": "markdown",
   "metadata": {},
   "source": [
    "# Definition of functions\n",
    "Only for one linear operator for the moment (wavelet)."
   ]
  },
  {
   "cell_type": "code",
   "execution_count": 17,
   "metadata": {
    "scrolled": true
   },
   "outputs": [
    {
     "data": {
      "text/plain": [
       "[<matplotlib.lines.Line2D at 0x7f7505c304a8>]"
      ]
     },
     "execution_count": 17,
     "metadata": {},
     "output_type": "execute_result"
    },
    {
     "data": {
      "image/png": "[encoded data removed]",
      "text/plain": [
       "<Figure size 432x288 with 1 Axes>"
      ]
     },
     "metadata": {
      "needs_background": "light"
     },
     "output_type": "display_data"
    }
   ],
   "source": [
    "x = np.linspace(0,3*param[\"gamma\"],200)\n",
    "plt.plot(x,rho_vec(x,param[\"gamma\"]))"
   ]
  },
  {
   "cell_type": "code",
   "execution_count": 18,
   "metadata": {},
   "outputs": [
    {
     "data": {
      "text/plain": [
       "array([-0.35355339-0.35355339j])"
      ]
     },
     "execution_count": 18,
     "metadata": {},
     "output_type": "execute_result"
    }
   ],
   "source": [
    "psix_vec(np.array([1+1j]),1e-10)"
   ]
  },
  {
   "cell_type": "markdown",
   "metadata": {},
   "source": [
    "# Functions and first order derivatives"
   ]
  },
  {
   "cell_type": "code",
   "execution_count": 19,
   "metadata": {},
   "outputs": [],
   "source": [
    "#Base functions\n",
    "def Eeps(x,p):return param[\"epsilon\"]/2*np.linalg.norm(x)**2\n",
    "def Edata(x,p):return 0.5*np.linalg.norm(p[:-1]**2*(fourier_op.op(x)-y))**2\n",
    "def Ereg(x,p):return p[-1]*np.sum(rho_vec(np.abs(linear_op.op(x)),param[\"gamma\"]))\n",
    "def Etot(x,p):return Eeps(x,p)+Edata(x,p)+Ereg(x,p)\n",
    "\n",
    "#First order derivatives\n",
    "def Du_Eeps(x,p):return param[\"epsilon\"]*x\n",
    "def Du_Edata(x,p):return fourier_op.adj_op(p[:-1]*(fourier_op.op(x)-y))\n",
    "def Du_Ereg(x,p):\n",
    "    lin_x = linear_op.op(x)\n",
    "    return p[-1]*linear_op.adj_op(phi_vec(np.abs(lin_x),param[\"gamma\"])*lin_x)\n",
    "def Du_Etot(x,p):return Du_Eeps(x,p)+Du_Edata(x,p)+Du_Ereg(x,p)"
   ]
  },
  {
   "cell_type": "markdown",
   "metadata": {},
   "source": [
    "### Numerical check\n",
    "Plots of $\\left|\\frac{f(a+th)-f(a)-<\\nabla f(a),th>}{t}\\right|$ for $t\\rightarrow 0$."
   ]
  },
  {
   "cell_type": "code",
   "execution_count": 35,
   "metadata": {},
   "outputs": [
    {
     "data": {
      "image/png": "[encoded data removed]",
      "text/plain": [
       "<Figure size 432x288 with 1 Axes>"
      ]
     },
     "metadata": {
      "needs_background": "light"
     },
     "output_type": "display_data"
    }
   ],
   "source": [
    "# -- Eeps --\n",
    "#Two random vectors with same amplitude\n",
    "a = np.random.randn(2*n**2).view(np.complex128).reshape((n,n))/n\n",
    "a2 = np.random.randn(2*n**2).view(np.complex128).reshape((n,n))/n\n",
    "\n",
    "tests = np.logspace(-20,0,20)\n",
    "real_values = np.array([Eeps(a+t*a2,radial_p) for t in tests])\n",
    "approx = np.array([Eeps(a,radial_p)+np.sum(Du_Eeps(a,radial_p)*np.conj(t*a2)) for t in tests])\n",
    "\n",
    "plt.plot(tests,np.abs((real_values-approx)/tests))\n",
    "plt.xscale(\"log\")\n",
    "plt.yscale(\"log\")"
   ]
  },
  {
   "cell_type": "code",
   "execution_count": 21,
   "metadata": {},
   "outputs": [
    {
     "data": {
      "text/plain": [
       "(4.623565640974052e-06, 4.623565640974052e-06)"
      ]
     },
     "execution_count": 21,
     "metadata": {},
     "output_type": "execute_result"
    }
   ],
   "source": [
    "real_values[0],approx[0]"
   ]
  },
  {
   "cell_type": "code",
   "execution_count": 12,
   "metadata": {},
   "outputs": [
    {
     "name": "stdout",
     "output_type": "stream",
     "text": [
      "1.9219769926101796e-11\n"
     ]
    },
    {
     "data": {
      "image/png": "[encoded data removed]",
      "text/plain": [
       "<Figure size 432x288 with 1 Axes>"
      ]
     },
     "metadata": {
      "needs_background": "light"
     },
     "output_type": "display_data"
    }
   ],
   "source": [
    "# -- Edata --\n",
    "#Random vector with same amplitude as u0\n",
    "a = u0_mat\n",
    "#a = np.random.randn(2*n**2).view(np.complex128).reshape((n,n))/n*np.linalg.norm(u0_mat)\n",
    "a2 = np.random.randn(2*n*n).view(np.complex128).reshape((n,n))/n*np.linalg.norm(u0_mat)\n",
    "\n",
    "p=radial_p\n",
    "tests = np.logspace(-15,0,30)\n",
    "real_values = np.array([Edata(a+t*a2,p) for t in tests])\n",
    "approx = np.array([Edata(a,p)+t*np.sum(Du_Edata(a,radial_p)*np.conj(a2)) for t in tests])\n",
    "\n",
    "print(Edata(a,radial_p))\n",
    "plt.plot(tests,np.abs((real_values-approx)/tests))\n",
    "plt.xscale(\"log\")\n",
    "plt.yscale(\"log\")"
   ]
  },
  {
   "cell_type": "code",
   "execution_count": 13,
   "metadata": {},
   "outputs": [
    {
     "data": {
      "text/plain": [
       "(1.9219769926101958e-11, (1.9219769926101793e-11+5.966272569657413e-26j))"
      ]
     },
     "execution_count": 13,
     "metadata": {},
     "output_type": "execute_result"
    }
   ],
   "source": [
    "real_values[0],approx[0]"
   ]
  },
  {
   "cell_type": "code",
   "execution_count": 14,
   "metadata": {},
   "outputs": [
    {
     "name": "stderr",
     "output_type": "stream",
     "text": [
      "/home/guillaume/anaconda3/lib/python3.7/site-packages/numpy/core/numeric.py:538: ComplexWarning: Casting complex values to real discards the imaginary part\n",
      "  return array(a, dtype, copy=False, order=order)\n"
     ]
    },
    {
     "data": {
      "text/plain": [
       "<matplotlib.legend.Legend at 0x7fd4cc84f470>"
      ]
     },
     "execution_count": 14,
     "metadata": {},
     "output_type": "execute_result"
    },
    {
     "data": {
      "image/png": "[encoded data removed]",
      "text/plain": [
       "<Figure size 432x288 with 1 Axes>"
      ]
     },
     "metadata": {
      "needs_background": "light"
     },
     "output_type": "display_data"
    }
   ],
   "source": [
    "plt.plot(tests,real_values,label=\"real values\")\n",
    "plt.plot(tests,approx,label=\"linear approximation\")\n",
    "plt.xscale(\"log\")\n",
    "plt.yscale(\"log\")\n",
    "plt.legend()"
   ]
  },
  {
   "cell_type": "code",
   "execution_count": 28,
   "metadata": {},
   "outputs": [
    {
     "name": "stdout",
     "output_type": "stream",
     "text": [
      "2.539352882852719\n"
     ]
    },
    {
     "data": {
      "image/png": "[encoded data removed]",
      "text/plain": [
       "<Figure size 432x288 with 1 Axes>"
      ]
     },
     "metadata": {
      "needs_background": "light"
     },
     "output_type": "display_data"
    }
   ],
   "source": [
    "# -- Ereg --\n",
    "#Random vector with same amplitude as u0\n",
    "a = np.random.randn(2*n*n).view(np.complex128).reshape((n,n))/n*np.linalg.norm(u0_mat)\n",
    "#a=u0_mat\n",
    "a2 = np.random.randn(2*n*n).view(np.complex128).reshape((n,n))/n*np.linalg.norm(u0_mat)\n",
    "\n",
    "tests = np.logspace(-10,0,50)\n",
    "real_values = np.array([Ereg(a+t*a2,radial_p) for t in tests])\n",
    "approx = np.array([Ereg(a,radial_p)+np.sum(Du_Ereg(a,radial_p)*np.conj(t*a2)) for t in tests])\n",
    "\n",
    "print(Ereg(a,radial_p))\n",
    "plt.plot(tests,np.abs((real_values-approx)/tests))\n",
    "plt.xscale(\"log\")\n",
    "plt.yscale(\"log\")"
   ]
  },
  {
   "cell_type": "code",
   "execution_count": 30,
   "metadata": {},
   "outputs": [
    {
     "data": {
      "text/plain": [
       "<matplotlib.legend.Legend at 0x7fd4c7240da0>"
      ]
     },
     "execution_count": 30,
     "metadata": {},
     "output_type": "execute_result"
    },
    {
     "data": {
      "image/png": "[encoded data removed]",
      "text/plain": [
       "<Figure size 432x288 with 1 Axes>"
      ]
     },
     "metadata": {
      "needs_background": "light"
     },
     "output_type": "display_data"
    }
   ],
   "source": [
    "plt.plot(tests,real_values,label=\"real values\")\n",
    "plt.plot(tests,approx,label=\"linear approximation\")\n",
    "plt.xscale(\"log\")\n",
    "plt.yscale(\"log\")\n",
    "plt.legend()"
   ]
  },
  {
   "cell_type": "code",
   "execution_count": 173,
   "metadata": {},
   "outputs": [
    {
     "name": "stdout",
     "output_type": "stream",
     "text": [
      "2.086511025385618e-07\n"
     ]
    },
    {
     "data": {
      "image/png": "[encoded data removed]",
      "text/plain": [
       "<Figure size 432x288 with 1 Axes>"
      ]
     },
     "metadata": {
      "needs_background": "light"
     },
     "output_type": "display_data"
    }
   ],
   "source": [
    "# -- Etot --\n",
    "#Random vector with same amplitude as u0\n",
    "a = np.random.randn(2*n*n).view(np.complex128).reshape((n,n))/n*np.linalg.norm(u0_mat)\n",
    "a2 = np.random.randn(2*n*n).view(np.complex128).reshape((n,n))/n*np.linalg.norm(u0_mat)\n",
    "#a=u0_mat\n",
    "\n",
    "tests = np.logspace(-10,-5,20)\n",
    "real_values = np.array([Etot(a+t*a2,radial_p) for t in tests])\n",
    "approx = np.array([Etot(a,radial_p)+np.sum(Du_Etot(a,radial_p)*np.conj(t*a2))for t in tests])\n",
    "\n",
    "print(Etot(a,radial_p))\n",
    "plt.plot(tests,np.abs((real_values-approx)/tests))\n",
    "plt.xscale(\"log\")\n",
    "plt.yscale(\"log\")"
   ]
  },
  {
   "cell_type": "code",
   "execution_count": 174,
   "metadata": {},
   "outputs": [
    {
     "data": {
      "text/plain": [
       "<matplotlib.legend.Legend at 0x7f9cbb04b470>"
      ]
     },
     "execution_count": 174,
     "metadata": {},
     "output_type": "execute_result"
    },
    {
     "data": {
      "image/png": "[encoded data removed]",
      "text/plain": [
       "<Figure size 432x288 with 1 Axes>"
      ]
     },
     "metadata": {
      "needs_background": "light"
     },
     "output_type": "display_data"
    }
   ],
   "source": [
    "plt.plot(tests,real_values,label=\"real values\")\n",
    "plt.plot(tests,approx,label=\"linear approximation\")\n",
    "plt.xscale(\"log\")\n",
    "plt.yscale(\"log\")\n",
    "plt.legend()"
   ]
  },
  {
   "cell_type": "markdown",
   "metadata": {},
   "source": [
    "# Second order derivatives\n",
    "We don't express the hessians as matrices but as linear operators. Same verifications: $\\frac{||\\nabla f(a+th)-(\\nabla f(a)+t\\nabla^2f(a)h)||_2}{t}$."
   ]
  },
  {
   "cell_type": "code",
   "execution_count": 75,
   "metadata": {},
   "outputs": [],
   "source": [
    "def Du2_Eeps(u,p,w):return param[\"epsilon\"]*w\n",
    "def Du2_Edata(u,p,w):return fourier_op.adj_op(p[:-1]**2*fourier_op.op(w))\n",
    "def Du2_Ereg(u,p,w):\n",
    "    lin_u = linear_op.op(u)\n",
    "    lin_w = linear_op.op(w)\n",
    "    psix_Au = psix_vec(np.abs(lin_u),param[\"gamma\"])\n",
    "    phi_Au = phi_vec(np.abs(lin_u),param[\"gamma\"])\n",
    "    \n",
    "    part1 = psix_Au*lin_u*(np.real(lin_u)*np.real(lin_w)+np.imag(lin_u)*np.imag(lin_w))\n",
    "    part2 = phi_Au*lin_w\n",
    "    return p[-1]*(linear_op.adj_op(part1+part2))\n",
    "def Du2_Etot(u,p,w):return Du2_Eeps(u,p,w)+Du2_Edata(u,p,w)+Du2_Ereg(u,p,w)"
   ]
  },
  {
   "cell_type": "code",
   "execution_count": 33,
   "metadata": {},
   "outputs": [
    {
     "name": "stdout",
     "output_type": "stream",
     "text": [
      "0.000694372951507414\n"
     ]
    },
    {
     "data": {
      "image/png": "[encoded data removed]",
      "text/plain": [
       "<Figure size 432x288 with 1 Axes>"
      ]
     },
     "metadata": {
      "needs_background": "light"
     },
     "output_type": "display_data"
    }
   ],
   "source": [
    "# -- Eeps --\n",
    "#Two random vectors with same amplitude\n",
    "a = np.random.randn(2*n**2).view(np.complex128).reshape((n,n))\n",
    "a2 = np.random.randn(2*n**2).view(np.complex128).reshape((n,n))\n",
    "\n",
    "ntest=20\n",
    "tests = np.logspace(-7,0,ntest)\n",
    "Dua = Du_Eeps(a,p)\n",
    "real = []\n",
    "approx = []\n",
    "for t in tests:\n",
    "    real.append(Du_Eeps(a+t*a2,p))\n",
    "    approx.append(Dua+t*Du2_Eeps(a,p,a2))\n",
    "\n",
    "print(np.linalg.norm(Dua))\n",
    "plt.plot(tests,np.array([np.linalg.norm(real[i]-approx[i]) for i in range(ntest)])/tests)\n",
    "plt.xscale(\"log\")\n",
    "plt.yscale(\"log\")"
   ]
  },
  {
   "cell_type": "code",
   "execution_count": 34,
   "metadata": {},
   "outputs": [
    {
     "name": "stdout",
     "output_type": "stream",
     "text": [
      "61.071417492747855\n"
     ]
    },
    {
     "data": {
      "image/png": "[encoded data removed]",
      "text/plain": [
       "<Figure size 432x288 with 1 Axes>"
      ]
     },
     "metadata": {
      "needs_background": "light"
     },
     "output_type": "display_data"
    }
   ],
   "source": [
    "# -- Edata --\n",
    "#Two random vectors with same amplitude\n",
    "a = np.random.randn(2*n**2).view(np.complex128).reshape((n,n))\n",
    "a2 = np.random.randn(2*n**2).view(np.complex128).reshape((n,n))\n",
    "\n",
    "ntest=20\n",
    "tests = np.logspace(-7,0,ntest)\n",
    "real = []\n",
    "approx = []\n",
    "Dua = Du_Edata(a,radial_p)\n",
    "for t in tests:\n",
    "    real.append(Du_Edata(a+t*a2,radial_p))\n",
    "    approx.append(Dua+Du2_Edata(a,radial_p,t*a2))\n",
    "\n",
    "print(np.linalg.norm(Dua))\n",
    "plt.plot(tests,np.array([np.linalg.norm(real[i]-approx[i]) for i in range(ntest)])/tests)\n",
    "plt.xscale(\"log\")\n",
    "plt.yscale(\"log\")"
   ]
  },
  {
   "cell_type": "code",
   "execution_count": 76,
   "metadata": {},
   "outputs": [
    {
     "name": "stdout",
     "output_type": "stream",
     "text": [
      "5.017689248777346e-05\n"
     ]
    },
    {
     "data": {
      "image/png": "[encoded data removed]",
      "text/plain": [
       "<Figure size 432x288 with 1 Axes>"
      ]
     },
     "metadata": {
      "needs_background": "light"
     },
     "output_type": "display_data"
    }
   ],
   "source": [
    "# -- Ereg --\n",
    "#Two random vectors with same amplitude\n",
    "a = np.random.randn(2*n**2).view(np.complex128).reshape((n,n))/n\n",
    "a2 = np.random.randn(2*n**2).view(np.complex128).reshape((n,n))/n\n",
    "\n",
    "ntest=20\n",
    "tests = np.logspace(-7,0,ntest)\n",
    "real = []\n",
    "approx = []\n",
    "Dua = Du_Ereg(a,radial_p)\n",
    "for t in tests:\n",
    "    real.append(Du_Ereg(a+t*a2,radial_p))\n",
    "    approx.append(Dua+Du2_Ereg(a,radial_p,t*a2))\n",
    "\n",
    "print(np.linalg.norm(Dua))\n",
    "plt.plot(tests,np.array([np.linalg.norm(real[i]-approx[i]) for i in range(ntest)])/tests)\n",
    "plt.xscale(\"log\")\n",
    "plt.yscale(\"log\")"
   ]
  },
  {
   "cell_type": "code",
   "execution_count": 77,
   "metadata": {},
   "outputs": [
    {
     "data": {
      "text/plain": [
       "<matplotlib.legend.Legend at 0x7fd4c6e5d7b8>"
      ]
     },
     "execution_count": 77,
     "metadata": {},
     "output_type": "execute_result"
    },
    {
     "data": {
      "image/png": "[encoded data removed]",
      "text/plain": [
       "<Figure size 432x288 with 1 Axes>"
      ]
     },
     "metadata": {
      "needs_background": "light"
     },
     "output_type": "display_data"
    }
   ],
   "source": [
    "plt.plot(tests,np.array([np.linalg.norm(x) for x in real]),label=\"real value\")\n",
    "plt.plot(tests,np.array([np.linalg.norm(x) for x in approx]),label=\"Approximation\")\n",
    "plt.yscale(\"log\")\n",
    "plt.xscale(\"log\")\n",
    "plt.legend()"
   ]
  },
  {
   "cell_type": "code",
   "execution_count": 37,
   "metadata": {},
   "outputs": [
    {
     "name": "stdout",
     "output_type": "stream",
     "text": [
      "5.0674244741078616e-05\n"
     ]
    },
    {
     "data": {
      "image/png": "[encoded data removed]",
      "text/plain": [
       "<Figure size 432x288 with 1 Axes>"
      ]
     },
     "metadata": {
      "needs_background": "light"
     },
     "output_type": "display_data"
    }
   ],
   "source": [
    "# -- Etot --\n",
    "#Two random vectors with same amplitude\n",
    "a = np.random.randn(n**2).reshape((n,n))\n",
    "a=u0_mat\n",
    "a2 = np.random.randn(n**2).reshape((n,n))\n",
    "\n",
    "ntest=20\n",
    "tests = np.logspace(-7,0,ntest)\n",
    "real = []\n",
    "approx = []\n",
    "for t in tests:\n",
    "    real.append(Du_Etot(a+t*a2,p))\n",
    "    approx.append(Du_Etot(a,p)+Du2_Etot(a,p,t*a2))\n",
    "\n",
    "print(np.linalg.norm(Du_Etot(a,p)))\n",
    "plt.plot(tests,np.array([np.linalg.norm(real[i]-approx[i]) for i in range(ntest)])/tests)\n",
    "plt.xscale(\"log\")\n",
    "plt.yscale(\"log\")"
   ]
  },
  {
   "cell_type": "markdown",
   "metadata": {},
   "source": [
    "## Cross derivatives"
   ]
  },
  {
   "cell_type": "code",
   "execution_count": 59,
   "metadata": {},
   "outputs": [],
   "source": [
    "def Dpu_Edata(u,p,w):\n",
    "    Fu = fourier_op.op(u)-y\n",
    "    Fw = fourier_op.op(w)\n",
    "    return 2*p[:-1]*(np.real(Fu)*np.real(Fw)+np.imag(Fu)*np.imag(Fw))\n",
    "def Dpu_Ereg(u,p,w):\n",
    "    return p[-1]*np.sum(np.comp(w)*linear_op.adj_op(phi_vec(linear_op.op(u),param[\"gamma\"])*linear_op.op(u)))\n",
    "\n",
    "def Dpu_Etot(u,p,w):\n",
    "    g = np.zeros((n**2+1,))\n",
    "    g[:-1] = Dpu_Edata(u,p,w)\n",
    "    #Don't learn alpha for the moment\n",
    "    g[-1] = 0\n",
    "    return g"
   ]
  },
  {
   "cell_type": "markdown",
   "metadata": {},
   "source": [
    "## Loss function and penalty"
   ]
  },
  {
   "cell_type": "code",
   "execution_count": 78,
   "metadata": {},
   "outputs": [],
   "source": [
    "c = 1e0\n",
    "def L(u,u2):return c*np.linalg.norm(u-u2)**2\n",
    "def grad_L(u,u2):return 2*c*(u-u2)\n",
    "\n",
    "beta = 1e-11*c\n",
    "def P(p):return beta*np.linalg.norm(p[:-1])**2\n",
    "def grad_P(p):\n",
    "    Dp = 2*beta*p\n",
    "    Dp[-1] = 0\n",
    "    return Dp\n",
    "\n",
    "def P(p):return beta*np.sum(p[:-1]*(2-p[:-1]))\n",
    "def grad_P(p):\n",
    "    Dp = np.zeros(n**2+1)\n",
    "    Dp[:-1] = 2*beta*(1-p[:-1])\n",
    "    return Dp"
   ]
  },
  {
   "cell_type": "code",
   "execution_count": 79,
   "metadata": {},
   "outputs": [
    {
     "name": "stdout",
     "output_type": "stream",
     "text": [
      "Sigma: 0.4472135954999579 \n",
      "Tau: 1.118033988749895\n",
      "Finished in 0.21888232231140137 seconds.\n",
      "\n",
      "L(u(p))=7.751848794032003e-10\n",
      "P(p)=1.8789999999999998e-08\n"
     ]
    }
   ],
   "source": [
    "param[\"pn1\"]=1e-6\n",
    "p = np.copy(radial_p)\n",
    "uk,norms,energy = pdhg(y,p[:-1],fourier_op,linear_op,param,maxit=20,verbose=0)\n",
    "print(f\"\\nL(u(p))={L(uk,u0_mat)}\\nP(p)={P(p)}\")"
   ]
  },
  {
   "cell_type": "markdown",
   "metadata": {},
   "source": [
    "# Upper level energy"
   ]
  },
  {
   "cell_type": "code",
   "execution_count": 80,
   "metadata": {},
   "outputs": [],
   "source": [
    "uk = np.zeros(u0_mat.shape)\n",
    "\n",
    "def E(pk):\n",
    "    global uk\n",
    "    print(\"\\nEvaluating E(p)\")\n",
    "    param[\"pn1\"]=pk[-1]\n",
    "    uk,norms = pdhg(y,pk[:-1],fourier_op,linear_op,param,compute_energy=False,maxit=20,verbose=0)\n",
    "    return L(uk,u0_mat)+P(pk)\n",
    "\n",
    "cgconv = []\n",
    "def grad_E(pk,max_cgiter=1000,tol=1e-8,compute_conv=False):\n",
    "    global uk,cgconv\n",
    "    #Update alpha(p)\n",
    "    param[\"pn1\"]=pk[-1]\n",
    "    \n",
    "    print(\"\\nStarting PDHG\")\n",
    "    uk,norms = pdhg(y,pk[:-1],fourier_op,linear_op,param,compute_energy=False,maxit=30,verbose=0)\n",
    "    \n",
    "    def mv(w):\n",
    "        w = np.reshape(w,(n,n))\n",
    "        return np.reshape(Du2_Etot(uk,pk,w),(n**2,))\n",
    "    \n",
    "    \n",
    "    # -- Use cg to compute gradient --\n",
    "    lin = LinearOperator((n**2,n**2),matvec=mv)\n",
    "    B = np.reshape(np.conj(grad_L(uk,u0_mat)),(n**2,))\n",
    "    def cgcall(x):\n",
    "        if compute_conv:cgconv.append(np.linalg.norm(lin(x)-B)/np.linalg.norm(B))\n",
    "    \n",
    "    t1=time.time()\n",
    "    print(\"\\nStarting Conjugate Gradient method\")\n",
    "    x_inter,convergence = cg(lin,B,tol=tol,maxiter=max_cgiter,callback=cgcall)\n",
    "    print(f\"Finished in {time.time()-t1}s - ||Ax-b||/||b||: {np.linalg.norm(lin(x_inter)-B)/np.linalg.norm(B)}\")\n",
    "    return Dpu_Etot(uk,pk,np.reshape(x_inter,(n,n)))+grad_P(pk)\n",
    "\n",
    "# Callback function\n",
    "niter = 0\n",
    "def fcall(x):\n",
    "    global uk,niter\n",
    "    niter += 1\n",
    "    print(\"\\033[1m\" + f\"\\n{niter} iterations: ssim={ssim(uk,u0_mat)}\\n\\n\" + \"\\033[0m\")"
   ]
  },
  {
   "cell_type": "code",
   "execution_count": 81,
   "metadata": {
    "scrolled": true
   },
   "outputs": [
    {
     "name": "stdout",
     "output_type": "stream",
     "text": [
      "\n",
      "Evaluating E(p)\n",
      "Sigma: 0.4472135954999579 \n",
      "Tau: 1.118033988749895\n",
      "Finished in 0.15583157539367676 seconds.\n",
      "\n",
      "Starting PDHG\n",
      "Sigma: 0.4472135954999579 \n",
      "Tau: 1.118033988749895\n",
      "Finished in 0.1998307704925537 seconds.\n",
      "\n",
      "Starting Conjugate Gradient method\n",
      "Finished in 7.1727330684661865s - ||Ax-b||/||b||: 0.27753894424184794\n",
      "\n",
      "Evaluating E(p)\n",
      "Sigma: 0.4472135954999579 \n",
      "Tau: 1.118033988749895\n",
      "Finished in 0.12112689018249512 seconds.\n",
      "\n",
      "Evaluating E(p)\n",
      "Sigma: 0.4472135954999579 \n",
      "Tau: 1.118033988749895\n",
      "Finished in 0.16063880920410156 seconds.\n",
      "\n",
      "Evaluating E(p)\n",
      "Sigma: 0.4472135954999579 \n",
      "Tau: 1.118033988749895\n",
      "Finished in 0.12112212181091309 seconds.\n",
      "\n",
      "Evaluating E(p)\n",
      "Sigma: 0.4472135954999579 \n",
      "Tau: 1.118033988749895\n",
      "Finished in 0.1354382038116455 seconds.\n",
      "\n",
      "Evaluating E(p)\n",
      "Sigma: 0.4472135954999579 \n",
      "Tau: 1.118033988749895\n",
      "Finished in 0.12092351913452148 seconds.\n",
      "\n",
      "Evaluating E(p)\n",
      "Sigma: 0.4472135954999579 \n",
      "Tau: 1.118033988749895\n",
      "Finished in 0.13086676597595215 seconds.\n",
      "\n",
      "Evaluating E(p)\n",
      "Sigma: 0.4472135954999579 \n",
      "Tau: 1.118033988749895\n",
      "Finished in 0.1181325912475586 seconds.\n",
      "\n",
      "Evaluating E(p)\n",
      "Sigma: 0.4472135954999579 \n",
      "Tau: 1.118033988749895\n",
      "Finished in 0.12995624542236328 seconds.\n",
      "\n",
      "Evaluating E(p)\n",
      "Sigma: 0.4472135954999579 \n",
      "Tau: 1.118033988749895\n",
      "Finished in 0.11957979202270508 seconds.\n",
      "\n",
      "Evaluating E(p)\n",
      "Sigma: 0.4472135954999579 \n",
      "Tau: 1.118033988749895\n",
      "Finished in 0.13296127319335938 seconds.\n",
      "\n",
      "Evaluating E(p)\n",
      "Sigma: 0.4472135954999579 \n",
      "Tau: 1.118033988749895\n",
      "Finished in 0.12485814094543457 seconds.\n",
      "\n",
      "Evaluating E(p)\n",
      "Sigma: 0.4472135954999579 \n",
      "Tau: 1.118033988749895\n",
      "Finished in 0.12961506843566895 seconds.\n",
      "\n",
      "Evaluating E(p)\n",
      "Sigma: 0.4472135954999579 \n",
      "Tau: 1.118033988749895\n",
      "Finished in 0.11859631538391113 seconds.\n",
      "\n",
      "Evaluating E(p)\n",
      "Sigma: 0.4472135954999579 \n",
      "Tau: 1.118033988749895\n",
      "Finished in 0.12984681129455566 seconds.\n",
      "\n",
      "Evaluating E(p)\n",
      "Sigma: 0.4472135954999579 \n",
      "Tau: 1.118033988749895\n",
      "Finished in 0.15097260475158691 seconds.\n",
      "\n",
      "Evaluating E(p)\n",
      "Sigma: 0.4472135954999579 \n",
      "Tau: 1.118033988749895\n",
      "Finished in 0.1417703628540039 seconds.\n",
      "\n",
      "Evaluating E(p)\n",
      "Sigma: 0.4472135954999579 \n",
      "Tau: 1.118033988749895\n",
      "Finished in 0.11960291862487793 seconds.\n",
      "\n",
      "Evaluating E(p)\n",
      "Sigma: 0.4472135954999579 \n",
      "Tau: 1.118033988749895\n",
      "Finished in 0.13185596466064453 seconds.\n",
      "\n",
      "Evaluating E(p)\n",
      "Sigma: 0.4472135954999579 \n",
      "Tau: 1.118033988749895\n",
      "Finished in 0.11652779579162598 seconds.\n",
      "\n",
      "Evaluating E(p)\n",
      "Sigma: 0.4472135954999579 \n",
      "Tau: 1.118033988749895\n",
      "Finished in 0.1363966464996338 seconds.\n",
      "\n",
      "Evaluating E(p)\n",
      "Sigma: 0.4472135954999579 \n",
      "Tau: 1.118033988749895\n",
      "Finished in 0.12448596954345703 seconds.\n",
      "\n",
      "Evaluating E(p)\n",
      "Sigma: 0.4472135954999579 \n",
      "Tau: 1.118033988749895\n",
      "Finished in 0.1325054168701172 seconds.\n",
      "\n",
      "Evaluating E(p)\n",
      "Sigma: 0.4472135954999579 \n",
      "Tau: 1.118033988749895\n",
      "Finished in 0.11898207664489746 seconds.\n",
      "\n",
      "Evaluating E(p)\n",
      "Sigma: 0.4472135954999579 \n",
      "Tau: 1.118033988749895\n",
      "Finished in 0.1533067226409912 seconds.\n",
      "\n",
      "Evaluating E(p)\n",
      "Sigma: 0.4472135954999579 \n",
      "Tau: 1.118033988749895\n",
      "Finished in 0.14593887329101562 seconds.\n",
      "\n",
      "Evaluating E(p)\n",
      "Sigma: 0.4472135954999579 \n",
      "Tau: 1.118033988749895\n",
      "Finished in 0.18205976486206055 seconds.\n",
      "\n",
      "Evaluating E(p)\n",
      "Sigma: 0.4472135954999579 \n",
      "Tau: 1.118033988749895\n",
      "Finished in 0.1694355010986328 seconds.\n",
      "\n",
      "Evaluating E(p)\n",
      "Sigma: 0.4472135954999579 \n",
      "Tau: 1.118033988749895\n",
      "Finished in 0.18032097816467285 seconds.\n",
      "\n",
      "Evaluating E(p)\n",
      "Sigma: 0.4472135954999579 \n",
      "Tau: 1.118033988749895\n",
      "Finished in 0.1449885368347168 seconds.\n",
      "\n",
      "Evaluating E(p)\n",
      "Sigma: 0.4472135954999579 \n",
      "Tau: 1.118033988749895\n",
      "Finished in 0.1302199363708496 seconds.\n"
     ]
    }
   ],
   "source": [
    "p0 = 0.9*radial_p+0.1*np.random.rand(n**2+1)\n",
    "p0[-1]=1e-6\n",
    "Ep0,gradEp0 = E(p0),grad_E(p0)\n",
    "p1 = np.random.rand(n**2+1)\n",
    "\n",
    "tests = np.logspace(-9,0,30)\n",
    "real_values = np.array([E(p0+t*p1) for t in tests])\n",
    "approx = np.array([Ep0+t*np.sum(gradEp0*p1) for t in tests])"
   ]
  },
  {
   "cell_type": "code",
   "execution_count": 82,
   "metadata": {},
   "outputs": [
    {
     "name": "stdout",
     "output_type": "stream",
     "text": [
      "\n",
      "Evaluating E(p)\n",
      "Sigma: 0.4472135954999579 \n",
      "Tau: 1.118033988749895\n",
      "Finished in 0.14446616172790527 seconds.\n",
      "2.0211236952940207e-08\n"
     ]
    },
    {
     "data": {
      "image/png": "[encoded data removed]",
      "text/plain": [
       "<Figure size 432x288 with 1 Axes>"
      ]
     },
     "metadata": {
      "needs_background": "light"
     },
     "output_type": "display_data"
    }
   ],
   "source": [
    "print(E(p0))\n",
    "plt.plot(tests,abs((real_values-approx)/tests))\n",
    "plt.xscale(\"log\")\n",
    "plt.yscale(\"log\")"
   ]
  },
  {
   "cell_type": "code",
   "execution_count": 84,
   "metadata": {},
   "outputs": [
    {
     "name": "stdout",
     "output_type": "stream",
     "text": [
      "\n",
      "Starting PDHG\n",
      "Sigma: 0.4472135954999579 \n",
      "Tau: 1.118033988749895\n",
      "Finished in 0.22956347465515137 seconds.\n",
      "\n",
      "Starting Conjugate Gradient method\n",
      "Finished in 45.032808780670166s - ||Ax-b||/||b||: 0.07983097722999115\n"
     ]
    }
   ],
   "source": [
    "p[-1]=1e-6\n",
    "gP = grad_E(radial_p,max_cgiter=3000,tol=1e-10,compute_conv=True)"
   ]
  },
  {
   "cell_type": "code",
   "execution_count": 85,
   "metadata": {},
   "outputs": [
    {
     "data": {
      "text/plain": [
       "Text(0, 0.5, '||Ax-b||/||b||')"
      ]
     },
     "execution_count": 85,
     "metadata": {},
     "output_type": "execute_result"
    },
    {
     "data": {
      "image/png": "[encoded data removed]",
      "text/plain": [
       "<Figure size 432x288 with 1 Axes>"
      ]
     },
     "metadata": {
      "needs_background": "light"
     },
     "output_type": "display_data"
    }
   ],
   "source": [
    "plt.plot(cgconv)\n",
    "plt.yscale(\"log\")\n",
    "plt.title(\"Convergence of the conjugate gradient\")\n",
    "plt.xlabel(\"Number of iterations\")\n",
    "plt.ylabel(\"||Ax-b||/||b||\")\n",
    "#plt.savefig(\"Upper Level/CG_conv.png\")"
   ]
  },
  {
   "cell_type": "code",
   "execution_count": 86,
   "metadata": {},
   "outputs": [
    {
     "data": {
      "text/plain": [
       "5.106022622093054e-11"
      ]
     },
     "execution_count": 86,
     "metadata": {},
     "output_type": "execute_result"
    }
   ],
   "source": [
    "np.amax(gP)"
   ]
  },
  {
   "cell_type": "markdown",
   "metadata": {},
   "source": [
    "# L-BFGS-B"
   ]
  },
  {
   "cell_type": "code",
   "execution_count": 87,
   "metadata": {},
   "outputs": [],
   "source": [
    "p0 = 0.9*p+0.1*np.random.rand(n**2+1)\n",
    "# p0 = np.random.rand(n**2+1)\n",
    "# p0=np.ones(n**2+1)\n",
    "p0[-1] = 1e-6"
   ]
  },
  {
   "cell_type": "code",
   "execution_count": 93,
   "metadata": {
    "scrolled": true
   },
   "outputs": [
    {
     "name": "stdout",
     "output_type": "stream",
     "text": [
      "\n",
      "Evaluating E(p)\n",
      "Sigma: 0.4472135954999579 \n",
      "Tau: 1.118033988749895\n",
      "Finished in 0.15352463722229004 seconds.\n",
      "\n",
      "Starting PDHG\n",
      "Sigma: 0.4472135954999579 \n",
      "Tau: 1.118033988749895\n",
      "Finished in 0.20481300354003906 seconds.\n",
      "\n",
      "Starting Conjugate Gradient method\n",
      "Finished in 7.0677900314331055s - ||Ax-b||/||b||: 2.2688160624806\n",
      "\n",
      "Evaluating E(p)\n",
      "Sigma: 0.4472135954999579 \n",
      "Tau: 1.118033988749895\n",
      "Finished in 0.11770319938659668 seconds.\n",
      "\n",
      "Starting PDHG\n",
      "Sigma: 0.4472135954999579 \n",
      "Tau: 1.118033988749895\n",
      "Finished in 0.22371673583984375 seconds.\n",
      "\n",
      "Starting Conjugate Gradient method\n",
      "Finished in 7.183601379394531s - ||Ax-b||/||b||: 2.2688160715133154\n",
      "\u001b[1m\n",
      "1 iterations: ssim=0.9259907054365649\n",
      "\n",
      "\u001b[0m\n"
     ]
    }
   ],
   "source": [
    "niter = 0\n",
    "pf,Emin,info = fmin_l_bfgs_b(E,p0,grad_E,bounds=[(0,1)]*n**2+[(0,np.inf)],pgtol=1e-15,\n",
    "                           maxfun=1000,maxiter=1000,\n",
    "                            callback = fcall)"
   ]
  },
  {
   "cell_type": "code",
   "execution_count": 94,
   "metadata": {
    "scrolled": false
   },
   "outputs": [
    {
     "name": "stdout",
     "output_type": "stream",
     "text": [
      "\n",
      "Evaluating E(p)\n",
      "Sigma: 0.4472135954999579 \n",
      "Tau: 1.118033988749895\n",
      "Finished in 0.14522433280944824 seconds.\n",
      "\n",
      "Evaluating E(p)\n",
      "Sigma: 0.4472135954999579 \n",
      "Tau: 1.118033988749895\n",
      "Finished in 0.13728666305541992 seconds.\n",
      "2.023342147588628e-08 2.02334214756717e-08\n"
     ]
    }
   ],
   "source": [
    "print(E(p0),E(pf))"
   ]
  },
  {
   "cell_type": "code",
   "execution_count": 95,
   "metadata": {},
   "outputs": [
    {
     "name": "stdout",
     "output_type": "stream",
     "text": [
      "1e-06\n"
     ]
    }
   ],
   "source": [
    "print(pf[-1])\n",
    "pysap.Image(data=np.reshape(p0[:-1]-pf[:-1],(n,n))).show()"
   ]
  },
  {
   "cell_type": "code",
   "execution_count": 96,
   "metadata": {},
   "outputs": [
    {
     "data": {
      "text/plain": [
       "(1817.0829139984885, 1817.0829139837847)"
      ]
     },
     "execution_count": 96,
     "metadata": {},
     "output_type": "execute_result"
    }
   ],
   "source": [
    "np.sum(p0),np.sum(pf)"
   ]
  },
  {
   "cell_type": "code",
   "execution_count": 97,
   "metadata": {
    "scrolled": true
   },
   "outputs": [
    {
     "name": "stdout",
     "output_type": "stream",
     "text": [
      "Sigma: 0.4472135954999579 \n",
      "Tau: 1.118033988749895\n",
      "10  iterations:\n",
      "Cost: 3.3388846510981776e-09 \n",
      "Norm: 0.04227038262152637 \n",
      "\n",
      "20  iterations:\n",
      "Cost: 3.2985177468947222e-09 \n",
      "Norm: 0.002861538105700542 \n",
      "\n",
      "30  iterations:\n",
      "Cost: 3.2963825745761375e-09 \n",
      "Norm: 0.0007402123997088788 \n",
      "\n",
      "40  iterations:\n",
      "Cost: 3.2961340210915897e-09 \n",
      "Norm: 0.0004898522176367676 \n",
      "\n",
      "50  iterations:\n",
      "Cost: 3.2961183856879973e-09 \n",
      "Norm: 0.0004336489924865564 \n",
      "\n",
      "60  iterations:\n",
      "Cost: 3.296118798097257e-09 \n",
      "Norm: 0.0003636482006864322 \n",
      "\n",
      "70  iterations:\n",
      "Cost: 3.2961242995551457e-09 \n",
      "Norm: 0.00022369329254972307 \n",
      "\n",
      "80  iterations:\n",
      "Cost: 3.2961259376821167e-09 \n",
      "Norm: 0.00019722638708378318 \n",
      "\n",
      "90  iterations:\n",
      "Cost: 3.2961259397312407e-09 \n",
      "Norm: 0.0001899019704274946 \n",
      "\n",
      "100  iterations:\n",
      "Cost: 3.2961251662005523e-09 \n",
      "Norm: 0.00018708274338026791 \n",
      "\n",
      "Finished in 0.9759185314178467 seconds.\n",
      "0.9259355787507637\n"
     ]
    },
    {
     "data": {
      "image/png": "[encoded data removed]",
      "text/plain": [
       "<Figure size 432x288 with 1 Axes>"
      ]
     },
     "metadata": {
      "needs_background": "light"
     },
     "output_type": "display_data"
    },
    {
     "data": {
      "image/png": "[encoded data removed]",
      "text/plain": [
       "<Figure size 432x288 with 1 Axes>"
      ]
     },
     "metadata": {
      "needs_background": "light"
     },
     "output_type": "display_data"
    }
   ],
   "source": [
    "uk,norms,energy,ssims = pdhg(y,pf[:-1],fourier_op,linear_op,param,ground_truth=u0_mat,maxit=100)\n",
    "print(ssim(uk,u0_mat))\n",
    "\n",
    "plt.figure()\n",
    "plt.plot(ssims)\n",
    "plt.title(\"Evolution of ssim\")\n",
    "plt.show()\n",
    "\n",
    "plt.figure()\n",
    "plt.plot(energy)\n",
    "plt.title(\"Evolution of energy\")\n",
    "plt.yscale(\"log\")\n",
    "plt.show()\n",
    "\n",
    "pysap.Image(data=uk).show()"
   ]
  }
 ],
 "metadata": {
  "kernelspec": {
   "display_name": "Python 3",
   "language": "python",
   "name": "python3"
  },
  "language_info": {
   "codemirror_mode": {
    "name": "ipython",
    "version": 3
   },
   "file_extension": ".py",
   "mimetype": "text/x-python",
   "name": "python",
   "nbconvert_exporter": "python",
   "pygments_lexer": "ipython3",
   "version": "3.7.3"
  }
 },
 "nbformat": 4,
 "nbformat_minor": 2
}
