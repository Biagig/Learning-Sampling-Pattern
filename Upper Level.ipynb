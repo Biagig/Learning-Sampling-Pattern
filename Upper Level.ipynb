{
 "cells": [
  {
   "cell_type": "code",
   "execution_count": 1,
   "metadata": {
    "scrolled": true
   },
   "outputs": [
    {
     "name": "stdout",
     "output_type": "stream",
     "text": [
      "\n",
      "                 .|'''|       /.\\      '||'''|,\n",
      "                 ||          // \\\\      ||   ||\n",
      "'||''|, '||  ||` `|'''|,    //...\\\\     ||...|'\n",
      " ||  ||  `|..||   .   ||   //     \\\\    ||\n",
      " ||..|'      ||   |...|' .//       \\\\. .||\n",
      " ||       ,  |'\n",
      ".||        ''\n",
      "\n",
      "Package version: 0.0.3\n",
      "\n",
      "License: CeCILL-B\n",
      "\n",
      "Authors: \n",
      "\n",
      "Antoine Grigis <antoine.grigis@cea.fr>\n",
      "Samuel Farrens <samuel.farrens@cea.fr>\n",
      "Jean-Luc Starck <jl.stark@cea.fr>\n",
      "Philippe Ciuciu <philippe.ciuciu@cea.fr>\n",
      "\n",
      "Dependencies: \n",
      "\n",
      "scipy          : >=1.3.0   - required | 1.3.0     installed\n",
      "numpy          : >=1.16.4  - required | 1.16.4    installed\n",
      "matplotlib     : >=3.0.0   - required | 3.1.1     installed\n",
      "astropy        : >=3.0.0   - required | 3.2.1     installed\n",
      "nibabel        : >=2.3.2   - required | 2.5.1     installed\n",
      "pyqtgraph      : >=0.10.0  - required | 0.10.0    installed\n",
      "progressbar2   : >=3.34.3  - required | ?         installed\n",
      "modopt         : >=1.4.0   - required | 1.4.1     installed\n",
      "scikit-learn   : >=0.19.1  - required | ?         installed\n",
      "pywt           : >=1.0.0   - required | 1.0.3     installed\n",
      "pysparse       : >=0.0.1   - required | 0.1.0     installed\n",
      "\n"
     ]
    }
   ],
   "source": [
    "from mri.operators import NonCartesianFFT, WaveletUD2, WaveletN\n",
    "import pysap\n",
    "from pysap.data import get_sample_data\n",
    "from mri.operators.utils import convert_mask_to_locations, convert_locations_to_mask\n",
    "from modopt.math.metrics import ssim\n",
    "import matplotlib.pyplot as plt\n",
    "import numpy as np"
   ]
  },
  {
   "cell_type": "code",
   "execution_count": 2,
   "metadata": {},
   "outputs": [],
   "source": [
    "# Lower level imports\n",
    "from LowerLevel.prox import prox_G,prox_F1_dual,prox_F2_dual\n",
    "from LowerLevel.pdhg import pdhg\n",
    "from LowerLevel.cost_utils import *\n",
    "\n",
    "#Upper level imports\n",
    "from scipy.sparse.linalg import cg,LinearOperator\n",
    "import scipy\n",
    "import time\n",
    "from UpperLevel.L1norm import *\n",
    "from UpperLevel.hessians import *\n",
    "from scipy.optimize.lbfgsb import fmin_l_bfgs_b"
   ]
  },
  {
   "cell_type": "code",
   "execution_count": 31,
   "metadata": {},
   "outputs": [],
   "source": [
    "u0 = get_sample_data('2d-mri')\n",
    "u0_mat = (1+0j)*u0.data[125:155,125:155]"
   ]
  },
  {
   "cell_type": "code",
   "execution_count": 32,
   "metadata": {},
   "outputs": [],
   "source": [
    "n=u0_mat.shape[0]\n",
    "x = np.linspace(0,n,n,endpoint=False)/n-0.5\n",
    "y = np.linspace(0,n,n,endpoint=False)/n-0.5\n",
    "X,Y = np.meshgrid(x,y)\n",
    "kspace_loc = np.stack([X.flatten('F'),Y.flatten('F')],axis=1)\n",
    "\n",
    "m = convert_locations_to_mask(kspace_loc,u0_mat.shape)\n",
    "fourier_op = NonCartesianFFT(samples=kspace_loc, shape=u0_mat.shape,implementation='cpu')\n",
    "\n",
    "y = (1+0j)*fourier_op.op(u0_mat)+1e-7*np.random.randn(2*n*n).view(np.complex128)"
   ]
  },
  {
   "cell_type": "code",
   "execution_count": 33,
   "metadata": {},
   "outputs": [],
   "source": [
    "#Subsampling: From pysap radial mask \n",
    "radial_mask = get_sample_data(\"mri-radial-samples\")\n",
    "radial_kspace_loc = radial_mask.data\n",
    "radial_p = np.zeros((n*n+1,))\n",
    "\n",
    "ind1 = ((n-1)*(radial_kspace_loc[:,0]+0.5)).astype(int)\n",
    "ind2 = ((n-1)*(radial_kspace_loc[:,1]+0.5)).astype(int)\n",
    "radial_p[n*ind1+ind2]=1\n",
    "radial_p[-1]=1e-6\n",
    "p = np.copy(radial_p)\n",
    "\n",
    "#Wavelet\n",
    "linear_op = WaveletN(wavelet_name=\"sym8\",nb_scale=1,padding_mode = \"periodization\")\n",
    "#linear_op = WaveletUD2(wavelet_id=24,nb_scale=3)\n",
    "\n",
    "param = {\"pn1\":p[-1],\"epsilon\":1e-5,\"gamma\":1e-10}\n"
   ]
  },
  {
   "cell_type": "code",
   "execution_count": 34,
   "metadata": {},
   "outputs": [],
   "source": [
    "pysap.Image(data=np.reshape(radial_p[:-1],(n,n))).show()"
   ]
  },
  {
   "cell_type": "code",
   "execution_count": 35,
   "metadata": {},
   "outputs": [
    {
     "name": "stdout",
     "output_type": "stream",
     "text": [
      "0.9866996615236019\n"
     ]
    }
   ],
   "source": [
    "print(ssim(fourier_op.adj_op(p[:-1]*y),u0_mat))\n",
    "pysap.Image(data=fourier_op.adj_op(p[:-1]*y)).show()"
   ]
  },
  {
   "cell_type": "markdown",
   "metadata": {},
   "source": [
    "## Loss function and penalty"
   ]
  },
  {
   "cell_type": "code",
   "execution_count": 44,
   "metadata": {},
   "outputs": [],
   "source": [
    "c = 1e0\n",
    "def L(u,u2):return c/2*np.linalg.norm(u-u2)**2\n",
    "def grad_L(u,u2):return c*(u-u2)\n",
    "\n",
    "beta = 0*c\n",
    "def P(p):return beta*np.linalg.norm(p[:-1])**2\n",
    "def grad_P(p):\n",
    "    Dp = 2*beta*p\n",
    "    Dp[-1] = 0\n",
    "    return Dp\n",
    "\n",
    "# def P(p):return beta*np.sum(p[:-1]*(2-p[:-1]))\n",
    "# def grad_P(p):\n",
    "#     Dp = np.zeros(n**2+1)\n",
    "#     Dp[:-1] = 2*beta*(1-p[:-1])\n",
    "#     return Dp"
   ]
  },
  {
   "cell_type": "code",
   "execution_count": 45,
   "metadata": {},
   "outputs": [
    {
     "name": "stdout",
     "output_type": "stream",
     "text": [
      "Sigma: 0.4472135954999579 \n",
      "Tau: 1.118033988749895\n",
      "Finished in 0.11574816703796387 seconds.\n",
      "\n",
      "L(u(p))=2.0551418657787933e-10\n",
      "P(p)=0.0\n"
     ]
    }
   ],
   "source": [
    "param[\"pn1\"]=1e-6\n",
    "p = np.copy(radial_p)\n",
    "uk,norms,energy = pdhg(y,p[:-1],fourier_op,linear_op,param,maxit=30,verbose=0)\n",
    "print(f\"\\nL(u(p))={L(uk,u0_mat)}\\nP(p)={P(p)}\")"
   ]
  },
  {
   "cell_type": "markdown",
   "metadata": {},
   "source": [
    "# Upper level energy"
   ]
  },
  {
   "cell_type": "code",
   "execution_count": 51,
   "metadata": {},
   "outputs": [],
   "source": [
    "def E(pk):\n",
    "    print(\"\\nEvaluating E(p)\")\n",
    "    param[\"pn1\"]=pk[-1]\n",
    "    uk,norms = pdhg(y,pk[:-1],fourier_op,linear_op,param,compute_energy=False,maxit=20,verbose=0)\n",
    "    return L(uk,u0_mat)+P(pk)\n",
    "\n",
    "cgconv = []\n",
    "def grad_E(pk,max_cgiter=1000,cgtol=1e-6,compute_conv=False):\n",
    "    global cgconv\n",
    "    #Compute uk from pk with lower level solver\n",
    "    param[\"pn1\"]=pk[-1]\n",
    "    print(\"\\nStarting PDHG\")\n",
    "    uk,norms = pdhg(y,pk[:-1],fourier_op,linear_op,param,compute_energy=False,maxit=50,verbose=0)\n",
    "    \n",
    "    #Defining linear operator from pk and uk\n",
    "    def mv(w):\n",
    "        w = np.reshape(w,(n,n))\n",
    "        return np.reshape(Du2_Ereg(uk,pk,w,\n",
    "                                   eps=param[\"epsilon\"],\n",
    "                                   fourier_op=fourier_op,\n",
    "                                   y=y,\n",
    "                                   linear_op=linear_op,\n",
    "                                   gamma=param[\"gamma\"]),(n**2,))\n",
    "    \n",
    "    \n",
    "    # -- Use cg to compute gradient --\n",
    "    lin = LinearOperator((n**2,n**2),matvec=mv)\n",
    "    B = np.reshape(np.conj(grad_L(uk,u0_mat).transpose()),(n**2,))\n",
    "    def cgcall(x):\n",
    "        if compute_conv:cgconv.append(np.linalg.norm(lin(x)-B)/np.linalg.norm(B))\n",
    "    \n",
    "    t1=time.time()\n",
    "    print(\"\\nStarting Conjugate Gradient method\")\n",
    "    x_inter,convergence = scipy.sparse.linalg.cg(lin,B,tol=cgtol,maxiter=max_cgiter,callback=cgcall)\n",
    "    print(f\"Finished in {time.time()-t1}s - ||Ax-b||/||b||: {np.linalg.norm(lin(x_inter)-B)/np.linalg.norm(B)}\")\n",
    "    \n",
    "    #Apply DpuE\n",
    "    return -Dpu_Etot(uk,pk,np.reshape(x_inter,(n,n)),\n",
    "                                   eps=param[\"epsilon\"],\n",
    "                                   fourier_op=fourier_op,\n",
    "                                   y=y,\n",
    "                                   linear_op=linear_op,\n",
    "                                   gamma=param[\"gamma\"])\n",
    "\n",
    "# Callback function\n",
    "niter = 0\n",
    "def fcall(x):\n",
    "    global uk,niter\n",
    "    niter += 1\n",
    "    print(\"\\033[1m\" + f\"\\n{niter} iterations: ssim={ssim(uk,u0_mat)}\\n\\n\" + \"\\033[0m\")"
   ]
  },
  {
   "cell_type": "code",
   "execution_count": 52,
   "metadata": {
    "scrolled": true
   },
   "outputs": [
    {
     "name": "stdout",
     "output_type": "stream",
     "text": [
      "\n",
      "Starting PDHG\n",
      "Sigma: 0.4472135954999579 \n",
      "Tau: 1.118033988749895\n",
      "Finished in 0.10161280632019043 seconds.\n",
      "\n",
      "Starting Conjugate Gradient method\n",
      "Finished in 21.454121112823486s - ||Ax-b||/||b||: 1063220.3798064128\n"
     ]
    }
   ],
   "source": [
    "#Checking if conjugate gradient converges\n",
    "cgconv = []\n",
    "p=0.9*radial_p+0.1*np.random.rand(n**2+1)\n",
    "p[-1]=1e-6\n",
    "gP = grad_E(p,max_cgiter=10000,cgtol=1e-8,compute_conv=True)"
   ]
  },
  {
   "cell_type": "code",
   "execution_count": 53,
   "metadata": {},
   "outputs": [
    {
     "data": {
      "text/plain": [
       "Text(0, 0.5, '||Ax-b||/||b||')"
      ]
     },
     "execution_count": 53,
     "metadata": {},
     "output_type": "execute_result"
    },
    {
     "data": {
      "image/png": "[encoded data removed]",
      "text/plain": [
       "<Figure size 432x288 with 1 Axes>"
      ]
     },
     "metadata": {
      "needs_background": "light"
     },
     "output_type": "display_data"
    }
   ],
   "source": [
    "plt.plot(cgconv)\n",
    "plt.yscale(\"log\")\n",
    "plt.title(\"Convergence of the conjugate gradient\")\n",
    "plt.xlabel(\"Number of iterations\")\n",
    "plt.ylabel(\"||Ax-b||/||b||\")\n",
    "#plt.savefig(\"Upper Level/CG_conv.png\")"
   ]
  },
  {
   "cell_type": "code",
   "execution_count": 42,
   "metadata": {
    "scrolled": true
   },
   "outputs": [
    {
     "name": "stdout",
     "output_type": "stream",
     "text": [
      "\n",
      "Evaluating E(p)\n",
      "Sigma: 0.4472135954999579 \n",
      "Tau: 1.118033988749895\n",
      "Finished in 0.08066987991333008 seconds.\n",
      "\n",
      "Starting PDHG\n",
      "Sigma: 0.4472135954999579 \n",
      "Tau: 1.118033988749895\n",
      "Finished in 0.08048892021179199 seconds.\n",
      "\n",
      "Starting Conjugate Gradient method\n",
      "Finished in 2.5971548557281494s - ||Ax-b||/||b||: 1.2262364743189077e-05\n",
      "\n",
      "Evaluating E(p)\n",
      "Sigma: 0.4472135954999579 \n",
      "Tau: 1.118033988749895\n",
      "Finished in 0.06348228454589844 seconds.\n",
      "\n",
      "Evaluating E(p)\n",
      "Sigma: 0.4472135954999579 \n",
      "Tau: 1.118033988749895\n",
      "Finished in 0.06893277168273926 seconds.\n",
      "\n",
      "Evaluating E(p)\n",
      "Sigma: 0.4472135954999579 \n",
      "Tau: 1.118033988749895\n",
      "Finished in 0.09384536743164062 seconds.\n",
      "\n",
      "Evaluating E(p)\n",
      "Sigma: 0.4472135954999579 \n",
      "Tau: 1.118033988749895\n",
      "Finished in 0.05064129829406738 seconds.\n",
      "\n",
      "Evaluating E(p)\n",
      "Sigma: 0.4472135954999579 \n",
      "Tau: 1.118033988749895\n",
      "Finished in 0.047142744064331055 seconds.\n",
      "\n",
      "Evaluating E(p)\n",
      "Sigma: 0.4472135954999579 \n",
      "Tau: 1.118033988749895\n",
      "Finished in 0.04622912406921387 seconds.\n",
      "\n",
      "Evaluating E(p)\n",
      "Sigma: 0.4472135954999579 \n",
      "Tau: 1.118033988749895\n",
      "Finished in 0.04615020751953125 seconds.\n",
      "\n",
      "Evaluating E(p)\n",
      "Sigma: 0.4472135954999579 \n",
      "Tau: 1.118033988749895\n",
      "Finished in 0.0666036605834961 seconds.\n",
      "\n",
      "Evaluating E(p)\n",
      "Sigma: 0.4472135954999579 \n",
      "Tau: 1.118033988749895\n",
      "Finished in 0.06214141845703125 seconds.\n",
      "\n",
      "Evaluating E(p)\n",
      "Sigma: 0.4472135954999579 \n",
      "Tau: 1.118033988749895\n",
      "Finished in 0.06937050819396973 seconds.\n",
      "\n",
      "Evaluating E(p)\n",
      "Sigma: 0.4472135954999579 \n",
      "Tau: 1.118033988749895\n",
      "Finished in 0.06251168251037598 seconds.\n",
      "\n",
      "Evaluating E(p)\n",
      "Sigma: 0.4472135954999579 \n",
      "Tau: 1.118033988749895\n",
      "Finished in 0.05713343620300293 seconds.\n",
      "\n",
      "Evaluating E(p)\n",
      "Sigma: 0.4472135954999579 \n",
      "Tau: 1.118033988749895\n",
      "Finished in 0.04755663871765137 seconds.\n",
      "\n",
      "Evaluating E(p)\n",
      "Sigma: 0.4472135954999579 \n",
      "Tau: 1.118033988749895\n",
      "Finished in 0.05493903160095215 seconds.\n",
      "\n",
      "Evaluating E(p)\n",
      "Sigma: 0.4472135954999579 \n",
      "Tau: 1.118033988749895\n",
      "Finished in 0.04604148864746094 seconds.\n",
      "\n",
      "Evaluating E(p)\n",
      "Sigma: 0.4472135954999579 \n",
      "Tau: 1.118033988749895\n",
      "Finished in 0.0459902286529541 seconds.\n",
      "\n",
      "Evaluating E(p)\n",
      "Sigma: 0.4472135954999579 \n",
      "Tau: 1.118033988749895\n",
      "Finished in 0.046210527420043945 seconds.\n",
      "\n",
      "Evaluating E(p)\n",
      "Sigma: 0.4472135954999579 \n",
      "Tau: 1.118033988749895\n",
      "Finished in 0.04613041877746582 seconds.\n",
      "\n",
      "Evaluating E(p)\n",
      "Sigma: 0.4472135954999579 \n",
      "Tau: 1.118033988749895\n",
      "Finished in 0.057958126068115234 seconds.\n",
      "\n",
      "Evaluating E(p)\n",
      "Sigma: 0.4472135954999579 \n",
      "Tau: 1.118033988749895\n",
      "Finished in 0.04616665840148926 seconds.\n",
      "\n",
      "Evaluating E(p)\n",
      "Sigma: 0.4472135954999579 \n",
      "Tau: 1.118033988749895\n",
      "Finished in 0.045809268951416016 seconds.\n",
      "\n",
      "Evaluating E(p)\n",
      "Sigma: 0.4472135954999579 \n",
      "Tau: 1.118033988749895\n",
      "Finished in 0.07366585731506348 seconds.\n",
      "\n",
      "Evaluating E(p)\n",
      "Sigma: 0.4472135954999579 \n",
      "Tau: 1.118033988749895\n",
      "Finished in 0.05589652061462402 seconds.\n",
      "\n",
      "Evaluating E(p)\n",
      "Sigma: 0.4472135954999579 \n",
      "Tau: 1.118033988749895\n",
      "Finished in 0.04784083366394043 seconds.\n",
      "\n",
      "Evaluating E(p)\n",
      "Sigma: 0.4472135954999579 \n",
      "Tau: 1.118033988749895\n",
      "Finished in 0.04592275619506836 seconds.\n",
      "\n",
      "Evaluating E(p)\n",
      "Sigma: 0.4472135954999579 \n",
      "Tau: 1.118033988749895\n",
      "Finished in 0.04594826698303223 seconds.\n",
      "\n",
      "Evaluating E(p)\n",
      "Sigma: 0.4472135954999579 \n",
      "Tau: 1.118033988749895\n",
      "Finished in 0.046190500259399414 seconds.\n",
      "\n",
      "Evaluating E(p)\n",
      "Sigma: 0.4472135954999579 \n",
      "Tau: 1.118033988749895\n",
      "Finished in 0.05571413040161133 seconds.\n",
      "\n",
      "Evaluating E(p)\n",
      "Sigma: 0.4472135954999579 \n",
      "Tau: 1.118033988749895\n",
      "Finished in 0.04624605178833008 seconds.\n",
      "\n",
      "Evaluating E(p)\n",
      "Sigma: 0.4472135954999579 \n",
      "Tau: 1.118033988749895\n",
      "Finished in 0.04730391502380371 seconds.\n",
      "\n",
      "Evaluating E(p)\n",
      "Sigma: 0.4472135954999579 \n",
      "Tau: 1.118033988749895\n",
      "Finished in 0.04754304885864258 seconds.\n",
      "\n",
      "Evaluating E(p)\n",
      "Sigma: 0.4472135954999579 \n",
      "Tau: 1.118033988749895\n",
      "Finished in 0.04586386680603027 seconds.\n",
      "\n",
      "Evaluating E(p)\n",
      "Sigma: 0.4472135954999579 \n",
      "Tau: 1.118033988749895\n",
      "Finished in 0.08452749252319336 seconds.\n",
      "\n",
      "Evaluating E(p)\n",
      "Sigma: 0.4472135954999579 \n",
      "Tau: 1.118033988749895\n",
      "Finished in 0.04687905311584473 seconds.\n",
      "\n",
      "Evaluating E(p)\n",
      "Sigma: 0.4472135954999579 \n",
      "Tau: 1.118033988749895\n",
      "Finished in 0.04644298553466797 seconds.\n",
      "\n",
      "Evaluating E(p)\n",
      "Sigma: 0.4472135954999579 \n",
      "Tau: 1.118033988749895\n",
      "Finished in 0.04585766792297363 seconds.\n",
      "\n",
      "Evaluating E(p)\n",
      "Sigma: 0.4472135954999579 \n",
      "Tau: 1.118033988749895\n",
      "Finished in 0.04602479934692383 seconds.\n",
      "\n",
      "Evaluating E(p)\n",
      "Sigma: 0.4472135954999579 \n",
      "Tau: 1.118033988749895\n",
      "Finished in 0.059996604919433594 seconds.\n",
      "\n",
      "Evaluating E(p)\n",
      "Sigma: 0.4472135954999579 \n",
      "Tau: 1.118033988749895\n",
      "Finished in 0.0458226203918457 seconds.\n",
      "\n",
      "Evaluating E(p)\n",
      "Sigma: 0.4472135954999579 \n",
      "Tau: 1.118033988749895\n",
      "Finished in 0.045800209045410156 seconds.\n",
      "\n",
      "Evaluating E(p)\n",
      "Sigma: 0.4472135954999579 \n",
      "Tau: 1.118033988749895\n",
      "Finished in 0.04614543914794922 seconds.\n",
      "\n",
      "Evaluating E(p)\n",
      "Sigma: 0.4472135954999579 \n",
      "Tau: 1.118033988749895\n",
      "Finished in 0.046217918395996094 seconds.\n",
      "\n",
      "Evaluating E(p)\n",
      "Sigma: 0.4472135954999579 \n",
      "Tau: 1.118033988749895\n",
      "Finished in 0.11879539489746094 seconds.\n",
      "\n",
      "Evaluating E(p)\n",
      "Sigma: 0.4472135954999579 \n",
      "Tau: 1.118033988749895\n",
      "Finished in 0.09058690071105957 seconds.\n",
      "\n",
      "Evaluating E(p)\n",
      "Sigma: 0.4472135954999579 \n",
      "Tau: 1.118033988749895\n",
      "Finished in 0.06680417060852051 seconds.\n",
      "\n",
      "Evaluating E(p)\n",
      "Sigma: 0.4472135954999579 \n",
      "Tau: 1.118033988749895\n",
      "Finished in 0.05600714683532715 seconds.\n",
      "\n",
      "Evaluating E(p)\n",
      "Sigma: 0.4472135954999579 \n",
      "Tau: 1.118033988749895\n",
      "Finished in 0.04618406295776367 seconds.\n",
      "\n",
      "Evaluating E(p)\n",
      "Sigma: 0.4472135954999579 \n",
      "Tau: 1.118033988749895\n",
      "Finished in 0.04594993591308594 seconds.\n",
      "\n",
      "Evaluating E(p)\n",
      "Sigma: 0.4472135954999579 \n",
      "Tau: 1.118033988749895\n",
      "Finished in 0.04582500457763672 seconds.\n",
      "\n",
      "Evaluating E(p)\n",
      "Sigma: 0.4472135954999579 \n",
      "Tau: 1.118033988749895\n",
      "Finished in 0.045888662338256836 seconds.\n"
     ]
    }
   ],
   "source": [
    "# Checking gradE\n",
    "p0 = 0.99*radial_p+0.01*np.random.rand(n**2+1)\n",
    "p0[-1] = 1e-6\n",
    "Ep0,gradEp0 = E(p0),grad_E(p0)\n",
    "p1 = np.random.rand(n**2+1)\n",
    "\n",
    "tests = np.logspace(-8,0,50)\n",
    "real_values = np.array([E(p0+t*p1) for t in tests])\n",
    "approx = np.array([Ep0+t*np.sum(gradEp0*p1) for t in tests])"
   ]
  },
  {
   "cell_type": "code",
   "execution_count": 43,
   "metadata": {},
   "outputs": [
    {
     "name": "stdout",
     "output_type": "stream",
     "text": [
      "\n",
      "Evaluating E(p)\n",
      "Sigma: 0.4472135954999579 \n",
      "Tau: 1.118033988749895\n",
      "Finished in 0.07995080947875977 seconds.\n",
      "2.0646222350601564e-10\n"
     ]
    },
    {
     "data": {
      "image/png": "[encoded data removed]",
      "text/plain": [
       "<Figure size 432x288 with 1 Axes>"
      ]
     },
     "metadata": {
      "needs_background": "light"
     },
     "output_type": "display_data"
    }
   ],
   "source": [
    "print(E(p0))\n",
    "plt.plot(tests,abs((real_values-approx)/tests))\n",
    "plt.xscale(\"log\")\n",
    "plt.yscale(\"log\")"
   ]
  },
  {
   "cell_type": "code",
   "execution_count": 23,
   "metadata": {},
   "outputs": [
    {
     "data": {
      "text/plain": [
       "<matplotlib.legend.Legend at 0x7f426f6910b8>"
      ]
     },
     "execution_count": 23,
     "metadata": {},
     "output_type": "execute_result"
    },
    {
     "data": {
      "image/png": "[encoded data removed]",
      "text/plain": [
       "<Figure size 432x288 with 1 Axes>"
      ]
     },
     "metadata": {
      "needs_background": "light"
     },
     "output_type": "display_data"
    }
   ],
   "source": [
    "nplot = 10\n",
    "plt.plot(tests[:nplot],real_values[:nplot],label=\"Real values\")\n",
    "plt.plot(tests[:nplot],approx[:nplot],label=\"Approximation\")\n",
    "plt.xscale(\"log\")\n",
    "plt.yscale(\"log\")\n",
    "plt.legend()"
   ]
  },
  {
   "cell_type": "markdown",
   "metadata": {},
   "source": [
    "# L-BFGS-B"
   ]
  },
  {
   "cell_type": "code",
   "execution_count": 24,
   "metadata": {},
   "outputs": [],
   "source": [
    "p0 = 0.9*p+0.1*np.random.rand(n**2+1)\n",
    "# p0 = np.random.rand(n**2+1)\n",
    "# p0=np.ones(n**2+1)\n",
    "p0[-1] = 1e-6"
   ]
  },
  {
   "cell_type": "code",
   "execution_count": 25,
   "metadata": {
    "scrolled": true
   },
   "outputs": [
    {
     "name": "stdout",
     "output_type": "stream",
     "text": [
      "\n",
      "Evaluating E(p)\n",
      "Sigma: 0.4472135954999579 \n",
      "Tau: 1.118033988749895\n",
      "Finished in 0.0629734992980957 seconds.\n",
      "\n",
      "Starting PDHG\n",
      "Sigma: 0.4472135954999579 \n",
      "Tau: 1.118033988749895\n",
      "Finished in 0.07256484031677246 seconds.\n",
      "\n",
      "Starting Conjugate Gradient method\n",
      "Finished in 2.1129515171051025s - ||Ax-b||/||b||: 9.996412300917989e-07\n",
      "\n",
      "Evaluating E(p)\n",
      "Sigma: 0.4472135954999579 \n",
      "Tau: 1.118033988749895\n",
      "Finished in 0.04636383056640625 seconds.\n",
      "\n",
      "Starting PDHG\n",
      "Sigma: 0.4472135954999579 \n",
      "Tau: 1.118033988749895\n",
      "Finished in 0.07221341133117676 seconds.\n",
      "\n",
      "Starting Conjugate Gradient method\n",
      "Finished in 2.242455005645752s - ||Ax-b||/||b||: 9.6731811588875e-07\n",
      "\u001b[1m\n",
      "1 iterations: ssim=0.9684554526622722\n",
      "\n",
      "\u001b[0m\n"
     ]
    }
   ],
   "source": [
    "niter = 0\n",
    "pf,Emin,info = fmin_l_bfgs_b(E,p0,grad_E,bounds=[(0,1)]*n**2+[(0,np.inf)],pgtol=1e-15,\n",
    "                           maxfun=1000,maxiter=1000,\n",
    "                            callback = fcall)"
   ]
  },
  {
   "cell_type": "code",
   "execution_count": 26,
   "metadata": {},
   "outputs": [
    {
     "name": "stdout",
     "output_type": "stream",
     "text": [
      "\n",
      "Evaluating E(p)\n",
      "Sigma: 0.4472135954999579 \n",
      "Tau: 1.118033988749895\n",
      "Finished in 0.05904340744018555 seconds.\n",
      "\n",
      "Evaluating E(p)\n",
      "Sigma: 0.4472135954999579 \n",
      "Tau: 1.118033988749895\n",
      "Finished in 0.053878068923950195 seconds.\n",
      "3.3974422237993685e-19\n"
     ]
    }
   ],
   "source": [
    "print(E(p0)-E(pf))"
   ]
  },
  {
   "cell_type": "code",
   "execution_count": 27,
   "metadata": {},
   "outputs": [
    {
     "name": "stdout",
     "output_type": "stream",
     "text": [
      "1e-06\n"
     ]
    }
   ],
   "source": [
    "print(pf[-1])\n",
    "pysap.Image(data=np.reshape(p0[:-1]-pf[:-1],(n,n))).show()"
   ]
  },
  {
   "cell_type": "code",
   "execution_count": 28,
   "metadata": {},
   "outputs": [
    {
     "data": {
      "text/plain": [
       "(650.581211892257, 650.5812118927056)"
      ]
     },
     "execution_count": 28,
     "metadata": {},
     "output_type": "execute_result"
    }
   ],
   "source": [
    "np.sum(p0),np.sum(pf)"
   ]
  },
  {
   "cell_type": "code",
   "execution_count": 29,
   "metadata": {
    "scrolled": true
   },
   "outputs": [
    {
     "name": "stdout",
     "output_type": "stream",
     "text": [
      "Sigma: 0.4472135954999579 \n",
      "Tau: 1.118033988749895\n",
      "10  iterations:\n",
      "Cost: 5.217428498046902e-09 \n",
      "Norm: 0.042877977224473056 \n",
      "\n",
      "20  iterations:\n",
      "Cost: 5.203153289309216e-09 \n",
      "Norm: 0.0013594088579713332 \n",
      "\n",
      "30  iterations:\n",
      "Cost: 5.2025496053809495e-09 \n",
      "Norm: 0.00011011094133465381 \n",
      "\n",
      "Finished in 0.12651300430297852 seconds.\n"
     ]
    }
   ],
   "source": [
    "uk,norms,energy,ssims = pdhg(y,pf[:-1],fourier_op,linear_op,param,ground_truth=u0_mat,maxit=100)"
   ]
  },
  {
   "cell_type": "code",
   "execution_count": 30,
   "metadata": {
    "scrolled": true
   },
   "outputs": [
    {
     "name": "stdout",
     "output_type": "stream",
     "text": [
      "0.9638267774540886\n"
     ]
    },
    {
     "data": {
      "image/png": "[encoded data removed]",
      "text/plain": [
       "<Figure size 432x288 with 1 Axes>"
      ]
     },
     "metadata": {
      "needs_background": "light"
     },
     "output_type": "display_data"
    },
    {
     "data": {
      "image/png": "[encoded data removed]",
      "text/plain": [
       "<Figure size 432x288 with 1 Axes>"
      ]
     },
     "metadata": {
      "needs_background": "light"
     },
     "output_type": "display_data"
    }
   ],
   "source": [
    "print(ssim(uk,u0_mat))\n",
    "\n",
    "plt.figure()\n",
    "plt.plot(ssims)\n",
    "plt.title(\"Evolution of ssim\")\n",
    "plt.show()\n",
    "\n",
    "plt.figure()\n",
    "plt.plot(energy)\n",
    "plt.title(\"Evolution of energy\")\n",
    "plt.yscale(\"log\")\n",
    "plt.show()\n",
    "\n",
    "pysap.Image(data=uk).show()"
   ]
  }
 ],
 "metadata": {
  "kernelspec": {
   "display_name": "Python 3",
   "language": "python",
   "name": "python3"
  },
  "language_info": {
   "codemirror_mode": {
    "name": "ipython",
    "version": 3
   },
   "file_extension": ".py",
   "mimetype": "text/x-python",
   "name": "python",
   "nbconvert_exporter": "python",
   "pygments_lexer": "ipython3",
   "version": "3.7.3"
  }
 },
 "nbformat": 4,
 "nbformat_minor": 2
}
