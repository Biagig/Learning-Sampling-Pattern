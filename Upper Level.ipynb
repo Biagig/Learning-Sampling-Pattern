{
 "cells": [
  {
   "cell_type": "code",
   "execution_count": 1,
   "metadata": {},
   "outputs": [
    {
     "name": "stderr",
     "output_type": "stream",
     "text": [
      "/home/guillaume/temp/pysap-mri/mri/operators/fourier/cartesian.py:33: UserWarning: pynufft python package has not been found. If needed use the master release. Till then you cannot use NUFFT on GPU\n",
      "  warnings.warn(\"pynufft python package has not been found. If needed use \"\n",
      "/home/guillaume/temp/pysap-mri/mri/operators/fourier/non_cartesian.py:33: UserWarning: pynufft python package has not been found. If needed use the master release. Till then you cannot use NUFFT on GPU\n",
      "  warnings.warn(\"pynufft python package has not been found. If needed use \"\n"
     ]
    },
    {
     "name": "stdout",
     "output_type": "stream",
     "text": [
      "\n",
      "                 .|'''|       /.\\      '||'''|,\n",
      "                 ||          // \\\\      ||   ||\n",
      "'||''|, '||  ||` `|'''|,    //...\\\\     ||...|'\n",
      " ||  ||  `|..||   .   ||   //     \\\\    ||\n",
      " ||..|'      ||   |...|' .//       \\\\. .||\n",
      " ||       ,  |'\n",
      ".||        ''\n",
      "\n",
      "Package version: 0.0.3\n",
      "\n",
      "License: CeCILL-B\n",
      "\n",
      "Authors: \n",
      "\n",
      "Antoine Grigis <antoine.grigis@cea.fr>\n",
      "Samuel Farrens <samuel.farrens@cea.fr>\n",
      "Jean-Luc Starck <jl.stark@cea.fr>\n",
      "Philippe Ciuciu <philippe.ciuciu@cea.fr>\n",
      "\n",
      "Dependencies: \n",
      "\n",
      "scipy          : >=1.3.0   - required | 1.3.0     installed\n",
      "numpy          : >=1.16.4  - required | 1.16.4    installed\n",
      "matplotlib     : >=3.0.0   - required | 3.1.1     installed\n",
      "astropy        : >=3.0.0   - required | 3.2.1     installed\n",
      "nibabel        : >=2.3.2   - required | 2.5.1     installed\n",
      "pyqtgraph      : >=0.10.0  - required | 0.10.0    installed\n",
      "progressbar2   : >=3.34.3  - required | ?         installed\n",
      "modopt         : >=1.4.0   - required | 1.4.1     installed\n",
      "scikit-learn   : >=0.19.1  - required | ?         installed\n",
      "pywt           : >=1.0.0   - required | 1.0.3     installed\n",
      "pysparse       : >=0.0.1   - required | 0.1.0     installed\n",
      "\n"
     ]
    }
   ],
   "source": [
    "from mri.operators import NonCartesianFFT, WaveletUD2, WaveletN\n",
    "import pysap\n",
    "from pysap.data import get_sample_data\n",
    "from mri.operators.utils import convert_mask_to_locations, convert_locations_to_mask\n",
    "from modopt.math.metrics import ssim\n",
    "import matplotlib.pyplot as plt\n",
    "import numpy as np"
   ]
  },
  {
   "cell_type": "code",
   "execution_count": 2,
   "metadata": {},
   "outputs": [],
   "source": [
    "# Lower level imports\n",
    "from algo.prox import prox_G,prox_F1_dual,prox_F2_dual\n",
    "from algo.pdhg import pdhg\n",
    "from algo.cost_utils import *\n",
    "\n",
    "#Upper level imports\n",
    "from scipy.sparse.linalg import cg,LinearOperator\n",
    "import scipy"
   ]
  },
  {
   "cell_type": "code",
   "execution_count": 3,
   "metadata": {},
   "outputs": [
    {
     "name": "stderr",
     "output_type": "stream",
     "text": [
      "/home/guillaume/temp/pysap-mri/mri/operators/fourier/utils.py:78: FutureWarning: Using a non-tuple sequence for multidimensional indexing is deprecated; use `arr[tuple(seq)]` instead of `arr[seq]`. In the future this will be interpreted as an array index, `arr[np.array(seq)]`, which will result either in an error or a different result.\n",
      "  mask[test] = 1\n"
     ]
    }
   ],
   "source": [
    "u0 = get_sample_data('2d-mri')\n",
    "u0_mat = u0.data\n",
    "\n",
    "n=512\n",
    "x = np.linspace(0,n,n,endpoint=False)/n-0.5\n",
    "y = np.linspace(0,n,n,endpoint=False)/n-0.5\n",
    "X,Y = np.meshgrid(x,y)\n",
    "kspace_loc = np.stack([X.flatten('F'),Y.flatten('F')],axis=1)\n",
    "\n",
    "m = convert_locations_to_mask(kspace_loc,u0.shape)\n",
    "fourier_op = NonCartesianFFT(samples=kspace_loc, shape=u0.shape,implementation='cpu')\n",
    "\n",
    "y = (1+0j)*fourier_op.op(np.real(u0_mat))+1e-6*np.random.randn(2*n*n).view(np.complex128)"
   ]
  },
  {
   "cell_type": "code",
   "execution_count": 4,
   "metadata": {},
   "outputs": [],
   "source": [
    "#Subsampling: From pysap radial mask \n",
    "radial_mask = get_sample_data(\"mri-radial-samples\")\n",
    "radial_kspace_loc = radial_mask.data\n",
    "p = np.zeros((n*n+1,))\n",
    "\n",
    "ind1 = ((n-1)*(radial_kspace_loc[:,0]+0.5)).astype(int)\n",
    "ind2 = ((n-1)*(radial_kspace_loc[:,1]+0.5)).astype(int)\n",
    "p[n*ind1+ind2]=1\n",
    "p[-1]=1e-6\n",
    "\n",
    "#Wavelet\n",
    "linear_op = WaveletN(wavelet_name=\"sym8\",nb_scale=4,padding_mode = \"periodization\")\n",
    "#linear_op = WaveletUD2(wavelet_id=24,nb_scale=3)"
   ]
  },
  {
   "cell_type": "markdown",
   "metadata": {},
   "source": [
    "# Definition of functions\n",
    "Only for one linear operator for the moment (wavelet)."
   ]
  },
  {
   "cell_type": "code",
   "execution_count": 5,
   "metadata": {},
   "outputs": [],
   "source": [
    "param = {\"zeta\":1e15,\"pn1\":p[-1],\"epsilon\":1e-5,\"gamma\":1e-10}\n",
    "\n",
    "#Definition of phi=rho'(x)/x and psi=phi'(x)/x\n",
    "def rho(x):\n",
    "    if x<-param[\"gamma\"]:return -x-param[\"gamma\"]/3\n",
    "    elif x<0:return x**3/3/param[\"gamma\"]**2+x**2/param[\"gamma\"]\n",
    "    elif x<param[\"gamma\"]:return -x**3/param[\"gamma\"]**2/3+x**2/param[\"gamma\"]\n",
    "    else:return x-param[\"gamma\"]/3\n",
    "    \n",
    "def phi(x):\n",
    "    if x<-param[\"gamma\"]:return -1/x\n",
    "    elif x<0:return x/param[\"gamma\"]**2+2/param[\"gamma\"]\n",
    "    elif x<param[\"gamma\"]:return -x/param[\"gamma\"]**2+2/param[\"gamma\"]\n",
    "    else:return 1/x\n",
    "\n",
    "def psi(x):\n",
    "    x=abs(x)\n",
    "    if x<param[\"gamma\"]:return -1/param[\"gamma\"]**2/x\n",
    "    else:return -1/x**3\n",
    "\n",
    "\n",
    "def rho_vec(x):\n",
    "    x = np.abs(x)\n",
    "    return np.where(x<param[\"gamma\"],-x**3/3/param[\"gamma\"]**2+x**2/param[\"gamma\"],x-param[\"gamma\"]/3)\n",
    "\n",
    "def phi_vec(x):\n",
    "    x = np.abs(x)\n",
    "    return np.where(x<=param[\"gamma\"],-x/param[\"gamma\"]**2+2/param[\"gamma\"],1/x)\n",
    "\n",
    "def psi_vec(x):\n",
    "    x = np.abs(x)\n",
    "    return np.where(x<param[\"gamma\"],-1/x/param[\"gamma\"]**2,-1/x**3)"
   ]
  },
  {
   "cell_type": "code",
   "execution_count": 6,
   "metadata": {
    "scrolled": true
   },
   "outputs": [
    {
     "data": {
      "text/plain": [
       "[<matplotlib.lines.Line2D at 0x7fa117574ba8>]"
      ]
     },
     "execution_count": 6,
     "metadata": {},
     "output_type": "execute_result"
    },
    {
     "data": {
      "image/png": "[encoded data removed]",
      "text/plain": [
       "<Figure size 432x288 with 1 Axes>"
      ]
     },
     "metadata": {
      "needs_background": "light"
     },
     "output_type": "display_data"
    }
   ],
   "source": [
    "x = np.linspace(-3*param[\"gamma\"],3*param[\"gamma\"],200)\n",
    "plt.plot(x,rho_vec(x))"
   ]
  },
  {
   "cell_type": "markdown",
   "metadata": {},
   "source": [
    "# Functions and first order derivatives"
   ]
  },
  {
   "cell_type": "code",
   "execution_count": 7,
   "metadata": {},
   "outputs": [],
   "source": [
    "from algo.cost_utils import b\n",
    "#Base functions\n",
    "Eeps = lambda x:param[\"epsilon\"]/2*np.linalg.norm(x)**2\n",
    "Edata = lambda x:f1(x,p[:-1],y,fourier_op)\n",
    "Enonneg = lambda x:b(x,param[\"zeta\"])\n",
    "Ereg = lambda x:param[\"pn1\"]*np.sum(rho_vec(linear_op.op(x)))\n",
    "Etot = lambda x:Eeps(x)+Edata(x)+Enonneg(x)+Ereg(x)\n",
    "\n",
    "#First order derivatives\n",
    "Du_Eeps = lambda x:param[\"epsilon\"]*x\n",
    "Du_Edata = lambda x:np.real(fourier_op.adj_op(p[:-1]**2*(fourier_op.op(Rstar(x))-y)))\n",
    "Du_Enonneg = lambda x:-3*param[\"zeta\"]*np.where(x<=0,x**2,0)\n",
    "Du_Ereg = lambda x:param[\"pn1\"]*linear_op.adj_op(phi_vec(linear_op.op(x))*linear_op.op(x))\n",
    "Du_Etot = lambda x:Du_Eeps(x)+Du_Edata(x)+Du_Enonneg(x)+Du_Ereg(x)"
   ]
  },
  {
   "cell_type": "markdown",
   "metadata": {},
   "source": [
    "### Numerical check\n",
    "Plots of $\\left|\\frac{f(a+th)-f(a)-<\\nabla f(a),th>}{tf(a)}\\right|$ for $t\\rightarrow 0$. Eeps, Edata and Enonneg seem to work, but problem with Ereg."
   ]
  },
  {
   "cell_type": "code",
   "execution_count": 8,
   "metadata": {},
   "outputs": [
    {
     "data": {
      "image/png": "[encoded data removed]",
      "text/plain": [
       "<Figure size 432x288 with 1 Axes>"
      ]
     },
     "metadata": {
      "needs_background": "light"
     },
     "output_type": "display_data"
    }
   ],
   "source": [
    "# -- Eeps --\n",
    "#Two random vectors with same amplitude\n",
    "a = np.random.randn(n**2).reshape((n,n))\n",
    "a2 = np.random.randn(n**2).reshape((n,n))\n",
    "\n",
    "tests = np.logspace(-7,0,20)\n",
    "real_values = np.array([Eeps(a+t*a2) for t in tests])\n",
    "approx = np.array([Eeps(a)+t*np.sum(Du_Eeps(a)*a2)for t in tests])\n",
    "\n",
    "plt.plot(tests,(real_values-approx)/real_values/tests)\n",
    "plt.xscale(\"log\")\n",
    "plt.yscale(\"log\")"
   ]
  },
  {
   "cell_type": "code",
   "execution_count": 9,
   "metadata": {},
   "outputs": [
    {
     "data": {
      "image/png": "[encoded data removed]",
      "text/plain": [
       "<Figure size 432x288 with 1 Axes>"
      ]
     },
     "metadata": {
      "needs_background": "light"
     },
     "output_type": "display_data"
    }
   ],
   "source": [
    "# -- Edata --\n",
    "#Random vector with same amplitude as u0\n",
    "a2 = np.random.randn(n**2).reshape((n,n))/n*np.linalg.norm(u0_mat)\n",
    "\n",
    "\n",
    "tests = np.logspace(-7,0,20)\n",
    "real_values = np.array([Edata(u0_mat+t*a2) for t in tests])\n",
    "approx = np.array([Edata(u0_mat)+t*np.sum(Du_Edata(u0_mat)*a2)for t in tests])\n",
    "\n",
    "plt.plot(tests,(real_values-approx)/real_values/tests)\n",
    "plt.xscale(\"log\")\n",
    "plt.yscale(\"log\")"
   ]
  },
  {
   "cell_type": "code",
   "execution_count": 10,
   "metadata": {},
   "outputs": [
    {
     "data": {
      "image/png": "[encoded data removed]",
      "text/plain": [
       "<Figure size 432x288 with 1 Axes>"
      ]
     },
     "metadata": {
      "needs_background": "light"
     },
     "output_type": "display_data"
    }
   ],
   "source": [
    "# -- Enonneg --\n",
    "#Two random vectors with same amplitude\n",
    "a = np.random.randn(n**2).reshape((n,n))\n",
    "a2 = np.random.randn(n**2).reshape((n,n))\n",
    "\n",
    "tests = np.logspace(-7,0,20)\n",
    "real_values = np.array([Enonneg(a+t*a2) for t in tests])\n",
    "approx = np.array([Enonneg(a)+t*np.sum(Du_Enonneg(a)*a2)for t in tests])\n",
    "\n",
    "plt.plot(tests,(real_values-approx)/real_values/tests)\n",
    "plt.xscale(\"log\")\n",
    "plt.yscale(\"log\")"
   ]
  },
  {
   "cell_type": "code",
   "execution_count": 11,
   "metadata": {},
   "outputs": [
    {
     "data": {
      "image/png": "[encoded data removed]",
      "text/plain": [
       "<Figure size 432x288 with 1 Axes>"
      ]
     },
     "metadata": {
      "needs_background": "light"
     },
     "output_type": "display_data"
    }
   ],
   "source": [
    "# -- Ereg --\n",
    "#Random vector with same amplitude as u0\n",
    "a2 = np.random.randn(n**2).reshape((n,n))/n*np.linalg.norm(u0_mat)\n",
    "\n",
    "tests = np.logspace(-7,-0,30)\n",
    "real_values = np.array([Ereg(u0_mat+t*a2) for t in tests])\n",
    "approx = np.array([Ereg(u0_mat)+t*np.sum(Du_Ereg(u0_mat)*a2)for t in tests])\n",
    "\n",
    "plt.plot(tests,(real_values-approx)/real_values/tests)\n",
    "plt.xscale(\"log\")\n",
    "plt.yscale(\"log\")"
   ]
  },
  {
   "cell_type": "code",
   "execution_count": 15,
   "metadata": {
    "scrolled": true
   },
   "outputs": [
    {
     "name": "stdout",
     "output_type": "stream",
     "text": [
      "Gap between limits:4.7254250966540205e-14\n"
     ]
    },
    {
     "data": {
      "text/plain": [
       "<matplotlib.legend.Legend at 0x7fa11779fa58>"
      ]
     },
     "execution_count": 15,
     "metadata": {},
     "output_type": "execute_result"
    },
    {
     "data": {
      "image/png": "[encoded data removed]",
      "text/plain": [
       "<Figure size 432x288 with 1 Axes>"
      ]
     },
     "metadata": {
      "needs_background": "light"
     },
     "output_type": "display_data"
    }
   ],
   "source": [
    "print(f\"Gap between limits:{real_values[0]-approx[0]}\")\n",
    "\n",
    "plt.plot(tests[:10],real_values[:10],'r',label=\"Real value\")\n",
    "plt.plot(tests[:10],approx[:10],label=\"Estimation with gradient\")\n",
    "plt.xscale(\"log\")\n",
    "plt.title(\"Comparison between real value of $E_{reg}(u_0+th)$ and linear approximation\")\n",
    "plt.legend()"
   ]
  },
  {
   "cell_type": "markdown",
   "metadata": {},
   "source": [
    "Always the same gap, whatever a2 (4.7254e-14) when we use u0. If we use a random a instead of u0, seems to work."
   ]
  },
  {
   "cell_type": "code",
   "execution_count": 16,
   "metadata": {},
   "outputs": [
    {
     "data": {
      "image/png": "[encoded data removed]",
      "text/plain": [
       "<Figure size 432x288 with 1 Axes>"
      ]
     },
     "metadata": {
      "needs_background": "light"
     },
     "output_type": "display_data"
    }
   ],
   "source": [
    "# -- Etot --\n",
    "#Random vector with same amplitude as u0\n",
    "a2 = np.random.randn(n**2).reshape((n,n))/n*np.linalg.norm(u0_mat)\n",
    "\n",
    "tests = np.logspace(-7,0,20)\n",
    "real_values = np.array([Etot(a+t*a2) for t in tests])\n",
    "approx = np.array([Etot(a)+t*np.sum(Du_Etot(a)*a2)for t in tests])\n",
    "\n",
    "plt.plot(tests,(real_values-approx)/real_values/tests)\n",
    "plt.xscale(\"log\")"
   ]
  },
  {
   "cell_type": "markdown",
   "metadata": {},
   "source": [
    "# Second order derivatives\n",
    "We don't express the hessians as matrices but as linear operators. Same verifications: $\\frac{||\\nabla f(a+th)-(\\nabla f(a)+t\\nabla^2f(a)h)||_2}{||\\nabla f(a)||_2}$."
   ]
  },
  {
   "cell_type": "code",
   "execution_count": 17,
   "metadata": {},
   "outputs": [],
   "source": [
    "def Du2_Eeps(u,p,w):return param[\"epsilon\"]*w\n",
    "def Du2_Edata(u,p,w):return np.real(fourier_op.adj_op(p[:-1]**2*fourier_op.op(w)))\n",
    "def Du2_Enonneg(u,p,w):return -6*param[\"zeta\"]*np.where(u<0,u,0)*w\n",
    "def Du2_Ereg(u,p,w):\n",
    "    lin_u = linear_op.op(u)\n",
    "    lin_w = linear_op.op(w)\n",
    "    psi_Au = psi_vec(lin_u)\n",
    "    return linear_op.adj_op(lin_u**2*lin_w*psi_Au)\n",
    "def Du2_Etot(u,p,w):return Du2_Eeps(u,p,w)+Du2_Edata(u,p,w)+Du2_Enonneg(u,p,w)+Du2_Ereg(u,p,w)"
   ]
  },
  {
   "cell_type": "code",
   "execution_count": 18,
   "metadata": {},
   "outputs": [
    {
     "data": {
      "image/png": "[encoded data removed]",
      "text/plain": [
       "<Figure size 432x288 with 1 Axes>"
      ]
     },
     "metadata": {
      "needs_background": "light"
     },
     "output_type": "display_data"
    }
   ],
   "source": [
    "# -- Eeps --\n",
    "#Two random vectors with same amplitude\n",
    "a = np.random.randn(n**2).reshape((n,n))\n",
    "a2 = np.random.randn(n**2).reshape((n,n))\n",
    "\n",
    "tests = np.logspace(-7,0,20)\n",
    "real_values = np.array([np.linalg.norm(Du_Eeps(a+t*a2)) for t in tests])\n",
    "approx = np.array([np.linalg.norm(Du_Eeps(a)+Du2_Eeps(a,p,t*a2)) for t in tests])\n",
    "\n",
    "plt.plot(tests,(real_values-approx)/real_values)\n",
    "#plt.plot(tests,vals2,'r')\n",
    "plt.xscale(\"log\")"
   ]
  },
  {
   "cell_type": "code",
   "execution_count": 19,
   "metadata": {},
   "outputs": [
    {
     "data": {
      "image/png": "[encoded data removed]",
      "text/plain": [
       "<Figure size 432x288 with 1 Axes>"
      ]
     },
     "metadata": {
      "needs_background": "light"
     },
     "output_type": "display_data"
    }
   ],
   "source": [
    "# -- Edata --\n",
    "#Random vector with same amplitude as u0\n",
    "a2 = np.random.randn(n**2).reshape((n,n))/n*np.linalg.norm(u0_mat)\n",
    "\n",
    "tests = np.logspace(-7,0,20)\n",
    "real_values = np.array([np.linalg.norm(Du_Edata(u0_mat+t*a2)) for t in tests])\n",
    "approx = np.array([np.linalg.norm(Du_Edata(u0_mat)+Du2_Edata(u0_mat,p,t*a2)) for t in tests])\n",
    "\n",
    "plt.plot(tests,(real_values-approx)/real_values/tests)\n",
    "plt.xscale(\"log\")"
   ]
  },
  {
   "cell_type": "code",
   "execution_count": 20,
   "metadata": {},
   "outputs": [
    {
     "data": {
      "image/png": "[encoded data removed]",
      "text/plain": [
       "<Figure size 432x288 with 1 Axes>"
      ]
     },
     "metadata": {
      "needs_background": "light"
     },
     "output_type": "display_data"
    }
   ],
   "source": [
    "# -- nonneg --\n",
    "#Two random vectors with same amplitude\n",
    "a = np.random.randn(n**2).reshape((n,n))-0.5\n",
    "a2 = np.random.randn(n**2).reshape((n,n))\n",
    "\n",
    "tests = np.logspace(-7,0,20)\n",
    "real_values = np.array([np.linalg.norm(Du_Enonneg(a+t*a2)) for t in tests])\n",
    "approx = np.array([np.linalg.norm(Du_Enonneg(a)+Du2_Enonneg(a,p,t*a2)) for t in tests])\n",
    "\n",
    "plt.plot(tests,(real_values-approx)/real_values/tests)\n",
    "plt.xscale(\"log\")\n",
    "plt.yscale(\"log\")"
   ]
  },
  {
   "cell_type": "code",
   "execution_count": 21,
   "metadata": {},
   "outputs": [
    {
     "data": {
      "image/png": "[encoded data removed]",
      "text/plain": [
       "<Figure size 432x288 with 1 Axes>"
      ]
     },
     "metadata": {
      "needs_background": "light"
     },
     "output_type": "display_data"
    }
   ],
   "source": [
    "# -- Ereg --\n",
    "#Random vector with same amplitude as u0\n",
    "a2 = np.random.randn(n**2).reshape((n,n))/n*np.linalg.norm(u0_mat)\n",
    "\n",
    "tests = np.logspace(-7,0,20)\n",
    "real_values = np.array([np.linalg.norm(Du_Ereg(u0_mat+t*a2)) for t in tests])\n",
    "approx = np.array([np.linalg.norm(Du_Ereg(u0_mat)+Du2_Ereg(u0_mat,p,t*a2)) for t in tests])\n",
    "\n",
    "plt.plot(tests,abs((real_values-approx)/real_values/tests))\n",
    "plt.xscale(\"log\")\n",
    "plt.yscale(\"log\")"
   ]
  },
  {
   "cell_type": "code",
   "execution_count": 22,
   "metadata": {},
   "outputs": [],
   "source": [
    "def Dpu_Edata(u,p,w):\n",
    "    Fu = np.conj(fourier_op.op(Rstar(u))-y)\n",
    "    Fw = fourier_op.op(w)\n",
    "    return 2*np.real(p[:-1]*Fu*Fw)\n",
    "def Dpu_Ereg(u,p,w):\n",
    "    return np.sum(w*linear_op.adj_op(phi_vec(linear_op.op(u))*linear_op.op(u)))\n",
    "\n",
    "def Dpu_Etot(u,p,w):\n",
    "    g = np.zeros((n**2+1,))\n",
    "    g[:-1] = Dpu_Edata(u,p,w)\n",
    "    g[-1] = Dpu_Ereg(u,p,w)\n",
    "    return g"
   ]
  },
  {
   "cell_type": "markdown",
   "metadata": {},
   "source": [
    "## Loss function and penalty"
   ]
  },
  {
   "cell_type": "code",
   "execution_count": 76,
   "metadata": {},
   "outputs": [],
   "source": [
    "c = 1e0\n",
    "def L(u,u2):return c*np.linalg.norm(u-u2)**2\n",
    "def grad_L(u,u2):return 2*c*(u-u2)\n",
    "\n",
    "beta = 1e-10*c\n",
    "def P(p):return beta*np.sum(p[:-1]*(2-p[:-1]))\n",
    "def grad_P(p):\n",
    "    Dp = 2*(1-p)\n",
    "    #Don't change alpha\n",
    "    Dp[-1] = 0\n",
    "    return beta*Dp\n",
    "# P = lambda x:beta*np.linalg.norm(p)**2\n",
    "# grad_P = lambda x:2*beta*x"
   ]
  },
  {
   "cell_type": "code",
   "execution_count": 75,
   "metadata": {},
   "outputs": [
    {
     "name": "stdout",
     "output_type": "stream",
     "text": [
      "Finished in 9.710845708847046 seconds.\n",
      "L(u(p))=8.29182311459582e-08\n",
      "P(p)=2.9767e-07\n"
     ]
    }
   ],
   "source": [
    "param[\"pn1\"]=1e-6\n",
    "uk,norms,energy = pdhg(y,p[:-1],fourier_op,linear_op,param,maxit=20,verbose=0)\n",
    "print(f\"L(u(p))={L(uk,u0_mat)}\\nP(p)={P(p)}\")"
   ]
  },
  {
   "cell_type": "code",
   "execution_count": 79,
   "metadata": {},
   "outputs": [
    {
     "name": "stdout",
     "output_type": "stream",
     "text": [
      "0.000575910517861788 9.647251836663137e-08\n"
     ]
    }
   ],
   "source": [
    "print(np.linalg.norm(grad_L(uk,u0_mat)),np.linalg.norm(grad_P(0.9*p[:-1])))"
   ]
  },
  {
   "cell_type": "markdown",
   "metadata": {},
   "source": [
    "# Upper level energy"
   ]
  },
  {
   "cell_type": "code",
   "execution_count": 111,
   "metadata": {},
   "outputs": [],
   "source": [
    "uk = np.zeros(u0_mat.shape)\n",
    "\n",
    "def E(pk):\n",
    "    global uk\n",
    "    print(\"\\nEvaluating E(p)\")\n",
    "    param[\"pn1\"]=pk[-1]\n",
    "    uk,norms = pdhg(y,pk[:-1],fourier_op,linear_op,param,compute_energy=False,maxit=20,verbose=0)\n",
    "    return L(uk,u0_mat)+P(pk)\n",
    "\n",
    "cgconv = []\n",
    "def grad_E(pk):\n",
    "    global uk,cgconv\n",
    "    #Update alpha(p)\n",
    "    param[\"pn1\"]=pk[-1]\n",
    "    \n",
    "    print(\"\\nStarting PDHG\")\n",
    "    uk,norms = pdhg(y,pk[:-1],fourier_op,linear_op,param,compute_energy=False,maxit=20,verbose=0)\n",
    "    \n",
    "    def mv(w):\n",
    "        w = np.reshape(w,(n,n))\n",
    "        return np.reshape(Du2_Etot(uk,pk,w),(n**2,))\n",
    "    \n",
    "    \n",
    "    # -- Use cg to compute gradient --\n",
    "    lin = LinearOperator((n**2,n**2),matvec=mv)\n",
    "    B = np.reshape(grad_L(uk,u0_mat),(n**2,))\n",
    "    def cgcall(x):\n",
    "        cgconv.append(np.linalg.norm(lin(x)-B)/np.linalg.norm(B))\n",
    "    \n",
    "    print(\"\\nStarting Conjugate Gradient method\")\n",
    "    x_inter,convergence = cg(lin,B,tol=1e-4,maxiter=500,callback=cgcall)\n",
    "    print(f\"||Ax-b||/||b||: {np.linalg.norm(lin(x_inter)-B)/np.linalg.norm(B)}\")\n",
    "    return Dpu_Etot(uk,pk,np.reshape(x_inter,(n,n)))+grad_P(pk)\n",
    "\n",
    "# Callback function\n",
    "niter = 0\n",
    "def fcall(x):\n",
    "    global uk,niter\n",
    "    niter += 1\n",
    "    print(\"\\033[1m\" + f\"\\n{niter} iterations: ssim={ssim(uk,u0_mat)}\\n\\n\" + \"\\033[0m\")"
   ]
  },
  {
   "cell_type": "code",
   "execution_count": 95,
   "metadata": {
    "scrolled": true
   },
   "outputs": [
    {
     "name": "stdout",
     "output_type": "stream",
     "text": [
      "\n",
      "Evaluating E(p)\n",
      "Finished in 6.5491344928741455 seconds.\n",
      "\n",
      "Starting PDHG\n",
      "Finished in 8.215799570083618 seconds.\n",
      "\n",
      "Starting Conjugate Gradient method\n",
      "0.02854429927731948\n",
      "\n",
      "Evaluating E(p)\n",
      "Finished in 12.732693195343018 seconds.\n",
      "\n",
      "Evaluating E(p)\n",
      "Finished in 12.910942554473877 seconds.\n",
      "\n",
      "Evaluating E(p)\n",
      "Finished in 11.156272172927856 seconds.\n",
      "\n",
      "Evaluating E(p)\n",
      "Finished in 12.606735944747925 seconds.\n",
      "\n",
      "Evaluating E(p)\n",
      "Finished in 13.371719598770142 seconds.\n",
      "\n",
      "Evaluating E(p)\n",
      "Finished in 11.73125171661377 seconds.\n",
      "\n",
      "Evaluating E(p)\n",
      "Finished in 12.508919477462769 seconds.\n",
      "\n",
      "Evaluating E(p)\n",
      "Finished in 12.782058477401733 seconds.\n",
      "\n",
      "Evaluating E(p)\n",
      "Finished in 13.059777736663818 seconds.\n",
      "\n",
      "Evaluating E(p)\n",
      "Finished in 13.279117584228516 seconds.\n",
      "\n",
      "Evaluating E(p)\n",
      "Finished in 13.307068586349487 seconds.\n",
      "\n",
      "Evaluating E(p)\n",
      "Finished in 13.270675420761108 seconds.\n",
      "\n",
      "Evaluating E(p)\n",
      "Finished in 13.066627502441406 seconds.\n",
      "\n",
      "Evaluating E(p)\n",
      "Finished in 13.328679084777832 seconds.\n",
      "\n",
      "Evaluating E(p)\n",
      "Finished in 13.572676181793213 seconds.\n",
      "\n",
      "Evaluating E(p)\n",
      "Finished in 13.083184480667114 seconds.\n",
      "\n",
      "Evaluating E(p)\n",
      "Finished in 13.056339740753174 seconds.\n",
      "\n",
      "Evaluating E(p)\n",
      "Finished in 13.0667884349823 seconds.\n",
      "\n",
      "Evaluating E(p)\n",
      "Finished in 12.801137924194336 seconds.\n",
      "\n",
      "Evaluating E(p)\n",
      "Finished in 12.882626295089722 seconds.\n"
     ]
    }
   ],
   "source": [
    "p0 = np.random.rand(n**2+1)\n",
    "Ep0,gradEp0 = E(p0),grad_E(p0)\n",
    "p1 = np.random.rand(n**2+1)\n",
    "\n",
    "tests = np.logspace(-7,0,20)\n",
    "real_values = np.array([E(p0+t*p1) for t in tests])\n",
    "approx = np.array([Ep0+t*np.sum(gradEp0*p1) for t in tests])"
   ]
  },
  {
   "cell_type": "code",
   "execution_count": 96,
   "metadata": {},
   "outputs": [
    {
     "data": {
      "image/png": "[encoded data removed]",
      "text/plain": [
       "<Figure size 432x288 with 1 Axes>"
      ]
     },
     "metadata": {
      "needs_background": "light"
     },
     "output_type": "display_data"
    }
   ],
   "source": [
    "plt.plot(tests,abs((real_values-approx)/real_values/tests))\n",
    "plt.xscale(\"log\")\n",
    "plt.yscale(\"log\")"
   ]
  },
  {
   "cell_type": "code",
   "execution_count": 112,
   "metadata": {},
   "outputs": [
    {
     "name": "stdout",
     "output_type": "stream",
     "text": [
      "\n",
      "Starting PDHG\n",
      "Finished in 6.6991472244262695 seconds.\n",
      "\n",
      "Starting Conjugate Gradient method\n",
      "||Ax-b||/||b||: 2.428940292256567\n"
     ]
    }
   ],
   "source": [
    "gP = grad_E(p0)"
   ]
  },
  {
   "cell_type": "code",
   "execution_count": 113,
   "metadata": {},
   "outputs": [
    {
     "data": {
      "text/plain": [
       "[<matplotlib.lines.Line2D at 0x7fa1102470b8>]"
      ]
     },
     "execution_count": 113,
     "metadata": {},
     "output_type": "execute_result"
    },
    {
     "data": {
      "image/png": "[encoded data removed]",
      "text/plain": [
       "<Figure size 432x288 with 1 Axes>"
      ]
     },
     "metadata": {
      "needs_background": "light"
     },
     "output_type": "display_data"
    }
   ],
   "source": [
    "plt.plot(cgconv)"
   ]
  },
  {
   "cell_type": "code",
   "execution_count": 85,
   "metadata": {},
   "outputs": [
    {
     "name": "stdout",
     "output_type": "stream",
     "text": [
      "9.166319429510973e-08 9.278136861609869e-08\n"
     ]
    }
   ],
   "source": [
    "print(np.linalg.norm(grad_P(p0)),np.linalg.norm(gP))"
   ]
  },
  {
   "cell_type": "markdown",
   "metadata": {},
   "source": [
    "# L-BFGS-B"
   ]
  },
  {
   "cell_type": "code",
   "execution_count": 97,
   "metadata": {
    "scrolled": true
   },
   "outputs": [
    {
     "name": "stdout",
     "output_type": "stream",
     "text": [
      "\n",
      "Evaluating E(p)\n",
      "Finished in 7.7304511070251465 seconds.\n",
      "\n",
      "Starting PDHG\n",
      "Finished in 14.58654522895813 seconds.\n",
      "\n",
      "Starting Conjugate Gradient method\n",
      "3.0410419634114763\n",
      "\n",
      "Evaluating E(p)\n",
      "Finished in 13.677726745605469 seconds.\n",
      "\n",
      "Starting PDHG\n",
      "Finished in 13.474161386489868 seconds.\n",
      "\n",
      "Starting Conjugate Gradient method\n",
      "3.119374804908969\n",
      "\u001b[1m\n",
      "1 iterations: ssim=0.9176162107056209\n",
      "\n",
      "\u001b[0m\n"
     ]
    }
   ],
   "source": [
    "p0 = 0.9*p+0.1*np.random.rand(n**2+1)\n",
    "#p0 = np.random.rand(n**2+1)\n",
    "p0=np.ones(n**2+1)\n",
    "p0[-1] = 1e-6\n",
    "\n",
    "niter = 0\n",
    "res = scipy.optimize.minimize(E,p0,method='L-BFGS-B',jac=grad_E\n",
    "                              ,bounds=[(0,1)]*n**2+[(0,np.inf)]\n",
    "                              ,callback=fcall\n",
    "                              ,options={'gtol':1e-15,'maxiter':4,'maxfun':4})"
   ]
  },
  {
   "cell_type": "code",
   "execution_count": 98,
   "metadata": {
    "scrolled": false
   },
   "outputs": [
    {
     "name": "stdout",
     "output_type": "stream",
     "text": [
      "\n",
      "Evaluating E(p)\n",
      "Finished in 8.028401136398315 seconds.\n",
      "\n",
      "Evaluating E(p)\n",
      "Finished in 7.511856555938721 seconds.\n",
      "2.6269265797045295e-05 2.6267675084055204e-05\n"
     ]
    }
   ],
   "source": [
    "pf = res.x\n",
    "print(E(p0),E(pf))"
   ]
  },
  {
   "cell_type": "code",
   "execution_count": 99,
   "metadata": {},
   "outputs": [
    {
     "name": "stdout",
     "output_type": "stream",
     "text": [
      "1.044576172541336e-06\n"
     ]
    },
    {
     "name": "stderr",
     "output_type": "stream",
     "text": [
      "/home/guillaume/anaconda3/lib/python3.7/site-packages/pyqtgraph/functions.py:1013: RuntimeWarning: divide by zero encountered in double_scalars\n",
      "  data = rescaleData(data, scale/(maxVal-minVal), minVal, dtype=dtype)\n",
      "/home/guillaume/anaconda3/lib/python3.7/site-packages/pyqtgraph/functions.py:870: RuntimeWarning: invalid value encountered in multiply\n",
      "  d2 *= scale\n"
     ]
    }
   ],
   "source": [
    "print(pf[-1])\n",
    "pysap.Image(data=np.reshape(pf[:-1],(n,n))).show()"
   ]
  },
  {
   "cell_type": "code",
   "execution_count": 89,
   "metadata": {
    "scrolled": true
   },
   "outputs": [
    {
     "name": "stdout",
     "output_type": "stream",
     "text": [
      "10  iterations:\n",
      "Cost: 8.772578054456486e-08 \n",
      "Norm: 0.07050469994161677 \n",
      "\n",
      "20  iterations:\n",
      "Cost: 8.429884305595803e-08 \n",
      "Norm: 0.006174075634777439 \n",
      "\n",
      "30  iterations:\n",
      "Cost: 8.385403999321318e-08 \n",
      "Norm: 0.0015817253406313408 \n",
      "\n",
      "40  iterations:\n",
      "Cost: 8.376926936833475e-08 \n",
      "Norm: 0.0007687368822694923 \n",
      "\n",
      "50  iterations:\n",
      "Cost: 8.374813239832085e-08 \n",
      "Norm: 0.0005397526683627604 \n",
      "\n",
      "60  iterations:\n",
      "Cost: 8.373893173324553e-08 \n",
      "Norm: 0.0004308719958126561 \n",
      "\n",
      "70  iterations:\n",
      "Cost: 8.373347463428974e-08 \n",
      "Norm: 0.00035569521872293327 \n",
      "\n",
      "80  iterations:\n",
      "Cost: 8.37292153760354e-08 \n",
      "Norm: 0.00030676387099849137 \n",
      "\n",
      "90  iterations:\n",
      "Cost: 8.372661939592902e-08 \n",
      "Norm: 0.0002740064426511952 \n",
      "\n",
      "100  iterations:\n",
      "Cost: 8.372482124121226e-08 \n",
      "Norm: 0.0002488539777065706 \n",
      "\n",
      "Finished in 55.96584486961365 seconds.\n",
      "0.9194274622137819\n"
     ]
    },
    {
     "data": {
      "image/png": "[encoded data removed]",
      "text/plain": [
       "<Figure size 432x288 with 1 Axes>"
      ]
     },
     "metadata": {
      "needs_background": "light"
     },
     "output_type": "display_data"
    },
    {
     "data": {
      "image/png": "[encoded data removed]",
      "text/plain": [
       "<Figure size 432x288 with 1 Axes>"
      ]
     },
     "metadata": {
      "needs_background": "light"
     },
     "output_type": "display_data"
    }
   ],
   "source": [
    "uk,norms,energy,ssims = pdhg(y,pf[:-1],fourier_op,linear_op,param,real_image=u0_mat,maxit=100)\n",
    "print(ssim(uk,u0_mat))\n",
    "\n",
    "plt.figure()\n",
    "plt.plot(ssims)\n",
    "plt.title(\"Evolution of ssim\")\n",
    "plt.show()\n",
    "\n",
    "plt.figure()\n",
    "plt.plot(energy)\n",
    "plt.title(\"Evolution of energy\")\n",
    "plt.yscale(\"log\")\n",
    "plt.show()\n",
    "\n",
    "pysap.Image(data=uk).show()"
   ]
  }
 ],
 "metadata": {
  "kernelspec": {
   "display_name": "Python 3",
   "language": "python",
   "name": "python3"
  },
  "language_info": {
   "codemirror_mode": {
    "name": "ipython",
    "version": 3
   },
   "file_extension": ".py",
   "mimetype": "text/x-python",
   "name": "python",
   "nbconvert_exporter": "python",
   "pygments_lexer": "ipython3",
   "version": "3.7.3"
  }
 },
 "nbformat": 4,
 "nbformat_minor": 2
}
