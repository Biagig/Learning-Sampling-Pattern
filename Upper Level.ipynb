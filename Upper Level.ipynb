{
 "cells": [
  {
   "cell_type": "code",
   "execution_count": 4,
   "metadata": {},
   "outputs": [
    {
     "name": "stderr",
     "output_type": "stream",
     "text": [
      "/home/guillaume/temp/pysap-mri/mri/operators/fourier/cartesian.py:33: UserWarning: pynufft python package has not been found. If needed use the master release. Till then you cannot use NUFFT on GPU\n",
      "  warnings.warn(\"pynufft python package has not been found. If needed use \"\n",
      "/home/guillaume/temp/pysap-mri/mri/operators/fourier/non_cartesian.py:33: UserWarning: pynufft python package has not been found. If needed use the master release. Till then you cannot use NUFFT on GPU\n",
      "  warnings.warn(\"pynufft python package has not been found. If needed use \"\n"
     ]
    },
    {
     "name": "stdout",
     "output_type": "stream",
     "text": [
      "\n",
      "                 .|'''|       /.\\      '||'''|,\n",
      "                 ||          // \\\\      ||   ||\n",
      "'||''|, '||  ||` `|'''|,    //...\\\\     ||...|'\n",
      " ||  ||  `|..||   .   ||   //     \\\\    ||\n",
      " ||..|'      ||   |...|' .//       \\\\. .||\n",
      " ||       ,  |'\n",
      ".||        ''\n",
      "\n",
      "Package version: 0.0.3\n",
      "\n",
      "License: CeCILL-B\n",
      "\n",
      "Authors: \n",
      "\n",
      "Antoine Grigis <antoine.grigis@cea.fr>\n",
      "Samuel Farrens <samuel.farrens@cea.fr>\n",
      "Jean-Luc Starck <jl.stark@cea.fr>\n",
      "Philippe Ciuciu <philippe.ciuciu@cea.fr>\n",
      "\n",
      "Dependencies: \n",
      "\n",
      "scipy          : >=1.3.0   - required | 1.3.0     installed\n",
      "numpy          : >=1.16.4  - required | 1.16.4    installed\n",
      "matplotlib     : >=3.0.0   - required | 3.1.1     installed\n",
      "astropy        : >=3.0.0   - required | 3.2.1     installed\n",
      "nibabel        : >=2.3.2   - required | 2.5.1     installed\n",
      "pyqtgraph      : >=0.10.0  - required | 0.10.0    installed\n",
      "progressbar2   : >=3.34.3  - required | ?         installed\n",
      "modopt         : >=1.4.0   - required | 1.4.1     installed\n",
      "scikit-learn   : >=0.19.1  - required | ?         installed\n",
      "pywt           : >=1.0.0   - required | 1.0.3     installed\n",
      "pysparse       : >=0.0.1   - required | 0.1.0     installed\n",
      "\n"
     ]
    }
   ],
   "source": [
    "from mri.operators import NonCartesianFFT, WaveletUD2, WaveletN\n",
    "import pysap\n",
    "from pysap.data import get_sample_data\n",
    "from mri.operators.utils import convert_mask_to_locations, convert_locations_to_mask\n",
    "from modopt.math.metrics import ssim\n",
    "import matplotlib.pyplot as plt\n",
    "import numpy as np"
   ]
  },
  {
   "cell_type": "code",
   "execution_count": 74,
   "metadata": {},
   "outputs": [],
   "source": [
    "# Lower level imports\n",
    "from algo.prox import prox_G,prox_F1_dual,prox_F2_dual\n",
    "from algo.pdhg import pdhg\n",
    "from algo.cost_utils import *\n",
    "\n",
    "#Upper level imports\n",
    "from scipy.sparse.linalg import cg,LinearOperator\n",
    "import scipy"
   ]
  },
  {
   "cell_type": "code",
   "execution_count": 6,
   "metadata": {},
   "outputs": [
    {
     "name": "stderr",
     "output_type": "stream",
     "text": [
      "/home/guillaume/temp/pysap-mri/mri/operators/fourier/utils.py:78: FutureWarning: Using a non-tuple sequence for multidimensional indexing is deprecated; use `arr[tuple(seq)]` instead of `arr[seq]`. In the future this will be interpreted as an array index, `arr[np.array(seq)]`, which will result either in an error or a different result.\n",
      "  mask[test] = 1\n"
     ]
    }
   ],
   "source": [
    "u0 = get_sample_data('2d-mri')\n",
    "u0_mat = u0.data\n",
    "\n",
    "n=512\n",
    "x = np.linspace(0,n,n,endpoint=False)/n-0.5\n",
    "y = np.linspace(0,n,n,endpoint=False)/n-0.5\n",
    "X,Y = np.meshgrid(x,y)\n",
    "kspace_loc = np.stack([X.flatten('F'),Y.flatten('F')],axis=1)\n",
    "\n",
    "m = convert_locations_to_mask(kspace_loc,u0.shape)\n",
    "fourier_op = NonCartesianFFT(samples=kspace_loc, shape=u0.shape,implementation='cpu')\n",
    "\n",
    "y = (1+0j)*fourier_op.op(np.real(u0_mat))+1e-6*np.random.randn(2*n*n).view(np.complex128)"
   ]
  },
  {
   "cell_type": "code",
   "execution_count": 7,
   "metadata": {},
   "outputs": [],
   "source": [
    "#Subsampling: From pysap radial mask \n",
    "radial_mask = get_sample_data(\"mri-radial-samples\")\n",
    "radial_kspace_loc = radial_mask.data\n",
    "p = np.zeros((n*n+1,))\n",
    "\n",
    "ind1 = ((n-1)*(radial_kspace_loc[:,0]+0.5)).astype(int)\n",
    "ind2 = ((n-1)*(radial_kspace_loc[:,1]+0.5)).astype(int)\n",
    "p[n*ind1+ind2]=1\n",
    "p[-1]=1e-6\n",
    "\n",
    "#Wavelet\n",
    "linear_op = WaveletN(wavelet_name=\"sym8\",nb_scale=4,padding_mode = \"periodization\")\n",
    "#linear_op = WaveletUD2(wavelet_id=24,nb_scale=3)"
   ]
  },
  {
   "cell_type": "markdown",
   "metadata": {},
   "source": [
    "# Definition of functions\n",
    "Only for one linear operator for the moment (wavelet)."
   ]
  },
  {
   "cell_type": "code",
   "execution_count": 8,
   "metadata": {},
   "outputs": [],
   "source": [
    "param = {\"zeta\":1e15,\"pn1\":p[-1],\"epsilon\":1e-5,\"gamma\":1e-10}\n",
    "\n",
    "#Definition of phi=rho'(x)/x and psi=phi'(x)/x\n",
    "def rho(x):\n",
    "    if x<-param[\"gamma\"]:return -x-param[\"gamma\"]/3\n",
    "    elif x<0:return x**3/3/param[\"gamma\"]**2+x**2/param[\"gamma\"]\n",
    "    elif x<param[\"gamma\"]:return -x**3/param[\"gamma\"]**2/3+x**2/param[\"gamma\"]\n",
    "    else:return x-param[\"gamma\"]/3\n",
    "    \n",
    "def phi(x):\n",
    "    if x<-param[\"gamma\"]:return -1/x\n",
    "    elif x<0:return x/param[\"gamma\"]**2+2/param[\"gamma\"]\n",
    "    elif x<param[\"gamma\"]:return -x/param[\"gamma\"]**2+2/param[\"gamma\"]\n",
    "    else:return 1/x\n",
    "\n",
    "def psi(x):\n",
    "    x=abs(x)\n",
    "    if x<param[\"gamma\"]:return -1/param[\"gamma\"]**2/x\n",
    "    else:return -1/x**3\n",
    "\n",
    "\n",
    "def rho_vec(x):\n",
    "    x = np.abs(x)\n",
    "    return np.where(x<param[\"gamma\"],-x**3/3/param[\"gamma\"]**2+x**2/param[\"gamma\"],x-param[\"gamma\"]/3)\n",
    "\n",
    "def phi_vec(x):\n",
    "    x = np.abs(x)\n",
    "    return np.where(x<=param[\"gamma\"],-x/param[\"gamma\"]**2+2/param[\"gamma\"],1/x)\n",
    "\n",
    "def psi_vec(x):\n",
    "    x = np.abs(x)\n",
    "    return np.where(x<param[\"gamma\"],-1/x/param[\"gamma\"]**2,-1/x**3)"
   ]
  },
  {
   "cell_type": "code",
   "execution_count": 9,
   "metadata": {
    "scrolled": true
   },
   "outputs": [
    {
     "data": {
      "text/plain": [
       "[<matplotlib.lines.Line2D at 0x7f086b418c88>]"
      ]
     },
     "execution_count": 9,
     "metadata": {},
     "output_type": "execute_result"
    },
    {
     "data": {
      "image/png": "[encoded data removed]",
      "text/plain": [
       "<Figure size 432x288 with 1 Axes>"
      ]
     },
     "metadata": {
      "needs_background": "light"
     },
     "output_type": "display_data"
    }
   ],
   "source": [
    "x = np.linspace(-3*param[\"gamma\"],3*param[\"gamma\"],200)\n",
    "plt.plot(x,rho_vec(x))"
   ]
  },
  {
   "cell_type": "markdown",
   "metadata": {},
   "source": [
    "# Functions and first order derivatives"
   ]
  },
  {
   "cell_type": "code",
   "execution_count": 10,
   "metadata": {},
   "outputs": [],
   "source": [
    "from algo.cost_utils import b\n",
    "#Base functions\n",
    "Eeps = lambda x:param[\"epsilon\"]/2*np.linalg.norm(x)**2\n",
    "Edata = lambda x:f1(x,p[:-1],y,fourier_op)\n",
    "Enonneg = lambda x:b(x,param[\"zeta\"])\n",
    "Ereg = lambda x:param[\"pn1\"]*np.sum(rho_vec(linear_op.op(x)))\n",
    "Etot = lambda x:Eeps(x)+Edata(x)+Enonneg(x)+Ereg(x)\n",
    "\n",
    "#First order derivatives\n",
    "Du_Eeps = lambda x:param[\"epsilon\"]*x\n",
    "Du_Edata = lambda x:np.real(fourier_op.adj_op(p[:-1]**2*(fourier_op.op(Rstar(x))-y)))\n",
    "Du_Enonneg = lambda x:-3*param[\"zeta\"]*np.where(x<=0,x**2,0)\n",
    "Du_Ereg = lambda x:param[\"pn1\"]*linear_op.adj_op(phi_vec(linear_op.op(x))*linear_op.op(x))\n",
    "Du_Etot = lambda x:Du_Eeps(x)+Du_Edata(x)+Du_Enonneg(x)+Du_Ereg(x)"
   ]
  },
  {
   "cell_type": "markdown",
   "metadata": {},
   "source": [
    "### Numerical check\n",
    "Plots of $\\left|\\frac{f(a+th)-f(a)-<\\nabla f(a),th>}{tf(a)}\\right|$ for $t\\rightarrow 0$. Eeps, Edata and Enonneg seem to work, but problem with Ereg."
   ]
  },
  {
   "cell_type": "code",
   "execution_count": 205,
   "metadata": {},
   "outputs": [
    {
     "data": {
      "image/png": "[encoded data removed]",
      "text/plain": [
       "<Figure size 432x288 with 1 Axes>"
      ]
     },
     "metadata": {
      "needs_background": "light"
     },
     "output_type": "display_data"
    }
   ],
   "source": [
    "# -- Eeps --\n",
    "#Two random vectors with same amplitude\n",
    "a = np.random.randn(512*512).reshape((512,512))\n",
    "a2 = np.random.randn(512*512).reshape((512,512))\n",
    "\n",
    "tests = np.logspace(-7,0,20)\n",
    "real_values = np.array([Eeps(a+t*a2) for t in tests])\n",
    "approx = np.array([Eeps(a)+t*np.sum(Du_Eeps(a)*a2)for t in tests])\n",
    "\n",
    "plt.plot(tests,(real_values-approx)/real_values/tests)\n",
    "plt.xscale(\"log\")\n",
    "plt.yscale(\"log\")"
   ]
  },
  {
   "cell_type": "code",
   "execution_count": 206,
   "metadata": {},
   "outputs": [
    {
     "data": {
      "image/png": "[encoded data removed]",
      "text/plain": [
       "<Figure size 432x288 with 1 Axes>"
      ]
     },
     "metadata": {
      "needs_background": "light"
     },
     "output_type": "display_data"
    }
   ],
   "source": [
    "# -- Edata --\n",
    "#Random vector with same amplitude as u0\n",
    "a2 = np.random.randn(512*512).reshape((512,512))/512*np.linalg.norm(u0_mat)\n",
    "\n",
    "\n",
    "tests = np.logspace(-7,0,20)\n",
    "real_values = np.array([Edata(u0_mat+t*a2) for t in tests])\n",
    "approx = np.array([Edata(u0_mat)+t*np.sum(Du_Edata(u0_mat)*a2)for t in tests])\n",
    "\n",
    "plt.plot(tests,(real_values-approx)/real_values/tests)\n",
    "plt.xscale(\"log\")\n",
    "plt.yscale(\"log\")"
   ]
  },
  {
   "cell_type": "code",
   "execution_count": 207,
   "metadata": {},
   "outputs": [
    {
     "data": {
      "image/png": "[encoded data removed]",
      "text/plain": [
       "<Figure size 432x288 with 1 Axes>"
      ]
     },
     "metadata": {
      "needs_background": "light"
     },
     "output_type": "display_data"
    }
   ],
   "source": [
    "# -- Enonneg --\n",
    "#Two random vectors with same amplitude\n",
    "a = np.random.randn(512*512).reshape((512,512))\n",
    "a2 = np.random.randn(512*512).reshape((512,512))\n",
    "\n",
    "tests = np.logspace(-7,0,20)\n",
    "real_values = np.array([Enonneg(a+t*a2) for t in tests])\n",
    "approx = np.array([Enonneg(a)+t*np.sum(Du_Enonneg(a)*a2)for t in tests])\n",
    "\n",
    "plt.plot(tests,(real_values-approx)/real_values/tests)\n",
    "plt.xscale(\"log\")\n",
    "plt.yscale(\"log\")"
   ]
  },
  {
   "cell_type": "code",
   "execution_count": 219,
   "metadata": {},
   "outputs": [
    {
     "data": {
      "image/png": "[encoded data removed]",
      "text/plain": [
       "<Figure size 432x288 with 1 Axes>"
      ]
     },
     "metadata": {
      "needs_background": "light"
     },
     "output_type": "display_data"
    }
   ],
   "source": [
    "# -- Ereg --\n",
    "#Random vector with same amplitude as u0\n",
    "a2 = np.random.randn(512*512).reshape((512,512))/512*np.linalg.norm(u0_mat)\n",
    "\n",
    "tests = np.logspace(-7,-0,30)\n",
    "real_values = np.array([Ereg(u0_mat+t*a2) for t in tests])\n",
    "approx = np.array([Ereg(u0_mat)+t*np.sum(Du_Ereg(u0_mat)*a2)for t in tests])\n",
    "\n",
    "plt.plot(tests,(real_values-approx)/real_values/tests)\n",
    "plt.xscale(\"log\")\n",
    "plt.yscale(\"log\")"
   ]
  },
  {
   "cell_type": "code",
   "execution_count": 220,
   "metadata": {
    "scrolled": true
   },
   "outputs": [
    {
     "name": "stdout",
     "output_type": "stream",
     "text": [
      "Gap between limits:4.7254233456781e-14\n"
     ]
    },
    {
     "data": {
      "text/plain": [
       "<matplotlib.legend.Legend at 0x7f081a08ce80>"
      ]
     },
     "execution_count": 220,
     "metadata": {},
     "output_type": "execute_result"
    },
    {
     "data": {
      "image/png": "[encoded data removed]",
      "text/plain": [
       "<Figure size 432x288 with 1 Axes>"
      ]
     },
     "metadata": {
      "needs_background": "light"
     },
     "output_type": "display_data"
    }
   ],
   "source": [
    "print(f\"Gap between limits:{real_values[0]-approx[0]}\")\n",
    "\n",
    "plt.plot(tests[:5],real_values[:5],'r',label=\"Real value\")\n",
    "plt.plot(tests[:5],approx[:5],label=\"Estimation with gradient\")\n",
    "plt.xscale(\"log\")\n",
    "plt.yscale(\"log\")\n",
    "plt.title(\"Comparison between real value of $E_{reg}(u_0+th)$ and linear approximation\")\n",
    "plt.legend()"
   ]
  },
  {
   "cell_type": "markdown",
   "metadata": {},
   "source": [
    "Always the same gap, whatever a2 (4.7254e-14) when we use u0. If we use a random a instead of u0, seems to work."
   ]
  },
  {
   "cell_type": "code",
   "execution_count": 226,
   "metadata": {},
   "outputs": [
    {
     "data": {
      "image/png": "[encoded data removed]",
      "text/plain": [
       "<Figure size 432x288 with 1 Axes>"
      ]
     },
     "metadata": {
      "needs_background": "light"
     },
     "output_type": "display_data"
    }
   ],
   "source": [
    "# -- Etot --\n",
    "#Random vector with same amplitude as u0\n",
    "a2 = np.random.randn(512*512).reshape((512,512))/512*np.linalg.norm(u0_mat)\n",
    "\n",
    "tests = np.logspace(-7,0,20)\n",
    "real_values = np.array([Etot(a+t*a2) for t in tests])\n",
    "approx = np.array([Etot(a)+t*np.sum(Du_Etot(a)*a2)for t in tests])\n",
    "\n",
    "plt.plot(tests,(real_values-approx)/real_values/tests)\n",
    "plt.xscale(\"log\")"
   ]
  },
  {
   "cell_type": "markdown",
   "metadata": {},
   "source": [
    "# Second order derivatives\n",
    "We don't express the hessians as matrices but as linear operators. Same verifications: $\\frac{||\\nabla f(a+th)-(\\nabla f(a)+t\\nabla^2f(a)h)||_2}{||\\nabla f(a)||_2}$."
   ]
  },
  {
   "cell_type": "code",
   "execution_count": 17,
   "metadata": {},
   "outputs": [],
   "source": [
    "def Du2_Eeps(u,p,w):return param[\"epsilon\"]*w\n",
    "def Du2_Edata(u,p,w):return np.real(fourier_op.adj_op(p[:-1]**2*fourier_op.op(w)))\n",
    "def Du2_Enonneg(u,p,w):return -6*param[\"zeta\"]*np.where(u<0,u,0)*w\n",
    "def Du2_Ereg(u,p,w):\n",
    "    lin_u = linear_op.op(u)\n",
    "    lin_w = linear_op.op(w)\n",
    "    psi_Au = psi_vec(lin_u)\n",
    "    return linear_op.adj_op(lin_u**2*lin_w*psi_Au)\n",
    "def Du2_Etot(u,p,w):return Du2_Eeps(u,p,w)+Du2_Edata(u,p,w)+Du2_Enonneg(u,p,w)+Du2_Ereg(u,p,w)"
   ]
  },
  {
   "cell_type": "code",
   "execution_count": 223,
   "metadata": {},
   "outputs": [
    {
     "data": {
      "image/png": "[encoded data removed]",
      "text/plain": [
       "<Figure size 432x288 with 1 Axes>"
      ]
     },
     "metadata": {
      "needs_background": "light"
     },
     "output_type": "display_data"
    }
   ],
   "source": [
    "# -- Eeps --\n",
    "#Two random vectors with same amplitude\n",
    "a = np.random.randn(512*512).reshape((512,512))\n",
    "a2 = np.random.randn(512*512).reshape((512,512))\n",
    "\n",
    "tests = np.logspace(-7,0,20)\n",
    "real_values = np.array([np.linalg.norm(Du_Eeps(a+t*a2)) for t in tests])\n",
    "approx = np.array([np.linalg.norm(Du_Eeps(a)+Du2_Eeps(a,p,t*a2)) for t in tests])\n",
    "\n",
    "plt.plot(tests,(real_values-approx)/real_values)\n",
    "#plt.plot(tests,vals2,'r')\n",
    "plt.xscale(\"log\")"
   ]
  },
  {
   "cell_type": "code",
   "execution_count": 233,
   "metadata": {},
   "outputs": [
    {
     "data": {
      "image/png": "[encoded data removed]",
      "text/plain": [
       "<Figure size 432x288 with 1 Axes>"
      ]
     },
     "metadata": {
      "needs_background": "light"
     },
     "output_type": "display_data"
    }
   ],
   "source": [
    "# -- Edata --\n",
    "#Random vector with same amplitude as u0\n",
    "a2 = np.random.randn(512*512).reshape((512,512))/512*np.linalg.norm(u0_mat)\n",
    "\n",
    "tests = np.logspace(-7,0,20)\n",
    "real_values = np.array([np.linalg.norm(Du_Edata(u0_mat+t*a2)) for t in tests])\n",
    "approx = np.array([np.linalg.norm(Du_Edata(u0_mat)+Du2_Edata(u0_mat,p,t*a2)) for t in tests])\n",
    "\n",
    "plt.plot(tests,(real_values-approx)/real_values/tests)\n",
    "plt.xscale(\"log\")"
   ]
  },
  {
   "cell_type": "code",
   "execution_count": 232,
   "metadata": {},
   "outputs": [
    {
     "data": {
      "image/png": "[encoded data removed]",
      "text/plain": [
       "<Figure size 432x288 with 1 Axes>"
      ]
     },
     "metadata": {
      "needs_background": "light"
     },
     "output_type": "display_data"
    }
   ],
   "source": [
    "# -- nonneg --\n",
    "#Two random vectors with same amplitude\n",
    "a = np.random.randn(512*512).reshape((512,512))-0.5\n",
    "a2 = np.random.randn(512*512).reshape((512,512))\n",
    "\n",
    "tests = np.logspace(-7,0,20)\n",
    "real_values = np.array([np.linalg.norm(Du_Enonneg(a+t*a2)) for t in tests])\n",
    "approx = np.array([np.linalg.norm(Du_Enonneg(a)+Du2_Enonneg(a,p,t*a2)) for t in tests])\n",
    "\n",
    "plt.plot(tests,(real_values-approx)/real_values/tests)\n",
    "plt.xscale(\"log\")\n",
    "plt.yscale(\"log\")"
   ]
  },
  {
   "cell_type": "code",
   "execution_count": 240,
   "metadata": {},
   "outputs": [
    {
     "data": {
      "image/png": "[encoded data removed]",
      "text/plain": [
       "<Figure size 432x288 with 1 Axes>"
      ]
     },
     "metadata": {
      "needs_background": "light"
     },
     "output_type": "display_data"
    }
   ],
   "source": [
    "# -- Ereg --\n",
    "#Random vector with same amplitude as u0\n",
    "a2 = np.random.randn(512*512).reshape((512,512))/512*np.linalg.norm(u0_mat)\n",
    "\n",
    "tests = np.logspace(-7,0,20)\n",
    "real_values = np.array([np.linalg.norm(Du_Ereg(u0_mat+t*a2)) for t in tests])\n",
    "approx = np.array([np.linalg.norm(Du_Ereg(u0_mat)+Du2_Ereg(u0_mat,p,t*a2)) for t in tests])\n",
    "\n",
    "plt.plot(tests,abs((real_values-approx)/real_values/tests))\n",
    "plt.xscale(\"log\")\n",
    "plt.yscale(\"log\")"
   ]
  },
  {
   "cell_type": "code",
   "execution_count": 18,
   "metadata": {},
   "outputs": [],
   "source": [
    "def Dpu_Edata(u,p,w):\n",
    "    Fu = np.conj(fourier_op.op(Rstar(u))-y)\n",
    "    Fw = fourier_op.op(w)\n",
    "    return 2*np.real(p[:-1]*Fu*Fw)\n",
    "def Dpu_Ereg(u,p,w):\n",
    "    return np.sum(w*linear_op.adj_op(phi_vec(linear_op.op(u))*linear_op.op(u)))\n",
    "\n",
    "def Dpu_Etot(u,p,w):\n",
    "    g = np.zeros((512*512+1,))\n",
    "    g[:-1] = Dpu_Edata(u,p,w)\n",
    "    g[-1] = Dpu_Ereg(u,p,w)\n",
    "    return g"
   ]
  },
  {
   "cell_type": "markdown",
   "metadata": {},
   "source": [
    "## Loss function and penalty"
   ]
  },
  {
   "cell_type": "code",
   "execution_count": 143,
   "metadata": {},
   "outputs": [],
   "source": [
    "def L(u,u2):return np.linalg.norm(u-u2)**2\n",
    "def grad_L(u,u2):return 2*(u-u2)\n",
    "\n",
    "beta = 1e-10\n",
    "def P(p):return beta*np.sum(p[:-1]*(1-p[:-1]))\n",
    "def grad_P(p):\n",
    "    Dp = 1-2*p\n",
    "    #Don't change alpha\n",
    "    Dp[-1] = 0\n",
    "    return beta*Dp"
   ]
  },
  {
   "cell_type": "markdown",
   "metadata": {},
   "source": [
    "# Upper level energy"
   ]
  },
  {
   "cell_type": "code",
   "execution_count": 241,
   "metadata": {},
   "outputs": [],
   "source": [
    "uk = np.zeros(u0_mat.shape)\n",
    "\n",
    "def E(pk):\n",
    "    global uk\n",
    "    print(\"\\nEvaluating E(p)\")\n",
    "    param[\"pn1\"]=pk[-1]\n",
    "    uk,norms,energy = pdhg(y,pk[:-1],fourier_op,linear_op,param,maxit=20,verbose=0)\n",
    "    return L(uk,u0_mat)+P(pk)\n",
    "\n",
    "def grad_E(pk):\n",
    "    global uk\n",
    "    #Update alpha(p)\n",
    "    param[\"pn1\"]=pk[-1]\n",
    "    \n",
    "    print(\"\\nStarting PDHG\")\n",
    "    uk,norms,energy = pdhg(y,pk[:-1],fourier_op,linear_op,param,maxit=20,verbose=0)\n",
    "    \n",
    "    def mv(w):\n",
    "        w = np.reshape(w,(512,512))\n",
    "        return np.reshape(Du2_Etot(uk,pk,w),(512*512,))\n",
    "    \n",
    "    # -- Use cg to compute gradient --\n",
    "    lin = LinearOperator((512*512,512*512),matvec=mv)\n",
    "    B = np.reshape(grad_L(uk,u0_mat),(512*512,))\n",
    "    \n",
    "    print(\"\\nStarting Conjugate Gradient method\")\n",
    "    x_inter,convergence = cg(lin,B,tol=1e-4,maxiter=50)\n",
    "    return Dpu_Etot(uk,pk,np.reshape(x_inter,(512,512)))+grad_P(pk)\n",
    "\n",
    "niter = 0\n",
    "def fcall(x):\n",
    "    global uk,niter\n",
    "    niter += 1\n",
    "    print(f\"\\n{niter} iterations: ssim={ssim(uk,u0_mat)}\\n\\n\")"
   ]
  },
  {
   "cell_type": "code",
   "execution_count": 255,
   "metadata": {
    "scrolled": true
   },
   "outputs": [
    {
     "name": "stdout",
     "output_type": "stream",
     "text": [
      "\n",
      "Evaluating E(p)\n",
      "Finished in 9.509022951126099 seconds.\n",
      "\n",
      "Starting PDHG\n",
      "Finished in 9.511437177658081 seconds.\n",
      "\n",
      "Starting Conjugate Gradient method\n",
      "\n",
      "Evaluating E(p)\n",
      "Finished in 9.563354253768921 seconds.\n",
      "\n",
      "Evaluating E(p)\n",
      "Finished in 9.571742534637451 seconds.\n",
      "\n",
      "Evaluating E(p)\n",
      "Finished in 9.512110948562622 seconds.\n",
      "\n",
      "Evaluating E(p)\n",
      "Finished in 9.513763189315796 seconds.\n",
      "\n",
      "Evaluating E(p)\n",
      "Finished in 9.628834247589111 seconds.\n",
      "\n",
      "Evaluating E(p)\n",
      "Finished in 9.510279417037964 seconds.\n",
      "\n",
      "Evaluating E(p)\n",
      "Finished in 9.546612024307251 seconds.\n",
      "\n",
      "Evaluating E(p)\n",
      "Finished in 9.511719942092896 seconds.\n",
      "\n",
      "Evaluating E(p)\n",
      "Finished in 9.488060712814331 seconds.\n",
      "\n",
      "Evaluating E(p)\n",
      "Finished in 9.50137186050415 seconds.\n",
      "\n",
      "Evaluating E(p)\n",
      "Finished in 9.501596927642822 seconds.\n",
      "\n",
      "Evaluating E(p)\n",
      "Finished in 9.486013174057007 seconds.\n",
      "\n",
      "Evaluating E(p)\n",
      "Finished in 9.777441501617432 seconds.\n",
      "\n",
      "Evaluating E(p)\n",
      "Finished in 10.108941793441772 seconds.\n",
      "\n",
      "Evaluating E(p)\n",
      "Finished in 9.823137760162354 seconds.\n",
      "\n",
      "Evaluating E(p)\n",
      "Finished in 9.607125759124756 seconds.\n",
      "\n",
      "Evaluating E(p)\n",
      "Finished in 9.53968620300293 seconds.\n",
      "\n",
      "Evaluating E(p)\n",
      "Finished in 9.492781162261963 seconds.\n",
      "\n",
      "Evaluating E(p)\n",
      "Finished in 9.531041860580444 seconds.\n",
      "\n",
      "Evaluating E(p)\n",
      "Finished in 9.529799222946167 seconds.\n"
     ]
    }
   ],
   "source": [
    "p0 = np.random.rand(512*512+1)\n",
    "Ep0,gradEp0 = E(p0),grad_E(p0)\n",
    "p1 = np.random.rand(512*512+1)\n",
    "\n",
    "tests = np.logspace(-7,0,20)\n",
    "real_values = np.array([E(p0+t*p1) for t in tests])\n",
    "approx = np.array([Ep0+t*np.sum(gradEp0*p1) for t in tests])"
   ]
  },
  {
   "cell_type": "code",
   "execution_count": 256,
   "metadata": {},
   "outputs": [
    {
     "data": {
      "image/png": "[encoded data removed]",
      "text/plain": [
       "<Figure size 432x288 with 1 Axes>"
      ]
     },
     "metadata": {
      "needs_background": "light"
     },
     "output_type": "display_data"
    }
   ],
   "source": [
    "plt.plot(tests,abs((real_values-approx)/real_values/tests))\n",
    "plt.xscale(\"log\")\n",
    "plt.yscale(\"log\")"
   ]
  },
  {
   "cell_type": "markdown",
   "metadata": {},
   "source": [
    "# L-BFGS-B"
   ]
  },
  {
   "cell_type": "code",
   "execution_count": 245,
   "metadata": {
    "scrolled": true
   },
   "outputs": [
    {
     "name": "stdout",
     "output_type": "stream",
     "text": [
      "\n",
      "Evaluating E(p)\n",
      "Finished in 10.285285949707031 seconds.\n",
      "\n",
      "Starting PDHG\n",
      "Finished in 10.563462257385254 seconds.\n",
      "\n",
      "Starting Conjugate Gradient method\n"
     ]
    }
   ],
   "source": [
    "p0 = np.random.rand(512*512+1)\n",
    "p0[-1] = 1e-7\n",
    "res = scipy.optimize.minimize(E,p,method='L-BFGS-B',jac=grad_E\n",
    "                              ,bounds=[(0,1)]*512*512+[(0,np.inf)]\n",
    "                              ,callback=fcall\n",
    "                              ,options={'ftol':1e-30,'maxiter':3,'maxfun':3})"
   ]
  },
  {
   "cell_type": "code",
   "execution_count": 246,
   "metadata": {
    "scrolled": true
   },
   "outputs": [
    {
     "name": "stdout",
     "output_type": "stream",
     "text": [
      "\n",
      "Evaluating E(p)\n",
      "Finished in 10.541069507598877 seconds.\n",
      "\n",
      "Evaluating E(p)\n",
      "Finished in 10.288304090499878 seconds.\n",
      "8.31825176857e-08 3.53271254514e-07\n"
     ]
    }
   ],
   "source": [
    "pf = res.x\n",
    "print(E(p),E(pf))"
   ]
  },
  {
   "cell_type": "code",
   "execution_count": 249,
   "metadata": {},
   "outputs": [
    {
     "name": "stdout",
     "output_type": "stream",
     "text": [
      "9e-07\n"
     ]
    }
   ],
   "source": [
    "print(pf[-1])\n",
    "pysap.Image(data=np.reshape(pf[:-1],(512,512))).show()"
   ]
  },
  {
   "cell_type": "code",
   "execution_count": 101,
   "metadata": {
    "scrolled": true
   },
   "outputs": [
    {
     "name": "stdout",
     "output_type": "stream",
     "text": [
      "10  iterations:\n",
      "Cost: 1.50831813763e-07 \n",
      "Norm: 0.0776682254923 \n",
      "\n",
      "20  iterations:\n",
      "Cost: 1.46064127054e-07 \n",
      "Norm: 0.00653630178647 \n",
      "\n",
      "30  iterations:\n",
      "Cost: 1.45449826117e-07 \n",
      "Norm: 0.0017374670183 \n",
      "\n",
      "40  iterations:\n",
      "Cost: 1.45357723244e-07 \n",
      "Norm: 0.000939767465303 \n",
      "\n",
      "50  iterations:\n",
      "Cost: 1.45326445854e-07 \n",
      "Norm: 0.00067869197258 \n",
      "\n",
      "60  iterations:\n",
      "Cost: 1.45310355407e-07 \n",
      "Norm: 0.000544556572825 \n",
      "\n",
      "70  iterations:\n",
      "Cost: 1.45299458079e-07 \n",
      "Norm: 0.00044207657829 \n",
      "\n",
      "80  iterations:\n",
      "Cost: 1.45291710052e-07 \n",
      "Norm: 0.000378156681427 \n",
      "\n",
      "90  iterations:\n",
      "Cost: 1.45286324637e-07 \n",
      "Norm: 0.000325014071773 \n",
      "\n",
      "100  iterations:\n",
      "Cost: 1.45281516077e-07 \n",
      "Norm: 0.000282938086491 \n",
      "\n",
      "Finished in 54.95491170883179 seconds.\n",
      "0.892542837098\n"
     ]
    },
    {
     "data": {
      "image/png": "[encoded data removed]",
      "text/plain": [
       "<Figure size 432x288 with 1 Axes>"
      ]
     },
     "metadata": {
      "needs_background": "light"
     },
     "output_type": "display_data"
    }
   ],
   "source": [
    "uk,norms,energy,ssims = pdhg(y,pf[:-1],fourier_op,linear_op,param,real_image=u0_mat,maxit=100)\n",
    "print(ssim(uk,u0_mat))\n",
    "plt.plot(ssims)\n",
    "pysap.Image(data=uk).show()"
   ]
  }
 ],
 "metadata": {
  "kernelspec": {
   "display_name": "Python 3",
   "language": "python",
   "name": "python3"
  },
  "language_info": {
   "codemirror_mode": {
    "name": "ipython",
    "version": 3
   },
   "file_extension": ".py",
   "mimetype": "text/x-python",
   "name": "python",
   "nbconvert_exporter": "python",
   "pygments_lexer": "ipython3",
   "version": "3.7.3"
  }
 },
 "nbformat": 4,
 "nbformat_minor": 2
}
