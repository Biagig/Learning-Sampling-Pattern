{
 "cells": [
  {
   "cell_type": "code",
   "execution_count": 1,
   "metadata": {
    "scrolled": true
   },
   "outputs": [
    {
     "name": "stdout",
     "output_type": "stream",
     "text": [
      "\n",
      "                 .|'''|       /.\\      '||'''|,\n",
      "                 ||          // \\\\      ||   ||\n",
      "'||''|, '||  ||` `|'''|,    //...\\\\     ||...|'\n",
      " ||  ||  `|..||   .   ||   //     \\\\    ||\n",
      " ||..|'      ||   |...|' .//       \\\\. .||\n",
      " ||       ,  |'\n",
      ".||        ''\n",
      "\n",
      "Package version: 0.0.3\n",
      "\n",
      "License: CeCILL-B\n",
      "\n",
      "Authors: \n",
      "\n",
      "Antoine Grigis <antoine.grigis@cea.fr>\n",
      "Samuel Farrens <samuel.farrens@cea.fr>\n",
      "Jean-Luc Starck <jl.stark@cea.fr>\n",
      "Philippe Ciuciu <philippe.ciuciu@cea.fr>\n",
      "\n",
      "Dependencies: \n",
      "\n",
      "scipy          : >=1.3.0   - required | 1.3.0     installed\n",
      "numpy          : >=1.16.4  - required | 1.16.4    installed\n",
      "matplotlib     : >=3.0.0   - required | 3.1.1     installed\n",
      "astropy        : >=3.0.0   - required | 3.2.1     installed\n",
      "nibabel        : >=2.3.2   - required | 2.5.1     installed\n",
      "pyqtgraph      : >=0.10.0  - required | 0.10.0    installed\n",
      "progressbar2   : >=3.34.3  - required | ?         installed\n",
      "modopt         : >=1.4.0   - required | 1.4.1     installed\n",
      "scikit-learn   : >=0.19.1  - required | ?         installed\n",
      "pywt           : >=1.0.0   - required | 1.0.3     installed\n",
      "pysparse       : >=0.0.1   - required | 0.1.0     installed\n",
      "\n"
     ]
    }
   ],
   "source": [
    "from mri.operators import NonCartesianFFT, WaveletUD2, WaveletN\n",
    "import pysap\n",
    "from pysap.data import get_sample_data\n",
    "from mri.operators.utils import convert_mask_to_locations, convert_locations_to_mask\n",
    "import matplotlib.pyplot as plt\n",
    "import numpy as np\n",
    "import time\n",
    "\n",
    "from UpperLevel.L1norm import *\n",
    "from UpperLevel.hessians import *"
   ]
  },
  {
   "cell_type": "code",
   "execution_count": 2,
   "metadata": {},
   "outputs": [
    {
     "name": "stderr",
     "output_type": "stream",
     "text": [
      "/home/guillaume/temp/pysap-mri/mri/operators/fourier/utils.py:78: FutureWarning: Using a non-tuple sequence for multidimensional indexing is deprecated; use `arr[tuple(seq)]` instead of `arr[seq]`. In the future this will be interpreted as an array index, `arr[np.array(seq)]`, which will result either in an error or a different result.\n",
      "  mask[test] = 1\n"
     ]
    }
   ],
   "source": [
    "u0 = get_sample_data('2d-mri')\n",
    "u0_mat = (1+0j)*u0.data[125:155,125:155]\n",
    "\n",
    "n=u0_mat.shape[0]\n",
    "x = np.linspace(0,n,n,endpoint=False)/n-0.5\n",
    "y = np.linspace(0,n,n,endpoint=False)/n-0.5\n",
    "X,Y = np.meshgrid(x,y)\n",
    "kspace_loc = np.stack([X.flatten('F'),Y.flatten('F')],axis=1)\n",
    "\n",
    "m = convert_locations_to_mask(kspace_loc,u0_mat.shape)\n",
    "fourier_op = NonCartesianFFT(samples=kspace_loc, shape=u0_mat.shape,implementation='cpu')\n",
    "\n",
    "y = (1+0j)*fourier_op.op(u0_mat)+5e-7*np.random.randn(2*n*n).view(np.complex128)"
   ]
  },
  {
   "cell_type": "code",
   "execution_count": 3,
   "metadata": {},
   "outputs": [],
   "source": [
    "#Subsampling: From pysap radial mask \n",
    "radial_mask = get_sample_data(\"mri-radial-samples\")\n",
    "radial_kspace_loc = radial_mask.data\n",
    "radial_p = np.zeros((n*n+1,))\n",
    "\n",
    "ind1 = ((n-1)*(radial_kspace_loc[:,0]+0.5)).astype(int)\n",
    "ind2 = ((n-1)*(radial_kspace_loc[:,1]+0.5)).astype(int)\n",
    "radial_p[n*ind1+ind2]=1\n",
    "radial_p[-1]=1e-6\n",
    "p = np.copy(radial_p)\n",
    "\n",
    "#Wavelet\n",
    "linear_op = WaveletN(wavelet_name=\"sym8\",nb_scale=1,padding_mode = \"periodization\")\n",
    "#linear_op = WaveletUD2(wavelet_id=24,nb_scale=3)"
   ]
  },
  {
   "cell_type": "code",
   "execution_count": 4,
   "metadata": {},
   "outputs": [],
   "source": [
    "eps=1e-6\n",
    "gamma=1e-10"
   ]
  },
  {
   "cell_type": "markdown",
   "metadata": {},
   "source": [
    "# Checking gradients"
   ]
  },
  {
   "cell_type": "code",
   "execution_count": 5,
   "metadata": {},
   "outputs": [
    {
     "data": {
      "image/png": "[encoded data removed]",
      "text/plain": [
       "<Figure size 432x288 with 1 Axes>"
      ]
     },
     "metadata": {
      "needs_background": "light"
     },
     "output_type": "display_data"
    }
   ],
   "source": [
    "# -- Eeps --\n",
    "#Two random vectors with same amplitude\n",
    "a = np.random.randn(2*n**2).view(np.complex128).reshape((n,n))/n*np.linalg.norm(u0_mat)\n",
    "a2 = np.random.randn(2*n**2).view(np.complex128).reshape((n,n))/n*np.linalg.norm(u0_mat)\n",
    "\n",
    "tests = np.logspace(-8,0,50)\n",
    "real_values = np.array([Eeps(a+t*a2,radial_p,eps=eps) for t in tests])\n",
    "approx = np.array([Eeps(a,radial_p,eps=eps)+t*np.sum(np.real(Du_Eeps(a,radial_p,eps=eps))*np.real(a2)+\n",
    "                                          np.imag(Du_Eeps(a,radial_p,eps=eps))*np.imag(a2)) for t in tests])\n",
    "\n",
    "plt.plot(tests,np.abs((real_values-approx))/tests)\n",
    "plt.xscale(\"log\")\n",
    "plt.yscale(\"log\")"
   ]
  },
  {
   "cell_type": "code",
   "execution_count": 6,
   "metadata": {},
   "outputs": [
    {
     "name": "stdout",
     "output_type": "stream",
     "text": [
      "8.332952468600995e-08\n"
     ]
    },
    {
     "data": {
      "image/png": "[encoded data removed]",
      "text/plain": [
       "<Figure size 432x288 with 1 Axes>"
      ]
     },
     "metadata": {
      "needs_background": "light"
     },
     "output_type": "display_data"
    }
   ],
   "source": [
    "# -- Edata --\n",
    "#Random vector with same amplitude as u0\n",
    "a = np.random.randn(2*n**2).view(np.complex128).reshape((n,n))/n*np.linalg.norm(u0_mat)\n",
    "a2 = np.random.randn(2*n*n).view(np.complex128).reshape((n,n))/n*np.linalg.norm(u0_mat)\n",
    "\n",
    "p=radial_p\n",
    "tests = np.logspace(-8,0,30)\n",
    "real_values = np.array([Edata(a+t*a2,p,fourier_op = fourier_op,y = y) for t in tests])\n",
    "approx = np.array([Edata(a,p,fourier_op = fourier_op,y = y)+\n",
    "                   np.sum(np.real(Du_Edata(a,radial_p,fourier_op = fourier_op,y = y))*np.real(t*a2)+\n",
    "                            np.imag(Du_Edata(a,radial_p,fourier_op = fourier_op,y = y))*np.imag(t*a2))\n",
    "                   for t in tests])\n",
    "\n",
    "print(Edata(a,radial_p,fourier_op = fourier_op,y = y))\n",
    "plt.plot(tests,np.abs((real_values-approx))/tests)\n",
    "plt.xscale(\"log\")\n",
    "plt.yscale(\"log\")"
   ]
  },
  {
   "cell_type": "code",
   "execution_count": 7,
   "metadata": {},
   "outputs": [
    {
     "name": "stdout",
     "output_type": "stream",
     "text": [
      "9.555578524111413e-09\n"
     ]
    },
    {
     "data": {
      "image/png": "[encoded data removed]",
      "text/plain": [
       "<Figure size 432x288 with 1 Axes>"
      ]
     },
     "metadata": {
      "needs_background": "light"
     },
     "output_type": "display_data"
    }
   ],
   "source": [
    "# -- Ereg --\n",
    "#Random vector with same amplitude as u0\n",
    "a = np.random.randn(2*n*n).view(np.complex128).reshape((n,n))/n*np.linalg.norm(u0_mat)\n",
    "a2 = np.random.randn(2*n*n).view(np.complex128).reshape((n,n))/n*np.linalg.norm(u0_mat)\n",
    "\n",
    "tests = np.logspace(-8,0,20)\n",
    "real_values = np.array([Ereg(a+t*a2,radial_p,linear_op = linear_op,gamma=gamma) for t in tests])\n",
    "approx = np.array([Ereg(a,radial_p,linear_op = linear_op,gamma=gamma)+\n",
    "                   t*np.sum(np.real(Du_Ereg(a,radial_p,linear_op = linear_op,gamma=gamma))*np.real(a2)+\n",
    "                            np.imag(Du_Ereg(a,radial_p,linear_op = linear_op,gamma=gamma))*np.imag(a2))\n",
    "                   for t in tests])\n",
    "\n",
    "print(Ereg(a,radial_p,linear_op = linear_op,gamma=gamma))\n",
    "plt.plot(tests,np.abs((real_values-approx))/tests)\n",
    "plt.xscale(\"log\")\n",
    "plt.yscale(\"log\")"
   ]
  },
  {
   "cell_type": "code",
   "execution_count": 8,
   "metadata": {},
   "outputs": [
    {
     "name": "stdout",
     "output_type": "stream",
     "text": [
      "8.984310554424317e-08\n"
     ]
    },
    {
     "data": {
      "image/png": "[encoded data removed]",
      "text/plain": [
       "<Figure size 432x288 with 1 Axes>"
      ]
     },
     "metadata": {
      "needs_background": "light"
     },
     "output_type": "display_data"
    }
   ],
   "source": [
    "# -- Etot --\n",
    "#Random vector with same amplitude as u0\n",
    "a = np.random.randn(2*n*n).view(np.complex128).reshape((n,n))/n*np.linalg.norm(u0_mat)\n",
    "a2 = np.random.randn(2*n*n).view(np.complex128).reshape((n,n))/n*np.linalg.norm(u0_mat)\n",
    "\n",
    "tests = np.logspace(-8,0,30)\n",
    "real_values = np.array([Etot(a+t*a2,radial_p,eps=eps,fourier_op=fourier_op,y=y,linear_op=linear_op,gamma=gamma) for t in tests])\n",
    "approx = np.array([Etot(a,radial_p,eps=eps,fourier_op=fourier_op,y=y,linear_op=linear_op,gamma=gamma)+\n",
    "                   t*np.sum(np.real(Du_Etot(a,radial_p,eps=eps,fourier_op=fourier_op,y=y,\n",
    "                                            linear_op=linear_op,gamma=gamma))*np.real(a2)+\n",
    "                            np.imag(Du_Etot(a,radial_p,eps=eps,fourier_op=fourier_op,y=y,\n",
    "                                            linear_op=linear_op,gamma=gamma))*np.imag(a2))\n",
    "                   for t in tests])\n",
    "\n",
    "print(Etot(a,radial_p,eps=eps,fourier_op=fourier_op,y=y,linear_op=linear_op,gamma=gamma))\n",
    "plt.plot(tests,np.abs((real_values-approx))/tests)\n",
    "plt.xscale(\"log\")\n",
    "plt.yscale(\"log\")"
   ]
  },
  {
   "cell_type": "markdown",
   "metadata": {},
   "source": [
    "# Checking hessians"
   ]
  },
  {
   "cell_type": "code",
   "execution_count": 9,
   "metadata": {},
   "outputs": [
    {
     "name": "stdout",
     "output_type": "stream",
     "text": [
      "3.4976247470205565e-10\n"
     ]
    },
    {
     "data": {
      "image/png": "[encoded data removed]",
      "text/plain": [
       "<Figure size 432x288 with 1 Axes>"
      ]
     },
     "metadata": {
      "needs_background": "light"
     },
     "output_type": "display_data"
    }
   ],
   "source": [
    "# -- Eeps --\n",
    "#Two random vectors with same amplitude\n",
    "a = np.random.randn(2*n**2).view(np.complex128).reshape((n,n))/n*np.linalg.norm(u0_mat)\n",
    "a2 = np.random.randn(2*n**2).view(np.complex128).reshape((n,n))/n*np.linalg.norm(u0_mat)\n",
    "\n",
    "ntest=30\n",
    "tests = np.logspace(-8,0,ntest)\n",
    "Dua = Du_Eeps(a,p,eps=eps)\n",
    "real = []\n",
    "approx = []\n",
    "for t in tests:\n",
    "    real.append(Du_Eeps(a+t*a2,p,eps=eps))\n",
    "    approx.append(Dua+Du2_Eeps(a,p,t*a2,eps=eps))\n",
    "\n",
    "print(np.linalg.norm(Dua))\n",
    "plt.plot(tests,np.array([np.linalg.norm(real[i]-approx[i]) for i in range(ntest)])/tests)\n",
    "plt.xscale(\"log\")\n",
    "plt.yscale(\"log\")"
   ]
  },
  {
   "cell_type": "code",
   "execution_count": 10,
   "metadata": {},
   "outputs": [
    {
     "name": "stdout",
     "output_type": "stream",
     "text": [
      "0.00041103237336019446\n"
     ]
    },
    {
     "data": {
      "image/png": "[encoded data removed]",
      "text/plain": [
       "<Figure size 432x288 with 1 Axes>"
      ]
     },
     "metadata": {
      "needs_background": "light"
     },
     "output_type": "display_data"
    }
   ],
   "source": [
    "# -- Edata --\n",
    "#Two random vectors with same amplitude\n",
    "a = np.random.randn(2*n**2).view(np.complex128).reshape((n,n))/n*np.linalg.norm(u0_mat)\n",
    "a2 = np.random.randn(2*n**2).view(np.complex128).reshape((n,n))/n*np.linalg.norm(u0_mat)\n",
    "\n",
    "ntest=30\n",
    "tests = np.logspace(-8,0,ntest)\n",
    "real = []\n",
    "approx = []\n",
    "Dua = Du_Edata(a,radial_p,fourier_op=fourier_op,y=y)\n",
    "for t in tests:\n",
    "    real.append(Du_Edata(a+t*a2,radial_p,fourier_op=fourier_op,y=y))\n",
    "    approx.append(Dua+Du2_Edata(a,radial_p,t*a2,fourier_op=fourier_op,y=y))\n",
    "\n",
    "print(np.linalg.norm(Dua))\n",
    "plt.plot(tests,np.array([np.linalg.norm(real[i]-approx[i]) for i in range(ntest)])/tests)\n",
    "plt.xscale(\"log\")\n",
    "plt.yscale(\"log\")"
   ]
  },
  {
   "cell_type": "code",
   "execution_count": 11,
   "metadata": {},
   "outputs": [
    {
     "name": "stdout",
     "output_type": "stream",
     "text": [
      "2.9999999999997724e-05\n"
     ]
    },
    {
     "data": {
      "image/png": "[encoded data removed]",
      "text/plain": [
       "<Figure size 432x288 with 1 Axes>"
      ]
     },
     "metadata": {
      "needs_background": "light"
     },
     "output_type": "display_data"
    }
   ],
   "source": [
    "# -- Ereg --\n",
    "#Two random vectors with same amplitude\n",
    "a = np.random.randn(2*n**2).view(np.complex128).reshape((n,n))/n*np.linalg.norm(u0_mat)\n",
    "a2 = np.random.randn(2*n**2).view(np.complex128).reshape((n,n))/n*np.linalg.norm(u0_mat)\n",
    "\n",
    "ntest=50\n",
    "tests = np.logspace(-8,0,ntest)\n",
    "real = []\n",
    "approx = []\n",
    "Dua = Du_Ereg(a,radial_p,linear_op=linear_op,gamma=gamma)\n",
    "for t in tests:\n",
    "    real.append(Du_Ereg(a+t*a2,radial_p,linear_op=linear_op,gamma=gamma))\n",
    "    approx.append(Dua+Du2_Ereg(a,radial_p,t*a2,linear_op=linear_op,gamma=gamma))\n",
    "\n",
    "print(np.linalg.norm(Dua))\n",
    "plt.plot(tests,np.array([np.linalg.norm(real[i]-approx[i]) for i in range(ntest)])/tests)\n",
    "plt.xscale(\"log\")\n",
    "plt.yscale(\"log\")"
   ]
  },
  {
   "cell_type": "code",
   "execution_count": 12,
   "metadata": {},
   "outputs": [
    {
     "name": "stdout",
     "output_type": "stream",
     "text": [
      "0.0004143521157515805\n"
     ]
    },
    {
     "data": {
      "image/png": "[encoded data removed]",
      "text/plain": [
       "<Figure size 432x288 with 1 Axes>"
      ]
     },
     "metadata": {
      "needs_background": "light"
     },
     "output_type": "display_data"
    }
   ],
   "source": [
    "# -- Etot --\n",
    "#Two random vectors with same amplitude\n",
    "a = np.random.randn(2*n**2).view(np.complex128).reshape((n,n))/n*np.linalg.norm(u0_mat)\n",
    "a2 = np.random.randn(2*n**2).view(np.complex128).reshape((n,n))/n*np.linalg.norm(u0_mat)\n",
    "\n",
    "ntest=40\n",
    "tests = np.logspace(-8,0,ntest)\n",
    "real = []\n",
    "approx = []\n",
    "for t in tests:\n",
    "    real.append(Du_Etot(a+t*a2,p,eps=eps,fourier_op=fourier_op,y=y,linear_op=linear_op,gamma=gamma))\n",
    "    approx.append(Du_Etot(a,p,eps=eps,fourier_op=fourier_op,y=y,linear_op=linear_op,gamma=gamma)+\n",
    "                  t*Du2_Etot(a,p,a2,eps=eps,fourier_op=fourier_op,y=y,linear_op=linear_op,gamma=gamma))\n",
    "\n",
    "print(np.linalg.norm(Du_Etot(a,p,eps=eps,fourier_op=fourier_op,y=y,linear_op=linear_op,gamma=gamma)))\n",
    "plt.plot(tests,np.array([np.linalg.norm(real[i]-approx[i]) for i in range(ntest)])/tests)\n",
    "plt.xscale(\"log\")\n",
    "plt.yscale(\"log\")"
   ]
  },
  {
   "cell_type": "markdown",
   "metadata": {},
   "source": [
    "# Checking if symetric positive definite"
   ]
  },
  {
   "cell_type": "code",
   "execution_count": 28,
   "metadata": {},
   "outputs": [],
   "source": [
    "# Compute the matrix\n",
    "mat = np.zeros((2*n**2,2*n**2))\n",
    "a = np.random.randn(2*n**2).view(np.complex128).reshape((n,n))/n*np.linalg.norm(u0_mat)\n",
    "\n",
    "for i in range(n**2):\n",
    "    vec = np.zeros((n,n))\n",
    "    vec[i//n,i%n]=1\n",
    "    \n",
    "    fx = Du2_Edata(a,p,vec,eps=eps,fourier_op=fourier_op,y=y,linear_op=linear_op,gamma=gamma)    \n",
    "    result = np.reshape(fx,(1,n**2))\n",
    "    mat[i,:n**2] = np.real(result)\n",
    "    mat[i,n**2:] = np.imag(result)\n",
    "    mat[n**2+i,:n**2] = -np.imag(result)\n",
    "    mat[n**2+i,n**2:] = np.real(result)"
   ]
  },
  {
   "cell_type": "code",
   "execution_count": 29,
   "metadata": {},
   "outputs": [
    {
     "name": "stdout",
     "output_type": "stream",
     "text": [
      "0.004859018621606857 4.1047813912195807e-17\n",
      "True\n"
     ]
    }
   ],
   "source": [
    "#Checking if symmetric by comparing mat and mat.transpose()\n",
    "print(np.mean(np.absolute(mat)),np.mean(np.absolute(mat-mat.transpose())))\n",
    "print(np.allclose(mat,mat.transpose(),atol=1e-10*np.mean(np.absolute(mat)),rtol=1e-10))"
   ]
  },
  {
   "cell_type": "code",
   "execution_count": 30,
   "metadata": {},
   "outputs": [],
   "source": [
    "# Computing <x,Ax> for base vectors to see if positive\n",
    "xAx = np.zeros(2*n**2)\n",
    "for i in range(2*n**2):\n",
    "    xtest = np.zeros((2*n**2,1))\n",
    "    xtest[i]=1\n",
    "    xAx[i] = np.sum(xtest*np.dot(mat,xtest))"
   ]
  },
  {
   "cell_type": "code",
   "execution_count": 31,
   "metadata": {},
   "outputs": [
    {
     "name": "stdout",
     "output_type": "stream",
     "text": [
      "True\n"
     ]
    }
   ],
   "source": [
    "print(np.all(np.array(xAx)>0))"
   ]
  },
  {
   "cell_type": "markdown",
   "metadata": {},
   "source": [
    "## Check with complex version directly"
   ]
  },
  {
   "cell_type": "code",
   "execution_count": 61,
   "metadata": {},
   "outputs": [],
   "source": [
    "# Compute the matrix\n",
    "mat = (1+1j)*np.zeros((n**2,n**2))\n",
    "a = np.random.randn(2*n**2).view(np.complex128).reshape((n,n))/n*np.linalg.norm(u0_mat)\n",
    "\n",
    "for i in range(n**2):\n",
    "    vec = (1+1j)*np.zeros((n,n))\n",
    "    vec[i//n,i%n]=1+0j\n",
    "    \n",
    "    fx = Du2_J(a,vec,eps=eps,fourier_op=fourier_op,y=y,linear_op=linear_op,gamma=gamma)    \n",
    "    mat[i,:] = np.reshape(fx,(1,n**2))"
   ]
  },
  {
   "cell_type": "code",
   "execution_count": 62,
   "metadata": {},
   "outputs": [
    {
     "name": "stdout",
     "output_type": "stream",
     "text": [
      "False\n"
     ]
    }
   ],
   "source": [
    "print(np.allclose(mat,np.asmatrix(mat).H,atol=1e-10*np.mean(np.absolute(mat)),rtol=1e-10))"
   ]
  },
  {
   "cell_type": "code",
   "execution_count": 63,
   "metadata": {},
   "outputs": [
    {
     "name": "stdout",
     "output_type": "stream",
     "text": [
      "True\n"
     ]
    }
   ],
   "source": [
    "print(np.allclose(mat,mat.transpose(),atol=1e-10*np.mean(np.absolute(mat)),rtol=1e-10))"
   ]
  }
 ],
 "metadata": {
  "kernelspec": {
   "display_name": "Python 3",
   "language": "python",
   "name": "python3"
  },
  "language_info": {
   "codemirror_mode": {
    "name": "ipython",
    "version": 3
   },
   "file_extension": ".py",
   "mimetype": "text/x-python",
   "name": "python",
   "nbconvert_exporter": "python",
   "pygments_lexer": "ipython3",
   "version": "3.7.3"
  }
 },
 "nbformat": 4,
 "nbformat_minor": 2
}
