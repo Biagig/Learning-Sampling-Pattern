{
 "cells": [
  {
   "cell_type": "markdown",
   "metadata": {},
   "source": [
    "# Learning sampling pattern\n",
    "Second version of the full algorithm:\n",
    "- Several images possible\n",
    "- Learning points or shots on cartesian or radial masks:\n",
    "    - mask_type = \"cartesian\" : learn cartesian lines\n",
    "    - mask_type = \"\" or not given : learn points on cartesian fourier operator\n",
    "    - mask_type = \"radial_CO\" : learn radial CenterOut mask (i.e. radii)\n",
    "    - mask_type = anything else : learn points for any type of mask (do not use this when using a cartesian mask since mask_type=\"\" is a lot quicker)"
   ]
  },
  {
   "cell_type": "code",
   "execution_count": 1,
   "metadata": {},
   "outputs": [
    {
     "name": "stderr",
     "output_type": "stream",
     "text": [
      "/volatile/biagi/pysap-mri/mri/operators/fourier/cartesian.py:33: UserWarning: pynufft python package has not been found. If needed use the master release. Till then you cannot use NUFFT on GPU\n",
      "  warnings.warn(\"pynufft python package has not been found. If needed use \"\n",
      "/volatile/biagi/pysap-mri/mri/operators/fourier/non_cartesian.py:33: UserWarning: pynufft python package has not been found. If needed use the master release. Till then you cannot use NUFFT on GPU\n",
      "  warnings.warn(\"pynufft python package has not been found. If needed use \"\n",
      "/volatile/biagi/pysap-mri/mri/operators/fourier/non_cartesian.py:41: UserWarning: gpuNUFFT python package has not been found. If needed please check on how to install in README\n",
      "  warnings.warn(\"gpuNUFFT python package has not been found. If needed \"\n"
     ]
    }
   ],
   "source": [
    "from mri.operators import NonCartesianFFT, WaveletUD2, WaveletN\n",
    "import pysap\n",
    "from mri.operators.utils import convert_mask_to_locations, convert_locations_to_mask\n",
    "from modopt.math.metrics import ssim\n",
    "import matplotlib.pyplot as plt\n",
    "import numpy as np\n",
    "import nibabel as nib"
   ]
  },
  {
   "cell_type": "code",
   "execution_count": 2,
   "metadata": {},
   "outputs": [],
   "source": [
    "# Lower level imports\n",
    "from LowerLevel.pdhg import pdhg\n",
    "\n",
    "#Upper level imports\n",
    "import time\n",
    "from UpperLevel.LBFGSB import *\n",
    "from UpperLevel.cost_utils import *"
   ]
  },
  {
   "cell_type": "markdown",
   "metadata": {},
   "source": [
    "### Creation of Lower level tools\n",
    "Creating fourier_op, linear_op and param."
   ]
  },
  {
   "cell_type": "code",
   "execution_count": 3,
   "metadata": {},
   "outputs": [
    {
     "name": "stderr",
     "output_type": "stream",
     "text": [
      "/volatile/biagi/pysap-mri/mri/operators/fourier/utils.py:76: FutureWarning: Using a non-tuple sequence for multidimensional indexing is deprecated; use `arr[tuple(seq)]` instead of `arr[seq]`. In the future this will be interpreted as an array index, `arr[np.array(seq)]`, which will result either in an error or a different result.\n",
      "  mask[test] = 1\n"
     ]
    }
   ],
   "source": [
    "n = 50\n",
    "\n",
    "n_rad = int( n/2 )\n",
    "n_ang = int( n*np.pi )\n",
    "\n",
    "#num_blocks = ( n_rad - 1 ) * n_ang + 1 # for sampling isolated points\n",
    "num_blocks = n_ang # for choosing radia\n",
    "#num_blocks = n_rad # for choosing circles\n",
    "nb_samples = int( num_blocks * 2 / np.pi )\n",
    "\n",
    "phi = np.linspace( 0, 2 * np.pi, n_ang, endpoint = False )\n",
    "rad = np.linspace( 0.5 / n_rad, 0.5, (n_rad-1), endpoint = False )\n",
    "Rad, Phi = np.meshgrid( rad, phi )\n",
    "\n",
    "X = ( Rad * np.cos( Phi ) ).flatten( 'C' )\n",
    "Y = ( Rad * np.sin( Phi ) ).flatten( 'C' )\n",
    "\n",
    "full_kspace_loc = np.stack( ( X, Y ), axis = 1 )  \n",
    "full_kspace_loc = np.vstack( ( np.array( [ 0, 0 ] ), full_kspace_loc ) )\n",
    "\n",
    "m = convert_locations_to_mask(full_kspace_loc,(n,n))\n",
    "fourier_op = NonCartesianFFT(samples=full_kspace_loc, shape=(n,n),implementation='cpu')"
   ]
  },
  {
   "cell_type": "code",
   "execution_count": 4,
   "metadata": {},
   "outputs": [],
   "source": [
    "#Wavelet\n",
    "linear_op = WaveletN(wavelet_name=\"sym8\",nb_scale=1,padding_mode = \"periodization\")\n",
    "#linear_op = WaveletUD2(wavelet_id=24,nb_scale=3)\n",
    "\n",
    "param = {\"epsilon\":1e-4,\"gamma\":1e-10}"
   ]
  },
  {
   "cell_type": "code",
   "execution_count": 5,
   "metadata": {},
   "outputs": [
    {
     "data": {
      "text/plain": [
       "<matplotlib.collections.PathCollection at 0x7f329c5d8390>"
      ]
     },
     "execution_count": 5,
     "metadata": {},
     "output_type": "execute_result"
    },
    {
     "data": {
      "image/png": "[encoded data removed]",
      "text/plain": [
       "<Figure size 432x288 with 1 Axes>"
      ]
     },
     "metadata": {
      "needs_background": "light"
     },
     "output_type": "display_data"
    }
   ],
   "source": [
    "fig = plt.figure()\n",
    "ax = fig.add_subplot(1,1,1)\n",
    "ax.scatter(full_kspace_loc[:,0],full_kspace_loc[:,1],s=0.1,c='r')"
   ]
  },
  {
   "cell_type": "markdown",
   "metadata": {},
   "source": [
    "### Initializing upper level\n",
    "Creating images, kspace_data and updating param"
   ]
  },
  {
   "cell_type": "code",
   "execution_count": 6,
   "metadata": {},
   "outputs": [],
   "source": [
    "#Oasis image\n",
    "all_images = [ \"oasis_data/sub-OAS30001_ses-d0129_run-01_T1w.nii\"]\n",
    "              #,\"../oasis_data/sub-OAS30278_ses-d1325_run-02_T1w.nii\" ]\n",
    "im = nib.load(\"oasis_data/sub-OAS30001_ses-d0129_run-01_T1w.nii\")\n",
    "im = im.get_fdata()\n",
    "\n",
    "Nimages = 1\n",
    "images = [(1+0j)*im[ :, 30:206, i ]for i in range(124,124+Nimages)]"
   ]
  },
  {
   "cell_type": "code",
   "execution_count": 7,
   "metadata": {},
   "outputs": [],
   "source": [
    "def reduce_img_size( n_dim, image ):\n",
    "    mid = image.shape[ 0 ] // 2\n",
    "    f_coef = np.fft.fftshift( np.fft.fft2( image ) )\n",
    "    reduced_coef = f_coef[ mid - n_dim // 2: mid + n_dim // 2, mid - n_dim // 2: mid + n_dim // 2 ]\n",
    "    reduced_image = np.fft.ifft2( np.fft.fftshift( reduced_coef ) )\n",
    "    return np.abs( reduced_image )\n",
    "\n",
    "images = [reduce_img_size(n,im) for im in images]\n",
    "kspace_data = [(1+0j)*fourier_op.op(u0_mat) + \n",
    "               0.1*np.mean(u0_mat)*np.random.randn(2*(n_rad-1)*n_ang+2).view(np.complex128) \n",
    "               for u0_mat in images]"
   ]
  },
  {
   "cell_type": "code",
   "execution_count": 8,
   "metadata": {},
   "outputs": [],
   "source": [
    "param[\"c\"] = 1e-8\n",
    "param[\"beta\"] = 2e-3"
   ]
  },
  {
   "cell_type": "code",
   "execution_count": 9,
   "metadata": {},
   "outputs": [],
   "source": [
    "# -- Main object to learn mask --\n",
    "# -------------------------------\n",
    "obj = Mask_Learner(images=images,kspace_data=kspace_data,\n",
    "                    fourier_op=fourier_op , linear_op=linear_op , param=param , pgtol=1e-8 ,\n",
    "                    verbose=-1 , const={\"sigma\":0.5,\"tau\":1} , n_rad = n_rad)"
   ]
  },
  {
   "cell_type": "markdown",
   "metadata": {},
   "source": [
    "## Learning points"
   ]
  },
  {
   "cell_type": "code",
   "execution_count": 10,
   "metadata": {},
   "outputs": [
    {
     "name": "stdout",
     "output_type": "stream",
     "text": [
      "Penalty: 5.02184003325814\n"
     ]
    },
    {
     "name": "stderr",
     "output_type": "stream",
     "text": [
      "/volatile/biagi/pysap-mri/Learning-Sampling-Pattern-master/LowerLevel/prox.py:19: RuntimeWarning: invalid value encountered in sqrt\n",
      "  x/np.abs(x)*(gamma+gamma**2/2/c-gamma/c*np.sqrt((c+0.5*gamma)**2-c*np.abs(x))))\n"
     ]
    },
    {
     "name": "stdout",
     "output_type": "stream",
     "text": [
      "Total energy: 6.710562402206175\n"
     ]
    }
   ],
   "source": [
    "p0 = np.random.rand(n_ang*(n_rad-1)+2)\n",
    "p0[-1] = 1e-3\n",
    "\n",
    "print(\"Penalty:\",P(p0,param[\"beta\"]))\n",
    "print(\"Total energy:\",E(pk = p0 , images = images , kspace_data = kspace_data , param = param , \n",
    "       mask_type = \"radial\" , fourier_op = fourier_op , linear_op = linear_op , verbose = -1 ,\n",
    "       const = obj.const))"
   ]
  },
  {
   "cell_type": "code",
   "execution_count": 11,
   "metadata": {
    "scrolled": true
   },
   "outputs": [
    {
     "name": "stdout",
     "output_type": "stream",
     "text": [
      "\u001b[1m\n",
      "1 iterations: E(p)=6.628821368502968, alpha=0.8842010883801819\n",
      "\n",
      "\u001b[0m\n",
      "\u001b[1m\n",
      "2 iterations: E(p)=6.556326544898028, alpha=1.3812436124268193\n",
      "\n",
      "\u001b[0m\n",
      "\u001b[1m\n",
      "3 iterations: E(p)=6.302433011363478, alpha=3.637044135967665\n",
      "\n",
      "\u001b[0m\n",
      "\u001b[1m\n",
      "4 iterations: E(p)=6.231591953217994, alpha=3.7115677218503174\n",
      "\n",
      "\u001b[0m\n",
      "\u001b[1m\n",
      "5 iterations: E(p)=6.163621166296601, alpha=3.7801202238560734\n",
      "\n",
      "\u001b[0m\n",
      "\u001b[1m\n",
      "6 iterations: E(p)=6.098735032082896, alpha=3.844316128675735\n",
      "\n",
      "\u001b[0m\n",
      "\u001b[1m\n",
      "7 iterations: E(p)=6.036153075263325, alpha=3.906676937954539\n",
      "\n",
      "\u001b[0m\n",
      "\u001b[1m\n",
      "8 iterations: E(p)=5.9760369855227085, alpha=3.9665445211875663\n",
      "\n",
      "\u001b[0m\n",
      "\u001b[1m\n",
      "9 iterations: E(p)=5.91813565939765, alpha=4.024381273525814\n",
      "\n",
      "\u001b[0m\n",
      "\u001b[1m\n",
      "10 iterations: E(p)=5.863491391205149, alpha=4.079217472808001\n",
      "\n",
      "\u001b[0m\n",
      "\u001b[1m\n",
      "11 iterations: E(p)=5.811893067289632, alpha=4.131227178303684\n",
      "\n",
      "\u001b[0m\n",
      "\u001b[1m\n",
      "12 iterations: E(p)=5.762951818693935, alpha=4.180492925180351\n",
      "\n",
      "\u001b[0m\n",
      "\u001b[1m\n",
      "13 iterations: E(p)=5.716556459904694, alpha=4.22670671457179\n",
      "\n",
      "\u001b[0m\n",
      "\u001b[1m\n",
      "14 iterations: E(p)=5.672426428446318, alpha=4.270590697388837\n",
      "\n",
      "\u001b[0m\n",
      "\u001b[1m\n",
      "15 iterations: E(p)=5.630535674877404, alpha=4.311751192256546\n",
      "\n",
      "\u001b[0m\n",
      "\u001b[1m\n",
      "16 iterations: E(p)=5.590831140655929, alpha=4.351140770350822\n",
      "\n",
      "\u001b[0m\n",
      "\u001b[1m\n",
      "17 iterations: E(p)=5.55260527390421, alpha=4.388389465860323\n",
      "\n",
      "\u001b[0m\n",
      "\u001b[1m\n",
      "18 iterations: E(p)=5.516594832852238, alpha=4.4226401955915655\n",
      "\n",
      "\u001b[0m\n",
      "\u001b[1m\n",
      "19 iterations: E(p)=5.481909145960664, alpha=4.456021041537118\n",
      "\n",
      "\u001b[0m\n",
      "\u001b[1m\n",
      "20 iterations: E(p)=5.4481701204634705, alpha=4.488191782744117\n",
      "\n",
      "\u001b[0m\n",
      "\u001b[1m\n",
      "FINISHED IN 616.9792728424072 SECONDS\n",
      "\u001b[0m\n"
     ]
    }
   ],
   "source": [
    "pf,energy_upper,alphas = obj.optimize(p0=p0 , mask_type = \"radial\")"
   ]
  },
  {
   "cell_type": "code",
   "execution_count": 12,
   "metadata": {},
   "outputs": [
    {
     "name": "stdout",
     "output_type": "stream",
     "text": [
      "6.710562402206175 5.4481701204634705\n"
     ]
    },
    {
     "data": {
      "image/png": "[encoded data removed]",
      "text/plain": [
       "<Figure size 432x288 with 1 Axes>"
      ]
     },
     "metadata": {
      "needs_background": "light"
     },
     "output_type": "display_data"
    }
   ],
   "source": [
    "print(energy_upper[0],energy_upper[-1])\n",
    "plt.plot(energy_upper)\n",
    "plt.title(\"Evolution of upper level energy\")\n",
    "plt.xlabel(\"Number of iterations\")\n",
    "plt.ylabel(\"Energy\")\n",
    "plt.yscale(\"log\")\n",
    "#plt.savefig(\"Results/Upper Level/Multiple images/10 images/convergence.png\")"
   ]
  },
  {
   "cell_type": "code",
   "execution_count": 13,
   "metadata": {
    "scrolled": true
   },
   "outputs": [
    {
     "data": {
      "image/png": "[encoded data removed]",
      "text/plain": [
       "<Figure size 432x288 with 1 Axes>"
      ]
     },
     "metadata": {
      "needs_background": "light"
     },
     "output_type": "display_data"
    }
   ],
   "source": [
    "plt.plot(alphas)\n",
    "plt.title(\"Evolution of alpha\")\n",
    "plt.xlabel(\"Number of iterations\")\n",
    "plt.ylabel(\"alpha\")\n",
    "plt.yscale(\"log\")\n",
    "#plt.savefig(\"Results/Upper Level/Multiple images/10 images/alpha.png\")"
   ]
  },
  {
   "cell_type": "code",
   "execution_count": 14,
   "metadata": {},
   "outputs": [
    {
     "name": "stdout",
     "output_type": "stream",
     "text": [
      "Penalty: 3.787346967743454\n"
     ]
    },
    {
     "name": "stderr",
     "output_type": "stream",
     "text": [
      "/volatile/biagi/pysap-mri/Learning-Sampling-Pattern-master/LowerLevel/prox.py:19: RuntimeWarning: invalid value encountered in sqrt\n",
      "  x/np.abs(x)*(gamma+gamma**2/2/c-gamma/c*np.sqrt((c+0.5*gamma)**2-c*np.abs(x))))\n"
     ]
    },
    {
     "name": "stdout",
     "output_type": "stream",
     "text": [
      "Total energy: 5.4481701204634705\n"
     ]
    }
   ],
   "source": [
    "ptot = np.ones((n_rad-1)*n_ang+2)\n",
    "ptot[-1] = pf[-1]\n",
    "print(\"Penalty:\",P(pf,param[\"beta\"]))\n",
    "print(\"Total energy:\",E(pk = pf , images = images , kspace_data = kspace_data , param = param , \n",
    "       mask_type = \"radial\" , fourier_op = fourier_op , linear_op = linear_op , verbose = -1 ,\n",
    "       const = obj.const))"
   ]
  },
  {
   "cell_type": "code",
   "execution_count": 15,
   "metadata": {},
   "outputs": [
    {
     "name": "stdout",
     "output_type": "stream",
     "text": [
      "\n",
      "Mean ssim: 0.9178620945508084\n",
      "Mean ssim ceiled mask:0.8430251880896678\n"
     ]
    }
   ],
   "source": [
    "# -- Compute mean ssim of final mask and its ceiled version --\n",
    "ceiled_pf = np.where(pf>0.5,1,0)\n",
    "ceiled_pf[-1]=pf[-1]\n",
    "\n",
    "mean_ssim_pf = 0\n",
    "mean_ssim_ceiled = 0\n",
    "\n",
    "for itest in range(Nimages):\n",
    "    uk,norms = pdhg(kspace_data[itest] , ceiled_pf , fourier_op = fourier_op , linear_op = linear_op , param = param,\n",
    "                    maxit = 50 , verbose = -1 , const = obj.const , mask_type = \"radial\")\n",
    "    mean_ssim_ceiled += ssim(uk,images[itest])\n",
    "    \n",
    "    uk,norms = pdhg(kspace_data[itest] , pf , fourier_op = fourier_op , linear_op = linear_op , param = param,\n",
    "                    maxit = 50 , verbose = -1 , const = obj.const , mask_type = \"radial\")\n",
    "    mean_ssim_pf += ssim(uk,images[itest])\n",
    "print(f\"\\nMean ssim: {mean_ssim_pf/Nimages}\\nMean ssim ceiled mask:{mean_ssim_ceiled/Nimages}\")"
   ]
  },
  {
   "cell_type": "code",
   "execution_count": 25,
   "metadata": {},
   "outputs": [
    {
     "data": {
      "text/plain": [
       "<matplotlib.collections.PathCollection at 0x7f329c194490>"
      ]
     },
     "execution_count": 25,
     "metadata": {},
     "output_type": "execute_result"
    },
    {
     "data": {
      "image/png": "[encoded data removed]",
      "text/plain": [
       "<Figure size 432x288 with 1 Axes>"
      ]
     },
     "metadata": {
      "needs_background": "light"
     },
     "output_type": "display_data"
    }
   ],
   "source": [
    "ceiled_mask = []\n",
    "for i in range(len(pf)-1):\n",
    "    if ceiled_pf[i]==1:\n",
    "        ceiled_mask.append(full_kspace_loc[i])\n",
    "ceiled_mask = np.array(ceiled_mask)\n",
    "fig = plt.figure()\n",
    "ax = fig.add_subplot(1,1,1)\n",
    "ax.scatter(ceiled_mask[:,0],ceiled_mask[:,1],s=1,c='r')"
   ]
  },
  {
   "cell_type": "markdown",
   "metadata": {},
   "source": [
    "# Radial Center-Out mask"
   ]
  },
  {
   "cell_type": "code",
   "execution_count": 17,
   "metadata": {},
   "outputs": [
    {
     "name": "stdout",
     "output_type": "stream",
     "text": [
      "Penalty: 5.651443635616523\n",
      "Total energy: 7.36161899293292\n"
     ]
    }
   ],
   "source": [
    "from UpperLevel.parametrisation import *\n",
    "\n",
    "l0 = np.random.rand(n_ang+2)\n",
    "l0[-1] = 1e-3\n",
    "\n",
    "param[\"beta\"]=5e-2\n",
    "obj = Mask_Learner(images=images,kspace_data=kspace_data,\n",
    "                    fourier_op=fourier_op , linear_op=linear_op , param=param , pgtol=1e-8 ,\n",
    "                    verbose=-1 , const={\"sigma\":0.5,\"tau\":1} , n_rad = n_rad)\n",
    "\n",
    "print(\"Penalty:\",P(l0,param[\"beta\"]))\n",
    "print(\"Total energy:\",E(lk = l0 , images = images , kspace_data = kspace_data , param = param , \n",
    "       mask_type = \"radial_CO\" , fourier_op = fourier_op , linear_op = linear_op , verbose = -1 ,\n",
    "       const = obj.const , n_rad = n_rad))"
   ]
  },
  {
   "cell_type": "code",
   "execution_count": 18,
   "metadata": {
    "scrolled": true
   },
   "outputs": [
    {
     "name": "stdout",
     "output_type": "stream",
     "text": [
      "\u001b[1m\n",
      "1 iterations: E(p)=6.966207673937172, alpha=1.2121031998138463\n",
      "\n",
      "\u001b[0m\n",
      "\u001b[1m\n",
      "2 iterations: E(p)=6.620301425697617, alpha=2.540667784493759\n",
      "\n",
      "\u001b[0m\n",
      "\u001b[1m\n",
      "3 iterations: E(p)=6.392053211671893, alpha=3.9050840912918696\n",
      "\n",
      "\u001b[0m\n",
      "\u001b[1m\n",
      "4 iterations: E(p)=5.987338559516324, alpha=7.329420937114686\n",
      "\n",
      "\u001b[0m\n",
      "\u001b[1m\n",
      "5 iterations: E(p)=5.953372667939311, alpha=15.775533411837788\n",
      "\n",
      "\u001b[0m\n",
      "\u001b[1m\n",
      "6 iterations: E(p)=5.737009109967968, alpha=19.151374130486747\n",
      "\n",
      "\u001b[0m\n",
      "\u001b[1m\n",
      "7 iterations: E(p)=5.666617021823304, alpha=21.346376626159195\n",
      "\n",
      "\u001b[0m\n",
      "\u001b[1m\n",
      "8 iterations: E(p)=5.590919959513868, alpha=23.66846088989856\n",
      "\n",
      "\u001b[0m\n",
      "\u001b[1m\n",
      "9 iterations: E(p)=5.573515021935094, alpha=25.324398224951523\n",
      "\n",
      "\u001b[0m\n",
      "\u001b[1m\n",
      "FINISHED IN 279.5532500743866 SECONDS\n",
      "\u001b[0m\n"
     ]
    }
   ],
   "source": [
    "lf,energy_upper,alphas = obj.optimize(l0=l0 , mask_type = \"radial_CO\")"
   ]
  },
  {
   "cell_type": "code",
   "execution_count": 19,
   "metadata": {},
   "outputs": [
    {
     "name": "stdout",
     "output_type": "stream",
     "text": [
      "7.36161899293292 5.573515021935094\n"
     ]
    },
    {
     "data": {
      "image/png": "[encoded data removed]",
      "text/plain": [
       "<Figure size 432x288 with 1 Axes>"
      ]
     },
     "metadata": {
      "needs_background": "light"
     },
     "output_type": "display_data"
    }
   ],
   "source": [
    "print(energy_upper[0],energy_upper[-1])\n",
    "plt.plot(energy_upper)\n",
    "plt.title(\"Evolution of upper level energy\")\n",
    "plt.xlabel(\"Number of iterations\")\n",
    "plt.ylabel(\"Energy\")\n",
    "plt.yscale(\"log\")\n",
    "#plt.savefig(\"Results/Upper Level/Multiple images/10 images/convergence.png\")"
   ]
  },
  {
   "cell_type": "code",
   "execution_count": 20,
   "metadata": {},
   "outputs": [
    {
     "data": {
      "image/png": "[encoded data removed]",
      "text/plain": [
       "<Figure size 432x288 with 1 Axes>"
      ]
     },
     "metadata": {
      "needs_background": "light"
     },
     "output_type": "display_data"
    }
   ],
   "source": [
    "plt.plot(alphas)\n",
    "plt.title(\"Evolution of alpha\")\n",
    "plt.xlabel(\"Number of iterations\")\n",
    "plt.ylabel(\"alpha\")\n",
    "plt.yscale(\"log\")\n",
    "#plt.savefig(\"Results/Upper Level/Multiple images/10 images/alpha.png\")"
   ]
  },
  {
   "cell_type": "code",
   "execution_count": 21,
   "metadata": {},
   "outputs": [
    {
     "name": "stdout",
     "output_type": "stream",
     "text": [
      "Penalty: 2.9622643236109507\n"
     ]
    },
    {
     "name": "stderr",
     "output_type": "stream",
     "text": [
      "/volatile/biagi/pysap-mri/Learning-Sampling-Pattern-master/LowerLevel/prox.py:19: RuntimeWarning: invalid value encountered in sqrt\n",
      "  x/np.abs(x)*(gamma+gamma**2/2/c-gamma/c*np.sqrt((c+0.5*gamma)**2-c*np.abs(x))))\n"
     ]
    },
    {
     "name": "stdout",
     "output_type": "stream",
     "text": [
      "Total energy: 5.573515021935094\n"
     ]
    }
   ],
   "source": [
    "print(\"Penalty:\",P(lf,param[\"beta\"]))\n",
    "print(\"Total energy:\",E(lk = lf , images = images , kspace_data = kspace_data , param = param , \n",
    "       mask_type = \"radial_CO\" , fourier_op = fourier_op , linear_op = linear_op , verbose = -1 ,\n",
    "       const = obj.const , n_rad = n_rad))"
   ]
  },
  {
   "cell_type": "code",
   "execution_count": 27,
   "metadata": {},
   "outputs": [
    {
     "name": "stdout",
     "output_type": "stream",
     "text": [
      "25.324398224951523\n"
     ]
    },
    {
     "data": {
      "text/plain": [
       "<matplotlib.collections.PathCollection at 0x7f329473df90>"
      ]
     },
     "execution_count": 27,
     "metadata": {},
     "output_type": "execute_result"
    },
    {
     "data": {
      "image/png": "[encoded data removed]",
      "text/plain": [
       "<Figure size 432x288 with 1 Axes>"
      ]
     },
     "metadata": {
      "needs_background": "light"
     },
     "output_type": "display_data"
    }
   ],
   "source": [
    "print(lf[-1])\n",
    "pf = pradCO(lf,n_rad)\n",
    "ceiled_pf = np.where(pf>0.5,1,0)\n",
    "ceiled_pf[-1]=pf[-1]\n",
    "\n",
    "ceiled_mask = []\n",
    "for i in range(len(pf)-1):\n",
    "    if ceiled_pf[i]==1:\n",
    "        ceiled_mask.append(full_kspace_loc[i])\n",
    "ceiled_mask = np.array(ceiled_mask)\n",
    "fig = plt.figure()\n",
    "ax = fig.add_subplot(1,1,1)\n",
    "ax.scatter(ceiled_mask[:,0],ceiled_mask[:,1],s=1,c='r')"
   ]
  },
  {
   "cell_type": "code",
   "execution_count": 23,
   "metadata": {},
   "outputs": [
    {
     "name": "stdout",
     "output_type": "stream",
     "text": [
      "Penalty: 2.9622643236109507\n",
      "Total energy: 5.573515021935094\n"
     ]
    }
   ],
   "source": [
    "print(\"Penalty:\",P(lf,param[\"beta\"]))\n",
    "print(\"Total energy:\",E(lk = lf , images = images , kspace_data = kspace_data , param = param , \n",
    "       mask_type = \"radial_CO\" , fourier_op = fourier_op , linear_op = linear_op , verbose = -1 ,\n",
    "       const = obj.const , n_rad = n_rad))"
   ]
  },
  {
   "cell_type": "code",
   "execution_count": 24,
   "metadata": {},
   "outputs": [
    {
     "name": "stderr",
     "output_type": "stream",
     "text": [
      "/volatile/biagi/pysap-mri/Learning-Sampling-Pattern-master/LowerLevel/prox.py:19: RuntimeWarning: divide by zero encountered in double_scalars\n",
      "  x/np.abs(x)*(gamma+gamma**2/2/c-gamma/c*np.sqrt((c+0.5*gamma)**2-c*np.abs(x))))\n",
      "/volatile/biagi/pysap-mri/Learning-Sampling-Pattern-master/LowerLevel/prox.py:19: RuntimeWarning: invalid value encountered in subtract\n",
      "  x/np.abs(x)*(gamma+gamma**2/2/c-gamma/c*np.sqrt((c+0.5*gamma)**2-c*np.abs(x))))\n"
     ]
    },
    {
     "name": "stdout",
     "output_type": "stream",
     "text": [
      "\n",
      "Mean ssim: 0.8833264351171848\n",
      "Mean ssim ceiled mask:0.8314732755080704\n"
     ]
    }
   ],
   "source": [
    "# -- Compute mean ssim of final mask and its ceiled version --\n",
    "mean_ssim_pf = 0\n",
    "mean_ssim_ceiled = 0\n",
    "\n",
    "for itest in range(Nimages):\n",
    "    uk,norms = pdhg(kspace_data[itest] , ceiled_pf , fourier_op = fourier_op , linear_op = linear_op , param = param,\n",
    "                    maxit = 50 , verbose = -1 , const = obj.const , mask_type = \"radial\")\n",
    "    mean_ssim_ceiled += ssim(uk,images[itest])\n",
    "    \n",
    "    uk,norms = pdhg(kspace_data[itest] , pf , fourier_op = fourier_op , linear_op = linear_op , param = param,\n",
    "                    maxit = 50 , verbose = -1 , const = obj.const , mask_type = \"radial\")\n",
    "    mean_ssim_pf += ssim(uk,images[itest])\n",
    "print(f\"\\nMean ssim: {mean_ssim_pf/Nimages}\\nMean ssim ceiled mask:{mean_ssim_ceiled/Nimages}\")"
   ]
  },
  {
   "cell_type": "code",
   "execution_count": null,
   "metadata": {},
   "outputs": [],
   "source": []
  }
 ],
 "metadata": {
  "kernelspec": {
   "display_name": "Python 3",
   "language": "python",
   "name": "python3"
  },
  "language_info": {
   "codemirror_mode": {
    "name": "ipython",
    "version": 3
   },
   "file_extension": ".py",
   "mimetype": "text/x-python",
   "name": "python",
   "nbconvert_exporter": "python",
   "pygments_lexer": "ipython3",
   "version": "3.7.6"
  }
 },
 "nbformat": 4,
 "nbformat_minor": 2
}
