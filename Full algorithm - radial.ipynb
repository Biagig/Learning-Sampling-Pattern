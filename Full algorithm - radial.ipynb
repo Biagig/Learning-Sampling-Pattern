{
 "cells": [
  {
   "cell_type": "code",
   "execution_count": 1,
   "metadata": {},
   "outputs": [
    {
     "name": "stderr",
     "output_type": "stream",
     "text": [
      "/home/guillaume/anaconda3/lib/python3.7/site-packages/mri/operators/fourier/non_cartesian.py:42: UserWarning: gpuNUFFT python package has not been found. If needed please check on how to install in README\n",
      "  warnings.warn(\"gpuNUFFT python package has not been found. If needed \"\n"
     ]
    },
    {
     "name": "stdout",
     "output_type": "stream",
     "text": [
      "\n",
      "                 .|'''|       /.\\      '||'''|,\n",
      "                 ||          // \\\\      ||   ||\n",
      "'||''|, '||  ||` `|'''|,    //...\\\\     ||...|'\n",
      " ||  ||  `|..||   .   ||   //     \\\\    ||\n",
      " ||..|'      ||   |...|' .//       \\\\. .||\n",
      " ||       ,  |'\n",
      ".||        ''\n",
      "\n",
      "Package version: 0.0.3\n",
      "\n",
      "License: CeCILL-B\n",
      "\n",
      "Authors: \n",
      "\n",
      "Antoine Grigis <antoine.grigis@cea.fr>\n",
      "Samuel Farrens <samuel.farrens@cea.fr>\n",
      "Jean-Luc Starck <jl.stark@cea.fr>\n",
      "Philippe Ciuciu <philippe.ciuciu@cea.fr>\n",
      "\n",
      "Dependencies: \n",
      "\n",
      "scipy          : >=1.3.0   - required | 1.3.0     installed\n",
      "numpy          : >=1.16.4  - required | 1.16.4    installed\n",
      "matplotlib     : >=3.0.0   - required | 3.1.1     installed\n",
      "astropy        : >=3.0.0   - required | 3.2.1     installed\n",
      "nibabel        : >=2.3.2   - required | 2.5.1     installed\n",
      "pyqtgraph      : >=0.10.0  - required | 0.10.0    installed\n",
      "progressbar2   : >=3.34.3  - required | ?         installed\n",
      "modopt         : >=1.4.0   - required | 1.4.4     installed\n",
      "scikit-learn   : >=0.19.1  - required | ?         installed\n",
      "pywt           : >=1.0.0   - required | 1.0.3     installed\n",
      "pysparse       : >=0.0.1   - required | 0.1.0     installed\n",
      "\n"
     ]
    }
   ],
   "source": [
    "from mri.operators import NonCartesianFFT, WaveletUD2, WaveletN\n",
    "import pysap\n",
    "from mri.operators.utils import convert_mask_to_locations, convert_locations_to_mask\n",
    "from modopt.math.metrics import ssim\n",
    "import matplotlib.pyplot as plt\n",
    "import numpy as np\n",
    "import nibabel as nib"
   ]
  },
  {
   "cell_type": "code",
   "execution_count": 2,
   "metadata": {},
   "outputs": [],
   "source": [
    "# Lower level imports\n",
    "from LowerLevel.pdhg import pdhg\n",
    "\n",
    "#Upper level imports\n",
    "import time\n",
    "from UpperLevel.LBFGSB import *\n",
    "from UpperLevel.cost_utils import *"
   ]
  },
  {
   "cell_type": "markdown",
   "metadata": {},
   "source": [
    "### Creation of Lower level tools\n",
    "Creating fourier_op, linear_op and param."
   ]
  },
  {
   "cell_type": "code",
   "execution_count": 3,
   "metadata": {},
   "outputs": [
    {
     "name": "stderr",
     "output_type": "stream",
     "text": [
      "/home/guillaume/anaconda3/lib/python3.7/site-packages/mri/operators/fourier/utils.py:76: FutureWarning: Using a non-tuple sequence for multidimensional indexing is deprecated; use `arr[tuple(seq)]` instead of `arr[seq]`. In the future this will be interpreted as an array index, `arr[np.array(seq)]`, which will result either in an error or a different result.\n",
      "  mask[test] = 1\n"
     ]
    }
   ],
   "source": [
    "n = 50\n",
    "\n",
    "n_rad = int( n/2 )\n",
    "n_ang = int( n*np.pi )\n",
    "\n",
    "#num_blocks = ( n_rad - 1 ) * n_ang + 1 # for sampling isolated points\n",
    "num_blocks = n_ang # for choosing radia\n",
    "#num_blocks = n_rad # for choosing circles\n",
    "nb_samples = int( num_blocks * 2 / np.pi )\n",
    "\n",
    "phi = np.linspace( 0, 2 * np.pi, n_ang, endpoint = False )\n",
    "rad = np.linspace( 0.5 / n_rad, 0.5, (n_rad-1), endpoint = False )\n",
    "Rad, Phi = np.meshgrid( rad, phi )\n",
    "\n",
    "X = ( Rad * np.cos( Phi ) ).flatten( 'C' )\n",
    "Y = ( Rad * np.sin( Phi ) ).flatten( 'C' )\n",
    "\n",
    "full_kspace_loc = np.stack( ( X, Y ), axis = 1 )  \n",
    "full_kspace_loc = np.vstack( ( np.array( [ 0, 0 ] ), full_kspace_loc ) )\n",
    "\n",
    "m = convert_locations_to_mask(full_kspace_loc,(n,n))\n",
    "fourier_op = NonCartesianFFT(samples=full_kspace_loc, shape=(n,n),implementation='cpu')"
   ]
  },
  {
   "cell_type": "code",
   "execution_count": 4,
   "metadata": {},
   "outputs": [],
   "source": [
    "#Wavelet\n",
    "wavelet_name = \"sym8\"\n",
    "wavelet_scale = 1\n",
    "linear_op = WaveletN(wavelet_name=wavelet_name,nb_scale=wavelet_scale,padding_mode = \"periodization\")\n",
    "#linear_op = WaveletUD2(wavelet_id=24,nb_scale=3)\n",
    "\n",
    "param = {\"epsilon\":1e-3,\"gamma\":1e-10}"
   ]
  },
  {
   "cell_type": "markdown",
   "metadata": {},
   "source": [
    "### Initializing upper level\n",
    "Creating images, kspace_data and updating param"
   ]
  },
  {
   "cell_type": "code",
   "execution_count": 5,
   "metadata": {},
   "outputs": [],
   "source": [
    "#Oasis image\n",
    "all_images = [ \"oasis_data/sub-OAS30001_ses-d0129_run-01_T1w.nii\"]\n",
    "im = nib.load(\"oasis_data/sub-OAS30001_ses-d0129_run-01_T1w.nii\")\n",
    "im = im.get_fdata()\n",
    "\n",
    "Nimages = 3\n",
    "images = [(1+0j)*im[ :, 30:206, i ]for i in range(124,124+Nimages)]"
   ]
  },
  {
   "cell_type": "code",
   "execution_count": 6,
   "metadata": {},
   "outputs": [],
   "source": [
    "def reduce_img_size( n_dim, image ):\n",
    "    mid = image.shape[ 0 ] // 2\n",
    "    f_coef = np.fft.fftshift( np.fft.fft2( image ) )\n",
    "    reduced_coef = f_coef[ mid - n_dim // 2: mid + n_dim // 2, mid - n_dim // 2: mid + n_dim // 2 ]\n",
    "    reduced_image = np.fft.ifft2( np.fft.fftshift( reduced_coef ) )\n",
    "    return np.abs( reduced_image )\n",
    "\n",
    "images = [reduce_img_size(n,im) for im in images]\n",
    "kspace_data = [(1+0j)*fourier_op.op(u0_mat) + \n",
    "               0.14*np.mean(u0_mat)*np.random.randn(2*(n_rad-1)*n_ang+2).view(np.complex128) \n",
    "               for u0_mat in images]"
   ]
  },
  {
   "cell_type": "code",
   "execution_count": 7,
   "metadata": {},
   "outputs": [],
   "source": [
    "param[\"c\"] = 1e-8\n",
    "param[\"beta\"] = 1e-6"
   ]
  },
  {
   "cell_type": "code",
   "execution_count": 8,
   "metadata": {},
   "outputs": [],
   "source": [
    "# -- Main object to learn mask --\n",
    "# -------------------------------\n",
    "obj = Mask_Learner(images=images , kspace_data=kspace_data , param = param ,\n",
    "                    samples= np.array(full_kspace_loc) , wavelet_name = wavelet_name ,\n",
    "                    wavelet_scale = wavelet_scale , verbose=-1 , const={\"sigma\":0.5,\"tau\":1} , n_rad = n_rad)"
   ]
  },
  {
   "cell_type": "code",
   "execution_count": 9,
   "metadata": {},
   "outputs": [
    {
     "name": "stderr",
     "output_type": "stream",
     "text": [
      "/home/guillaume/pysap-mri/Learning Sampling Pattern/LowerLevel/prox.py:19: RuntimeWarning: invalid value encountered in sqrt\n",
      "  x/np.abs(x)*(gamma+gamma**2/2/c-gamma/c*np.sqrt((c+0.5*gamma)**2-c*np.abs(x))))\n"
     ]
    },
    {
     "name": "stdout",
     "output_type": "stream",
     "text": [
      "0.9225808817290335\n"
     ]
    }
   ],
   "source": [
    "ptot = np.ones(n_ang*(n_rad-1)+2)\n",
    "ptot[-1] = 30\n",
    "uk, norms = pdhg(kspace_data[0] , ptot , fourier_op = fourier_op , linear_op = linear_op , param = param,\n",
    "                    maxit = 50 , verbose = -1 , const = obj.const , mask_type = \"radial\")\n",
    "print(ssim(uk, images[0]))"
   ]
  },
  {
   "cell_type": "markdown",
   "metadata": {},
   "source": [
    "## Learning points"
   ]
  },
  {
   "cell_type": "code",
   "execution_count": 10,
   "metadata": {},
   "outputs": [
    {
     "name": "stdout",
     "output_type": "stream",
     "text": [
      "Penalty: 0.0019085822227010156\n",
      "Total energy: 24.806091253229983\n"
     ]
    }
   ],
   "source": [
    "p0 = np.random.rand(n_ang*(n_rad-1)+2)\n",
    "p0[-1] = 1e-3\n",
    "\n",
    "print(\"Penalty:\",P(p0,param[\"beta\"]))\n",
    "print(\"Total energy:\",E(pk = p0 , images = images , kspace_data = kspace_data , param = param , \n",
    "       mask_type = \"radial\" , samples= np.array(full_kspace_loc) , wavelet_name = wavelet_name , \n",
    "       wavelet_scale = wavelet_scale ,verbose = -1 , const = obj.const))"
   ]
  },
  {
   "cell_type": "code",
   "execution_count": 11,
   "metadata": {
    "scrolled": true
   },
   "outputs": [
    {
     "name": "stdout",
     "output_type": "stream",
     "text": [
      "Multithread: True\n"
     ]
    },
    {
     "name": "stderr",
     "output_type": "stream",
     "text": [
      "[Parallel(n_jobs=-1)]: Using backend LokyBackend with 8 concurrent workers.\n",
      "[Parallel(n_jobs=-1)]: Done   3 out of   3 | elapsed:   26.8s finished\n",
      "[Parallel(n_jobs=-1)]: Using backend LokyBackend with 8 concurrent workers.\n",
      "[Parallel(n_jobs=-1)]: Done   3 out of   3 | elapsed:   25.2s finished\n"
     ]
    },
    {
     "name": "stdout",
     "output_type": "stream",
     "text": [
      "\u001b[1m\n",
      "1 iterations: E(p)=2.4653970979761604, alpha=0.0005018860316539025\n",
      "\n",
      "\u001b[0m\n"
     ]
    },
    {
     "name": "stderr",
     "output_type": "stream",
     "text": [
      "[Parallel(n_jobs=-1)]: Using backend LokyBackend with 8 concurrent workers.\n",
      "[Parallel(n_jobs=-1)]: Done   3 out of   3 | elapsed:   25.4s finished\n",
      "[Parallel(n_jobs=-1)]: Using backend LokyBackend with 8 concurrent workers.\n",
      "[Parallel(n_jobs=-1)]: Done   3 out of   3 | elapsed:   24.9s finished\n",
      "[Parallel(n_jobs=-1)]: Using backend LokyBackend with 8 concurrent workers.\n",
      "[Parallel(n_jobs=-1)]: Done   3 out of   3 | elapsed:   27.5s finished\n"
     ]
    },
    {
     "name": "stdout",
     "output_type": "stream",
     "text": [
      "\u001b[1m\n",
      "2 iterations: E(p)=2.290000014214734, alpha=1.0765163659757524\n",
      "\n",
      "\u001b[0m\n"
     ]
    },
    {
     "name": "stderr",
     "output_type": "stream",
     "text": [
      "[Parallel(n_jobs=-1)]: Using backend LokyBackend with 8 concurrent workers.\n",
      "[Parallel(n_jobs=-1)]: Done   3 out of   3 | elapsed:   50.4s finished\n"
     ]
    },
    {
     "name": "stdout",
     "output_type": "stream",
     "text": [
      "\u001b[1m\n",
      "3 iterations: E(p)=1.9677741162327607, alpha=3.678170990299521\n",
      "\n",
      "\u001b[0m\n"
     ]
    },
    {
     "name": "stderr",
     "output_type": "stream",
     "text": [
      "[Parallel(n_jobs=-1)]: Using backend LokyBackend with 8 concurrent workers.\n",
      "[Parallel(n_jobs=-1)]: Done   3 out of   3 | elapsed:  1.2min finished\n"
     ]
    },
    {
     "name": "stdout",
     "output_type": "stream",
     "text": [
      "\u001b[1m\n",
      "4 iterations: E(p)=1.734315630425734, alpha=6.718040455751897\n",
      "\n",
      "\u001b[0m\n"
     ]
    },
    {
     "name": "stderr",
     "output_type": "stream",
     "text": [
      "[Parallel(n_jobs=-1)]: Using backend LokyBackend with 8 concurrent workers.\n",
      "[Parallel(n_jobs=-1)]: Done   3 out of   3 | elapsed:  1.4min finished\n"
     ]
    },
    {
     "name": "stdout",
     "output_type": "stream",
     "text": [
      "\u001b[1m\n",
      "5 iterations: E(p)=1.5820239970911258, alpha=10.51205050715064\n",
      "\n",
      "\u001b[0m\n"
     ]
    },
    {
     "name": "stderr",
     "output_type": "stream",
     "text": [
      "[Parallel(n_jobs=-1)]: Using backend LokyBackend with 8 concurrent workers.\n",
      "[Parallel(n_jobs=-1)]: Done   3 out of   3 | elapsed:  1.4min finished\n"
     ]
    },
    {
     "name": "stdout",
     "output_type": "stream",
     "text": [
      "\u001b[1m\n",
      "6 iterations: E(p)=1.455939898986291, alpha=15.600644289580856\n",
      "\n",
      "\u001b[0m\n"
     ]
    },
    {
     "name": "stderr",
     "output_type": "stream",
     "text": [
      "[Parallel(n_jobs=-1)]: Using backend LokyBackend with 8 concurrent workers.\n",
      "[Parallel(n_jobs=-1)]: Done   3 out of   3 | elapsed:  1.5min finished\n"
     ]
    },
    {
     "name": "stdout",
     "output_type": "stream",
     "text": [
      "\u001b[1m\n",
      "7 iterations: E(p)=1.3756963244837972, alpha=22.085274360196163\n",
      "\n",
      "\u001b[0m\n"
     ]
    },
    {
     "name": "stderr",
     "output_type": "stream",
     "text": [
      "[Parallel(n_jobs=-1)]: Using backend LokyBackend with 8 concurrent workers.\n",
      "[Parallel(n_jobs=-1)]: Done   3 out of   3 | elapsed:  1.5min finished\n"
     ]
    },
    {
     "name": "stdout",
     "output_type": "stream",
     "text": [
      "\u001b[1m\n",
      "8 iterations: E(p)=1.3395670455777688, alpha=27.84754322157479\n",
      "\n",
      "\u001b[0m\n"
     ]
    },
    {
     "name": "stderr",
     "output_type": "stream",
     "text": [
      "[Parallel(n_jobs=-1)]: Using backend LokyBackend with 8 concurrent workers.\n",
      "[Parallel(n_jobs=-1)]: Done   3 out of   3 | elapsed:  1.5min finished\n"
     ]
    },
    {
     "name": "stdout",
     "output_type": "stream",
     "text": [
      "\u001b[1m\n",
      "9 iterations: E(p)=1.3380284716091115, alpha=37.501356560123064\n",
      "\n",
      "\u001b[0m\n"
     ]
    },
    {
     "name": "stderr",
     "output_type": "stream",
     "text": [
      "[Parallel(n_jobs=-1)]: Using backend LokyBackend with 8 concurrent workers.\n",
      "[Parallel(n_jobs=-1)]: Done   3 out of   3 | elapsed:  1.4min finished\n",
      "[Parallel(n_jobs=-1)]: Using backend LokyBackend with 8 concurrent workers.\n",
      "[Parallel(n_jobs=-1)]: Done   3 out of   3 | elapsed:  1.4min finished\n"
     ]
    },
    {
     "name": "stdout",
     "output_type": "stream",
     "text": [
      "\u001b[1m\n",
      "10 iterations: E(p)=1.3376033441387802, alpha=40.2588126143083\n",
      "\n",
      "\u001b[0m\n",
      "\u001b[1m\n",
      "FINISHED IN 2231.4106574058533 SECONDS\n",
      "\u001b[0m\n"
     ]
    }
   ],
   "source": [
    "pf,energy_upper,alphas = obj.optimize(p0=p0 , mask_type = \"radial\" , parallel = True , parallel_verbose = 1)"
   ]
  },
  {
   "cell_type": "code",
   "execution_count": 12,
   "metadata": {},
   "outputs": [
    {
     "name": "stdout",
     "output_type": "stream",
     "text": [
      "22.03312503990438 1.3376033441387802\n"
     ]
    },
    {
     "data": {
      "image/png": "[encoded data removed]",
      "text/plain": [
       "<Figure size 432x288 with 1 Axes>"
      ]
     },
     "metadata": {
      "needs_background": "light"
     },
     "output_type": "display_data"
    }
   ],
   "source": [
    "print(energy_upper[0],energy_upper[-1])\n",
    "plt.plot(energy_upper)\n",
    "plt.title(\"Evolution of upper level energy\")\n",
    "plt.xlabel(\"Number of iterations\")\n",
    "plt.ylabel(\"Energy\")\n",
    "plt.yscale(\"log\")\n",
    "#plt.savefig(\"Results/Upper Level/Upper_radial/low_pen/convergence.png\")"
   ]
  },
  {
   "cell_type": "code",
   "execution_count": 13,
   "metadata": {
    "scrolled": true
   },
   "outputs": [
    {
     "data": {
      "image/png": "[encoded data removed]",
      "text/plain": [
       "<Figure size 432x288 with 1 Axes>"
      ]
     },
     "metadata": {
      "needs_background": "light"
     },
     "output_type": "display_data"
    }
   ],
   "source": [
    "plt.plot(alphas)\n",
    "plt.title(\"Evolution of alpha\")\n",
    "plt.xlabel(\"Number of iterations\")\n",
    "plt.ylabel(\"alpha\")\n",
    "plt.yscale(\"log\")\n",
    "#plt.savefig(\"Results/Upper Level/Upper_radial/low_pen/alpha.png\")"
   ]
  },
  {
   "cell_type": "code",
   "execution_count": 16,
   "metadata": {},
   "outputs": [
    {
     "name": "stdout",
     "output_type": "stream",
     "text": [
      "Penalty: 0.0020199362955842432\n",
      "Total energy: 1.3376033441387802\n"
     ]
    }
   ],
   "source": [
    "ptot = np.ones((n_rad-1)*n_ang+2)\n",
    "ptot[-1] = pf[-1]\n",
    "print(\"Penalty:\",P(pf,param[\"beta\"]))\n",
    "print(\"Total energy:\",energy_upper[-1])"
   ]
  },
  {
   "cell_type": "code",
   "execution_count": 17,
   "metadata": {},
   "outputs": [
    {
     "name": "stdout",
     "output_type": "stream",
     "text": [
      "\n",
      "Mean ssim: 0.9312171970818998\n",
      "Mean ssim ceiled mask:0.9106696871344845\n"
     ]
    }
   ],
   "source": [
    "# -- Compute mean ssim of final mask and its ceiled version --\n",
    "ceiled_pf = np.where(pf>0.5,1,0)\n",
    "ceiled_pf[-1]=pf[-1]\n",
    "\n",
    "mean_ssim_pf = 0\n",
    "mean_ssim_ceiled = 0\n",
    "\n",
    "for itest in range(Nimages):\n",
    "    uk,norms = pdhg(kspace_data[itest] , ceiled_pf , fourier_op = fourier_op , linear_op = linear_op , param = param,\n",
    "                    maxit = 50 , verbose = -1 , const = obj.const , mask_type = \"radial\")\n",
    "    mean_ssim_ceiled += ssim(uk,images[itest])\n",
    "    \n",
    "    uk,norms = pdhg(kspace_data[itest] , pf , fourier_op = fourier_op , linear_op = linear_op , param = param,\n",
    "                    maxit = 50 , verbose = -1 , const = obj.const , mask_type = \"radial\")\n",
    "    mean_ssim_pf += ssim(uk,images[itest])\n",
    "print(f\"\\nMean ssim: {mean_ssim_pf/Nimages}\\nMean ssim ceiled mask:{mean_ssim_ceiled/Nimages}\")"
   ]
  },
  {
   "cell_type": "code",
   "execution_count": 18,
   "metadata": {},
   "outputs": [
    {
     "data": {
      "text/plain": [
       "<matplotlib.collections.PathCollection at 0x7f5ac81ff160>"
      ]
     },
     "execution_count": 18,
     "metadata": {},
     "output_type": "execute_result"
    },
    {
     "data": {
      "image/png": "[encoded data removed]",
      "text/plain": [
       "<Figure size 432x288 with 1 Axes>"
      ]
     },
     "metadata": {
      "needs_background": "light"
     },
     "output_type": "display_data"
    }
   ],
   "source": [
    "ceiled_mask = []\n",
    "for i in range(len(pf)-1):\n",
    "    if ceiled_pf[i]==1:\n",
    "        ceiled_mask.append(full_kspace_loc[i])\n",
    "ceiled_mask = np.array(ceiled_mask)\n",
    "fig = plt.figure()\n",
    "ax = fig.add_subplot(1,1,1)\n",
    "ax.scatter(ceiled_mask[:,0], ceiled_mask[:,1], s=1, c='r')\n",
    "#plt.savefig(\"Results/Upper Level/Radial_CO/final_mask.png\")"
   ]
  },
  {
   "cell_type": "code",
   "execution_count": 19,
   "metadata": {},
   "outputs": [
    {
     "data": {
      "text/plain": [
       "Text(0.5, 1.0, 'Histogram of $p_i$')"
      ]
     },
     "execution_count": 19,
     "metadata": {},
     "output_type": "execute_result"
    },
    {
     "data": {
      "image/png": "[encoded data removed]",
      "text/plain": [
       "<Figure size 432x288 with 1 Axes>"
      ]
     },
     "metadata": {
      "needs_background": "light"
     },
     "output_type": "display_data"
    }
   ],
   "source": [
    "plt.hist(pf[:-1])\n",
    "plt.title(r\"Histogram of $p_i$\")\n",
    "#plt.savefig(\"Results/Upper Level/Other pen/Modified pen/histogram.png\")"
   ]
  },
  {
   "cell_type": "markdown",
   "metadata": {},
   "source": [
    "# Radial Center-Out mask"
   ]
  },
  {
   "cell_type": "code",
   "execution_count": 20,
   "metadata": {},
   "outputs": [],
   "source": [
    "from UpperLevel.parametrisation import *\n",
    "l0 = np.random.rand(n_ang+2)\n",
    "l0[-1] = 1e-3\n",
    "p0 = pradCO(l0,n_rad)\n",
    "\n",
    "m = []\n",
    "for i in range(len(p0)-1):\n",
    "    if p0[i]>0.5:m.append(full_kspace_loc[i])\n",
    "#pysap.Image(data = convert_locations_to_mask(np.array(m),(n,n))).show()"
   ]
  },
  {
   "cell_type": "code",
   "execution_count": 21,
   "metadata": {},
   "outputs": [
    {
     "name": "stdout",
     "output_type": "stream",
     "text": [
      "Multithread: True\n"
     ]
    },
    {
     "name": "stderr",
     "output_type": "stream",
     "text": [
      "[Parallel(n_jobs=-1)]: Using backend LokyBackend with 8 concurrent workers.\n",
      "[Parallel(n_jobs=-1)]: Done   3 out of   3 | elapsed:   26.1s finished\n",
      "[Parallel(n_jobs=-1)]: Using backend LokyBackend with 8 concurrent workers.\n",
      "[Parallel(n_jobs=-1)]: Done   3 out of   3 | elapsed:   27.1s finished\n"
     ]
    },
    {
     "name": "stdout",
     "output_type": "stream",
     "text": [
      "\u001b[1m\n",
      "1 iterations: E(p)=2.3585202419104285, alpha=0.554493957304842\n",
      "\n",
      "\u001b[0m\n"
     ]
    },
    {
     "name": "stderr",
     "output_type": "stream",
     "text": [
      "[Parallel(n_jobs=-1)]: Using backend LokyBackend with 8 concurrent workers.\n",
      "[Parallel(n_jobs=-1)]: Done   3 out of   3 | elapsed:   28.4s finished\n",
      "[Parallel(n_jobs=-1)]: Using backend LokyBackend with 8 concurrent workers.\n",
      "[Parallel(n_jobs=-1)]: Done   3 out of   3 | elapsed:   27.4s finished\n",
      "[Parallel(n_jobs=-1)]: Using backend LokyBackend with 8 concurrent workers.\n",
      "[Parallel(n_jobs=-1)]: Done   3 out of   3 | elapsed:   28.5s finished\n",
      "[Parallel(n_jobs=-1)]: Using backend LokyBackend with 8 concurrent workers.\n"
     ]
    },
    {
     "name": "stdout",
     "output_type": "stream",
     "text": [
      "\u001b[1m\n",
      "FINISHED IN 706.6847221851349 SECONDS\n",
      "\u001b[0m\n"
     ]
    },
    {
     "name": "stderr",
     "output_type": "stream",
     "text": [
      "[Parallel(n_jobs=-1)]: Done   3 out of   3 | elapsed:   27.6s finished\n"
     ]
    }
   ],
   "source": [
    "lf,energy_upper,alphas = obj.optimize(l0=l0 , mask_type = \"radial_CO\" , parallel = True , parallel_verbose = 1)"
   ]
  },
  {
   "cell_type": "code",
   "execution_count": 22,
   "metadata": {},
   "outputs": [
    {
     "name": "stdout",
     "output_type": "stream",
     "text": [
      "2.891433529272072 2.3585202419104285\n"
     ]
    },
    {
     "data": {
      "image/png": "[encoded data removed]",
      "text/plain": [
       "<Figure size 432x288 with 1 Axes>"
      ]
     },
     "metadata": {
      "needs_background": "light"
     },
     "output_type": "display_data"
    }
   ],
   "source": [
    "print(energy_upper[0],energy_upper[-1])\n",
    "plt.plot(energy_upper)\n",
    "plt.title(\"Evolution of upper level energy\")\n",
    "plt.xlabel(\"Number of iterations\")\n",
    "plt.ylabel(\"Energy\")\n",
    "plt.yscale(\"log\")\n",
    "#plt.savefig(\"Results/Upper Level/Radial_CO/convergence.png\")"
   ]
  },
  {
   "cell_type": "code",
   "execution_count": 23,
   "metadata": {},
   "outputs": [
    {
     "data": {
      "image/png": "[encoded data removed]",
      "text/plain": [
       "<Figure size 432x288 with 1 Axes>"
      ]
     },
     "metadata": {
      "needs_background": "light"
     },
     "output_type": "display_data"
    }
   ],
   "source": [
    "plt.plot(alphas)\n",
    "plt.title(\"Evolution of alpha\")\n",
    "plt.xlabel(\"Number of iterations\")\n",
    "plt.ylabel(\"alpha\")\n",
    "plt.yscale(\"log\")\n",
    "#plt.savefig(\"Results/Upper Level/Radial_CO/alpha.png\")"
   ]
  },
  {
   "cell_type": "code",
   "execution_count": 24,
   "metadata": {},
   "outputs": [
    {
     "name": "stdout",
     "output_type": "stream",
     "text": [
      "0.554493957304842\n"
     ]
    },
    {
     "data": {
      "text/plain": [
       "<matplotlib.collections.PathCollection at 0x7f5ac8076198>"
      ]
     },
     "execution_count": 24,
     "metadata": {},
     "output_type": "execute_result"
    },
    {
     "data": {
      "image/png": "[encoded data removed]",
      "text/plain": [
       "<Figure size 432x288 with 1 Axes>"
      ]
     },
     "metadata": {
      "needs_background": "light"
     },
     "output_type": "display_data"
    }
   ],
   "source": [
    "print(lf[-1])\n",
    "pf = pradCO(lf,n_rad)\n",
    "ceiled_pf = np.where(pf>0.5,1,0)\n",
    "ceiled_pf[-1]=pf[-1]\n",
    "\n",
    "ceiled_mask = []\n",
    "for i in range(len(pf)-1):\n",
    "    if ceiled_pf[i]==1:\n",
    "        ceiled_mask.append(full_kspace_loc[i])\n",
    "ceiled_mask = np.array(ceiled_mask)\n",
    "fig = plt.figure()\n",
    "ax = fig.add_subplot(1,1,1)\n",
    "ax.scatter(ceiled_mask[:,0], ceiled_mask[:,1], s=1, c='r')\n",
    "#plt.savefig(\"Results/Upper Level/Radial_CO/final_mask.png\")"
   ]
  },
  {
   "cell_type": "code",
   "execution_count": 25,
   "metadata": {},
   "outputs": [
    {
     "name": "stdout",
     "output_type": "stream",
     "text": [
      "Penalty: 0.0017900083567674696\n",
      "Total energy: 2.3585202419104285\n"
     ]
    }
   ],
   "source": [
    "ptot = np.ones((n_rad-1)*n_ang+2)\n",
    "ptot[-1] = pf[-1]\n",
    "print(\"Penalty:\",P(pf,param[\"beta\"]))\n",
    "print(\"Total energy:\",energy_upper[-1])"
   ]
  },
  {
   "cell_type": "code",
   "execution_count": 26,
   "metadata": {},
   "outputs": [
    {
     "name": "stderr",
     "output_type": "stream",
     "text": [
      "/home/guillaume/pysap-mri/Learning Sampling Pattern/LowerLevel/prox.py:19: RuntimeWarning: divide by zero encountered in double_scalars\n",
      "  x/np.abs(x)*(gamma+gamma**2/2/c-gamma/c*np.sqrt((c+0.5*gamma)**2-c*np.abs(x))))\n",
      "/home/guillaume/pysap-mri/Learning Sampling Pattern/LowerLevel/prox.py:19: RuntimeWarning: invalid value encountered in subtract\n",
      "  x/np.abs(x)*(gamma+gamma**2/2/c-gamma/c*np.sqrt((c+0.5*gamma)**2-c*np.abs(x))))\n"
     ]
    },
    {
     "name": "stdout",
     "output_type": "stream",
     "text": [
      "\n",
      "Mean ssim: 0.9026728511145148\n",
      "Mean ssim ceiled mask:0.8420413544176816\n"
     ]
    }
   ],
   "source": [
    "# -- Compute mean ssim of final mask and its ceiled version --\n",
    "mean_ssim_pf = 0\n",
    "mean_ssim_ceiled = 0\n",
    "\n",
    "for itest in range(Nimages):\n",
    "    uk,norms = pdhg(kspace_data[itest] , ceiled_pf , fourier_op = fourier_op , linear_op = linear_op , param = param,\n",
    "                    maxit = 50 , verbose = -1 , const = obj.const , mask_type = \"radial\")\n",
    "    mean_ssim_ceiled += ssim(uk,images[itest])\n",
    "    \n",
    "    uk,norms = pdhg(kspace_data[itest] , pf , fourier_op = fourier_op , linear_op = linear_op , param = param,\n",
    "                    maxit = 50 , verbose = -1 , const = obj.const , mask_type = \"radial\")\n",
    "    mean_ssim_pf += ssim(uk,images[itest])\n",
    "print(f\"\\nMean ssim: {mean_ssim_pf/Nimages}\\nMean ssim ceiled mask:{mean_ssim_ceiled/Nimages}\")"
   ]
  },
  {
   "cell_type": "code",
   "execution_count": null,
   "metadata": {},
   "outputs": [],
   "source": []
  }
 ],
 "metadata": {
  "kernelspec": {
   "display_name": "Python 3",
   "language": "python",
   "name": "python3"
  },
  "language_info": {
   "codemirror_mode": {
    "name": "ipython",
    "version": 3
   },
   "file_extension": ".py",
   "mimetype": "text/x-python",
   "name": "python",
   "nbconvert_exporter": "python",
   "pygments_lexer": "ipython3",
   "version": "3.7.3"
  }
 },
 "nbformat": 4,
 "nbformat_minor": 2
}
