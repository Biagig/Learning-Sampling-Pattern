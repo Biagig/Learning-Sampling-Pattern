{
 "cells": [
  {
   "cell_type": "code",
   "execution_count": 1,
   "metadata": {},
   "outputs": [
    {
     "name": "stdout",
     "output_type": "stream",
     "text": [
      "\n",
      "                 .|'''|       /.\\      '||'''|,\n",
      "                 ||          // \\\\      ||   ||\n",
      "'||''|, '||  ||` `|'''|,    //...\\\\     ||...|'\n",
      " ||  ||  `|..||   .   ||   //     \\\\    ||\n",
      " ||..|'      ||   |...|' .//       \\\\. .||\n",
      " ||       ,  |'\n",
      ".||        ''\n",
      "\n",
      "Package version: 0.0.3\n",
      "\n",
      "License: CeCILL-B\n",
      "\n",
      "Authors: \n",
      "\n",
      "Antoine Grigis <antoine.grigis@cea.fr>\n",
      "Samuel Farrens <samuel.farrens@cea.fr>\n",
      "Jean-Luc Starck <jl.stark@cea.fr>\n",
      "Philippe Ciuciu <philippe.ciuciu@cea.fr>\n",
      "\n",
      "Dependencies: \n",
      "\n",
      "scipy          : >=1.3.0   - required | 1.3.0     installed\n",
      "numpy          : >=1.16.4  - required | 1.16.4    installed\n",
      "matplotlib     : >=3.0.0   - required | 3.1.1     installed\n",
      "astropy        : >=3.0.0   - required | 3.2.1     installed\n",
      "nibabel        : >=2.3.2   - required | 2.5.1     installed\n",
      "pyqtgraph      : >=0.10.0  - required | 0.10.0    installed\n",
      "progressbar2   : >=3.34.3  - required | ?         installed\n",
      "modopt         : >=1.4.0   - required | 1.4.1     installed\n",
      "scikit-learn   : >=0.19.1  - required | ?         installed\n",
      "pywt           : >=1.0.0   - required | 1.0.3     installed\n",
      "pysparse       : >=0.0.1   - required | 0.1.0     installed\n",
      "\n"
     ]
    }
   ],
   "source": [
    "from mri.operators import NonCartesianFFT, WaveletUD2, WaveletN\n",
    "import pysap\n",
    "from mri.operators.utils import convert_mask_to_locations, convert_locations_to_mask\n",
    "from modopt.math.metrics import ssim\n",
    "import matplotlib.pyplot as plt\n",
    "import numpy as np\n",
    "import nibabel as nib"
   ]
  },
  {
   "cell_type": "code",
   "execution_count": 2,
   "metadata": {},
   "outputs": [],
   "source": [
    "# Lower level imports\n",
    "from LowerLevel.pdhg import pdhg\n",
    "\n",
    "#Upper level imports\n",
    "import time\n",
    "from UpperLevel.LBFGSB import *\n",
    "from UpperLevel.cost_utils import *"
   ]
  },
  {
   "cell_type": "markdown",
   "metadata": {},
   "source": [
    "### Creation of Lower level tools\n",
    "Creating fourier_op, linear_op and param."
   ]
  },
  {
   "cell_type": "code",
   "execution_count": 3,
   "metadata": {},
   "outputs": [
    {
     "name": "stderr",
     "output_type": "stream",
     "text": [
      "/home/guillaume/temp/pysap-mri/mri/operators/fourier/utils.py:78: FutureWarning: Using a non-tuple sequence for multidimensional indexing is deprecated; use `arr[tuple(seq)]` instead of `arr[seq]`. In the future this will be interpreted as an array index, `arr[np.array(seq)]`, which will result either in an error or a different result.\n",
      "  mask[test] = 1\n"
     ]
    }
   ],
   "source": [
    "n = 50\n",
    "\n",
    "n_rad = int( n/2 )\n",
    "n_ang = int( n*np.pi )\n",
    "\n",
    "#num_blocks = ( n_rad - 1 ) * n_ang + 1 # for sampling isolated points\n",
    "num_blocks = n_ang # for choosing radia\n",
    "#num_blocks = n_rad # for choosing circles\n",
    "nb_samples = int( num_blocks * 2 / np.pi )\n",
    "\n",
    "phi = np.linspace( 0, 2 * np.pi, n_ang, endpoint = False )\n",
    "rad = np.linspace( 0.5 / n_rad, 0.5, (n_rad-1), endpoint = False )\n",
    "Phi, Rad = np.meshgrid( phi, rad )\n",
    "\n",
    "X = ( Rad * np.cos( Phi ) ).flatten( 'C' )\n",
    "Y = ( Rad * np.sin( Phi ) ).flatten( 'C' )\n",
    "\n",
    "full_kspace_loc = np.stack( ( X, Y ), axis = 1 )  \n",
    "full_kspace_loc = np.vstack( ( np.array( [ 0, 0 ] ), full_kspace_loc ) )\n",
    "\n",
    "m = convert_locations_to_mask(full_kspace_loc,(n,n))\n",
    "fourier_op = NonCartesianFFT(samples=full_kspace_loc, shape=(n,n),implementation='cpu')"
   ]
  },
  {
   "cell_type": "code",
   "execution_count": 4,
   "metadata": {},
   "outputs": [],
   "source": [
    "#Wavelet\n",
    "linear_op = WaveletN(wavelet_name=\"sym8\",nb_scale=1,padding_mode = \"periodization\")\n",
    "#linear_op = WaveletUD2(wavelet_id=24,nb_scale=3)\n",
    "\n",
    "param = {\"epsilon\":1e-4,\"gamma\":1e-10}"
   ]
  },
  {
   "cell_type": "markdown",
   "metadata": {},
   "source": [
    "### Initializing upper level\n",
    "Creating images, kspace_data and updating param"
   ]
  },
  {
   "cell_type": "code",
   "execution_count": 5,
   "metadata": {},
   "outputs": [],
   "source": [
    "#Oasis image\n",
    "all_images = [ \"oasis_data/sub-OAS30001_ses-d0129_run-01_T1w.nii\"]\n",
    "              #,\"../oasis_data/sub-OAS30278_ses-d1325_run-02_T1w.nii\" ]\n",
    "im = nib.load(\"oasis_data/sub-OAS30001_ses-d0129_run-01_T1w.nii\")\n",
    "im = im.get_fdata()\n",
    "\n",
    "Nimages = 1\n",
    "images = [(1+0j)*im[ :, 30:206, i ]for i in range(124,124+Nimages)]"
   ]
  },
  {
   "cell_type": "code",
   "execution_count": 6,
   "metadata": {},
   "outputs": [],
   "source": [
    "def reduce_img_size( n_dim, image ):\n",
    "    mid = image.shape[ 0 ] // 2\n",
    "    f_coef = np.fft.fftshift( np.fft.fft2( image ) )\n",
    "    reduced_coef = f_coef[ mid - n_dim // 2: mid + n_dim // 2, mid - n_dim // 2: mid + n_dim // 2 ]\n",
    "    reduced_image = np.fft.ifft2( np.fft.fftshift( reduced_coef ) )\n",
    "    return np.abs( reduced_image )\n",
    "\n",
    "images = [reduce_img_size(n,im) for im in images]\n",
    "kspace_data = [(1+0j)*fourier_op.op(u0_mat) + \n",
    "               0.1*np.mean(u0_mat)*np.random.randn(2*(n_rad-1)*n_ang+2).view(np.complex128) \n",
    "               for u0_mat in images]"
   ]
  },
  {
   "cell_type": "code",
   "execution_count": 7,
   "metadata": {},
   "outputs": [],
   "source": [
    "param[\"c\"] = 1e-8\n",
    "param[\"beta\"] = 1e-6"
   ]
  },
  {
   "cell_type": "code",
   "execution_count": 8,
   "metadata": {},
   "outputs": [],
   "source": [
    "# -- Main object to learn mask --\n",
    "# -------------------------------\n",
    "obj = Mask_Learner(images=images,kspace_data=kspace_data,\n",
    "                    fourier_op=fourier_op , linear_op=linear_op , param=param , \n",
    "                    verbose=-1 , const={\"sigma\":0.5,\"tau\":1})"
   ]
  },
  {
   "cell_type": "code",
   "execution_count": 14,
   "metadata": {
    "scrolled": true
   },
   "outputs": [
    {
     "name": "stdout",
     "output_type": "stream",
     "text": [
      "Sigma: 0.5 \n",
      "Tau: 1\n",
      "10  iterations:\n",
      "Cost: 24511712780.16347 \n",
      "Norm: 0.9578789253806272 \n",
      "\n",
      "20  iterations:\n",
      "Cost: 98597644.807042 \n",
      "Norm: 1.0242199421646554 \n",
      "\n",
      "30  iterations:\n",
      "Cost: 86558851.68971069 \n",
      "Norm: 0.037279145850606044 \n",
      "\n",
      "40  iterations:\n",
      "Cost: 86404883.61381072 \n",
      "Norm: 0.01241019849668145 \n",
      "\n",
      "50  iterations:\n",
      "Cost: 86310937.89864407 \n",
      "Norm: 0.007834129353343102 \n",
      "\n",
      "60  iterations:\n",
      "Cost: 86245614.23204447 \n",
      "Norm: 0.008622671157317897 \n",
      "\n",
      "70  iterations:\n",
      "Cost: 86199567.01924548 \n",
      "Norm: 0.008034580287689445 \n",
      "\n",
      "80  iterations:\n",
      "Cost: 86166616.98412295 \n",
      "Norm: 0.006813079661063098 \n",
      "\n",
      "90  iterations:\n",
      "Cost: 86141774.37769541 \n",
      "Norm: 0.004539441060672808 \n",
      "\n",
      "100  iterations:\n",
      "Cost: 86122500.28477946 \n",
      "Norm: 0.004302871271041487 \n",
      "\n",
      "Finished in 21.05426788330078 seconds.\n"
     ]
    }
   ],
   "source": [
    "# -- Solving --\n",
    "ptot = np.ones(n_ang*(n_rad-1)+2)\n",
    "ptot[-1] = 10\n",
    "uk,norms,energy,ssims = pdhg(kspace_data[-1] , ptot ,\n",
    "                             fourier_op = fourier_op,\n",
    "                             linear_op = linear_op,\n",
    "                             param = param,\n",
    "                             const = {\"sigma\":0.5,\"tau\":1},\n",
    "                             ground_truth=images[-1],\n",
    "                             maxit=100,\n",
    "                             compute_energy = True,\n",
    "                             mask_type=\"radial\")"
   ]
  },
  {
   "cell_type": "code",
   "execution_count": 15,
   "metadata": {
    "scrolled": true
   },
   "outputs": [
    {
     "name": "stdout",
     "output_type": "stream",
     "text": [
      "0.9363311549638182\n"
     ]
    }
   ],
   "source": [
    "print(ssim(uk,images[-1]))\n",
    "pysap.Image(data=np.abs(uk)).show()"
   ]
  },
  {
   "cell_type": "markdown",
   "metadata": {},
   "source": [
    "## Learning points"
   ]
  },
  {
   "cell_type": "code",
   "execution_count": 16,
   "metadata": {},
   "outputs": [
    {
     "name": "stdout",
     "output_type": "stream",
     "text": [
      "Penalty: 0.002528115972718846\n",
      "Total energy: 2.5445367262408722\n"
     ]
    }
   ],
   "source": [
    "p0 = np.random.rand(n_ang*(n_rad-1)+2)\n",
    "p0[-1] = 1e-3\n",
    "\n",
    "print(\"Penalty:\",P(p0,param[\"beta\"]))\n",
    "print(\"Total energy:\",E(pk = p0 , images = images , kspace_data = kspace_data , param = param , \n",
    "       mask_type = \"radial\" , fourier_op = fourier_op , linear_op = linear_op , verbose = -1 ,\n",
    "       const = obj.const))"
   ]
  },
  {
   "cell_type": "code",
   "execution_count": 17,
   "metadata": {
    "scrolled": true
   },
   "outputs": [
    {
     "name": "stdout",
     "output_type": "stream",
     "text": [
      "\u001b[1m\n",
      "1 iterations: E(p)=1.9718530131045267, alpha=0.9260175543905703\n",
      "\n",
      "\u001b[0m\n",
      "\u001b[1m\n",
      "2 iterations: E(p)=1.880945926875678, alpha=0.9964615429437034\n",
      "\n",
      "\u001b[0m\n",
      "\u001b[1m\n",
      "3 iterations: E(p)=1.3645328096794287, alpha=2.010891170478636\n",
      "\n",
      "\u001b[0m\n",
      "\u001b[1m\n",
      "4 iterations: E(p)=1.2528083652147641, alpha=2.052154165143639\n",
      "\n",
      "\u001b[0m\n",
      "\u001b[1m\n",
      "5 iterations: E(p)=1.1624573139134116, alpha=1.9949489553695396\n",
      "\n",
      "\u001b[0m\n",
      "\u001b[1m\n",
      "6 iterations: E(p)=1.1505856712956437, alpha=1.700432488340556\n",
      "\n",
      "\u001b[0m\n",
      "\u001b[1m\n",
      "7 iterations: E(p)=1.1403491923087616, alpha=1.343431920430668\n",
      "\n",
      "\u001b[0m\n",
      "\u001b[1m\n",
      "8 iterations: E(p)=1.120498864166552, alpha=1.0226581921028126\n",
      "\n",
      "\u001b[0m\n",
      "\u001b[1m\n",
      "9 iterations: E(p)=1.0664473630549127, alpha=1.0741854313031771\n",
      "\n",
      "\u001b[0m\n",
      "\u001b[1m\n",
      "10 iterations: E(p)=1.0244068221963403, alpha=1.1220826920903562\n",
      "\n",
      "\u001b[0m\n",
      "\u001b[1m\n",
      "11 iterations: E(p)=1.0067803240187851, alpha=1.363759918511534\n",
      "\n",
      "\u001b[0m\n",
      "\u001b[1m\n",
      "12 iterations: E(p)=0.9863951369882967, alpha=1.2886347051116553\n",
      "\n",
      "\u001b[0m\n",
      "\u001b[1m\n",
      "13 iterations: E(p)=0.9755301756885619, alpha=1.1935602178627773\n",
      "\n",
      "\u001b[0m\n",
      "\u001b[1m\n",
      "14 iterations: E(p)=0.9754542446262509, alpha=1.1202037481112064\n",
      "\n",
      "\u001b[0m\n",
      "\u001b[1m\n",
      "15 iterations: E(p)=0.9687511313203926, alpha=1.032595616623703\n",
      "\n",
      "\u001b[0m\n",
      "\u001b[1m\n",
      "16 iterations: E(p)=0.9579846889997413, alpha=1.0560533764648072\n",
      "\n",
      "\u001b[0m\n",
      "\u001b[1m\n",
      "17 iterations: E(p)=0.9420905582345174, alpha=1.1642347358306933\n",
      "\n",
      "\u001b[0m\n",
      "\u001b[1m\n",
      "18 iterations: E(p)=0.9322956560962296, alpha=1.2488134987361166\n",
      "\n",
      "\u001b[0m\n",
      "\u001b[1m\n",
      "19 iterations: E(p)=0.9277167061970195, alpha=1.2368638660145483\n",
      "\n",
      "\u001b[0m\n",
      "\u001b[1m\n",
      "FINISHED IN 1068.5319488048553 SECONDS\n",
      "\u001b[0m\n"
     ]
    }
   ],
   "source": [
    "pf,energy_upper,alphas = obj.optimize(p0=p0 , mask_type=\"radial\")"
   ]
  },
  {
   "cell_type": "code",
   "execution_count": 18,
   "metadata": {},
   "outputs": [
    {
     "name": "stdout",
     "output_type": "stream",
     "text": [
      "2.5445367262408722 0.9277167061970195\n"
     ]
    },
    {
     "data": {
      "image/png": "[encoded data removed]",
      "text/plain": [
       "<Figure size 432x288 with 1 Axes>"
      ]
     },
     "metadata": {
      "needs_background": "light"
     },
     "output_type": "display_data"
    }
   ],
   "source": [
    "print(energy_upper[0],energy_upper[-1])\n",
    "plt.plot(energy_upper)\n",
    "plt.title(\"Evolution of upper level energy\")\n",
    "plt.xlabel(\"Number of iterations\")\n",
    "plt.ylabel(\"Energy\")\n",
    "plt.yscale(\"log\")\n",
    "#plt.savefig(\"Results/Upper Level/Multiple images/10 images/convergence.png\")"
   ]
  },
  {
   "cell_type": "code",
   "execution_count": 19,
   "metadata": {
    "scrolled": true
   },
   "outputs": [
    {
     "data": {
      "image/png": "[encoded data removed]",
      "text/plain": [
       "<Figure size 432x288 with 1 Axes>"
      ]
     },
     "metadata": {
      "needs_background": "light"
     },
     "output_type": "display_data"
    }
   ],
   "source": [
    "plt.plot(alphas)\n",
    "plt.title(\"Evolution of alpha\")\n",
    "plt.xlabel(\"Number of iterations\")\n",
    "plt.ylabel(\"alpha\")\n",
    "plt.yscale(\"log\")\n",
    "#plt.savefig(\"Results/Upper Level/Multiple images/10 images/alpha.png\")"
   ]
  },
  {
   "cell_type": "code",
   "execution_count": 20,
   "metadata": {},
   "outputs": [
    {
     "name": "stdout",
     "output_type": "stream",
     "text": [
      "Penalty: 0.0037689999999999998\n",
      "Total energy: 3.1804082147513224\n"
     ]
    }
   ],
   "source": [
    "ptot = np.ones((n_rad-1)*n_ang+2)\n",
    "ptot[-1] = pf[-1]\n",
    "print(\"Penalty:\",P(ptot,param[\"beta\"]))\n",
    "print(\"Total energy:\",E(pk = ptot , images = images , kspace_data = kspace_data , param = param , \n",
    "       mask_type = \"radial\" , fourier_op = fourier_op , linear_op = linear_op , verbose = -1 ,\n",
    "       const = obj.const))"
   ]
  },
  {
   "cell_type": "code",
   "execution_count": 21,
   "metadata": {},
   "outputs": [
    {
     "name": "stdout",
     "output_type": "stream",
     "text": [
      "\n",
      "Mean ssim: 0.9491370058628114\n",
      "Mean ssim ceiled mask:0.8519849467285963\n"
     ]
    }
   ],
   "source": [
    "# -- Compute mean ssim of final mask and its ceiled version --\n",
    "ceiled_pf = np.where(pf>0.5,1,0)\n",
    "ceiled_pf[-1]=pf[-1]\n",
    "\n",
    "mean_ssim_pf = 0\n",
    "mean_ssim_ceiled = 0\n",
    "\n",
    "for itest in range(Nimages):\n",
    "    uk,norms = pdhg(kspace_data[itest] , ceiled_pf , fourier_op = fourier_op , linear_op = linear_op , param = param,\n",
    "                    maxit = 50 , verbose = -1 , const = obj.const , mask_type = \"radial\")\n",
    "    mean_ssim_ceiled += ssim(uk,images[itest])\n",
    "    \n",
    "    uk,norms = pdhg(kspace_data[itest] , pf , fourier_op = fourier_op , linear_op = linear_op , param = param,\n",
    "                    maxit = 50 , verbose = -1 , const = obj.const , mask_type = \"radial\")\n",
    "    mean_ssim_pf += ssim(uk,images[itest])\n",
    "print(f\"\\nMean ssim: {mean_ssim_pf/Nimages}\\nMean ssim ceiled mask:{mean_ssim_ceiled/Nimages}\")"
   ]
  },
  {
   "cell_type": "code",
   "execution_count": 22,
   "metadata": {},
   "outputs": [],
   "source": [
    "ceiled_mask = []\n",
    "for i in range(len(pf)-1):\n",
    "    if ceiled_pf[i]==1:\n",
    "        ceiled_mask.append(full_kspace_loc[i])\n",
    "pysap.Image(data = convert_locations_to_mask(np.array(ceiled_mask),(n,n))).show()"
   ]
  },
  {
   "cell_type": "code",
   "execution_count": null,
   "metadata": {},
   "outputs": [],
   "source": []
  }
 ],
 "metadata": {
  "kernelspec": {
   "display_name": "Python 3",
   "language": "python",
   "name": "python3"
  },
  "language_info": {
   "codemirror_mode": {
    "name": "ipython",
    "version": 3
   },
   "file_extension": ".py",
   "mimetype": "text/x-python",
   "name": "python",
   "nbconvert_exporter": "python",
   "pygments_lexer": "ipython3",
   "version": "3.7.3"
  }
 },
 "nbformat": 4,
 "nbformat_minor": 2
}
