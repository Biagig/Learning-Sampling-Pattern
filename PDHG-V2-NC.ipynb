{
 "cells": [
  {
   "cell_type": "markdown",
   "metadata": {},
   "source": [
    "# PDHG Non-cartesian\n",
    "This notebook applies the PDHG algorithm on a non-cartesian mask based on the paper \"Learning the Sampling Pattern for MRI\" published in June 2019. More details on the functions (and especially on the proximal operators) can be found there."
   ]
  },
  {
   "cell_type": "markdown",
   "metadata": {},
   "source": [
    "## Imports"
   ]
  },
  {
   "cell_type": "code",
   "execution_count": 50,
   "metadata": {},
   "outputs": [],
   "source": [
    "# Package import\n",
    "from mri.numerics.fourier import NonCartesianFFT\n",
    "from mri.numerics.fourier import FFT\n",
    "from mri.numerics.reconstruct import sparse_rec_fista\n",
    "from mri.numerics.utils import generate_operators\n",
    "from mri.numerics.utils import convert_locations_to_mask\n",
    "from mri.numerics.utils import convert_mask_to_locations\n",
    "from mri.parallel_mri.extract_sensitivity_maps import \\\n",
    "    gridded_inverse_fourier_transform_nd\n",
    "import pysap\n",
    "from pysap.data import get_sample_data\n",
    "\n",
    "# Third party import\n",
    "from modopt.math.metrics import ssim\n",
    "import numpy as np\n",
    "import matplotlib.pyplot as plt\n",
    "import random as rd\n",
    "from PIL import Image"
   ]
  },
  {
   "cell_type": "markdown",
   "metadata": {},
   "source": [
    "## Inputs"
   ]
  },
  {
   "cell_type": "code",
   "execution_count": 152,
   "metadata": {},
   "outputs": [],
   "source": [
    "u0 = get_sample_data('2d-mri')\n",
    "\n",
    "# Obtain MRI non-cartesian mask\n",
    "radial_mask = get_sample_data(\"mri-radial-samples\")\n",
    "kspace_loc = radial_mask.data\n",
    "mask = pysap.Image(data=convert_locations_to_mask(kspace_loc, u0.shape))"
   ]
  },
  {
   "cell_type": "code",
   "execution_count": 153,
   "metadata": {},
   "outputs": [],
   "source": [
    "#Original image\n",
    "image_rec0 = pysap.Image(data=np.abs(u0))\n",
    "image_rec0.show()"
   ]
  },
  {
   "cell_type": "code",
   "execution_count": 154,
   "metadata": {},
   "outputs": [],
   "source": [
    "# Adding noise\n",
    "(n1,n2) = u0.shape\n",
    "# Computing y with non-cartesian Fourier transform\n",
    "fourier_op = NonCartesianFFT(samples=kspace_loc, shape=u0.shape,implementation='cpu')\n",
    "y = fourier_op.op(u0.data)\n",
    "y *= np.asarray([np.random.normal(1,0.1) for i in range(len(y))])\n",
    "y_temp = np.copy(y)\n",
    "u0_mat = np.asarray(u0)"
   ]
  },
  {
   "cell_type": "code",
   "execution_count": 155,
   "metadata": {},
   "outputs": [
    {
     "name": "stderr",
     "output_type": "stream",
     "text": [
      "\u001b[33mWARNING\u001b[0m: Making input data immutable.\n"
     ]
    }
   ],
   "source": [
    "# Generate operators\n",
    "gradient_op, linear_op, prox_op, cost_op = generate_operators(\n",
    "    data=y_temp,\n",
    "    wavelet_name=\"haar\",\n",
    "    samples=kspace_loc,\n",
    "    mu=2e-6,\n",
    "    nb_scales=4,\n",
    "    fourier_type=\"non-cartesian\",\n",
    "    uniform_data_shape=u0.shape,\n",
    "    gradient_space=\"synthesis\")"
   ]
  },
  {
   "cell_type": "code",
   "execution_count": 156,
   "metadata": {},
   "outputs": [],
   "source": [
    "# Tools for inverse fft\n",
    "grid_space = np.linspace(-0.5, 0.5, num=u0.shape[0])\n",
    "grid2D = np.meshgrid(grid_space, grid_space)"
   ]
  },
  {
   "cell_type": "code",
   "execution_count": 157,
   "metadata": {},
   "outputs": [],
   "source": [
    "# Base reconstructed image: computes an inverse fft according to the mask on the noised data\n",
    "grid_soln = gridded_inverse_fourier_transform_nd(kspace_loc, y,\n",
    "                                                 tuple(grid2D), 'linear')\n",
    "image_rec0 = pysap.Image(data=np.abs(grid_soln))\n",
    "image_rec0.show()"
   ]
  },
  {
   "cell_type": "markdown",
   "metadata": {},
   "source": [
    "# Definition of functions to compute energy\n",
    "Since S is a nxn diagonal matrix, we won't store it in memory and do all the computations directly with p"
   ]
  },
  {
   "cell_type": "code",
   "execution_count": 158,
   "metadata": {},
   "outputs": [],
   "source": [
    "p=np.asarray([rd.random() for i in range(len(y))])\n",
    "pn1 = 2\n",
    "#constants\n",
    "zeta = 1000\n",
    "epsilon = 0.1\n",
    "gamma = 1e-13\n",
    "beta = 100"
   ]
  },
  {
   "cell_type": "code",
   "execution_count": 159,
   "metadata": {},
   "outputs": [],
   "source": [
    "# functions B and G in the paper\n",
    "def b(u):\n",
    "    return np.sum([np.sum([max(0,-z**3)for z in u[i]]) for i in range(len(u))])*zeta\n",
    "def g(u):return b(u)+epsilon*np.linalg.norm(u)**2/2"
   ]
  },
  {
   "cell_type": "code",
   "execution_count": 160,
   "metadata": {},
   "outputs": [],
   "source": [
    "# functions J and F2 in the paper\n",
    "# We also compute rho and its first derivative since we will need it later\n",
    "def rho(x):\n",
    "    m = np.absolute(x)\n",
    "    if m<gamma:\n",
    "        return -m*m*m/3/gamma/gamma+m*m/gamma\n",
    "    else:\n",
    "        return m-gamma/3\n",
    "def drho(x):\n",
    "    if x<-gamma:return -1\n",
    "    elif x<0:return x**2/gamma**2+2*x/gamma\n",
    "    elif x<gamma:return -x**2/gamma**2+2*x/gamma\n",
    "    else:return 1\n",
    "    \n",
    "\n",
    "def j(u):\n",
    "    return np.sum([rho(x) for x in u])\n",
    "def f2(w): return pn1*j(w)"
   ]
  },
  {
   "cell_type": "code",
   "execution_count": 161,
   "metadata": {},
   "outputs": [],
   "source": [
    "#function F1 in the paper\n",
    "def R(u):\n",
    "    return np.asarray([[np.real(u[i][j]) for j in range(len(u[0]))]for i in range(len(u))])\n",
    "def Rstar(u):\n",
    "    return [[u[i][j]+0j for j in range(len(u[0]))]for i in range(len(u))]\n",
    "def f1(v):\n",
    "    return 0.5*np.linalg.norm((fourier_op.op(v)-y)*p)**2"
   ]
  },
  {
   "cell_type": "code",
   "execution_count": 162,
   "metadata": {},
   "outputs": [],
   "source": [
    "#PENALTY\n",
    "def P(p):\n",
    "    return beta*np.sum([[x*(2-x) for x in p[i]]for i in range(len(p))])"
   ]
  },
  {
   "cell_type": "code",
   "execution_count": 163,
   "metadata": {},
   "outputs": [
    {
     "data": {
      "text/plain": [
       "[<matplotlib.lines.Line2D at 0x7fd09463a208>]"
      ]
     },
     "execution_count": 163,
     "metadata": {},
     "output_type": "execute_result"
    },
    {
     "data": {
      "image/png": "[encoded data removed]",
      "text/plain": [
       "<Figure size 432x288 with 1 Axes>"
      ]
     },
     "metadata": {
      "needs_background": "light"
     },
     "output_type": "display_data"
    }
   ],
   "source": [
    "#First derivative of rho around 0\n",
    "t = [0.1*i*gamma for i in range(-30,30)]\n",
    "plt.plot(t,[drho(x) for x in t])"
   ]
  },
  {
   "cell_type": "markdown",
   "metadata": {},
   "source": [
    "# Proximal operators\n",
    "The objective is to find the point minimizing $f_u(x) = F(x)+1/2||x-u||^2$ for a given u and for $F=\\tau F1,\\tau F2,\\tau G$ where $\\tau$ is a given constant.\n",
    "## Proximal operator of F2\n",
    "We want to minimize $f_u(x) = \\tau\\alpha (p)J(|x|)+\\frac{1}{2}||x-u||^2$. As explained in the paper, given the definition of J, we can compute the solution component by component, but the paper expresses $x_i$ in terms of $u_i$ with a constant C that we need to compute. We have in 1D $f_u'(x) = \\tau\\alpha (p)\\frac{x}{|x|}\\rho '(|x|)+x-u$. Since $\\rho '(x)$ depends on if $|x|<\\gamma$ or not, we need to separate these two cases:\n",
    "### |x|>$\\gamma$\n",
    "In this case, $\\rho '(|x|)=1$, so we simply have $(1+\\frac{\\tau\\alpha(p)}{|x|})x=u\\Rightarrow x=(|u|-\\tau\\alpha(p))\\frac{u}{|u|}$. Since we supposed $|x|<\\gamma$ beforehand, this will be true when $|u|>\\tau\\alpha(p)+\\gamma$.\n",
    "### |x|$\\leq\\gamma$\n",
    "From what we just saw, this is equivalent to $|u|\\leq\\tau\\alpha(p)+\\gamma$. This case is a bit more complicated, since now $\\rho '(|x|)=-\\frac{|x|^2}{\\gamma^2}+2\\frac{|x|}{\\gamma}$ and taking the norm on both sides of $\\tau\\alpha (p)\\frac{x}{|x|}\\rho '(|x|)+x-u$ gives us:\n",
    "$$-\\frac{\\tau\\alpha(p)}{\\gamma^2}|x|^2+(1+\\frac{2\\tau\\alpha(p)}{\\gamma})|x|-|u|=0\\\\\n",
    "\\Rightarrow |x| = \\gamma+\\frac{\\gamma^2}{2\\tau\\alpha(p)}(1\\pm\\sqrt{\\Delta})\\\\\n",
    "with\\ \\Delta=1+\\frac{4\\tau\\alpha(p)}{\\gamma^2}(\\gamma+\\tau\\alpha(p)-|u|)$$\n",
    "But since we want $|x|<\\gamma$, the only acceptable solution is $x=\\left(\\gamma+\\frac{\\gamma^2}{2\\tau\\alpha(p)}(1-\\sqrt{\\Delta})\\right)\\frac{u}{|u|}$. Since $|u|\\leq\\tau\\alpha(p)+\\gamma$, we see that $\\Delta>1$, so the condition $|x|\\leq\\gamma$ is verified.\n",
    "\n",
    "## Proximal dual operators\n",
    "We use the Moreau identity to compute the proximal dual operators:\n",
    "$$prox_{\\gamma\\phi ^*}(x) = x-\\gamma prox_{\\phi/\\gamma}(\\frac{x}{\\gamma})$$"
   ]
  },
  {
   "cell_type": "code",
   "execution_count": 164,
   "metadata": {},
   "outputs": [],
   "source": [
    "#Prox_tauG\n",
    "def prox_B(u,c):\n",
    "    return np.asarray([[x/(0.5+np.sqrt(0.25-3*zeta*c*min(0,x)))for x in u[i]]for i in range(len(u))])\n",
    "def prox_G(u,c):\n",
    "    return prox_B(u/(1+epsilon),c/(1+epsilon))"
   ]
  },
  {
   "cell_type": "code",
   "execution_count": 165,
   "metadata": {
    "scrolled": true
   },
   "outputs": [
    {
     "name": "stdout",
     "output_type": "stream",
     "text": [
      "Distance between the two points: 5.125174546891143e-05\n",
      "Ratio (should always be smaller than 1 if v minimises the function as it is supposed to): 0.9952329684601299\n"
     ]
    }
   ],
   "source": [
    "y1 = prox_G(u0_mat,2)\n",
    "y2 = y1+np.asarray([[np.random.normal(0,1e-7)for i in range(n2)]for j in range(n1)])\n",
    "\n",
    "r1 = 2*g(y1)+0.5*np.linalg.norm(u0_mat-y1)**2\n",
    "r2 = 2*g(y2)+0.5*np.linalg.norm(u0_mat-y2)**2\n",
    "print(\"Distance between the two points:\",np.linalg.norm(y1-y2))\n",
    "print(\"Ratio (should always be smaller than 1 if v minimises the function as it is supposed to):\"\n",
    "                  ,np.abs(r1)/np.abs(r2))"
   ]
  },
  {
   "cell_type": "code",
   "execution_count": 166,
   "metadata": {},
   "outputs": [],
   "source": [
    "#Prox_tau/F2\n",
    "def prox_F2(u,c):\n",
    "    n = len(u)\n",
    "    v = np.asarray([0+0j for i in range(n)])\n",
    "    for i in range(n):\n",
    "        mod_u = np.abs(u[i])\n",
    "        if mod_u>c*pn1+gamma:\n",
    "            v[i] = (mod_u-c*pn1)*u[i]/np.abs(u[i])\n",
    "        else:\n",
    "            delta = 1+4*c*pn1/(gamma**2)*(gamma+c*pn1-mod_u)\n",
    "            v[i] = (gamma+gamma**2/(2*c*pn1)*(1-np.sqrt(delta)))*u[i]/np.abs(u[i])\n",
    "    return v\n",
    "def prox_F2_dual(u,c):\n",
    "    return u-c*prox_F2(u/c,1/c)"
   ]
  },
  {
   "cell_type": "code",
   "execution_count": 167,
   "metadata": {
    "scrolled": true
   },
   "outputs": [
    {
     "name": "stdout",
     "output_type": "stream",
     "text": [
      "Distance between the two points: 2.65048663290064e-05\n",
      "Ratio (should always be smaller than 1 if v minimises the function as it is supposed to): 0.9999912828942908\n"
     ]
    }
   ],
   "source": [
    "c=2\n",
    "x = np.asarray([1,2,3,4])\n",
    "y1 = prox_F2(x,c)\n",
    "y2 = y1+np.asarray([np.random.normal(0,1e-5)for i in range(4)])\n",
    "\n",
    "r1 = c*f2(y1)+0.5*np.linalg.norm(x-y1)**2\n",
    "r2 = c*f2(y2)+0.5*np.linalg.norm(x-y2)**2\n",
    "print(\"Distance between the two points:\",np.linalg.norm(y1-y2))\n",
    "print(\"Ratio (should always be smaller than 1 if v minimises the function as it is supposed to):\",r1/r2)"
   ]
  },
  {
   "cell_type": "code",
   "execution_count": 168,
   "metadata": {},
   "outputs": [],
   "source": [
    "#prox_tauF1\n",
    "def prox_F1(u,c):\n",
    "    im = (fourier_op.op(u)+c*p*p*y)/(np.ones(y.shape)+c*p*p)\n",
    "    return gridded_inverse_fourier_transform_nd(kspace_loc, im,\n",
    "                                                 tuple(grid2D), 'linear')\n",
    "def prox_F1_dual(u,c):\n",
    "    return u-c*prox_F1(u/c,1/c)"
   ]
  },
  {
   "cell_type": "code",
   "execution_count": 169,
   "metadata": {},
   "outputs": [
    {
     "name": "stdout",
     "output_type": "stream",
     "text": [
      "Distance between the two points: 0.0005122025038168591\n",
      "Ratio (should always be smaller than 1 if v minimises the function as it is supposed to): 1.0019019846427675\n"
     ]
    }
   ],
   "source": [
    "c=2\n",
    "y1 = prox_F1(u0_mat,c)\n",
    "y2 = y1+np.asarray([[np.random.normal(0,1e-6)for i in range(n2)]for j in range(n1)])\n",
    "\n",
    "r1 = c*f1(y1)+0.5*np.linalg.norm(u0_mat-y1)**2\n",
    "r2 = c*f1(y2)+0.5*np.linalg.norm(u0_mat-y2)**2\n",
    "print(\"Distance between the two points:\",np.linalg.norm(y1-y2))\n",
    "print(\"Ratio (should always be smaller than 1 if v minimises the function as it is supposed to):\",r1/r2)"
   ]
  },
  {
   "cell_type": "markdown",
   "metadata": {},
   "source": [
    "# Implementation of the PDHG algorithm"
   ]
  },
  {
   "cell_type": "code",
   "execution_count": 170,
   "metadata": {},
   "outputs": [],
   "source": [
    "#constants\n",
    "L=1\n",
    "eta = max(np.amax(p)**2,pn1*j(np.reshape(u0_mat,(n1*n2,1))))\n",
    "mu = 2*np.sqrt(epsilon/(1+L*L)/eta)\n",
    "tau = mu/2/epsilon\n",
    "sigma = mu*eta/2\n",
    "theta = 1/(1+mu)\n",
    "\n",
    "maxit = 10\n",
    "tol = 1e-3"
   ]
  },
  {
   "cell_type": "code",
   "execution_count": 171,
   "metadata": {},
   "outputs": [],
   "source": [
    "def step(uk,vk,wk,uk_bar):\n",
    "    vk1 = prox_F1_dual(vk+sigma*uk_bar,sigma)\n",
    "    wk1 = prox_F2_dual(wk+sigma*linear_op.op(uk_bar),sigma)\n",
    "    uk1 = prox_G(uk-tau*R(vk1)-tau*linear_op.adj_op(wk1),tau)\n",
    "    uk_bar1 = theta*(uk1-uk)\n",
    "    \n",
    "    norm = np.linalg.norm(uk1-uk)/np.linalg.norm(uk)\n",
    "    norm += (np.linalg.norm(vk1-vk)+np.linalg.norm(wk1-wk))/(np.linalg.norm(vk)+np.linalg.norm(wk))\n",
    "    return uk1,vk1,wk1,uk_bar1,norm"
   ]
  },
  {
   "cell_type": "code",
   "execution_count": 172,
   "metadata": {
    "scrolled": true
   },
   "outputs": [
    {
     "name": "stdout",
     "output_type": "stream",
     "text": [
      "Base ssim: 0.6462845584106313\n",
      "Final ssim after  10  iterations: 0.9767154015039287\n"
     ]
    }
   ],
   "source": [
    "#initialisation\n",
    "n_iter = 0\n",
    "uk = gridded_inverse_fourier_transform_nd(kspace_loc, y,\n",
    "                                                 tuple(grid2D), 'linear')\n",
    "vk = np.copy(uk)\n",
    "wk = linear_op.op(u0_mat)\n",
    "uk_bar = np.copy(uk)\n",
    "norm = 2*tol\n",
    "print(\"Base ssim:\",ssim(uk,u0_mat))\n",
    "while n_iter<maxit and norm>tol:\n",
    "    uk,vk,wk,uk_bar,norm = step(uk,vk,wk,uk_bar)\n",
    "    n_iter += 1\n",
    "print(\"Final ssim after \",n_iter,\" iterations:\",ssim(uk,u0_mat))"
   ]
  },
  {
   "cell_type": "code",
   "execution_count": 173,
   "metadata": {},
   "outputs": [],
   "source": [
    "#Final image\n",
    "image_rec0 = pysap.Image(data=np.abs(uk))\n",
    "image_rec0.show()"
   ]
  },
  {
   "cell_type": "markdown",
   "metadata": {},
   "source": [
    "## Convergence"
   ]
  },
  {
   "cell_type": "code",
   "execution_count": 174,
   "metadata": {
    "scrolled": true
   },
   "outputs": [
    {
     "data": {
      "text/plain": [
       "[<matplotlib.lines.Line2D at 0x7fd09d7f4080>]"
      ]
     },
     "execution_count": 174,
     "metadata": {},
     "output_type": "execute_result"
    },
    {
     "data": {
      "image/png": "[encoded data removed]",
      "text/plain": [
       "<Figure size 432x288 with 1 Axes>"
      ]
     },
     "metadata": {
      "needs_background": "light"
     },
     "output_type": "display_data"
    }
   ],
   "source": [
    "t = [i for i in range(11)]\n",
    "uk = gridded_inverse_fourier_transform_nd(kspace_loc, y,\n",
    "                                                 tuple(grid2D), 'linear')\n",
    "vk = np.copy(uk)\n",
    "wk = linear_op.op(u0_mat)\n",
    "uk_bar = np.copy(uk)\n",
    "ssims = [ssim(uk,u0)]\n",
    "for i in range(10):\n",
    "    uk,vk,wk,uk_bar,norm = step(uk,vk,wk,uk_bar)\n",
    "    ssims.append(ssim(uk,u0))\n",
    "plt.plot(t,ssims)"
   ]
  },
  {
   "cell_type": "markdown",
   "metadata": {},
   "source": [
    "# Comparison to other optimization algorithms"
   ]
  },
  {
   "cell_type": "code",
   "execution_count": 175,
   "metadata": {
    "scrolled": true
   },
   "outputs": [
    {
     "name": "stderr",
     "output_type": "stream",
     "text": [
      "\r",
      "N/A% (0 of 200) |                        | Elapsed Time: 0:00:00 ETA:  --:--:--"
     ]
    },
    {
     "name": "stdout",
     "output_type": "stream",
     "text": [
      "\n",
      "  _____             ____     _____      _\n",
      " |\" ___|    ___    / __\"| u |_ \" _| U  /\"\\  u\n",
      "U| |_  u   |_\"_|  <\\___ \\/    | |    \\/ _ \\/\n",
      "\\|  _|/     | |    u___) |   /| |\\   / ___ \\\\\n",
      " |_|      U/| |\\u  |____/>> u |_|U  /_/   \\_\\\\\n",
      " )(\\\\\\,-.-,_|___|_,-.)(  (__)_// \\\\\\_  \\\\\\    >>\n",
      "(__)(_/ \\_)-' '-(_/(__)    (__) (__)(__)  (__)\n",
      "    \n",
      " - mu:  2e-06\n",
      " - lipschitz constant:  570.4519942001267\n",
      " - data:  (512, 512)\n",
      " - wavelet:  <mri.reconstruct.linear.WaveletN object at 0x7fd0941e4390> - 4\n",
      " - max iterations:  200\n",
      " - image variable shape:  (512, 512)\n",
      " - alpha variable shape:  (262144,)\n",
      "----------------------------------------\n",
      "Starting optimization...\n"
     ]
    },
    {
     "name": "stderr",
     "output_type": "stream",
     "text": [
      "100% (200 of 200) |######################| Elapsed Time: 0:00:43 Time:  0:00:43\n"
     ]
    },
    {
     "name": "stdout",
     "output_type": "stream",
     "text": [
      " - final iteration number:  200\n",
      " - final log10 cost value:  -5.25661369178952\n",
      " - converged:  True\n",
      "Done.\n",
      "Execution time:  307.8325360000001  seconds\n",
      "----------------------------------------\n"
     ]
    }
   ],
   "source": [
    "max_iter = 200\n",
    "x_final, costs, metrics = sparse_rec_fista(\n",
    "    gradient_op=gradient_op,\n",
    "    linear_op=linear_op,\n",
    "    prox_op=prox_op,\n",
    "    cost_op=cost_op,\n",
    "    lambda_init=1.0,\n",
    "    max_nb_of_iter=max_iter,\n",
    "    atol=1e-4,\n",
    "    verbose=1)\n",
    "image_rec = pysap.Image(data=np.abs(x_final))\n",
    "fista_ssim = ssim(x_final,u0)"
   ]
  },
  {
   "cell_type": "code",
   "execution_count": 110,
   "metadata": {},
   "outputs": [
    {
     "data": {
      "text/plain": [
       "0.8446063182574627"
      ]
     },
     "execution_count": 110,
     "metadata": {},
     "output_type": "execute_result"
    }
   ],
   "source": []
  }
 ],
 "metadata": {
  "kernelspec": {
   "display_name": "Python 3",
   "language": "python",
   "name": "python3"
  },
  "language_info": {
   "codemirror_mode": {
    "name": "ipython",
    "version": 3
   },
   "file_extension": ".py",
   "mimetype": "text/x-python",
   "name": "python",
   "nbconvert_exporter": "python",
   "pygments_lexer": "ipython3",
   "version": "3.7.3"
  }
 },
 "nbformat": 4,
 "nbformat_minor": 2
}
