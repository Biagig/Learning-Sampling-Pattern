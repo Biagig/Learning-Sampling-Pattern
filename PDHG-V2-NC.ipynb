{
 "cells": [
  {
   "cell_type": "markdown",
   "metadata": {},
   "source": [
    "# PDHG Non-cartesian\n",
    "This notebook applies the PDHG algorithm on a non-cartesian mask based on the paper \"Learning the Sampling Pattern for MRI\" published in June 2019. More details on the functions (and especially on the proximal operators) can be found there."
   ]
  },
  {
   "cell_type": "markdown",
   "metadata": {},
   "source": [
    "## Imports"
   ]
  },
  {
   "cell_type": "code",
   "execution_count": 1,
   "metadata": {},
   "outputs": [
    {
     "name": "stderr",
     "output_type": "stream",
     "text": [
      "/home/guillaume/temp/pysap-mri/mri/operators/fourier/cartesian.py:33: UserWarning: pynufft python package has not been found. If needed use the master release. Till then you cannot use NUFFT on GPU\n",
      "  warnings.warn(\"pynufft python package has not been found. If needed use \"\n",
      "/home/guillaume/temp/pysap-mri/mri/operators/fourier/non_cartesian.py:33: UserWarning: pynufft python package has not been found. If needed use the master release. Till then you cannot use NUFFT on GPU\n",
      "  warnings.warn(\"pynufft python package has not been found. If needed use \"\n"
     ]
    },
    {
     "name": "stdout",
     "output_type": "stream",
     "text": [
      "\n",
      "                 .|'''|       /.\\      '||'''|,\n",
      "                 ||          // \\\\      ||   ||\n",
      "'||''|, '||  ||` `|'''|,    //...\\\\     ||...|'\n",
      " ||  ||  `|..||   .   ||   //     \\\\    ||\n",
      " ||..|'      ||   |...|' .//       \\\\. .||\n",
      " ||       ,  |'\n",
      ".||        ''\n",
      "\n",
      "Package version: 0.0.3\n",
      "\n",
      "License: CeCILL-B\n",
      "\n",
      "Authors: \n",
      "\n",
      "Antoine Grigis <antoine.grigis@cea.fr>\n",
      "Samuel Farrens <samuel.farrens@cea.fr>\n",
      "Jean-Luc Starck <jl.stark@cea.fr>\n",
      "Philippe Ciuciu <philippe.ciuciu@cea.fr>\n",
      "\n",
      "Dependencies: \n",
      "\n",
      "scipy          : >=1.3.0   - required | 1.3.0     installed\n",
      "numpy          : >=1.16.4  - required | 1.16.4    installed\n",
      "matplotlib     : >=3.0.0   - required | 3.1.1     installed\n",
      "astropy        : >=3.0.0   - required | 3.2.1     installed\n",
      "nibabel        : >=2.3.2   - required | 2.5.1     installed\n",
      "pyqtgraph      : >=0.10.0  - required | 0.10.0    installed\n",
      "progressbar2   : >=3.34.3  - required | ?         installed\n",
      "modopt         : >=1.4.0   - required | 1.4.1     installed\n",
      "scikit-learn   : >=0.19.1  - required | ?         installed\n",
      "pywt           : >=1.0.0   - required | 1.0.3     installed\n",
      "pysparse       : >=0.0.1   - required | 0.1.0     installed\n",
      "\n"
     ]
    }
   ],
   "source": [
    "# Package import\n",
    "from mri.operators import NonCartesianFFT, WaveletUD2, WaveletN ,FFT\n",
    "from mri.operators.utils import convert_mask_to_locations, convert_locations_to_mask, \\\n",
    "    gridded_inverse_fourier_transform_nd\n",
    "from mri.reconstructors import SingleChannelReconstructor\n",
    "import pysap\n",
    "from pysap.data import get_sample_data\n",
    "from pysap.utils import save_image"
   ]
  },
  {
   "cell_type": "code",
   "execution_count": 2,
   "metadata": {},
   "outputs": [],
   "source": [
    "# Third party import\n",
    "from modopt.math.metrics import ssim\n",
    "from modopt.opt.linear import Identity\n",
    "from modopt.opt.proximity import SparseThreshold,Ridge\n",
    "\n",
    "import numpy as np\n",
    "import matplotlib.pyplot as plt\n",
    "import random as rd\n",
    "from PIL import Image\n",
    "from modopt.math.matrix import PowerMethod"
   ]
  },
  {
   "cell_type": "markdown",
   "metadata": {},
   "source": [
    "## Inputs"
   ]
  },
  {
   "cell_type": "code",
   "execution_count": 3,
   "metadata": {
    "scrolled": false
   },
   "outputs": [
    {
     "name": "stderr",
     "output_type": "stream",
     "text": [
      "/home/guillaume/temp/pysap-mri/mri/operators/fourier/utils.py:78: FutureWarning: Using a non-tuple sequence for multidimensional indexing is deprecated; use `arr[tuple(seq)]` instead of `arr[seq]`. In the future this will be interpreted as an array index, `arr[np.array(seq)]`, which will result either in an error or a different result.\n",
      "  mask[test] = 1\n"
     ]
    }
   ],
   "source": [
    "u0 = get_sample_data('2d-mri')\n",
    "\n",
    "# Obtain MRI non-cartesian mask\n",
    "radial_mask = get_sample_data(\"mri-radial-samples\")\n",
    "kspace_loc = radial_mask.data\n",
    "mask = pysap.Image(data=convert_locations_to_mask(kspace_loc, u0.shape))"
   ]
  },
  {
   "cell_type": "code",
   "execution_count": 229,
   "metadata": {},
   "outputs": [],
   "source": [
    "mask.show()"
   ]
  },
  {
   "cell_type": "markdown",
   "metadata": {},
   "source": [
    "### Test for creation of a mask from scratch (no import)"
   ]
  },
  {
   "cell_type": "code",
   "execution_count": 4,
   "metadata": {},
   "outputs": [],
   "source": [
    "#Random mask\n",
    "n=3000\n",
    "new_kspace_loc = np.empty((n,2))\n",
    "for i in range(n):\n",
    "    new_kspace_loc[i]=[rd.random()-0.5,rd.random()-0.5]"
   ]
  },
  {
   "cell_type": "code",
   "execution_count": 7,
   "metadata": {},
   "outputs": [],
   "source": [
    "m = convert_locations_to_mask(new_kspace_loc,(512,512))\n",
    "newmask = pysap.Image(data=m)\n",
    "newmask.show()"
   ]
  },
  {
   "cell_type": "markdown",
   "metadata": {},
   "source": [
    "### Data\n",
    "Observations: $y=S\\mathcal{F}Ru+\\epsilon$."
   ]
  },
  {
   "cell_type": "code",
   "execution_count": 4,
   "metadata": {},
   "outputs": [],
   "source": [
    "#Original image\n",
    "image_rec0 = pysap.Image(data=np.abs(u0))\n",
    "image_rec0.show()"
   ]
  },
  {
   "cell_type": "code",
   "execution_count": 5,
   "metadata": {},
   "outputs": [],
   "source": [
    "# Adding noise\n",
    "(n1,n2) = u0.shape\n",
    "sigma = 1e-6\n",
    "# Computing y with non-cartesian Fourier transform\n",
    "fourier_op = NonCartesianFFT(samples=kspace_loc, shape=u0.shape,implementation='cpu')\n",
    "y = fourier_op.op(u0.data)\n",
    "y += np.asarray([np.random.normal(0,sigma)+np.random.normal(0,sigma)*1j for i in range(len(y))])\n",
    "u0_mat = np.asarray(u0)\n",
    "\n",
    "p=np.asarray([1 for i in range(len(y))])\n",
    "pn1 = 1e-8\n",
    "y *= p\n",
    "y_temp = np.copy(y)"
   ]
  },
  {
   "cell_type": "code",
   "execution_count": 25,
   "metadata": {},
   "outputs": [],
   "source": [
    "# Generate operators\n",
    "# linear_op = WaveletUD2(\n",
    "#     wavelet_id=24,\n",
    "#     nb_scale=4,\n",
    "# )\n",
    "linear_op = WaveletN(\n",
    "    wavelet_name='sym8',\n",
    "    nb_scale=4)"
   ]
  },
  {
   "cell_type": "code",
   "execution_count": 7,
   "metadata": {},
   "outputs": [],
   "source": [
    "# Tools for inverse fft\n",
    "grid_space = np.linspace(-0.5, 0.5, num=u0.shape[0])\n",
    "grid2D = np.meshgrid(grid_space, grid_space)"
   ]
  },
  {
   "cell_type": "code",
   "execution_count": 8,
   "metadata": {},
   "outputs": [],
   "source": [
    "# Base reconstructed image: computes an inverse fft according to the mask on the noised data\n",
    "grid_soln = gridded_inverse_fourier_transform_nd(kspace_loc, y,\n",
    "                                                 tuple(grid2D), 'linear')\n",
    "image_rec0 = pysap.Image(data=np.abs(grid_soln))\n",
    "image_rec0.show()"
   ]
  },
  {
   "cell_type": "code",
   "execution_count": 9,
   "metadata": {},
   "outputs": [
    {
     "data": {
      "text/plain": [
       "0.6450384065624448"
      ]
     },
     "execution_count": 9,
     "metadata": {},
     "output_type": "execute_result"
    }
   ],
   "source": [
    "ssim(grid_soln,u0)"
   ]
  },
  {
   "cell_type": "markdown",
   "metadata": {},
   "source": [
    "$\\textbf{Remarque:}$ On a deja un gros écart en amplitude entre cette reconstruction à l'ordre 0 et l'image initiale avec le masque radial ($10^{-5}$ contre $10^{-8}$)."
   ]
  },
  {
   "cell_type": "markdown",
   "metadata": {},
   "source": [
    "# Definition of functions to compute energy\n",
    "Since S is a nxn diagonal matrix, we won't store it in memory and do all the computations directly with p"
   ]
  },
  {
   "cell_type": "code",
   "execution_count": 9,
   "metadata": {},
   "outputs": [],
   "source": [
    "#constants\n",
    "zeta = 1e10\n",
    "epsilon = 1e-3\n",
    "gamma = 1e-10\n",
    "beta = 100"
   ]
  },
  {
   "cell_type": "code",
   "execution_count": 10,
   "metadata": {},
   "outputs": [],
   "source": [
    "# functions B and G in the paper\n",
    "def b(u):\n",
    "    return np.sum([np.sum([max(0,-z**3)for z in u[i]]) for i in range(len(u))])*zeta\n",
    "def g(u):return np.real(b(u)+epsilon*np.linalg.norm(u)**2/2)"
   ]
  },
  {
   "cell_type": "code",
   "execution_count": 11,
   "metadata": {},
   "outputs": [],
   "source": [
    "# functions J and F2 in the paper\n",
    "# We also compute rho and its first derivative since we will need it later\n",
    "def rho(x):\n",
    "    m = np.absolute(x)\n",
    "    if m<gamma:\n",
    "        return -m*m*m/3/gamma/gamma+m*m/gamma\n",
    "    else:\n",
    "        return m-gamma/3\n",
    "def drho(x):\n",
    "    if x<-gamma:return -1\n",
    "    elif x<0:return x**2/gamma**2+2*x/gamma\n",
    "    elif x<gamma:return -x**2/gamma**2+2*x/gamma\n",
    "    else:return 1\n",
    "    \n",
    "\n",
    "def j(u):\n",
    "    if len(u.shape)==1:\n",
    "        return np.sum([rho(x) for x in u])\n",
    "    else:\n",
    "        return np.sum([np.sum([rho(x) for x in y])for y in u])\n",
    "def f2(w): return pn1*j(w)"
   ]
  },
  {
   "cell_type": "code",
   "execution_count": 12,
   "metadata": {},
   "outputs": [],
   "source": [
    "#function F1 in the paper\n",
    "def R(u):\n",
    "    return np.asarray([[np.real(u[i][j]) for j in range(len(u[0]))]for i in range(len(u))])\n",
    "def Rstar(u):\n",
    "    return np.array([[u[i][j]+0j for j in range(len(u[0]))]for i in range(len(u))])\n",
    "def f1(v):\n",
    "    return 0.5*np.linalg.norm((fourier_op.op(Rstar(v))-y)*p)**2"
   ]
  },
  {
   "cell_type": "code",
   "execution_count": 13,
   "metadata": {},
   "outputs": [],
   "source": [
    "#PENALTY\n",
    "def P(p):\n",
    "    return beta*np.sum([[x*(2-x) for x in p[i]]for i in range(len(p))])"
   ]
  },
  {
   "cell_type": "code",
   "execution_count": 14,
   "metadata": {},
   "outputs": [
    {
     "data": {
      "text/plain": [
       "[<matplotlib.lines.Line2D at 0x7f487e7e8828>]"
      ]
     },
     "execution_count": 14,
     "metadata": {},
     "output_type": "execute_result"
    },
    {
     "data": {
      "image/png": "[encoded data removed]",
      "text/plain": [
       "<Figure size 432x288 with 1 Axes>"
      ]
     },
     "metadata": {
      "needs_background": "light"
     },
     "output_type": "display_data"
    }
   ],
   "source": [
    "#First derivative of rho around 0\n",
    "t = [0.1*i*gamma for i in range(-30,30)]\n",
    "plt.plot(t,[drho(x) for x in t])"
   ]
  },
  {
   "cell_type": "code",
   "execution_count": 15,
   "metadata": {},
   "outputs": [],
   "source": [
    "def energy(u):\n",
    "    return(f1(Rstar(u))+f2(linear_op.op(u))+g(u))"
   ]
  },
  {
   "cell_type": "code",
   "execution_count": 22,
   "metadata": {
    "scrolled": true
   },
   "outputs": [
    {
     "name": "stdout",
     "output_type": "stream",
     "text": [
      "0.0005596378959801517\n",
      "4.3266786830432376e-08\n",
      "0.0005595634601310919\n"
     ]
    }
   ],
   "source": [
    "print(energy(np.zeros(u0_mat.shape)))\n",
    "print(energy(u0_mat))\n",
    "print(energy(2*u0_mat))"
   ]
  },
  {
   "cell_type": "code",
   "execution_count": 23,
   "metadata": {},
   "outputs": [
    {
     "data": {
      "text/plain": [
       "[<matplotlib.lines.Line2D at 0x7f0901c3c898>]"
      ]
     },
     "execution_count": 23,
     "metadata": {},
     "output_type": "execute_result"
    },
    {
     "data": {
      "image/png": "[encoded data removed]",
      "text/plain": [
       "<Figure size 432x288 with 1 Axes>"
      ]
     },
     "metadata": {
      "needs_background": "light"
     },
     "output_type": "display_data"
    }
   ],
   "source": [
    "plt.plot([i/10 for i in range(-10,10)],[g(i*u0_mat/10) for i in range(-10,10)])"
   ]
  },
  {
   "cell_type": "code",
   "execution_count": 27,
   "metadata": {},
   "outputs": [
    {
     "data": {
      "text/plain": [
       "[<matplotlib.lines.Line2D at 0x7f08f40c1358>]"
      ]
     },
     "execution_count": 27,
     "metadata": {},
     "output_type": "execute_result"
    },
    {
     "data": {
      "image/png": "[encoded data removed]",
      "text/plain": [
       "<Figure size 432x288 with 1 Axes>"
      ]
     },
     "metadata": {
      "needs_background": "light"
     },
     "output_type": "display_data"
    }
   ],
   "source": [
    "plt.plot([i/5 for i in range(11)],[energy(i*u0_mat/5)for i in range(11)])"
   ]
  },
  {
   "cell_type": "markdown",
   "metadata": {},
   "source": [
    "# Proximal operators\n",
    "The objective is to find the point minimizing $f_u(x) = F(x)+1/2||x-u||^2$ for a given u and for $F=\\tau F1,\\tau F2,\\tau G$ where $\\tau$ is a given constant.\n",
    "## Proximal operator of F2\n",
    "We want to minimize $f_u(x) = \\tau\\alpha (p)J(|x|)+\\frac{1}{2}||x-u||^2$. As explained in the paper, given the definition of J, we can compute the solution component by component, but the paper expresses $x_i$ in terms of $u_i$ with a constant C that we need to compute. We have in 1D $f_u'(x) = \\tau\\alpha (p)\\frac{x}{|x|}\\rho '(|x|)+x-u$. Since $\\rho '(x)$ depends on if $|x|<\\gamma$ or not, we need to separate these two cases:\n",
    "### |x|>$\\gamma$\n",
    "In this case, $\\rho '(|x|)=1$, so we simply have $(1+\\frac{\\tau\\alpha(p)}{|x|})x=u\\Rightarrow x=(|u|-\\tau\\alpha(p))\\frac{u}{|u|}$. Since we supposed $|x|<\\gamma$ beforehand, this will be true when $|u|>\\tau\\alpha(p)+\\gamma$.\n",
    "### |x|$\\leq\\gamma$\n",
    "From what we just saw, this is equivalent to $|u|\\leq\\tau\\alpha(p)+\\gamma$. This case is a bit more complicated, since now $\\rho '(|x|)=-\\frac{|x|^2}{\\gamma^2}+2\\frac{|x|}{\\gamma}$ and taking the norm on both sides of $\\tau\\alpha (p)\\frac{x}{|x|}\\rho '(|x|)+x-u$ gives us:\n",
    "$$-\\frac{\\tau\\alpha(p)}{\\gamma^2}|x|^2+(1+\\frac{2\\tau\\alpha(p)}{\\gamma})|x|-|u|=0\\\\\n",
    "\\Rightarrow |x| = \\gamma+\\frac{\\gamma^2}{2\\tau\\alpha(p)}(1\\pm\\sqrt{\\Delta})\\\\\n",
    "with\\ \\Delta=1+\\frac{4\\tau\\alpha(p)}{\\gamma^2}(\\gamma+\\tau\\alpha(p)-|u|)$$\n",
    "But since we want $|x|<\\gamma$, the only acceptable solution is $x=\\left(\\gamma+\\frac{\\gamma^2}{2\\tau\\alpha(p)}(1-\\sqrt{\\Delta})\\right)\\frac{u}{|u|}$. Since $|u|\\leq\\tau\\alpha(p)+\\gamma$, we see that $\\Delta>1$, so the condition $|x|\\leq\\gamma$ is verified.\n",
    "\n",
    "## Proximal operator of F1\n",
    "The expression given in the paper is:\n",
    "$$prox_{\\tau F1}(u) = \\mathcal{F}(I+\\tau S(p)^2)^{-1}(\\mathcal{F}u+\\tau S(p)^2y)$$\n",
    "with y the data.\\\\\n",
    "I find a different value when I recompute it: we want to minimize $f_u(x) = \\frac{1}{2}\\tau||S(p)(\\mathcal{F}x-y)||+\\frac{1}{2}||x-u||^2$. When we differentiate, we get:\n",
    "$$f_u(x+h) = f_u(x)+\\tau <S(p)\\mathcal{F}h,S(p)(\\mathcal{F}u-y)> + <h,(x-u)>+o(||h||)$$\n",
    "Since S(p) is diagonal, we have:\n",
    "$$f_u(x+h)-f_u(x) = <\\mathcal{F}h,\\tau S(p)^2(\\mathcal{F}u-y)>+<h,x-u>+o(||h||)\\\\\n",
    "\\Rightarrow \\nabla f_u(x) = \\mathcal{F}^{-1}\\left[\\tau S(p)^2(\\mathcal{F}u-y)\\right]+x-u$$\n",
    "Finally, I find $prox_{\\tau F_1}(u) = u-\\mathcal{F}^{-1}\\left[\\tau S(p)^2(\\mathcal{F}u-y)\\right] = \\mathcal{F}^{-1}\\left[(I-\\tau S(p)^2)\\mathcal{F}u+\\tau S(p)^2y\\right]$\n",
    "\n",
    "\n",
    "## Proximal dual operators\n",
    "We use the Moreau identity to compute the proximal dual operators:\n",
    "$$prox_{\\gamma\\phi ^*}(x) = x-\\gamma prox_{\\phi/\\gamma}(\\frac{x}{\\gamma})$$"
   ]
  },
  {
   "cell_type": "code",
   "execution_count": 21,
   "metadata": {},
   "outputs": [],
   "source": [
    "#Prox_tauG\n",
    "def prox_B(u,c):\n",
    "    return np.asarray([[x/(0.5+np.sqrt(0.25-3*zeta*c*min(0,x)))for x in u[i]]for i in range(len(u))])\n",
    "def prox_G(u,c):\n",
    "    return prox_B(u/(1+epsilon),c/(1+epsilon))"
   ]
  },
  {
   "cell_type": "code",
   "execution_count": 467,
   "metadata": {
    "scrolled": false
   },
   "outputs": [
    {
     "name": "stdout",
     "output_type": "stream",
     "text": [
      "Distance between the two points: 5.12154387821974e-05\n",
      "Ratio (should always be smaller than 1 if v minimises the function as it is supposed to): 0.017802560287458195\n"
     ]
    }
   ],
   "source": [
    "c=50\n",
    "y1 = prox_G(-0.1*u0_mat,c)\n",
    "y2 = y1+np.asarray([[np.random.normal(0,1e-7)for i in range(n2)]for j in range(n1)])\n",
    "\n",
    "r1 = c*g(y1)+0.5*np.linalg.norm(u0_mat-y1)**2\n",
    "r2 = c*g(y2)+0.5*np.linalg.norm(u0_mat-y2)**2\n",
    "print(\"Distance between the two points:\",np.linalg.norm(y1-y2))\n",
    "print(\"Ratio (should always be smaller than 1 if v minimises the function as it is supposed to):\"\n",
    "                  ,np.abs(r1)/np.abs(r2))"
   ]
  },
  {
   "cell_type": "code",
   "execution_count": 22,
   "metadata": {},
   "outputs": [],
   "source": [
    "#Prox_tau/F2\n",
    "def prox_F2(u,c):\n",
    "    n = len(u)\n",
    "    v = np.asarray([0+0j for i in range(n)])\n",
    "    for i in range(n):\n",
    "        mod_u = np.abs(u[i])\n",
    "        if mod_u>c*pn1+gamma:\n",
    "            v[i] = (mod_u-c*pn1)*u[i]/np.abs(u[i])\n",
    "        else:\n",
    "            delta = 1+4*c*pn1/(gamma**2)*(gamma+c*pn1-mod_u)\n",
    "            v[i] = (gamma+gamma**2/(2*c*pn1)*(1-np.sqrt(delta)))*u[i]/np.abs(u[i])\n",
    "    return v\n",
    "def prox_F2_dual(u,c):\n",
    "    return u-c*prox_F2(u/c,1/c)"
   ]
  },
  {
   "cell_type": "code",
   "execution_count": 17,
   "metadata": {
    "scrolled": true
   },
   "outputs": [
    {
     "name": "stdout",
     "output_type": "stream",
     "text": [
      "Distance between the two points: 0.00016569607747124205\n",
      "Ratio (should always be smaller than 1 if v minimises the function as it is supposed to): 0.9999942799268857\n"
     ]
    }
   ],
   "source": [
    "c=2\n",
    "x = np.asarray([1,2,3,4])\n",
    "y1 = prox_F2(x,c)\n",
    "y2 = y1+np.asarray([np.random.normal(0,1e-4)for i in range(4)])\n",
    "\n",
    "r1 = c*f2(y1)+0.5*np.linalg.norm(x-y1)**2\n",
    "r2 = c*f2(y2)+0.5*np.linalg.norm(x-y2)**2\n",
    "print(\"Distance between the two points:\",np.linalg.norm(y1-y2))\n",
    "print(\"Ratio (should always be smaller than 1 if v minimises the function as it is supposed to):\",r1/r2)"
   ]
  },
  {
   "cell_type": "code",
   "execution_count": 23,
   "metadata": {},
   "outputs": [],
   "source": [
    "#prox_tauF1\n",
    "def prox_F1_paper(u,c):\n",
    "    im=(fourier_op.op(u)+c*p*p*y)/(np.ones(y.shape)+c*p*p)\n",
    "    return gridded_inverse_fourier_transform_nd(kspace_loc,im,tuple(grid2D),'linear')\n",
    "\n",
    "def prox_F1(u,c):\n",
    "    im = c*p*p*(fourier_op.op(u)-y)\n",
    "    return u-gridded_inverse_fourier_transform_nd(kspace_loc, im,\n",
    "                                                 tuple(grid2D), 'linear')\n",
    "\n",
    "def prox_F1_dual(u,c):\n",
    "    return u-c*prox_F1(u/c,1/c)\n"
   ]
  },
  {
   "cell_type": "code",
   "execution_count": 421,
   "metadata": {},
   "outputs": [
    {
     "name": "stdout",
     "output_type": "stream",
     "text": [
      "Distance between the two points: 0.0005118717344431965\n",
      "Ratio (should always be smaller than 1 if v minimises the function as it is supposed to): 0.17330281804864242\n"
     ]
    }
   ],
   "source": [
    "c=6\n",
    "k=1\n",
    "y1 = prox_F1(k*u0_mat,c)\n",
    "y2 = y1+np.asarray([[np.random.normal(0,1e-6)for i in range(n2)]for j in range(n1)])\n",
    "y3 = prox_F1_paper(u0_mat,c)\n",
    "\n",
    "\n",
    "r1 = c*f1(y1)+0.5*np.linalg.norm(k*u0_mat-y1)**2\n",
    "r2 = c*f1(y2)+0.5*np.linalg.norm(k*u0_mat-y2)**2\n",
    "r3 = c*f1(y3)+0.5*np.linalg.norm(k*u0_mat-y3)**2\n",
    "print(\"Distance between the two points:\",np.linalg.norm(y1-y2))\n",
    "print(\"Ratio (should always be smaller than 1 if v minimises the function as it is supposed to):\",r1/r2)"
   ]
  },
  {
   "cell_type": "markdown",
   "metadata": {},
   "source": [
    "# Test with only one regulariser\n",
    "We only use F1 and G.\n",
    "Use undecimated for linear_op to compare to Condat-Vu."
   ]
  },
  {
   "cell_type": "code",
   "execution_count": 60,
   "metadata": {},
   "outputs": [],
   "source": [
    "#constants\n",
    "L=5\n",
    "eta = 1\n",
    "mu = 2*np.sqrt(epsilon/(1+L*L)/eta)\n",
    "tau = mu/2/epsilon\n",
    "sigma = mu*eta/2\n",
    "theta = 1/(1+mu)\n",
    "\n",
    "maxit = 20\n",
    "tol = 1e-4"
   ]
  },
  {
   "cell_type": "code",
   "execution_count": 61,
   "metadata": {},
   "outputs": [],
   "source": [
    "def step_test(uk,vk,uk_bar):\n",
    "    vk1 = prox_F1_dual(vk+sigma*uk_bar,sigma)\n",
    "    uk1 = prox_G(uk-tau*R(vk1),tau)\n",
    "    uk_bar1 = uk1+theta*(uk-uk1)\n",
    "\n",
    "    norm = np.linalg.norm(uk1-uk)/np.linalg.norm(uk)\n",
    "    norm += (np.linalg.norm(vk1-vk))/(np.linalg.norm(vk))\n",
    "    return uk1,vk1,uk_bar1,norm"
   ]
  },
  {
   "cell_type": "code",
   "execution_count": 62,
   "metadata": {},
   "outputs": [],
   "source": [
    "#initialisation\n",
    "n_iter = 0\n",
    "uk = gridded_inverse_fourier_transform_nd(kspace_loc, y,\n",
    "                                                 tuple(grid2D), 'linear')\n",
    "image_rec0 = pysap.Image(data=np.abs(uk))\n",
    "#image_rec0.show()\n",
    "#print(ssim(uk,u0_mat))"
   ]
  },
  {
   "cell_type": "code",
   "execution_count": 63,
   "metadata": {
    "scrolled": true
   },
   "outputs": [
    {
     "name": "stdout",
     "output_type": "stream",
     "text": [
      "Base ssim: 0.6489807567408439 \n",
      "Base cost: 0.0005559192712636503\n",
      "1  iterations:\n",
      "Cost: 0.0005389674488618788 \n",
      "ssim: 0.7193763639319817 \n",
      "Norm: 5.074610610462129 \n",
      "\n",
      "2  iterations:\n",
      "Cost: 0.0005093083992541233 \n",
      "ssim: 0.6376382652506446 \n",
      "Norm: 3.2720494937318536 \n",
      "\n",
      "3  iterations:\n",
      "Cost: 0.00047902625611152827 \n",
      "ssim: 0.6403404509231905 \n",
      "Norm: 1.473147925555046 \n",
      "\n",
      "4  iterations:\n",
      "Cost: 0.00045105397419739206 \n",
      "ssim: 0.637656327560314 \n",
      "Norm: 0.9265410307549944 \n",
      "\n",
      "5  iterations:\n",
      "Cost: 0.0004260680263400022 \n",
      "ssim: 0.6179869205126369 \n",
      "Norm: 0.6644285741391849 \n",
      "\n",
      "6  iterations:\n",
      "Cost: 0.000403912840513535 \n",
      "ssim: 0.5995453264159772 \n",
      "Norm: 0.5048322758665181 \n",
      "\n",
      "7  iterations:\n",
      "Cost: 0.0003844064801003548 \n",
      "ssim: 0.5854566054209868 \n",
      "Norm: 0.3992356646267402 \n",
      "\n",
      "8  iterations:\n",
      "Cost: 0.0003674151595948877 \n",
      "ssim: 0.574706690477997 \n",
      "Norm: 0.32729827786048243 \n",
      "\n",
      "9  iterations:\n",
      "Cost: 0.0003528542756758508 \n",
      "ssim: 0.56624542025982 \n",
      "Norm: 0.2770632789069851 \n",
      "\n",
      "10  iterations:\n",
      "Cost: 0.00034057967510959776 \n",
      "ssim: 0.5596899423319769 \n",
      "Norm: 0.24377914440889364 \n",
      "\n",
      "11  iterations:\n",
      "Cost: 0.0003304041189184017 \n",
      "ssim: 0.5547546808718997 \n",
      "Norm: 0.22158757529311912 \n",
      "\n",
      "12  iterations:\n",
      "Cost: 0.00032211206630476674 \n",
      "ssim: 0.5511774402538466 \n",
      "Norm: 0.2057178680882666 \n",
      "\n",
      "13  iterations:\n",
      "Cost: 0.0003154802639282543 \n",
      "ssim: 0.5487336891743924 \n",
      "Norm: 0.1946968337918127 \n",
      "\n",
      "14  iterations:\n",
      "Cost: 0.00031029973491990563 \n",
      "ssim: 0.547223587841921 \n",
      "Norm: 0.18697275516387463 \n",
      "\n",
      "15  iterations:\n",
      "Cost: 0.0003063792366548802 \n",
      "ssim: 0.5464619539136204 \n",
      "Norm: 0.18039341902634387 \n",
      "\n",
      "16  iterations:\n",
      "Cost: 0.00030353081733782176 \n",
      "ssim: 0.5462985797471633 \n",
      "Norm: 0.17371884160734574 \n",
      "\n",
      "17  iterations:\n",
      "Cost: 0.0003015831618366038 \n",
      "ssim: 0.5465585010099132 \n",
      "Norm: 0.1666485299124486 \n",
      "\n",
      "18  iterations:\n",
      "Cost: 0.00030037886565143315 \n",
      "ssim: 0.5470479999400857 \n",
      "Norm: 0.15870169301815143 \n",
      "\n",
      "19  iterations:\n",
      "Cost: 0.00029977248904892886 \n",
      "ssim: 0.5475531788873788 \n",
      "Norm: 0.14908407386515668 \n",
      "\n",
      "20  iterations:\n",
      "Cost: 0.0002996290286726769 \n",
      "ssim: 0.5478222022285705 \n",
      "Norm: 0.13771348863968996 \n",
      "\n",
      "21  iterations:\n",
      "Cost: 0.0002998218739680358 \n",
      "ssim: 0.5476017092264192 \n",
      "Norm: 0.12534630424962165 \n",
      "\n",
      "22  iterations:\n",
      "Cost: 0.0003002280531990312 \n",
      "ssim: 0.5466439778141113 \n",
      "Norm: 0.1130847239485023 \n",
      "\n",
      "23  iterations:\n",
      "Cost: 0.00030073218974559777 \n",
      "ssim: 0.544701009339854 \n",
      "Norm: 0.10208268197430129 \n",
      "\n",
      "24  iterations:\n",
      "Cost: 0.0003012308861207452 \n",
      "ssim: 0.5415602075211254 \n",
      "Norm: 0.09343144003458649 \n",
      "\n",
      "25  iterations:\n",
      "Cost: 0.00030163073289193437 \n",
      "ssim: 0.537081517715608 \n",
      "Norm: 0.08790235382960385 \n",
      "\n",
      "26  iterations:\n",
      "Cost: 0.0003018503138142501 \n",
      "ssim: 0.5312679906283173 \n",
      "Norm: 0.08546040901029339 \n",
      "\n",
      "27  iterations:\n",
      "Cost: 0.00030182482519025214 \n",
      "ssim: 0.524251887302298 \n",
      "Norm: 0.08512047557048266 \n",
      "\n",
      "28  iterations:\n",
      "Cost: 0.00030150410173513336 \n",
      "ssim: 0.516683424544657 \n",
      "Norm: 0.08553357980076512 \n",
      "\n",
      "29  iterations:\n",
      "Cost: 0.00030085529264972834 \n",
      "ssim: 0.5090082363523459 \n",
      "Norm: 0.08564607619405665 \n",
      "\n",
      "30  iterations:\n",
      "Cost: 0.0002998637402849448 \n",
      "ssim: 0.5046242559966662 \n",
      "Norm: 0.08487380193133065 \n",
      "\n",
      "31  iterations:\n",
      "Cost: 0.0002985325616310341 \n",
      "ssim: 0.5030574242115882 \n",
      "Norm: 0.08300435655922454 \n",
      "\n",
      "32  iterations:\n",
      "Cost: 0.00029687836424522956 \n",
      "ssim: 0.5022484974516433 \n",
      "Norm: 0.08010784791760976 \n",
      "\n",
      "33  iterations:\n",
      "Cost: 0.0002949318868852032 \n",
      "ssim: 0.5022668719573034 \n",
      "Norm: 0.07645100871452466 \n",
      "\n",
      "34  iterations:\n",
      "Cost: 0.00029273451934959995 \n",
      "ssim: 0.502233682583046 \n",
      "Norm: 0.07231831678753627 \n",
      "\n",
      "35  iterations:\n",
      "Cost: 0.00029033261946750824 \n",
      "ssim: 0.5023040824074687 \n",
      "Norm: 0.0678306305765714 \n",
      "\n",
      "36  iterations:\n",
      "Cost: 0.0002877776651924571 \n",
      "ssim: 0.5024379477387192 \n",
      "Norm: 0.06295822497032401 \n",
      "\n",
      "37  iterations:\n",
      "Cost: 0.00028512183796308374 \n",
      "ssim: 0.5023876570505948 \n",
      "Norm: 0.057710976756228174 \n",
      "\n",
      "38  iterations:\n",
      "Cost: 0.00028241551829818735 \n",
      "ssim: 0.5021084859629001 \n",
      "Norm: 0.052266794595492355 \n",
      "\n",
      "39  iterations:\n",
      "Cost: 0.0002797060991295964 \n",
      "ssim: 0.5015677502574456 \n",
      "Norm: 0.04699209252588546 \n",
      "\n",
      "40  iterations:\n",
      "Cost: 0.0002770361837675785 \n",
      "ssim: 0.500757459188383 \n",
      "Norm: 0.042415119010884114 \n",
      "\n",
      "41  iterations:\n",
      "Cost: 0.0002744417034438633 \n",
      "ssim: 0.4996772850985645 \n",
      "Norm: 0.03913682098519479 \n",
      "\n",
      "42  iterations:\n",
      "Cost: 0.00027195172330603544 \n",
      "ssim: 0.4990518184068784 \n",
      "Norm: 0.03752986689217122 \n",
      "\n",
      "43  iterations:\n",
      "Cost: 0.0002695894642397267 \n",
      "ssim: 0.5012865503988524 \n",
      "Norm: 0.037388844866323934 \n",
      "\n",
      "44  iterations:\n",
      "Cost: 0.00026737131949246956 \n",
      "ssim: 0.503083333153417 \n",
      "Norm: 0.038055110260768035 \n",
      "\n",
      "45  iterations:\n",
      "Cost: 0.0002653075784066713 \n",
      "ssim: 0.504392995520044 \n",
      "Norm: 0.03887002714953092 \n",
      "\n",
      "46  iterations:\n",
      "Cost: 0.00026340311499817363 \n",
      "ssim: 0.5051866494728249 \n",
      "Norm: 0.03940812129808471 \n",
      "\n",
      "47  iterations:\n",
      "Cost: 0.00026165757437077023 \n",
      "ssim: 0.5054503860928421 \n",
      "Norm: 0.03946097340223733 \n",
      "\n",
      "48  iterations:\n",
      "Cost: 0.00026006653615170315 \n",
      "ssim: 0.5051821693823628 \n",
      "Norm: 0.03897250872215297 \n",
      "\n",
      "49  iterations:\n",
      "Cost: 0.0002586218314069288 \n",
      "ssim: 0.5043895013254975 \n",
      "Norm: 0.037978932451926274 \n",
      "\n",
      "50  iterations:\n",
      "Cost: 0.00025731243563132495 \n",
      "ssim: 0.5030852367773363 \n",
      "Norm: 0.03655606640551651 \n",
      "\n",
      "51  iterations:\n",
      "Cost: 0.0002561249014106027 \n",
      "ssim: 0.5012899473187044 \n",
      "Norm: 0.03477384596167975 \n",
      "\n",
      "52  iterations:\n",
      "Cost: 0.00025504444704700695 \n",
      "ssim: 0.4990306128552378 \n",
      "Norm: 0.032681000684767106 \n",
      "\n",
      "53  iterations:\n",
      "Cost: 0.00025405516675695584 \n",
      "ssim: 0.4963457303793327 \n",
      "Norm: 0.030324801154990894 \n",
      "\n",
      "54  iterations:\n",
      "Cost: 0.00025314015128977466 \n",
      "ssim: 0.49327893982381965 \n",
      "Norm: 0.027784040807769465 \n",
      "\n",
      "55  iterations:\n",
      "Cost: 0.00025228212596123373 \n",
      "ssim: 0.489891315535225 \n",
      "Norm: 0.025191037250392442 \n",
      "\n",
      "56  iterations:\n",
      "Cost: 0.0002514646674721629 \n",
      "ssim: 0.4862512660050687 \n",
      "Norm: 0.02274809333319726 \n",
      "\n",
      "57  iterations:\n",
      "Cost: 0.0002506722901020952 \n",
      "ssim: 0.4824356750145482 \n",
      "Norm: 0.020728110977957483 \n",
      "\n",
      "58  iterations:\n",
      "Cost: 0.0002498903548434956 \n",
      "ssim: 0.4785305585654314 \n",
      "Norm: 0.01942063822922823 \n",
      "\n",
      "59  iterations:\n",
      "Cost: 0.0002491059449877457 \n",
      "ssim: 0.47607511478761055 \n",
      "Norm: 0.018968051577021538 \n",
      "\n",
      "60  iterations:\n",
      "Cost: 0.0002483076293914033 \n",
      "ssim: 0.4751731311202168 \n",
      "Norm: 0.01920715097792766 \n",
      "\n",
      "61  iterations:\n",
      "Cost: 0.000247486509540544 \n",
      "ssim: 0.4742605823815314 \n",
      "Norm: 0.01978740306988662 \n",
      "\n",
      "62  iterations:\n",
      "Cost: 0.0002466358080625578 \n",
      "ssim: 0.4733424168776977 \n",
      "Norm: 0.02039608264749645 \n",
      "\n",
      "63  iterations:\n",
      "Cost: 0.0002457506562768416 \n",
      "ssim: 0.47241734619791226 \n",
      "Norm: 0.020838927661034335 \n",
      "\n",
      "64  iterations:\n",
      "Cost: 0.00024482863706370235 \n",
      "ssim: 0.47148851790663526 \n",
      "Norm: 0.02102398431216085 \n",
      "\n",
      "65  iterations:\n",
      "Cost: 0.0002438693988826709 \n",
      "ssim: 0.4706908212454372 \n",
      "Norm: 0.02092076478644076 \n",
      "\n",
      "66  iterations:\n",
      "Cost: 0.00024287461249954196 \n",
      "ssim: 0.46995886452195273 \n",
      "Norm: 0.020537841535453825 \n",
      "\n",
      "67  iterations:\n",
      "Cost: 0.00024184732750843002 \n",
      "ssim: 0.4692114755400169 \n",
      "Norm: 0.01990267796377676 \n",
      "\n",
      "68  iterations:\n",
      "Cost: 0.0002407916384052271 \n",
      "ssim: 0.4684499947683144 \n",
      "Norm: 0.019050343960239084 \n",
      "\n",
      "69  iterations:\n",
      "Cost: 0.00023971310362430154 \n",
      "ssim: 0.46767316636721434 \n",
      "Norm: 0.018022431803215867 \n",
      "\n",
      "70  iterations:\n",
      "Cost: 0.00023861788267474481 \n",
      "ssim: 0.46688516284871595 \n",
      "Norm: 0.016867617615124834 \n",
      "\n",
      "71  iterations:\n",
      "Cost: 0.00023751239663611433 \n",
      "ssim: 0.46608404925663177 \n",
      "Norm: 0.015647587813517487 \n",
      "\n",
      "72  iterations:\n",
      "Cost: 0.00023640320998176726 \n",
      "ssim: 0.46527239230650197 \n",
      "Norm: 0.014443793857787535 \n",
      "\n",
      "73  iterations:\n",
      "Cost: 0.0002352965773846108 \n",
      "ssim: 0.4644500840098181 \n",
      "Norm: 0.013355340867874932 \n",
      "\n",
      "74  iterations:\n",
      "Cost: 0.0002341983096055534 \n",
      "ssim: 0.463981133690733 \n",
      "Norm: 0.012496849283035762 \n",
      "\n",
      "75  iterations:\n",
      "Cost: 0.00023311390875536942 \n",
      "ssim: 0.46376280681639914 \n",
      "Norm: 0.011964999019546643 \n",
      "\n",
      "76  iterations:\n",
      "Cost: 0.00023204795435262767 \n",
      "ssim: 0.46353767423406106 \n",
      "Norm: 0.011784467584769252 \n",
      "\n",
      "77  iterations:\n",
      "Cost: 0.0002310044552022682 \n",
      "ssim: 0.4633032382772762 \n",
      "Norm: 0.01188416179456888 \n",
      "\n",
      "78  iterations:\n",
      "Cost: 0.0002299864371880391 \n",
      "ssim: 0.46306219945620714 \n",
      "Norm: 0.012137507977291496 \n",
      "\n",
      "79  iterations:\n",
      "Cost: 0.00022899572225035472 \n",
      "ssim: 0.46281379636542525 \n",
      "Norm: 0.01242261006696371 \n",
      "\n",
      "80  iterations:\n",
      "Cost: 0.0002280336032037749 \n",
      "ssim: 0.46255970166286575 \n",
      "Norm: 0.01265546924736942 \n",
      "\n",
      "81  iterations:\n",
      "Cost: 0.0002271005133463296 \n",
      "ssim: 0.46229927557117706 \n",
      "Norm: 0.012786982252744775 \n",
      "\n",
      "82  iterations:\n",
      "Cost: 0.00022619606534961657 \n",
      "ssim: 0.46203366027464016 \n",
      "Norm: 0.012794211825579466 \n",
      "\n"
     ]
    },
    {
     "name": "stdout",
     "output_type": "stream",
     "text": [
      "83  iterations:\n",
      "Cost: 0.0002253192951115808 \n",
      "ssim: 0.46176232421262664 \n",
      "Norm: 0.012672806912207565 \n",
      "\n",
      "84  iterations:\n",
      "Cost: 0.00022446856212337573 \n",
      "ssim: 0.4614857568286604 \n",
      "Norm: 0.012430115981417201 \n",
      "\n",
      "85  iterations:\n",
      "Cost: 0.0002236418595312953 \n",
      "ssim: 0.46120441818126756 \n",
      "Norm: 0.01208228179294229 \n",
      "\n",
      "86  iterations:\n",
      "Cost: 0.00022283675711967733 \n",
      "ssim: 0.46091746687729535 \n",
      "Norm: 0.01165349237445533 \n",
      "\n",
      "87  iterations:\n",
      "Cost: 0.00022205063680741616 \n",
      "ssim: 0.46062468819192465 \n",
      "Norm: 0.011174844942000321 \n",
      "\n",
      "88  iterations:\n",
      "Cost: 0.00022128056969585144 \n",
      "ssim: 0.4603259039944492 \n",
      "Norm: 0.010682293788871207 \n",
      "\n",
      "89  iterations:\n",
      "Cost: 0.0002205236755547863 \n",
      "ssim: 0.46002169451618596 \n",
      "Norm: 0.010216306820393688 \n",
      "\n",
      "90  iterations:\n",
      "Cost: 0.00021977722155940637 \n",
      "ssim: 0.4597108025341324 \n",
      "Norm: 0.009818760647080742 \n",
      "\n",
      "91  iterations:\n",
      "Cost: 0.0002190385571113805 \n",
      "ssim: 0.4593926403074719 \n",
      "Norm: 0.009524215179465622 \n",
      "\n",
      "92  iterations:\n",
      "Cost: 0.00021830504264509155 \n",
      "ssim: 0.45906744766580754 \n",
      "Norm: 0.009350170767863975 \n",
      "\n",
      "93  iterations:\n",
      "Cost: 0.00021757460116380914 \n",
      "ssim: 0.45873573614030483 \n",
      "Norm: 0.009291029230220696 \n",
      "\n",
      "94  iterations:\n",
      "Cost: 0.00021684524909757846 \n",
      "ssim: 0.4583964548611349 \n",
      "Norm: 0.009320440282939588 \n",
      "\n",
      "95  iterations:\n",
      "Cost: 0.0002161154541021806 \n",
      "ssim: 0.4580499388068036 \n",
      "Norm: 0.009399600321208802 \n",
      "\n",
      "96  iterations:\n",
      "Cost: 0.0002153841174498159 \n",
      "ssim: 0.45769634931506525 \n",
      "Norm: 0.009492221086549978 \n",
      "\n",
      "97  iterations:\n",
      "Cost: 0.00021465040010748982 \n",
      "ssim: 0.45733528576534804 \n",
      "Norm: 0.009568203590209674 \n",
      "\n",
      "98  iterations:\n",
      "Cost: 0.00021391379732568452 \n",
      "ssim: 0.45696720592957707 \n",
      "Norm: 0.009608727942971507 \n",
      "\n",
      "99  iterations:\n",
      "Cost: 0.00021317420957291716 \n",
      "ssim: 0.45659184673373865 \n",
      "Norm: 0.009602596317016106 \n",
      "\n",
      "100  iterations:\n",
      "Cost: 0.00021243184323527242 \n",
      "ssim: 0.45620993681557603 \n",
      "Norm: 0.009546840090910946 \n",
      "\n",
      "Final ssim after  100  iterations: 0.45620993681557603\n"
     ]
    }
   ],
   "source": [
    "vk = np.copy(uk)\n",
    "wk = linear_op.op(u0_mat)\n",
    "uk_bar = np.copy(uk)\n",
    "norm = 2*tol\n",
    "energies = []\n",
    "norms = []\n",
    "\n",
    "print(\"Base ssim:\",ssim(uk,u0_mat), \"\\nBase cost:\", energy(uk))\n",
    "while n_iter<100:\n",
    "    uk,vk,uk_bar,norm = step_test(uk,vk,uk_bar)\n",
    "    n_iter += 1\n",
    "    energies.append(f1(uk)+g(uk))\n",
    "    norms.append(norm)\n",
    "    print(n_iter,\" iterations:\\nCost:\",f1(uk)+g(uk),\"\\nssim:\",ssim(uk,u0_mat),\"\\nNorm:\",norm,\"\\n\")\n",
    "print(\"Final ssim after \",n_iter,\" iterations:\",ssim(uk,u0_mat))"
   ]
  },
  {
   "cell_type": "code",
   "execution_count": 240,
   "metadata": {},
   "outputs": [
    {
     "name": "stdout",
     "output_type": "stream",
     "text": [
      "Valeur de la fonction de cout en u0: 5.200205388503879e-08\n"
     ]
    }
   ],
   "source": [
    "print(\"Valeur de la fonction de cout en u0:\",f1(u0_mat)+g(u0_mat))"
   ]
  },
  {
   "cell_type": "code",
   "execution_count": 51,
   "metadata": {},
   "outputs": [
    {
     "name": "stdout",
     "output_type": "stream",
     "text": [
      "0.6524097364972687\n"
     ]
    }
   ],
   "source": [
    "#Final image\n",
    "image_rec = pysap.Image(data=np.abs(uk))\n",
    "print(ssim(uk,u0_mat))\n",
    "image_rec.show()"
   ]
  },
  {
   "cell_type": "code",
   "execution_count": 64,
   "metadata": {
    "scrolled": true
   },
   "outputs": [
    {
     "data": {
      "image/png": "[encoded data removed]",
      "text/plain": [
       "<Figure size 432x288 with 1 Axes>"
      ]
     },
     "metadata": {
      "needs_background": "light"
     },
     "output_type": "display_data"
    }
   ],
   "source": [
    "plt.plot(energies)\n",
    "plt.yscale(\"log\")"
   ]
  },
  {
   "cell_type": "markdown",
   "metadata": {},
   "source": [
    "# Implementation of the PDHG algorithm"
   ]
  },
  {
   "cell_type": "code",
   "execution_count": 17,
   "metadata": {},
   "outputs": [],
   "source": [
    "#constants\n",
    "L=5\n",
    "eta = max(np.amax(p)**2,pn1*j(np.reshape(u0_mat,(n1*n2,1))))\n",
    "mu = 2*np.sqrt(epsilon/(1+L*L)/eta)\n",
    "tau = mu/2/epsilon\n",
    "sigma = mu*eta/2\n",
    "theta = 1/(1+mu)\n",
    "\n",
    "maxit = 20\n",
    "tol = 1e-4"
   ]
  },
  {
   "cell_type": "code",
   "execution_count": 18,
   "metadata": {},
   "outputs": [],
   "source": [
    "def step(uk,vk,wk,uk_bar):\n",
    "    vk1 = prox_F1_dual(vk+sigma*uk_bar,sigma)\n",
    "    wk1 = prox_F2_dual(wk+sigma*linear_op.op(uk_bar),sigma)\n",
    "    uk1 = prox_G(uk-tau*R(vk1)-tau*linear_op.adj_op(wk1),tau)\n",
    "    uk_bar1 = uk1+theta*(uk-uk1)\n",
    "\n",
    "    norm = np.linalg.norm(uk1-uk)/np.linalg.norm(uk)\n",
    "    norm += (np.linalg.norm(vk1-vk)+np.linalg.norm(wk1-wk))/(np.linalg.norm(vk)+np.linalg.norm(wk))\n",
    "    return uk1,vk1,wk1,uk_bar1,norm"
   ]
  },
  {
   "cell_type": "code",
   "execution_count": 19,
   "metadata": {},
   "outputs": [],
   "source": [
    "#initialisation\n",
    "n_iter = 0\n",
    "uk = gridded_inverse_fourier_transform_nd(kspace_loc, y,\n",
    "                                                 tuple(grid2D), 'linear')\n",
    "image_rec0 = pysap.Image(data=np.abs(uk))\n",
    "#image_rec0.show()\n",
    "#print(ssim(uk,u0_mat))"
   ]
  },
  {
   "cell_type": "code",
   "execution_count": 40,
   "metadata": {
    "scrolled": true
   },
   "outputs": [
    {
     "name": "stdout",
     "output_type": "stream",
     "text": [
      "Base ssim: 0.6489807567408439 \n",
      "Base cost: 0.0005559192714338876\n",
      "1  iterations:\n",
      "Cost: 0.0005457901900165798 \n",
      "ssim: 0.21684053835958073 \n",
      "Norm: 3.065591020336996 \n",
      "\n",
      "2  iterations:\n",
      "Cost: 0.0005329424256907362 \n",
      "ssim: 0.24960176888611235 \n",
      "Norm: 1.4527600228402604 \n",
      "\n",
      "3  iterations:\n",
      "Cost: 0.0005202388444210074 \n",
      "ssim: 0.2884781738373614 \n",
      "Norm: 0.6562455096256699 \n",
      "\n",
      "4  iterations:\n",
      "Cost: 0.0005080128970873927 \n",
      "ssim: 0.31516173230900574 \n",
      "Norm: 0.4003542940111786 \n",
      "\n",
      "5  iterations:\n",
      "Cost: 0.000496311270491126 \n",
      "ssim: 0.33543484953943825 \n",
      "Norm: 0.28984198194919014 \n",
      "\n",
      "6  iterations:\n",
      "Cost: 0.0004851516668442366 \n",
      "ssim: 0.35317395807198204 \n",
      "Norm: 0.23654175698117955 \n",
      "\n",
      "7  iterations:\n",
      "Cost: 0.00047453469192710755 \n",
      "ssim: 0.3713275551320515 \n",
      "Norm: 0.2071133480417054 \n",
      "\n",
      "8  iterations:\n",
      "Cost: 0.00046444755383969697 \n",
      "ssim: 0.39211035155773877 \n",
      "Norm: 0.18864545979654695 \n",
      "\n",
      "9  iterations:\n",
      "Cost: 0.0004548687928217819 \n",
      "ssim: 0.41680436078287614 \n",
      "Norm: 0.17592909999460601 \n",
      "\n",
      "10  iterations:\n",
      "Cost: 0.00044577266163829893 \n",
      "ssim: 0.44613475518050455 \n",
      "Norm: 0.16598300064381794 \n",
      "\n",
      "11  iterations:\n",
      "Cost: 0.0004371309357134712 \n",
      "ssim: 0.4801592336847504 \n",
      "Norm: 0.15667604889315734 \n",
      "\n",
      "12  iterations:\n",
      "Cost: 0.00042891405332966053 \n",
      "ssim: 0.518186111716225 \n",
      "Norm: 0.14660783896751278 \n",
      "\n",
      "13  iterations:\n",
      "Cost: 0.00042109217195432364 \n",
      "ssim: 0.5581220480503567 \n",
      "Norm: 0.13528543404379484 \n",
      "\n",
      "14  iterations:\n",
      "Cost: 0.00041363555881183343 \n",
      "ssim: 0.5969739196324364 \n",
      "Norm: 0.1227910439213929 \n",
      "\n",
      "15  iterations:\n",
      "Cost: 0.00040651515605498413 \n",
      "ssim: 0.6310714958184727 \n",
      "Norm: 0.10986786165916326 \n",
      "\n",
      "Final ssim after  15  iterations: 0.6310714958184727\n"
     ]
    }
   ],
   "source": [
    "vk = np.copy(uk)\n",
    "wk = linear_op.op(u0_mat)\n",
    "uk_bar = np.copy(uk)\n",
    "norm = 2*tol\n",
    "print(\"Base ssim:\",ssim(uk,u0_mat), \"\\nBase cost:\", energy(uk))\n",
    "while n_iter<15 and norm>tol:\n",
    "    uk,vk,wk,uk_bar,norm = step(uk,vk,wk,uk_bar)\n",
    "    n_iter += 1\n",
    "    print(n_iter,\" iterations:\\nCost:\",energy(uk),\"\\nssim:\",ssim(uk,u0_mat),\"\\nNorm:\",norm,\"\\n\")\n",
    "print(\"Final ssim after \",n_iter,\" iterations:\",ssim(uk,u0_mat))"
   ]
  },
  {
   "cell_type": "code",
   "execution_count": 41,
   "metadata": {
    "scrolled": true
   },
   "outputs": [
    {
     "name": "stdout",
     "output_type": "stream",
     "text": [
      "0.6310714958184727\n"
     ]
    }
   ],
   "source": [
    "#Final image\n",
    "image_rec = pysap.Image(data=np.abs(uk))\n",
    "print(ssim(uk,u0_mat))\n",
    "image_rec.show()"
   ]
  },
  {
   "cell_type": "markdown",
   "metadata": {},
   "source": [
    "## Convergence"
   ]
  },
  {
   "cell_type": "code",
   "execution_count": 26,
   "metadata": {
    "scrolled": true
   },
   "outputs": [
    {
     "name": "stdout",
     "output_type": "stream",
     "text": [
      "iterations completed:  1\n",
      "iterations completed:  2\n",
      "iterations completed:  3\n",
      "iterations completed:  4\n",
      "iterations completed:  5\n",
      "iterations completed:  6\n",
      "iterations completed:  7\n",
      "iterations completed:  8\n",
      "iterations completed:  9\n",
      "iterations completed:  10\n",
      "iterations completed:  11\n",
      "iterations completed:  12\n",
      "iterations completed:  13\n",
      "iterations completed:  14\n",
      "iterations completed:  15\n",
      "iterations completed:  16\n",
      "iterations completed:  17\n",
      "iterations completed:  18\n",
      "iterations completed:  19\n",
      "iterations completed:  20\n"
     ]
    }
   ],
   "source": [
    "t = [i for i in range(11)]\n",
    "uk = gridded_inverse_fourier_transform_nd(kspace_loc, y,\n",
    "                                                 tuple(grid2D), 'linear')\n",
    "vk = np.copy(uk)\n",
    "wk = linear_op.op(u0_mat)\n",
    "uk_bar = np.copy(uk)\n",
    "ssims = [ssim(uk,u0)]\n",
    "norms = []\n",
    "energies = []\n",
    "for i in range(20):\n",
    "    uk1,vk1,wk1,uk_bar,norm = step(uk,vk,wk,uk_bar)\n",
    "    norms.append(np.linalg.norm(uk1-uk)/np.linalg.norm(uk)+\n",
    "                 (np.linalg.norm(vk1-vk)+np.linalg.norm(wk1-wk))/(np.linalg.norm(vk)+np.linalg.norm(wk)))\n",
    "    uk,vk,wk = uk1,vk1,wk1\n",
    "    ssims.append(ssim(uk,u0))\n",
    "    energies.append(energy(uk))\n",
    "    print(\"iterations completed: \",i+1)"
   ]
  },
  {
   "cell_type": "code",
   "execution_count": 27,
   "metadata": {
    "scrolled": true
   },
   "outputs": [
    {
     "data": {
      "image/png": "[encoded data removed]",
      "text/plain": [
       "<Figure size 432x288 with 1 Axes>"
      ]
     },
     "metadata": {
      "needs_background": "light"
     },
     "output_type": "display_data"
    }
   ],
   "source": [
    "plt.plot(norms)\n",
    "plt.yscale(\"log\")"
   ]
  },
  {
   "cell_type": "code",
   "execution_count": 28,
   "metadata": {
    "scrolled": true
   },
   "outputs": [
    {
     "data": {
      "text/plain": [
       "[<matplotlib.lines.Line2D at 0x7f48423ad438>]"
      ]
     },
     "execution_count": 28,
     "metadata": {},
     "output_type": "execute_result"
    },
    {
     "data": {
      "image/png": "[encoded data removed]",
      "text/plain": [
       "<Figure size 432x288 with 1 Axes>"
      ]
     },
     "metadata": {
      "needs_background": "light"
     },
     "output_type": "display_data"
    }
   ],
   "source": [
    "plt.plot([t for t in range(21)],ssims)"
   ]
  },
  {
   "cell_type": "code",
   "execution_count": 29,
   "metadata": {
    "scrolled": true
   },
   "outputs": [
    {
     "data": {
      "text/plain": [
       "[<matplotlib.lines.Line2D at 0x7f48480b6ef0>]"
      ]
     },
     "execution_count": 29,
     "metadata": {},
     "output_type": "execute_result"
    },
    {
     "data": {
      "image/png": "[encoded data removed]",
      "text/plain": [
       "<Figure size 432x288 with 1 Axes>"
      ]
     },
     "metadata": {
      "needs_background": "light"
     },
     "output_type": "display_data"
    }
   ],
   "source": [
    "plt.plot(energies)"
   ]
  },
  {
   "cell_type": "markdown",
   "metadata": {},
   "source": [
    "Tester avec operateur fourier correspondant au gradient de F1 pour tester avec algos pysap. Passer partie reelle des donnees. Proximity_combo dans modopt pour somme des prox."
   ]
  },
  {
   "cell_type": "code",
   "execution_count": 30,
   "metadata": {},
   "outputs": [
    {
     "name": "stdout",
     "output_type": "stream",
     "text": [
      "0.5865426457507183\n"
     ]
    }
   ],
   "source": [
    "#Final image\n",
    "image_rec0 = pysap.Image(data=np.abs(uk))\n",
    "print(ssims[-1])\n",
    "image_rec0.show()"
   ]
  },
  {
   "cell_type": "code",
   "execution_count": 34,
   "metadata": {},
   "outputs": [
    {
     "data": {
      "text/plain": [
       "<matplotlib.image.AxesImage at 0x7f48424cb940>"
      ]
     },
     "execution_count": 34,
     "metadata": {},
     "output_type": "execute_result"
    },
    {
     "data": {
      "image/png": "[encoded data removed]",
      "text/plain": [
       "<Figure size 432x288 with 1 Axes>"
      ]
     },
     "metadata": {
      "needs_background": "light"
     },
     "output_type": "display_data"
    }
   ],
   "source": [
    "plt.imshow(np.abs(uk),cmap='gray')"
   ]
  },
  {
   "cell_type": "markdown",
   "metadata": {},
   "source": [
    "# Comparison to other optimization algorithms"
   ]
  },
  {
   "cell_type": "code",
   "execution_count": 223,
   "metadata": {},
   "outputs": [],
   "source": [
    "f = NonCartesianFFT(samples=kspace_loc, shape=u0.shape,implementation='cpu')\n",
    "f.op = lambda x:fourier_op.op(np.real(x))"
   ]
  },
  {
   "cell_type": "code",
   "execution_count": 224,
   "metadata": {},
   "outputs": [
    {
     "name": "stderr",
     "output_type": "stream",
     "text": [
      "\u001b[33mWARNING\u001b[0m: Making input data immutable.\n"
     ]
    }
   ],
   "source": [
    "regularizer_op = Ridge(Identity(), epsilon, thresh_type=\"soft\")\n",
    "reconstructor = SingleChannelReconstructor(\n",
    "    fourier_op=f,\n",
    "    linear_op=linear_op,\n",
    "    regularizer_op=regularizer_op,\n",
    "    gradient_formulation='analysis',\n",
    "    verbose=0,\n",
    ")"
   ]
  },
  {
   "cell_type": "code",
   "execution_count": 225,
   "metadata": {},
   "outputs": [
    {
     "name": "stderr",
     "output_type": "stream",
     "text": [
      "\u001b[33mWARNING\u001b[0m: Making input data immutable.\n",
      "100% (100 of 100) |######################| Elapsed Time: 0:01:10 Time:  0:01:10\n"
     ]
    }
   ],
   "source": [
    "x_final, costs, metrics = reconstructor.reconstruct(\n",
    "    kspace_data=f.op(u0_mat),\n",
    "    optimization_alg='condatvu',\n",
    "    num_iterations=100,\n",
    ")"
   ]
  },
  {
   "cell_type": "code",
   "execution_count": 226,
   "metadata": {},
   "outputs": [
    {
     "name": "stdout",
     "output_type": "stream",
     "text": [
      "0.6162060092618351\n"
     ]
    }
   ],
   "source": [
    "image_CV = pysap.Image(data=np.abs(x_final))\n",
    "recon_ssim = ssim(image_CV, u0)\n",
    "image_CV.show()\n",
    "print(recon_ssim)"
   ]
  },
  {
   "cell_type": "code",
   "execution_count": 227,
   "metadata": {},
   "outputs": [
    {
     "data": {
      "text/plain": [
       "8.010380723625084e-06"
      ]
     },
     "execution_count": 227,
     "metadata": {},
     "output_type": "execute_result"
    }
   ],
   "source": [
    "f1(np.asarray(image_CV))+g(np.asarray(image_CV))"
   ]
  }
 ],
 "metadata": {
  "kernelspec": {
   "display_name": "Python 3",
   "language": "python",
   "name": "python3"
  },
  "language_info": {
   "codemirror_mode": {
    "name": "ipython",
    "version": 3
   },
   "file_extension": ".py",
   "mimetype": "text/x-python",
   "name": "python",
   "nbconvert_exporter": "python",
   "pygments_lexer": "ipython3",
   "version": "3.7.3"
  }
 },
 "nbformat": 4,
 "nbformat_minor": 2
}
