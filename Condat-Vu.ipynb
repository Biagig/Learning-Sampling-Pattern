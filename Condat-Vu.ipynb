{
 "cells": [
  {
   "cell_type": "code",
   "execution_count": 1,
   "metadata": {
    "scrolled": true
   },
   "outputs": [
    {
     "name": "stderr",
     "output_type": "stream",
     "text": [
      "/home/guillaume/temp/pysap-mri/mri/operators/fourier/cartesian.py:33: UserWarning: pynufft python package has not been found. If needed use the master release. Till then you cannot use NUFFT on GPU\n",
      "  warnings.warn(\"pynufft python package has not been found. If needed use \"\n",
      "/home/guillaume/temp/pysap-mri/mri/operators/fourier/non_cartesian.py:33: UserWarning: pynufft python package has not been found. If needed use the master release. Till then you cannot use NUFFT on GPU\n",
      "  warnings.warn(\"pynufft python package has not been found. If needed use \"\n"
     ]
    },
    {
     "name": "stdout",
     "output_type": "stream",
     "text": [
      "\n",
      "                 .|'''|       /.\\      '||'''|,\n",
      "                 ||          // \\\\      ||   ||\n",
      "'||''|, '||  ||` `|'''|,    //...\\\\     ||...|'\n",
      " ||  ||  `|..||   .   ||   //     \\\\    ||\n",
      " ||..|'      ||   |...|' .//       \\\\. .||\n",
      " ||       ,  |'\n",
      ".||        ''\n",
      "\n",
      "Package version: 0.0.3\n",
      "\n",
      "License: CeCILL-B\n",
      "\n",
      "Authors: \n",
      "\n",
      "Antoine Grigis <antoine.grigis@cea.fr>\n",
      "Samuel Farrens <samuel.farrens@cea.fr>\n",
      "Jean-Luc Starck <jl.stark@cea.fr>\n",
      "Philippe Ciuciu <philippe.ciuciu@cea.fr>\n",
      "\n",
      "Dependencies: \n",
      "\n",
      "scipy          : >=1.3.0   - required | 1.3.0     installed\n",
      "numpy          : >=1.16.4  - required | 1.16.4    installed\n",
      "matplotlib     : >=3.0.0   - required | 3.1.1     installed\n",
      "astropy        : >=3.0.0   - required | 3.2.1     installed\n",
      "nibabel        : >=2.3.2   - required | 2.5.1     installed\n",
      "pyqtgraph      : >=0.10.0  - required | 0.10.0    installed\n",
      "progressbar2   : >=3.34.3  - required | ?         installed\n",
      "modopt         : >=1.4.0   - required | 1.4.1     installed\n",
      "scikit-learn   : >=0.19.1  - required | ?         installed\n",
      "pywt           : >=1.0.0   - required | 1.0.3     installed\n",
      "pysparse       : >=0.0.1   - required | 0.1.0     installed\n",
      "\n"
     ]
    }
   ],
   "source": [
    "# Package import\n",
    "from mri.operators import NonCartesianFFT, WaveletUD2, WaveletN , gradient\n",
    "from mri.operators.utils import convert_mask_to_locations, convert_locations_to_mask\n",
    "from mri.reconstructors import SingleChannelReconstructor\n",
    "import pysap\n",
    "from pysap.data import get_sample_data\n",
    "import time"
   ]
  },
  {
   "cell_type": "code",
   "execution_count": 2,
   "metadata": {},
   "outputs": [],
   "source": [
    "# Third party import\n",
    "from modopt.math.metrics import ssim\n",
    "from modopt.opt.linear import Identity\n",
    "from modopt.opt.proximity import SparseThreshold,Ridge,ProximityParent,ProximityCombo\n",
    "\n",
    "import numpy as np\n",
    "import matplotlib.pyplot as plt"
   ]
  },
  {
   "cell_type": "markdown",
   "metadata": {},
   "source": [
    "## Data and operators"
   ]
  },
  {
   "cell_type": "code",
   "execution_count": 6,
   "metadata": {},
   "outputs": [],
   "source": [
    "u0 = get_sample_data('2d-mri')\n",
    "u0_mat = u0.data\n",
    "\n",
    "n=u0_mat.shape[0]\n",
    "x = np.linspace(0,n,n,endpoint=False)/n-0.5\n",
    "y = np.linspace(0,n,n,endpoint=False)/n-0.5\n",
    "X,Y = np.meshgrid(x,y)\n",
    "kspace_loc = np.stack([X.flatten('F'),Y.flatten('F')],axis=1)\n",
    "\n",
    "m = convert_locations_to_mask(kspace_loc,u0.shape)\n",
    "fourier_op = NonCartesianFFT(samples=kspace_loc, shape=u0.shape,implementation='cpu')\n",
    "\n",
    "# Adding noise\n",
    "(n1,n2) = u0.shape\n",
    "s = 1e-6\n",
    "# Computing y with non-cartesian Fourier transform\n",
    "fourier_op = NonCartesianFFT(samples=kspace_loc, shape=u0.shape,implementation='cpu')\n",
    "y = (1+0j)*fourier_op.op(np.real(u0.data))+s*np.random.randn(2*n*n).view(np.complex128)\n",
    "u0_mat = np.asarray(u0)"
   ]
  },
  {
   "cell_type": "code",
   "execution_count": 7,
   "metadata": {},
   "outputs": [],
   "source": [
    "#Subsampling: From pysap radial mask \n",
    "radial_mask = get_sample_data(\"mri-radial-samples\")\n",
    "radial_kspace_loc = radial_mask.data\n",
    "\n",
    "p = np.zeros((n*n,))\n",
    "\n",
    "ind1 = ((n-1)*(radial_kspace_loc[:,0]+0.5)).astype(int)\n",
    "ind2 = ((n-1)*(radial_kspace_loc[:,1]+0.5)).astype(int)\n",
    "p[n*ind1+ind2]=1\n",
    "\n",
    "new_loc = kspace_loc[np.where(p)]\n",
    "#pysap.Image(data = convert_locations_to_mask(np.array(new_loc),u0.shape)).show()\n",
    "\n",
    "#Wavelet\n",
    "linear_op = WaveletN(wavelet_name=\"db8\",nb_scale=4,padding_mode = \"periodization\")"
   ]
  },
  {
   "cell_type": "code",
   "execution_count": 8,
   "metadata": {},
   "outputs": [
    {
     "name": "stdout",
     "output_type": "stream",
     "text": [
      "0.6696087469717062\n"
     ]
    }
   ],
   "source": [
    "#ifft on noised data = base result\n",
    "uk = fourier_op.adj_op(p*y)\n",
    "print(ssim(uk,u0_mat))\n",
    "pysap.Image(data = np.abs(uk)).show()"
   ]
  },
  {
   "cell_type": "markdown",
   "metadata": {},
   "source": [
    "## CondatVu\n",
    "### Regularizers"
   ]
  },
  {
   "cell_type": "code",
   "execution_count": 9,
   "metadata": {},
   "outputs": [],
   "source": [
    "class RegularizerG(ProximityParent):\n",
    "    r\"\"\"negative values penalisation and L2 norm\n",
    "\n",
    "    Parameters\n",
    "    ----------\n",
    "    linear : class\n",
    "        Linear operator class\n",
    "    weights : np.ndarray\n",
    "        Input array of weights\n",
    "    \"\"\"\n",
    "\n",
    "    def __init__(self, zeta, eps):\n",
    "        self.weights = [eps,zeta]\n",
    "        self.eps = eps\n",
    "        self.zeta=zeta\n",
    "        self.op = self._op_method\n",
    "        self.cost = self._cost_method\n",
    "\n",
    "        \n",
    "    def _op_method(self, data, extra_factor=1.0):  \n",
    "        thresh = self.eps*extra_factor\n",
    "        \n",
    "        return np.where(data>=0,data/(1+thresh),\n",
    "                 data/(0.5+np.sqrt(0.25-3*self.zeta*extra_factor*data/(1+thresh)**2)))\n",
    "\n",
    "    \n",
    "    def _cost_method(self, *args, **kwargs):\n",
    "        \n",
    "        cost_val = np.abs(self.zeta*np.sum(np.where(args[0]<=0,-args[0]**3,0))\n",
    "                           +self.eps*np.linalg.norm(args[0])**2/2)\n",
    "\n",
    "        if 'verbose' in kwargs and kwargs['verbose']:\n",
    "            print(' - G (X):', cost_val)\n",
    "\n",
    "        return cost_val"
   ]
  },
  {
   "cell_type": "code",
   "execution_count": 23,
   "metadata": {},
   "outputs": [],
   "source": [
    "class RegularizerF2(ProximityParent):\n",
    "    r\"\"\"C2 approximation of an L1 norm\n",
    "\n",
    "    Parameters\n",
    "    ----------\n",
    "    linear : class\n",
    "        Linear operator class\n",
    "    weights : np.ndarray\n",
    "        Input array of weights\n",
    "    \"\"\"\n",
    "\n",
    "    def __init__(self, linear, gamma, pn1):\n",
    "        self.linear = linear\n",
    "        self.weights = [gamma,pn1]\n",
    "        self.gamma = gamma\n",
    "        self.pn1=pn1\n",
    "        self.op = self._op_method\n",
    "        self.cost = self._cost_method\n",
    "    \n",
    "    def rho(self, x):\n",
    "        m = np.abs(x)\n",
    "        return np.where(m<self.gamma,-m**3/3/self.gamma**2+m**2/self.gamma,m-self.gamma/3)    \n",
    "    \n",
    "    def prox_J(self,x,c,gamma):\n",
    "        return np.where(np.abs(x)>gamma+c,x*(1-c/np.abs(x)),\n",
    "                    gamma*x/(c+0.5*gamma+np.sqrt((c+0.5*gamma)**2-c*np.abs(x))))\n",
    "\n",
    "        \n",
    "    def _op_method(self, data, extra_factor=1.0):  \n",
    "        return data-extra_factor*self.prox_J(data/extra_factor,self.pn1/extra_factor,self.gamma)\n",
    "        \n",
    "    \n",
    "    def _cost_method(self, *args, **kwargs):\n",
    "        \n",
    "        cost_val = self.pn1*np.sum(self.rho(np.abs(args[0])))\n",
    "\n",
    "        if 'verbose' in kwargs and kwargs['verbose']:\n",
    "            print(' - F2 (X):', cost_val)\n",
    "\n",
    "        return cost_val"
   ]
  },
  {
   "cell_type": "code",
   "execution_count": 24,
   "metadata": {},
   "outputs": [],
   "source": [
    "zeta,epsilon,gamma,pn1 = 1e10,1e-1,1e-10,1e-6\n",
    "regularizer_G = RegularizerG(zeta,epsilon)\n",
    "regularizer_F2 = RegularizerF2(linear_op,gamma,pn1)"
   ]
  },
  {
   "cell_type": "code",
   "execution_count": 27,
   "metadata": {},
   "outputs": [
    {
     "name": "stdout",
     "output_type": "stream",
     "text": [
      "1.9073484054388313e-07 1.148499771952629e-07\n"
     ]
    }
   ],
   "source": [
    "print(regularizer_G.cost(u0_mat),regularizer_F2.cost(linear_op.op(u0_mat)))"
   ]
  },
  {
   "cell_type": "markdown",
   "metadata": {},
   "source": [
    "### Reconstruction"
   ]
  },
  {
   "cell_type": "code",
   "execution_count": 28,
   "metadata": {},
   "outputs": [],
   "source": [
    "from modopt.opt.algorithms import Condat\n",
    "from mri.operators import GradAnalysis"
   ]
  },
  {
   "cell_type": "code",
   "execution_count": 29,
   "metadata": {},
   "outputs": [
    {
     "name": "stderr",
     "output_type": "stream",
     "text": [
      "\u001b[33mWARNING\u001b[0m: Making input data immutable.\n"
     ]
    }
   ],
   "source": [
    "grad_class = GradAnalysis\n",
    "gradient_op = grad_class(fourier_op=fourier_op)"
   ]
  },
  {
   "cell_type": "code",
   "execution_count": 30,
   "metadata": {},
   "outputs": [],
   "source": [
    "#Initialisation\n",
    "lipschitz_cst = gradient_op.spec_rad\n",
    "gradient_op.fourier_op = fourier_op\n",
    "norm = linear_op.l2norm(gradient_op.fourier_op.shape)\n",
    "x_init = fourier_op.adj_op(y)\n",
    "\n",
    "sigma = 0.5\n",
    "tau = 1.0 / (lipschitz_cst/2 + sigma * norm**2 + epsilon)"
   ]
  },
  {
   "cell_type": "code",
   "execution_count": 31,
   "metadata": {},
   "outputs": [],
   "source": [
    "opt = Condat(x=x_init,\n",
    "            y=y,\n",
    "            grad = gradient_op,\n",
    "            prox = regularizer_G,\n",
    "            prox_dual = regularizer_F2,\n",
    "            linear = linear_op,\n",
    "#             sigma=sigma,\n",
    "#             tau=tau,\n",
    "#             sigma_update=None,\n",
    "#             tau_update=None,\n",
    "            max_iter=150,\n",
    "            auto_iterate = False)"
   ]
  },
  {
   "cell_type": "code",
   "execution_count": 32,
   "metadata": {},
   "outputs": [
    {
     "name": "stderr",
     "output_type": "stream",
     "text": [
      "/home/guillaume/anaconda3/lib/python3.7/site-packages/ipykernel_launcher.py:26: RuntimeWarning: invalid value encountered in sqrt\n",
      "\r",
      "N/A% (0 of 150) |                        | Elapsed Time: 0:00:00 ETA:  --:--:--"
     ]
    },
    {
     "name": "stdout",
     "output_type": "stream",
     "text": [
      " - ITERATION: 1\n",
      " - DATA FIDELITY (X): 8.444009544425515e-07\n",
      " - G (X): 7.872203831605558e-05\n",
      " - F2 (X): 4.664300629413266e-07\n",
      " - COST: 8.003286933343946e-05\n",
      "\n"
     ]
    },
    {
     "name": "stderr",
     "output_type": "stream",
     "text": [
      "N/A% (0 of 150) |                        | Elapsed Time: 0:00:00 ETA:  --:--:--"
     ]
    },
    {
     "name": "stdout",
     "output_type": "stream",
     "text": [
      " - ITERATION: 2\n",
      " - DATA FIDELITY (X): 5.388462787091344e-07\n"
     ]
    },
    {
     "name": "stderr",
     "output_type": "stream",
     "text": [
      "  0% (1 of 150) |                        | Elapsed Time: 0:00:01 ETA:   0:02:53"
     ]
    },
    {
     "name": "stdout",
     "output_type": "stream",
     "text": [
      " - G (X): 1.0155517659151191e-05\n",
      " - F2 (X): 3.7037356515588706e-07\n",
      " - COST: 1.1064737503016212e-05\n",
      "\n",
      " - ITERATION: 3\n",
      " - DATA FIDELITY (X): 3.448583927549999e-07\n"
     ]
    },
    {
     "name": "stderr",
     "output_type": "stream",
     "text": [
      "  1% (2 of 150) |                        | Elapsed Time: 0:00:01 ETA:   0:02:09"
     ]
    },
    {
     "name": "stdout",
     "output_type": "stream",
     "text": [
      " - G (X): 1.3944010538148208e-06\n",
      " - F2 (X): 2.841094543096499e-07\n",
      " - COST: 2.0233689008794707e-06\n",
      "\n",
      " - ITERATION: 4\n",
      " - DATA FIDELITY (X): 2.189980248406308e-07\n"
     ]
    },
    {
     "name": "stderr",
     "output_type": "stream",
     "text": [
      "  2% (3 of 150) |                        | Elapsed Time: 0:00:02 ETA:   0:01:53"
     ]
    },
    {
     "name": "stdout",
     "output_type": "stream",
     "text": [
      " - G (X): 2.1341684346954432e-07\n",
      " - F2 (X): 2.2082997471274147e-07\n",
      " - COST: 6.532448430229166e-07\n",
      "\n",
      " - CONVERGENCE TEST - \n",
      " - CHANGE IN COST: 33.034648086219306\n",
      "\n",
      " - ITERATION: 5\n",
      " - DATA FIDELITY (X): 1.392966164854079e-07\n"
     ]
    },
    {
     "name": "stderr",
     "output_type": "stream",
     "text": [
      "  2% (4 of 150) |                        | Elapsed Time: 0:00:02 ETA:   0:01:24"
     ]
    },
    {
     "name": "stdout",
     "output_type": "stream",
     "text": [
      " - G (X): 7.881542620210466e-08\n",
      " - F2 (X): 1.7141616680151088e-07\n",
      " - COST: 3.8952820948902344e-07\n",
      "\n",
      " - ITERATION: 6\n",
      " - DATA FIDELITY (X): 8.898645312999772e-08\n"
     ]
    },
    {
     "name": "stderr",
     "output_type": "stream",
     "text": [
      "  3% (5 of 150) |                        | Elapsed Time: 0:00:03 ETA:   0:01:23"
     ]
    },
    {
     "name": "stdout",
     "output_type": "stream",
     "text": [
      " - G (X): 3.2074394762892553e-07\n",
      " - F2 (X): 1.3366800128328994e-07\n",
      " - COST: 5.433984020422131e-07\n",
      "\n",
      " - ITERATION: 7\n",
      " - DATA FIDELITY (X): 5.707871516651501e-08\n"
     ]
    },
    {
     "name": "stderr",
     "output_type": "stream",
     "text": [
      "  4% (6 of 150) |                        | Elapsed Time: 0:00:04 ETA:   0:01:23"
     ]
    },
    {
     "name": "stdout",
     "output_type": "stream",
     "text": [
      " - G (X): 6.890505859856765e-09\n",
      " - F2 (X): 1.0450204585359305e-07\n",
      " - COST: 1.6847126687996483e-07\n",
      "\n",
      " - ITERATION: 8\n",
      " - DATA FIDELITY (X): 3.66884712418457e-08\n"
     ]
    },
    {
     "name": "stderr",
     "output_type": "stream",
     "text": [
      "  4% (7 of 150) |#                       | Elapsed Time: 0:00:04 ETA:   0:01:22"
     ]
    },
    {
     "name": "stdout",
     "output_type": "stream",
     "text": [
      " - G (X): 3.7081625871364173e-09\n",
      " - F2 (X): 8.186674129578096e-08\n",
      " - COST: 1.2226337512476308e-07\n",
      "\n",
      " - CONVERGENCE TEST - \n",
      " - CHANGE IN COST: 2.208859477832935\n",
      "\n",
      " - ITERATION: 9\n",
      " - DATA FIDELITY (X): 2.3583579390829128e-08\n"
     ]
    },
    {
     "name": "stderr",
     "output_type": "stream",
     "text": [
      "  5% (8 of 150) |#                       | Elapsed Time: 0:00:05 ETA:   0:01:21"
     ]
    },
    {
     "name": "stdout",
     "output_type": "stream",
     "text": [
      " - G (X): 2.995704516803774e-09\n",
      " - F2 (X): 6.418313310550673e-08\n",
      " - COST: 9.076241701313963e-08\n",
      "\n",
      " - ITERATION: 10\n",
      " - DATA FIDELITY (X): 1.5125168539111972e-08\n"
     ]
    },
    {
     "name": "stderr",
     "output_type": "stream",
     "text": [
      "  6% (9 of 150) |#                       | Elapsed Time: 0:00:05 ETA:   0:01:20"
     ]
    },
    {
     "name": "stdout",
     "output_type": "stream",
     "text": [
      " - G (X): 1.7770632694792194e-09\n",
      " - F2 (X): 5.026203352950371e-08\n",
      " - COST: 6.716426533809491e-08\n",
      "\n",
      " - ITERATION: 11\n",
      " - DATA FIDELITY (X): 9.673396905231567e-09\n"
     ]
    },
    {
     "name": "stderr",
     "output_type": "stream",
     "text": [
      "  6% (10 of 150) |#                      | Elapsed Time: 0:00:06 ETA:   0:01:19"
     ]
    },
    {
     "name": "stdout",
     "output_type": "stream",
     "text": [
      " - G (X): 2.83799050154531e-08\n",
      " - F2 (X): 3.924870865296674e-08\n",
      " - COST: 7.730201057365142e-08\n",
      "\n",
      " - ITERATION: 12\n",
      " - DATA FIDELITY (X): 6.16382330414547e-09\n"
     ]
    },
    {
     "name": "stderr",
     "output_type": "stream",
     "text": [
      "  7% (11 of 150) |#                      | Elapsed Time: 0:00:06 ETA:   0:01:20"
     ]
    },
    {
     "name": "stdout",
     "output_type": "stream",
     "text": [
      " - G (X): 1.4318362630380886e-08\n",
      " - F2 (X): 3.0490033482344306e-08\n",
      " - COST: 5.097221941687066e-08\n",
      "\n",
      " - CONVERGENCE TEST - \n",
      " - CHANGE IN COST: 0.23116453213481314\n",
      "\n",
      " - ITERATION: 13\n",
      " - DATA FIDELITY (X): 3.911645111836886e-09\n",
      " - G (X): 1.4863688063478075e-09\n"
     ]
    },
    {
     "name": "stderr",
     "output_type": "stream",
     "text": [
      "  8% (12 of 150) |#                      | Elapsed Time: 0:00:07 ETA:   0:01:16"
     ]
    },
    {
     "name": "stdout",
     "output_type": "stream",
     "text": [
      " - F2 (X): 2.349157404526105e-08\n",
      " - COST: 2.888958796344574e-08\n",
      "\n",
      " - ITERATION: 14\n",
      " - DATA FIDELITY (X): 2.477162289315039e-09\n"
     ]
    },
    {
     "name": "stderr",
     "output_type": "stream",
     "text": [
      "  8% (13 of 150) |#                      | Elapsed Time: 0:00:08 ETA:   0:01:18"
     ]
    },
    {
     "name": "stdout",
     "output_type": "stream",
     "text": [
      " - G (X): 6.44390818299908e-10\n",
      " - F2 (X): 1.789144067941037e-08\n",
      " - COST: 2.1012993787025317e-08\n",
      "\n",
      " - ITERATION: 15\n",
      " - DATA FIDELITY (X): 1.5672067345315058e-09\n",
      " - G (X): 1.0159818673085666e-09\n"
     ]
    },
    {
     "name": "stderr",
     "output_type": "stream",
     "text": [
      "  9% (14 of 150) |##                     | Elapsed Time: 0:00:08 ETA:   0:01:13"
     ]
    },
    {
     "name": "stdout",
     "output_type": "stream",
     "text": [
      " - F2 (X): 1.339387719661511e-08\n",
      " - COST: 1.5977065798455183e-08\n",
      "\n",
      " - ITERATION: 16\n",
      " - DATA FIDELITY (X): 1.0006023044508644e-09\n"
     ]
    },
    {
     "name": "stderr",
     "output_type": "stream",
     "text": [
      " 10% (15 of 150) |##                     | Elapsed Time: 0:00:09 ETA:   0:01:14"
     ]
    },
    {
     "name": "stdout",
     "output_type": "stream",
     "text": [
      " - G (X): 4.253976080373879e-09\n",
      " - F2 (X): 9.803215284580838e-09\n",
      " - COST: 1.505779366940558e-08\n",
      "\n",
      " - CONVERGENCE TEST - \n",
      " - CHANGE IN COST: 0.6079525606407021\n",
      "\n",
      " - ITERATION: 17\n",
      " - DATA FIDELITY (X): 6.524350818690875e-10\n",
      " - G (X): 3.412712074671741e-10\n"
     ]
    },
    {
     "name": "stderr",
     "output_type": "stream",
     "text": [
      " 10% (16 of 150) |##                     | Elapsed Time: 0:00:09 ETA:   0:01:13"
     ]
    },
    {
     "name": "stdout",
     "output_type": "stream",
     "text": [
      " - F2 (X): 6.995021696860616e-09\n",
      " - COST: 7.988727986196877e-09\n",
      "\n",
      " - ITERATION: 18\n",
      " - DATA FIDELITY (X): 4.4247536470024953e-10\n"
     ]
    },
    {
     "name": "stderr",
     "output_type": "stream",
     "text": [
      " 11% (17 of 150) |##                     | Elapsed Time: 0:00:10 ETA:   0:01:12"
     ]
    },
    {
     "name": "stdout",
     "output_type": "stream",
     "text": [
      " - G (X): 3.132827641321785e-10\n",
      " - F2 (X): 4.8754554282267255e-09\n",
      " - COST: 5.631213557059153e-09\n",
      "\n",
      " - ITERATION: 19\n",
      " - DATA FIDELITY (X): 3.195165342079602e-10\n"
     ]
    },
    {
     "name": "stderr",
     "output_type": "stream",
     "text": [
      " 12% (18 of 150) |##                     | Elapsed Time: 0:00:10 ETA:   0:01:12"
     ]
    },
    {
     "name": "stdout",
     "output_type": "stream",
     "text": [
      " - G (X): 2.996542290761553e-10\n",
      " - F2 (X): 3.355332737878556e-09\n",
      " - COST: 3.9745035011626716e-09\n",
      "\n",
      " - ITERATION: 20\n",
      " - DATA FIDELITY (X): 2.469229345990302e-10\n"
     ]
    },
    {
     "name": "stderr",
     "output_type": "stream",
     "text": [
      " 12% (19 of 150) |##                     | Elapsed Time: 0:00:11 ETA:   0:01:09"
     ]
    },
    {
     "name": "stdout",
     "output_type": "stream",
     "text": [
      " - G (X): 2.89094304703111e-10\n",
      " - F2 (X): 2.324483947731523e-09\n",
      " - COST: 2.8605011870336645e-09\n",
      "\n",
      " - CONVERGENCE TEST - \n",
      " - CHANGE IN COST: 0.992674791690618\n",
      "\n",
      " - ITERATION: 21\n",
      " - DATA FIDELITY (X): 2.0419444139724464e-10\n"
     ]
    },
    {
     "name": "stderr",
     "output_type": "stream",
     "text": [
      " 13% (20 of 150) |###                    | Elapsed Time: 0:00:11 ETA:   0:01:16"
     ]
    },
    {
     "name": "stdout",
     "output_type": "stream",
     "text": [
      " - G (X): 1.3945747836381307e-09\n",
      " - F2 (X): 1.665230473199434e-09\n",
      " - COST: 3.263999698234809e-09\n",
      "\n",
      " - ITERATION: 22\n",
      " - DATA FIDELITY (X): 1.7646998105252488e-10\n",
      " - G (X): 2.838565499740268e-10\n",
      " - F2 (X): 1.2590864496362442e-09\n"
     ]
    },
    {
     "name": "stderr",
     "output_type": "stream",
     "text": [
      " 14% (21 of 150) |###                    | Elapsed Time: 0:00:12 ETA:   0:01:08"
     ]
    },
    {
     "name": "stdout",
     "output_type": "stream",
     "text": [
      " - COST: 1.7194129806627958e-09\n",
      "\n",
      " - ITERATION: 23\n",
      " - DATA FIDELITY (X): 1.5766739092554564e-10\n"
     ]
    },
    {
     "name": "stderr",
     "output_type": "stream",
     "text": [
      " 14% (22 of 150) |###                    | Elapsed Time: 0:00:13 ETA:   0:01:14"
     ]
    },
    {
     "name": "stdout",
     "output_type": "stream",
     "text": [
      " - G (X): 2.7408962061048255e-10\n",
      " - F2 (X): 1.0180765703332848e-09\n",
      " - COST: 1.449833581869313e-09\n",
      "\n",
      " - ITERATION: 24\n",
      " - DATA FIDELITY (X): 1.4411193760689526e-10\n",
      " - G (X): 2.7098487160275416e-10\n"
     ]
    },
    {
     "name": "stderr",
     "output_type": "stream",
     "text": [
      " 15% (23 of 150) |###                    | Elapsed Time: 0:00:13 ETA:   0:01:10"
     ]
    },
    {
     "name": "stdout",
     "output_type": "stream",
     "text": [
      " - F2 (X): 8.77866880968324e-10\n",
      " - COST: 1.2929636901779734e-09\n",
      "\n",
      " - CONVERGENCE TEST - \n",
      " - CHANGE IN COST: 0.8169088651520613\n",
      "\n",
      " - ITERATION: 25\n",
      " - DATA FIDELITY (X): 1.338739925643465e-10\n"
     ]
    },
    {
     "name": "stderr",
     "output_type": "stream",
     "text": [
      " 16% (24 of 150) |###                    | Elapsed Time: 0:00:14 ETA:   0:01:09"
     ]
    },
    {
     "name": "stdout",
     "output_type": "stream",
     "text": [
      " - G (X): 2.6789054383001143e-10\n",
      " - F2 (X): 7.97514164225812e-10\n",
      " - COST: 1.19927870062017e-09\n",
      "\n",
      " - ITERATION: 26\n",
      " - DATA FIDELITY (X): 1.2633952809707322e-10\n",
      " - G (X): 2.6518206571036405e-10\n"
     ]
    },
    {
     "name": "stderr",
     "output_type": "stream",
     "text": [
      " 16% (25 of 150) |###                    | Elapsed Time: 0:00:14 ETA:   0:01:09"
     ]
    },
    {
     "name": "stdout",
     "output_type": "stream",
     "text": [
      " - F2 (X): 7.538735999906032e-10\n",
      " - COST: 1.1453951937980404e-09\n",
      "\n",
      " - ITERATION: 27\n",
      " - DATA FIDELITY (X): 1.1993988158431134e-10\n"
     ]
    },
    {
     "name": "stderr",
     "output_type": "stream",
     "text": [
      " 17% (26 of 150) |###                    | Elapsed Time: 0:00:15 ETA:   0:01:09"
     ]
    },
    {
     "name": "stdout",
     "output_type": "stream",
     "text": [
      " - G (X): 4.678964793206909e-10\n",
      " - F2 (X): 7.293656769203919e-10\n",
      " - COST: 1.3172020378253942e-09\n",
      "\n",
      " - ITERATION: 28\n",
      " - DATA FIDELITY (X): 1.1502803330620554e-10\n",
      " - G (X): 2.6416765620155137e-10\n",
      " - F2 (X): 7.170715545407767e-10\n"
     ]
    },
    {
     "name": "stderr",
     "output_type": "stream",
     "text": [
      " 18% (27 of 150) |####                   | Elapsed Time: 0:00:15 ETA:   0:01:07"
     ]
    },
    {
     "name": "stdout",
     "output_type": "stream",
     "text": [
      " - COST: 1.0962672440485336e-09\n",
      "\n",
      " - CONVERGENCE TEST - \n",
      " - CHANGE IN COST: 0.028504770279198174\n",
      "\n",
      " - ITERATION: 29\n",
      " - DATA FIDELITY (X): 1.1117396672164716e-10\n"
     ]
    },
    {
     "name": "stderr",
     "output_type": "stream",
     "text": [
      " 18% (28 of 150) |####                   | Elapsed Time: 0:00:16 ETA:   0:01:06"
     ]
    },
    {
     "name": "stdout",
     "output_type": "stream",
     "text": [
      " - G (X): 2.600893781657636e-10\n",
      " - F2 (X): 7.125728172947527e-10\n",
      " - COST: 1.0838361621821636e-09\n",
      "\n",
      " - ITERATION: 30\n",
      " - DATA FIDELITY (X): 1.0853470192643349e-10\n",
      " - G (X): 3.3564866862392006e-10\n"
     ]
    },
    {
     "name": "stderr",
     "output_type": "stream",
     "text": [
      " 19% (29 of 150) |####                   | Elapsed Time: 0:00:16 ETA:   0:01:06"
     ]
    },
    {
     "name": "stdout",
     "output_type": "stream",
     "text": [
      " - F2 (X): 7.126968570553614e-10\n",
      " - COST: 1.156880227605715e-09\n",
      "\n",
      " - ITERATION: 31\n",
      " - DATA FIDELITY (X): 1.065378972172465e-10\n"
     ]
    },
    {
     "name": "stderr",
     "output_type": "stream",
     "text": [
      " 20% (30 of 150) |####                   | Elapsed Time: 0:00:17 ETA:   0:01:05"
     ]
    },
    {
     "name": "stdout",
     "output_type": "stream",
     "text": [
      " - G (X): 2.5439447249066067e-10\n",
      " - F2 (X): 7.144459392879972e-10\n",
      " - COST: 1.0753783089959043e-09\n",
      "\n",
      " - ITERATION: 32\n",
      " - DATA FIDELITY (X): 1.0491731330666997e-10\n",
      " - G (X): 2.5257284389987935e-10\n"
     ]
    },
    {
     "name": "stderr",
     "output_type": "stream",
     "text": [
      " 20% (31 of 150) |####                   | Elapsed Time: 0:00:18 ETA:   0:01:05"
     ]
    },
    {
     "name": "stdout",
     "output_type": "stream",
     "text": [
      " - F2 (X): 7.165777076347125e-10\n",
      " - COST: 1.0740678648412617e-09\n",
      "\n",
      " - CONVERGENCE TEST - \n",
      " - CHANGE IN COST: 0.04246220122264246\n",
      "\n",
      " - ITERATION: 33\n",
      " - DATA FIDELITY (X): 1.0364826442096277e-10\n"
     ]
    },
    {
     "name": "stderr",
     "output_type": "stream",
     "text": [
      " 21% (32 of 150) |####                   | Elapsed Time: 0:00:18 ETA:   0:01:05"
     ]
    },
    {
     "name": "stdout",
     "output_type": "stream",
     "text": [
      " - G (X): 2.510303953129148e-10\n",
      " - F2 (X): 7.196016268352425e-10\n",
      " - COST: 1.0742802865691201e-09\n",
      "\n",
      " - ITERATION: 34\n",
      " - DATA FIDELITY (X): 1.0256815360688647e-10\n",
      " - G (X): 2.486900018542242e-10\n"
     ]
    },
    {
     "name": "stderr",
     "output_type": "stream",
     "text": [
      " 22% (33 of 150) |#####                  | Elapsed Time: 0:00:19 ETA:   0:01:04"
     ]
    },
    {
     "name": "stdout",
     "output_type": "stream",
     "text": [
      " - F2 (X): 7.22772566949893e-10\n",
      " - COST: 1.0740307224110038e-09\n",
      "\n",
      " - ITERATION: 35\n",
      " - DATA FIDELITY (X): 1.0186668636679917e-10\n"
     ]
    },
    {
     "name": "stderr",
     "output_type": "stream",
     "text": [
      " 22% (34 of 150) |#####                  | Elapsed Time: 0:00:19 ETA:   0:01:04"
     ]
    },
    {
     "name": "stdout",
     "output_type": "stream",
     "text": [
      " - G (X): 2.557075695550532e-10\n",
      " - F2 (X): 7.253679876451647e-10\n",
      " - COST: 1.082942243567017e-09\n",
      "\n",
      " - ITERATION: 36\n",
      " - DATA FIDELITY (X): 1.0112505948888773e-10\n",
      " - G (X): 2.470155338853148e-10\n"
     ]
    },
    {
     "name": "stderr",
     "output_type": "stream",
     "text": [
      " 23% (35 of 150) |#####                  | Elapsed Time: 0:00:20 ETA:   0:01:05"
     ]
    },
    {
     "name": "stdout",
     "output_type": "stream",
     "text": [
      " - F2 (X): 7.273248356834308e-10\n",
      " - COST: 1.0754654290576334e-09\n",
      "\n",
      " - CONVERGENCE TEST - \n",
      " - CHANGE IN COST: 0.004677829759680804\n",
      "\n",
      " - ITERATION: 37\n",
      " - DATA FIDELITY (X): 1.007560530656604e-10\n"
     ]
    },
    {
     "name": "stderr",
     "output_type": "stream",
     "text": [
      " 24% (36 of 150) |#####                  | Elapsed Time: 0:00:20 ETA:   0:01:04"
     ]
    },
    {
     "name": "stdout",
     "output_type": "stream",
     "text": [
      " - G (X): 2.6947682443311395e-10\n",
      " - F2 (X): 7.288913189204371e-10\n",
      " - COST: 1.0991241964192116e-09\n",
      "\n",
      " - ITERATION: 38\n",
      " - DATA FIDELITY (X): 1.0070049885734382e-10\n",
      " - G (X): 2.4240531308662775e-10\n"
     ]
    },
    {
     "name": "stderr",
     "output_type": "stream",
     "text": [
      " 24% (37 of 150) |#####                  | Elapsed Time: 0:00:21 ETA:   0:01:04"
     ]
    },
    {
     "name": "stdout",
     "output_type": "stream",
     "text": [
      " - F2 (X): 7.29976082137462e-10\n",
      " - COST: 1.0730818940814336e-09\n",
      "\n",
      " - ITERATION: 39\n",
      " - DATA FIDELITY (X): 1.003401408262953e-10\n"
     ]
    },
    {
     "name": "stderr",
     "output_type": "stream",
     "text": [
      " 25% (38 of 150) |#####                  | Elapsed Time: 0:00:21 ETA:   0:01:00"
     ]
    },
    {
     "name": "stdout",
     "output_type": "stream",
     "text": [
      " - G (X): 2.4099904700408185e-10\n",
      " - F2 (X): 7.301984044079551e-10\n",
      " - COST: 1.0715375922383324e-09\n",
      "\n",
      " - ITERATION: 40\n",
      " - DATA FIDELITY (X): 9.975945001655597e-11\n"
     ]
    },
    {
     "name": "stderr",
     "output_type": "stream",
     "text": [
      " 26% (39 of 150) |#####                  | Elapsed Time: 0:00:22 ETA:   0:01:04"
     ]
    },
    {
     "name": "stdout",
     "output_type": "stream",
     "text": [
      " - G (X): 2.395768314906716e-10\n",
      " - F2 (X): 7.297797188906912e-10\n",
      " - COST: 1.0691160003979186e-09\n",
      "\n",
      " - CONVERGENCE TEST - \n",
      " - CHANGE IN COST: 0.014739656137234752\n",
      "\n",
      " - ITERATION: 41\n",
      " - DATA FIDELITY (X): 9.886693747059563e-11\n",
      " - G (X): 2.386482230333496e-10\n"
     ]
    },
    {
     "name": "stderr",
     "output_type": "stream",
     "text": [
      " 26% (40 of 150) |######                 | Elapsed Time: 0:00:23 ETA:   0:00:57"
     ]
    },
    {
     "name": "stdout",
     "output_type": "stream",
     "text": [
      " - F2 (X): 7.283430929286082e-10\n",
      " - COST: 1.0658582534325536e-09\n",
      "\n",
      " - ITERATION: 42\n",
      " - DATA FIDELITY (X): 9.82245184626397e-11\n"
     ]
    },
    {
     "name": "stderr",
     "output_type": "stream",
     "text": [
      " 27% (41 of 150) |######                 | Elapsed Time: 0:00:23 ETA:   0:01:02"
     ]
    },
    {
     "name": "stdout",
     "output_type": "stream",
     "text": [
      " - G (X): 2.3690253630505443e-10\n",
      " - F2 (X): 7.274097605327738e-10\n",
      " - COST: 1.0625368153004679e-09\n",
      "\n",
      " - ITERATION: 43\n",
      " - DATA FIDELITY (X): 9.824750759020889e-11\n",
      " - G (X): 2.3572347464951226e-10\n"
     ]
    },
    {
     "name": "stderr",
     "output_type": "stream",
     "text": [
      " 28% (42 of 150) |######                 | Elapsed Time: 0:00:24 ETA:   0:00:59"
     ]
    },
    {
     "name": "stdout",
     "output_type": "stream",
     "text": [
      " - F2 (X): 7.269045944282483e-10\n",
      " - COST: 1.0608755766679694e-09\n",
      "\n",
      " - ITERATION: 44\n",
      " - DATA FIDELITY (X): 9.761213635246104e-11\n"
     ]
    },
    {
     "name": "stderr",
     "output_type": "stream",
     "text": [
      " 28% (43 of 150) |######                 | Elapsed Time: 0:00:24 ETA:   0:00:58"
     ]
    },
    {
     "name": "stdout",
     "output_type": "stream",
     "text": [
      " - G (X): 1.0767098396011515e-09\n",
      " - F2 (X): 7.266488615060804e-10\n",
      " - COST: 1.900970837459693e-09\n",
      "\n",
      " - CONVERGENCE TEST - \n",
      " - CHANGE IN COST: 0.2813958689482261\n",
      "\n",
      " - ITERATION: 45\n",
      " - DATA FIDELITY (X): 9.706801952481545e-11\n",
      " - G (X): 2.613474118277089e-10\n"
     ]
    },
    {
     "name": "stderr",
     "output_type": "stream",
     "text": [
      " 29% (44 of 150) |######                 | Elapsed Time: 0:00:25 ETA:   0:00:58"
     ]
    },
    {
     "name": "stdout",
     "output_type": "stream",
     "text": [
      " - F2 (X): 7.255685203714464e-10\n",
      " - COST: 1.0839839517239708e-09\n",
      "\n",
      " - ITERATION: 46\n",
      " - DATA FIDELITY (X): 9.676220866847552e-11\n"
     ]
    },
    {
     "name": "stderr",
     "output_type": "stream",
     "text": [
      " 30% (45 of 150) |######                 | Elapsed Time: 0:00:25 ETA:   0:00:57"
     ]
    },
    {
     "name": "stdout",
     "output_type": "stream",
     "text": [
      " - G (X): 2.2851654955705307e-10\n",
      " - F2 (X): 7.25224603015429e-10\n",
      " - COST: 1.0505033612409576e-09\n",
      "\n",
      " - ITERATION: 47\n",
      " - DATA FIDELITY (X): 9.663552636200022e-11\n",
      " - G (X): 3.3433597449848517e-10\n"
     ]
    },
    {
     "name": "stderr",
     "output_type": "stream",
     "text": [
      " 30% (46 of 150) |#######                | Elapsed Time: 0:00:26 ETA:   0:00:59"
     ]
    },
    {
     "name": "stdout",
     "output_type": "stream",
     "text": [
      " - F2 (X): 7.259266839363634e-10\n",
      " - COST: 1.1568981847968487e-09\n",
      "\n",
      " - ITERATION: 48\n",
      " - DATA FIDELITY (X): 9.78757376976498e-11\n"
     ]
    },
    {
     "name": "stderr",
     "output_type": "stream",
     "text": [
      " 31% (47 of 150) |#######                | Elapsed Time: 0:00:26 ETA:   0:00:57"
     ]
    },
    {
     "name": "stdout",
     "output_type": "stream",
     "text": [
      " - G (X): 2.280288192048032e-10\n",
      " - F2 (X): 7.277309029020986e-10\n",
      " - COST: 1.0536354598045516e-09\n",
      "\n",
      " - CONVERGENCE TEST - \n",
      " - CHANGE IN COST: 0.034401797874550916\n",
      "\n",
      " - ITERATION: 49\n",
      " - DATA FIDELITY (X): 9.780316614415347e-11\n",
      " - G (X): 2.2702192243613842e-10\n",
      " - F2 (X): 7.275191946374228e-10\n"
     ]
    },
    {
     "name": "stderr",
     "output_type": "stream",
     "text": [
      " 32% (48 of 150) |#######                | Elapsed Time: 0:00:27 ETA:   0:00:56"
     ]
    },
    {
     "name": "stdout",
     "output_type": "stream",
     "text": [
      " - COST: 1.0523442832177145e-09\n",
      "\n",
      " - ITERATION: 50\n",
      " - DATA FIDELITY (X): 9.736767517394416e-11\n"
     ]
    },
    {
     "name": "stderr",
     "output_type": "stream",
     "text": [
      " 32% (49 of 150) |#######                | Elapsed Time: 0:00:28 ETA:   0:00:55"
     ]
    },
    {
     "name": "stdout",
     "output_type": "stream",
     "text": [
      " - G (X): 2.2554470670346784e-10\n",
      " - F2 (X): 7.269504158887887e-10\n",
      " - COST: 1.0498627977662006e-09\n",
      "\n",
      " - ITERATION: 51\n",
      " - DATA FIDELITY (X): 9.709202045021953e-11\n",
      " - G (X): 2.2439211292856462e-10\n"
     ]
    },
    {
     "name": "stderr",
     "output_type": "stream",
     "text": [
      " 33% (50 of 150) |#######                | Elapsed Time: 0:00:28 ETA:   0:00:52"
     ]
    },
    {
     "name": "stdout",
     "output_type": "stream",
     "text": [
      " - F2 (X): 7.265974051199758e-10\n",
      " - COST: 1.04808153849876e-09\n",
      "\n",
      " - ITERATION: 52\n",
      " - DATA FIDELITY (X): 9.678196084177878e-11\n"
     ]
    },
    {
     "name": "stderr",
     "output_type": "stream",
     "text": [
      " 34% (51 of 150) |#######                | Elapsed Time: 0:00:29 ETA:   0:00:53"
     ]
    },
    {
     "name": "stdout",
     "output_type": "stream",
     "text": [
      " - G (X): 2.2297555378239638e-10\n",
      " - F2 (X): 7.263391374537546e-10\n",
      " - COST: 1.04609665207793e-09\n",
      "\n",
      " - CONVERGENCE TEST - \n",
      " - CHANGE IN COST: 0.003833909857028175\n",
      "\n",
      " - ITERATION: 53\n",
      " - DATA FIDELITY (X): 9.65566585176927e-11\n",
      " - G (X): 2.2176371406166826e-10\n"
     ]
    },
    {
     "name": "stderr",
     "output_type": "stream",
     "text": [
      " 34% (52 of 150) |#######                | Elapsed Time: 0:00:29 ETA:   0:00:53"
     ]
    },
    {
     "name": "stdout",
     "output_type": "stream",
     "text": [
      " - F2 (X): 7.264243267953794e-10\n",
      " - COST: 1.0447446993747403e-09\n",
      "\n",
      " - ITERATION: 54\n",
      " - DATA FIDELITY (X): 9.635617161783892e-11\n"
     ]
    },
    {
     "name": "stderr",
     "output_type": "stream",
     "text": [
      " 35% (53 of 150) |########               | Elapsed Time: 0:00:30 ETA:   0:00:53"
     ]
    },
    {
     "name": "stdout",
     "output_type": "stream",
     "text": [
      " - G (X): 2.2050382830237225e-10\n",
      " - F2 (X): 7.260266922315521e-10\n",
      " - COST: 1.0428866921517634e-09\n",
      "\n",
      " - ITERATION: 55\n",
      " - DATA FIDELITY (X): 9.608269655617626e-11\n",
      " - G (X): 2.1924160790571258e-10\n"
     ]
    },
    {
     "name": "stderr",
     "output_type": "stream",
     "text": [
      " 36% (54 of 150) |########               | Elapsed Time: 0:00:30 ETA:   0:00:52"
     ]
    },
    {
     "name": "stdout",
     "output_type": "stream",
     "text": [
      " - F2 (X): 7.255985361803068e-10\n",
      " - COST: 1.0409228406421957e-09\n",
      "\n",
      " - ITERATION: 56\n",
      " - DATA FIDELITY (X): 9.50238363092749e-11\n"
     ]
    },
    {
     "name": "stderr",
     "output_type": "stream",
     "text": [
      " 36% (55 of 150) |########               | Elapsed Time: 0:00:31 ETA:   0:00:52"
     ]
    },
    {
     "name": "stdout",
     "output_type": "stream",
     "text": [
      " - G (X): 2.1795490975658829e-10\n",
      " - F2 (X): 7.233237214604961e-10\n",
      " - COST: 1.0363024675263593e-09\n",
      "\n",
      " - CONVERGENCE TEST - \n",
      " - CHANGE IN COST: 0.0050096074398030925\n",
      "\n",
      " - ITERATION: 57\n",
      " - DATA FIDELITY (X): 9.456029525185855e-11\n",
      " - G (X): 2.1641795080095444e-10\n",
      " - F2 (X): 7.221722923242109e-10\n"
     ]
    },
    {
     "name": "stderr",
     "output_type": "stream",
     "text": [
      " 37% (56 of 150) |########               | Elapsed Time: 0:00:31 ETA:   0:00:51"
     ]
    },
    {
     "name": "stdout",
     "output_type": "stream",
     "text": [
      " - COST: 1.0331505383770239e-09\n",
      "\n",
      " - ITERATION: 58\n",
      " - DATA FIDELITY (X): 9.42075790155927e-11\n"
     ]
    },
    {
     "name": "stderr",
     "output_type": "stream",
     "text": [
      " 38% (57 of 150) |########               | Elapsed Time: 0:00:32 ETA:   0:00:48"
     ]
    },
    {
     "name": "stdout",
     "output_type": "stream",
     "text": [
      " - G (X): 2.1525132346330663e-10\n",
      " - F2 (X): 7.217713961606863e-10\n",
      " - COST: 1.0312302986395857e-09\n",
      "\n",
      " - ITERATION: 59\n",
      " - DATA FIDELITY (X): 9.355668860340908e-11\n"
     ]
    },
    {
     "name": "stderr",
     "output_type": "stream",
     "text": [
      " 38% (58 of 150) |########               | Elapsed Time: 0:00:32 ETA:   0:00:52"
     ]
    },
    {
     "name": "stdout",
     "output_type": "stream",
     "text": [
      " - G (X): 2.141719751778667e-10\n",
      " - F2 (X): 7.211701518850752e-10\n",
      " - COST: 1.0288988156663509e-09\n",
      "\n",
      " - ITERATION: 60\n",
      " - DATA FIDELITY (X): 9.296458309907027e-11\n",
      " - G (X): 2.1281945229678213e-10\n"
     ]
    },
    {
     "name": "stderr",
     "output_type": "stream",
     "text": [
      " 39% (59 of 150) |#########              | Elapsed Time: 0:00:33 ETA:   0:00:46"
     ]
    },
    {
     "name": "stdout",
     "output_type": "stream",
     "text": [
      " - F2 (X): 7.200406866226631e-10\n",
      " - COST: 1.0258247220185155e-09\n",
      "\n",
      " - CONVERGENCE TEST - \n",
      " - CHANGE IN COST: 0.004700048037909992\n",
      "\n",
      " - ITERATION: 61\n",
      " - DATA FIDELITY (X): 9.225945701067896e-11\n"
     ]
    },
    {
     "name": "stderr",
     "output_type": "stream",
     "text": [
      " 40% (60 of 150) |#########              | Elapsed Time: 0:00:34 ETA:   0:00:52"
     ]
    },
    {
     "name": "stdout",
     "output_type": "stream",
     "text": [
      " - G (X): 2.1144403513084305e-10\n",
      " - F2 (X): 7.182605169690102e-10\n",
      " - COST: 1.0219640091105322e-09\n",
      "\n",
      " - ITERATION: 62\n",
      " - DATA FIDELITY (X): 9.892276299243004e-11\n",
      " - G (X): 5.587908276959842e-07\n",
      " - F2 (X): 7.201390911805788e-10\n"
     ]
    },
    {
     "name": "stderr",
     "output_type": "stream",
     "text": [
      " 40% (61 of 150) |#########              | Elapsed Time: 0:00:34 ETA:   0:00:48"
     ]
    },
    {
     "name": "stdout",
     "output_type": "stream",
     "text": [
      " - COST: 5.596098895501573e-07\n",
      "\n",
      " - ITERATION: 63\n",
      " - DATA FIDELITY (X): 9.433519436741618e-11\n"
     ]
    },
    {
     "name": "stderr",
     "output_type": "stream",
     "text": [
      " 41% (62 of 150) |#########              | Elapsed Time: 0:00:35 ETA:   0:00:48"
     ]
    },
    {
     "name": "stdout",
     "output_type": "stream",
     "text": [
      " - G (X): 2.0944520979708425e-10\n",
      " - F2 (X): 7.168776173266262e-10\n",
      " - COST: 1.0206580214911266e-09\n",
      "\n",
      " - ITERATION: 64\n",
      " - DATA FIDELITY (X): 9.31991679486174e-11\n",
      " - G (X): 2.0886044084575833e-10\n"
     ]
    },
    {
     "name": "stderr",
     "output_type": "stream",
     "text": [
      " 42% (63 of 150) |#########              | Elapsed Time: 0:00:35 ETA:   0:00:47"
     ]
    },
    {
     "name": "stdout",
     "output_type": "stream",
     "text": [
      " - F2 (X): 7.146668840094163e-10\n",
      " - COST: 1.0167264928037921e-09\n",
      "\n",
      " - CONVERGENCE TEST - \n",
      " - CHANGE IN COST: 274.1723347388289\n",
      "\n",
      " - ITERATION: 65\n",
      " - DATA FIDELITY (X): 9.198890661459859e-11\n"
     ]
    },
    {
     "name": "stderr",
     "output_type": "stream",
     "text": [
      " 42% (64 of 150) |#########              | Elapsed Time: 0:00:36 ETA:   0:00:46"
     ]
    },
    {
     "name": "stdout",
     "output_type": "stream",
     "text": [
      " - G (X): 2.0697431987893842e-10\n",
      " - F2 (X): 7.12447262009392e-10\n",
      " - COST: 1.011410488502929e-09\n",
      "\n",
      " - ITERATION: 66\n",
      " - DATA FIDELITY (X): 9.094807634628874e-11\n",
      " - G (X): 2.0579667567040045e-10\n"
     ]
    },
    {
     "name": "stderr",
     "output_type": "stream",
     "text": [
      " 43% (65 of 150) |#########              | Elapsed Time: 0:00:36 ETA:   0:00:46"
     ]
    },
    {
     "name": "stdout",
     "output_type": "stream",
     "text": [
      " - F2 (X): 7.103455055452955e-10\n",
      " - COST: 1.0070902575619848e-09\n",
      "\n",
      " - ITERATION: 67\n",
      " - DATA FIDELITY (X): 9.028564664045537e-11\n"
     ]
    },
    {
     "name": "stderr",
     "output_type": "stream",
     "text": [
      " 44% (66 of 150) |##########             | Elapsed Time: 0:00:37 ETA:   0:00:46"
     ]
    },
    {
     "name": "stdout",
     "output_type": "stream",
     "text": [
      " - G (X): 2.045572175113434e-10\n",
      " - F2 (X): 7.082725042152825e-10\n",
      " - COST: 1.0031153683670812e-09\n",
      "\n",
      " - ITERATION: 68\n",
      " - DATA FIDELITY (X): 8.928420181674825e-11\n",
      " - G (X): 2.0334738126123675e-10\n"
     ]
    },
    {
     "name": "stderr",
     "output_type": "stream",
     "text": [
      " 44% (67 of 150) |##########             | Elapsed Time: 0:00:37 ETA:   0:00:45"
     ]
    },
    {
     "name": "stdout",
     "output_type": "stream",
     "text": [
      " - F2 (X): 7.047318757593217e-10\n",
      " - COST: 9.973634588373067e-10\n",
      "\n",
      " - CONVERGENCE TEST - \n",
      " - CHANGE IN COST: 0.009008802600380889\n",
      "\n",
      " - ITERATION: 69\n",
      " - DATA FIDELITY (X): 8.846436416985793e-11\n"
     ]
    },
    {
     "name": "stderr",
     "output_type": "stream",
     "text": [
      " 45% (68 of 150) |##########             | Elapsed Time: 0:00:38 ETA:   0:00:45"
     ]
    },
    {
     "name": "stdout",
     "output_type": "stream",
     "text": [
      " - G (X): 2.021976337200899e-10\n",
      " - F2 (X): 7.009965799310928e-10\n",
      " - COST: 9.916585778210406e-10\n",
      "\n",
      " - ITERATION: 70\n",
      " - DATA FIDELITY (X): 8.764346918431807e-11\n",
      " - G (X): 2.0098217848550078e-10\n"
     ]
    },
    {
     "name": "stderr",
     "output_type": "stream",
     "text": [
      " 46% (69 of 150) |##########             | Elapsed Time: 0:00:38 ETA:   0:00:44"
     ]
    },
    {
     "name": "stdout",
     "output_type": "stream",
     "text": [
      " - F2 (X): 6.971336747769844e-10\n",
      " - COST: 9.857593224468033e-10\n",
      "\n",
      " - ITERATION: 71\n",
      " - DATA FIDELITY (X): 8.665608588624013e-11\n"
     ]
    },
    {
     "name": "stderr",
     "output_type": "stream",
     "text": [
      " 46% (70 of 150) |##########             | Elapsed Time: 0:00:39 ETA:   0:00:43"
     ]
    },
    {
     "name": "stdout",
     "output_type": "stream",
     "text": [
      " - G (X): 1.9976283462121578e-10\n",
      " - F2 (X): 6.928086253408086e-10\n",
      " - COST: 9.792275458482645e-10\n",
      "\n",
      " - ITERATION: 72\n",
      " - DATA FIDELITY (X): 8.59049268259679e-11\n",
      " - G (X): 1.9864576825353315e-10\n"
     ]
    },
    {
     "name": "stderr",
     "output_type": "stream",
     "text": [
      " 47% (71 of 150) |##########             | Elapsed Time: 0:00:40 ETA:   0:00:43"
     ]
    },
    {
     "name": "stdout",
     "output_type": "stream",
     "text": [
      " - F2 (X): 6.889507866633913e-10\n",
      " - COST: 9.735014817428923e-10\n",
      "\n",
      " - CONVERGENCE TEST - \n",
      " - CHANGE IN COST: 0.012643266079340562\n",
      "\n",
      " - ITERATION: 73\n",
      " - DATA FIDELITY (X): 8.515097705319438e-11\n"
     ]
    },
    {
     "name": "stderr",
     "output_type": "stream",
     "text": [
      " 48% (72 of 150) |###########            | Elapsed Time: 0:00:40 ETA:   0:00:42"
     ]
    },
    {
     "name": "stdout",
     "output_type": "stream",
     "text": [
      " - G (X): 1.9753369479832766e-10\n",
      " - F2 (X): 6.850789286638672e-10\n",
      " - COST: 9.677636005153892e-10\n",
      "\n",
      " - ITERATION: 74\n",
      " - DATA FIDELITY (X): 8.440518096112261e-11\n",
      " - G (X): 1.9620167565973875e-10\n"
     ]
    },
    {
     "name": "stderr",
     "output_type": "stream",
     "text": [
      " 48% (73 of 150) |###########            | Elapsed Time: 0:00:41 ETA:   0:00:42"
     ]
    },
    {
     "name": "stdout",
     "output_type": "stream",
     "text": [
      " - F2 (X): 6.814904928252934e-10\n",
      " - COST: 9.620973494461548e-10\n",
      "\n",
      " - ITERATION: 75\n",
      " - DATA FIDELITY (X): 8.353943764208746e-11\n"
     ]
    },
    {
     "name": "stderr",
     "output_type": "stream",
     "text": [
      " 49% (74 of 150) |###########            | Elapsed Time: 0:00:41 ETA:   0:00:41"
     ]
    },
    {
     "name": "stdout",
     "output_type": "stream",
     "text": [
      " - G (X): 1.9516179876467793e-10\n",
      " - F2 (X): 6.776958148967446e-10\n",
      " - COST: 9.563970513035101e-10\n",
      "\n",
      " - ITERATION: 76\n",
      " - DATA FIDELITY (X): 8.28620142064852e-11\n",
      " - G (X): 1.9407556497188807e-10\n"
     ]
    },
    {
     "name": "stderr",
     "output_type": "stream",
     "text": [
      " 50% (75 of 150) |###########            | Elapsed Time: 0:00:42 ETA:   0:00:41"
     ]
    },
    {
     "name": "stdout",
     "output_type": "stream",
     "text": [
      " - F2 (X): 6.741577139216338e-10\n",
      " - COST: 9.51095293100007e-10\n",
      "\n",
      " - CONVERGENCE TEST - \n",
      " - CHANGE IN COST: 0.011726707907193023\n",
      "\n",
      " - ITERATION: 77\n",
      " - DATA FIDELITY (X): 8.223129957218757e-11\n"
     ]
    },
    {
     "name": "stderr",
     "output_type": "stream",
     "text": [
      " 50% (76 of 150) |###########            | Elapsed Time: 0:00:42 ETA:   0:00:38"
     ]
    },
    {
     "name": "stdout",
     "output_type": "stream",
     "text": [
      " - G (X): 1.9301831055317103e-10\n",
      " - F2 (X): 6.708411801688293e-10\n",
      " - COST: 9.46090790294188e-10\n",
      "\n",
      " - ITERATION: 78\n",
      " - DATA FIDELITY (X): 8.156340799526255e-11\n"
     ]
    },
    {
     "name": "stderr",
     "output_type": "stream",
     "text": [
      " 51% (77 of 150) |###########            | Elapsed Time: 0:00:43 ETA:   0:00:41"
     ]
    },
    {
     "name": "stdout",
     "output_type": "stream",
     "text": [
      " - G (X): 1.9188859687231336e-10\n",
      " - F2 (X): 6.674149613314564e-10\n",
      " - COST: 9.408669661990323e-10\n",
      "\n",
      " - ITERATION: 79\n",
      " - DATA FIDELITY (X): 8.10038577235699e-11\n",
      " - G (X): 1.908166873383579e-10\n"
     ]
    },
    {
     "name": "stderr",
     "output_type": "stream",
     "text": [
      " 52% (78 of 150) |###########            | Elapsed Time: 0:00:43 ETA:   0:00:37"
     ]
    },
    {
     "name": "stdout",
     "output_type": "stream",
     "text": [
      " - F2 (X): 6.645408990455567e-10\n",
      " - COST: 9.363614441074845e-10\n",
      "\n",
      " - ITERATION: 80\n",
      " - DATA FIDELITY (X): 8.210780743579359e-11\n"
     ]
    },
    {
     "name": "stderr",
     "output_type": "stream",
     "text": [
      " 52% (79 of 150) |############           | Elapsed Time: 0:00:44 ETA:   0:00:40"
     ]
    },
    {
     "name": "stdout",
     "output_type": "stream",
     "text": [
      " - G (X): 1.8994573874845174e-10\n",
      " - F2 (X): 6.635763199063138e-10\n",
      " - COST: 9.356298660905592e-10\n",
      "\n",
      " - CONVERGENCE TEST - \n",
      " - CHANGE IN COST: 0.007994933637588887\n",
      "\n",
      " - ITERATION: 81\n",
      " - DATA FIDELITY (X): 8.097719425430663e-11\n",
      " - G (X): 1.8883830098859965e-10\n"
     ]
    },
    {
     "name": "stderr",
     "output_type": "stream",
     "text": [
      " 53% (80 of 150) |############           | Elapsed Time: 0:00:45 ETA:   0:00:38"
     ]
    },
    {
     "name": "stdout",
     "output_type": "stream",
     "text": [
      " - F2 (X): 6.60137395980012e-10\n",
      " - COST: 9.299528912229182e-10\n",
      "\n",
      " - ITERATION: 82\n",
      " - DATA FIDELITY (X): 8.029810515351977e-11\n"
     ]
    },
    {
     "name": "stderr",
     "output_type": "stream",
     "text": [
      " 54% (81 of 150) |############           | Elapsed Time: 0:00:45 ETA:   0:00:37"
     ]
    },
    {
     "name": "stdout",
     "output_type": "stream",
     "text": [
      " - G (X): 1.877563578678432e-10\n",
      " - F2 (X): 6.573304913085323e-10\n",
      " - COST: 9.253849543298952e-10\n",
      "\n",
      " - ITERATION: 83\n",
      " - DATA FIDELITY (X): 7.961236713041386e-11\n",
      " - G (X): 1.867269596695853e-10\n"
     ]
    },
    {
     "name": "stderr",
     "output_type": "stream",
     "text": [
      " 54% (82 of 150) |############           | Elapsed Time: 0:00:46 ETA:   0:00:37"
     ]
    },
    {
     "name": "stdout",
     "output_type": "stream",
     "text": [
      " - F2 (X): 6.542681148972207e-10\n",
      " - COST: 9.206074416972199e-10\n",
      "\n",
      " - ITERATION: 84\n",
      " - DATA FIDELITY (X): 7.902512523170066e-11\n"
     ]
    },
    {
     "name": "stderr",
     "output_type": "stream",
     "text": [
      " 55% (83 of 150) |############           | Elapsed Time: 0:00:46 ETA:   0:00:37"
     ]
    },
    {
     "name": "stdout",
     "output_type": "stream",
     "text": [
      " - G (X): 1.8568269572345018e-10\n",
      " - F2 (X): 6.512576935872275e-10\n",
      " - COST: 9.159655145423783e-10\n",
      "\n",
      " - CONVERGENCE TEST - \n",
      " - CHANGE IN COST: 0.010217339447073486\n",
      "\n",
      " - ITERATION: 85\n",
      " - DATA FIDELITY (X): 7.840526745102864e-11\n",
      " - G (X): 1.8463920496769006e-10\n"
     ]
    },
    {
     "name": "stderr",
     "output_type": "stream",
     "text": [
      " 56% (84 of 150) |############           | Elapsed Time: 0:00:47 ETA:   0:00:36"
     ]
    },
    {
     "name": "stdout",
     "output_type": "stream",
     "text": [
      " - F2 (X): 6.481600592525077e-10\n",
      " - COST: 9.112045316712264e-10\n",
      "\n",
      " - ITERATION: 86\n",
      " - DATA FIDELITY (X): 7.783542734468313e-11\n"
     ]
    },
    {
     "name": "stderr",
     "output_type": "stream",
     "text": [
      " 56% (85 of 150) |#############          | Elapsed Time: 0:00:47 ETA:   0:00:35"
     ]
    },
    {
     "name": "stdout",
     "output_type": "stream",
     "text": [
      " - G (X): 1.835751390126663e-10\n",
      " - F2 (X): 6.454279715633166e-10\n",
      " - COST: 9.068385379206661e-10\n",
      "\n",
      " - ITERATION: 87\n",
      " - DATA FIDELITY (X): 7.734442433374699e-11\n",
      " - G (X): 1.825660382990814e-10\n"
     ]
    },
    {
     "name": "stderr",
     "output_type": "stream",
     "text": [
      " 57% (86 of 150) |#############          | Elapsed Time: 0:00:48 ETA:   0:00:35"
     ]
    },
    {
     "name": "stdout",
     "output_type": "stream",
     "text": [
      " - F2 (X): 6.432213039480408e-10\n",
      " - COST: 9.031317665808692e-10\n",
      "\n",
      " - ITERATION: 88\n",
      " - DATA FIDELITY (X): 7.685261210550829e-11\n"
     ]
    },
    {
     "name": "stderr",
     "output_type": "stream",
     "text": [
      " 57% (87 of 150) |#############          | Elapsed Time: 0:00:48 ETA:   0:00:34"
     ]
    },
    {
     "name": "stdout",
     "output_type": "stream",
     "text": [
      " - G (X): 1.8159541786853836e-10\n",
      " - F2 (X): 6.408254503386285e-10\n",
      " - COST: 8.992734803126751e-10\n",
      "\n",
      " - CONVERGENCE TEST - \n",
      " - CHANGE IN COST: 0.00867608587208687\n",
      "\n",
      " - ITERATION: 89\n",
      " - DATA FIDELITY (X): 7.626966950902234e-11\n"
     ]
    },
    {
     "name": "stderr",
     "output_type": "stream",
     "text": [
      " 58% (88 of 150) |#############          | Elapsed Time: 0:00:49 ETA:   0:00:34"
     ]
    },
    {
     "name": "stdout",
     "output_type": "stream",
     "text": [
      " - G (X): 1.8057396964944908e-10\n",
      " - F2 (X): 6.382973019072468e-10\n",
      " - COST: 8.951409410657182e-10\n",
      "\n",
      " - ITERATION: 90\n",
      " - DATA FIDELITY (X): 7.566415450270368e-11\n"
     ]
    },
    {
     "name": "stderr",
     "output_type": "stream",
     "text": [
      " 59% (89 of 150) |#############          | Elapsed Time: 0:00:49 ETA:   0:00:33"
     ]
    },
    {
     "name": "stdout",
     "output_type": "stream",
     "text": [
      " - G (X): 1.7955854008300267e-10\n",
      " - F2 (X): 6.356832291828178e-10\n",
      " - COST: 8.909059237685241e-10\n",
      "\n",
      " - ITERATION: 91\n",
      " - DATA FIDELITY (X): 7.509360817281152e-11\n",
      " - G (X): 1.785698957655034e-10\n"
     ]
    },
    {
     "name": "stderr",
     "output_type": "stream",
     "text": [
      " 60% (90 of 150) |#############          | Elapsed Time: 0:00:50 ETA:   0:00:33"
     ]
    },
    {
     "name": "stdout",
     "output_type": "stream",
     "text": [
      " - F2 (X): 6.332128422966029e-10\n",
      " - COST: 8.868763462349179e-10\n",
      "\n",
      " - ITERATION: 92\n",
      " - DATA FIDELITY (X): 7.450013771331276e-11\n"
     ]
    },
    {
     "name": "stderr",
     "output_type": "stream",
     "text": [
      " 60% (91 of 150) |#############          | Elapsed Time: 0:00:51 ETA:   0:00:32"
     ]
    },
    {
     "name": "stdout",
     "output_type": "stream",
     "text": [
      " - G (X): 1.7756394670160379e-10\n",
      " - F2 (X): 6.307628238115431e-10\n",
      " - COST: 8.828269082264597e-10\n",
      "\n",
      " - CONVERGENCE TEST - \n",
      " - CHANGE IN COST: 0.009235226488770353\n",
      "\n",
      " - ITERATION: 93\n",
      " - DATA FIDELITY (X): 7.392491063857425e-11\n",
      " - G (X): 1.7655263643124035e-10\n"
     ]
    },
    {
     "name": "stderr",
     "output_type": "stream",
     "text": [
      " 61% (92 of 150) |##############         | Elapsed Time: 0:00:51 ETA:   0:00:31"
     ]
    },
    {
     "name": "stdout",
     "output_type": "stream",
     "text": [
      " - F2 (X): 6.28316333603393e-10\n",
      " - COST: 8.787938806732076e-10\n",
      "\n",
      " - ITERATION: 94\n",
      " - DATA FIDELITY (X): 7.34006710102662e-11\n"
     ]
    },
    {
     "name": "stderr",
     "output_type": "stream",
     "text": [
      " 62% (93 of 150) |##############         | Elapsed Time: 0:00:52 ETA:   0:00:31"
     ]
    },
    {
     "name": "stdout",
     "output_type": "stream",
     "text": [
      " - G (X): 1.7562499021213696e-10\n",
      " - F2 (X): 6.260727560660803e-10\n",
      " - COST: 8.750984172884834e-10\n",
      "\n",
      " - ITERATION: 95\n",
      " - DATA FIDELITY (X): 7.298297977959514e-11\n",
      " - G (X): 1.746473976928688e-10\n"
     ]
    },
    {
     "name": "stderr",
     "output_type": "stream",
     "text": [
      " 62% (94 of 150) |##############         | Elapsed Time: 0:00:52 ETA:   0:00:30"
     ]
    },
    {
     "name": "stdout",
     "output_type": "stream",
     "text": [
      " - F2 (X): 6.243578855975637e-10\n",
      " - COST: 8.719882630700277e-10\n",
      "\n",
      " - ITERATION: 96\n",
      " - DATA FIDELITY (X): 7.257475073085864e-11\n"
     ]
    },
    {
     "name": "stderr",
     "output_type": "stream",
     "text": [
      " 63% (95 of 150) |##############         | Elapsed Time: 0:00:53 ETA:   0:00:28"
     ]
    },
    {
     "name": "stdout",
     "output_type": "stream",
     "text": [
      " - G (X): 1.737214432781294e-10\n",
      " - F2 (X): 6.225411756253147e-10\n",
      " - COST: 8.688373696343028e-10\n",
      "\n",
      " - CONVERGENCE TEST - \n",
      " - CHANGE IN COST: 0.0075060161178014855\n",
      "\n",
      " - ITERATION: 97\n",
      " - DATA FIDELITY (X): 7.213866226136e-11\n"
     ]
    },
    {
     "name": "stderr",
     "output_type": "stream",
     "text": [
      " 64% (96 of 150) |##############         | Elapsed Time: 0:00:53 ETA:   0:00:30"
     ]
    },
    {
     "name": "stdout",
     "output_type": "stream",
     "text": [
      " - G (X): 1.7276681244803549e-10\n",
      " - F2 (X): 6.205521488908632e-10\n",
      " - COST: 8.654576236002587e-10\n",
      "\n",
      " - ITERATION: 98\n",
      " - DATA FIDELITY (X): 7.171390648850151e-11\n",
      " - G (X): 1.718365642647903e-10\n"
     ]
    },
    {
     "name": "stderr",
     "output_type": "stream",
     "text": [
      " 64% (97 of 150) |##############         | Elapsed Time: 0:00:54 ETA:   0:00:27"
     ]
    },
    {
     "name": "stdout",
     "output_type": "stream",
     "text": [
      " - F2 (X): 6.187060428154958e-10\n",
      " - COST: 8.622565135687877e-10\n",
      "\n",
      " - ITERATION: 99\n",
      " - DATA FIDELITY (X): 7.12836445983027e-11\n"
     ]
    },
    {
     "name": "stderr",
     "output_type": "stream",
     "text": [
      " 65% (98 of 150) |###############        | Elapsed Time: 0:00:54 ETA:   0:00:29"
     ]
    },
    {
     "name": "stdout",
     "output_type": "stream",
     "text": [
      " - G (X): 1.7090435034836085e-10\n",
      " - F2 (X): 6.16975341691731e-10\n",
      " - COST: 8.591633366383945e-10\n",
      "\n",
      " - ITERATION: 100\n",
      " - DATA FIDELITY (X): 7.080919790501296e-11\n",
      " - G (X): 1.6997535518683604e-10\n"
     ]
    },
    {
     "name": "stderr",
     "output_type": "stream",
     "text": [
      " 66% (99 of 150) |###############        | Elapsed Time: 0:00:55 ETA:   0:00:27"
     ]
    },
    {
     "name": "stdout",
     "output_type": "stream",
     "text": [
      " - F2 (X): 6.149728250950389e-10\n",
      " - COST: 8.557573781868879e-10\n",
      "\n",
      " - CONVERGENCE TEST - \n",
      " - CHANGE IN COST: 0.007460066365264823\n",
      "\n",
      " - ITERATION: 101\n",
      " - DATA FIDELITY (X): 7.03028143978867e-11\n"
     ]
    },
    {
     "name": "stderr",
     "output_type": "stream",
     "text": [
      " 66% (100 of 150) |##############        | Elapsed Time: 0:00:56 ETA:   0:00:27"
     ]
    },
    {
     "name": "stdout",
     "output_type": "stream",
     "text": [
      " - G (X): 1.6901945138348752e-10\n",
      " - F2 (X): 6.128182364896288e-10\n",
      " - COST: 8.521405022710029e-10\n",
      "\n",
      " - ITERATION: 102\n",
      " - DATA FIDELITY (X): 6.976937720398236e-11\n",
      " - G (X): 1.681059716812173e-10\n"
     ]
    },
    {
     "name": "stderr",
     "output_type": "stream",
     "text": [
      " 67% (101 of 150) |##############        | Elapsed Time: 0:00:56 ETA:   0:00:27"
     ]
    },
    {
     "name": "stdout",
     "output_type": "stream",
     "text": [
      " - F2 (X): 6.104044318001831e-10\n",
      " - COST: 8.482797806853828e-10\n",
      "\n",
      " - ITERATION: 103\n",
      " - DATA FIDELITY (X): 6.918997213365639e-11\n"
     ]
    },
    {
     "name": "stderr",
     "output_type": "stream",
     "text": [
      " 68% (102 of 150) |##############        | Elapsed Time: 0:00:57 ETA:   0:00:26"
     ]
    },
    {
     "name": "stdout",
     "output_type": "stream",
     "text": [
      " - G (X): 1.671767890857704e-10\n",
      " - F2 (X): 6.076538284166547e-10\n",
      " - COST: 8.440205896360815e-10\n",
      "\n",
      " - ITERATION: 104\n",
      " - DATA FIDELITY (X): 6.846406752314071e-11\n",
      " - G (X): 1.6623031689097638e-10\n"
     ]
    },
    {
     "name": "stderr",
     "output_type": "stream",
     "text": [
      " 68% (103 of 150) |###############       | Elapsed Time: 0:00:57 ETA:   0:00:25"
     ]
    },
    {
     "name": "stdout",
     "output_type": "stream",
     "text": [
      " - F2 (X): 6.045116968751432e-10\n",
      " - COST: 8.392060812892603e-10\n",
      "\n",
      " - CONVERGENCE TEST - \n",
      " - CHANGE IN COST: 0.010214674189776164\n",
      "\n",
      " - ITERATION: 105\n",
      " - DATA FIDELITY (X): 6.761421575784687e-11\n"
     ]
    },
    {
     "name": "stderr",
     "output_type": "stream",
     "text": [
      " 69% (104 of 150) |###############       | Elapsed Time: 0:00:58 ETA:   0:00:25"
     ]
    },
    {
     "name": "stdout",
     "output_type": "stream",
     "text": [
      " - G (X): 1.6527227834346565e-10\n",
      " - F2 (X): 6.007604928336612e-10\n",
      " - COST: 8.336469869349737e-10\n",
      "\n",
      " - ITERATION: 106\n",
      " - DATA FIDELITY (X): 6.674498253564664e-11\n",
      " - G (X): 1.6431113015373376e-10\n"
     ]
    },
    {
     "name": "stderr",
     "output_type": "stream",
     "text": [
      " 70% (105 of 150) |###############       | Elapsed Time: 0:00:58 ETA:   0:00:24"
     ]
    },
    {
     "name": "stdout",
     "output_type": "stream",
     "text": [
      " - F2 (X): 5.968563142176577e-10\n",
      " - COST: 8.279124269070381e-10\n",
      "\n",
      " - ITERATION: 107\n",
      " - DATA FIDELITY (X): 6.589242865805299e-11\n"
     ]
    },
    {
     "name": "stderr",
     "output_type": "stream",
     "text": [
      " 70% (106 of 150) |###############       | Elapsed Time: 0:00:59 ETA:   0:00:24"
     ]
    },
    {
     "name": "stdout",
     "output_type": "stream",
     "text": [
      " - G (X): 1.6335989955846907e-10\n",
      " - F2 (X): 5.926703839451439e-10\n",
      " - COST: 8.219227121616659e-10\n",
      "\n",
      " - ITERATION: 108\n",
      " - DATA FIDELITY (X): 6.51056880458905e-11\n",
      " - G (X): 1.6241156021687593e-10\n"
     ]
    },
    {
     "name": "stderr",
     "output_type": "stream",
     "text": [
      " 71% (107 of 150) |###############       | Elapsed Time: 0:00:59 ETA:   0:00:23"
     ]
    },
    {
     "name": "stdout",
     "output_type": "stream",
     "text": [
      " - F2 (X): 5.884601859070043e-10\n",
      " - COST: 8.159774341697708e-10\n",
      "\n",
      " - CONVERGENCE TEST - \n",
      " - CHANGE IN COST: 0.01444487782943743\n",
      "\n",
      " - ITERATION: 109\n",
      " - DATA FIDELITY (X): 6.438248919333074e-11\n"
     ]
    },
    {
     "name": "stderr",
     "output_type": "stream",
     "text": [
      " 72% (108 of 150) |###############       | Elapsed Time: 0:01:00 ETA:   0:00:23"
     ]
    },
    {
     "name": "stdout",
     "output_type": "stream",
     "text": [
      " - G (X): 1.6145510465743568e-10\n",
      " - F2 (X): 5.843017753514108e-10\n",
      " - COST: 8.101393692021772e-10\n",
      "\n",
      " - ITERATION: 110\n",
      " - DATA FIDELITY (X): 6.374214723447374e-11\n"
     ]
    },
    {
     "name": "stderr",
     "output_type": "stream",
     "text": [
      " 72% (109 of 150) |###############       | Elapsed Time: 0:01:00 ETA:   0:00:22"
     ]
    },
    {
     "name": "stdout",
     "output_type": "stream",
     "text": [
      " - G (X): 1.6055832853618882e-10\n",
      " - F2 (X): 5.804801253991388e-10\n",
      " - COST: 8.047806011698014e-10\n",
      "\n",
      " - ITERATION: 111\n",
      " - DATA FIDELITY (X): 6.313694910800564e-11\n"
     ]
    },
    {
     "name": "stderr",
     "output_type": "stream",
     "text": [
      " 73% (110 of 150) |################      | Elapsed Time: 0:01:01 ETA:   0:00:21"
     ]
    },
    {
     "name": "stdout",
     "output_type": "stream",
     "text": [
      " - G (X): 1.5961539912262487e-10\n",
      " - F2 (X): 5.768770558398341e-10\n",
      " - COST: 7.996294040704646e-10\n",
      "\n",
      " - ITERATION: 112\n",
      " - DATA FIDELITY (X): 6.257072340007462e-11\n",
      " - G (X): 1.587385731420916e-10\n"
     ]
    },
    {
     "name": "stderr",
     "output_type": "stream",
     "text": [
      " 74% (111 of 150) |################      | Elapsed Time: 0:01:02 ETA:   0:00:21"
     ]
    },
    {
     "name": "stdout",
     "output_type": "stream",
     "text": [
      " - F2 (X): 5.733383793722482e-10\n",
      " - COST: 7.946476759144145e-10\n",
      "\n",
      " - CONVERGENCE TEST - \n",
      " - CHANGE IN COST: 0.01294811965012727\n",
      "\n",
      " - ITERATION: 113\n",
      " - DATA FIDELITY (X): 6.204656879544481e-11\n"
     ]
    },
    {
     "name": "stderr",
     "output_type": "stream",
     "text": [
      " 74% (112 of 150) |################      | Elapsed Time: 0:01:02 ETA:   0:00:20"
     ]
    },
    {
     "name": "stdout",
     "output_type": "stream",
     "text": [
      " - G (X): 1.5783919251375743e-10\n",
      " - F2 (X): 5.700235945295415e-10\n",
      " - COST: 7.899093558387437e-10\n",
      "\n",
      " - ITERATION: 114\n",
      " - DATA FIDELITY (X): 6.154675009068907e-11\n",
      " - G (X): 1.569628745597269e-10\n"
     ]
    },
    {
     "name": "stderr",
     "output_type": "stream",
     "text": [
      " 75% (113 of 150) |################      | Elapsed Time: 0:01:03 ETA:   0:00:20"
     ]
    },
    {
     "name": "stdout",
     "output_type": "stream",
     "text": [
      " - F2 (X): 5.667307393190381e-10\n",
      " - COST: 7.852403639694541e-10\n",
      "\n",
      " - ITERATION: 115\n",
      " - DATA FIDELITY (X): 6.083264845125714e-11\n"
     ]
    },
    {
     "name": "stderr",
     "output_type": "stream",
     "text": [
      " 76% (114 of 150) |################      | Elapsed Time: 0:01:03 ETA:   0:00:18"
     ]
    },
    {
     "name": "stdout",
     "output_type": "stream",
     "text": [
      " - G (X): 1.560618785769462e-10\n",
      " - F2 (X): 5.630607407268713e-10\n",
      " - COST: 7.799552677550747e-10\n",
      "\n",
      " - ITERATION: 116\n",
      " - DATA FIDELITY (X): 6.033037795555225e-11\n"
     ]
    },
    {
     "name": "stderr",
     "output_type": "stream",
     "text": [
      " 76% (115 of 150) |################      | Elapsed Time: 0:01:04 ETA:   0:00:20"
     ]
    },
    {
     "name": "stdout",
     "output_type": "stream",
     "text": [
      " - G (X): 1.5516395708866775e-10\n",
      " - F2 (X): 5.596467759136328e-10\n",
      " - COST: 7.751411109578529e-10\n",
      "\n",
      " - CONVERGENCE TEST - \n",
      " - CHANGE IN COST: 0.012895240044136239\n",
      "\n",
      " - ITERATION: 117\n",
      " - DATA FIDELITY (X): 5.9887393151238e-11\n",
      " - G (X): 1.5430763614515276e-10\n"
     ]
    },
    {
     "name": "stderr",
     "output_type": "stream",
     "text": [
      " 77% (116 of 150) |#################     | Elapsed Time: 0:01:04 ETA:   0:00:17"
     ]
    },
    {
     "name": "stdout",
     "output_type": "stream",
     "text": [
      " - F2 (X): 5.564307942934876e-10\n",
      " - COST: 7.706258235898783e-10\n",
      "\n",
      " - ITERATION: 118\n",
      " - DATA FIDELITY (X): 5.94447514742949e-11\n"
     ]
    },
    {
     "name": "stderr",
     "output_type": "stream",
     "text": [
      " 78% (117 of 150) |#################     | Elapsed Time: 0:01:05 ETA:   0:00:19"
     ]
    },
    {
     "name": "stdout",
     "output_type": "stream",
     "text": [
      " - G (X): 1.5344173378479802e-10\n",
      " - F2 (X): 5.53298541893023e-10\n",
      " - COST: 7.66185027152116e-10\n",
      "\n",
      " - ITERATION: 119\n",
      " - DATA FIDELITY (X): 5.897637178846266e-11\n",
      " - G (X): 1.525766574287193e-10\n"
     ]
    },
    {
     "name": "stderr",
     "output_type": "stream",
     "text": [
      " 78% (118 of 150) |#################     | Elapsed Time: 0:01:05 ETA:   0:00:17"
     ]
    },
    {
     "name": "stdout",
     "output_type": "stream",
     "text": [
      " - F2 (X): 5.501520808297443e-10\n",
      " - COST: 7.617051100469262e-10\n",
      "\n",
      " - ITERATION: 120\n",
      " - DATA FIDELITY (X): 5.849273747003586e-11\n"
     ]
    },
    {
     "name": "stderr",
     "output_type": "stream",
     "text": [
      " 79% (119 of 150) |#################     | Elapsed Time: 0:01:06 ETA:   0:00:17"
     ]
    },
    {
     "name": "stdout",
     "output_type": "stream",
     "text": [
      " - G (X): 1.5170950467036566e-10\n",
      " - F2 (X): 5.467819124040481e-10\n",
      " - COST: 7.569841545444496e-10\n",
      "\n",
      " - CONVERGENCE TEST - \n",
      " - CHANGE IN COST: 0.011932385757328898\n",
      "\n",
      " - ITERATION: 121\n",
      " - DATA FIDELITY (X): 5.8019428054987306e-11\n",
      " - G (X): 1.5087077538267831e-10\n"
     ]
    },
    {
     "name": "stderr",
     "output_type": "stream",
     "text": [
      " 80% (120 of 150) |#################     | Elapsed Time: 0:01:06 ETA:   0:00:16"
     ]
    },
    {
     "name": "stdout",
     "output_type": "stream",
     "text": [
      " - F2 (X): 5.434145755513396e-10\n",
      " - COST: 7.523047789890051e-10\n",
      "\n",
      " - ITERATION: 122\n",
      " - DATA FIDELITY (X): 5.757095889108595e-11\n"
     ]
    },
    {
     "name": "stderr",
     "output_type": "stream",
     "text": [
      " 80% (121 of 150) |#################     | Elapsed Time: 0:01:07 ETA:   0:00:15"
     ]
    },
    {
     "name": "stdout",
     "output_type": "stream",
     "text": [
      " - G (X): 1.5002862277219752e-10\n",
      " - F2 (X): 5.402307422671301e-10\n",
      " - COST: 7.478303239304136e-10\n",
      "\n",
      " - ITERATION: 123\n",
      " - DATA FIDELITY (X): 5.715496716161622e-11\n",
      " - G (X): 1.4919801421253112e-10\n"
     ]
    },
    {
     "name": "stderr",
     "output_type": "stream",
     "text": [
      " 81% (122 of 150) |#################     | Elapsed Time: 0:01:08 ETA:   0:00:15"
     ]
    },
    {
     "name": "stdout",
     "output_type": "stream",
     "text": [
      " - F2 (X): 5.37310168455944e-10\n",
      " - COST: 7.436631498300914e-10\n",
      "\n",
      " - ITERATION: 124\n",
      " - DATA FIDELITY (X): 5.67713672757233e-11\n"
     ]
    },
    {
     "name": "stderr",
     "output_type": "stream",
     "text": [
      " 82% (123 of 150) |##################    | Elapsed Time: 0:01:08 ETA:   0:00:14"
     ]
    },
    {
     "name": "stdout",
     "output_type": "stream",
     "text": [
      " - G (X): 1.483553695438209e-10\n",
      " - F2 (X): 5.344724159767405e-10\n",
      " - COST: 7.395991527962846e-10\n",
      "\n",
      " - CONVERGENCE TEST - \n",
      " - CHANGE IN COST: 0.011375466269968954\n",
      "\n",
      " - ITERATION: 125\n",
      " - DATA FIDELITY (X): 5.6399368044096e-11\n",
      " - G (X): 1.4754402494947636e-10\n"
     ]
    },
    {
     "name": "stderr",
     "output_type": "stream",
     "text": [
      " 82% (124 of 150) |##################    | Elapsed Time: 0:01:09 ETA:   0:00:14"
     ]
    },
    {
     "name": "stdout",
     "output_type": "stream",
     "text": [
      " - F2 (X): 5.316590049800803e-10\n",
      " - COST: 7.356023979736526e-10\n",
      "\n",
      " - ITERATION: 126\n",
      " - DATA FIDELITY (X): 5.603331538809613e-11\n"
     ]
    },
    {
     "name": "stderr",
     "output_type": "stream",
     "text": [
      " 83% (125 of 150) |##################    | Elapsed Time: 0:01:09 ETA:   0:00:13"
     ]
    },
    {
     "name": "stdout",
     "output_type": "stream",
     "text": [
      " - G (X): 1.4673528064308936e-10\n",
      " - F2 (X): 5.288501863566675e-10\n",
      " - COST: 7.31618782387853e-10\n",
      "\n",
      " - ITERATION: 127\n",
      " - DATA FIDELITY (X): 5.568445530059564e-11\n",
      " - G (X): 1.4592516024072298e-10\n"
     ]
    },
    {
     "name": "stderr",
     "output_type": "stream",
     "text": [
      " 84% (126 of 150) |##################    | Elapsed Time: 0:01:10 ETA:   0:00:13"
     ]
    },
    {
     "name": "stdout",
     "output_type": "stream",
     "text": [
      " - F2 (X): 5.261101602893023e-10\n",
      " - COST: 7.277197758306209e-10\n",
      "\n",
      " - ITERATION: 128\n",
      " - DATA FIDELITY (X): 5.5350048580226064e-11\n"
     ]
    },
    {
     "name": "stderr",
     "output_type": "stream",
     "text": [
      " 84% (127 of 150) |##################    | Elapsed Time: 0:01:10 ETA:   0:00:12"
     ]
    },
    {
     "name": "stdout",
     "output_type": "stream",
     "text": [
      " - G (X): 1.4512662693856749e-10\n",
      " - F2 (X): 5.234186311321548e-10\n",
      " - COST: 7.238953066509483e-10\n",
      "\n",
      " - CONVERGENCE TEST - \n",
      " - CHANGE IN COST: 0.01075085128852315\n",
      "\n",
      " - ITERATION: 129\n",
      " - DATA FIDELITY (X): 5.4999017763349416e-11\n",
      " - G (X): 1.443311302636596e-10\n"
     ]
    },
    {
     "name": "stderr",
     "output_type": "stream",
     "text": [
      " 85% (128 of 150) |##################    | Elapsed Time: 0:01:11 ETA:   0:00:12"
     ]
    },
    {
     "name": "stdout",
     "output_type": "stream",
     "text": [
      " - F2 (X): 5.206197783997877e-10\n",
      " - COST: 7.199499264267968e-10\n",
      "\n",
      " - ITERATION: 130\n",
      " - DATA FIDELITY (X): 5.463853742459952e-11\n"
     ]
    },
    {
     "name": "stderr",
     "output_type": "stream",
     "text": [
      " 86% (129 of 150) |##################    | Elapsed Time: 0:01:11 ETA:   0:00:11"
     ]
    },
    {
     "name": "stdout",
     "output_type": "stream",
     "text": [
      " - G (X): 1.4353656595566953e-10\n",
      " - F2 (X): 5.17863230090776e-10\n",
      " - COST: 7.16038333471045e-10\n",
      "\n",
      " - ITERATION: 131\n",
      " - DATA FIDELITY (X): 5.425452217395218e-11\n",
      " - G (X): 1.4272421559668543e-10\n"
     ]
    },
    {
     "name": "stderr",
     "output_type": "stream",
     "text": [
      " 86% (130 of 150) |###################   | Elapsed Time: 0:01:12 ETA:   0:00:10"
     ]
    },
    {
     "name": "stdout",
     "output_type": "stream",
     "text": [
      " - F2 (X): 5.151271585117648e-10\n",
      " - COST: 7.121058962824025e-10\n",
      "\n",
      " - ITERATION: 132\n",
      " - DATA FIDELITY (X): 5.38576035051424e-11\n"
     ]
    },
    {
     "name": "stderr",
     "output_type": "stream",
     "text": [
      " 87% (131 of 150) |###################   | Elapsed Time: 0:01:13 ETA:   0:00:10"
     ]
    },
    {
     "name": "stdout",
     "output_type": "stream",
     "text": [
      " - G (X): 1.4192802269075904e-10\n",
      " - F2 (X): 5.12511736332848e-10\n",
      " - COST: 7.082973625287494e-10\n",
      "\n",
      " - CONVERGENCE TEST - \n",
      " - CHANGE IN COST: 0.010972236926388247\n",
      "\n",
      " - ITERATION: 133\n",
      " - DATA FIDELITY (X): 5.3430721967175295e-11\n",
      " - G (X): 1.4117196716592974e-10\n"
     ]
    },
    {
     "name": "stderr",
     "output_type": "stream",
     "text": [
      " 88% (132 of 150) |###################   | Elapsed Time: 0:01:13 ETA:   0:00:10"
     ]
    },
    {
     "name": "stdout",
     "output_type": "stream",
     "text": [
      " - F2 (X): 5.097104058397873e-10\n",
      " - COST: 7.043130949728923e-10\n",
      "\n",
      " - ITERATION: 134\n",
      " - DATA FIDELITY (X): 5.3020584262149733e-11\n"
     ]
    },
    {
     "name": "stderr",
     "output_type": "stream",
     "text": [
      " 88% (133 of 150) |###################   | Elapsed Time: 0:01:14 ETA:   0:00:09"
     ]
    },
    {
     "name": "stdout",
     "output_type": "stream",
     "text": [
      " - G (X): 1.4039127938634648e-10\n",
      " - F2 (X): 5.06880183030821e-10\n",
      " - COST: 7.002920466793172e-10\n",
      "\n",
      " - ITERATION: 135\n",
      " - DATA FIDELITY (X): 5.2622470523307846e-11\n"
     ]
    },
    {
     "name": "stderr",
     "output_type": "stream",
     "text": [
      " 89% (134 of 150) |###################   | Elapsed Time: 0:01:14 ETA:   0:00:09"
     ]
    },
    {
     "name": "stdout",
     "output_type": "stream",
     "text": [
      " - G (X): 1.3961456468624345e-10\n",
      " - F2 (X): 5.042767134440688e-10\n",
      " - COST: 6.965137486536201e-10\n",
      "\n",
      " - ITERATION: 136\n",
      " - DATA FIDELITY (X): 5.222359053176455e-11\n",
      " - G (X): 1.3881761626086052e-10\n"
     ]
    },
    {
     "name": "stderr",
     "output_type": "stream",
     "text": [
      " 90% (135 of 150) |###################   | Elapsed Time: 0:01:15 ETA:   0:00:07"
     ]
    },
    {
     "name": "stdout",
     "output_type": "stream",
     "text": [
      " - F2 (X): 5.018366774878243e-10\n",
      " - COST: 6.928778842804494e-10\n",
      "\n",
      " - CONVERGENCE TEST - \n",
      " - CHANGE IN COST: 0.010949762728895\n",
      "\n",
      " - ITERATION: 137\n",
      " - DATA FIDELITY (X): 5.1822327078841034e-11\n"
     ]
    },
    {
     "name": "stderr",
     "output_type": "stream",
     "text": [
      " 90% (136 of 150) |###################   | Elapsed Time: 0:01:15 ETA:   0:00:08"
     ]
    },
    {
     "name": "stdout",
     "output_type": "stream",
     "text": [
      " - G (X): 1.380638201796198e-10\n",
      " - F2 (X): 4.995093512541962e-10\n",
      " - COST: 6.89395498512657e-10\n",
      "\n",
      " - ITERATION: 138\n",
      " - DATA FIDELITY (X): 5.143131836479356e-11\n",
      " - G (X): 1.3730399471528487e-10\n",
      " - F2 (X): 4.971937361941996e-10\n"
     ]
    },
    {
     "name": "stderr",
     "output_type": "stream",
     "text": [
      " 91% (137 of 150) |####################  | Elapsed Time: 0:01:16 ETA:   0:00:07"
     ]
    },
    {
     "name": "stdout",
     "output_type": "stream",
     "text": [
      " - COST: 6.859290492742781e-10\n",
      "\n",
      " - ITERATION: 139\n",
      " - DATA FIDELITY (X): 5.1063714527723506e-11\n"
     ]
    },
    {
     "name": "stderr",
     "output_type": "stream",
     "text": [
      " 92% (138 of 150) |####################  | Elapsed Time: 0:01:16 ETA:   0:00:06"
     ]
    },
    {
     "name": "stdout",
     "output_type": "stream",
     "text": [
      " - G (X): 1.36535487323769e-10\n",
      " - F2 (X): 4.950380132829778e-10\n",
      " - COST: 6.826372151344703e-10\n",
      "\n",
      " - ITERATION: 140\n",
      " - DATA FIDELITY (X): 5.0725562134821385e-11\n",
      " - G (X): 1.3579129416052199e-10\n"
     ]
    },
    {
     "name": "stderr",
     "output_type": "stream",
     "text": [
      " 92% (139 of 150) |####################  | Elapsed Time: 0:01:17 ETA:   0:00:06"
     ]
    },
    {
     "name": "stdout",
     "output_type": "stream",
     "text": [
      " - F2 (X): 4.931565506752409e-10\n",
      " - COST: 6.796734069705843e-10\n",
      "\n",
      " - CONVERGENCE TEST - \n",
      " - CHANGE IN COST: 0.009552832864043341\n",
      "\n",
      " - ITERATION: 141\n",
      " - DATA FIDELITY (X): 5.0413745785543075e-11\n"
     ]
    },
    {
     "name": "stderr",
     "output_type": "stream",
     "text": [
      " 93% (140 of 150) |####################  | Elapsed Time: 0:01:17 ETA:   0:00:05"
     ]
    },
    {
     "name": "stdout",
     "output_type": "stream",
     "text": [
      " - G (X): 1.350457920358249e-10\n",
      " - F2 (X): 4.913889337977683e-10\n",
      " - COST: 6.768484716191363e-10\n",
      "\n",
      " - ITERATION: 142\n",
      " - DATA FIDELITY (X): 5.0130858191679536e-11\n",
      " - G (X): 1.3430725147084793e-10\n"
     ]
    },
    {
     "name": "stderr",
     "output_type": "stream",
     "text": [
      " 94% (141 of 150) |####################  | Elapsed Time: 0:01:18 ETA:   0:00:04"
     ]
    },
    {
     "name": "stdout",
     "output_type": "stream",
     "text": [
      " - F2 (X): 4.898340515211642e-10\n",
      " - COST: 6.742721611836916e-10\n",
      "\n",
      " - ITERATION: 143\n",
      " - DATA FIDELITY (X): 4.987257029282979e-11\n"
     ]
    },
    {
     "name": "stderr",
     "output_type": "stream",
     "text": [
      " 94% (142 of 150) |####################  | Elapsed Time: 0:01:19 ETA:   0:00:04"
     ]
    },
    {
     "name": "stdout",
     "output_type": "stream",
     "text": [
      " - G (X): 1.3357838552840903e-10\n",
      " - F2 (X): 4.884962836038465e-10\n",
      " - COST: 6.719472394250853e-10\n",
      "\n",
      " - ITERATION: 144\n",
      " - DATA FIDELITY (X): 4.9633253760414236e-11\n",
      " - G (X): 1.328565671931726e-10\n"
     ]
    },
    {
     "name": "stderr",
     "output_type": "stream",
     "text": [
      " 95% (143 of 150) |####################  | Elapsed Time: 0:01:19 ETA:   0:00:03"
     ]
    },
    {
     "name": "stdout",
     "output_type": "stream",
     "text": [
      " - F2 (X): 4.87376343434824e-10\n",
      " - COST: 6.698661643884108e-10\n",
      "\n",
      " - CONVERGENCE TEST - \n",
      " - CHANGE IN COST: 0.006936306466219542\n",
      "\n",
      " - ITERATION: 145\n",
      " - DATA FIDELITY (X): 4.9402794009521355e-11\n"
     ]
    },
    {
     "name": "stderr",
     "output_type": "stream",
     "text": [
      " 96% (144 of 150) |##################### | Elapsed Time: 0:01:20 ETA:   0:00:03"
     ]
    },
    {
     "name": "stdout",
     "output_type": "stream",
     "text": [
      " - G (X): 1.3213554066576625e-10\n",
      " - F2 (X): 4.862415865911059e-10\n",
      " - COST: 6.677799212663935e-10\n",
      "\n",
      " - ITERATION: 146\n",
      " - DATA FIDELITY (X): 4.920068495376128e-11\n",
      " - G (X): 1.3141889662690504e-10\n"
     ]
    },
    {
     "name": "stderr",
     "output_type": "stream",
     "text": [
      " 96% (145 of 150) |##################### | Elapsed Time: 0:01:20 ETA:   0:00:02"
     ]
    },
    {
     "name": "stdout",
     "output_type": "stream",
     "text": [
      " - F2 (X): 4.852456560125602e-10\n",
      " - COST: 6.658652375932265e-10\n",
      "\n",
      " - ITERATION: 147\n",
      " - DATA FIDELITY (X): 4.9048039725460436e-11\n"
     ]
    },
    {
     "name": "stderr",
     "output_type": "stream",
     "text": [
      " 97% (146 of 150) |##################### | Elapsed Time: 0:01:21 ETA:   0:00:02"
     ]
    },
    {
     "name": "stdout",
     "output_type": "stream",
     "text": [
      " - G (X): 1.3069080942364165e-10\n",
      " - F2 (X): 4.846823967011326e-10\n",
      " - COST: 6.644212458502347e-10\n",
      "\n",
      " - ITERATION: 148\n",
      " - DATA FIDELITY (X): 4.8889493674191106e-11\n",
      " - G (X): 1.2996311764104636e-10\n"
     ]
    },
    {
     "name": "stderr",
     "output_type": "stream",
     "text": [
      " 98% (147 of 150) |##################### | Elapsed Time: 0:01:21 ETA:   0:00:01"
     ]
    },
    {
     "name": "stdout",
     "output_type": "stream",
     "text": [
      " - F2 (X): 4.844514747698899e-10\n",
      " - COST: 6.633040860851273e-10\n",
      "\n",
      " - CONVERGENCE TEST - \n",
      " - CHANGE IN COST: 0.00445862316690838\n",
      "\n",
      " - ITERATION: 149\n",
      " - DATA FIDELITY (X): 4.8732222453571046e-11\n"
     ]
    },
    {
     "name": "stderr",
     "output_type": "stream",
     "text": [
      "100% (150 of 150) |######################| Elapsed Time: 0:01:22 Time:  0:01:22\n"
     ]
    },
    {
     "name": "stdout",
     "output_type": "stream",
     "text": [
      " - G (X): 1.2924562547896122e-10\n",
      " - F2 (X): 4.843030540063681e-10\n",
      " - COST: 6.622809019389004e-10\n",
      "\n",
      " - ITERATION: 150\n",
      " - DATA FIDELITY (X): 4.8563175565270514e-11\n",
      " - G (X): 1.2851057421380986e-10\n",
      " - F2 (X): 4.84100962976205e-10\n",
      " - COST: 6.611747127552854e-10\n",
      "\n"
     ]
    }
   ],
   "source": [
    "opt.iterate()"
   ]
  },
  {
   "cell_type": "code",
   "execution_count": 33,
   "metadata": {},
   "outputs": [],
   "source": [
    "uk = opt.x_final\n",
    "pysap.Image(data = np.abs(uk)).show()"
   ]
  }
 ],
 "metadata": {
  "kernelspec": {
   "display_name": "Python 3",
   "language": "python",
   "name": "python3"
  },
  "language_info": {
   "codemirror_mode": {
    "name": "ipython",
    "version": 3
   },
   "file_extension": ".py",
   "mimetype": "text/x-python",
   "name": "python",
   "nbconvert_exporter": "python",
   "pygments_lexer": "ipython3",
   "version": "3.7.3"
  }
 },
 "nbformat": 4,
 "nbformat_minor": 2
}
