{
 "cells": [
  {
   "cell_type": "code",
   "execution_count": 1,
   "metadata": {
    "scrolled": true
   },
   "outputs": [
    {
     "name": "stderr",
     "output_type": "stream",
     "text": [
      "/home/guillaume/temp/pysap-mri/mri/operators/fourier/cartesian.py:33: UserWarning: pynufft python package has not been found. If needed use the master release. Till then you cannot use NUFFT on GPU\n",
      "  warnings.warn(\"pynufft python package has not been found. If needed use \"\n",
      "/home/guillaume/temp/pysap-mri/mri/operators/fourier/non_cartesian.py:33: UserWarning: pynufft python package has not been found. If needed use the master release. Till then you cannot use NUFFT on GPU\n",
      "  warnings.warn(\"pynufft python package has not been found. If needed use \"\n"
     ]
    },
    {
     "name": "stdout",
     "output_type": "stream",
     "text": [
      "\n",
      "                 .|'''|       /.\\      '||'''|,\n",
      "                 ||          // \\\\      ||   ||\n",
      "'||''|, '||  ||` `|'''|,    //...\\\\     ||...|'\n",
      " ||  ||  `|..||   .   ||   //     \\\\    ||\n",
      " ||..|'      ||   |...|' .//       \\\\. .||\n",
      " ||       ,  |'\n",
      ".||        ''\n",
      "\n",
      "Package version: 0.0.3\n",
      "\n",
      "License: CeCILL-B\n",
      "\n",
      "Authors: \n",
      "\n",
      "Antoine Grigis <antoine.grigis@cea.fr>\n",
      "Samuel Farrens <samuel.farrens@cea.fr>\n",
      "Jean-Luc Starck <jl.stark@cea.fr>\n",
      "Philippe Ciuciu <philippe.ciuciu@cea.fr>\n",
      "\n",
      "Dependencies: \n",
      "\n",
      "scipy          : >=1.3.0   - required | 1.3.0     installed\n",
      "numpy          : >=1.16.4  - required | 1.16.4    installed\n",
      "matplotlib     : >=3.0.0   - required | 3.1.1     installed\n",
      "astropy        : >=3.0.0   - required | 3.2.1     installed\n",
      "nibabel        : >=2.3.2   - required | 2.5.1     installed\n",
      "pyqtgraph      : >=0.10.0  - required | 0.10.0    installed\n",
      "progressbar2   : >=3.34.3  - required | ?         installed\n",
      "modopt         : >=1.4.0   - required | 1.4.1     installed\n",
      "scikit-learn   : >=0.19.1  - required | ?         installed\n",
      "pywt           : >=1.0.0   - required | 1.0.3     installed\n",
      "pysparse       : >=0.0.1   - required | 0.1.0     installed\n",
      "\n"
     ]
    }
   ],
   "source": [
    "# Package import\n",
    "from mri.operators import NonCartesianFFT, WaveletUD2, WaveletN , gradient\n",
    "from mri.operators.utils import convert_mask_to_locations, convert_locations_to_mask\n",
    "from mri.reconstructors import SingleChannelReconstructor\n",
    "import pysap\n",
    "from pysap.data import get_sample_data\n",
    "import time"
   ]
  },
  {
   "cell_type": "code",
   "execution_count": 2,
   "metadata": {},
   "outputs": [],
   "source": [
    "# Third party import\n",
    "from modopt.math.metrics import ssim\n",
    "from modopt.opt.linear import Identity\n",
    "from modopt.opt.proximity import SparseThreshold,Ridge,ProximityParent,ProximityCombo\n",
    "\n",
    "import numpy as np\n",
    "import matplotlib.pyplot as plt"
   ]
  },
  {
   "cell_type": "markdown",
   "metadata": {},
   "source": [
    "## Data and operators"
   ]
  },
  {
   "cell_type": "code",
   "execution_count": 156,
   "metadata": {},
   "outputs": [],
   "source": [
    "u0 = get_sample_data('2d-mri')\n",
    "u0_mat = u0.data\n",
    "\n",
    "n=u0_mat.shape[0]\n",
    "x = np.linspace(0,n,n,endpoint=False)/n-0.5\n",
    "y = np.linspace(0,n,n,endpoint=False)/n-0.5\n",
    "X,Y = np.meshgrid(x,y)\n",
    "kspace_loc = np.stack([X.flatten('F'),Y.flatten('F')],axis=1)\n",
    "\n",
    "m = convert_locations_to_mask(kspace_loc,u0.shape)\n",
    "fourier_op = NonCartesianFFT(samples=kspace_loc, shape=u0.shape,implementation='cpu')\n",
    "\n",
    "# Adding noise\n",
    "(n1,n2) = u0.shape\n",
    "s = 1e-6\n",
    "# Computing y with non-cartesian Fourier transform\n",
    "fourier_op = NonCartesianFFT(samples=kspace_loc, shape=u0.shape,implementation='cpu')\n",
    "y = (1+0j)*fourier_op.op(np.real(u0.data))+s*np.random.randn(2*n*n).view(np.complex128)\n",
    "u0_mat = np.asarray(u0)"
   ]
  },
  {
   "cell_type": "code",
   "execution_count": 157,
   "metadata": {},
   "outputs": [],
   "source": [
    "#Subsampling: From pysap radial mask \n",
    "radial_mask = get_sample_data(\"mri-radial-samples\")\n",
    "radial_kspace_loc = radial_mask.data\n",
    "\n",
    "p = np.zeros((n*n,))\n",
    "\n",
    "ind1 = ((n-1)*(radial_kspace_loc[:,0]+0.5)).astype(int)\n",
    "ind2 = ((n-1)*(radial_kspace_loc[:,1]+0.5)).astype(int)\n",
    "p[n*ind1+ind2]=1\n",
    "\n",
    "new_loc = kspace_loc[np.where(p)]\n",
    "#pysap.Image(data = convert_locations_to_mask(np.array(new_loc),u0.shape)).show()\n",
    "\n",
    "#Wavelet\n",
    "linear_op = WaveletN(wavelet_name=\"db8\",nb_scale=4,padding_mode = \"periodization\")"
   ]
  },
  {
   "cell_type": "code",
   "execution_count": 158,
   "metadata": {},
   "outputs": [
    {
     "name": "stdout",
     "output_type": "stream",
     "text": [
      "0.675478875849941\n"
     ]
    }
   ],
   "source": [
    "#ifft on noised data = base result\n",
    "uk = fourier_op.adj_op(p*y)\n",
    "print(ssim(uk,u0_mat))\n",
    "pysap.Image(data = np.abs(uk)).show()"
   ]
  },
  {
   "cell_type": "markdown",
   "metadata": {},
   "source": [
    "## CondatVu\n",
    "### Regularizers\n",
    "See modopt/opt/agorithms.py: Condat uses Moreau identity for prox_dual: we need to define the proximal operator and not the proximal dual."
   ]
  },
  {
   "cell_type": "code",
   "execution_count": 159,
   "metadata": {},
   "outputs": [],
   "source": [
    "class RegularizerG(ProximityParent):\n",
    "    r\"\"\"negative values penalisation and L2 norm\n",
    "\n",
    "    Parameters\n",
    "    ----------\n",
    "    linear : class\n",
    "        Linear operator class\n",
    "    weights : np.ndarray\n",
    "        Input array of weights\n",
    "    \"\"\"\n",
    "\n",
    "    def __init__(self, zeta, eps):\n",
    "        self.weights = [eps,zeta]\n",
    "        self.eps = eps\n",
    "        self.zeta=zeta\n",
    "        self.op = self._op_method\n",
    "        self.cost = self._cost_method\n",
    "\n",
    "        \n",
    "    def _op_method(self, data, extra_factor=1.0):  \n",
    "        thresh = self.eps*extra_factor\n",
    "        \n",
    "        return np.where(data>=0,data/(1+thresh),\n",
    "                 data/(0.5+np.sqrt(0.25-3*self.zeta*extra_factor*data/(1+thresh)**2)))\n",
    "\n",
    "    \n",
    "    def _cost_method(self, *args, **kwargs):\n",
    "        \n",
    "        cost_val = np.abs(self.zeta*np.sum(np.where(args[0]<=0,-args[0]**3,0))\n",
    "                           +self.eps*np.linalg.norm(args[0])**2/2)\n",
    "\n",
    "        if 'verbose' in kwargs and kwargs['verbose']:\n",
    "            print(' - G (X):', cost_val)\n",
    "\n",
    "        return cost_val"
   ]
  },
  {
   "cell_type": "code",
   "execution_count": 163,
   "metadata": {},
   "outputs": [],
   "source": [
    "class RegularizerF2(ProximityParent):\n",
    "    r\"\"\"C2 approximation of an L1 norm\n",
    "\n",
    "    Parameters\n",
    "    ----------\n",
    "    linear : class\n",
    "        Linear operator class\n",
    "    weights : np.ndarray\n",
    "        Input array of weights\n",
    "    \"\"\"\n",
    "\n",
    "    def __init__(self, linear, gamma, pn1):\n",
    "        self.linear = linear\n",
    "        self.weights = [gamma,pn1]\n",
    "        self.gamma = gamma\n",
    "        self.pn1=pn1\n",
    "        self.op = self._op_method\n",
    "        self.cost = self._cost_method\n",
    "    \n",
    "    def rho(self, x):\n",
    "        m = np.abs(x)\n",
    "        return np.where(m<self.gamma,-m**3/3/self.gamma**2+m**2/self.gamma,m-self.gamma/3)    \n",
    "    \n",
    "    def prox_J(self,x,c,gamma):\n",
    "        return np.where(np.abs(x)>gamma+c,x*(1-c/np.abs(x)),\n",
    "                    gamma*x/(c+0.5*gamma+np.sqrt((c+0.5*gamma)**2-c*np.abs(x))))\n",
    "\n",
    "        \n",
    "    def _op_method(self, data, extra_factor=1.0):  \n",
    "        return self.prox_J(data,self.pn1*extra_factor,self.gamma)\n",
    "        \n",
    "    \n",
    "    def _cost_method(self, *args, **kwargs):\n",
    "        \n",
    "        cost_val = self.pn1*np.sum(self.rho(self.linear.op(args[0])))\n",
    "\n",
    "        if 'verbose' in kwargs and kwargs['verbose']:\n",
    "            print(' - F2 (X):', cost_val)\n",
    "\n",
    "        return cost_val"
   ]
  },
  {
   "cell_type": "code",
   "execution_count": 174,
   "metadata": {},
   "outputs": [],
   "source": [
    "zeta,epsilon,gamma,pn1 = 1e15,2e-1,1e-10,2e-6\n",
    "regularizer_G = RegularizerG(zeta,epsilon)\n",
    "regularizer_F2 = RegularizerF2(linear_op,gamma,pn1)"
   ]
  },
  {
   "cell_type": "code",
   "execution_count": 175,
   "metadata": {},
   "outputs": [
    {
     "name": "stdout",
     "output_type": "stream",
     "text": [
      "3.8146968108776627e-07 2.296999543905258e-07\n"
     ]
    }
   ],
   "source": [
    "print(regularizer_G.cost(u0_mat),regularizer_F2.cost(u0_mat))"
   ]
  },
  {
   "cell_type": "markdown",
   "metadata": {},
   "source": [
    "### Reconstruction"
   ]
  },
  {
   "cell_type": "code",
   "execution_count": 176,
   "metadata": {},
   "outputs": [],
   "source": [
    "from modopt.opt.algorithms import Condat\n",
    "from mri.operators import GradAnalysis\n",
    "from modopt.opt.gradient import GradParent,GradBasic"
   ]
  },
  {
   "cell_type": "markdown",
   "metadata": {},
   "source": [
    "Definition of gradient op: see https://cea-cosmic.github.io/ModOpt/_modules/modopt/opt/gradient.html"
   ]
  },
  {
   "cell_type": "code",
   "execution_count": 177,
   "metadata": {},
   "outputs": [
    {
     "name": "stderr",
     "output_type": "stream",
     "text": [
      "\u001b[33mWARNING\u001b[0m: Making input data immutable.\n"
     ]
    }
   ],
   "source": [
    "gradient_op = GradBasic(p*y,fourier_op.op,fourier_op.adj_op)"
   ]
  },
  {
   "cell_type": "code",
   "execution_count": 178,
   "metadata": {},
   "outputs": [],
   "source": [
    "#Initialisation\n",
    "gradient_op.fourier_op = fourier_op\n",
    "norm = linear_op.l2norm(gradient_op.fourier_op.shape)\n",
    "x_init = fourier_op.adj_op(p*y)"
   ]
  },
  {
   "cell_type": "code",
   "execution_count": 179,
   "metadata": {},
   "outputs": [],
   "source": [
    "eta = pn1*5/2/gamma\n",
    "mu = 2*np.sqrt(epsilon/2/eta)\n",
    "theta = 1/(1+mu)\n",
    "\n",
    "tau = mu/2/epsilon\n",
    "sigma = mu*eta/2"
   ]
  },
  {
   "cell_type": "code",
   "execution_count": 180,
   "metadata": {},
   "outputs": [],
   "source": [
    "opt = Condat(x=x_init,\n",
    "            y=p*y,\n",
    "            grad = gradient_op,\n",
    "            prox = regularizer_G,\n",
    "            prox_dual = regularizer_F2,\n",
    "            linear = linear_op,\n",
    "            sigma=sigma,\n",
    "            tau=tau,\n",
    "            sigma_update=None,\n",
    "            tau_update=None,\n",
    "            max_iter=150,\n",
    "            auto_iterate = False)"
   ]
  },
  {
   "cell_type": "code",
   "execution_count": 181,
   "metadata": {},
   "outputs": [
    {
     "name": "stderr",
     "output_type": "stream",
     "text": [
      "/home/guillaume/anaconda3/lib/python3.7/site-packages/ipykernel_launcher.py:26: RuntimeWarning: invalid value encountered in sqrt\n",
      "\r",
      "N/A% (0 of 200) |                        | Elapsed Time: 0:00:00 ETA:  --:--:--"
     ]
    },
    {
     "name": "stdout",
     "output_type": "stream",
     "text": [
      " - ITERATION: 1\n",
      " - DATA FIDELITY (X): 1.4229408653050169e-08\n",
      " - G (X): 0.36924978669255754\n",
      " - F2 (X): 3.0036100003863084e-07\n",
      " - COST: 0.3692501012829662\n",
      "\n"
     ]
    },
    {
     "name": "stderr",
     "output_type": "stream",
     "text": [
      "N/A% (0 of 200) |                        | Elapsed Time: 0:00:00 ETA:  --:--:--"
     ]
    },
    {
     "name": "stdout",
     "output_type": "stream",
     "text": [
      " - ITERATION: 2\n",
      " - DATA FIDELITY (X): 5.035531529302746e-08\n"
     ]
    },
    {
     "name": "stderr",
     "output_type": "stream",
     "text": [
      "  0% (1 of 200) |                        | Elapsed Time: 0:00:01 ETA:   0:04:01"
     ]
    },
    {
     "name": "stdout",
     "output_type": "stream",
     "text": [
      " - G (X): 0.0462857922039135\n",
      " - F2 (X): 2.7163327320812327e-07\n",
      " - COST: 0.046286114192502004\n",
      "\n",
      " - ITERATION: 3\n",
      " - DATA FIDELITY (X): 1.0194860757129073e-07\n"
     ]
    },
    {
     "name": "stderr",
     "output_type": "stream",
     "text": [
      "  1% (3 of 200) |                        | Elapsed Time: 0:00:01 ETA:   0:03:01"
     ]
    },
    {
     "name": "stdout",
     "output_type": "stream",
     "text": [
      " - G (X): 0.005834486241138407\n",
      " - F2 (X): 2.4648912641057914e-07\n",
      " - COST: 0.005834834678872389\n",
      "\n",
      " - ITERATION: 4\n",
      " - DATA FIDELITY (X): 1.6461809525918125e-07\n",
      " - G (X): 0.00075188119921339\n",
      " - F2 (X): 2.2358801112376733e-07\n",
      " - COST: 0.0007522694053197729\n",
      "\n",
      " - CONVERGENCE TEST - \n",
      " - CHANGE IN COST: 62.083292773933636\n",
      "\n"
     ]
    },
    {
     "name": "stderr",
     "output_type": "stream",
     "text": [
      "  1% (3 of 200) |                        | Elapsed Time: 0:00:02 ETA:   0:02:42"
     ]
    },
    {
     "name": "stdout",
     "output_type": "stream",
     "text": [
      " - ITERATION: 5\n",
      " - DATA FIDELITY (X): 2.3494459620925314e-07\n",
      " - G (X): 9.93925264429032e-05\n",
      " - F2 (X): 2.0253984712688192e-07\n"
     ]
    },
    {
     "name": "stderr",
     "output_type": "stream",
     "text": [
      "  2% (4 of 200) |                        | Elapsed Time: 0:00:03 ETA:   0:02:03"
     ]
    },
    {
     "name": "stdout",
     "output_type": "stream",
     "text": [
      " - COST: 9.983001088623932e-05\n",
      "\n",
      " - ITERATION: 6\n",
      " - DATA FIDELITY (X): 3.1018300838526695e-07\n"
     ]
    },
    {
     "name": "stderr",
     "output_type": "stream",
     "text": [
      "  3% (6 of 200) |                        | Elapsed Time: 0:00:03 ETA:   0:02:02"
     ]
    },
    {
     "name": "stdout",
     "output_type": "stream",
     "text": [
      " - G (X): 1.5249519262386801e-05\n",
      " - F2 (X): 1.8319792067484504e-07\n",
      " - COST: 1.5742900191446913e-05\n",
      "\n",
      " - ITERATION: 7\n",
      " - DATA FIDELITY (X): 3.881389552253533e-07\n",
      " - G (X): 2.2415041820131203e-06\n",
      " - F2 (X): 1.6545083906485537e-07\n",
      " - COST: 2.7950939763033287e-06\n",
      "\n"
     ]
    },
    {
     "name": "stderr",
     "output_type": "stream",
     "text": [
      "  3% (6 of 200) |                        | Elapsed Time: 0:00:04 ETA:   0:02:02"
     ]
    },
    {
     "name": "stdout",
     "output_type": "stream",
     "text": [
      " - ITERATION: 8\n",
      " - DATA FIDELITY (X): 4.6707864144384e-07\n",
      " - G (X): 2.970418593691424e-07\n",
      " - F2 (X): 1.492008259271857e-07\n"
     ]
    },
    {
     "name": "stderr",
     "output_type": "stream",
     "text": [
      "  3% (7 of 200) |                        | Elapsed Time: 0:00:05 ETA:   0:02:09"
     ]
    },
    {
     "name": "stdout",
     "output_type": "stream",
     "text": [
      " - COST: 9.133213267401681e-07\n",
      "\n",
      " - CONVERGENCE TEST - \n",
      " - CHANGE IN COST: 30.16503995192651\n",
      "\n",
      " - ITERATION: 9\n",
      " - DATA FIDELITY (X): 5.456540928751008e-07\n"
     ]
    },
    {
     "name": "stderr",
     "output_type": "stream",
     "text": [
      "\r",
      "                                                                               \r",
      "\r",
      "  4% (8 of 200) |                        | Elapsed Time: 0:00:05 ETA:   0:02:09"
     ]
    },
    {
     "name": "stdout",
     "output_type": "stream",
     "text": [
      " - G (X): 9.627257383775375e-09\n",
      " - F2 (X): 1.3434763368998764e-07\n",
      " - COST: 6.896289839488638e-07\n",
      "\n"
     ]
    },
    {
     "name": "stderr",
     "output_type": "stream",
     "text": [
      "  4% (8 of 200) |                        | Elapsed Time: 0:00:05 ETA:   0:02:10"
     ]
    },
    {
     "name": "stdout",
     "output_type": "stream",
     "text": [
      " - ITERATION: 10\n",
      " - DATA FIDELITY (X): 6.228362886272545e-07\n",
      " - G (X): 5.7306639347248435e-08\n",
      " - F2 (X): 1.2079974383740773e-07\n"
     ]
    },
    {
     "name": "stderr",
     "output_type": "stream",
     "text": [
      "  4% (9 of 200) |#                       | Elapsed Time: 0:00:06 ETA:   0:02:09"
     ]
    },
    {
     "name": "stdout",
     "output_type": "stream",
     "text": [
      " - COST: 8.009426718119106e-07\n",
      "\n",
      " - ITERATION: 11\n",
      " - DATA FIDELITY (X): 6.978561963198503e-07\n"
     ]
    },
    {
     "name": "stderr",
     "output_type": "stream",
     "text": [
      "  5% (11 of 200) |#                      | Elapsed Time: 0:00:06 ETA:   0:02:06"
     ]
    },
    {
     "name": "stdout",
     "output_type": "stream",
     "text": [
      " - G (X): 8.093891050281576e-08\n",
      " - F2 (X): 1.0845788980524593e-07\n",
      " - COST: 8.87252996627912e-07\n",
      "\n",
      " - ITERATION: 12\n",
      " - DATA FIDELITY (X): 7.701572171203936e-07\n",
      " - G (X): 4.7413778556992805e-08\n",
      " - F2 (X): 9.723655501761106e-08\n",
      " - COST: 9.148075506949975e-07\n",
      "\n",
      " - CONVERGENCE TEST - \n",
      " - CHANGE IN COST: 0.17285151268911259\n",
      "\n"
     ]
    },
    {
     "name": "stderr",
     "output_type": "stream",
     "text": [
      "  5% (11 of 200) |#                      | Elapsed Time: 0:00:07 ETA:   0:02:00"
     ]
    },
    {
     "name": "stdout",
     "output_type": "stream",
     "text": [
      " - ITERATION: 13\n",
      " - DATA FIDELITY (X): 8.393524915274492e-07\n",
      " - G (X): 4.077593123742543e-08\n",
      " - F2 (X): 8.705289495202674e-08\n"
     ]
    },
    {
     "name": "stderr",
     "output_type": "stream",
     "text": [
      "  6% (12 of 200) |#                      | Elapsed Time: 0:00:08 ETA:   0:02:09"
     ]
    },
    {
     "name": "stdout",
     "output_type": "stream",
     "text": [
      " - COST: 9.671813177169013e-07\n",
      "\n",
      " - ITERATION: 14\n",
      " - DATA FIDELITY (X): 9.051910978747807e-07\n",
      " - G (X): 3.486882570279543e-08\n",
      " - F2 (X): 7.783279998002631e-08\n"
     ]
    },
    {
     "name": "stderr",
     "output_type": "stream",
     "text": [
      "  6% (13 of 200) |#                      | Elapsed Time: 0:00:08 ETA:   0:02:07"
     ]
    },
    {
     "name": "stdout",
     "output_type": "stream",
     "text": [
      " - COST: 1.0178927235576024e-06\n",
      "\n",
      " - ITERATION: 15\n",
      " - DATA FIDELITY (X): 9.675287212530362e-07\n",
      " - G (X): 2.963219909140847e-08\n",
      " - F2 (X): 6.950784439131583e-08\n"
     ]
    },
    {
     "name": "stderr",
     "output_type": "stream",
     "text": [
      "  7% (14 of 200) |#                      | Elapsed Time: 0:00:09 ETA:   0:02:04"
     ]
    },
    {
     "name": "stdout",
     "output_type": "stream",
     "text": [
      " - COST: 1.0666687647357606e-06\n",
      "\n",
      " - ITERATION: 16\n",
      " - DATA FIDELITY (X): 1.0263043254129698e-06\n",
      " - G (X): 2.5296025879339957e-08\n",
      " - F2 (X): 6.201291585160183e-08\n"
     ]
    },
    {
     "name": "stderr",
     "output_type": "stream",
     "text": [
      "  7% (15 of 200) |#                      | Elapsed Time: 0:00:10 ETA:   0:02:04"
     ]
    },
    {
     "name": "stdout",
     "output_type": "stream",
     "text": [
      " - COST: 1.1136132671439115e-06\n",
      "\n",
      " - CONVERGENCE TEST - \n",
      " - CHANGE IN COST: 0.08953336667040045\n",
      "\n",
      " - ITERATION: 17\n",
      " - DATA FIDELITY (X): 1.0815218759900877e-06\n",
      " - G (X): 2.1602572115702263e-08\n",
      " - F2 (X): 5.528634793324155e-08\n"
     ]
    },
    {
     "name": "stderr",
     "output_type": "stream",
     "text": [
      "  8% (16 of 200) |#                      | Elapsed Time: 0:00:10 ETA:   0:02:03"
     ]
    },
    {
     "name": "stdout",
     "output_type": "stream",
     "text": [
      " - COST: 1.1584107960390315e-06\n",
      "\n",
      " - ITERATION: 18\n",
      " - DATA FIDELITY (X): 1.1332346965306254e-06\n",
      " - G (X): 1.8492952076393303e-08\n",
      " - F2 (X): 4.926714993715634e-08\n"
     ]
    },
    {
     "name": "stderr",
     "output_type": "stream",
     "text": [
      "  8% (17 of 200) |#                      | Elapsed Time: 0:00:11 ETA:   0:02:03"
     ]
    },
    {
     "name": "stdout",
     "output_type": "stream",
     "text": [
      " - COST: 1.2009947985441748e-06\n",
      "\n",
      " - ITERATION: 19\n",
      " - DATA FIDELITY (X): 1.1815330473930736e-06\n",
      " - G (X): 1.5963972387808732e-08\n",
      " - F2 (X): 4.3898260508842083e-08\n"
     ]
    },
    {
     "name": "stderr",
     "output_type": "stream",
     "text": [
      "  9% (18 of 200) |##                     | Elapsed Time: 0:00:11 ETA:   0:02:01"
     ]
    },
    {
     "name": "stdout",
     "output_type": "stream",
     "text": [
      " - COST: 1.2413952802897244e-06\n",
      "\n",
      " - ITERATION: 20\n",
      " - DATA FIDELITY (X): 1.226534073466101e-06\n",
      " - G (X): 1.363400793927976e-08\n",
      " - F2 (X): 3.912425739059138e-08\n"
     ]
    },
    {
     "name": "stderr",
     "output_type": "stream",
     "text": [
      "  9% (19 of 200) |##                     | Elapsed Time: 0:00:12 ETA:   0:01:49"
     ]
    },
    {
     "name": "stdout",
     "output_type": "stream",
     "text": [
      " - COST: 1.279292338795972e-06\n",
      "\n",
      " - CONVERGENCE TEST - \n",
      " - CHANGE IN COST: 0.06398334457682237\n",
      "\n",
      " - ITERATION: 21\n",
      " - DATA FIDELITY (X): 1.2683741187287936e-06\n"
     ]
    },
    {
     "name": "stderr",
     "output_type": "stream",
     "text": [
      " 10% (21 of 200) |##                     | Elapsed Time: 0:00:13 ETA:   0:01:48"
     ]
    },
    {
     "name": "stdout",
     "output_type": "stream",
     "text": [
      " - G (X): 1.1750605414132523e-08\n",
      " - F2 (X): 3.4893659214439806e-08\n",
      " - COST: 1.315018383357366e-06\n",
      "\n",
      " - ITERATION: 22\n",
      " - DATA FIDELITY (X): 1.3072019919566374e-06\n",
      " - G (X): 1.0154497853358266e-08\n",
      " - F2 (X): 3.115564065151251e-08\n",
      " - COST: 1.3485121304615083e-06\n",
      "\n"
     ]
    },
    {
     "name": "stderr",
     "output_type": "stream",
     "text": [
      " 10% (21 of 200) |##                     | Elapsed Time: 0:00:13 ETA:   0:02:03"
     ]
    },
    {
     "name": "stdout",
     "output_type": "stream",
     "text": [
      " - ITERATION: 23\n",
      " - DATA FIDELITY (X): 1.3431739288275124e-06\n",
      " - G (X): 8.790273104247904e-09\n",
      " - F2 (X): 2.78617134188082e-08\n"
     ]
    },
    {
     "name": "stderr",
     "output_type": "stream",
     "text": [
      " 11% (22 of 200) |##                     | Elapsed Time: 0:00:14 ETA:   0:02:00"
     ]
    },
    {
     "name": "stdout",
     "output_type": "stream",
     "text": [
      " - COST: 1.3798259153505685e-06\n",
      "\n",
      " - ITERATION: 24\n",
      " - DATA FIDELITY (X): 1.3764504085056858e-06\n",
      " - G (X): 7.634654025010242e-09\n",
      " - F2 (X): 2.496732161571264e-08\n"
     ]
    },
    {
     "name": "stderr",
     "output_type": "stream",
     "text": [
      " 11% (23 of 200) |##                     | Elapsed Time: 0:00:15 ETA:   0:01:58"
     ]
    },
    {
     "name": "stdout",
     "output_type": "stream",
     "text": [
      " - COST: 1.4090523841464086e-06\n",
      "\n",
      " - CONVERGENCE TEST - \n",
      " - CHANGE IN COST: 0.04494559181758178\n",
      "\n",
      " - ITERATION: 25\n",
      " - DATA FIDELITY (X): 1.4071919882580308e-06\n",
      " - G (X): 6.650372497329732e-09\n",
      " - F2 (X): 2.2428456883786743e-08\n"
     ]
    },
    {
     "name": "stderr",
     "output_type": "stream",
     "text": [
      " 12% (24 of 200) |##                     | Elapsed Time: 0:00:15 ETA:   0:01:57"
     ]
    },
    {
     "name": "stdout",
     "output_type": "stream",
     "text": [
      " - COST: 1.4362708176391472e-06\n",
      "\n",
      " - ITERATION: 26\n",
      " - DATA FIDELITY (X): 1.4355580111263552e-06\n",
      " - G (X): 5.810751341128309e-09\n",
      " - F2 (X): 2.0205420234210314e-08\n"
     ]
    },
    {
     "name": "stderr",
     "output_type": "stream",
     "text": [
      " 12% (25 of 200) |##                     | Elapsed Time: 0:00:16 ETA:   0:01:56"
     ]
    },
    {
     "name": "stdout",
     "output_type": "stream",
     "text": [
      " - COST: 1.4615741827016938e-06\n",
      "\n",
      " - ITERATION: 27\n",
      " - DATA FIDELITY (X): 1.461703945602607e-06\n",
      " - G (X): 5.093403926630704e-09\n",
      " - F2 (X): 1.8260724210451085e-08\n"
     ]
    },
    {
     "name": "stderr",
     "output_type": "stream",
     "text": [
      " 13% (26 of 200) |##                     | Elapsed Time: 0:00:16 ETA:   0:01:45"
     ]
    },
    {
     "name": "stdout",
     "output_type": "stream",
     "text": [
      " - COST: 1.4850580737396885e-06\n",
      "\n",
      " - ITERATION: 28\n",
      " - DATA FIDELITY (X): 1.485780351850903e-06\n",
      " - G (X): 5.888303530104106e-09\n",
      " - F2 (X): 1.6560830457825236e-08\n"
     ]
    },
    {
     "name": "stderr",
     "output_type": "stream",
     "text": [
      " 13% (27 of 200) |###                    | Elapsed Time: 0:00:17 ETA:   0:01:43"
     ]
    },
    {
     "name": "stdout",
     "output_type": "stream",
     "text": [
      " - COST: 1.5082294858388325e-06\n",
      "\n",
      " - CONVERGENCE TEST - \n",
      " - CHANGE IN COST: 0.03188552965192524\n",
      "\n",
      " - ITERATION: 29\n",
      " - DATA FIDELITY (X): 1.5079322670788084e-06\n",
      " - G (X): 3.953264774559384e-09\n",
      " - F2 (X): 1.5075176925287212e-08\n"
     ]
    },
    {
     "name": "stderr",
     "output_type": "stream",
     "text": [
      " 14% (28 of 200) |###                    | Elapsed Time: 0:00:18 ETA:   0:01:42"
     ]
    },
    {
     "name": "stdout",
     "output_type": "stream",
     "text": [
      " - COST: 1.5269607087786549e-06\n",
      "\n",
      " - ITERATION: 30\n",
      " - DATA FIDELITY (X): 1.5282981648902646e-06\n",
      " - G (X): 3.501336630000378e-09\n",
      " - F2 (X): 1.377606178727038e-08\n"
     ]
    },
    {
     "name": "stderr",
     "output_type": "stream",
     "text": [
      " 14% (29 of 200) |###                    | Elapsed Time: 0:00:18 ETA:   0:01:42"
     ]
    },
    {
     "name": "stdout",
     "output_type": "stream",
     "text": [
      " - COST: 1.5455755633075355e-06\n",
      "\n",
      " - ITERATION: 31\n",
      " - DATA FIDELITY (X): 1.5470095008083512e-06\n",
      " - G (X): 3.112522151551887e-09\n",
      " - F2 (X): 1.2639235246736706e-08\n"
     ]
    },
    {
     "name": "stderr",
     "output_type": "stream",
     "text": [
      " 15% (30 of 200) |###                    | Elapsed Time: 0:00:19 ETA:   0:01:41"
     ]
    },
    {
     "name": "stdout",
     "output_type": "stream",
     "text": [
      " - COST: 1.5627612582066398e-06\n",
      "\n",
      " - ITERATION: 32\n",
      " - DATA FIDELITY (X): 1.5641907986882923e-06\n",
      " - G (X): 2.777373200908984e-09\n",
      " - F2 (X): 1.1641695975584892e-08\n"
     ]
    },
    {
     "name": "stderr",
     "output_type": "stream",
     "text": [
      " 15% (31 of 200) |###                    | Elapsed Time: 0:00:19 ETA:   0:01:41"
     ]
    },
    {
     "name": "stdout",
     "output_type": "stream",
     "text": [
      " - COST: 1.5786098678647862e-06\n",
      "\n",
      " - CONVERGENCE TEST - \n",
      " - CHANGE IN COST: 0.021912359674394727\n",
      "\n",
      " - ITERATION: 33\n",
      " - DATA FIDELITY (X): 1.5799590425517515e-06\n",
      " - G (X): 2.4879235479832544e-09\n",
      " - F2 (X): 1.0764637559202596e-08\n"
     ]
    },
    {
     "name": "stderr",
     "output_type": "stream",
     "text": [
      " 16% (32 of 200) |###                    | Elapsed Time: 0:00:20 ETA:   0:01:40"
     ]
    },
    {
     "name": "stdout",
     "output_type": "stream",
     "text": [
      " - COST: 1.5932116036589373e-06\n",
      "\n",
      " - ITERATION: 34\n",
      " - DATA FIDELITY (X): 1.5944240096171445e-06\n",
      " - G (X): 2.2374467992327807e-09\n",
      " - F2 (X): 9.991653118912508e-09\n"
     ]
    },
    {
     "name": "stderr",
     "output_type": "stream",
     "text": [
      " 16% (33 of 200) |###                    | Elapsed Time: 0:00:21 ETA:   0:01:39"
     ]
    },
    {
     "name": "stdout",
     "output_type": "stream",
     "text": [
      " - COST: 1.6066531095352897e-06\n",
      "\n",
      " - ITERATION: 35\n",
      " - DATA FIDELITY (X): 1.607688345761383e-06\n",
      " - G (X): 2.0347348580795296e-09\n",
      " - F2 (X): 9.309289421828638e-09\n"
     ]
    },
    {
     "name": "stderr",
     "output_type": "stream",
     "text": [
      " 17% (34 of 200) |###                    | Elapsed Time: 0:00:21 ETA:   0:01:38"
     ]
    },
    {
     "name": "stdout",
     "output_type": "stream",
     "text": [
      " - COST: 1.6190323700412911e-06\n",
      "\n",
      " - ITERATION: 36\n",
      " - DATA FIDELITY (X): 1.619847603723264e-06\n",
      " - G (X): 1.8317597788876155e-09\n",
      " - F2 (X): 8.705050117337828e-09\n"
     ]
    },
    {
     "name": "stderr",
     "output_type": "stream",
     "text": [
      " 17% (35 of 200) |####                   | Elapsed Time: 0:00:22 ETA:   0:01:37"
     ]
    },
    {
     "name": "stdout",
     "output_type": "stream",
     "text": [
      " - COST: 1.6303844136194896e-06\n",
      "\n",
      " - CONVERGENCE TEST - \n",
      " - CHANGE IN COST: 0.01524952745850242\n",
      "\n",
      " - ITERATION: 37\n",
      " - DATA FIDELITY (X): 1.6309904628215231e-06\n",
      " - G (X): 1.6672477924183447e-09\n",
      " - F2 (X): 8.168336495389547e-09\n"
     ]
    },
    {
     "name": "stderr",
     "output_type": "stream",
     "text": [
      " 18% (36 of 200) |####                   | Elapsed Time: 0:00:22 ETA:   0:01:37"
     ]
    },
    {
     "name": "stdout",
     "output_type": "stream",
     "text": [
      " - COST: 1.640826047109331e-06\n",
      "\n",
      " - ITERATION: 38\n",
      " - DATA FIDELITY (X): 1.6411992475636451e-06\n",
      " - G (X): 1.523916676408714e-09\n",
      " - F2 (X): 7.691062824921057e-09\n"
     ]
    },
    {
     "name": "stderr",
     "output_type": "stream",
     "text": [
      " 18% (37 of 200) |####                   | Elapsed Time: 0:00:23 ETA:   0:01:36"
     ]
    },
    {
     "name": "stdout",
     "output_type": "stream",
     "text": [
      " - COST: 1.650414227064975e-06\n",
      "\n",
      " - ITERATION: 39\n",
      " - DATA FIDELITY (X): 1.6505501413836619e-06\n",
      " - G (X): 1.4005152223525604e-09\n",
      " - F2 (X): 7.265533529205404e-09\n"
     ]
    },
    {
     "name": "stderr",
     "output_type": "stream",
     "text": [
      " 19% (38 of 200) |####                   | Elapsed Time: 0:00:23 ETA:   0:01:37"
     ]
    },
    {
     "name": "stdout",
     "output_type": "stream",
     "text": [
      " - COST: 1.6592161901352197e-06\n",
      "\n",
      " - ITERATION: 40\n",
      " - DATA FIDELITY (X): 1.6591134832288906e-06\n",
      " - G (X): 1.3071165223708071e-09\n",
      " - F2 (X): 6.884919334165245e-09\n"
     ]
    },
    {
     "name": "stderr",
     "output_type": "stream",
     "text": [
      " 19% (39 of 200) |####                   | Elapsed Time: 0:00:24 ETA:   0:01:36"
     ]
    },
    {
     "name": "stdout",
     "output_type": "stream",
     "text": [
      " - COST: 1.6673055190854266e-06\n",
      "\n",
      " - CONVERGENCE TEST - \n",
      " - CHANGE IN COST: 0.010606103951928283\n",
      "\n",
      " - ITERATION: 41\n",
      " - DATA FIDELITY (X): 1.6669541300818259e-06\n",
      " - G (X): 1.1966337659851164e-09\n",
      " - F2 (X): 6.543786189771525e-09\n"
     ]
    },
    {
     "name": "stderr",
     "output_type": "stream",
     "text": [
      " 20% (40 of 200) |####                   | Elapsed Time: 0:00:25 ETA:   0:01:35"
     ]
    },
    {
     "name": "stdout",
     "output_type": "stream",
     "text": [
      " - COST: 1.6746945500375824e-06\n",
      "\n",
      " - ITERATION: 42\n",
      " - DATA FIDELITY (X): 1.6741318194722614e-06\n",
      " - G (X): 1.1077022205505391e-09\n",
      " - F2 (X): 6.237893681724496e-09\n"
     ]
    },
    {
     "name": "stderr",
     "output_type": "stream",
     "text": [
      " 20% (41 of 200) |####                   | Elapsed Time: 0:00:25 ETA:   0:01:34"
     ]
    },
    {
     "name": "stdout",
     "output_type": "stream",
     "text": [
      " - COST: 1.6814774153745364e-06\n",
      "\n",
      " - ITERATION: 43\n",
      " - DATA FIDELITY (X): 1.6807015892015744e-06\n",
      " - G (X): 1.0433842247258476e-09\n",
      " - F2 (X): 5.963304357349189e-09\n"
     ]
    },
    {
     "name": "stderr",
     "output_type": "stream",
     "text": [
      " 21% (42 of 200) |####                   | Elapsed Time: 0:00:26 ETA:   0:01:33"
     ]
    },
    {
     "name": "stdout",
     "output_type": "stream",
     "text": [
      " - COST: 1.6877082777836493e-06\n",
      "\n",
      " - ITERATION: 44\n",
      " - DATA FIDELITY (X): 1.6867141253992123e-06\n",
      " - G (X): 9.67033960255529e-10\n",
      " - F2 (X): 5.716763913990879e-09\n"
     ]
    },
    {
     "name": "stderr",
     "output_type": "stream",
     "text": [
      " 21% (43 of 200) |####                   | Elapsed Time: 0:00:26 ETA:   0:01:33"
     ]
    },
    {
     "name": "stdout",
     "output_type": "stream",
     "text": [
      " - COST: 1.6933979232734586e-06\n",
      "\n",
      " - CONVERGENCE TEST - \n",
      " - CHANGE IN COST: 0.007374579253734577\n",
      "\n",
      " - ITERATION: 45\n",
      " - DATA FIDELITY (X): 1.6922158793329767e-06\n",
      " - G (X): 9.086700614075736e-10\n",
      " - F2 (X): 5.494751010476159e-09\n"
     ]
    },
    {
     "name": "stderr",
     "output_type": "stream",
     "text": [
      " 22% (44 of 200) |#####                  | Elapsed Time: 0:00:27 ETA:   0:01:33"
     ]
    },
    {
     "name": "stdout",
     "output_type": "stream",
     "text": [
      " - COST: 1.6986193004048604e-06\n",
      "\n",
      " - ITERATION: 46\n",
      " - DATA FIDELITY (X): 1.697249655033606e-06\n",
      " - G (X): 8.593313108340314e-10\n",
      " - F2 (X): 5.294515241211395e-09\n"
     ]
    },
    {
     "name": "stderr",
     "output_type": "stream",
     "text": [
      " 22% (45 of 200) |#####                  | Elapsed Time: 0:00:28 ETA:   0:01:32"
     ]
    },
    {
     "name": "stdout",
     "output_type": "stream",
     "text": [
      " - COST: 1.7034035015856515e-06\n",
      "\n",
      " - ITERATION: 47\n",
      " - DATA FIDELITY (X): 1.7018547108106874e-06\n",
      " - G (X): 8.109958664698531e-10\n",
      " - F2 (X): 5.114008969045998e-09\n"
     ]
    },
    {
     "name": "stderr",
     "output_type": "stream",
     "text": [
      " 23% (46 of 200) |#####                  | Elapsed Time: 0:00:28 ETA:   0:01:32"
     ]
    },
    {
     "name": "stdout",
     "output_type": "stream",
     "text": [
      " - COST: 1.7077797156462033e-06\n",
      "\n",
      " - ITERATION: 48\n",
      " - DATA FIDELITY (X): 1.7060670306223218e-06\n",
      " - G (X): 7.701334722929715e-10\n",
      " - F2 (X): 4.951126594508154e-09\n"
     ]
    },
    {
     "name": "stderr",
     "output_type": "stream",
     "text": [
      " 23% (47 of 200) |#####                  | Elapsed Time: 0:00:29 ETA:   0:01:31"
     ]
    },
    {
     "name": "stdout",
     "output_type": "stream",
     "text": [
      " - COST: 1.7117882906891229e-06\n",
      "\n",
      " - CONVERGENCE TEST - \n",
      " - CHANGE IN COST: 0.0051308248036913695\n",
      "\n",
      " - ITERATION: 49\n",
      " - DATA FIDELITY (X): 1.7099197483332289e-06\n",
      " - G (X): 7.337251408457309e-10\n",
      " - F2 (X): 4.804169173690907e-09\n"
     ]
    },
    {
     "name": "stderr",
     "output_type": "stream",
     "text": [
      " 24% (48 of 200) |#####                  | Elapsed Time: 0:00:29 ETA:   0:01:30"
     ]
    },
    {
     "name": "stdout",
     "output_type": "stream",
     "text": [
      " - COST: 1.7154576426477657e-06\n",
      "\n",
      " - ITERATION: 50\n",
      " - DATA FIDELITY (X): 1.7134431907233595e-06\n",
      " - G (X): 7.012309917284786e-10\n",
      " - F2 (X): 4.67171803759386e-09\n"
     ]
    },
    {
     "name": "stderr",
     "output_type": "stream",
     "text": [
      " 24% (49 of 200) |#####                  | Elapsed Time: 0:00:30 ETA:   0:01:30"
     ]
    },
    {
     "name": "stdout",
     "output_type": "stream",
     "text": [
      " - COST: 1.718816139752682e-06\n",
      "\n",
      " - ITERATION: 51\n",
      " - DATA FIDELITY (X): 1.7166652845566485e-06\n",
      " - G (X): 6.725716839683511e-10\n",
      " - F2 (X): 4.551883379829597e-09\n"
     ]
    },
    {
     "name": "stderr",
     "output_type": "stream",
     "text": [
      " 25% (51 of 200) |#####                  | Elapsed Time: 0:00:31 ETA:   0:01:25"
     ]
    },
    {
     "name": "stdout",
     "output_type": "stream",
     "text": [
      " - COST: 1.7218897396204465e-06\n",
      "\n",
      " - ITERATION: 52\n",
      " - DATA FIDELITY (X): 1.7196115869219707e-06\n",
      " - G (X): 6.461914442846216e-10\n",
      " - F2 (X): 4.443778451384066e-09\n",
      " - COST: 1.7247015568176393e-06\n",
      "\n",
      " - CONVERGENCE TEST - \n",
      " - CHANGE IN COST: 0.003573824970302585\n",
      "\n"
     ]
    },
    {
     "name": "stderr",
     "output_type": "stream",
     "text": [
      " 25% (51 of 200) |#####                  | Elapsed Time: 0:00:31 ETA:   0:01:29"
     ]
    },
    {
     "name": "stdout",
     "output_type": "stream",
     "text": [
      " - ITERATION: 53\n",
      " - DATA FIDELITY (X): 1.7223055107745338e-06\n",
      " - G (X): 3.5404624003829374e-09\n",
      " - F2 (X): 4.3453134512745985e-09\n"
     ]
    },
    {
     "name": "stderr",
     "output_type": "stream",
     "text": [
      " 26% (52 of 200) |#####                  | Elapsed Time: 0:00:32 ETA:   0:01:28"
     ]
    },
    {
     "name": "stdout",
     "output_type": "stream",
     "text": [
      " - COST: 1.7301912866261915e-06\n",
      "\n",
      " - ITERATION: 54\n",
      " - DATA FIDELITY (X): 1.7247685487025063e-06\n",
      " - G (X): 6.984935075164082e-10\n",
      " - F2 (X): 4.255710868119303e-09\n"
     ]
    },
    {
     "name": "stderr",
     "output_type": "stream",
     "text": [
      " 27% (54 of 200) |######                 | Elapsed Time: 0:00:32 ETA:   0:01:24"
     ]
    },
    {
     "name": "stdout",
     "output_type": "stream",
     "text": [
      " - COST: 1.7297227530781422e-06\n",
      "\n",
      " - ITERATION: 55\n",
      " - DATA FIDELITY (X): 1.7270203057289775e-06\n",
      " - G (X): 6.006946283626281e-10\n",
      " - F2 (X): 4.174198205811351e-09\n",
      " - COST: 1.7317951985631516e-06\n",
      "\n"
     ]
    },
    {
     "name": "stderr",
     "output_type": "stream",
     "text": [
      " 27% (54 of 200) |######                 | Elapsed Time: 0:00:33 ETA:   0:01:30"
     ]
    },
    {
     "name": "stdout",
     "output_type": "stream",
     "text": [
      " - ITERATION: 56\n",
      " - DATA FIDELITY (X): 1.7290787914367307e-06\n",
      " - G (X): 9.150363775759557e-10\n",
      " - F2 (X): 4.100404905312594e-09\n"
     ]
    },
    {
     "name": "stderr",
     "output_type": "stream",
     "text": [
      " 27% (55 of 200) |######                 | Elapsed Time: 0:00:34 ETA:   0:01:26"
     ]
    },
    {
     "name": "stdout",
     "output_type": "stream",
     "text": [
      " - COST: 1.7340942327196192e-06\n",
      "\n",
      " - CONVERGENCE TEST - \n",
      " - CHANGE IN COST: 0.001724057185582328\n",
      "\n",
      " - ITERATION: 57\n",
      " - DATA FIDELITY (X): 1.7309605613687988e-06\n",
      " - G (X): 5.988705651220463e-10\n",
      " - F2 (X): 4.0330572142826585e-09\n"
     ]
    },
    {
     "name": "stderr",
     "output_type": "stream",
     "text": [
      " 28% (56 of 200) |######                 | Elapsed Time: 0:00:34 ETA:   0:01:26"
     ]
    },
    {
     "name": "stdout",
     "output_type": "stream",
     "text": [
      " - COST: 1.7355924891482036e-06\n",
      "\n",
      " - ITERATION: 58\n",
      " - DATA FIDELITY (X): 1.7326807214865622e-06\n",
      " - G (X): 5.378502876204106e-10\n",
      " - F2 (X): 3.9716749130416915e-09\n"
     ]
    },
    {
     "name": "stderr",
     "output_type": "stream",
     "text": [
      " 28% (57 of 200) |######                 | Elapsed Time: 0:00:35 ETA:   0:01:28"
     ]
    },
    {
     "name": "stdout",
     "output_type": "stream",
     "text": [
      " - COST: 1.7371902466872241e-06\n",
      "\n",
      " - ITERATION: 59\n",
      " - DATA FIDELITY (X): 1.734253082458791e-06\n",
      " - G (X): 1.0316063156276867e-09\n",
      " - F2 (X): 3.915778612043177e-09\n"
     ]
    },
    {
     "name": "stderr",
     "output_type": "stream",
     "text": [
      " 28% (58 of 200) |######                 | Elapsed Time: 0:00:35 ETA:   0:01:25"
     ]
    },
    {
     "name": "stdout",
     "output_type": "stream",
     "text": [
      " - COST: 1.739200467386462e-06\n",
      "\n",
      " - ITERATION: 60\n",
      " - DATA FIDELITY (X): 1.7356903175936408e-06\n",
      " - G (X): 5.137916829139034e-10\n",
      " - F2 (X): 3.8647934746403345e-09\n"
     ]
    },
    {
     "name": "stderr",
     "output_type": "stream",
     "text": [
      " 29% (59 of 200) |######                 | Elapsed Time: 0:00:36 ETA:   0:01:24"
     ]
    },
    {
     "name": "stdout",
     "output_type": "stream",
     "text": [
      " - COST: 1.7400689027511951e-06\n",
      "\n",
      " - CONVERGENCE TEST - \n",
      " - CHANGE IN COST: 0.0018643668000828126\n",
      "\n",
      " - ITERATION: 61\n",
      " - DATA FIDELITY (X): 1.737003984854129e-06\n",
      " - G (X): 8.016064755208293e-10\n",
      " - F2 (X): 3.818378470433968e-09\n"
     ]
    },
    {
     "name": "stderr",
     "output_type": "stream",
     "text": [
      " 30% (60 of 200) |######                 | Elapsed Time: 0:00:37 ETA:   0:01:23"
     ]
    },
    {
     "name": "stdout",
     "output_type": "stream",
     "text": [
      " - COST: 1.7416239698000838e-06\n",
      "\n",
      " - ITERATION: 62\n",
      " - DATA FIDELITY (X): 1.7382046590765421e-06\n",
      " - G (X): 5.323047764775234e-10\n",
      " - F2 (X): 3.775784091187778e-09\n"
     ]
    },
    {
     "name": "stderr",
     "output_type": "stream",
     "text": [
      " 30% (61 of 200) |#######                | Elapsed Time: 0:00:37 ETA:   0:01:22"
     ]
    },
    {
     "name": "stdout",
     "output_type": "stream",
     "text": [
      " - COST: 1.7425127479442075e-06\n",
      "\n",
      " - ITERATION: 63\n",
      " - DATA FIDELITY (X): 1.7393019962535935e-06\n",
      " - G (X): 4.862809586682091e-10\n",
      " - F2 (X): 3.737109768977406e-09\n"
     ]
    },
    {
     "name": "stderr",
     "output_type": "stream",
     "text": [
      " 31% (62 of 200) |#######                | Elapsed Time: 0:00:38 ETA:   0:01:22"
     ]
    },
    {
     "name": "stdout",
     "output_type": "stream",
     "text": [
      " - COST: 1.743525386981239e-06\n",
      "\n",
      " - ITERATION: 64\n",
      " - DATA FIDELITY (X): 1.7403049085266676e-06\n",
      " - G (X): 4.785389243784618e-10\n",
      " - F2 (X): 3.701744896215715e-09\n"
     ]
    },
    {
     "name": "stderr",
     "output_type": "stream",
     "text": [
      " 31% (63 of 200) |#######                | Elapsed Time: 0:00:38 ETA:   0:01:21"
     ]
    },
    {
     "name": "stdout",
     "output_type": "stream",
     "text": [
      " - COST: 1.7444851923472618e-06\n",
      "\n",
      " - CONVERGENCE TEST - \n",
      " - CHANGE IN COST: 0.0011106220856001582\n",
      "\n",
      " - ITERATION: 65\n",
      " - DATA FIDELITY (X): 1.7412214944325115e-06\n",
      " - G (X): 5.028578304328568e-10\n",
      " - F2 (X): 3.669702873261542e-09\n"
     ]
    },
    {
     "name": "stderr",
     "output_type": "stream",
     "text": [
      " 32% (64 of 200) |#######                | Elapsed Time: 0:00:39 ETA:   0:01:20"
     ]
    },
    {
     "name": "stdout",
     "output_type": "stream",
     "text": [
      " - COST: 1.745394055136206e-06\n",
      "\n",
      " - ITERATION: 66\n",
      " - DATA FIDELITY (X): 1.742059100326517e-06\n",
      " - G (X): 4.728870077810837e-10\n",
      " - F2 (X): 3.6408631819077662e-09\n"
     ]
    },
    {
     "name": "stderr",
     "output_type": "stream",
     "text": [
      " 32% (65 of 200) |#######                | Elapsed Time: 0:00:40 ETA:   0:01:20"
     ]
    },
    {
     "name": "stdout",
     "output_type": "stream",
     "text": [
      " - COST: 1.7461728505162057e-06\n",
      "\n",
      " - ITERATION: 67\n",
      " - DATA FIDELITY (X): 1.7428245918539441e-06\n",
      " - G (X): 4.6019868939737285e-10\n",
      " - F2 (X): 3.614529978211165e-09\n"
     ]
    },
    {
     "name": "stderr",
     "output_type": "stream",
     "text": [
      " 33% (66 of 200) |#######                | Elapsed Time: 0:00:40 ETA:   0:01:20"
     ]
    },
    {
     "name": "stdout",
     "output_type": "stream",
     "text": [
      " - COST: 1.7468993205215527e-06\n",
      "\n",
      " - ITERATION: 68\n",
      " - DATA FIDELITY (X): 1.7435241238660982e-06\n",
      " - G (X): 4.550104282617669e-10\n",
      " - F2 (X): 3.590499306390538e-09\n"
     ]
    },
    {
     "name": "stderr",
     "output_type": "stream",
     "text": [
      " 33% (67 of 200) |#######                | Elapsed Time: 0:00:41 ETA:   0:01:19"
     ]
    },
    {
     "name": "stdout",
     "output_type": "stream",
     "text": [
      " - COST: 1.7475696336007506e-06\n",
      "\n",
      " - CONVERGENCE TEST - \n",
      " - CHANGE IN COST: 0.0008304690950159664\n",
      "\n",
      " - ITERATION: 69\n",
      " - DATA FIDELITY (X): 1.7441634490328448e-06\n",
      " - G (X): 4.501492822344614e-10\n",
      " - F2 (X): 3.5682314800323702e-09\n"
     ]
    },
    {
     "name": "stderr",
     "output_type": "stream",
     "text": [
      " 34% (69 of 200) |#######                | Elapsed Time: 0:00:41 ETA:   0:01:15"
     ]
    },
    {
     "name": "stdout",
     "output_type": "stream",
     "text": [
      " - COST: 1.7481818297951116e-06\n",
      "\n",
      " - ITERATION: 70\n",
      " - DATA FIDELITY (X): 1.744747675471157e-06\n",
      " - G (X): 4.4594679968910113e-10\n",
      " - F2 (X): 3.5478168311960494e-09\n",
      " - COST: 1.7487414391020422e-06\n",
      "\n"
     ]
    },
    {
     "name": "stderr",
     "output_type": "stream",
     "text": [
      " 34% (69 of 200) |#######                | Elapsed Time: 0:00:42 ETA:   0:01:18"
     ]
    },
    {
     "name": "stdout",
     "output_type": "stream",
     "text": [
      " - ITERATION: 71\n",
      " - DATA FIDELITY (X): 1.7452815135827216e-06\n",
      " - G (X): 9.083139405800463e-10\n",
      " - F2 (X): 3.529373683517212e-09\n"
     ]
    },
    {
     "name": "stderr",
     "output_type": "stream",
     "text": [
      " 35% (70 of 200) |########               | Elapsed Time: 0:00:43 ETA:   0:01:17"
     ]
    },
    {
     "name": "stdout",
     "output_type": "stream",
     "text": [
      " - COST: 1.7497192012068188e-06\n",
      "\n",
      " - ITERATION: 72\n",
      " - DATA FIDELITY (X): 1.7457693923911636e-06\n",
      " - G (X): 4.3859699279894505e-10\n",
      " - F2 (X): 3.5126991577445453e-09\n"
     ]
    },
    {
     "name": "stderr",
     "output_type": "stream",
     "text": [
      " 35% (71 of 200) |########               | Elapsed Time: 0:00:43 ETA:   0:01:17"
     ]
    },
    {
     "name": "stdout",
     "output_type": "stream",
     "text": [
      " - COST: 1.749720688541707e-06\n",
      "\n",
      " - CONVERGENCE TEST - \n",
      " - CHANGE IN COST: 0.000719149615555312\n",
      "\n",
      " - ITERATION: 73\n",
      " - DATA FIDELITY (X): 1.7462151920172945e-06\n",
      " - G (X): 4.3555122317353763e-10\n",
      " - F2 (X): 3.4975903330620292e-09\n"
     ]
    },
    {
     "name": "stderr",
     "output_type": "stream",
     "text": [
      " 36% (72 of 200) |########               | Elapsed Time: 0:00:44 ETA:   0:01:19"
     ]
    },
    {
     "name": "stdout",
     "output_type": "stream",
     "text": [
      " - COST: 1.7501483335735301e-06\n",
      "\n",
      " - ITERATION: 74\n",
      " - DATA FIDELITY (X): 1.7466225511077988e-06\n",
      " - G (X): 4.327688419675136e-10\n",
      " - F2 (X): 3.483753975878098e-09\n"
     ]
    },
    {
     "name": "stderr",
     "output_type": "stream",
     "text": [
      " 37% (74 of 200) |########               | Elapsed Time: 0:00:44 ETA:   0:01:13"
     ]
    },
    {
     "name": "stdout",
     "output_type": "stream",
     "text": [
      " - COST: 1.7505390739256446e-06\n",
      "\n",
      " - ITERATION: 75\n",
      " - DATA FIDELITY (X): 1.7469948128867033e-06\n",
      " - G (X): 4.298941692300954e-10\n",
      " - F2 (X): 3.4708932725459053e-09\n",
      " - COST: 1.7508956003284793e-06\n",
      "\n"
     ]
    },
    {
     "name": "stderr",
     "output_type": "stream",
     "text": [
      " 37% (74 of 200) |########               | Elapsed Time: 0:00:45 ETA:   0:01:15"
     ]
    },
    {
     "name": "stdout",
     "output_type": "stream",
     "text": [
      " - ITERATION: 76\n",
      " - DATA FIDELITY (X): 1.747334998347697e-06\n",
      " - G (X): 4.274837719372225e-10\n",
      " - F2 (X): 3.4588068530091948e-09\n"
     ]
    },
    {
     "name": "stderr",
     "output_type": "stream",
     "text": [
      " 37% (75 of 200) |########               | Elapsed Time: 0:00:46 ETA:   0:01:14"
     ]
    },
    {
     "name": "stdout",
     "output_type": "stream",
     "text": [
      " - COST: 1.7512212889726433e-06\n",
      "\n",
      " - CONVERGENCE TEST - \n",
      " - CHANGE IN COST: 0.000408176496425561\n",
      "\n",
      " - ITERATION: 77\n",
      " - DATA FIDELITY (X): 1.7476458347214803e-06\n",
      " - G (X): 4.253731968620354e-10\n",
      " - F2 (X): 3.4480620757758317e-09\n"
     ]
    },
    {
     "name": "stderr",
     "output_type": "stream",
     "text": [
      " 38% (76 of 200) |########               | Elapsed Time: 0:00:46 ETA:   0:01:14"
     ]
    },
    {
     "name": "stdout",
     "output_type": "stream",
     "text": [
      " - COST: 1.751519269994118e-06\n",
      "\n",
      " - ITERATION: 78\n",
      " - DATA FIDELITY (X): 1.7479298605771993e-06\n",
      " - G (X): 4.233424457626206e-10\n",
      " - F2 (X): 3.4380998958633673e-09\n"
     ]
    },
    {
     "name": "stderr",
     "output_type": "stream",
     "text": [
      " 38% (77 of 200) |########               | Elapsed Time: 0:00:47 ETA:   0:01:15"
     ]
    },
    {
     "name": "stdout",
     "output_type": "stream",
     "text": [
      " - COST: 1.7517913029188252e-06\n",
      "\n",
      " - ITERATION: 79\n",
      " - DATA FIDELITY (X): 1.7481894025385869e-06\n",
      " - G (X): 4.4338163633331937e-10\n",
      " - F2 (X): 3.428922014549078e-09\n"
     ]
    },
    {
     "name": "stderr",
     "output_type": "stream",
     "text": [
      " 39% (78 of 200) |########               | Elapsed Time: 0:00:47 ETA:   0:01:12"
     ]
    },
    {
     "name": "stdout",
     "output_type": "stream",
     "text": [
      " - COST: 1.7520617061894691e-06\n",
      "\n",
      " - ITERATION: 80\n",
      " - DATA FIDELITY (X): 1.7484265723499863e-06\n",
      " - G (X): 4.338313356740263e-10\n",
      " - F2 (X): 3.4205155026937524e-09\n"
     ]
    },
    {
     "name": "stderr",
     "output_type": "stream",
     "text": [
      " 39% (79 of 200) |#########              | Elapsed Time: 0:00:48 ETA:   0:01:12"
     ]
    },
    {
     "name": "stdout",
     "output_type": "stream",
     "text": [
      " - COST: 1.7522809191883542e-06\n",
      "\n",
      " - CONVERGENCE TEST - \n",
      " - CHANGE IN COST: 0.0002945067235737722\n",
      "\n",
      " - ITERATION: 81\n",
      " - DATA FIDELITY (X): 1.7486432554635699e-06\n",
      " - G (X): 4.769151831000963e-10\n",
      " - F2 (X): 3.4131155489468776e-09\n"
     ]
    },
    {
     "name": "stderr",
     "output_type": "stream",
     "text": [
      " 40% (80 of 200) |#########              | Elapsed Time: 0:00:49 ETA:   0:01:11"
     ]
    },
    {
     "name": "stdout",
     "output_type": "stream",
     "text": [
      " - COST: 1.752533286195617e-06\n",
      "\n",
      " - ITERATION: 82\n",
      " - DATA FIDELITY (X): 1.7488412313452301e-06\n",
      " - G (X): 4.237231556372992e-10\n",
      " - F2 (X): 3.4067188705962964e-09\n"
     ]
    },
    {
     "name": "stderr",
     "output_type": "stream",
     "text": [
      " 40% (81 of 200) |#########              | Elapsed Time: 0:00:49 ETA:   0:01:11"
     ]
    },
    {
     "name": "stdout",
     "output_type": "stream",
     "text": [
      " - COST: 1.7526716733714636e-06\n",
      "\n",
      " - ITERATION: 83\n",
      " - DATA FIDELITY (X): 1.7490221632413323e-06\n",
      " - G (X): 6.03390005796463e-10\n",
      " - F2 (X): 3.4006185804460767e-09\n"
     ]
    },
    {
     "name": "stderr",
     "output_type": "stream",
     "text": [
      " 41% (82 of 200) |#########              | Elapsed Time: 0:00:50 ETA:   0:01:10"
     ]
    },
    {
     "name": "stdout",
     "output_type": "stream",
     "text": [
      " - COST: 1.7530261718275749e-06\n",
      "\n",
      " - ITERATION: 84\n",
      " - DATA FIDELITY (X): 1.749187516872579e-06\n",
      " - G (X): 1.1628074667133605e-09\n",
      " - F2 (X): 3.3949216670756687e-09\n"
     ]
    },
    {
     "name": "stderr",
     "output_type": "stream",
     "text": [
      " 41% (83 of 200) |#########              | Elapsed Time: 0:00:50 ETA:   0:01:09"
     ]
    },
    {
     "name": "stdout",
     "output_type": "stream",
     "text": [
      " - COST: 1.753745246006368e-06\n",
      "\n",
      " - CONVERGENCE TEST - \n",
      " - CHANGE IN COST: 0.00044669528755020494\n",
      "\n",
      " - ITERATION: 85\n",
      " - DATA FIDELITY (X): 1.7493385726989829e-06\n",
      " - G (X): 4.1347261436292786e-10\n",
      " - F2 (X): 3.3898070334464837e-09\n"
     ]
    },
    {
     "name": "stderr",
     "output_type": "stream",
     "text": [
      " 42% (84 of 200) |#########              | Elapsed Time: 0:00:51 ETA:   0:01:09"
     ]
    },
    {
     "name": "stdout",
     "output_type": "stream",
     "text": [
      " - COST: 1.7531418523467922e-06\n",
      "\n",
      " - ITERATION: 86\n",
      " - DATA FIDELITY (X): 1.7494765999836645e-06\n",
      " - G (X): 4.1251985742071445e-10\n",
      " - F2 (X): 3.384811764144374e-09\n"
     ]
    },
    {
     "name": "stderr",
     "output_type": "stream",
     "text": [
      " 42% (85 of 200) |#########              | Elapsed Time: 0:00:52 ETA:   0:01:09"
     ]
    },
    {
     "name": "stdout",
     "output_type": "stream",
     "text": [
      " - COST: 1.7532739316052296e-06\n",
      "\n",
      " - ITERATION: 87\n",
      " - DATA FIDELITY (X): 1.749602725299313e-06\n",
      " - G (X): 4.1221545361104874e-10\n",
      " - F2 (X): 3.3804218883276047e-09\n"
     ]
    },
    {
     "name": "stderr",
     "output_type": "stream",
     "text": [
      " 43% (86 of 200) |#########              | Elapsed Time: 0:00:52 ETA:   0:01:08"
     ]
    },
    {
     "name": "stdout",
     "output_type": "stream",
     "text": [
      " - COST: 1.7533953626412517e-06\n",
      "\n",
      " - ITERATION: 88\n",
      " - DATA FIDELITY (X): 1.7497179807377925e-06\n",
      " - G (X): 4.1187491063811416e-10\n",
      " - F2 (X): 3.3764737405527657e-09\n"
     ]
    },
    {
     "name": "stderr",
     "output_type": "stream",
     "text": [
      " 43% (87 of 200) |##########             | Elapsed Time: 0:00:53 ETA:   0:01:08"
     ]
    },
    {
     "name": "stdout",
     "output_type": "stream",
     "text": [
      " - COST: 1.7535063293889834e-06\n",
      "\n",
      " - CONVERGENCE TEST - \n",
      " - CHANGE IN COST: 0.00013855765598366483\n",
      "\n",
      " - ITERATION: 89\n",
      " - DATA FIDELITY (X): 1.7498233246375385e-06\n",
      " - G (X): 4.1011933194155253e-10\n",
      " - F2 (X): 3.3727046687965764e-09\n"
     ]
    },
    {
     "name": "stderr",
     "output_type": "stream",
     "text": [
      " 44% (89 of 200) |##########             | Elapsed Time: 0:00:53 ETA:   0:01:04"
     ]
    },
    {
     "name": "stdout",
     "output_type": "stream",
     "text": [
      " - COST: 1.7536061486382767e-06\n",
      "\n",
      " - ITERATION: 90\n",
      " - DATA FIDELITY (X): 1.7499195834188459e-06\n",
      " - G (X): 4.3487378352723385e-10\n",
      " - F2 (X): 3.369052280765385e-09\n",
      " - COST: 1.7537235094831386e-06\n",
      "\n"
     ]
    },
    {
     "name": "stderr",
     "output_type": "stream",
     "text": [
      " 44% (89 of 200) |##########             | Elapsed Time: 0:00:54 ETA:   0:01:06"
     ]
    },
    {
     "name": "stdout",
     "output_type": "stream",
     "text": [
      " - ITERATION: 91\n",
      " - DATA FIDELITY (X): 1.7500075190277918e-06\n",
      " - G (X): 4.089710167493465e-10\n",
      " - F2 (X): 3.3656781930568153e-09\n"
     ]
    },
    {
     "name": "stderr",
     "output_type": "stream",
     "text": [
      " 45% (90 of 200) |##########             | Elapsed Time: 0:00:55 ETA:   0:01:06"
     ]
    },
    {
     "name": "stdout",
     "output_type": "stream",
     "text": [
      " - COST: 1.753782168237598e-06\n",
      "\n",
      " - ITERATION: 92\n",
      " - DATA FIDELITY (X): 1.7500878847934849e-06\n",
      " - G (X): 4.0832570553322324e-10\n",
      " - F2 (X): 3.3630290219419656e-09\n"
     ]
    },
    {
     "name": "stderr",
     "output_type": "stream",
     "text": [
      " 45% (91 of 200) |##########             | Elapsed Time: 0:00:55 ETA:   0:01:12"
     ]
    },
    {
     "name": "stdout",
     "output_type": "stream",
     "text": [
      " - COST: 1.75385923952096e-06\n",
      "\n",
      " - CONVERGENCE TEST - \n",
      " - CHANGE IN COST: 8.88772827384325e-05\n",
      "\n",
      " - ITERATION: 93\n",
      " - DATA FIDELITY (X): 1.7501612993465878e-06\n",
      " - G (X): 2.023121784311723e-09\n",
      " - F2 (X): 3.359914207205869e-09\n"
     ]
    },
    {
     "name": "stderr",
     "output_type": "stream",
     "text": [
      " 46% (92 of 200) |##########             | Elapsed Time: 0:00:56 ETA:   0:01:07"
     ]
    },
    {
     "name": "stdout",
     "output_type": "stream",
     "text": [
      " - COST: 1.7555443353381054e-06\n",
      "\n",
      " - ITERATION: 94\n",
      " - DATA FIDELITY (X): 1.750228400468468e-06\n",
      " - G (X): 4.5992778936773867e-10\n",
      " - F2 (X): 3.3572562850635894e-09\n"
     ]
    },
    {
     "name": "stderr",
     "output_type": "stream",
     "text": [
      " 46% (93 of 200) |##########             | Elapsed Time: 0:00:56 ETA:   0:01:04"
     ]
    },
    {
     "name": "stdout",
     "output_type": "stream",
     "text": [
      " - COST: 1.7540455845428994e-06\n",
      "\n",
      " - ITERATION: 95\n",
      " - DATA FIDELITY (X): 1.750289721897482e-06\n",
      " - G (X): 4.1460528303340933e-10\n",
      " - F2 (X): 3.3548302710476824e-09\n"
     ]
    },
    {
     "name": "stderr",
     "output_type": "stream",
     "text": [
      " 47% (94 of 200) |##########             | Elapsed Time: 0:00:57 ETA:   0:01:03"
     ]
    },
    {
     "name": "stdout",
     "output_type": "stream",
     "text": [
      " - COST: 1.7540591574515633e-06\n",
      "\n",
      " - ITERATION: 96\n",
      " - DATA FIDELITY (X): 1.7503457423417589e-06\n",
      " - G (X): 4.0654467482918536e-10\n",
      " - F2 (X): 3.3525678447893414e-09\n"
     ]
    },
    {
     "name": "stderr",
     "output_type": "stream",
     "text": [
      " 47% (95 of 200) |##########             | Elapsed Time: 0:00:58 ETA:   0:01:02"
     ]
    },
    {
     "name": "stdout",
     "output_type": "stream",
     "text": [
      " - COST: 1.7541048548613773e-06\n",
      "\n",
      " - CONVERGENCE TEST - \n",
      " - CHANGE IN COST: 0.00040645407770544353\n",
      "\n",
      " - ITERATION: 97\n",
      " - DATA FIDELITY (X): 1.7503969584332575e-06\n",
      " - G (X): 8.22876048774633e-10\n",
      " - F2 (X): 3.350448011899496e-09\n"
     ]
    },
    {
     "name": "stderr",
     "output_type": "stream",
     "text": [
      " 48% (96 of 200) |###########            | Elapsed Time: 0:00:58 ETA:   0:01:01"
     ]
    },
    {
     "name": "stdout",
     "output_type": "stream",
     "text": [
      " - COST: 1.7545702824939317e-06\n",
      "\n",
      " - ITERATION: 98\n",
      " - DATA FIDELITY (X): 1.750443738922386e-06\n",
      " - G (X): 4.835985388140066e-10\n",
      " - F2 (X): 3.348669932397348e-09\n"
     ]
    },
    {
     "name": "stderr",
     "output_type": "stream",
     "text": [
      " 48% (97 of 200) |###########            | Elapsed Time: 0:00:59 ETA:   0:01:01"
     ]
    },
    {
     "name": "stdout",
     "output_type": "stream",
     "text": [
      " - COST: 1.7542760073935973e-06\n",
      "\n",
      " - ITERATION: 99\n",
      " - DATA FIDELITY (X): 1.750486466051975e-06\n",
      " - G (X): 4.056752202772773e-10\n",
      " - F2 (X): 3.347638341297989e-09\n"
     ]
    },
    {
     "name": "stderr",
     "output_type": "stream",
     "text": [
      " 49% (98 of 200) |###########            | Elapsed Time: 0:00:59 ETA:   0:01:01"
     ]
    },
    {
     "name": "stdout",
     "output_type": "stream",
     "text": [
      " - COST: 1.7542397796135503e-06\n",
      "\n",
      " - ITERATION: 100\n",
      " - DATA FIDELITY (X): 1.7505255162938504e-06\n",
      " - G (X): 4.1905148063706953e-10\n",
      " - F2 (X): 3.3469790082430033e-09\n"
     ]
    },
    {
     "name": "stderr",
     "output_type": "stream",
     "text": [
      " 49% (99 of 200) |###########            | Elapsed Time: 0:01:00 ETA:   0:01:00"
     ]
    },
    {
     "name": "stdout",
     "output_type": "stream",
     "text": [
      " - COST: 1.7542915467827304e-06\n",
      "\n",
      " - CONVERGENCE TEST - \n",
      " - CHANGE IN COST: 8.977075076359259e-05\n",
      "\n",
      " - ITERATION: 101\n",
      " - DATA FIDELITY (X): 1.7505611914286209e-06\n",
      " - G (X): 4.060696968858185e-10\n",
      " - F2 (X): 3.345943328393924e-09\n"
     ]
    },
    {
     "name": "stderr",
     "output_type": "stream",
     "text": [
      " 50% (100 of 200) |###########           | Elapsed Time: 0:01:01 ETA:   0:01:00"
     ]
    },
    {
     "name": "stdout",
     "output_type": "stream",
     "text": [
      " - COST: 1.7543132044539007e-06\n",
      "\n",
      " - ITERATION: 102\n",
      " - DATA FIDELITY (X): 1.750593726989659e-06\n",
      " - G (X): 4.050311450894409e-10\n",
      " - F2 (X): 3.34516663515479e-09\n"
     ]
    },
    {
     "name": "stderr",
     "output_type": "stream",
     "text": [
      " 50% (101 of 200) |###########           | Elapsed Time: 0:01:01 ETA:   0:00:59"
     ]
    },
    {
     "name": "stdout",
     "output_type": "stream",
     "text": [
      " - COST: 1.7543439247699034e-06\n",
      "\n",
      " - ITERATION: 103\n",
      " - DATA FIDELITY (X): 1.750623500844616e-06\n",
      " - G (X): 6.530845070246297e-10\n",
      " - F2 (X): 3.3437237275179924e-09\n"
     ]
    },
    {
     "name": "stderr",
     "output_type": "stream",
     "text": [
      " 51% (102 of 200) |###########           | Elapsed Time: 0:01:02 ETA:   0:00:58"
     ]
    },
    {
     "name": "stdout",
     "output_type": "stream",
     "text": [
      " - COST: 1.7546203090791588e-06\n",
      "\n",
      " - ITERATION: 104\n",
      " - DATA FIDELITY (X): 1.7506506283279609e-06\n",
      " - G (X): 8.24071978751246e-10\n",
      " - F2 (X): 3.343092487852346e-09\n"
     ]
    },
    {
     "name": "stderr",
     "output_type": "stream",
     "text": [
      " 51% (103 of 200) |###########           | Elapsed Time: 0:01:02 ETA:   0:00:57"
     ]
    },
    {
     "name": "stdout",
     "output_type": "stream",
     "text": [
      " - COST: 1.7548177927945644e-06\n",
      "\n",
      " - CONVERGENCE TEST - \n",
      " - CHANGE IN COST: 0.0002225349549553712\n",
      "\n",
      " - ITERATION: 105\n",
      " - DATA FIDELITY (X): 1.7506754457958391e-06\n",
      " - G (X): 5.747071687718113e-10\n",
      " - F2 (X): 3.3424523260482286e-09\n"
     ]
    },
    {
     "name": "stderr",
     "output_type": "stream",
     "text": [
      " 52% (104 of 200) |###########           | Elapsed Time: 0:01:03 ETA:   0:00:57"
     ]
    },
    {
     "name": "stdout",
     "output_type": "stream",
     "text": [
      " - COST: 1.7545926052906592e-06\n",
      "\n",
      " - ITERATION: 106\n",
      " - DATA FIDELITY (X): 1.7506981125581248e-06\n",
      " - G (X): 4.160055095406741e-10\n",
      " - F2 (X): 3.3414169500312787e-09\n"
     ]
    },
    {
     "name": "stderr",
     "output_type": "stream",
     "text": [
      " 52% (105 of 200) |###########           | Elapsed Time: 0:01:04 ETA:   0:01:03"
     ]
    },
    {
     "name": "stdout",
     "output_type": "stream",
     "text": [
      " - COST: 1.7544555350176967e-06\n",
      "\n",
      " - ITERATION: 107\n",
      " - DATA FIDELITY (X): 1.7507188388171578e-06\n",
      " - G (X): 4.223903873210107e-09\n",
      " - F2 (X): 3.340533994504129e-09\n"
     ]
    },
    {
     "name": "stderr",
     "output_type": "stream",
     "text": [
      " 53% (106 of 200) |###########           | Elapsed Time: 0:01:04 ETA:   0:01:03"
     ]
    },
    {
     "name": "stdout",
     "output_type": "stream",
     "text": [
      " - COST: 1.7582832766848722e-06\n",
      "\n",
      " - ITERATION: 108\n",
      " - DATA FIDELITY (X): 1.7507377734585863e-06\n",
      " - G (X): 1.2321118660057227e-09\n",
      " - F2 (X): 3.3399698489118807e-09\n"
     ]
    },
    {
     "name": "stderr",
     "output_type": "stream",
     "text": [
      " 53% (107 of 200) |###########           | Elapsed Time: 0:01:05 ETA:   0:00:55"
     ]
    },
    {
     "name": "stdout",
     "output_type": "stream",
     "text": [
      " - COST: 1.755309855173504e-06\n",
      "\n",
      " - CONVERGENCE TEST - \n",
      " - CHANGE IN COST: 0.0012935452055645566\n",
      "\n",
      " - ITERATION: 109\n",
      " - DATA FIDELITY (X): 1.750755068928776e-06\n",
      " - G (X): 4.612493872612462e-10\n",
      " - F2 (X): 3.339141726971772e-09\n"
     ]
    },
    {
     "name": "stderr",
     "output_type": "stream",
     "text": [
      " 54% (108 of 200) |###########           | Elapsed Time: 0:01:05 ETA:   0:00:56"
     ]
    },
    {
     "name": "stdout",
     "output_type": "stream",
     "text": [
      " - COST: 1.754555460043009e-06\n",
      "\n",
      " - ITERATION: 110\n",
      " - DATA FIDELITY (X): 1.750770890766957e-06\n",
      " - G (X): 4.0569699180717823e-10\n",
      " - F2 (X): 3.338514703467073e-09\n"
     ]
    },
    {
     "name": "stderr",
     "output_type": "stream",
     "text": [
      " 54% (109 of 200) |###########           | Elapsed Time: 0:01:06 ETA:   0:00:54"
     ]
    },
    {
     "name": "stdout",
     "output_type": "stream",
     "text": [
      " - COST: 1.7545151024622312e-06\n",
      "\n",
      " - ITERATION: 111\n",
      " - DATA FIDELITY (X): 1.7507853529199568e-06\n",
      " - G (X): 4.0465831440488813e-10\n",
      " - F2 (X): 3.3375915100069336e-09\n"
     ]
    },
    {
     "name": "stderr",
     "output_type": "stream",
     "text": [
      " 55% (110 of 200) |############          | Elapsed Time: 0:01:07 ETA:   0:00:54"
     ]
    },
    {
     "name": "stdout",
     "output_type": "stream",
     "text": [
      " - COST: 1.7545276027443686e-06\n",
      "\n",
      " - ITERATION: 112\n",
      " - DATA FIDELITY (X): 1.750798536526175e-06\n",
      " - G (X): 4.0788130495518745e-10\n",
      " - F2 (X): 3.337307241585712e-09\n"
     ]
    },
    {
     "name": "stderr",
     "output_type": "stream",
     "text": [
      "                                                                               \r"
     ]
    },
    {
     "name": "stdout",
     "output_type": "stream",
     "text": [
      " - COST: 1.754543725072716e-06\n",
      "\n",
      " - CONVERGENCE TEST - \n",
      " - CHANGE IN COST: 2.1809526587124573e-07\n",
      "\n",
      " - ITERATION: 113\n",
      " - DATA FIDELITY (X): 1.7508105900811753e-06\n",
      " - G (X): 4.0510285889410853e-10\n"
     ]
    },
    {
     "name": "stderr",
     "output_type": "stream",
     "text": [
      "\r",
      " 56% (112 of 200) |############          | Elapsed Time: 0:01:07 ETA:   0:00:52"
     ]
    },
    {
     "name": "stdout",
     "output_type": "stream",
     "text": [
      " - F2 (X): 3.3368337468824215e-09\n",
      " - COST: 1.7545525266869518e-06\n",
      "\n"
     ]
    },
    {
     "name": "stderr",
     "output_type": "stream",
     "text": [
      " 56% (112 of 200) |############          | Elapsed Time: 0:01:08 ETA:   0:00:58"
     ]
    },
    {
     "name": "stdout",
     "output_type": "stream",
     "text": [
      " - ITERATION: 114\n",
      " - DATA FIDELITY (X): 1.750821605821694e-06\n",
      " - G (X): 2.059044128794172e-09\n",
      " - F2 (X): 3.336849002293118e-09\n"
     ]
    },
    {
     "name": "stderr",
     "output_type": "stream",
     "text": [
      " 56% (114 of 200) |############          | Elapsed Time: 0:01:08 ETA:   0:00:50"
     ]
    },
    {
     "name": "stdout",
     "output_type": "stream",
     "text": [
      " - COST: 1.7562174989527812e-06\n",
      "\n",
      " - ITERATION: 115\n",
      " - DATA FIDELITY (X): 1.7508316626648024e-06\n",
      " - G (X): 8.652556841010022e-10\n",
      " - F2 (X): 3.336878532974194e-09\n",
      " - COST: 1.7550337968818777e-06\n",
      "\n"
     ]
    },
    {
     "name": "stderr",
     "output_type": "stream",
     "text": [
      " 56% (114 of 200) |############          | Elapsed Time: 0:01:09 ETA:   0:00:57"
     ]
    },
    {
     "name": "stdout",
     "output_type": "stream",
     "text": [
      " - ITERATION: 116\n",
      " - DATA FIDELITY (X): 1.750840860266087e-06\n",
      " - G (X): 4.332435851699847e-10\n",
      " - F2 (X): 3.3365066770987366e-09\n"
     ]
    },
    {
     "name": "stderr",
     "output_type": "stream",
     "text": [
      " 57% (115 of 200) |############          | Elapsed Time: 0:01:10 ETA:   0:00:53"
     ]
    },
    {
     "name": "stdout",
     "output_type": "stream",
     "text": [
      " - COST: 1.7546106105283557e-06\n",
      "\n",
      " - CONVERGENCE TEST - \n",
      " - CHANGE IN COST: 0.0003207214460596016\n",
      "\n",
      " - ITERATION: 117\n",
      " - DATA FIDELITY (X): 1.7508492533388812e-06\n",
      " - G (X): 4.0356199753993665e-10\n",
      " - F2 (X): 3.336306061180638e-09\n"
     ]
    },
    {
     "name": "stderr",
     "output_type": "stream",
     "text": [
      " 57% (116 of 200) |############          | Elapsed Time: 0:01:10 ETA:   0:00:50"
     ]
    },
    {
     "name": "stdout",
     "output_type": "stream",
     "text": [
      " - COST: 1.7545891213976018e-06\n",
      "\n",
      " - ITERATION: 118\n",
      " - DATA FIDELITY (X): 1.750856943703551e-06\n",
      " - G (X): 4.030390628950016e-10\n",
      " - F2 (X): 3.335676958445051e-09\n"
     ]
    },
    {
     "name": "stderr",
     "output_type": "stream",
     "text": [
      " 58% (117 of 200) |############          | Elapsed Time: 0:01:11 ETA:   0:00:51"
     ]
    },
    {
     "name": "stdout",
     "output_type": "stream",
     "text": [
      " - COST: 1.7545956597248911e-06\n",
      "\n",
      " - ITERATION: 119\n",
      " - DATA FIDELITY (X): 1.750863952024499e-06\n",
      " - G (X): 2.1892468575979057e-09\n",
      " - F2 (X): 3.3356347608162855e-09\n"
     ]
    },
    {
     "name": "stderr",
     "output_type": "stream",
     "text": [
      " 59% (118 of 200) |############          | Elapsed Time: 0:01:11 ETA:   0:00:48"
     ]
    },
    {
     "name": "stdout",
     "output_type": "stream",
     "text": [
      " - COST: 1.7563888336429133e-06\n",
      "\n",
      " - ITERATION: 120\n",
      " - DATA FIDELITY (X): 1.750870387350018e-06\n",
      " - G (X): 4.260191777059101e-10\n",
      " - F2 (X): 3.335225698180176e-09\n"
     ]
    },
    {
     "name": "stderr",
     "output_type": "stream",
     "text": [
      " 59% (119 of 200) |#############         | Elapsed Time: 0:01:12 ETA:   0:00:48"
     ]
    },
    {
     "name": "stdout",
     "output_type": "stream",
     "text": [
      " - COST: 1.7546316322259042e-06\n",
      "\n",
      " - CONVERGENCE TEST - \n",
      " - CHANGE IN COST: 0.0005228351028340416\n",
      "\n",
      " - ITERATION: 121\n",
      " - DATA FIDELITY (X): 1.7508762434568211e-06\n",
      " - G (X): 4.1713956778176905e-10\n",
      " - F2 (X): 3.3348738531779382e-09\n"
     ]
    },
    {
     "name": "stderr",
     "output_type": "stream",
     "text": [
      " 60% (120 of 200) |#############         | Elapsed Time: 0:01:13 ETA:   0:00:48"
     ]
    },
    {
     "name": "stdout",
     "output_type": "stream",
     "text": [
      " - COST: 1.7546282568777808e-06\n",
      "\n",
      " - ITERATION: 122\n",
      " - DATA FIDELITY (X): 1.7508815900139688e-06\n",
      " - G (X): 6.696074313697946e-10\n",
      " - F2 (X): 3.334344528335202e-09\n"
     ]
    },
    {
     "name": "stderr",
     "output_type": "stream",
     "text": [
      " 60% (121 of 200) |#############         | Elapsed Time: 0:01:13 ETA:   0:00:52"
     ]
    },
    {
     "name": "stdout",
     "output_type": "stream",
     "text": [
      " - COST: 1.7548855419736738e-06\n",
      "\n",
      " - ITERATION: 123\n",
      " - DATA FIDELITY (X): 1.7508865102981052e-06\n",
      " - G (X): 4.0413263550526935e-10\n",
      " - F2 (X): 3.333729627224327e-09\n"
     ]
    },
    {
     "name": "stderr",
     "output_type": "stream",
     "text": [
      " 61% (122 of 200) |#############         | Elapsed Time: 0:01:14 ETA:   0:00:52"
     ]
    },
    {
     "name": "stdout",
     "output_type": "stream",
     "text": [
      " - COST: 1.754624372560835e-06\n",
      "\n",
      " - ITERATION: 124\n",
      " - DATA FIDELITY (X): 1.7508909852380555e-06\n",
      " - G (X): 9.264731000814903e-10\n",
      " - F2 (X): 3.3335489198841187e-09\n"
     ]
    },
    {
     "name": "stderr",
     "output_type": "stream",
     "text": [
      " 61% (123 of 200) |#############         | Elapsed Time: 0:01:14 ETA:   0:00:45"
     ]
    },
    {
     "name": "stdout",
     "output_type": "stream",
     "text": [
      " - COST: 1.755151007258021e-06\n",
      "\n",
      " - CONVERGENCE TEST - \n",
      " - CHANGE IN COST: 7.45292615890112e-05\n",
      "\n",
      " - ITERATION: 125\n",
      " - DATA FIDELITY (X): 1.7508950628608984e-06\n",
      " - G (X): 2.4932112047464127e-09\n"
     ]
    },
    {
     "name": "stderr",
     "output_type": "stream",
     "text": [
      " 62% (124 of 200) |#############         | Elapsed Time: 0:01:15 ETA:   0:00:45"
     ]
    },
    {
     "name": "stdout",
     "output_type": "stream",
     "text": [
      " - F2 (X): 3.3331863754234026e-09\n",
      " - COST: 1.7567214604410682e-06\n",
      "\n",
      " - ITERATION: 126\n",
      " - DATA FIDELITY (X): 1.7508988078211689e-06\n",
      " - G (X): 8.054841705900653e-10\n",
      " - F2 (X): 3.332875088557086e-09\n"
     ]
    },
    {
     "name": "stderr",
     "output_type": "stream",
     "text": [
      " 62% (125 of 200) |#############         | Elapsed Time: 0:01:16 ETA:   0:00:45"
     ]
    },
    {
     "name": "stdout",
     "output_type": "stream",
     "text": [
      " - COST: 1.755037167080316e-06\n",
      "\n",
      " - ITERATION: 127\n",
      " - DATA FIDELITY (X): 1.7509022425281478e-06\n",
      " - G (X): 1.9164884465878256e-09\n",
      " - F2 (X): 3.3328422777173894e-09\n"
     ]
    },
    {
     "name": "stderr",
     "output_type": "stream",
     "text": [
      " 63% (127 of 200) |#############         | Elapsed Time: 0:01:16 ETA:   0:00:42"
     ]
    },
    {
     "name": "stdout",
     "output_type": "stream",
     "text": [
      " - COST: 1.756151573252453e-06\n",
      "\n",
      " - ITERATION: 128\n",
      " - DATA FIDELITY (X): 1.7509053601123568e-06\n",
      " - G (X): 1.4055795236978995e-09\n",
      " - F2 (X): 3.333034634924076e-09\n",
      " - COST: 1.7556439742709788e-06\n",
      "\n",
      " - CONVERGENCE TEST - \n",
      " - CHANGE IN COST: 1.0513141083458292e-05\n",
      "\n"
     ]
    },
    {
     "name": "stderr",
     "output_type": "stream",
     "text": [
      " 63% (127 of 200) |#############         | Elapsed Time: 0:01:17 ETA:   0:00:49"
     ]
    },
    {
     "name": "stdout",
     "output_type": "stream",
     "text": [
      " - ITERATION: 129\n",
      " - DATA FIDELITY (X): 1.7509082227920154e-06\n",
      " - G (X): 1.249231999760606e-09\n",
      " - F2 (X): 3.3331130056453e-09\n"
     ]
    },
    {
     "name": "stderr",
     "output_type": "stream",
     "text": [
      " 64% (128 of 200) |##############        | Elapsed Time: 0:01:18 ETA:   0:00:48"
     ]
    },
    {
     "name": "stdout",
     "output_type": "stream",
     "text": [
      " - COST: 1.7554905677974213e-06\n",
      "\n",
      " - ITERATION: 130\n",
      " - DATA FIDELITY (X): 1.7509108337021101e-06\n",
      " - G (X): 4.066403458280382e-10\n",
      " - F2 (X): 3.33294996427805e-09\n"
     ]
    },
    {
     "name": "stderr",
     "output_type": "stream",
     "text": [
      " 65% (130 of 200) |##############        | Elapsed Time: 0:01:18 ETA:   0:00:41"
     ]
    },
    {
     "name": "stdout",
     "output_type": "stream",
     "text": [
      " - COST: 1.7546504240122162e-06\n",
      "\n",
      " - ITERATION: 131\n",
      " - DATA FIDELITY (X): 1.7509131993945634e-06\n",
      " - G (X): 4.0286117044588895e-10\n",
      " - F2 (X): 3.33283193967979e-09\n",
      " - COST: 1.754648892504689e-06\n",
      "\n"
     ]
    },
    {
     "name": "stderr",
     "output_type": "stream",
     "text": [
      " 65% (130 of 200) |##############        | Elapsed Time: 0:01:19 ETA:   0:00:46"
     ]
    },
    {
     "name": "stdout",
     "output_type": "stream",
     "text": [
      " - ITERATION: 132\n",
      " - DATA FIDELITY (X): 1.750915334302386e-06\n",
      " - G (X): 4.3913437998718887e-10\n",
      " - F2 (X): 3.3331213845033484e-09\n"
     ]
    },
    {
     "name": "stderr",
     "output_type": "stream",
     "text": [
      " 65% (131 of 200) |##############        | Elapsed Time: 0:01:19 ETA:   0:00:41"
     ]
    },
    {
     "name": "stdout",
     "output_type": "stream",
     "text": [
      " - COST: 1.7546875900668766e-06\n",
      "\n",
      " - CONVERGENCE TEST - \n",
      " - CHANGE IN COST: 0.0002292482473730843\n",
      "\n",
      " - ITERATION: 133\n",
      " - DATA FIDELITY (X): 1.7509173100964537e-06\n",
      " - G (X): 1.014607213660536e-09\n",
      " - F2 (X): 3.3331230691387127e-09\n"
     ]
    },
    {
     "name": "stderr",
     "output_type": "stream",
     "text": [
      " 66% (132 of 200) |##############        | Elapsed Time: 0:01:20 ETA:   0:00:45"
     ]
    },
    {
     "name": "stdout",
     "output_type": "stream",
     "text": [
      " - COST: 1.7552650403792528e-06\n",
      "\n",
      " - ITERATION: 134\n",
      " - DATA FIDELITY (X): 1.7509191047719559e-06\n",
      " - G (X): 4.1913494930508986e-10\n",
      " - F2 (X): 3.332844553203791e-09\n"
     ]
    },
    {
     "name": "stderr",
     "output_type": "stream",
     "text": [
      " 66% (133 of 200) |##############        | Elapsed Time: 0:01:21 ETA:   0:00:41"
     ]
    },
    {
     "name": "stdout",
     "output_type": "stream",
     "text": [
      " - COST: 1.7546710842744648e-06\n",
      "\n",
      " - ITERATION: 135\n",
      " - DATA FIDELITY (X): 1.7509207459691588e-06\n",
      " - G (X): 2.990940937591943e-09\n",
      " - F2 (X): 3.3327974293297366e-09\n"
     ]
    },
    {
     "name": "stderr",
     "output_type": "stream",
     "text": [
      " 67% (134 of 200) |##############        | Elapsed Time: 0:01:21 ETA:   0:00:39"
     ]
    },
    {
     "name": "stdout",
     "output_type": "stream",
     "text": [
      " - COST: 1.7572444843360805e-06\n",
      "\n",
      " - ITERATION: 136\n",
      " - DATA FIDELITY (X): 1.7509222513109578e-06\n",
      " - G (X): 5.132507146766519e-10\n",
      " - F2 (X): 3.3322214253662437e-09\n"
     ]
    },
    {
     "name": "stderr",
     "output_type": "stream",
     "text": [
      " 67% (135 of 200) |##############        | Elapsed Time: 0:01:22 ETA:   0:00:38"
     ]
    },
    {
     "name": "stdout",
     "output_type": "stream",
     "text": [
      " - COST: 1.7547677234510008e-06\n",
      "\n",
      " - CONVERGENCE TEST - \n",
      " - CHANGE IN COST: 0.0005911377895442731\n",
      "\n",
      " - ITERATION: 137\n",
      " - DATA FIDELITY (X): 1.7509236351244432e-06\n",
      " - G (X): 4.153509051620511e-10\n",
      " - F2 (X): 3.331740581000852e-09\n"
     ]
    },
    {
     "name": "stderr",
     "output_type": "stream",
     "text": [
      " 68% (136 of 200) |##############        | Elapsed Time: 0:01:22 ETA:   0:00:38"
     ]
    },
    {
     "name": "stdout",
     "output_type": "stream",
     "text": [
      " - COST: 1.7546707266106062e-06\n",
      "\n",
      " - ITERATION: 138\n",
      " - DATA FIDELITY (X): 1.750924897944294e-06\n",
      " - G (X): 4.0270433691542976e-10\n",
      " - F2 (X): 3.331634775279227e-09\n"
     ]
    },
    {
     "name": "stderr",
     "output_type": "stream",
     "text": [
      " 68% (137 of 200) |###############       | Elapsed Time: 0:01:23 ETA:   0:00:37"
     ]
    },
    {
     "name": "stdout",
     "output_type": "stream",
     "text": [
      " - COST: 1.7546592370564888e-06\n",
      "\n",
      " - ITERATION: 139\n",
      " - DATA FIDELITY (X): 1.7509260474238659e-06\n",
      " - G (X): 4.0871647672619956e-10\n",
      " - F2 (X): 3.3314394496246362e-09\n"
     ]
    },
    {
     "name": "stderr",
     "output_type": "stream",
     "text": [
      " 69% (138 of 200) |###############       | Elapsed Time: 0:01:24 ETA:   0:00:37"
     ]
    },
    {
     "name": "stdout",
     "output_type": "stream",
     "text": [
      " - COST: 1.7546662033502166e-06\n",
      "\n",
      " - ITERATION: 140\n",
      " - DATA FIDELITY (X): 1.7509270801135655e-06\n",
      " - G (X): 5.30698227322032e-10\n",
      " - F2 (X): 3.3316238194106675e-09\n"
     ]
    },
    {
     "name": "stderr",
     "output_type": "stream",
     "text": [
      " 69% (139 of 200) |###############       | Elapsed Time: 0:01:24 ETA:   0:00:36"
     ]
    },
    {
     "name": "stdout",
     "output_type": "stream",
     "text": [
      " - COST: 1.7547894021602982e-06\n",
      "\n",
      " - CONVERGENCE TEST - \n",
      " - CHANGE IN COST: 3.580094964660584e-05\n",
      "\n",
      " - ITERATION: 141\n",
      " - DATA FIDELITY (X): 1.7509280430250936e-06\n",
      " - G (X): 4.023846354809774e-10\n",
      " - F2 (X): 3.331708306557621e-09\n"
     ]
    },
    {
     "name": "stderr",
     "output_type": "stream",
     "text": [
      " 70% (140 of 200) |###############       | Elapsed Time: 0:01:25 ETA:   0:00:35"
     ]
    },
    {
     "name": "stdout",
     "output_type": "stream",
     "text": [
      " - COST: 1.7546621359671321e-06\n",
      "\n",
      " - ITERATION: 142\n",
      " - DATA FIDELITY (X): 1.7509288887135918e-06\n",
      " - G (X): 3.3469025217963647e-09\n",
      " - F2 (X): 3.3316791415748072e-09\n"
     ]
    },
    {
     "name": "stderr",
     "output_type": "stream",
     "text": [
      " 70% (141 of 200) |###############       | Elapsed Time: 0:01:25 ETA:   0:00:35"
     ]
    },
    {
     "name": "stdout",
     "output_type": "stream",
     "text": [
      " - COST: 1.757607470376963e-06\n",
      "\n",
      " - ITERATION: 143\n",
      " - DATA FIDELITY (X): 1.7509297221068054e-06\n",
      " - G (X): 3.0326160871374724e-09\n",
      " - F2 (X): 3.3314008683594137e-09\n"
     ]
    },
    {
     "name": "stderr",
     "output_type": "stream",
     "text": [
      " 71% (142 of 200) |###############       | Elapsed Time: 0:01:26 ETA:   0:00:34"
     ]
    },
    {
     "name": "stdout",
     "output_type": "stream",
     "text": [
      " - COST: 1.7572937390623022e-06\n",
      "\n",
      " - ITERATION: 144\n",
      " - DATA FIDELITY (X): 1.7509304244070485e-06\n",
      " - G (X): 5.185075413731699e-10\n",
      " - F2 (X): 3.331392126253765e-09\n"
     ]
    },
    {
     "name": "stderr",
     "output_type": "stream",
     "text": [
      " 71% (143 of 200) |###############       | Elapsed Time: 0:01:27 ETA:   0:00:34"
     ]
    },
    {
     "name": "stdout",
     "output_type": "stream",
     "text": [
      " - COST: 1.7547803240746756e-06\n",
      "\n",
      " - CONVERGENCE TEST - \n",
      " - CHANGE IN COST: 5.5677415567578114e-05\n",
      "\n",
      " - ITERATION: 145\n",
      " - DATA FIDELITY (X): 1.7509310736366456e-06\n",
      " - G (X): 1.72125589103188e-09\n",
      " - F2 (X): 3.3308895406788637e-09\n"
     ]
    },
    {
     "name": "stderr",
     "output_type": "stream",
     "text": [
      " 72% (144 of 200) |###############       | Elapsed Time: 0:01:27 ETA:   0:00:33"
     ]
    },
    {
     "name": "stdout",
     "output_type": "stream",
     "text": [
      " - COST: 1.7559832190683564e-06\n",
      "\n",
      " - ITERATION: 146\n",
      " - DATA FIDELITY (X): 1.7509316958429739e-06\n",
      " - G (X): 5.114060238628337e-10\n",
      " - F2 (X): 3.330373065577406e-09\n"
     ]
    },
    {
     "name": "stderr",
     "output_type": "stream",
     "text": [
      " 72% (145 of 200) |###############       | Elapsed Time: 0:01:28 ETA:   0:00:32"
     ]
    },
    {
     "name": "stdout",
     "output_type": "stream",
     "text": [
      " - COST: 1.7547734749324141e-06\n",
      "\n",
      " - ITERATION: 147\n",
      " - DATA FIDELITY (X): 1.7509322118136428e-06\n",
      " - G (X): 3.725696170756978e-09\n",
      " - F2 (X): 3.330568260068991e-09\n"
     ]
    },
    {
     "name": "stderr",
     "output_type": "stream",
     "text": [
      " 73% (146 of 200) |################      | Elapsed Time: 0:01:28 ETA:   0:00:32"
     ]
    },
    {
     "name": "stdout",
     "output_type": "stream",
     "text": [
      " - COST: 1.7579884762444688e-06\n",
      "\n",
      " - ITERATION: 148\n",
      " - DATA FIDELITY (X): 1.7509327267775489e-06\n",
      " - G (X): 4.521027690151563e-10\n",
      " - F2 (X): 3.3301905888035763e-09\n"
     ]
    },
    {
     "name": "stderr",
     "output_type": "stream",
     "text": [
      " 73% (147 of 200) |################      | Elapsed Time: 0:01:29 ETA:   0:00:29"
     ]
    },
    {
     "name": "stdout",
     "output_type": "stream",
     "text": [
      " - COST: 1.7547150201353677e-06\n",
      "\n",
      " - CONVERGENCE TEST - \n",
      " - CHANGE IN COST: 0.0005542176790817454\n",
      "\n",
      " - ITERATION: 149\n",
      " - DATA FIDELITY (X): 1.750933161462464e-06\n"
     ]
    },
    {
     "name": "stderr",
     "output_type": "stream",
     "text": [
      "\r",
      "                                                                               \r",
      "\r",
      " 73% (147 of 200) |################      | Elapsed Time: 0:01:29 ETA:   0:00:31"
     ]
    },
    {
     "name": "stdout",
     "output_type": "stream",
     "text": [
      " - G (X): 4.1151657088286886e-10\n",
      " - F2 (X): 3.3303237139458537e-09\n"
     ]
    },
    {
     "name": "stderr",
     "output_type": "stream",
     "text": [
      " 74% (148 of 200) |################      | Elapsed Time: 0:01:30 ETA:   0:00:34"
     ]
    },
    {
     "name": "stdout",
     "output_type": "stream",
     "text": [
      " - COST: 1.7546750017472929e-06\n",
      "\n",
      " - ITERATION: 150\n",
      " - DATA FIDELITY (X): 1.7509335538824748e-06\n",
      " - G (X): 3.72543359638834e-09\n",
      " - F2 (X): 3.3308097141200565e-09\n"
     ]
    },
    {
     "name": "stderr",
     "output_type": "stream",
     "text": [
      " 74% (149 of 200) |################      | Elapsed Time: 0:01:30 ETA:   0:00:34"
     ]
    },
    {
     "name": "stdout",
     "output_type": "stream",
     "text": [
      " - COST: 1.7579897971929832e-06\n",
      "\n",
      " - ITERATION: 151\n",
      " - DATA FIDELITY (X): 1.7509339132011419e-06\n",
      " - G (X): 1.1788345432446326e-09\n",
      " - F2 (X): 3.3308674156265937e-09\n"
     ]
    },
    {
     "name": "stderr",
     "output_type": "stream",
     "text": [
      " 75% (150 of 200) |################      | Elapsed Time: 0:01:31 ETA:   0:00:29"
     ]
    },
    {
     "name": "stdout",
     "output_type": "stream",
     "text": [
      " - COST: 1.755443615160013e-06\n",
      "\n",
      " - ITERATION: 152\n",
      " - DATA FIDELITY (X): 1.7509342618031805e-06\n"
     ]
    },
    {
     "name": "stderr",
     "output_type": "stream",
     "text": [
      "\r",
      "                                                                               \r",
      "\r",
      " 75% (150 of 200) |################      | Elapsed Time: 0:01:31 ETA:   0:00:34"
     ]
    },
    {
     "name": "stdout",
     "output_type": "stream",
     "text": [
      " - G (X): 4.0248698575894254e-10\n",
      " - F2 (X): 3.3309926795515145e-09\n"
     ]
    },
    {
     "name": "stderr",
     "output_type": "stream",
     "text": [
      " 75% (151 of 200) |################      | Elapsed Time: 0:01:31 ETA:   0:00:34"
     ]
    },
    {
     "name": "stdout",
     "output_type": "stream",
     "text": [
      " - COST: 1.7546677414684908e-06\n",
      "\n",
      " - CONVERGENCE TEST - \n",
      " - CHANGE IN COST: 0.0007274533632529356\n",
      "\n",
      " - ITERATION: 153\n",
      " - DATA FIDELITY (X): 1.7509345500723262e-06\n",
      " - G (X): 5.879153051435254e-10\n",
      " - F2 (X): 3.3309013604827778e-09\n"
     ]
    },
    {
     "name": "stderr",
     "output_type": "stream",
     "text": [
      " 76% (152 of 200) |################      | Elapsed Time: 0:01:32 ETA:   0:00:33"
     ]
    },
    {
     "name": "stdout",
     "output_type": "stream",
     "text": [
      " - COST: 1.7548533667379526e-06\n",
      "\n",
      " - ITERATION: 154\n",
      " - DATA FIDELITY (X): 1.7509348454541076e-06\n",
      " - G (X): 1.7347861476656653e-09\n",
      " - F2 (X): 3.3308450686754457e-09\n"
     ]
    },
    {
     "name": "stderr",
     "output_type": "stream",
     "text": [
      " 76% (153 of 200) |################      | Elapsed Time: 0:01:33 ETA:   0:00:31"
     ]
    },
    {
     "name": "stdout",
     "output_type": "stream",
     "text": [
      " - COST: 1.7560004766704488e-06\n",
      "\n",
      " - ITERATION: 155\n",
      " - DATA FIDELITY (X): 1.7509351131413525e-06\n",
      " - G (X): 4.428659451111322e-10\n"
     ]
    },
    {
     "name": "stderr",
     "output_type": "stream",
     "text": [
      " 77% (155 of 200) |#################     | Elapsed Time: 0:01:33 ETA:   0:00:27"
     ]
    },
    {
     "name": "stdout",
     "output_type": "stream",
     "text": [
      " - F2 (X): 3.3309138741673236e-09\n",
      " - COST: 1.7547088929606308e-06\n",
      "\n",
      " - ITERATION: 156\n",
      " - DATA FIDELITY (X): 1.7509353369479818e-06\n",
      " - G (X): 7.72465828034124e-10\n",
      " - F2 (X): 3.3310253395112853e-09\n",
      " - COST: 1.7550388281155272e-06\n",
      "\n",
      " - CONVERGENCE TEST - \n",
      " - CHANGE IN COST: 0.000315157219306998\n",
      "\n"
     ]
    },
    {
     "name": "stderr",
     "output_type": "stream",
     "text": [
      " 77% (155 of 200) |#################     | Elapsed Time: 0:01:34 ETA:   0:00:30"
     ]
    },
    {
     "name": "stdout",
     "output_type": "stream",
     "text": [
      " - ITERATION: 157\n",
      " - DATA FIDELITY (X): 1.7509355276412586e-06\n",
      " - G (X): 6.955915365311322e-10\n",
      " - F2 (X): 3.3313347768743187e-09\n"
     ]
    },
    {
     "name": "stderr",
     "output_type": "stream",
     "text": [
      " 78% (156 of 200) |#################     | Elapsed Time: 0:01:35 ETA:   0:00:29"
     ]
    },
    {
     "name": "stdout",
     "output_type": "stream",
     "text": [
      " - COST: 1.754962453954664e-06\n",
      "\n",
      " - ITERATION: 158\n",
      " - DATA FIDELITY (X): 1.750935722676674e-06\n",
      " - G (X): 4.22238606641378e-10\n",
      " - F2 (X): 3.3313484779421044e-09\n"
     ]
    },
    {
     "name": "stderr",
     "output_type": "stream",
     "text": [
      " 78% (157 of 200) |#################     | Elapsed Time: 0:01:35 ETA:   0:00:29"
     ]
    },
    {
     "name": "stdout",
     "output_type": "stream",
     "text": [
      " - COST: 1.7546893097612575e-06\n",
      "\n",
      " - ITERATION: 159\n",
      " - DATA FIDELITY (X): 1.7509358772261625e-06\n",
      " - G (X): 4.037684895604864e-10\n",
      " - F2 (X): 3.3314485542153456e-09\n"
     ]
    },
    {
     "name": "stderr",
     "output_type": "stream",
     "text": [
      " 79% (158 of 200) |#################     | Elapsed Time: 0:01:36 ETA:   0:00:28"
     ]
    },
    {
     "name": "stdout",
     "output_type": "stream",
     "text": [
      " - COST: 1.7546710942699383e-06\n",
      "\n",
      " - ITERATION: 160\n",
      " - DATA FIDELITY (X): 1.7509360629906565e-06\n",
      " - G (X): 4.998203331860761e-10\n",
      " - F2 (X): 3.33081711727359e-09\n"
     ]
    },
    {
     "name": "stderr",
     "output_type": "stream",
     "text": [
      " 79% (159 of 200) |#################     | Elapsed Time: 0:01:36 ETA:   0:00:24"
     ]
    },
    {
     "name": "stdout",
     "output_type": "stream",
     "text": [
      " - COST: 1.7547667004411162e-06\n",
      "\n",
      " - CONVERGENCE TEST - \n",
      " - CHANGE IN COST: 6.0969596095904406e-05\n",
      "\n",
      " - ITERATION: 161\n",
      " - DATA FIDELITY (X): 1.7509362401222764e-06\n",
      " - G (X): 7.956348414715689e-10\n",
      " - F2 (X): 3.3303910139923226e-09\n"
     ]
    },
    {
     "name": "stderr",
     "output_type": "stream",
     "text": [
      " 80% (160 of 200) |#################     | Elapsed Time: 0:01:37 ETA:   0:00:24"
     ]
    },
    {
     "name": "stdout",
     "output_type": "stream",
     "text": [
      " - COST: 1.7550622659777405e-06\n",
      "\n",
      " - ITERATION: 162\n",
      " - DATA FIDELITY (X): 1.7509363501312215e-06\n",
      " - G (X): 4.120700403330112e-10\n",
      " - F2 (X): 3.330661342492629e-09\n"
     ]
    },
    {
     "name": "stderr",
     "output_type": "stream",
     "text": [
      " 80% (161 of 200) |#################     | Elapsed Time: 0:01:38 ETA:   0:00:23"
     ]
    },
    {
     "name": "stdout",
     "output_type": "stream",
     "text": [
      " - COST: 1.754679081514047e-06\n",
      "\n",
      " - ITERATION: 163\n",
      " - DATA FIDELITY (X): 1.7509364813727046e-06\n",
      " - G (X): 4.583725854686223e-10\n",
      " - F2 (X): 3.330715002963621e-09\n"
     ]
    },
    {
     "name": "stderr",
     "output_type": "stream",
     "text": [
      " 81% (162 of 200) |#################     | Elapsed Time: 0:01:38 ETA:   0:00:22"
     ]
    },
    {
     "name": "stdout",
     "output_type": "stream",
     "text": [
      " - COST: 1.7547255689611367e-06\n",
      "\n",
      " - ITERATION: 164\n",
      " - DATA FIDELITY (X): 1.7509366142182826e-06\n",
      " - G (X): 4.5391459617436257e-10\n",
      " - F2 (X): 3.330522986289315e-09\n"
     ]
    },
    {
     "name": "stderr",
     "output_type": "stream",
     "text": [
      " 81% (163 of 200) |#################     | Elapsed Time: 0:01:39 ETA:   0:00:22"
     ]
    },
    {
     "name": "stdout",
     "output_type": "stream",
     "text": [
      " - COST: 1.7547210518007463e-06\n",
      "\n",
      " - CONVERGENCE TEST - \n",
      " - CHANGE IN COST: 8.398096958099621e-05\n",
      "\n",
      " - ITERATION: 165\n",
      " - DATA FIDELITY (X): 1.7509367153072363e-06\n",
      " - G (X): 4.030571494413072e-10\n",
      " - F2 (X): 3.330535191296714e-09\n"
     ]
    },
    {
     "name": "stderr",
     "output_type": "stream",
     "text": [
      " 82% (165 of 200) |##################    | Elapsed Time: 0:01:39 ETA:   0:00:20"
     ]
    },
    {
     "name": "stdout",
     "output_type": "stream",
     "text": [
      " - COST: 1.7546703076479744e-06\n",
      "\n",
      " - ITERATION: 166\n",
      " - DATA FIDELITY (X): 1.7509367876818986e-06\n",
      " - G (X): 4.458497268645099e-10\n",
      " - F2 (X): 3.3304766710004267e-09\n",
      " - COST: 1.7547131140797637e-06\n",
      "\n"
     ]
    },
    {
     "name": "stderr",
     "output_type": "stream",
     "text": [
      " 82% (165 of 200) |##################    | Elapsed Time: 0:01:40 ETA:   0:00:19"
     ]
    },
    {
     "name": "stdout",
     "output_type": "stream",
     "text": [
      " - ITERATION: 167\n",
      " - DATA FIDELITY (X): 1.7509368870566569e-06\n"
     ]
    },
    {
     "name": "stderr",
     "output_type": "stream",
     "text": [
      "\r",
      "                                                                               \r",
      "\r",
      " 82% (165 of 200) |##################    | Elapsed Time: 0:01:40 ETA:   0:00:23"
     ]
    },
    {
     "name": "stdout",
     "output_type": "stream",
     "text": [
      " - G (X): 5.499373627742685e-10\n",
      " - F2 (X): 3.3303955565097657e-09\n"
     ]
    },
    {
     "name": "stderr",
     "output_type": "stream",
     "text": [
      " 83% (166 of 200) |##################    | Elapsed Time: 0:01:41 ETA:   0:00:22"
     ]
    },
    {
     "name": "stdout",
     "output_type": "stream",
     "text": [
      " - COST: 1.754817219975941e-06\n",
      "\n",
      " - ITERATION: 168\n",
      " - DATA FIDELITY (X): 1.7509369608909288e-06\n",
      " - G (X): 8.77978347167414e-10\n",
      " - F2 (X): 3.330298535883306e-09\n"
     ]
    },
    {
     "name": "stderr",
     "output_type": "stream",
     "text": [
      " 83% (167 of 200) |##################    | Elapsed Time: 0:01:41 ETA:   0:00:22"
     ]
    },
    {
     "name": "stdout",
     "output_type": "stream",
     "text": [
      " - COST: 1.7551452377739796e-06\n",
      "\n",
      " - CONVERGENCE TEST - \n",
      " - CHANGE IN COST: 0.0001649692921654564\n",
      "\n",
      " - ITERATION: 169\n",
      " - DATA FIDELITY (X): 1.750936997530382e-06\n",
      " - G (X): 1.4689899212487809e-09\n",
      " - F2 (X): 3.3304576545441466e-09\n"
     ]
    },
    {
     "name": "stderr",
     "output_type": "stream",
     "text": [
      " 84% (168 of 200) |##################    | Elapsed Time: 0:01:42 ETA:   0:00:20"
     ]
    },
    {
     "name": "stdout",
     "output_type": "stream",
     "text": [
      " - COST: 1.755736445106175e-06\n",
      "\n",
      " - ITERATION: 170\n",
      " - DATA FIDELITY (X): 1.750937079655173e-06\n",
      " - G (X): 4.341699153027491e-10\n",
      " - F2 (X): 3.3301087803030713e-09\n"
     ]
    },
    {
     "name": "stderr",
     "output_type": "stream",
     "text": [
      " 85% (170 of 200) |##################    | Elapsed Time: 0:01:42 ETA:   0:00:17"
     ]
    },
    {
     "name": "stdout",
     "output_type": "stream",
     "text": [
      " - COST: 1.7547013583507787e-06\n",
      "\n",
      " - ITERATION: 171\n",
      " - DATA FIDELITY (X): 1.7509371473012814e-06\n",
      " - G (X): 3.60922545325808e-09\n",
      " - F2 (X): 3.330092094566777e-09\n",
      " - COST: 1.7578764648491062e-06\n",
      "\n"
     ]
    },
    {
     "name": "stderr",
     "output_type": "stream",
     "text": [
      " 85% (170 of 200) |##################    | Elapsed Time: 0:01:43 ETA:   0:00:18"
     ]
    },
    {
     "name": "stdout",
     "output_type": "stream",
     "text": [
      " - ITERATION: 172\n",
      " - DATA FIDELITY (X): 1.7509371892677153e-06\n",
      " - G (X): 4.25407796697259e-10\n",
      " - F2 (X): 3.3298532660171005e-09\n"
     ]
    },
    {
     "name": "stderr",
     "output_type": "stream",
     "text": [
      " 85% (171 of 200) |##################    | Elapsed Time: 0:01:44 ETA:   0:00:17"
     ]
    },
    {
     "name": "stdout",
     "output_type": "stream",
     "text": [
      " - COST: 1.7546924503304297e-06\n",
      "\n",
      " - CONVERGENCE TEST - \n",
      " - CHANGE IN COST: 0.000606710294956052\n",
      "\n",
      " - ITERATION: 173\n",
      " - DATA FIDELITY (X): 1.7509372139290423e-06\n",
      " - G (X): 2.81669289005232e-09\n"
     ]
    },
    {
     "name": "stderr",
     "output_type": "stream",
     "text": [
      " 86% (172 of 200) |##################    | Elapsed Time: 0:01:44 ETA:   0:00:17"
     ]
    },
    {
     "name": "stdout",
     "output_type": "stream",
     "text": [
      " - F2 (X): 3.330219339705605e-09\n",
      " - COST: 1.7570841261588001e-06\n",
      "\n",
      " - ITERATION: 174\n",
      " - DATA FIDELITY (X): 1.750937269069879e-06\n",
      " - G (X): 4.361631348261558e-10\n",
      " - F2 (X): 3.330065353222925e-09\n"
     ]
    },
    {
     "name": "stderr",
     "output_type": "stream",
     "text": [
      " 86% (173 of 200) |###################   | Elapsed Time: 0:01:45 ETA:   0:00:18"
     ]
    },
    {
     "name": "stdout",
     "output_type": "stream",
     "text": [
      " - COST: 1.7547034975579279e-06\n",
      "\n",
      " - ITERATION: 175\n",
      " - DATA FIDELITY (X): 1.7509373001223008e-06\n",
      " - G (X): 6.0569075095879766e-09\n",
      " - F2 (X): 3.3302821554761297e-09\n"
     ]
    },
    {
     "name": "stderr",
     "output_type": "stream",
     "text": [
      " 87% (174 of 200) |###################   | Elapsed Time: 0:01:45 ETA:   0:00:15"
     ]
    },
    {
     "name": "stdout",
     "output_type": "stream",
     "text": [
      " - COST: 1.7603244897873649e-06\n",
      "\n",
      " - ITERATION: 176\n",
      " - DATA FIDELITY (X): 1.7509373340464824e-06\n",
      " - G (X): 7.208340422849444e-10\n",
      " - F2 (X): 3.330277718920772e-09\n"
     ]
    },
    {
     "name": "stderr",
     "output_type": "stream",
     "text": [
      " 87% (175 of 200) |###################   | Elapsed Time: 0:01:46 ETA:   0:00:15"
     ]
    },
    {
     "name": "stdout",
     "output_type": "stream",
     "text": [
      " - COST: 1.754988445807688e-06\n",
      "\n",
      " - CONVERGENCE TEST - \n",
      " - CHANGE IN COST: 0.0010028443961926279\n",
      "\n",
      " - ITERATION: 177\n",
      " - DATA FIDELITY (X): 1.7509373830141654e-06\n",
      " - G (X): 4.0375322259226555e-10\n",
      " - F2 (X): 3.329900097049498e-09\n"
     ]
    },
    {
     "name": "stderr",
     "output_type": "stream",
     "text": [
      " 88% (176 of 200) |###################   | Elapsed Time: 0:01:47 ETA:   0:00:14"
     ]
    },
    {
     "name": "stdout",
     "output_type": "stream",
     "text": [
      " - COST: 1.754671036333807e-06\n",
      "\n",
      " - ITERATION: 178\n",
      " - DATA FIDELITY (X): 1.7509373995260785e-06\n",
      " - G (X): 1.3879826019216034e-09\n",
      " - F2 (X): 3.3298841240610976e-09\n"
     ]
    },
    {
     "name": "stderr",
     "output_type": "stream",
     "text": [
      " 88% (177 of 200) |###################   | Elapsed Time: 0:01:47 ETA:   0:00:13"
     ]
    },
    {
     "name": "stdout",
     "output_type": "stream",
     "text": [
      " - COST: 1.7556552662520612e-06\n",
      "\n",
      " - ITERATION: 179\n",
      " - DATA FIDELITY (X): 1.7509374284302983e-06\n"
     ]
    },
    {
     "name": "stderr",
     "output_type": "stream",
     "text": [
      "\r",
      "                                                                               \r",
      "\r",
      " 88% (177 of 200) |###################   | Elapsed Time: 0:01:47 ETA:   0:00:15"
     ]
    },
    {
     "name": "stdout",
     "output_type": "stream",
     "text": [
      " - G (X): 4.5482245654162965e-10\n",
      " - F2 (X): 3.3295336464597188e-09\n"
     ]
    },
    {
     "name": "stderr",
     "output_type": "stream",
     "text": [
      " 89% (178 of 200) |###################   | Elapsed Time: 0:01:48 ETA:   0:00:14"
     ]
    },
    {
     "name": "stdout",
     "output_type": "stream",
     "text": [
      " - COST: 1.7547217845332997e-06\n",
      "\n",
      " - ITERATION: 180\n",
      " - DATA FIDELITY (X): 1.7509374923045734e-06\n",
      " - G (X): 1.1260347916344133e-09\n",
      " - F2 (X): 3.3293507881814896e-09\n"
     ]
    },
    {
     "name": "stderr",
     "output_type": "stream",
     "text": [
      " 89% (179 of 200) |###################   | Elapsed Time: 0:01:49 ETA:   0:00:14"
     ]
    },
    {
     "name": "stdout",
     "output_type": "stream",
     "text": [
      " - COST: 1.7553928778843893e-06\n",
      "\n",
      " - CONVERGENCE TEST - \n",
      " - CHANGE IN COST: 6.0294374552811064e-05\n",
      "\n",
      " - ITERATION: 181\n",
      " - DATA FIDELITY (X): 1.750937521402079e-06\n",
      " - G (X): 4.082792355504166e-10\n",
      " - F2 (X): 3.3294157885539253e-09\n"
     ]
    },
    {
     "name": "stderr",
     "output_type": "stream",
     "text": [
      " 90% (180 of 200) |###################   | Elapsed Time: 0:01:49 ETA:   0:00:13"
     ]
    },
    {
     "name": "stdout",
     "output_type": "stream",
     "text": [
      " - COST: 1.7546752164261834e-06\n",
      "\n",
      " - ITERATION: 182\n",
      " - DATA FIDELITY (X): 1.7509375470320034e-06\n",
      " - G (X): 4.0384609990645125e-10\n",
      " - F2 (X): 3.329372397628126e-09\n"
     ]
    },
    {
     "name": "stderr",
     "output_type": "stream",
     "text": [
      " 90% (181 of 200) |###################   | Elapsed Time: 0:01:50 ETA:   0:00:12"
     ]
    },
    {
     "name": "stdout",
     "output_type": "stream",
     "text": [
      " - COST: 1.754670765529538e-06\n",
      "\n",
      " - ITERATION: 183\n",
      " - DATA FIDELITY (X): 1.7509375518434049e-06\n",
      " - G (X): 4.849970932282465e-10\n",
      " - F2 (X): 3.3294575666462677e-09\n"
     ]
    },
    {
     "name": "stderr",
     "output_type": "stream",
     "text": [
      " 91% (182 of 200) |####################  | Elapsed Time: 0:01:50 ETA:   0:00:12"
     ]
    },
    {
     "name": "stdout",
     "output_type": "stream",
     "text": [
      " - COST: 1.7547520065032793e-06\n",
      "\n",
      " - ITERATION: 184\n",
      " - DATA FIDELITY (X): 1.7509375937068042e-06\n",
      " - G (X): 4.0231462295645857e-10\n",
      " - F2 (X): 3.3292021229894084e-09\n"
     ]
    },
    {
     "name": "stderr",
     "output_type": "stream",
     "text": [
      " 91% (183 of 200) |####################  | Elapsed Time: 0:01:51 ETA:   0:00:11"
     ]
    },
    {
     "name": "stdout",
     "output_type": "stream",
     "text": [
      " - COST: 1.7546691104527502e-06\n",
      "\n",
      " - CONVERGENCE TEST - \n",
      " - CHANGE IN COST: 2.140951393539982e-05\n",
      "\n",
      " - ITERATION: 185\n",
      " - DATA FIDELITY (X): 1.7509375927647787e-06\n",
      " - G (X): 1.0116547190462976e-09\n",
      " - F2 (X): 3.329296140612638e-09\n"
     ]
    },
    {
     "name": "stderr",
     "output_type": "stream",
     "text": [
      " 92% (184 of 200) |####################  | Elapsed Time: 0:01:52 ETA:   0:00:09"
     ]
    },
    {
     "name": "stdout",
     "output_type": "stream",
     "text": [
      " - COST: 1.7552785436244375e-06\n",
      "\n",
      " - ITERATION: 186\n",
      " - DATA FIDELITY (X): 1.7509376085139397e-06\n",
      " - G (X): 4.409479836669413e-10\n",
      " - F2 (X): 3.329614276255419e-09\n"
     ]
    },
    {
     "name": "stderr",
     "output_type": "stream",
     "text": [
      " 92% (185 of 200) |####################  | Elapsed Time: 0:01:52 ETA:   0:00:08"
     ]
    },
    {
     "name": "stdout",
     "output_type": "stream",
     "text": [
      " - COST: 1.7547081707738621e-06\n",
      "\n",
      " - ITERATION: 187\n",
      " - DATA FIDELITY (X): 1.7509376201755056e-06\n",
      " - G (X): 5.530866110122e-10\n",
      " - F2 (X): 3.329100618063949e-09\n"
     ]
    },
    {
     "name": "stderr",
     "output_type": "stream",
     "text": [
      " 93% (186 of 200) |####################  | Elapsed Time: 0:01:53 ETA:   0:00:08"
     ]
    },
    {
     "name": "stdout",
     "output_type": "stream",
     "text": [
      " - COST: 1.7548198074045818e-06\n",
      "\n",
      " - ITERATION: 188\n",
      " - DATA FIDELITY (X): 1.7509376328984171e-06\n",
      " - G (X): 3.011351312857382e-09\n",
      " - F2 (X): 3.329175453572426e-09\n"
     ]
    },
    {
     "name": "stderr",
     "output_type": "stream",
     "text": [
      " 93% (187 of 200) |####################  | Elapsed Time: 0:01:53 ETA:   0:00:07"
     ]
    },
    {
     "name": "stdout",
     "output_type": "stream",
     "text": [
      " - COST: 1.757278159664847e-06\n",
      "\n",
      " - CONVERGENCE TEST - \n",
      " - CHANGE IN COST: 0.0006011371809455955\n",
      "\n",
      " - ITERATION: 189\n",
      " - DATA FIDELITY (X): 1.7509376258200734e-06\n",
      " - G (X): 4.214982047302608e-10\n",
      " - F2 (X): 3.3295055555449985e-09\n"
     ]
    },
    {
     "name": "stderr",
     "output_type": "stream",
     "text": [
      " 94% (188 of 200) |####################  | Elapsed Time: 0:01:54 ETA:   0:00:06"
     ]
    },
    {
     "name": "stdout",
     "output_type": "stream",
     "text": [
      " - COST: 1.7546886295803487e-06\n",
      "\n",
      " - ITERATION: 190\n",
      " - DATA FIDELITY (X): 1.7509376336404233e-06\n",
      " - G (X): 4.0330692950939546e-10\n",
      " - F2 (X): 3.329484338954442e-09\n"
     ]
    },
    {
     "name": "stderr",
     "output_type": "stream",
     "text": [
      " 94% (189 of 200) |####################  | Elapsed Time: 0:01:55 ETA:   0:00:06"
     ]
    },
    {
     "name": "stdout",
     "output_type": "stream",
     "text": [
      " - COST: 1.754670424908887e-06\n",
      "\n",
      " - ITERATION: 191\n",
      " - DATA FIDELITY (X): 1.7509376207714267e-06\n",
      " - G (X): 4.056811320575109e-10\n",
      " - F2 (X): 3.3297820263695173e-09\n"
     ]
    },
    {
     "name": "stderr",
     "output_type": "stream",
     "text": [
      " 95% (190 of 200) |####################  | Elapsed Time: 0:01:55 ETA:   0:00:05"
     ]
    },
    {
     "name": "stdout",
     "output_type": "stream",
     "text": [
      " - COST: 1.7546730839298537e-06\n",
      "\n",
      " - ITERATION: 192\n",
      " - DATA FIDELITY (X): 1.7509376322785412e-06\n",
      " - G (X): 1.0905293285281318e-09\n",
      " - F2 (X): 3.3295951829740834e-09\n"
     ]
    },
    {
     "name": "stderr",
     "output_type": "stream",
     "text": [
      " 95% (191 of 200) |##################### | Elapsed Time: 0:01:56 ETA:   0:00:05"
     ]
    },
    {
     "name": "stdout",
     "output_type": "stream",
     "text": [
      " - COST: 1.7553577567900435e-06\n",
      "\n",
      " - CONVERGENCE TEST - \n",
      " - CHANGE IN COST: 0.0001913904068499477\n",
      "\n",
      " - ITERATION: 193\n",
      " - DATA FIDELITY (X): 1.7509376511150583e-06\n",
      " - G (X): 4.3626153127243275e-10\n",
      " - F2 (X): 3.3296016267836713e-09\n"
     ]
    },
    {
     "name": "stderr",
     "output_type": "stream",
     "text": [
      " 96% (192 of 200) |##################### | Elapsed Time: 0:01:56 ETA:   0:00:04"
     ]
    },
    {
     "name": "stdout",
     "output_type": "stream",
     "text": [
      " - COST: 1.7547035142731143e-06\n",
      "\n",
      " - ITERATION: 194\n",
      " - DATA FIDELITY (X): 1.750937664007498e-06\n",
      " - G (X): 6.660488653543116e-10\n",
      " - F2 (X): 3.329471821332132e-09\n"
     ]
    },
    {
     "name": "stderr",
     "output_type": "stream",
     "text": [
      " 96% (193 of 200) |##################### | Elapsed Time: 0:01:57 ETA:   0:00:04"
     ]
    },
    {
     "name": "stdout",
     "output_type": "stream",
     "text": [
      " - COST: 1.7549331846941846e-06\n",
      "\n",
      " - ITERATION: 195\n",
      " - DATA FIDELITY (X): 1.7509377283375269e-06\n",
      " - G (X): 4.058812485698386e-10\n",
      " - F2 (X): 3.3291547204600635e-09\n"
     ]
    },
    {
     "name": "stderr",
     "output_type": "stream",
     "text": [
      " 97% (194 of 200) |##################### | Elapsed Time: 0:01:57 ETA:   0:00:03"
     ]
    },
    {
     "name": "stdout",
     "output_type": "stream",
     "text": [
      " - COST: 1.7546727643065567e-06\n",
      "\n",
      " - ITERATION: 196\n",
      " - DATA FIDELITY (X): 1.7509377368603023e-06\n",
      " - G (X): 9.40917959783838e-10\n",
      " - F2 (X): 3.3293782739908667e-09\n"
     ]
    },
    {
     "name": "stderr",
     "output_type": "stream",
     "text": [
      " 97% (195 of 200) |##################### | Elapsed Time: 0:01:58 ETA:   0:00:02"
     ]
    },
    {
     "name": "stdout",
     "output_type": "stream",
     "text": [
      " - COST: 1.755208033094077e-06\n",
      "\n",
      " - CONVERGENCE TEST - \n",
      " - CHANGE IN COST: 6.954607504485937e-05\n",
      "\n",
      " - ITERATION: 197\n",
      " - DATA FIDELITY (X): 1.7509377845313028e-06\n",
      " - G (X): 1.2245527362619136e-09\n",
      " - F2 (X): 3.328951966942271e-09\n"
     ]
    },
    {
     "name": "stderr",
     "output_type": "stream",
     "text": [
      " 98% (196 of 200) |##################### | Elapsed Time: 0:01:59 ETA:   0:00:02"
     ]
    },
    {
     "name": "stdout",
     "output_type": "stream",
     "text": [
      " - COST: 1.755491289234507e-06\n",
      "\n",
      " - ITERATION: 198\n",
      " - DATA FIDELITY (X): 1.7509378137395314e-06\n",
      " - G (X): 4.4695090912777854e-10\n",
      " - F2 (X): 3.328905097475041e-09\n"
     ]
    },
    {
     "name": "stderr",
     "output_type": "stream",
     "text": [
      " 98% (197 of 200) |##################### | Elapsed Time: 0:01:59 ETA:   0:00:01"
     ]
    },
    {
     "name": "stdout",
     "output_type": "stream",
     "text": [
      " - COST: 1.7547136697461342e-06\n",
      "\n",
      " - ITERATION: 199\n",
      " - DATA FIDELITY (X): 1.7509378425536206e-06\n",
      " - G (X): 5.653808626578567e-10\n",
      " - F2 (X): 3.3285503388904103e-09\n"
     ]
    },
    {
     "name": "stderr",
     "output_type": "stream",
     "text": [
      " 99% (198 of 200) |##################### | Elapsed Time: 0:02:00 ETA:   0:00:01"
     ]
    },
    {
     "name": "stdout",
     "output_type": "stream",
     "text": [
      " - COST: 1.7548317737551687e-06\n",
      "\n",
      " - ITERATION: 200\n",
      " - DATA FIDELITY (X): 1.7509378487949477e-06\n"
     ]
    },
    {
     "name": "stderr",
     "output_type": "stream",
     "text": [
      "100% (200 of 200) |######################| Elapsed Time: 0:02:00 Time:  0:02:00\n"
     ]
    },
    {
     "name": "stdout",
     "output_type": "stream",
     "text": [
      " - G (X): 4.481546679946695e-10\n",
      " - F2 (X): 3.3287173437118065e-09\n",
      " - COST: 1.7547147208066544e-06\n",
      "\n",
      " - CONVERGENCE TEST - \n",
      " - CHANGE IN COST: 0.0001876209418620504\n",
      "\n"
     ]
    }
   ],
   "source": [
    "opt.iterate(max_iter = 200)"
   ]
  },
  {
   "cell_type": "code",
   "execution_count": 182,
   "metadata": {},
   "outputs": [
    {
     "name": "stdout",
     "output_type": "stream",
     "text": [
      "0.8321406674293936\n"
     ]
    }
   ],
   "source": [
    "uk = opt.x_final\n",
    "print(ssim(uk,u0_mat))\n",
    "pysap.Image(data = np.abs(uk)).show()"
   ]
  },
  {
   "cell_type": "code",
   "execution_count": 183,
   "metadata": {},
   "outputs": [
    {
     "name": "stdout",
     "output_type": "stream",
     "text": [
      "4.481546679946695e-10 3.3287173437118065e-09\n"
     ]
    }
   ],
   "source": [
    "print(regularizer_G.cost(uk),regularizer_F2.cost(uk))"
   ]
  }
 ],
 "metadata": {
  "kernelspec": {
   "display_name": "Python 3",
   "language": "python",
   "name": "python3"
  },
  "language_info": {
   "codemirror_mode": {
    "name": "ipython",
    "version": 3
   },
   "file_extension": ".py",
   "mimetype": "text/x-python",
   "name": "python",
   "nbconvert_exporter": "python",
   "pygments_lexer": "ipython3",
   "version": "3.7.3"
  }
 },
 "nbformat": 4,
 "nbformat_minor": 2
}
