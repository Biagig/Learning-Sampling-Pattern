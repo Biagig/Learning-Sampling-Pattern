{
 "cells": [
  {
   "cell_type": "code",
   "execution_count": 1,
   "metadata": {
    "scrolled": true
   },
   "outputs": [
    {
     "name": "stderr",
     "output_type": "stream",
     "text": [
      "/home/guillaume/temp/pysap-mri/mri/operators/fourier/cartesian.py:33: UserWarning: pynufft python package has not been found. If needed use the master release. Till then you cannot use NUFFT on GPU\n",
      "  warnings.warn(\"pynufft python package has not been found. If needed use \"\n",
      "/home/guillaume/temp/pysap-mri/mri/operators/fourier/non_cartesian.py:33: UserWarning: pynufft python package has not been found. If needed use the master release. Till then you cannot use NUFFT on GPU\n",
      "  warnings.warn(\"pynufft python package has not been found. If needed use \"\n"
     ]
    },
    {
     "name": "stdout",
     "output_type": "stream",
     "text": [
      "\n",
      "                 .|'''|       /.\\      '||'''|,\n",
      "                 ||          // \\\\      ||   ||\n",
      "'||''|, '||  ||` `|'''|,    //...\\\\     ||...|'\n",
      " ||  ||  `|..||   .   ||   //     \\\\    ||\n",
      " ||..|'      ||   |...|' .//       \\\\. .||\n",
      " ||       ,  |'\n",
      ".||        ''\n",
      "\n",
      "Package version: 0.0.3\n",
      "\n",
      "License: CeCILL-B\n",
      "\n",
      "Authors: \n",
      "\n",
      "Antoine Grigis <antoine.grigis@cea.fr>\n",
      "Samuel Farrens <samuel.farrens@cea.fr>\n",
      "Jean-Luc Starck <jl.stark@cea.fr>\n",
      "Philippe Ciuciu <philippe.ciuciu@cea.fr>\n",
      "\n",
      "Dependencies: \n",
      "\n",
      "scipy          : >=1.3.0   - required | 1.3.0     installed\n",
      "numpy          : >=1.16.4  - required | 1.16.4    installed\n",
      "matplotlib     : >=3.0.0   - required | 3.1.1     installed\n",
      "astropy        : >=3.0.0   - required | 3.2.1     installed\n",
      "nibabel        : >=2.3.2   - required | 2.5.1     installed\n",
      "pyqtgraph      : >=0.10.0  - required | 0.10.0    installed\n",
      "progressbar2   : >=3.34.3  - required | ?         installed\n",
      "modopt         : >=1.4.0   - required | 1.4.1     installed\n",
      "scikit-learn   : >=0.19.1  - required | ?         installed\n",
      "pywt           : >=1.0.0   - required | 1.0.3     installed\n",
      "pysparse       : >=0.0.1   - required | 0.1.0     installed\n",
      "\n"
     ]
    }
   ],
   "source": [
    "# Package import\n",
    "from mri.operators import NonCartesianFFT, WaveletUD2, WaveletN , gradient\n",
    "from mri.operators.utils import convert_mask_to_locations, convert_locations_to_mask\n",
    "from mri.reconstructors import SingleChannelReconstructor\n",
    "import pysap\n",
    "from pysap.data import get_sample_data\n",
    "import time"
   ]
  },
  {
   "cell_type": "code",
   "execution_count": 2,
   "metadata": {},
   "outputs": [],
   "source": [
    "# Third party import\n",
    "from modopt.math.metrics import ssim\n",
    "from modopt.opt.linear import Identity\n",
    "from modopt.opt.proximity import SparseThreshold,Ridge,ProximityParent,ProximityCombo\n",
    "\n",
    "import numpy as np\n",
    "import matplotlib.pyplot as plt"
   ]
  },
  {
   "cell_type": "markdown",
   "metadata": {},
   "source": [
    "## Data and operators"
   ]
  },
  {
   "cell_type": "code",
   "execution_count": 3,
   "metadata": {},
   "outputs": [
    {
     "name": "stderr",
     "output_type": "stream",
     "text": [
      "/home/guillaume/temp/pysap-mri/mri/operators/fourier/utils.py:78: FutureWarning: Using a non-tuple sequence for multidimensional indexing is deprecated; use `arr[tuple(seq)]` instead of `arr[seq]`. In the future this will be interpreted as an array index, `arr[np.array(seq)]`, which will result either in an error or a different result.\n",
      "  mask[test] = 1\n"
     ]
    }
   ],
   "source": [
    "u0 = get_sample_data('2d-mri')\n",
    "u0_mat = u0.data\n",
    "\n",
    "n=u0_mat.shape[0]\n",
    "x = np.linspace(0,n,n,endpoint=False)/n-0.5\n",
    "y = np.linspace(0,n,n,endpoint=False)/n-0.5\n",
    "X,Y = np.meshgrid(x,y)\n",
    "kspace_loc = np.stack([X.flatten('F'),Y.flatten('F')],axis=1)\n",
    "\n",
    "m = convert_locations_to_mask(kspace_loc,u0.shape)\n",
    "fourier_op = NonCartesianFFT(samples=kspace_loc, shape=u0.shape,implementation='cpu')\n",
    "\n",
    "# Adding noise\n",
    "(n1,n2) = u0.shape\n",
    "s = 1e-6\n",
    "# Computing y with non-cartesian Fourier transform\n",
    "fourier_op = NonCartesianFFT(samples=kspace_loc, shape=u0.shape,implementation='cpu')\n",
    "y = (1+0j)*fourier_op.op(np.real(u0.data))+s*np.random.randn(2*n*n).view(np.complex128)\n",
    "u0_mat = np.asarray(u0)"
   ]
  },
  {
   "cell_type": "code",
   "execution_count": 4,
   "metadata": {},
   "outputs": [],
   "source": [
    "#Subsampling: From pysap radial mask \n",
    "radial_mask = get_sample_data(\"mri-radial-samples\")\n",
    "radial_kspace_loc = radial_mask.data\n",
    "\n",
    "p = np.zeros((n*n,))\n",
    "\n",
    "ind1 = ((n-1)*(radial_kspace_loc[:,0]+0.5)).astype(int)\n",
    "ind2 = ((n-1)*(radial_kspace_loc[:,1]+0.5)).astype(int)\n",
    "p[n*ind1+ind2]=1\n",
    "\n",
    "new_loc = kspace_loc[np.where(p)]\n",
    "#pysap.Image(data = convert_locations_to_mask(np.array(new_loc),u0.shape)).show()\n",
    "\n",
    "#Wavelet\n",
    "linear_op = WaveletN(wavelet_name=\"db8\",nb_scale=4,padding_mode = \"periodization\")"
   ]
  },
  {
   "cell_type": "code",
   "execution_count": 5,
   "metadata": {},
   "outputs": [
    {
     "name": "stdout",
     "output_type": "stream",
     "text": [
      "0.6689996992454308\n"
     ]
    }
   ],
   "source": [
    "#ifft on noised data = base result\n",
    "uk = fourier_op.adj_op(p*y)\n",
    "print(ssim(uk,u0_mat))\n",
    "pysap.Image(data = np.abs(uk)).show()"
   ]
  },
  {
   "cell_type": "markdown",
   "metadata": {},
   "source": [
    "## CondatVu\n",
    "### Regularizers"
   ]
  },
  {
   "cell_type": "code",
   "execution_count": 6,
   "metadata": {},
   "outputs": [],
   "source": [
    "class RegularizerG(ProximityParent):\n",
    "    r\"\"\"negative values penalisation and L2 norm\n",
    "\n",
    "    Parameters\n",
    "    ----------\n",
    "    linear : class\n",
    "        Linear operator class\n",
    "    weights : np.ndarray\n",
    "        Input array of weights\n",
    "    \"\"\"\n",
    "\n",
    "    def __init__(self, zeta, eps):\n",
    "        self.weights = [eps,zeta]\n",
    "        self.eps = eps\n",
    "        self.zeta=zeta\n",
    "        self.op = self._op_method\n",
    "        self.cost = self._cost_method\n",
    "\n",
    "        \n",
    "    def _op_method(self, data, extra_factor=1.0):  \n",
    "        thresh = self.eps*extra_factor\n",
    "        \n",
    "        return np.where(data>=0,data/(1+thresh),\n",
    "                 data/(0.5+np.sqrt(0.25-3*self.zeta*extra_factor*data/(1+thresh)**2)))\n",
    "\n",
    "    \n",
    "    def _cost_method(self, *args, **kwargs):\n",
    "        \n",
    "        cost_val = np.abs(self.zeta*np.sum(np.where(args[0]<=0,-args[0]**3,0))\n",
    "                           +self.eps*np.linalg.norm(args[0])**2/2)\n",
    "\n",
    "        if 'verbose' in kwargs and kwargs['verbose']:\n",
    "            print(' - G (X):', cost_val)\n",
    "\n",
    "        return cost_val"
   ]
  },
  {
   "cell_type": "code",
   "execution_count": 7,
   "metadata": {},
   "outputs": [],
   "source": [
    "class RegularizerF2(ProximityParent):\n",
    "    r\"\"\"C2 approximation of an L1 norm\n",
    "\n",
    "    Parameters\n",
    "    ----------\n",
    "    linear : class\n",
    "        Linear operator class\n",
    "    weights : np.ndarray\n",
    "        Input array of weights\n",
    "    \"\"\"\n",
    "\n",
    "    def __init__(self, linear, gamma, pn1):\n",
    "        self.linear = linear\n",
    "        self.weights = [gamma,pn1]\n",
    "        self.gamma = gamma\n",
    "        self.pn1=pn1\n",
    "        self.op = self._op_method\n",
    "        self.cost = self._cost_method\n",
    "    \n",
    "    def rho(self, x):\n",
    "        m = np.abs(x)\n",
    "        return np.where(m<self.gamma,-m**3/3/self.gamma**2+m**2/self.gamma,m-self.gamma/3)    \n",
    "    \n",
    "    def prox_J(self,x,c,gamma):\n",
    "        return np.where(np.abs(x)>gamma+c,x*(1-c/np.abs(x)),\n",
    "                    gamma*x/(c+0.5*gamma+np.sqrt((c+0.5*gamma)**2-c*np.abs(x))))\n",
    "\n",
    "        \n",
    "    def _op_method(self, data, extra_factor=1.0):  \n",
    "        return data-extra_factor*self.prox_J(data/extra_factor,self.pn1/extra_factor,self.gamma)\n",
    "        \n",
    "    \n",
    "    def _cost_method(self, *args, **kwargs):\n",
    "        \n",
    "        cost_val = self.pn1*np.sum(self.rho(np.abs(args[0])))\n",
    "\n",
    "        if 'verbose' in kwargs and kwargs['verbose']:\n",
    "            print(' - F2 (X):', cost_val)\n",
    "\n",
    "        return cost_val"
   ]
  },
  {
   "cell_type": "code",
   "execution_count": 8,
   "metadata": {},
   "outputs": [],
   "source": [
    "zeta,epsilon,gamma,pn1 = 1e10,1e-1,1e-10,1e-6\n",
    "regularizer_G = RegularizerG(zeta,epsilon)\n",
    "regularizer_F2 = RegularizerF2(linear_op,gamma,pn1)"
   ]
  },
  {
   "cell_type": "code",
   "execution_count": 9,
   "metadata": {},
   "outputs": [
    {
     "name": "stdout",
     "output_type": "stream",
     "text": [
      "1.9073484054388313e-07 1.148499771952629e-07\n"
     ]
    }
   ],
   "source": [
    "print(regularizer_G.cost(u0_mat),regularizer_F2.cost(linear_op.op(u0_mat)))"
   ]
  },
  {
   "cell_type": "markdown",
   "metadata": {},
   "source": [
    "### Reconstruction"
   ]
  },
  {
   "cell_type": "code",
   "execution_count": 10,
   "metadata": {},
   "outputs": [],
   "source": [
    "from modopt.opt.algorithms import Condat\n",
    "from modopt.math.metrics import mse\n",
    "from mri.operators import GradAnalysis\n",
    "from modopt.opt.gradient import GradParent,GradBasic"
   ]
  },
  {
   "cell_type": "markdown",
   "metadata": {},
   "source": [
    "Definition of gradient op: see https://cea-cosmic.github.io/ModOpt/_modules/modopt/opt/gradient.html"
   ]
  },
  {
   "cell_type": "code",
   "execution_count": 11,
   "metadata": {},
   "outputs": [
    {
     "name": "stderr",
     "output_type": "stream",
     "text": [
      "\u001b[33mWARNING\u001b[0m: Making input data immutable.\n"
     ]
    }
   ],
   "source": [
    "gradient_op = GradBasic(y,fourier_op.op,fourier_op.adj_op)"
   ]
  },
  {
   "cell_type": "code",
   "execution_count": 14,
   "metadata": {},
   "outputs": [],
   "source": [
    "#Initialisation\n",
    "gradient_op.fourier_op = fourier_op\n",
    "norm = linear_op.l2norm(gradient_op.fourier_op.shape)\n",
    "x_init = fourier_op.adj_op(y)\n",
    "\n",
    "sigma = 0.5\n",
    "tau = 1.0 / (1./2 + sigma * norm**2 + epsilon)"
   ]
  },
  {
   "cell_type": "code",
   "execution_count": 15,
   "metadata": {},
   "outputs": [],
   "source": [
    "opt = Condat(x=x_init,\n",
    "            y=y,\n",
    "            grad = gradient_op,\n",
    "            prox = regularizer_G,\n",
    "            prox_dual = regularizer_F2,\n",
    "            linear = linear_op,\n",
    "#             sigma=sigma,\n",
    "#             tau=tau,\n",
    "#             sigma_update=None,\n",
    "#             tau_update=None,\n",
    "            max_iter=150,\n",
    "            auto_iterate = False)"
   ]
  },
  {
   "cell_type": "code",
   "execution_count": 16,
   "metadata": {},
   "outputs": [
    {
     "name": "stderr",
     "output_type": "stream",
     "text": [
      "/home/guillaume/anaconda3/lib/python3.7/site-packages/ipykernel_launcher.py:26: RuntimeWarning: invalid value encountered in sqrt\n",
      "\r",
      "N/A% (0 of 150) |                        | Elapsed Time: 0:00:00 ETA:  --:--:--"
     ]
    },
    {
     "name": "stdout",
     "output_type": "stream",
     "text": [
      " - ITERATION: 1\n",
      " - DATA FIDELITY (X): 2.7090201351089043e-07\n",
      " - G (X): 9.058960543638661e-05\n",
      " - F2 (X): 7.679140769508149e-07\n",
      " - COST: 9.162842152684831e-05\n",
      "\n"
     ]
    },
    {
     "name": "stderr",
     "output_type": "stream",
     "text": [
      "N/A% (0 of 150) |                        | Elapsed Time: 0:00:00 ETA:  --:--:--"
     ]
    },
    {
     "name": "stdout",
     "output_type": "stream",
     "text": [
      " - ITERATION: 2\n",
      " - DATA FIDELITY (X): 2.595980701452965e-07\n",
      " - G (X): 1.15598020172538e-05\n"
     ]
    },
    {
     "name": "stderr",
     "output_type": "stream",
     "text": [
      "  0% (1 of 150) |                        | Elapsed Time: 0:00:01 ETA:   0:02:50"
     ]
    },
    {
     "name": "stdout",
     "output_type": "stream",
     "text": [
      " - F2 (X): 5.919201370969565e-07\n",
      " - COST: 1.2411320224496053e-05\n",
      "\n",
      " - ITERATION: 3\n",
      " - DATA FIDELITY (X): 4.050646692921312e-07\n"
     ]
    },
    {
     "name": "stderr",
     "output_type": "stream",
     "text": [
      "  1% (2 of 150) |                        | Elapsed Time: 0:00:01 ETA:   0:02:07"
     ]
    },
    {
     "name": "stdout",
     "output_type": "stream",
     "text": [
      " - G (X): 1.4665450559537266e-06\n",
      " - F2 (X): 4.864978746702174e-07\n",
      " - COST: 2.358107599916075e-06\n",
      "\n",
      " - ITERATION: 4\n",
      " - DATA FIDELITY (X): 5.791415837821283e-07\n"
     ]
    },
    {
     "name": "stderr",
     "output_type": "stream",
     "text": [
      "  2% (3 of 150) |                        | Elapsed Time: 0:00:02 ETA:   0:01:54"
     ]
    },
    {
     "name": "stdout",
     "output_type": "stream",
     "text": [
      " - G (X): 1.5712235106428196e-07\n",
      " - F2 (X): 4.0011636346787734e-07\n",
      " - COST: 1.1363802983142875e-06\n",
      "\n",
      " - CONVERGENCE TEST - \n",
      " - CHANGE IN COST: 28.772528845794813\n",
      "\n",
      " - ITERATION: 5\n",
      " - DATA FIDELITY (X): 7.597476923529272e-07\n"
     ]
    },
    {
     "name": "stderr",
     "output_type": "stream",
     "text": [
      "  2% (4 of 150) |                        | Elapsed Time: 0:00:02 ETA:   0:01:26"
     ]
    },
    {
     "name": "stdout",
     "output_type": "stream",
     "text": [
      " - G (X): 1.0954654033369854e-08\n",
      " - F2 (X): 3.3449633158956523e-07\n",
      " - COST: 1.1051986779758622e-06\n",
      "\n",
      " - ITERATION: 6\n",
      " - DATA FIDELITY (X): 9.329731065943683e-07\n"
     ]
    },
    {
     "name": "stderr",
     "output_type": "stream",
     "text": [
      "  3% (5 of 150) |                        | Elapsed Time: 0:00:03 ETA:   0:01:26"
     ]
    },
    {
     "name": "stdout",
     "output_type": "stream",
     "text": [
      " - G (X): 2.637183845015417e-08\n",
      " - F2 (X): 2.8292471580257436e-07\n",
      " - COST: 1.242269660847097e-06\n",
      "\n",
      " - ITERATION: 7\n",
      " - DATA FIDELITY (X): 1.09077090851461e-06\n"
     ]
    },
    {
     "name": "stderr",
     "output_type": "stream",
     "text": [
      "  4% (6 of 150) |                        | Elapsed Time: 0:00:04 ETA:   0:01:25"
     ]
    },
    {
     "name": "stdout",
     "output_type": "stream",
     "text": [
      " - G (X): 2.297867631923527e-08\n",
      " - F2 (X): 2.422210758503025e-07\n",
      " - COST: 1.3559706606841478e-06\n",
      "\n",
      " - ITERATION: 8\n",
      " - DATA FIDELITY (X): 1.230361457581148e-06\n"
     ]
    },
    {
     "name": "stderr",
     "output_type": "stream",
     "text": [
      "  4% (7 of 150) |#                       | Elapsed Time: 0:00:04 ETA:   0:01:23"
     ]
    },
    {
     "name": "stdout",
     "output_type": "stream",
     "text": [
      " - G (X): 1.835290264548704e-08\n",
      " - F2 (X): 2.0966886554460188e-07\n",
      " - COST: 1.458383225771237e-06\n",
      "\n",
      " - CONVERGENCE TEST - \n",
      " - CHANGE IN COST: 0.16589439937862877\n",
      "\n",
      " - ITERATION: 9\n",
      " - DATA FIDELITY (X): 1.351112115454979e-06\n"
     ]
    },
    {
     "name": "stderr",
     "output_type": "stream",
     "text": [
      "  5% (8 of 150) |#                       | Elapsed Time: 0:00:05 ETA:   0:01:18"
     ]
    },
    {
     "name": "stdout",
     "output_type": "stream",
     "text": [
      " - G (X): 5.710092468067924e-08\n",
      " - F2 (X): 1.8352983361983174e-07\n",
      " - COST: 1.59174287375549e-06\n",
      "\n",
      " - ITERATION: 10\n",
      " - DATA FIDELITY (X): 1.454022742367645e-06\n"
     ]
    },
    {
     "name": "stderr",
     "output_type": "stream",
     "text": [
      "  6% (9 of 150) |#                       | Elapsed Time: 0:00:05 ETA:   0:01:21"
     ]
    },
    {
     "name": "stdout",
     "output_type": "stream",
     "text": [
      " - G (X): 1.4642125612976161e-08\n",
      " - F2 (X): 1.6234451906179184e-07\n",
      " - COST: 1.631009387042413e-06\n",
      "\n",
      " - ITERATION: 11\n",
      " - DATA FIDELITY (X): 1.5407819876519512e-06\n"
     ]
    },
    {
     "name": "stderr",
     "output_type": "stream",
     "text": [
      "  6% (10 of 150) |#                      | Elapsed Time: 0:00:06 ETA:   0:01:21"
     ]
    },
    {
     "name": "stdout",
     "output_type": "stream",
     "text": [
      " - G (X): 1.2563919742958446e-08\n",
      " - F2 (X): 1.450630730899083e-07\n",
      " - COST: 1.698408980484818e-06\n",
      "\n",
      " - ITERATION: 12\n",
      " - DATA FIDELITY (X): 1.613448505870117e-06\n"
     ]
    },
    {
     "name": "stderr",
     "output_type": "stream",
     "text": [
      "  7% (11 of 150) |#                      | Elapsed Time: 0:00:07 ETA:   0:01:21"
     ]
    },
    {
     "name": "stdout",
     "output_type": "stream",
     "text": [
      " - G (X): 8.664813787501052e-09\n",
      " - F2 (X): 1.3088967686119054e-07\n",
      " - COST: 1.7530029965188088e-06\n",
      "\n",
      " - CONVERGENCE TEST - \n",
      " - CHANGE IN COST: 0.06625106412368555\n",
      "\n",
      " - ITERATION: 13\n",
      " - DATA FIDELITY (X): 1.674038650414204e-06\n",
      " - G (X): 7.655406506264538e-09\n"
     ]
    },
    {
     "name": "stderr",
     "output_type": "stream",
     "text": [
      "  8% (12 of 150) |#                      | Elapsed Time: 0:00:07 ETA:   0:01:20"
     ]
    },
    {
     "name": "stdout",
     "output_type": "stream",
     "text": [
      " - F2 (X): 1.191631237886311e-07\n",
      " - COST: 1.8008571807090996e-06\n",
      "\n",
      " - ITERATION: 14\n",
      " - DATA FIDELITY (X): 1.7244749124091559e-06\n"
     ]
    },
    {
     "name": "stderr",
     "output_type": "stream",
     "text": [
      "  8% (13 of 150) |#                      | Elapsed Time: 0:00:08 ETA:   0:01:19"
     ]
    },
    {
     "name": "stdout",
     "output_type": "stream",
     "text": [
      " - G (X): 1.1206084976821226e-08\n",
      " - F2 (X): 1.0942994257340762e-07\n",
      " - COST: 1.8451109399593848e-06\n",
      "\n",
      " - ITERATION: 15\n",
      " - DATA FIDELITY (X): 1.766602170728937e-06\n",
      " - G (X): 1.581372971797801e-08\n"
     ]
    },
    {
     "name": "stderr",
     "output_type": "stream",
     "text": [
      "  9% (14 of 150) |##                     | Elapsed Time: 0:00:08 ETA:   0:01:14"
     ]
    },
    {
     "name": "stdout",
     "output_type": "stream",
     "text": [
      " - F2 (X): 1.0121886923122806e-07\n",
      " - COST: 1.8836347696781431e-06\n",
      "\n",
      " - ITERATION: 16\n",
      " - DATA FIDELITY (X): 1.8018307234425917e-06\n"
     ]
    },
    {
     "name": "stderr",
     "output_type": "stream",
     "text": [
      " 10% (15 of 150) |##                     | Elapsed Time: 0:00:09 ETA:   0:01:16"
     ]
    },
    {
     "name": "stdout",
     "output_type": "stream",
     "text": [
      " - G (X): 7.006024727157961e-09\n",
      " - F2 (X): 9.429425798701622e-08\n",
      " - COST: 1.903131006156766e-06\n",
      "\n",
      " - CONVERGENCE TEST - \n",
      " - CHANGE IN COST: 0.03718150619848726\n",
      "\n",
      " - ITERATION: 17\n",
      " - DATA FIDELITY (X): 1.8314562521152387e-06\n",
      " - G (X): 4.7038668774048775e-09\n",
      " - F2 (X): 8.838599780618053e-08\n"
     ]
    },
    {
     "name": "stderr",
     "output_type": "stream",
     "text": [
      " 10% (16 of 150) |##                     | Elapsed Time: 0:00:09 ETA:   0:01:15"
     ]
    },
    {
     "name": "stdout",
     "output_type": "stream",
     "text": [
      " - COST: 1.924546116798824e-06\n",
      "\n",
      " - ITERATION: 18\n",
      " - DATA FIDELITY (X): 1.856484072513744e-06\n"
     ]
    },
    {
     "name": "stderr",
     "output_type": "stream",
     "text": [
      " 11% (17 of 150) |##                     | Elapsed Time: 0:00:10 ETA:   0:01:15"
     ]
    },
    {
     "name": "stdout",
     "output_type": "stream",
     "text": [
      " - G (X): 4.41691903739297e-09\n",
      " - F2 (X): 8.33291447508922e-08\n",
      " - COST: 1.944230136302029e-06\n",
      "\n",
      " - ITERATION: 19\n",
      " - DATA FIDELITY (X): 1.8777658902569294e-06\n",
      " - G (X): 5.853209545920951e-09\n",
      " - F2 (X): 7.893955226926355e-08\n"
     ]
    },
    {
     "name": "stderr",
     "output_type": "stream",
     "text": [
      " 12% (18 of 150) |##                     | Elapsed Time: 0:00:10 ETA:   0:01:13"
     ]
    },
    {
     "name": "stdout",
     "output_type": "stream",
     "text": [
      " - COST: 1.962558652072114e-06\n",
      "\n",
      " - ITERATION: 20\n",
      " - DATA FIDELITY (X): 1.895943698234077e-06\n"
     ]
    },
    {
     "name": "stderr",
     "output_type": "stream",
     "text": [
      " 12% (19 of 150) |##                     | Elapsed Time: 0:00:11 ETA:   0:01:08"
     ]
    },
    {
     "name": "stdout",
     "output_type": "stream",
     "text": [
      " - G (X): 6.801415472819499e-09\n",
      " - F2 (X): 7.514345935232955e-08\n",
      " - COST: 1.977888573059226e-06\n",
      "\n",
      " - CONVERGENCE TEST - \n",
      " - CHANGE IN COST: 0.01818853747701122\n",
      "\n",
      " - ITERATION: 21\n",
      " - DATA FIDELITY (X): 1.911604708652478e-06\n"
     ]
    },
    {
     "name": "stderr",
     "output_type": "stream",
     "text": [
      " 13% (20 of 150) |###                    | Elapsed Time: 0:00:12 ETA:   0:01:15"
     ]
    },
    {
     "name": "stdout",
     "output_type": "stream",
     "text": [
      " - G (X): 1.065527358712755e-08\n",
      " - F2 (X): 7.18242386819819e-08\n",
      " - COST: 1.9940842209215876e-06\n",
      "\n",
      " - ITERATION: 22\n",
      " - DATA FIDELITY (X): 1.9251540759292004e-06\n",
      " - G (X): 5.31278858743088e-09\n"
     ]
    },
    {
     "name": "stderr",
     "output_type": "stream",
     "text": [
      " 14% (21 of 150) |###                    | Elapsed Time: 0:00:12 ETA:   0:01:07"
     ]
    },
    {
     "name": "stdout",
     "output_type": "stream",
     "text": [
      " - F2 (X): 6.89286847008212e-08\n",
      " - COST: 1.9993955492174525e-06\n",
      "\n",
      " - ITERATION: 23\n",
      " - DATA FIDELITY (X): 1.937023606079286e-06\n"
     ]
    },
    {
     "name": "stderr",
     "output_type": "stream",
     "text": [
      " 14% (22 of 150) |###                    | Elapsed Time: 0:00:13 ETA:   0:01:15"
     ]
    },
    {
     "name": "stdout",
     "output_type": "stream",
     "text": [
      " - G (X): 1.0347861724761918e-08\n",
      " - F2 (X): 6.635072959047357e-08\n",
      " - COST: 2.0137221973945215e-06\n",
      "\n",
      " - ITERATION: 24\n",
      " - DATA FIDELITY (X): 1.9474574857665223e-06\n",
      " - G (X): 2.693934744217775e-08\n",
      " - F2 (X): 6.406426468860589e-08\n"
     ]
    },
    {
     "name": "stderr",
     "output_type": "stream",
     "text": [
      " 15% (23 of 150) |###                    | Elapsed Time: 0:00:13 ETA:   0:01:11"
     ]
    },
    {
     "name": "stdout",
     "output_type": "stream",
     "text": [
      " - COST: 2.038461097897306e-06\n",
      "\n",
      " - CONVERGENCE TEST - \n",
      " - CHANGE IN COST: 0.014486887900898884\n",
      "\n",
      " - ITERATION: 25\n",
      " - DATA FIDELITY (X): 1.9566718524274037e-06\n"
     ]
    },
    {
     "name": "stderr",
     "output_type": "stream",
     "text": [
      " 16% (24 of 150) |###                    | Elapsed Time: 0:00:14 ETA:   0:01:09"
     ]
    },
    {
     "name": "stdout",
     "output_type": "stream",
     "text": [
      " - G (X): 8.751638348547703e-09\n",
      " - F2 (X): 6.200299638113715e-08\n",
      " - COST: 2.0274264871570885e-06\n",
      "\n",
      " - ITERATION: 26\n",
      " - DATA FIDELITY (X): 1.964853262431957e-06\n",
      " - G (X): 1.0047201280878645e-08\n"
     ]
    },
    {
     "name": "stderr",
     "output_type": "stream",
     "text": [
      " 16% (25 of 150) |###                    | Elapsed Time: 0:00:14 ETA:   0:01:09"
     ]
    },
    {
     "name": "stdout",
     "output_type": "stream",
     "text": [
      " - F2 (X): 6.013730596960477e-08\n",
      " - COST: 2.03503776968244e-06\n",
      "\n",
      " - ITERATION: 27\n",
      " - DATA FIDELITY (X): 1.9721640451105114e-06\n"
     ]
    },
    {
     "name": "stderr",
     "output_type": "stream",
     "text": [
      " 17% (26 of 150) |###                    | Elapsed Time: 0:00:15 ETA:   0:01:09"
     ]
    },
    {
     "name": "stdout",
     "output_type": "stream",
     "text": [
      " - G (X): 1.2701063116929091e-08\n",
      " - F2 (X): 5.844623568351826e-08\n",
      " - COST: 2.0433113439109587e-06\n",
      "\n",
      " - ITERATION: 28\n",
      " - DATA FIDELITY (X): 1.9787279292862135e-06\n",
      " - G (X): 3.0190208788153305e-09\n",
      " - F2 (X): 5.691579037811337e-08\n"
     ]
    },
    {
     "name": "stderr",
     "output_type": "stream",
     "text": [
      " 18% (27 of 150) |####                   | Elapsed Time: 0:00:15 ETA:   0:01:08"
     ]
    },
    {
     "name": "stdout",
     "output_type": "stream",
     "text": [
      " - COST: 2.0386627405431425e-06\n",
      "\n",
      " - CONVERGENCE TEST - \n",
      " - CHANGE IN COST: 0.004779507956425756\n",
      "\n",
      " - ITERATION: 29\n",
      " - DATA FIDELITY (X): 1.984657298133994e-06\n"
     ]
    },
    {
     "name": "stderr",
     "output_type": "stream",
     "text": [
      " 18% (28 of 150) |####                   | Elapsed Time: 0:00:16 ETA:   0:01:08"
     ]
    },
    {
     "name": "stdout",
     "output_type": "stream",
     "text": [
      " - G (X): 7.40449572960672e-09\n",
      " - F2 (X): 5.552321933006479e-08\n",
      " - COST: 2.0475850131936654e-06\n",
      "\n",
      " - ITERATION: 30\n",
      " - DATA FIDELITY (X): 1.9900172562470934e-06\n",
      " - G (X): 5.16083675384846e-08\n",
      " - F2 (X): 5.424888272466263e-08\n"
     ]
    },
    {
     "name": "stderr",
     "output_type": "stream",
     "text": [
      " 19% (29 of 150) |####                   | Elapsed Time: 0:00:17 ETA:   0:01:07"
     ]
    },
    {
     "name": "stdout",
     "output_type": "stream",
     "text": [
      " - COST: 2.0958745065102406e-06\n",
      "\n",
      " - ITERATION: 31\n",
      " - DATA FIDELITY (X): 1.9948829236458064e-06\n"
     ]
    },
    {
     "name": "stderr",
     "output_type": "stream",
     "text": [
      " 20% (30 of 150) |####                   | Elapsed Time: 0:00:17 ETA:   0:01:06"
     ]
    },
    {
     "name": "stdout",
     "output_type": "stream",
     "text": [
      " - G (X): 2.536378130024715e-09\n",
      " - F2 (X): 5.3092800699148406e-08\n",
      " - COST: 2.0505121024749794e-06\n",
      "\n",
      " - ITERATION: 32\n",
      " - DATA FIDELITY (X): 1.9993217059267785e-06\n",
      " - G (X): 3.123889707211522e-08\n",
      " - F2 (X): 5.2027997303248486e-08\n"
     ]
    },
    {
     "name": "stderr",
     "output_type": "stream",
     "text": [
      " 20% (31 of 150) |####                   | Elapsed Time: 0:00:18 ETA:   0:01:05"
     ]
    },
    {
     "name": "stdout",
     "output_type": "stream",
     "text": [
      " - COST: 2.082588600302142e-06\n",
      "\n",
      " - CONVERGENCE TEST - \n",
      " - CHANGE IN COST: 0.0025063064444144287\n",
      "\n",
      " - ITERATION: 33\n",
      " - DATA FIDELITY (X): 2.003378983963276e-06\n"
     ]
    },
    {
     "name": "stderr",
     "output_type": "stream",
     "text": [
      " 21% (32 of 150) |####                   | Elapsed Time: 0:00:18 ETA:   0:01:04"
     ]
    },
    {
     "name": "stdout",
     "output_type": "stream",
     "text": [
      " - G (X): 6.857489163704951e-08\n",
      " - F2 (X): 5.105481232069453e-08\n",
      " - COST: 2.12300868792102e-06\n",
      "\n",
      " - ITERATION: 34\n",
      " - DATA FIDELITY (X): 2.007099833527143e-06\n",
      " - G (X): 2.6891431719673024e-08\n"
     ]
    },
    {
     "name": "stderr",
     "output_type": "stream",
     "text": [
      " 22% (33 of 150) |#####                  | Elapsed Time: 0:00:19 ETA:   0:01:04"
     ]
    },
    {
     "name": "stdout",
     "output_type": "stream",
     "text": [
      " - F2 (X): 5.0153887026256275e-08\n",
      " - COST: 2.0841451522730724e-06\n",
      "\n",
      " - ITERATION: 35\n",
      " - DATA FIDELITY (X): 2.010503916121897e-06\n"
     ]
    },
    {
     "name": "stderr",
     "output_type": "stream",
     "text": [
      " 22% (34 of 150) |#####                  | Elapsed Time: 0:00:19 ETA:   0:01:03"
     ]
    },
    {
     "name": "stdout",
     "output_type": "stream",
     "text": [
      " - G (X): 1.0341142271153738e-08\n",
      " - F2 (X): 4.934013345591307e-08\n",
      " - COST: 2.0701851918489636e-06\n",
      "\n",
      " - ITERATION: 36\n",
      " - DATA FIDELITY (X): 2.0136254692504143e-06\n",
      " - G (X): 1.9772490073379593e-08\n"
     ]
    },
    {
     "name": "stderr",
     "output_type": "stream",
     "text": [
      " 23% (35 of 150) |#####                  | Elapsed Time: 0:00:20 ETA:   0:01:03"
     ]
    },
    {
     "name": "stdout",
     "output_type": "stream",
     "text": [
      " - F2 (X): 4.858999309796148e-08\n",
      " - COST: 2.081987952421755e-06\n",
      "\n",
      " - CONVERGENCE TEST - \n",
      " - CHANGE IN COST: 0.013241426600727565\n",
      "\n",
      " - ITERATION: 37\n",
      " - DATA FIDELITY (X): 2.016521189719908e-06\n"
     ]
    },
    {
     "name": "stderr",
     "output_type": "stream",
     "text": [
      " 24% (36 of 150) |#####                  | Elapsed Time: 0:00:20 ETA:   0:01:02"
     ]
    },
    {
     "name": "stdout",
     "output_type": "stream",
     "text": [
      " - G (X): 4.935480486354776e-08\n",
      " - F2 (X): 4.789037593581476e-08\n",
      " - COST: 2.1137663705192703e-06\n",
      "\n",
      " - ITERATION: 38\n",
      " - DATA FIDELITY (X): 2.019218698452877e-06\n",
      " - G (X): 5.2312392531749905e-09\n"
     ]
    },
    {
     "name": "stderr",
     "output_type": "stream",
     "text": [
      " 24% (37 of 150) |#####                  | Elapsed Time: 0:00:21 ETA:   0:01:01"
     ]
    },
    {
     "name": "stdout",
     "output_type": "stream",
     "text": [
      " - F2 (X): 4.7222757626319485e-08\n",
      " - COST: 2.0716726953323717e-06\n",
      "\n",
      " - ITERATION: 39\n",
      " - DATA FIDELITY (X): 2.021731071554119e-06\n"
     ]
    },
    {
     "name": "stderr",
     "output_type": "stream",
     "text": [
      " 25% (38 of 150) |#####                  | Elapsed Time: 0:00:22 ETA:   0:00:58"
     ]
    },
    {
     "name": "stdout",
     "output_type": "stream",
     "text": [
      " - G (X): 1.5819121639951123e-08\n",
      " - F2 (X): 4.658574015243505e-08\n",
      " - COST: 2.0841359333465054e-06\n",
      "\n",
      " - ITERATION: 40\n",
      " - DATA FIDELITY (X): 2.024073285233076e-06\n"
     ]
    },
    {
     "name": "stderr",
     "output_type": "stream",
     "text": [
      " 26% (39 of 150) |#####                  | Elapsed Time: 0:00:22 ETA:   0:01:04"
     ]
    },
    {
     "name": "stdout",
     "output_type": "stream",
     "text": [
      " - G (X): 2.895736432102937e-08\n",
      " - F2 (X): 4.59895603166356e-08\n",
      " - COST: 2.099020209870741e-06\n",
      "\n",
      " - CONVERGENCE TEST - \n",
      " - CHANGE IN COST: 0.0005457416735680788\n",
      "\n",
      " - ITERATION: 41\n",
      " - DATA FIDELITY (X): 2.026213068392745e-06\n",
      " - G (X): 2.6042750620922558e-08\n",
      " - F2 (X): 4.5471914209794494e-08\n"
     ]
    },
    {
     "name": "stderr",
     "output_type": "stream",
     "text": [
      " 26% (40 of 150) |######                 | Elapsed Time: 0:00:23 ETA:   0:00:57"
     ]
    },
    {
     "name": "stdout",
     "output_type": "stream",
     "text": [
      " - COST: 2.0977277332234625e-06\n",
      "\n",
      " - ITERATION: 42\n",
      " - DATA FIDELITY (X): 2.0282165754973384e-06\n"
     ]
    },
    {
     "name": "stderr",
     "output_type": "stream",
     "text": [
      " 27% (41 of 150) |######                 | Elapsed Time: 0:00:23 ETA:   0:01:02"
     ]
    },
    {
     "name": "stdout",
     "output_type": "stream",
     "text": [
      " - G (X): 5.113381674851298e-09\n",
      " - F2 (X): 4.497171346989173e-08\n",
      " - COST: 2.0783016706420815e-06\n",
      "\n",
      " - ITERATION: 43\n",
      " - DATA FIDELITY (X): 2.030091789882758e-06\n",
      " - G (X): 3.131653659080629e-08\n"
     ]
    },
    {
     "name": "stderr",
     "output_type": "stream",
     "text": [
      " 28% (42 of 150) |######                 | Elapsed Time: 0:00:24 ETA:   0:00:59"
     ]
    },
    {
     "name": "stdout",
     "output_type": "stream",
     "text": [
      " - F2 (X): 4.4512671902949795e-08\n",
      " - COST: 2.105920998376514e-06\n",
      "\n",
      " - ITERATION: 44\n",
      " - DATA FIDELITY (X): 2.0318513242596783e-06\n"
     ]
    },
    {
     "name": "stderr",
     "output_type": "stream",
     "text": [
      " 28% (43 of 150) |######                 | Elapsed Time: 0:00:24 ETA:   0:00:57"
     ]
    },
    {
     "name": "stdout",
     "output_type": "stream",
     "text": [
      " - G (X): 5.185134845012469e-09\n",
      " - F2 (X): 4.408159832979963e-08\n",
      " - COST: 2.0811180574344902e-06\n",
      "\n",
      " - CONVERGENCE TEST - \n",
      " - CHANGE IN COST: 0.002629460054875774\n",
      "\n",
      " - ITERATION: 45\n",
      " - DATA FIDELITY (X): 2.0334857240185856e-06\n",
      " - G (X): 6.922530793219845e-08\n"
     ]
    },
    {
     "name": "stderr",
     "output_type": "stream",
     "text": [
      " 29% (44 of 150) |######                 | Elapsed Time: 0:00:25 ETA:   0:00:58"
     ]
    },
    {
     "name": "stdout",
     "output_type": "stream",
     "text": [
      " - F2 (X): 4.367064341694714e-08\n",
      " - COST: 2.1463816753677313e-06\n",
      "\n",
      " - ITERATION: 46\n",
      " - DATA FIDELITY (X): 2.035014199421091e-06\n"
     ]
    },
    {
     "name": "stderr",
     "output_type": "stream",
     "text": [
      " 30% (45 of 150) |######                 | Elapsed Time: 0:00:25 ETA:   0:00:57"
     ]
    },
    {
     "name": "stdout",
     "output_type": "stream",
     "text": [
      " - G (X): 3.039393257469848e-08\n",
      " - F2 (X): 4.331697731677585e-08\n",
      " - COST: 2.108725109312565e-06\n",
      "\n",
      " - ITERATION: 47\n",
      " - DATA FIDELITY (X): 2.0364728602490524e-06\n",
      " - G (X): 8.323924773975373e-08\n"
     ]
    },
    {
     "name": "stderr",
     "output_type": "stream",
     "text": [
      " 30% (46 of 150) |#######                | Elapsed Time: 0:00:26 ETA:   0:00:57"
     ]
    },
    {
     "name": "stdout",
     "output_type": "stream",
     "text": [
      " - F2 (X): 4.2956380207524336e-08\n",
      " - COST: 2.1626684881963305e-06\n",
      "\n",
      " - ITERATION: 48\n",
      " - DATA FIDELITY (X): 2.037817354787523e-06\n"
     ]
    },
    {
     "name": "stderr",
     "output_type": "stream",
     "text": [
      " 31% (47 of 150) |#######                | Elapsed Time: 0:00:26 ETA:   0:00:56"
     ]
    },
    {
     "name": "stdout",
     "output_type": "stream",
     "text": [
      " - G (X): 6.548256989077603e-08\n",
      " - F2 (X): 4.264055766213627e-08\n",
      " - COST: 2.145940482340435e-06\n",
      "\n",
      " - CONVERGENCE TEST - \n",
      " - CHANGE IN COST: 0.012417507883014921\n",
      "\n",
      " - ITERATION: 49\n",
      " - DATA FIDELITY (X): 2.0391120942153083e-06\n",
      " - G (X): 1.915856413001304e-08\n"
     ]
    },
    {
     "name": "stderr",
     "output_type": "stream",
     "text": [
      " 32% (48 of 150) |#######                | Elapsed Time: 0:00:27 ETA:   0:00:56"
     ]
    },
    {
     "name": "stdout",
     "output_type": "stream",
     "text": [
      " - F2 (X): 4.2322121272786864e-08\n",
      " - COST: 2.1005927796181083e-06\n",
      "\n",
      " - ITERATION: 50\n",
      " - DATA FIDELITY (X): 2.040322752677355e-06\n"
     ]
    },
    {
     "name": "stderr",
     "output_type": "stream",
     "text": [
      " 32% (49 of 150) |#######                | Elapsed Time: 0:00:28 ETA:   0:00:55"
     ]
    },
    {
     "name": "stdout",
     "output_type": "stream",
     "text": [
      " - G (X): 2.859344177932757e-08\n",
      " - F2 (X): 4.2032680162483896e-08\n",
      " - COST: 2.1109488746191667e-06\n",
      "\n",
      " - ITERATION: 51\n",
      " - DATA FIDELITY (X): 2.041484804864314e-06\n",
      " - G (X): 6.31945481204016e-09\n"
     ]
    },
    {
     "name": "stderr",
     "output_type": "stream",
     "text": [
      " 33% (50 of 150) |#######                | Elapsed Time: 0:00:28 ETA:   0:00:55"
     ]
    },
    {
     "name": "stdout",
     "output_type": "stream",
     "text": [
      " - F2 (X): 4.174328683074614e-08\n",
      " - COST: 2.0895475465071004e-06\n",
      "\n",
      " - ITERATION: 52\n",
      " - DATA FIDELITY (X): 2.042604252260832e-06\n"
     ]
    },
    {
     "name": "stderr",
     "output_type": "stream",
     "text": [
      " 34% (51 of 150) |#######                | Elapsed Time: 0:00:29 ETA:   0:00:54"
     ]
    },
    {
     "name": "stdout",
     "output_type": "stream",
     "text": [
      " - G (X): 7.074001472635146e-08\n",
      " - F2 (X): 4.145797600057901e-08\n",
      " - COST: 2.1548022429877624e-06\n",
      "\n",
      " - CONVERGENCE TEST - \n",
      " - CHANGE IN COST: 0.007729837757196902\n",
      "\n",
      " - ITERATION: 53\n",
      " - DATA FIDELITY (X): 2.043613270476115e-06\n",
      " - G (X): 1.0178678944530322e-07\n"
     ]
    },
    {
     "name": "stderr",
     "output_type": "stream",
     "text": [
      " 34% (52 of 150) |#######                | Elapsed Time: 0:00:29 ETA:   0:00:53"
     ]
    },
    {
     "name": "stdout",
     "output_type": "stream",
     "text": [
      " - F2 (X): 4.121381627880564e-08\n",
      " - COST: 2.186613876200224e-06\n",
      "\n",
      " - ITERATION: 54\n",
      " - DATA FIDELITY (X): 2.044588065921742e-06\n"
     ]
    },
    {
     "name": "stderr",
     "output_type": "stream",
     "text": [
      " 35% (53 of 150) |########               | Elapsed Time: 0:00:30 ETA:   0:00:54"
     ]
    },
    {
     "name": "stdout",
     "output_type": "stream",
     "text": [
      " - G (X): 1.5160114680579162e-08\n",
      " - F2 (X): 4.098199855007569e-08\n",
      " - COST: 2.1007301791523973e-06\n",
      "\n",
      " - ITERATION: 55\n",
      " - DATA FIDELITY (X): 2.045518640112437e-06\n",
      " - G (X): 3.2186918016888536e-08\n",
      " - F2 (X): 4.075303896786105e-08\n"
     ]
    },
    {
     "name": "stderr",
     "output_type": "stream",
     "text": [
      " 36% (54 of 150) |########               | Elapsed Time: 0:00:30 ETA:   0:00:52"
     ]
    },
    {
     "name": "stdout",
     "output_type": "stream",
     "text": [
      " - COST: 2.1184585970971866e-06\n",
      "\n",
      " - ITERATION: 56\n",
      " - DATA FIDELITY (X): 2.046394585895171e-06\n"
     ]
    },
    {
     "name": "stderr",
     "output_type": "stream",
     "text": [
      " 36% (55 of 150) |########               | Elapsed Time: 0:00:31 ETA:   0:00:53"
     ]
    },
    {
     "name": "stdout",
     "output_type": "stream",
     "text": [
      " - G (X): 5.0348455441464094e-08\n",
      " - F2 (X): 4.05362663591727e-08\n",
      " - COST: 2.1372793076958078e-06\n",
      "\n",
      " - CONVERGENCE TEST - \n",
      " - CHANGE IN COST: 0.0074267145361631235\n",
      "\n",
      " - ITERATION: 57\n",
      " - DATA FIDELITY (X): 2.0472287840380156e-06\n",
      " - G (X): 1.0233991049960061e-08\n",
      " - F2 (X): 4.0332833786740074e-08\n"
     ]
    },
    {
     "name": "stderr",
     "output_type": "stream",
     "text": [
      " 37% (56 of 150) |########               | Elapsed Time: 0:00:31 ETA:   0:00:51"
     ]
    },
    {
     "name": "stdout",
     "output_type": "stream",
     "text": [
      " - COST: 2.097795608874716e-06\n",
      "\n",
      " - ITERATION: 58\n",
      " - DATA FIDELITY (X): 2.0480268707669934e-06\n"
     ]
    },
    {
     "name": "stderr",
     "output_type": "stream",
     "text": [
      " 38% (57 of 150) |########               | Elapsed Time: 0:00:32 ETA:   0:00:48"
     ]
    },
    {
     "name": "stdout",
     "output_type": "stream",
     "text": [
      " - G (X): 2.7911151702338613e-08\n",
      " - F2 (X): 4.013084986811324e-08\n",
      " - COST: 2.1160688723374453e-06\n",
      "\n",
      " - ITERATION: 59\n",
      " - DATA FIDELITY (X): 2.048770821514769e-06\n"
     ]
    },
    {
     "name": "stderr",
     "output_type": "stream",
     "text": [
      " 38% (58 of 150) |########               | Elapsed Time: 0:00:33 ETA:   0:00:53"
     ]
    },
    {
     "name": "stdout",
     "output_type": "stream",
     "text": [
      " - G (X): 4.44246561217161e-08\n",
      " - F2 (X): 3.995262490352845e-08\n",
      " - COST: 2.1331481025400137e-06\n",
      "\n",
      " - ITERATION: 60\n",
      " - DATA FIDELITY (X): 2.0494676307910044e-06\n",
      " - G (X): 4.2096145669072223e-08\n",
      " - F2 (X): 3.979205096104673e-08\n"
     ]
    },
    {
     "name": "stderr",
     "output_type": "stream",
     "text": [
      " 39% (59 of 150) |#########              | Elapsed Time: 0:00:33 ETA:   0:00:46"
     ]
    },
    {
     "name": "stdout",
     "output_type": "stream",
     "text": [
      " - COST: 2.131355827421123e-06\n",
      "\n",
      " - CONVERGENCE TEST - \n",
      " - CHANGE IN COST: 0.01187463995359403\n",
      "\n",
      " - ITERATION: 61\n",
      " - DATA FIDELITY (X): 2.05016088953094e-06\n"
     ]
    },
    {
     "name": "stderr",
     "output_type": "stream",
     "text": [
      " 40% (60 of 150) |#########              | Elapsed Time: 0:00:34 ETA:   0:00:52"
     ]
    },
    {
     "name": "stdout",
     "output_type": "stream",
     "text": [
      " - G (X): 5.546136802457738e-08\n",
      " - F2 (X): 3.962063873621361e-08\n",
      " - COST: 2.145242896291731e-06\n",
      "\n",
      " - ITERATION: 62\n",
      " - DATA FIDELITY (X): 2.0508170817478534e-06\n",
      " - G (X): 3.779833519655217e-08\n",
      " - F2 (X): 3.9465891138129196e-08\n"
     ]
    },
    {
     "name": "stderr",
     "output_type": "stream",
     "text": [
      " 40% (61 of 150) |#########              | Elapsed Time: 0:00:34 ETA:   0:00:48"
     ]
    },
    {
     "name": "stdout",
     "output_type": "stream",
     "text": [
      " - COST: 2.128081308082535e-06\n",
      "\n",
      " - ITERATION: 63\n",
      " - DATA FIDELITY (X): 2.0514319904948178e-06\n"
     ]
    },
    {
     "name": "stderr",
     "output_type": "stream",
     "text": [
      " 41% (62 of 150) |#########              | Elapsed Time: 0:00:35 ETA:   0:00:47"
     ]
    },
    {
     "name": "stdout",
     "output_type": "stream",
     "text": [
      " - G (X): 5.184296668073961e-08\n",
      " - F2 (X): 3.932100480345459e-08\n",
      " - COST: 2.142595961979012e-06\n",
      "\n",
      " - ITERATION: 64\n",
      " - DATA FIDELITY (X): 2.0520240182851626e-06\n",
      " - G (X): 4.218292906981138e-08\n"
     ]
    },
    {
     "name": "stderr",
     "output_type": "stream",
     "text": [
      " 42% (63 of 150) |#########              | Elapsed Time: 0:00:35 ETA:   0:00:47"
     ]
    },
    {
     "name": "stdout",
     "output_type": "stream",
     "text": [
      " - F2 (X): 3.917798574149162e-08\n",
      " - COST: 2.1333849330964653e-06\n",
      "\n",
      " - CONVERGENCE TEST - \n",
      " - CHANGE IN COST: 0.0006213055592158977\n",
      "\n",
      " - ITERATION: 65\n",
      " - DATA FIDELITY (X): 2.0525741732721113e-06\n"
     ]
    },
    {
     "name": "stderr",
     "output_type": "stream",
     "text": [
      " 42% (64 of 150) |#########              | Elapsed Time: 0:00:36 ETA:   0:00:47"
     ]
    },
    {
     "name": "stdout",
     "output_type": "stream",
     "text": [
      " - G (X): 9.095385096711871e-09\n",
      " - F2 (X): 3.905523526279716e-08\n",
      " - COST: 2.1007247936316203e-06\n",
      "\n",
      " - ITERATION: 66\n",
      " - DATA FIDELITY (X): 2.053118619262531e-06\n",
      " - G (X): 5.667789873885898e-09\n",
      " - F2 (X): 3.8920016279498246e-08\n"
     ]
    },
    {
     "name": "stderr",
     "output_type": "stream",
     "text": [
      " 43% (65 of 150) |#########              | Elapsed Time: 0:00:36 ETA:   0:00:47"
     ]
    },
    {
     "name": "stdout",
     "output_type": "stream",
     "text": [
      " - COST: 2.097706425415915e-06\n",
      "\n",
      " - ITERATION: 67\n",
      " - DATA FIDELITY (X): 2.0536382884017593e-06\n"
     ]
    },
    {
     "name": "stderr",
     "output_type": "stream",
     "text": [
      " 44% (66 of 150) |##########             | Elapsed Time: 0:00:37 ETA:   0:00:47"
     ]
    },
    {
     "name": "stdout",
     "output_type": "stream",
     "text": [
      " - G (X): 1.7302328828485735e-08\n",
      " - F2 (X): 3.8789948834722894e-08\n",
      " - COST: 2.109730566064968e-06\n",
      "\n",
      " - ITERATION: 68\n",
      " - DATA FIDELITY (X): 2.0541241029857676e-06\n",
      " - G (X): 3.999754335617366e-08\n",
      " - F2 (X): 3.867154764403907e-08\n"
     ]
    },
    {
     "name": "stderr",
     "output_type": "stream",
     "text": [
      " 44% (67 of 150) |##########             | Elapsed Time: 0:00:37 ETA:   0:00:45"
     ]
    },
    {
     "name": "stdout",
     "output_type": "stream",
     "text": [
      " - COST: 2.13279319398598e-06\n",
      "\n",
      " - CONVERGENCE TEST - \n",
      " - CHANGE IN COST: 0.010392998011844552\n",
      "\n",
      " - ITERATION: 69\n",
      " - DATA FIDELITY (X): 2.0545998898539673e-06\n"
     ]
    },
    {
     "name": "stderr",
     "output_type": "stream",
     "text": [
      " 45% (68 of 150) |##########             | Elapsed Time: 0:00:38 ETA:   0:00:44"
     ]
    },
    {
     "name": "stdout",
     "output_type": "stream",
     "text": [
      " - G (X): 6.468120150022311e-08\n",
      " - F2 (X): 3.855331080857391e-08\n",
      " - COST: 2.1578344021627646e-06\n",
      "\n",
      " - ITERATION: 70\n",
      " - DATA FIDELITY (X): 2.055048229992443e-06\n",
      " - G (X): 3.647357046882309e-08\n"
     ]
    },
    {
     "name": "stderr",
     "output_type": "stream",
     "text": [
      " 46% (69 of 150) |##########             | Elapsed Time: 0:00:39 ETA:   0:00:44"
     ]
    },
    {
     "name": "stdout",
     "output_type": "stream",
     "text": [
      " - F2 (X): 3.8442831960591675e-08\n",
      " - COST: 2.1299646324218575e-06\n",
      "\n",
      " - ITERATION: 71\n",
      " - DATA FIDELITY (X): 2.0554699076611468e-06\n"
     ]
    },
    {
     "name": "stderr",
     "output_type": "stream",
     "text": [
      " 46% (70 of 150) |##########             | Elapsed Time: 0:00:39 ETA:   0:00:43"
     ]
    },
    {
     "name": "stdout",
     "output_type": "stream",
     "text": [
      " - G (X): 5.487222773549198e-08\n",
      " - F2 (X): 3.834464444891374e-08\n",
      " - COST: 2.1486867798455526e-06\n",
      "\n",
      " - ITERATION: 72\n",
      " - DATA FIDELITY (X): 2.055873568167907e-06\n",
      " - G (X): 1.1938311210468916e-08\n"
     ]
    },
    {
     "name": "stderr",
     "output_type": "stream",
     "text": [
      " 47% (71 of 150) |##########             | Elapsed Time: 0:00:40 ETA:   0:00:43"
     ]
    },
    {
     "name": "stdout",
     "output_type": "stream",
     "text": [
      " - F2 (X): 3.8247681554598985e-08\n",
      " - COST: 2.106059560932975e-06\n",
      "\n",
      " - CONVERGENCE TEST - \n",
      " - CHANGE IN COST: 0.007768428751982001\n",
      "\n",
      " - ITERATION: 73\n",
      " - DATA FIDELITY (X): 2.05627470890436e-06\n"
     ]
    },
    {
     "name": "stderr",
     "output_type": "stream",
     "text": [
      " 48% (72 of 150) |###########            | Elapsed Time: 0:00:40 ETA:   0:00:42"
     ]
    },
    {
     "name": "stdout",
     "output_type": "stream",
     "text": [
      " - G (X): 2.4031079795587313e-08\n",
      " - F2 (X): 3.81469203344648e-08\n",
      " - COST: 2.1184527090344124e-06\n",
      "\n",
      " - ITERATION: 74\n",
      " - DATA FIDELITY (X): 2.056649390767268e-06\n",
      " - G (X): 1.9202468294715144e-08\n"
     ]
    },
    {
     "name": "stderr",
     "output_type": "stream",
     "text": [
      " 48% (73 of 150) |###########            | Elapsed Time: 0:00:41 ETA:   0:00:42"
     ]
    },
    {
     "name": "stdout",
     "output_type": "stream",
     "text": [
      " - F2 (X): 3.805397052864896e-08\n",
      " - COST: 2.1139058295906323e-06\n",
      "\n",
      " - ITERATION: 75\n",
      " - DATA FIDELITY (X): 2.0569875483585292e-06\n"
     ]
    },
    {
     "name": "stderr",
     "output_type": "stream",
     "text": [
      " 49% (74 of 150) |###########            | Elapsed Time: 0:00:41 ETA:   0:00:41"
     ]
    },
    {
     "name": "stdout",
     "output_type": "stream",
     "text": [
      " - G (X): 7.372026071269282e-08\n",
      " - F2 (X): 3.798131022188469e-08\n",
      " - COST: 2.1686891192931065e-06\n",
      "\n",
      " - ITERATION: 76\n",
      " - DATA FIDELITY (X): 2.057348616450625e-06\n",
      " - G (X): 7.950015412754347e-09\n"
     ]
    },
    {
     "name": "stderr",
     "output_type": "stream",
     "text": [
      " 50% (75 of 150) |###########            | Elapsed Time: 0:00:42 ETA:   0:00:41"
     ]
    },
    {
     "name": "stdout",
     "output_type": "stream",
     "text": [
      " - F2 (X): 3.789268290354521e-08\n",
      " - COST: 2.1031913147669245e-06\n",
      "\n",
      " - CONVERGENCE TEST - \n",
      " - CHANGE IN COST: 0.009251638955031312\n",
      "\n",
      " - ITERATION: 77\n",
      " - DATA FIDELITY (X): 2.0576756622671917e-06\n"
     ]
    },
    {
     "name": "stderr",
     "output_type": "stream",
     "text": [
      " 50% (76 of 150) |###########            | Elapsed Time: 0:00:42 ETA:   0:00:38"
     ]
    },
    {
     "name": "stdout",
     "output_type": "stream",
     "text": [
      " - G (X): 1.6551127047628677e-08\n",
      " - F2 (X): 3.78239735672329e-08\n",
      " - COST: 2.112050762882053e-06\n",
      "\n",
      " - ITERATION: 78\n",
      " - DATA FIDELITY (X): 2.0580119484828687e-06\n"
     ]
    },
    {
     "name": "stderr",
     "output_type": "stream",
     "text": [
      " 51% (77 of 150) |###########            | Elapsed Time: 0:00:43 ETA:   0:00:42"
     ]
    },
    {
     "name": "stdout",
     "output_type": "stream",
     "text": [
      " - G (X): 5.186255531242942e-08\n",
      " - F2 (X): 3.7736711999513224e-08\n",
      " - COST: 2.1476112157948114e-06\n",
      "\n",
      " - ITERATION: 79\n",
      " - DATA FIDELITY (X): 2.0583069933102556e-06\n",
      " - G (X): 8.501887438505489e-08\n",
      " - F2 (X): 3.7682273602569455e-08\n"
     ]
    },
    {
     "name": "stderr",
     "output_type": "stream",
     "text": [
      " 52% (78 of 150) |###########            | Elapsed Time: 0:00:44 ETA:   0:00:37"
     ]
    },
    {
     "name": "stdout",
     "output_type": "stream",
     "text": [
      " - COST: 2.18100814129788e-06\n",
      "\n",
      " - ITERATION: 80\n",
      " - DATA FIDELITY (X): 2.058610447937821e-06\n"
     ]
    },
    {
     "name": "stderr",
     "output_type": "stream",
     "text": [
      " 52% (79 of 150) |############           | Elapsed Time: 0:00:44 ETA:   0:00:41"
     ]
    },
    {
     "name": "stdout",
     "output_type": "stream",
     "text": [
      " - G (X): 1.3706727239159376e-07\n",
      " - F2 (X): 3.7615945785539775e-08\n",
      " - COST: 2.233293666114954e-06\n",
      "\n",
      " - CONVERGENCE TEST - \n",
      " - CHANGE IN COST: 0.03503154869843452\n",
      "\n",
      " - ITERATION: 81\n",
      " - DATA FIDELITY (X): 2.0589051477550223e-06\n",
      " - G (X): 6.7833077721039715e-09\n",
      " - F2 (X): 3.754746796218121e-08\n"
     ]
    },
    {
     "name": "stderr",
     "output_type": "stream",
     "text": [
      " 53% (80 of 150) |############           | Elapsed Time: 0:00:45 ETA:   0:00:38"
     ]
    },
    {
     "name": "stdout",
     "output_type": "stream",
     "text": [
      " - COST: 2.1032359234893072e-06\n",
      "\n",
      " - ITERATION: 82\n",
      " - DATA FIDELITY (X): 2.0591771726597704e-06\n"
     ]
    },
    {
     "name": "stderr",
     "output_type": "stream",
     "text": [
      " 54% (81 of 150) |############           | Elapsed Time: 0:00:45 ETA:   0:00:37"
     ]
    },
    {
     "name": "stdout",
     "output_type": "stream",
     "text": [
      " - G (X): 1.8205458222802088e-08\n",
      " - F2 (X): 3.748835925930511e-08\n",
      " - COST: 2.1148709901418775e-06\n",
      "\n",
      " - ITERATION: 83\n",
      " - DATA FIDELITY (X): 2.0594371495633516e-06\n",
      " - G (X): 2.7714568731760725e-08\n"
     ]
    },
    {
     "name": "stderr",
     "output_type": "stream",
     "text": [
      " 54% (82 of 150) |############           | Elapsed Time: 0:00:46 ETA:   0:00:37"
     ]
    },
    {
     "name": "stdout",
     "output_type": "stream",
     "text": [
      " - F2 (X): 3.742452039333192e-08\n",
      " - COST: 2.124576238688444e-06\n",
      "\n",
      " - ITERATION: 84\n",
      " - DATA FIDELITY (X): 2.0597144877773697e-06\n"
     ]
    },
    {
     "name": "stderr",
     "output_type": "stream",
     "text": [
      " 55% (83 of 150) |############           | Elapsed Time: 0:00:46 ETA:   0:00:36"
     ]
    },
    {
     "name": "stdout",
     "output_type": "stream",
     "text": [
      " - G (X): 2.0042550513834533e-08\n",
      " - F2 (X): 3.735464893025937e-08\n",
      " - COST: 2.1171116872214637e-06\n",
      "\n",
      " - CONVERGENCE TEST - \n",
      " - CHANGE IN COST: 0.005559346347636998\n",
      "\n",
      " - ITERATION: 85\n",
      " - DATA FIDELITY (X): 2.0599470384055277e-06\n",
      " - G (X): 7.348451669178581e-08\n"
     ]
    },
    {
     "name": "stderr",
     "output_type": "stream",
     "text": [
      " 56% (84 of 150) |############           | Elapsed Time: 0:00:47 ETA:   0:00:36"
     ]
    },
    {
     "name": "stdout",
     "output_type": "stream",
     "text": [
      " - F2 (X): 3.731281366994562e-08\n",
      " - COST: 2.170744368767259e-06\n",
      "\n",
      " - ITERATION: 86\n",
      " - DATA FIDELITY (X): 2.0601928432575744e-06\n"
     ]
    },
    {
     "name": "stderr",
     "output_type": "stream",
     "text": [
      " 56% (85 of 150) |#############          | Elapsed Time: 0:00:47 ETA:   0:00:36"
     ]
    },
    {
     "name": "stdout",
     "output_type": "stream",
     "text": [
      " - G (X): 3.763481532562117e-09\n",
      " - F2 (X): 3.725348250461509e-08\n",
      " - COST: 2.101209807294752e-06\n",
      "\n",
      " - ITERATION: 87\n",
      " - DATA FIDELITY (X): 2.0604127434493543e-06\n",
      " - G (X): 2.5627772773565362e-08\n",
      " - F2 (X): 3.721223164738747e-08\n"
     ]
    },
    {
     "name": "stderr",
     "output_type": "stream",
     "text": [
      " 57% (86 of 150) |#############          | Elapsed Time: 0:00:48 ETA:   0:00:35"
     ]
    },
    {
     "name": "stdout",
     "output_type": "stream",
     "text": [
      " - COST: 2.123252747870307e-06\n",
      "\n",
      " - ITERATION: 88\n",
      " - DATA FIDELITY (X): 2.060641225198649e-06\n"
     ]
    },
    {
     "name": "stderr",
     "output_type": "stream",
     "text": [
      " 57% (87 of 150) |#############          | Elapsed Time: 0:00:49 ETA:   0:00:35"
     ]
    },
    {
     "name": "stdout",
     "output_type": "stream",
     "text": [
      " - G (X): 1.16047575373004e-08\n",
      " - F2 (X): 3.7157799002371943e-08\n",
      " - COST: 2.109403781738321e-06\n",
      "\n",
      " - CONVERGENCE TEST - \n",
      " - CHANGE IN COST: 0.00928439295238927\n",
      "\n",
      " - ITERATION: 89\n",
      " - DATA FIDELITY (X): 2.0608540434603432e-06\n",
      " - G (X): 2.863090282088949e-08\n",
      " - F2 (X): 3.711232072597819e-08\n"
     ]
    },
    {
     "name": "stderr",
     "output_type": "stream",
     "text": [
      " 58% (88 of 150) |#############          | Elapsed Time: 0:00:49 ETA:   0:00:34"
     ]
    },
    {
     "name": "stdout",
     "output_type": "stream",
     "text": [
      " - COST: 2.126597267007211e-06\n",
      "\n",
      " - ITERATION: 90\n",
      " - DATA FIDELITY (X): 2.0610751659554308e-06\n"
     ]
    },
    {
     "name": "stderr",
     "output_type": "stream",
     "text": [
      " 59% (89 of 150) |#############          | Elapsed Time: 0:00:50 ETA:   0:00:33"
     ]
    },
    {
     "name": "stdout",
     "output_type": "stream",
     "text": [
      " - G (X): 1.511721745530499e-08\n",
      " - F2 (X): 3.705765419498182e-08\n",
      " - COST: 2.1132500376057176e-06\n",
      "\n",
      " - ITERATION: 91\n",
      " - DATA FIDELITY (X): 2.0612737819499823e-06\n",
      " - G (X): 6.995776767109323e-08\n"
     ]
    },
    {
     "name": "stderr",
     "output_type": "stream",
     "text": [
      " 60% (90 of 150) |#############          | Elapsed Time: 0:00:50 ETA:   0:00:33"
     ]
    },
    {
     "name": "stdout",
     "output_type": "stream",
     "text": [
      " - F2 (X): 3.7022612205373344e-08\n",
      " - COST: 2.168254161826449e-06\n",
      "\n",
      " - ITERATION: 92\n",
      " - DATA FIDELITY (X): 2.0614714579071373e-06\n"
     ]
    },
    {
     "name": "stderr",
     "output_type": "stream",
     "text": [
      " 60% (91 of 150) |#############          | Elapsed Time: 0:00:51 ETA:   0:00:32"
     ]
    },
    {
     "name": "stdout",
     "output_type": "stream",
     "text": [
      " - G (X): 2.876629165918436e-08\n",
      " - F2 (X): 3.6985414118131823e-08\n",
      " - COST: 2.1272231636844534e-06\n",
      "\n",
      " - CONVERGENCE TEST - \n",
      " - CHANGE IN COST: 0.01295083565395325\n",
      "\n",
      " - ITERATION: 93\n",
      " - DATA FIDELITY (X): 2.061666910294242e-06\n",
      " - G (X): 3.14943429014801e-08\n",
      " - F2 (X): 3.694737802949378e-08\n"
     ]
    },
    {
     "name": "stderr",
     "output_type": "stream",
     "text": [
      " 61% (92 of 150) |##############         | Elapsed Time: 0:00:51 ETA:   0:00:31"
     ]
    },
    {
     "name": "stdout",
     "output_type": "stream",
     "text": [
      " - COST: 2.130108631225216e-06\n",
      "\n",
      " - ITERATION: 94\n",
      " - DATA FIDELITY (X): 2.0618659690513283e-06\n"
     ]
    },
    {
     "name": "stderr",
     "output_type": "stream",
     "text": [
      " 62% (93 of 150) |##############         | Elapsed Time: 0:00:52 ETA:   0:00:31"
     ]
    },
    {
     "name": "stdout",
     "output_type": "stream",
     "text": [
      " - G (X): 7.450932809089259e-08\n",
      " - F2 (X): 3.6907292213436965e-08\n",
      " - COST: 2.1732825893556576e-06\n",
      "\n",
      " - ITERATION: 95\n",
      " - DATA FIDELITY (X): 2.0620464348286845e-06\n",
      " - G (X): 6.017811010817337e-08\n",
      " - F2 (X): 3.6868928308390145e-08\n"
     ]
    },
    {
     "name": "stderr",
     "output_type": "stream",
     "text": [
      " 62% (94 of 150) |##############         | Elapsed Time: 0:00:52 ETA:   0:00:30"
     ]
    },
    {
     "name": "stdout",
     "output_type": "stream",
     "text": [
      " - COST: 2.159093473245248e-06\n",
      "\n",
      " - ITERATION: 96\n",
      " - DATA FIDELITY (X): 2.062235859592031e-06\n"
     ]
    },
    {
     "name": "stderr",
     "output_type": "stream",
     "text": [
      " 63% (95 of 150) |##############         | Elapsed Time: 0:00:53 ETA:   0:00:28"
     ]
    },
    {
     "name": "stdout",
     "output_type": "stream",
     "text": [
      " - G (X): 1.4671552722785053e-09\n",
      " - F2 (X): 3.6823441048124716e-08\n",
      " - COST: 2.100526455912434e-06\n",
      "\n",
      " - CONVERGENCE TEST - \n",
      " - CHANGE IN COST: 0.010275867835900383\n",
      "\n",
      " - ITERATION: 97\n",
      " - DATA FIDELITY (X): 2.0623809300074247e-06\n"
     ]
    },
    {
     "name": "stderr",
     "output_type": "stream",
     "text": [
      " 64% (96 of 150) |##############         | Elapsed Time: 0:00:53 ETA:   0:00:31"
     ]
    },
    {
     "name": "stdout",
     "output_type": "stream",
     "text": [
      " - G (X): 8.908200605190096e-09\n",
      " - F2 (X): 3.680250466715487e-08\n",
      " - COST: 2.1080916352797695e-06\n",
      "\n",
      " - ITERATION: 98\n",
      " - DATA FIDELITY (X): 2.0625637608679917e-06\n",
      " - G (X): 3.008211946291789e-09\n",
      " - F2 (X): 3.6759040385725005e-08\n"
     ]
    },
    {
     "name": "stderr",
     "output_type": "stream",
     "text": [
      " 64% (97 of 150) |##############         | Elapsed Time: 0:00:54 ETA:   0:00:27"
     ]
    },
    {
     "name": "stdout",
     "output_type": "stream",
     "text": [
      " - COST: 2.1023310132000085e-06\n",
      "\n",
      " - ITERATION: 99\n",
      " - DATA FIDELITY (X): 2.0627022561373975e-06\n"
     ]
    },
    {
     "name": "stderr",
     "output_type": "stream",
     "text": [
      " 65% (98 of 150) |###############        | Elapsed Time: 0:00:55 ETA:   0:00:30"
     ]
    },
    {
     "name": "stdout",
     "output_type": "stream",
     "text": [
      " - G (X): 1.0850073506774741e-07\n",
      " - F2 (X): 3.674044417983103e-08\n",
      " - COST: 2.2079434353849762e-06\n",
      "\n",
      " - ITERATION: 100\n",
      " - DATA FIDELITY (X): 2.0628723031743408e-06\n",
      " - G (X): 8.31358151858056e-09\n"
     ]
    },
    {
     "name": "stderr",
     "output_type": "stream",
     "text": [
      " 66% (99 of 150) |###############        | Elapsed Time: 0:00:55 ETA:   0:00:28"
     ]
    },
    {
     "name": "stdout",
     "output_type": "stream",
     "text": [
      " - F2 (X): 3.6699785639378425e-08\n",
      " - COST: 2.1078856703323e-06\n",
      "\n",
      " - CONVERGENCE TEST - \n",
      " - CHANGE IN COST: 0.024423223129447898\n",
      "\n",
      " - ITERATION: 101\n",
      " - DATA FIDELITY (X): 2.0629996236459757e-06\n"
     ]
    },
    {
     "name": "stderr",
     "output_type": "stream",
     "text": [
      " 66% (100 of 150) |##############        | Elapsed Time: 0:00:56 ETA:   0:00:27"
     ]
    },
    {
     "name": "stdout",
     "output_type": "stream",
     "text": [
      " - G (X): 1.1721426382793455e-07\n",
      " - F2 (X): 3.6681263109735015e-08\n",
      " - COST: 2.2168951505836454e-06\n",
      "\n",
      " - ITERATION: 102\n",
      " - DATA FIDELITY (X): 2.0631493102786803e-06\n",
      " - G (X): 4.383251804195459e-08\n"
     ]
    },
    {
     "name": "stderr",
     "output_type": "stream",
     "text": [
      " 67% (101 of 150) |##############        | Elapsed Time: 0:00:56 ETA:   0:00:27"
     ]
    },
    {
     "name": "stdout",
     "output_type": "stream",
     "text": [
      " - F2 (X): 3.6650199847279686e-08\n",
      " - COST: 2.143632028167915e-06\n",
      "\n",
      " - ITERATION: 103\n",
      " - DATA FIDELITY (X): 2.0632923341276035e-06\n"
     ]
    },
    {
     "name": "stderr",
     "output_type": "stream",
     "text": [
      " 68% (102 of 150) |##############        | Elapsed Time: 0:00:57 ETA:   0:00:26"
     ]
    },
    {
     "name": "stdout",
     "output_type": "stream",
     "text": [
      " - G (X): 7.948628726282012e-08\n",
      " - F2 (X): 3.661727888395904e-08\n",
      " - COST: 2.1793959002743826e-06\n",
      "\n",
      " - ITERATION: 104\n",
      " - DATA FIDELITY (X): 2.0634260613018194e-06\n"
     ]
    },
    {
     "name": "stderr",
     "output_type": "stream",
     "text": [
      " 68% (103 of 150) |###############       | Elapsed Time: 0:00:57 ETA:   0:00:26"
     ]
    },
    {
     "name": "stdout",
     "output_type": "stream",
     "text": [
      " - G (X): 5.769466086248904e-08\n",
      " - F2 (X): 3.659433254502669e-08\n",
      " - COST: 2.1577150547093353e-06\n",
      "\n",
      " - CONVERGENCE TEST - \n",
      " - CHANGE IN COST: 0.005399037287929062\n",
      "\n",
      " - ITERATION: 105\n",
      " - DATA FIDELITY (X): 2.0635565940050563e-06\n"
     ]
    },
    {
     "name": "stderr",
     "output_type": "stream",
     "text": [
      " 69% (104 of 150) |###############       | Elapsed Time: 0:00:58 ETA:   0:00:25"
     ]
    },
    {
     "name": "stdout",
     "output_type": "stream",
     "text": [
      " - G (X): 6.454336284362364e-08\n",
      " - F2 (X): 3.6565910214760865e-08\n",
      " - COST: 2.164665867063441e-06\n",
      "\n",
      " - ITERATION: 106\n",
      " - DATA FIDELITY (X): 2.063688839906869e-06\n",
      " - G (X): 2.577093398594173e-08\n",
      " - F2 (X): 3.6541275688529056e-08\n"
     ]
    },
    {
     "name": "stderr",
     "output_type": "stream",
     "text": [
      " 70% (105 of 150) |###############       | Elapsed Time: 0:00:58 ETA:   0:00:24"
     ]
    },
    {
     "name": "stdout",
     "output_type": "stream",
     "text": [
      " - COST: 2.1260010495813403e-06\n",
      "\n",
      " - ITERATION: 107\n",
      " - DATA FIDELITY (X): 2.063815189418873e-06\n"
     ]
    },
    {
     "name": "stderr",
     "output_type": "stream",
     "text": [
      " 70% (106 of 150) |###############       | Elapsed Time: 0:00:59 ETA:   0:00:24"
     ]
    },
    {
     "name": "stdout",
     "output_type": "stream",
     "text": [
      " - G (X): 2.2344954227580635e-08\n",
      " - F2 (X): 3.650601871862681e-08\n",
      " - COST: 2.122666162365081e-06\n",
      "\n",
      " - ITERATION: 108\n",
      " - DATA FIDELITY (X): 2.063922767323402e-06\n",
      " - G (X): 5.23825769649761e-08\n",
      " - F2 (X): 3.6493088654370145e-08\n"
     ]
    },
    {
     "name": "stderr",
     "output_type": "stream",
     "text": [
      " 71% (107 of 150) |###############       | Elapsed Time: 0:01:00 ETA:   0:00:23"
     ]
    },
    {
     "name": "stdout",
     "output_type": "stream",
     "text": [
      " - COST: 2.1527984329427483e-06\n",
      "\n",
      " - CONVERGENCE TEST - \n",
      " - CHANGE IN COST: 0.003555712133281602\n",
      "\n",
      " - ITERATION: 109\n",
      " - DATA FIDELITY (X): 2.064027357805867e-06\n"
     ]
    },
    {
     "name": "stderr",
     "output_type": "stream",
     "text": [
      " 72% (108 of 150) |###############       | Elapsed Time: 0:01:00 ETA:   0:00:22"
     ]
    },
    {
     "name": "stdout",
     "output_type": "stream",
     "text": [
      " - G (X): 7.397344892811262e-08\n",
      " - F2 (X): 3.6475846085298765e-08\n",
      " - COST: 2.174476652819278e-06\n",
      "\n",
      " - ITERATION: 110\n",
      " - DATA FIDELITY (X): 2.064150701887804e-06\n",
      " - G (X): 3.2529317878066055e-08\n"
     ]
    },
    {
     "name": "stderr",
     "output_type": "stream",
     "text": [
      " 72% (109 of 150) |###############       | Elapsed Time: 0:01:01 ETA:   0:00:22"
     ]
    },
    {
     "name": "stdout",
     "output_type": "stream",
     "text": [
      " - F2 (X): 3.644570749757807e-08\n",
      " - COST: 2.1331257272634482e-06\n",
      "\n",
      " - ITERATION: 111\n",
      " - DATA FIDELITY (X): 2.0642633859783586e-06\n"
     ]
    },
    {
     "name": "stderr",
     "output_type": "stream",
     "text": [
      " 73% (110 of 150) |################      | Elapsed Time: 0:01:01 ETA:   0:00:22"
     ]
    },
    {
     "name": "stdout",
     "output_type": "stream",
     "text": [
      " - G (X): 1.1133607229400967e-07\n",
      " - F2 (X): 3.642045733637951e-08\n",
      " - COST: 2.2120199156087474e-06\n",
      "\n",
      " - ITERATION: 112\n",
      " - DATA FIDELITY (X): 2.064373924161038e-06\n",
      " - G (X): 5.607334473921311e-08\n",
      " - F2 (X): 3.640021700898377e-08\n"
     ]
    },
    {
     "name": "stderr",
     "output_type": "stream",
     "text": [
      " 74% (111 of 150) |################      | Elapsed Time: 0:01:02 ETA:   0:00:21"
     ]
    },
    {
     "name": "stdout",
     "output_type": "stream",
     "text": [
      " - COST: 2.1568474859092344e-06\n",
      "\n",
      " - CONVERGENCE TEST - \n",
      " - CHANGE IN COST: 0.014023090152374353\n",
      "\n",
      " - ITERATION: 113\n",
      " - DATA FIDELITY (X): 2.0644619849562147e-06\n"
     ]
    },
    {
     "name": "stderr",
     "output_type": "stream",
     "text": [
      " 74% (112 of 150) |################      | Elapsed Time: 0:01:02 ETA:   0:00:21"
     ]
    },
    {
     "name": "stdout",
     "output_type": "stream",
     "text": [
      " - G (X): 5.983397439366862e-08\n",
      " - F2 (X): 3.6385743569797204e-08\n",
      " - COST: 2.1606817029196807e-06\n",
      "\n",
      " - ITERATION: 114\n",
      " - DATA FIDELITY (X): 2.0645728185118984e-06\n",
      " - G (X): 1.8216768906979824e-08\n",
      " - F2 (X): 3.636075964914044e-08\n"
     ]
    },
    {
     "name": "stderr",
     "output_type": "stream",
     "text": [
      " 75% (113 of 150) |################      | Elapsed Time: 0:01:03 ETA:   0:00:20"
     ]
    },
    {
     "name": "stdout",
     "output_type": "stream",
     "text": [
      " - COST: 2.119150347068019e-06\n",
      "\n",
      " - ITERATION: 115\n",
      " - DATA FIDELITY (X): 2.064658835978337e-06\n"
     ]
    },
    {
     "name": "stderr",
     "output_type": "stream",
     "text": [
      " 76% (114 of 150) |################      | Elapsed Time: 0:01:03 ETA:   0:00:18"
     ]
    },
    {
     "name": "stdout",
     "output_type": "stream",
     "text": [
      " - G (X): 4.364374198113439e-08\n",
      " - F2 (X): 3.635013519910683e-08\n",
      " - COST: 2.1446527131585784e-06\n",
      "\n",
      " - ITERATION: 116\n",
      " - DATA FIDELITY (X): 2.0647701416367084e-06\n"
     ]
    },
    {
     "name": "stderr",
     "output_type": "stream",
     "text": [
      " 76% (115 of 150) |################      | Elapsed Time: 0:01:04 ETA:   0:00:19"
     ]
    },
    {
     "name": "stdout",
     "output_type": "stream",
     "text": [
      " - G (X): 2.782106605672126e-08\n",
      " - F2 (X): 3.6318356096923435e-08\n",
      " - COST: 2.128909563790353e-06\n",
      "\n",
      " - CONVERGENCE TEST - \n",
      " - CHANGE IN COST: 0.001467106978313153\n",
      "\n",
      " - ITERATION: 117\n",
      " - DATA FIDELITY (X): 2.0648482649325416e-06\n",
      " - G (X): 7.029997459854424e-08\n"
     ]
    },
    {
     "name": "stderr",
     "output_type": "stream",
     "text": [
      " 77% (116 of 150) |#################     | Elapsed Time: 0:01:04 ETA:   0:00:17"
     ]
    },
    {
     "name": "stdout",
     "output_type": "stream",
     "text": [
      " - F2 (X): 3.631364532780916e-08\n",
      " - COST: 2.171461884858895e-06\n",
      "\n",
      " - ITERATION: 118\n",
      " - DATA FIDELITY (X): 2.0649567491062237e-06\n"
     ]
    },
    {
     "name": "stderr",
     "output_type": "stream",
     "text": [
      " 78% (117 of 150) |#################     | Elapsed Time: 0:01:05 ETA:   0:00:19"
     ]
    },
    {
     "name": "stdout",
     "output_type": "stream",
     "text": [
      " - G (X): 7.827035962680813e-08\n",
      " - F2 (X): 3.6288347625182957e-08\n",
      " - COST: 2.1795154563582147e-06\n",
      "\n",
      " - ITERATION: 119\n",
      " - DATA FIDELITY (X): 2.0650326057682713e-06\n",
      " - G (X): 2.8055718754622716e-09\n",
      " - F2 (X): 3.627830670951131e-08\n"
     ]
    },
    {
     "name": "stderr",
     "output_type": "stream",
     "text": [
      " 78% (118 of 150) |#################     | Elapsed Time: 0:01:06 ETA:   0:00:17"
     ]
    },
    {
     "name": "stdout",
     "output_type": "stream",
     "text": [
      " - COST: 2.104116484353245e-06\n",
      "\n",
      " - ITERATION: 120\n",
      " - DATA FIDELITY (X): 2.0651181663407113e-06\n"
     ]
    },
    {
     "name": "stderr",
     "output_type": "stream",
     "text": [
      " 79% (119 of 150) |#################     | Elapsed Time: 0:01:06 ETA:   0:00:16"
     ]
    },
    {
     "name": "stdout",
     "output_type": "stream",
     "text": [
      " - G (X): 2.589934804541821e-08\n",
      " - F2 (X): 3.6263145086851954e-08\n",
      " - COST: 2.1272806594729813e-06\n",
      "\n",
      " - CONVERGENCE TEST - \n",
      " - CHANGE IN COST: 0.02826021602943953\n",
      "\n",
      " - ITERATION: 121\n",
      " - DATA FIDELITY (X): 2.0651938934672623e-06\n",
      " - G (X): 7.084865143964894e-08\n"
     ]
    },
    {
     "name": "stderr",
     "output_type": "stream",
     "text": [
      " 80% (120 of 150) |#################     | Elapsed Time: 0:01:07 ETA:   0:00:16"
     ]
    },
    {
     "name": "stdout",
     "output_type": "stream",
     "text": [
      " - F2 (X): 3.624851393270917e-08\n",
      " - COST: 2.1722910588396205e-06\n",
      "\n",
      " - ITERATION: 122\n",
      " - DATA FIDELITY (X): 2.065279277454111e-06\n"
     ]
    },
    {
     "name": "stderr",
     "output_type": "stream",
     "text": [
      " 80% (121 of 150) |#################     | Elapsed Time: 0:01:07 ETA:   0:00:15"
     ]
    },
    {
     "name": "stdout",
     "output_type": "stream",
     "text": [
      " - G (X): 5.399643038870928e-08\n",
      " - F2 (X): 3.6227358307017765e-08\n",
      " - COST: 2.155503066149838e-06\n",
      "\n",
      " - ITERATION: 123\n",
      " - DATA FIDELITY (X): 2.0653478764671475e-06\n",
      " - G (X): 1.1447037121038455e-07\n"
     ]
    },
    {
     "name": "stderr",
     "output_type": "stream",
     "text": [
      " 81% (122 of 150) |#################     | Elapsed Time: 0:01:08 ETA:   0:00:15"
     ]
    },
    {
     "name": "stdout",
     "output_type": "stream",
     "text": [
      " - F2 (X): 3.621647030007534e-08\n",
      " - COST: 2.2160347179776074e-06\n",
      "\n",
      " - ITERATION: 124\n",
      " - DATA FIDELITY (X): 2.065436245132546e-06\n"
     ]
    },
    {
     "name": "stderr",
     "output_type": "stream",
     "text": [
      " 82% (123 of 150) |##################    | Elapsed Time: 0:01:08 ETA:   0:00:14"
     ]
    },
    {
     "name": "stdout",
     "output_type": "stream",
     "text": [
      " - G (X): 8.22916607133407e-09\n",
      " - F2 (X): 3.6192156504239905e-08\n",
      " - COST: 2.1098575677081202e-06\n",
      "\n",
      " - CONVERGENCE TEST - \n",
      " - CHANGE IN COST: 0.00043964092911519395\n",
      "\n",
      " - ITERATION: 125\n",
      " - DATA FIDELITY (X): 2.0654892744011427e-06\n",
      " - G (X): 3.1317397788128753e-08\n"
     ]
    },
    {
     "name": "stderr",
     "output_type": "stream",
     "text": [
      " 82% (124 of 150) |##################    | Elapsed Time: 0:01:09 ETA:   0:00:14"
     ]
    },
    {
     "name": "stdout",
     "output_type": "stream",
     "text": [
      " - F2 (X): 3.6191333570399544e-08\n",
      " - COST: 2.1329980057596713e-06\n",
      "\n",
      " - ITERATION: 126\n",
      " - DATA FIDELITY (X): 2.065558086293668e-06\n"
     ]
    },
    {
     "name": "stderr",
     "output_type": "stream",
     "text": [
      " 83% (125 of 150) |##################    | Elapsed Time: 0:01:09 ETA:   0:00:13"
     ]
    },
    {
     "name": "stdout",
     "output_type": "stream",
     "text": [
      " - G (X): 6.748348222432956e-09\n",
      " - F2 (X): 3.618198988697238e-08\n",
      " - COST: 2.108488424403073e-06\n",
      "\n",
      " - ITERATION: 127\n",
      " - DATA FIDELITY (X): 2.0656262245077226e-06\n",
      " - G (X): 1.1757152010026037e-08\n"
     ]
    },
    {
     "name": "stderr",
     "output_type": "stream",
     "text": [
      " 84% (126 of 150) |##################    | Elapsed Time: 0:01:10 ETA:   0:00:13"
     ]
    },
    {
     "name": "stdout",
     "output_type": "stream",
     "text": [
      " - F2 (X): 3.617079466723204e-08\n",
      " - COST: 2.1135541711849804e-06\n",
      "\n",
      " - ITERATION: 128\n",
      " - DATA FIDELITY (X): 2.0656968062650095e-06\n"
     ]
    },
    {
     "name": "stderr",
     "output_type": "stream",
     "text": [
      " 84% (127 of 150) |##################    | Elapsed Time: 0:01:10 ETA:   0:00:12"
     ]
    },
    {
     "name": "stdout",
     "output_type": "stream",
     "text": [
      " - G (X): 1.3518077320343174e-08\n",
      " - F2 (X): 3.61543043167073e-08\n",
      " - COST: 2.11536918790206e-06\n",
      "\n",
      " - CONVERGENCE TEST - \n",
      " - CHANGE IN COST: 0.0029707492921831214\n",
      "\n",
      " - ITERATION: 129\n",
      " - DATA FIDELITY (X): 2.065751299777573e-06\n",
      " - G (X): 2.7914234043370714e-08\n",
      " - F2 (X): 3.61495061645515e-08\n"
     ]
    },
    {
     "name": "stderr",
     "output_type": "stream",
     "text": [
      " 85% (128 of 150) |##################    | Elapsed Time: 0:01:11 ETA:   0:00:12"
     ]
    },
    {
     "name": "stdout",
     "output_type": "stream",
     "text": [
      " - COST: 2.1298150399854953e-06\n",
      "\n",
      " - ITERATION: 130\n",
      " - DATA FIDELITY (X): 2.0658168671259323e-06\n"
     ]
    },
    {
     "name": "stderr",
     "output_type": "stream",
     "text": [
      " 86% (129 of 150) |##################    | Elapsed Time: 0:01:12 ETA:   0:00:11"
     ]
    },
    {
     "name": "stdout",
     "output_type": "stream",
     "text": [
      " - G (X): 7.431944325322917e-08\n",
      " - F2 (X): 3.613927376548416e-08\n",
      " - COST: 2.1762755841446455e-06\n",
      "\n",
      " - ITERATION: 131\n",
      " - DATA FIDELITY (X): 2.065876774353592e-06\n",
      " - G (X): 2.7900299726101154e-08\n"
     ]
    },
    {
     "name": "stderr",
     "output_type": "stream",
     "text": [
      " 86% (130 of 150) |###################   | Elapsed Time: 0:01:12 ETA:   0:00:10"
     ]
    },
    {
     "name": "stdout",
     "output_type": "stream",
     "text": [
      " - F2 (X): 3.612752201629108e-08\n",
      " - COST: 2.1299045960959844e-06\n",
      "\n",
      " - ITERATION: 132\n",
      " - DATA FIDELITY (X): 2.0659395697717045e-06\n"
     ]
    },
    {
     "name": "stderr",
     "output_type": "stream",
     "text": [
      " 87% (131 of 150) |###################   | Elapsed Time: 0:01:13 ETA:   0:00:10"
     ]
    },
    {
     "name": "stdout",
     "output_type": "stream",
     "text": [
      " - G (X): 5.834282557661889e-09\n",
      " - F2 (X): 3.61184515605263e-08\n",
      " - COST: 2.1078923038898927e-06\n",
      "\n",
      " - CONVERGENCE TEST - \n",
      " - CHANGE IN COST: 0.0161153839497337\n",
      "\n",
      " - ITERATION: 133\n",
      " - DATA FIDELITY (X): 2.065998683838636e-06\n",
      " - G (X): 3.802883189787227e-08\n",
      " - F2 (X): 3.610554306908237e-08\n"
     ]
    },
    {
     "name": "stderr",
     "output_type": "stream",
     "text": [
      " 88% (132 of 150) |###################   | Elapsed Time: 0:01:13 ETA:   0:00:09"
     ]
    },
    {
     "name": "stdout",
     "output_type": "stream",
     "text": [
      " - COST: 2.1401330588055905e-06\n",
      "\n",
      " - ITERATION: 134\n",
      " - DATA FIDELITY (X): 2.066066283035379e-06\n"
     ]
    },
    {
     "name": "stderr",
     "output_type": "stream",
     "text": [
      " 88% (133 of 150) |###################   | Elapsed Time: 0:01:14 ETA:   0:00:08"
     ]
    },
    {
     "name": "stdout",
     "output_type": "stream",
     "text": [
      " - G (X): 6.816347481536184e-09\n",
      " - F2 (X): 3.608296693636988e-08\n",
      " - COST: 2.108965597453285e-06\n",
      "\n",
      " - ITERATION: 135\n",
      " - DATA FIDELITY (X): 2.066115932338673e-06\n"
     ]
    },
    {
     "name": "stderr",
     "output_type": "stream",
     "text": [
      " 89% (134 of 150) |###################   | Elapsed Time: 0:01:14 ETA:   0:00:09"
     ]
    },
    {
     "name": "stdout",
     "output_type": "stream",
     "text": [
      " - G (X): 3.574529215915145e-08\n",
      " - F2 (X): 3.6078613481772535e-08\n",
      " - COST: 2.1379398379795973e-06\n",
      "\n",
      " - ITERATION: 136\n",
      " - DATA FIDELITY (X): 2.066176177037051e-06\n",
      " - G (X): 9.890507264993089e-08\n"
     ]
    },
    {
     "name": "stderr",
     "output_type": "stream",
     "text": [
      " 90% (135 of 150) |###################   | Elapsed Time: 0:01:15 ETA:   0:00:07"
     ]
    },
    {
     "name": "stdout",
     "output_type": "stream",
     "text": [
      " - F2 (X): 3.606189602003704e-08\n",
      " - COST: 2.201143145707019e-06\n",
      "\n",
      " - CONVERGENCE TEST - \n",
      " - CHANGE IN COST: 0.020738097834507797\n",
      "\n",
      " - ITERATION: 137\n",
      " - DATA FIDELITY (X): 2.0662291905099973e-06\n"
     ]
    },
    {
     "name": "stderr",
     "output_type": "stream",
     "text": [
      " 90% (136 of 150) |###################   | Elapsed Time: 0:01:15 ETA:   0:00:08"
     ]
    },
    {
     "name": "stdout",
     "output_type": "stream",
     "text": [
      " - G (X): 1.5351213274004721e-09\n",
      " - F2 (X): 3.605389373273577e-08\n",
      " - COST: 2.1038182055701336e-06\n",
      "\n",
      " - ITERATION: 138\n",
      " - DATA FIDELITY (X): 2.066283812179948e-06\n",
      " - G (X): 5.8834709877071866e-08\n",
      " - F2 (X): 3.604403753377511e-08\n"
     ]
    },
    {
     "name": "stderr",
     "output_type": "stream",
     "text": [
      " 91% (137 of 150) |####################  | Elapsed Time: 0:01:16 ETA:   0:00:07"
     ]
    },
    {
     "name": "stdout",
     "output_type": "stream",
     "text": [
      " - COST: 2.1611625595907953e-06\n",
      "\n",
      " - ITERATION: 139\n",
      " - DATA FIDELITY (X): 2.066334520531888e-06\n"
     ]
    },
    {
     "name": "stderr",
     "output_type": "stream",
     "text": [
      " 92% (138 of 150) |####################  | Elapsed Time: 0:01:17 ETA:   0:00:06"
     ]
    },
    {
     "name": "stdout",
     "output_type": "stream",
     "text": [
      " - G (X): 6.268326356958498e-08\n",
      " - F2 (X): 3.6037671773856255e-08\n",
      " - COST: 2.165055455875329e-06\n",
      "\n",
      " - ITERATION: 140\n",
      " - DATA FIDELITY (X): 2.0663814417552825e-06\n",
      " - G (X): 6.138374080879425e-08\n",
      " - F2 (X): 3.602701822760128e-08\n"
     ]
    },
    {
     "name": "stderr",
     "output_type": "stream",
     "text": [
      " 92% (139 of 150) |####################  | Elapsed Time: 0:01:17 ETA:   0:00:06"
     ]
    },
    {
     "name": "stdout",
     "output_type": "stream",
     "text": [
      " - COST: 2.163792200791678e-06\n",
      "\n",
      " - CONVERGENCE TEST - \n",
      " - CHANGE IN COST: 0.01475378589674198\n",
      "\n",
      " - ITERATION: 141\n",
      " - DATA FIDELITY (X): 2.0664333715547476e-06\n"
     ]
    },
    {
     "name": "stderr",
     "output_type": "stream",
     "text": [
      " 93% (140 of 150) |####################  | Elapsed Time: 0:01:18 ETA:   0:00:05"
     ]
    },
    {
     "name": "stdout",
     "output_type": "stream",
     "text": [
      " - G (X): 4.6943388878294786e-08\n",
      " - F2 (X): 3.6020359027423035e-08\n",
      " - COST: 2.1493971194604653e-06\n",
      "\n",
      " - ITERATION: 142\n",
      " - DATA FIDELITY (X): 2.0664947494301385e-06\n",
      " - G (X): 1.5768588888624205e-08\n"
     ]
    },
    {
     "name": "stderr",
     "output_type": "stream",
     "text": [
      " 94% (141 of 150) |####################  | Elapsed Time: 0:01:18 ETA:   0:00:04"
     ]
    },
    {
     "name": "stdout",
     "output_type": "stream",
     "text": [
      " - F2 (X): 3.599899944745909e-08\n",
      " - COST: 2.118262337766222e-06\n",
      "\n",
      " - ITERATION: 143\n",
      " - DATA FIDELITY (X): 2.06652742121577e-06\n"
     ]
    },
    {
     "name": "stderr",
     "output_type": "stream",
     "text": [
      " 94% (142 of 150) |####################  | Elapsed Time: 0:01:19 ETA:   0:00:04"
     ]
    },
    {
     "name": "stdout",
     "output_type": "stream",
     "text": [
      " - G (X): 2.973523446287641e-08\n",
      " - F2 (X): 3.6003564725349825e-08\n",
      " - COST: 2.1322662204039964e-06\n",
      "\n",
      " - ITERATION: 144\n",
      " - DATA FIDELITY (X): 2.066586217126379e-06\n",
      " - G (X): 7.120125361918272e-08\n",
      " - F2 (X): 3.5990345653333705e-08\n"
     ]
    },
    {
     "name": "stderr",
     "output_type": "stream",
     "text": [
      " 95% (143 of 150) |####################  | Elapsed Time: 0:01:19 ETA:   0:00:03"
     ]
    },
    {
     "name": "stdout",
     "output_type": "stream",
     "text": [
      " - COST: 2.1737778163988956e-06\n",
      "\n",
      " - CONVERGENCE TEST - \n",
      " - CHANGE IN COST: 0.008914116820018437\n",
      "\n",
      " - ITERATION: 145\n",
      " - DATA FIDELITY (X): 2.0666261161702508e-06\n"
     ]
    },
    {
     "name": "stderr",
     "output_type": "stream",
     "text": [
      " 96% (144 of 150) |##################### | Elapsed Time: 0:01:20 ETA:   0:00:03"
     ]
    },
    {
     "name": "stdout",
     "output_type": "stream",
     "text": [
      " - G (X): 1.0716523964476026e-07\n",
      " - F2 (X): 3.5986726946614854e-08\n",
      " - COST: 2.209778082761626e-06\n",
      "\n",
      " - ITERATION: 146\n",
      " - DATA FIDELITY (X): 2.066672606349713e-06\n",
      " - G (X): 7.473610692113183e-08\n",
      " - F2 (X): 3.597718919167286e-08\n"
     ]
    },
    {
     "name": "stderr",
     "output_type": "stream",
     "text": [
      " 96% (145 of 150) |##################### | Elapsed Time: 0:01:20 ETA:   0:00:02"
     ]
    },
    {
     "name": "stdout",
     "output_type": "stream",
     "text": [
      " - COST: 2.1773859024625177e-06\n",
      "\n",
      " - ITERATION: 147\n",
      " - DATA FIDELITY (X): 2.0667259371150377e-06\n"
     ]
    },
    {
     "name": "stderr",
     "output_type": "stream",
     "text": [
      " 97% (146 of 150) |##################### | Elapsed Time: 0:01:21 ETA:   0:00:02"
     ]
    },
    {
     "name": "stdout",
     "output_type": "stream",
     "text": [
      " - G (X): 5.6444564403602584e-08\n",
      " - F2 (X): 3.5959303964364386e-08\n",
      " - COST: 2.1591298054830047e-06\n",
      "\n",
      " - ITERATION: 148\n",
      " - DATA FIDELITY (X): 2.066770036645592e-06\n",
      " - G (X): 1.4066644424970313e-08\n",
      " - F2 (X): 3.5950100960658354e-08\n"
     ]
    },
    {
     "name": "stderr",
     "output_type": "stream",
     "text": [
      " 98% (147 of 150) |##################### | Elapsed Time: 0:01:21 ETA:   0:00:01"
     ]
    },
    {
     "name": "stdout",
     "output_type": "stream",
     "text": [
      " - COST: 2.1167867820312203e-06\n",
      "\n",
      " - CONVERGENCE TEST - \n",
      " - CHANGE IN COST: 0.026017204833874298\n",
      "\n",
      " - ITERATION: 149\n",
      " - DATA FIDELITY (X): 2.0668190444926842e-06\n"
     ]
    },
    {
     "name": "stderr",
     "output_type": "stream",
     "text": [
      "100% (150 of 150) |######################| Elapsed Time: 0:01:22 Time:  0:01:22\n"
     ]
    },
    {
     "name": "stdout",
     "output_type": "stream",
     "text": [
      " - G (X): 6.6406726299256264e-09\n",
      " - F2 (X): 3.593534409417198e-08\n",
      " - COST: 2.109395061216782e-06\n",
      "\n",
      " - ITERATION: 150\n",
      " - DATA FIDELITY (X): 2.0668630758099846e-06\n",
      " - G (X): 2.4704211572500542e-09\n",
      " - F2 (X): 3.5927886234917586e-08\n",
      " - COST: 2.1052613832021522e-06\n",
      "\n"
     ]
    }
   ],
   "source": [
    "opt.iterate()"
   ]
  },
  {
   "cell_type": "code",
   "execution_count": 17,
   "metadata": {},
   "outputs": [],
   "source": [
    "uk = opt.x_final\n",
    "pysap.Image(data = np.abs(uk)).show()"
   ]
  },
  {
   "cell_type": "code",
   "execution_count": 36,
   "metadata": {},
   "outputs": [
    {
     "name": "stdout",
     "output_type": "stream",
     "text": [
      "2.17192015472838e-06\n"
     ]
    }
   ],
   "source": [
    "print(0.5*np.linalg.norm(fourier_op.op(uk)-y)**2)"
   ]
  },
  {
   "cell_type": "markdown",
   "metadata": {},
   "source": [
    "\"Data fidelity\" in the algorithm is not $0.5||\\mathcal{F}u-y||^2$."
   ]
  }
 ],
 "metadata": {
  "kernelspec": {
   "display_name": "Python 3",
   "language": "python",
   "name": "python3"
  },
  "language_info": {
   "codemirror_mode": {
    "name": "ipython",
    "version": 3
   },
   "file_extension": ".py",
   "mimetype": "text/x-python",
   "name": "python",
   "nbconvert_exporter": "python",
   "pygments_lexer": "ipython3",
   "version": "3.7.3"
  }
 },
 "nbformat": 4,
 "nbformat_minor": 2
}
