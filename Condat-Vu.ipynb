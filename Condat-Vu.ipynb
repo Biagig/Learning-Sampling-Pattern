{
 "cells": [
  {
   "cell_type": "code",
   "execution_count": 1,
   "metadata": {
    "scrolled": true
   },
   "outputs": [
    {
     "name": "stderr",
     "output_type": "stream",
     "text": [
      "/home/guillaume/temp/pysap-mri/mri/operators/fourier/cartesian.py:33: UserWarning: pynufft python package has not been found. If needed use the master release. Till then you cannot use NUFFT on GPU\n",
      "  warnings.warn(\"pynufft python package has not been found. If needed use \"\n",
      "/home/guillaume/temp/pysap-mri/mri/operators/fourier/non_cartesian.py:33: UserWarning: pynufft python package has not been found. If needed use the master release. Till then you cannot use NUFFT on GPU\n",
      "  warnings.warn(\"pynufft python package has not been found. If needed use \"\n"
     ]
    },
    {
     "name": "stdout",
     "output_type": "stream",
     "text": [
      "\n",
      "                 .|'''|       /.\\      '||'''|,\n",
      "                 ||          // \\\\      ||   ||\n",
      "'||''|, '||  ||` `|'''|,    //...\\\\     ||...|'\n",
      " ||  ||  `|..||   .   ||   //     \\\\    ||\n",
      " ||..|'      ||   |...|' .//       \\\\. .||\n",
      " ||       ,  |'\n",
      ".||        ''\n",
      "\n",
      "Package version: 0.0.3\n",
      "\n",
      "License: CeCILL-B\n",
      "\n",
      "Authors: \n",
      "\n",
      "Antoine Grigis <antoine.grigis@cea.fr>\n",
      "Samuel Farrens <samuel.farrens@cea.fr>\n",
      "Jean-Luc Starck <jl.stark@cea.fr>\n",
      "Philippe Ciuciu <philippe.ciuciu@cea.fr>\n",
      "\n",
      "Dependencies: \n",
      "\n",
      "scipy          : >=1.3.0   - required | 1.3.0     installed\n",
      "numpy          : >=1.16.4  - required | 1.16.4    installed\n",
      "matplotlib     : >=3.0.0   - required | 3.1.1     installed\n",
      "astropy        : >=3.0.0   - required | 3.2.1     installed\n",
      "nibabel        : >=2.3.2   - required | 2.5.1     installed\n",
      "pyqtgraph      : >=0.10.0  - required | 0.10.0    installed\n",
      "progressbar2   : >=3.34.3  - required | ?         installed\n",
      "modopt         : >=1.4.0   - required | 1.4.1     installed\n",
      "scikit-learn   : >=0.19.1  - required | ?         installed\n",
      "pywt           : >=1.0.0   - required | 1.0.3     installed\n",
      "pysparse       : >=0.0.1   - required | 0.1.0     installed\n",
      "\n"
     ]
    }
   ],
   "source": [
    "# Package import\n",
    "from mri.operators import NonCartesianFFT, WaveletUD2, WaveletN , gradient\n",
    "from mri.operators.utils import convert_mask_to_locations, convert_locations_to_mask\n",
    "from mri.reconstructors import SingleChannelReconstructor\n",
    "import pysap\n",
    "from pysap.data import get_sample_data\n",
    "import time"
   ]
  },
  {
   "cell_type": "code",
   "execution_count": 2,
   "metadata": {},
   "outputs": [],
   "source": [
    "# Third party import\n",
    "from modopt.math.metrics import ssim\n",
    "from modopt.opt.linear import Identity\n",
    "from modopt.opt.proximity import SparseThreshold,Ridge,ProximityParent,ProximityCombo\n",
    "\n",
    "import numpy as np\n",
    "import matplotlib.pyplot as plt"
   ]
  },
  {
   "cell_type": "markdown",
   "metadata": {},
   "source": [
    "## Data and operators"
   ]
  },
  {
   "cell_type": "code",
   "execution_count": 6,
   "metadata": {},
   "outputs": [],
   "source": [
    "u0 = get_sample_data('2d-mri')\n",
    "u0_mat = u0.data\n",
    "\n",
    "n=u0_mat.shape[0]\n",
    "x = np.linspace(0,n,n,endpoint=False)/n-0.5\n",
    "y = np.linspace(0,n,n,endpoint=False)/n-0.5\n",
    "X,Y = np.meshgrid(x,y)\n",
    "kspace_loc = np.stack([X.flatten('F'),Y.flatten('F')],axis=1)\n",
    "\n",
    "m = convert_locations_to_mask(kspace_loc,u0.shape)\n",
    "fourier_op = NonCartesianFFT(samples=kspace_loc, shape=u0.shape,implementation='cpu')\n",
    "\n",
    "# Adding noise\n",
    "(n1,n2) = u0.shape\n",
    "s = 1e-6\n",
    "# Computing y with non-cartesian Fourier transform\n",
    "fourier_op = NonCartesianFFT(samples=kspace_loc, shape=u0.shape,implementation='cpu')\n",
    "y = (1+0j)*fourier_op.op(np.real(u0.data))+s*np.random.randn(2*n*n).view(np.complex128)\n",
    "u0_mat = np.asarray(u0)"
   ]
  },
  {
   "cell_type": "code",
   "execution_count": 7,
   "metadata": {},
   "outputs": [],
   "source": [
    "#Subsampling: From pysap radial mask \n",
    "radial_mask = get_sample_data(\"mri-radial-samples\")\n",
    "radial_kspace_loc = radial_mask.data\n",
    "\n",
    "p = np.zeros((n*n,))\n",
    "\n",
    "ind1 = ((n-1)*(radial_kspace_loc[:,0]+0.5)).astype(int)\n",
    "ind2 = ((n-1)*(radial_kspace_loc[:,1]+0.5)).astype(int)\n",
    "p[n*ind1+ind2]=1\n",
    "\n",
    "new_loc = kspace_loc[np.where(p)]\n",
    "#pysap.Image(data = convert_locations_to_mask(np.array(new_loc),u0.shape)).show()\n",
    "\n",
    "#Wavelet\n",
    "linear_op = WaveletN(wavelet_name=\"db8\",nb_scale=4,padding_mode = \"periodization\")"
   ]
  },
  {
   "cell_type": "code",
   "execution_count": 8,
   "metadata": {},
   "outputs": [
    {
     "name": "stdout",
     "output_type": "stream",
     "text": [
      "0.6655194518060769\n"
     ]
    }
   ],
   "source": [
    "#ifft on noised data = base result\n",
    "uk = fourier_op.adj_op(p*y)\n",
    "print(ssim(uk,u0_mat))\n",
    "pysap.Image(data = np.abs(uk)).show()"
   ]
  },
  {
   "cell_type": "markdown",
   "metadata": {},
   "source": [
    "## CondatVu\n",
    "### Regularizers\n",
    "See modopt/opt/agorithms.py: Condat uses Moreau identity for prox_dual: we need to define the proximal operator and not the proximal dual."
   ]
  },
  {
   "cell_type": "code",
   "execution_count": 9,
   "metadata": {},
   "outputs": [],
   "source": [
    "class RegularizerG(ProximityParent):\n",
    "    r\"\"\"negative values penalisation and L2 norm\n",
    "\n",
    "    Parameters\n",
    "    ----------\n",
    "    linear : class\n",
    "        Linear operator class\n",
    "    weights : np.ndarray\n",
    "        Input array of weights\n",
    "    \"\"\"\n",
    "\n",
    "    def __init__(self, zeta, eps):\n",
    "        self.weights = [eps,zeta]\n",
    "        self.eps = eps\n",
    "        self.zeta=zeta\n",
    "        self.op = self._op_method\n",
    "        self.cost = self._cost_method\n",
    "\n",
    "        \n",
    "    def _op_method(self, data, extra_factor=1.0):  \n",
    "        thresh = self.eps*extra_factor\n",
    "        \n",
    "        return np.where(data>=0,data/(1+thresh),\n",
    "                 data/(0.5+np.sqrt(0.25-3*self.zeta*extra_factor*data/(1+thresh)**2)))\n",
    "\n",
    "    \n",
    "    def _cost_method(self, *args, **kwargs):\n",
    "        \n",
    "        cost_val = np.abs(self.zeta*np.sum(np.where(args[0]<=0,-args[0]**3,0))\n",
    "                           +self.eps*np.linalg.norm(args[0])**2/2)\n",
    "\n",
    "        if 'verbose' in kwargs and kwargs['verbose']:\n",
    "            print(' - G (X):', cost_val)\n",
    "\n",
    "        return cost_val"
   ]
  },
  {
   "cell_type": "code",
   "execution_count": 10,
   "metadata": {},
   "outputs": [],
   "source": [
    "class RegularizerF2(ProximityParent):\n",
    "    r\"\"\"C2 approximation of an L1 norm\n",
    "\n",
    "    Parameters\n",
    "    ----------\n",
    "    linear : class\n",
    "        Linear operator class\n",
    "    weights : np.ndarray\n",
    "        Input array of weights\n",
    "    \"\"\"\n",
    "\n",
    "    def __init__(self, linear, gamma, pn1):\n",
    "        self.linear = linear\n",
    "        self.weights = [gamma,pn1]\n",
    "        self.gamma = gamma\n",
    "        self.pn1=pn1\n",
    "        self.op = self._op_method\n",
    "        self.cost = self._cost_method\n",
    "    \n",
    "    def rho(self, x):\n",
    "        m = np.abs(x)\n",
    "        return np.where(m<self.gamma,-m**3/3/self.gamma**2+m**2/self.gamma,m-self.gamma/3)    \n",
    "    \n",
    "    def prox_J(self,x,c,gamma):\n",
    "        return np.where(np.abs(x)>gamma+c,x*(1-c/np.abs(x)),\n",
    "                    gamma*x/(c+0.5*gamma+np.sqrt((c+0.5*gamma)**2-c*np.abs(x))))\n",
    "\n",
    "        \n",
    "    def _op_method(self, data, extra_factor=1.0):  \n",
    "        return self.prox_J(data,self.pn1*extra_factor,self.gamma)\n",
    "        \n",
    "    \n",
    "    def _cost_method(self, *args, **kwargs):\n",
    "        \n",
    "        cost_val = self.pn1*np.sum(self.rho(self.linear.op(args[0])))\n",
    "\n",
    "        if 'verbose' in kwargs and kwargs['verbose']:\n",
    "            print(' - F2 (X):', cost_val)\n",
    "\n",
    "        return cost_val"
   ]
  },
  {
   "cell_type": "code",
   "execution_count": 11,
   "metadata": {},
   "outputs": [],
   "source": [
    "zeta,epsilon,gamma,pn1 = 1e15,2e-1,1e-10,2e-6\n",
    "regularizer_G = RegularizerG(zeta,epsilon)\n",
    "regularizer_F2 = RegularizerF2(linear_op,gamma,pn1)"
   ]
  },
  {
   "cell_type": "code",
   "execution_count": 12,
   "metadata": {},
   "outputs": [
    {
     "name": "stdout",
     "output_type": "stream",
     "text": [
      "3.8146968108776627e-07 2.296999543905258e-07\n"
     ]
    }
   ],
   "source": [
    "print(regularizer_G.cost(u0_mat),regularizer_F2.cost(u0_mat))"
   ]
  },
  {
   "cell_type": "markdown",
   "metadata": {},
   "source": [
    "### Reconstruction"
   ]
  },
  {
   "cell_type": "code",
   "execution_count": 13,
   "metadata": {},
   "outputs": [],
   "source": [
    "from modopt.opt.algorithms import Condat\n",
    "from mri.operators import GradAnalysis\n",
    "from modopt.opt.gradient import GradParent,GradBasic"
   ]
  },
  {
   "cell_type": "markdown",
   "metadata": {},
   "source": [
    "Definition of gradient op: see https://cea-cosmic.github.io/ModOpt/_modules/modopt/opt/gradient.html"
   ]
  },
  {
   "cell_type": "code",
   "execution_count": 23,
   "metadata": {},
   "outputs": [
    {
     "name": "stderr",
     "output_type": "stream",
     "text": [
      "\u001b[33mWARNING\u001b[0m: Making input data immutable.\n"
     ]
    }
   ],
   "source": [
    "real_fourier_op = NonCartesianFFT(samples=kspace_loc, shape=u0.shape,implementation='cpu')\n",
    "real_fourier_op.op = lambda x:fourier_op.op(np.real(x))\n",
    "real_fourier_op.adj_op = lambda x:np.real(fourier_op.adj_op(x))\n",
    "gradient_op = GradBasic(p*y,real_fourier_op.op,real_fourier_op.adj_op)"
   ]
  },
  {
   "cell_type": "code",
   "execution_count": 24,
   "metadata": {},
   "outputs": [],
   "source": [
    "#Initialisation\n",
    "gradient_op.fourier_op = real_fourier_op\n",
    "norm = linear_op.l2norm(gradient_op.fourier_op.shape)\n",
    "x_init = fourier_op.adj_op(p*y)"
   ]
  },
  {
   "cell_type": "code",
   "execution_count": 25,
   "metadata": {},
   "outputs": [],
   "source": [
    "eta = pn1*5/2/gamma\n",
    "mu = 2*np.sqrt(epsilon/2/eta)\n",
    "theta = 1/(1+mu)\n",
    "\n",
    "tau = mu/2/epsilon\n",
    "sigma = mu*eta/2"
   ]
  },
  {
   "cell_type": "code",
   "execution_count": 26,
   "metadata": {},
   "outputs": [],
   "source": [
    "opt = Condat(x=x_init,\n",
    "            y=p*y,\n",
    "            grad = gradient_op,\n",
    "            prox = regularizer_G,\n",
    "            prox_dual = regularizer_F2,\n",
    "            linear = linear_op,\n",
    "            sigma=sigma,\n",
    "            tau=tau,\n",
    "            sigma_update=None,\n",
    "            tau_update=None,\n",
    "            max_iter=150,\n",
    "            auto_iterate = False)"
   ]
  },
  {
   "cell_type": "code",
   "execution_count": 27,
   "metadata": {},
   "outputs": [
    {
     "name": "stderr",
     "output_type": "stream",
     "text": [
      "/home/guillaume/anaconda3/lib/python3.7/site-packages/ipykernel_launcher.py:26: RuntimeWarning: invalid value encountered in sqrt\n",
      "\r",
      "N/A% (0 of 200) |                        | Elapsed Time: 0:00:00 ETA:  --:--:--"
     ]
    },
    {
     "name": "stdout",
     "output_type": "stream",
     "text": [
      " - ITERATION: 1\n",
      " - DATA FIDELITY (X): 4.098140718492653e-08\n",
      " - G (X): 0.3905602661471222\n",
      " - F2 (X): 3.0032252455409367e-07\n",
      " - COST: 0.390560607451054\n",
      "\n"
     ]
    },
    {
     "name": "stderr",
     "output_type": "stream",
     "text": [
      "N/A% (0 of 200) |                        | Elapsed Time: 0:00:00 ETA:  --:--:--"
     ]
    },
    {
     "name": "stdout",
     "output_type": "stream",
     "text": [
      " - ITERATION: 2\n",
      " - DATA FIDELITY (X): 7.575442649225971e-08\n"
     ]
    },
    {
     "name": "stderr",
     "output_type": "stream",
     "text": [
      "  0% (1 of 200) |                        | Elapsed Time: 0:00:01 ETA:   0:04:04"
     ]
    },
    {
     "name": "stdout",
     "output_type": "stream",
     "text": [
      " - G (X): 0.048918624149221254\n",
      " - F2 (X): 2.7198816172565375e-07\n",
      " - COST: 0.04891897189180947\n",
      "\n",
      " - ITERATION: 3\n",
      " - DATA FIDELITY (X): 1.2623057949676626e-07\n",
      " - G (X): 0.006145099091812561\n"
     ]
    },
    {
     "name": "stderr",
     "output_type": "stream",
     "text": [
      "  1% (2 of 200) |                        | Elapsed Time: 0:00:01 ETA:   0:03:05"
     ]
    },
    {
     "name": "stdout",
     "output_type": "stream",
     "text": [
      " - F2 (X): 2.474186623259585e-07\n",
      " - COST: 0.0061454727410543844\n",
      "\n",
      " - ITERATION: 4\n",
      " - DATA FIDELITY (X): 1.8802792910279288e-07\n"
     ]
    },
    {
     "name": "stderr",
     "output_type": "stream",
     "text": [
      "\r",
      "                                                                               \r",
      "\r",
      "  1% (3 of 200) |                        | Elapsed Time: 0:00:01 ETA:   0:03:04"
     ]
    },
    {
     "name": "stdout",
     "output_type": "stream",
     "text": [
      " - G (X): 0.0007719478189254484\n",
      " - F2 (X): 2.2515575505469675e-07\n",
      " - COST: 0.0007723610026096058\n",
      "\n",
      " - CONVERGENCE TEST - \n",
      " - CHANGE IN COST: 62.52849687163711\n",
      "\n"
     ]
    },
    {
     "name": "stderr",
     "output_type": "stream",
     "text": [
      "                                                                               \r"
     ]
    },
    {
     "name": "stdout",
     "output_type": "stream",
     "text": [
      " - ITERATION: 5\n",
      " - DATA FIDELITY (X): 2.576663428769191e-07\n"
     ]
    },
    {
     "name": "stderr",
     "output_type": "stream",
     "text": [
      "\r",
      "  1% (3 of 200) |                        | Elapsed Time: 0:00:02 ETA:   0:02:17"
     ]
    },
    {
     "name": "stdout",
     "output_type": "stream",
     "text": [
      " - G (X): 9.912559951779581e-05\n",
      " - F2 (X): 2.0474655444317963e-07\n"
     ]
    },
    {
     "name": "stderr",
     "output_type": "stream",
     "text": [
      "  2% (4 of 200) |                        | Elapsed Time: 0:00:03 ETA:   0:02:13"
     ]
    },
    {
     "name": "stdout",
     "output_type": "stream",
     "text": [
      " - COST: 9.958801241511591e-05\n",
      "\n",
      " - ITERATION: 6\n",
      " - DATA FIDELITY (X): 3.323635883991498e-07\n"
     ]
    },
    {
     "name": "stderr",
     "output_type": "stream",
     "text": [
      "  3% (6 of 200) |                        | Elapsed Time: 0:00:03 ETA:   0:02:10"
     ]
    },
    {
     "name": "stdout",
     "output_type": "stream",
     "text": [
      " - G (X): 1.3338246230324897e-05\n",
      " - F2 (X): 1.8600023298331729e-07\n",
      " - COST: 1.3856610051707363e-05\n",
      "\n",
      " - ITERATION: 7\n",
      " - DATA FIDELITY (X): 4.0990903196866627e-07\n",
      " - G (X): 1.7437012126176989e-06\n",
      " - F2 (X): 1.6879147131426352e-07\n",
      " - COST: 2.322401715900629e-06\n",
      "\n"
     ]
    },
    {
     "name": "stderr",
     "output_type": "stream",
     "text": [
      "  3% (6 of 200) |                        | Elapsed Time: 0:00:04 ETA:   0:02:15"
     ]
    },
    {
     "name": "stdout",
     "output_type": "stream",
     "text": [
      " - ITERATION: 8\n",
      " - DATA FIDELITY (X): 4.885640506005976e-07\n"
     ]
    },
    {
     "name": "stderr",
     "output_type": "stream",
     "text": [
      "\r",
      "                                                                               \r",
      "\r",
      "  3% (6 of 200) |                        | Elapsed Time: 0:00:04 ETA:   0:02:15"
     ]
    },
    {
     "name": "stdout",
     "output_type": "stream",
     "text": [
      " - G (X): 1.7931131286059043e-07\n",
      " - F2 (X): 1.5300709814388837e-07\n"
     ]
    },
    {
     "name": "stderr",
     "output_type": "stream",
     "text": [
      "  3% (7 of 200) |                        | Elapsed Time: 0:00:05 ETA:   0:02:13"
     ]
    },
    {
     "name": "stdout",
     "output_type": "stream",
     "text": [
      " - COST: 8.208824616050764e-07\n",
      "\n",
      " - CONVERGENCE TEST - \n",
      " - CHANGE IN COST: 35.091112371788526\n",
      "\n",
      " - ITERATION: 9\n",
      " - DATA FIDELITY (X): 5.669783033753882e-07\n"
     ]
    },
    {
     "name": "stderr",
     "output_type": "stream",
     "text": [
      "\r",
      "                                                                               \r",
      "\r",
      "  4% (8 of 200) |                        | Elapsed Time: 0:00:05 ETA:   0:02:12"
     ]
    },
    {
     "name": "stdout",
     "output_type": "stream",
     "text": [
      " - G (X): 4.0930170315908393e-08\n",
      " - F2 (X): 1.3854514324283978e-07\n",
      " - COST: 7.464536169341364e-07\n",
      "\n"
     ]
    },
    {
     "name": "stderr",
     "output_type": "stream",
     "text": [
      "  4% (8 of 200) |                        | Elapsed Time: 0:00:05 ETA:   0:02:12"
     ]
    },
    {
     "name": "stdout",
     "output_type": "stream",
     "text": [
      " - ITERATION: 10\n",
      " - DATA FIDELITY (X): 6.441192532741556e-07\n",
      " - G (X): 5.97907438348835e-08\n",
      " - F2 (X): 1.2530614197076305e-07\n"
     ]
    },
    {
     "name": "stderr",
     "output_type": "stream",
     "text": [
      "  4% (9 of 200) |#                       | Elapsed Time: 0:00:06 ETA:   0:02:13"
     ]
    },
    {
     "name": "stdout",
     "output_type": "stream",
     "text": [
      " - COST: 8.292161390798022e-07\n",
      "\n",
      " - ITERATION: 11\n",
      " - DATA FIDELITY (X): 7.192131355044149e-07\n",
      " - G (X): 5.5135331219021346e-08\n"
     ]
    },
    {
     "name": "stderr",
     "output_type": "stream",
     "text": [
      "  5% (10 of 200) |#                      | Elapsed Time: 0:00:07 ETA:   0:02:10"
     ]
    },
    {
     "name": "stdout",
     "output_type": "stream",
     "text": [
      " - F2 (X): 1.1319493476215342e-07\n",
      " - COST: 8.875434014855898e-07\n",
      "\n",
      " - ITERATION: 12\n",
      " - DATA FIDELITY (X): 7.916956609122427e-07\n"
     ]
    },
    {
     "name": "stderr",
     "output_type": "stream",
     "text": [
      "\r",
      "                                                                               \r",
      "\r",
      "  5% (11 of 200) |#                      | Elapsed Time: 0:00:07 ETA:   0:02:09"
     ]
    },
    {
     "name": "stdout",
     "output_type": "stream",
     "text": [
      " - G (X): 4.730277253774015e-08\n",
      " - F2 (X): 1.0212328522718477e-07\n",
      " - COST: 9.411217186771677e-07\n",
      "\n",
      " - CONVERGENCE TEST - \n",
      " - CHANGE IN COST: 0.1383497510612011\n",
      "\n"
     ]
    },
    {
     "name": "stderr",
     "output_type": "stream",
     "text": [
      "  5% (11 of 200) |#                      | Elapsed Time: 0:00:07 ETA:   0:02:12"
     ]
    },
    {
     "name": "stdout",
     "output_type": "stream",
     "text": [
      " - ITERATION: 13\n",
      " - DATA FIDELITY (X): 8.611709951922073e-07\n",
      " - G (X): 4.021458168669904e-08\n",
      " - F2 (X): 9.200953135202507e-08\n"
     ]
    },
    {
     "name": "stderr",
     "output_type": "stream",
     "text": [
      "  6% (12 of 200) |#                      | Elapsed Time: 0:00:08 ETA:   0:02:10"
     ]
    },
    {
     "name": "stdout",
     "output_type": "stream",
     "text": [
      " - COST: 9.933951082309314e-07\n",
      "\n",
      " - ITERATION: 14\n",
      " - DATA FIDELITY (X): 9.273778416236642e-07\n",
      " - G (X): 3.406446079572495e-08\n",
      " - F2 (X): 8.278021519943861e-08\n"
     ]
    },
    {
     "name": "stderr",
     "output_type": "stream",
     "text": [
      "  6% (13 of 200) |#                      | Elapsed Time: 0:00:09 ETA:   0:02:07"
     ]
    },
    {
     "name": "stdout",
     "output_type": "stream",
     "text": [
      " - COST: 1.0442225176188278e-06\n",
      "\n",
      " - ITERATION: 15\n",
      " - DATA FIDELITY (X): 9.901615599389935e-07\n",
      " - G (X): 2.887776505810747e-08\n",
      " - F2 (X): 7.43673105086379e-08\n"
     ]
    },
    {
     "name": "stderr",
     "output_type": "stream",
     "text": [
      "  7% (14 of 200) |#                      | Elapsed Time: 0:00:09 ETA:   0:02:04"
     ]
    },
    {
     "name": "stdout",
     "output_type": "stream",
     "text": [
      " - COST: 1.0934066355057388e-06\n",
      "\n",
      " - ITERATION: 16\n",
      " - DATA FIDELITY (X): 1.0494513052726565e-06\n",
      " - G (X): 2.4503450580608172e-08\n",
      " - F2 (X): 6.670974152246499e-08\n"
     ]
    },
    {
     "name": "stderr",
     "output_type": "stream",
     "text": [
      "  7% (15 of 200) |#                      | Elapsed Time: 0:00:10 ETA:   0:02:03"
     ]
    },
    {
     "name": "stdout",
     "output_type": "stream",
     "text": [
      " - COST: 1.1406644973757296e-06\n",
      "\n",
      " - CONVERGENCE TEST - \n",
      " - CHANGE IN COST: 0.08793520678024551\n",
      "\n",
      " - ITERATION: 17\n",
      " - DATA FIDELITY (X): 1.1052413533998557e-06\n",
      " - G (X): 2.0813051013658782e-08\n",
      " - F2 (X): 5.975091618248906e-08\n"
     ]
    },
    {
     "name": "stderr",
     "output_type": "stream",
     "text": [
      "  8% (16 of 200) |#                      | Elapsed Time: 0:00:10 ETA:   0:02:03"
     ]
    },
    {
     "name": "stdout",
     "output_type": "stream",
     "text": [
      " - COST: 1.1858053205960035e-06\n",
      "\n",
      " - ITERATION: 18\n",
      " - DATA FIDELITY (X): 1.1575758936775629e-06\n",
      " - G (X): 1.7699870835007526e-08\n",
      " - F2 (X): 5.34391742828594e-08\n"
     ]
    },
    {
     "name": "stderr",
     "output_type": "stream",
     "text": [
      "  8% (17 of 200) |#                      | Elapsed Time: 0:00:11 ETA:   0:02:02"
     ]
    },
    {
     "name": "stdout",
     "output_type": "stream",
     "text": [
      " - COST: 1.2287149387954298e-06\n",
      "\n",
      " - ITERATION: 19\n",
      " - DATA FIDELITY (X): 1.206536700308899e-06\n",
      " - G (X): 1.5074576852714836e-08\n",
      " - F2 (X): 4.7726910919255535e-08\n"
     ]
    },
    {
     "name": "stderr",
     "output_type": "stream",
     "text": [
      "  9% (18 of 200) |##                     | Elapsed Time: 0:00:12 ETA:   0:02:02"
     ]
    },
    {
     "name": "stdout",
     "output_type": "stream",
     "text": [
      " - COST: 1.2693381880808695e-06\n",
      "\n",
      " - ITERATION: 20\n",
      " - DATA FIDELITY (X): 1.2522331823180585e-06\n",
      " - G (X): 1.2859370870063055e-08\n",
      " - F2 (X): 4.257057785467964e-08\n"
     ]
    },
    {
     "name": "stderr",
     "output_type": "stream",
     "text": [
      "  9% (19 of 200) |##                     | Elapsed Time: 0:00:12 ETA:   0:01:48"
     ]
    },
    {
     "name": "stdout",
     "output_type": "stream",
     "text": [
      " - COST: 1.3076631310428012e-06\n",
      "\n",
      " - CONVERGENCE TEST - \n",
      " - CHANGE IN COST: 0.06305043715984213\n",
      "\n",
      " - ITERATION: 21\n",
      " - DATA FIDELITY (X): 1.2947943768981465e-06\n"
     ]
    },
    {
     "name": "stderr",
     "output_type": "stream",
     "text": [
      "\r",
      "                                                                               \r",
      "\r",
      "  9% (19 of 200) |##                     | Elapsed Time: 0:00:12 ETA:   0:02:06"
     ]
    },
    {
     "name": "stdout",
     "output_type": "stream",
     "text": [
      " - G (X): 1.0985045412489124e-08\n",
      " - F2 (X): 3.792874241636938e-08\n"
     ]
    },
    {
     "name": "stderr",
     "output_type": "stream",
     "text": [
      " 10% (20 of 200) |##                     | Elapsed Time: 0:00:13 ETA:   0:02:06"
     ]
    },
    {
     "name": "stdout",
     "output_type": "stream",
     "text": [
      " - COST: 1.3437081647270051e-06\n",
      "\n",
      " - ITERATION: 22\n",
      " - DATA FIDELITY (X): 1.3343625371048917e-06\n",
      " - G (X): 9.404861772472373e-09\n",
      " - F2 (X): 3.376483372843163e-08\n"
     ]
    },
    {
     "name": "stderr",
     "output_type": "stream",
     "text": [
      " 10% (21 of 200) |##                     | Elapsed Time: 0:00:14 ETA:   0:02:06"
     ]
    },
    {
     "name": "stdout",
     "output_type": "stream",
     "text": [
      " - COST: 1.3775322326057958e-06\n",
      "\n",
      " - ITERATION: 23\n",
      " - DATA FIDELITY (X): 1.3710880660934711e-06\n",
      " - G (X): 8.061073493830186e-09\n",
      " - F2 (X): 3.0042152927703e-08\n"
     ]
    },
    {
     "name": "stderr",
     "output_type": "stream",
     "text": [
      " 11% (22 of 200) |##                     | Elapsed Time: 0:00:14 ETA:   0:02:02"
     ]
    },
    {
     "name": "stdout",
     "output_type": "stream",
     "text": [
      " - COST: 1.4091912925150045e-06\n",
      "\n",
      " - ITERATION: 24\n",
      " - DATA FIDELITY (X): 1.4051255337326713e-06\n",
      " - G (X): 6.925648527270349e-09\n",
      " - F2 (X): 2.6726119301814322e-08\n"
     ]
    },
    {
     "name": "stderr",
     "output_type": "stream",
     "text": [
      " 11% (23 of 200) |##                     | Elapsed Time: 0:00:15 ETA:   0:01:47"
     ]
    },
    {
     "name": "stdout",
     "output_type": "stream",
     "text": [
      " - COST: 1.4387773015617559e-06\n",
      "\n",
      " - CONVERGENCE TEST - \n",
      " - CHANGE IN COST: 0.04449775078543009\n",
      "\n",
      " - ITERATION: 25\n",
      " - DATA FIDELITY (X): 1.4366305722689184e-06\n",
      " - G (X): 5.96285498040438e-09\n",
      " - F2 (X): 2.3784102904876462e-08\n"
     ]
    },
    {
     "name": "stderr",
     "output_type": "stream",
     "text": [
      " 12% (24 of 200) |##                     | Elapsed Time: 0:00:15 ETA:   0:01:44"
     ]
    },
    {
     "name": "stdout",
     "output_type": "stream",
     "text": [
      " - COST: 1.4663775301541992e-06\n",
      "\n",
      " - ITERATION: 26\n",
      " - DATA FIDELITY (X): 1.465757469584453e-06\n",
      " - G (X): 5.145553600039134e-09\n",
      " - F2 (X): 2.1183304796771944e-08\n"
     ]
    },
    {
     "name": "stderr",
     "output_type": "stream",
     "text": [
      " 12% (25 of 200) |##                     | Elapsed Time: 0:00:16 ETA:   0:01:44"
     ]
    },
    {
     "name": "stdout",
     "output_type": "stream",
     "text": [
      " - COST: 1.492086327981264e-06\n",
      "\n",
      " - ITERATION: 27\n",
      " - DATA FIDELITY (X): 1.4926573589125537e-06\n"
     ]
    },
    {
     "name": "stderr",
     "output_type": "stream",
     "text": [
      "\r",
      "                                                                               \r",
      "\r",
      " 13% (26 of 200) |##                     | Elapsed Time: 0:00:16 ETA:   0:01:43"
     ]
    },
    {
     "name": "stdout",
     "output_type": "stream",
     "text": [
      " - G (X): 4.4538202288828916e-09\n",
      " - F2 (X): 1.8891945343922234e-08\n",
      " - COST: 1.5160031244853589e-06\n",
      "\n"
     ]
    },
    {
     "name": "stderr",
     "output_type": "stream",
     "text": [
      " 13% (26 of 200) |##                     | Elapsed Time: 0:00:17 ETA:   0:01:59"
     ]
    },
    {
     "name": "stdout",
     "output_type": "stream",
     "text": [
      " - ITERATION: 28\n",
      " - DATA FIDELITY (X): 1.51747688924299e-06\n",
      " - G (X): 3.859954180317209e-09\n",
      " - F2 (X): 1.6879744407790083e-08\n"
     ]
    },
    {
     "name": "stderr",
     "output_type": "stream",
     "text": [
      " 13% (27 of 200) |###                    | Elapsed Time: 0:00:17 ETA:   0:01:58"
     ]
    },
    {
     "name": "stdout",
     "output_type": "stream",
     "text": [
      " - COST: 1.5382165878310974e-06\n",
      "\n",
      " - CONVERGENCE TEST - \n",
      " - CHANGE IN COST: 0.031351986170100314\n",
      "\n",
      " - ITERATION: 29\n",
      " - DATA FIDELITY (X): 1.5403572840177368e-06\n",
      " - G (X): 3.3564134812804927e-09\n",
      " - F2 (X): 1.5117294713062183e-08\n"
     ]
    },
    {
     "name": "stderr",
     "output_type": "stream",
     "text": [
      " 14% (28 of 200) |###                    | Elapsed Time: 0:00:18 ETA:   0:01:57"
     ]
    },
    {
     "name": "stdout",
     "output_type": "stream",
     "text": [
      " - COST: 1.5588309922120795e-06\n",
      "\n",
      " - ITERATION: 30\n",
      " - DATA FIDELITY (X): 1.561433661406466e-06\n",
      " - G (X): 2.926811705305584e-09\n",
      " - F2 (X): 1.3578587649239246e-08\n"
     ]
    },
    {
     "name": "stderr",
     "output_type": "stream",
     "text": [
      " 14% (29 of 200) |###                    | Elapsed Time: 0:00:18 ETA:   0:01:54"
     ]
    },
    {
     "name": "stdout",
     "output_type": "stream",
     "text": [
      " - COST: 1.5779390607610108e-06\n",
      "\n",
      " - ITERATION: 31\n",
      " - DATA FIDELITY (X): 1.5808346154364285e-06\n",
      " - G (X): 2.559756992976422e-09\n",
      " - F2 (X): 1.2238220403204469e-08\n"
     ]
    },
    {
     "name": "stderr",
     "output_type": "stream",
     "text": [
      " 15% (30 of 200) |###                    | Elapsed Time: 0:00:19 ETA:   0:01:53"
     ]
    },
    {
     "name": "stdout",
     "output_type": "stream",
     "text": [
      " - COST: 1.5956325928326093e-06\n",
      "\n",
      " - ITERATION: 32\n",
      " - DATA FIDELITY (X): 1.598681996272534e-06\n",
      " - G (X): 2.246148662459234e-09\n",
      " - F2 (X): 1.1072040446199188e-08\n"
     ]
    },
    {
     "name": "stderr",
     "output_type": "stream",
     "text": [
      " 15% (31 of 200) |###                    | Elapsed Time: 0:00:20 ETA:   0:01:40"
     ]
    },
    {
     "name": "stdout",
     "output_type": "stream",
     "text": [
      " - COST: 1.6120001853811925e-06\n",
      "\n",
      " - CONVERGENCE TEST - \n",
      " - CHANGE IN COST: 0.022091907066797048\n",
      "\n",
      " - ITERATION: 33\n",
      " - DATA FIDELITY (X): 1.6150908283578894e-06\n"
     ]
    },
    {
     "name": "stderr",
     "output_type": "stream",
     "text": [
      "\r",
      "                                                                               \r",
      "\r",
      " 15% (31 of 200) |###                    | Elapsed Time: 0:00:20 ETA:   0:01:40"
     ]
    },
    {
     "name": "stdout",
     "output_type": "stream",
     "text": [
      " - G (X): 1.976486562233022e-09\n",
      " - F2 (X): 1.0057148142591238e-08\n"
     ]
    },
    {
     "name": "stderr",
     "output_type": "stream",
     "text": [
      " 16% (32 of 200) |###                    | Elapsed Time: 0:00:20 ETA:   0:01:36"
     ]
    },
    {
     "name": "stdout",
     "output_type": "stream",
     "text": [
      " - COST: 1.6271244630627136e-06\n",
      "\n",
      " - ITERATION: 34\n",
      " - DATA FIDELITY (X): 1.6301693306454615e-06\n",
      " - G (X): 1.7453796494804718e-09\n"
     ]
    },
    {
     "name": "stderr",
     "output_type": "stream",
     "text": [
      "\r",
      "                                                                               \r",
      "\r",
      " 16% (33 of 200) |###                    | Elapsed Time: 0:00:20 ETA:   0:01:35"
     ]
    },
    {
     "name": "stdout",
     "output_type": "stream",
     "text": [
      " - F2 (X): 9.173425167499704e-09\n",
      " - COST: 1.6410881354624416e-06\n",
      "\n"
     ]
    },
    {
     "name": "stderr",
     "output_type": "stream",
     "text": [
      " 16% (33 of 200) |###                    | Elapsed Time: 0:00:21 ETA:   0:01:39"
     ]
    },
    {
     "name": "stdout",
     "output_type": "stream",
     "text": [
      " - ITERATION: 35\n",
      " - DATA FIDELITY (X): 1.6440190106587102e-06\n",
      " - G (X): 1.5466508298968944e-09\n",
      " - F2 (X): 8.402466941854346e-09\n"
     ]
    },
    {
     "name": "stderr",
     "output_type": "stream",
     "text": [
      " 17% (34 of 200) |###                    | Elapsed Time: 0:00:21 ETA:   0:01:37"
     ]
    },
    {
     "name": "stdout",
     "output_type": "stream",
     "text": [
      " - COST: 1.6539681284304615e-06\n",
      "\n",
      " - ITERATION: 36\n",
      " - DATA FIDELITY (X): 1.65673482846738e-06\n"
     ]
    },
    {
     "name": "stderr",
     "output_type": "stream",
     "text": [
      " 17% (35 of 200) |####                   | Elapsed Time: 0:00:22 ETA:   0:01:52"
     ]
    },
    {
     "name": "stdout",
     "output_type": "stream",
     "text": [
      " - G (X): 1.4091083095894506e-09\n",
      " - F2 (X): 7.728070828926178e-09\n",
      " - COST: 1.6658720076058956e-06\n",
      "\n",
      " - CONVERGENCE TEST - \n",
      " - CHANGE IN COST: 0.015551211924572225\n",
      "\n",
      " - ITERATION: 37\n",
      " - DATA FIDELITY (X): 1.668405402789424e-06\n",
      " - G (X): 1.2276553819566692e-09\n",
      " - F2 (X): 7.135940008048703e-09\n"
     ]
    },
    {
     "name": "stderr",
     "output_type": "stream",
     "text": [
      " 18% (36 of 200) |####                   | Elapsed Time: 0:00:23 ETA:   0:01:49"
     ]
    },
    {
     "name": "stdout",
     "output_type": "stream",
     "text": [
      " - COST: 1.6767689981794295e-06\n",
      "\n",
      " - ITERATION: 38\n",
      " - DATA FIDELITY (X): 1.6791132442267909e-06\n",
      " - G (X): 1.1020610243037144e-09\n",
      " - F2 (X): 6.613868674925932e-09\n"
     ]
    },
    {
     "name": "stderr",
     "output_type": "stream",
     "text": [
      " 18% (37 of 200) |####                   | Elapsed Time: 0:00:23 ETA:   0:01:37"
     ]
    },
    {
     "name": "stdout",
     "output_type": "stream",
     "text": [
      " - COST: 1.6868291739260206e-06\n",
      "\n",
      " - ITERATION: 39\n",
      " - DATA FIDELITY (X): 1.688935002474549e-06\n",
      " - G (X): 9.926292884328456e-10\n",
      " - F2 (X): 6.152270254865501e-09\n"
     ]
    },
    {
     "name": "stderr",
     "output_type": "stream",
     "text": [
      " 19% (38 of 200) |####                   | Elapsed Time: 0:00:24 ETA:   0:01:37"
     ]
    },
    {
     "name": "stdout",
     "output_type": "stream",
     "text": [
      " - COST: 1.6960799020178473e-06\n",
      "\n",
      " - ITERATION: 40\n",
      " - DATA FIDELITY (X): 1.6979417598573854e-06\n",
      " - G (X): 8.930790742531459e-10\n",
      " - F2 (X): 5.74260317165092e-09\n"
     ]
    },
    {
     "name": "stderr",
     "output_type": "stream",
     "text": [
      " 19% (39 of 200) |####                   | Elapsed Time: 0:00:24 ETA:   0:01:31"
     ]
    },
    {
     "name": "stdout",
     "output_type": "stream",
     "text": [
      " - COST: 1.7045774421032894e-06\n",
      "\n",
      " - CONVERGENCE TEST - \n",
      " - CHANGE IN COST: 0.010897649561709638\n",
      "\n",
      " - ITERATION: 41\n",
      " - DATA FIDELITY (X): 1.7061993179591064e-06\n",
      " - G (X): 8.094987343233857e-10\n",
      " - F2 (X): 5.378111752313252e-09\n"
     ]
    },
    {
     "name": "stderr",
     "output_type": "stream",
     "text": [
      " 20% (40 of 200) |####                   | Elapsed Time: 0:00:25 ETA:   0:01:31"
     ]
    },
    {
     "name": "stdout",
     "output_type": "stream",
     "text": [
      " - COST: 1.712386928445743e-06\n",
      "\n",
      " - ITERATION: 42\n",
      " - DATA FIDELITY (X): 1.7137685039117956e-06\n",
      " - G (X): 7.366582331844701e-10\n",
      " - F2 (X): 5.0533107035955775e-09\n"
     ]
    },
    {
     "name": "stderr",
     "output_type": "stream",
     "text": [
      " 20% (41 of 200) |####                   | Elapsed Time: 0:00:26 ETA:   0:01:30"
     ]
    },
    {
     "name": "stdout",
     "output_type": "stream",
     "text": [
      " - COST: 1.7195584728485755e-06\n",
      "\n",
      " - ITERATION: 43\n",
      " - DATA FIDELITY (X): 1.7207054789660636e-06\n",
      " - G (X): 6.730503423222785e-10\n",
      " - F2 (X): 4.763585546563245e-09\n"
     ]
    },
    {
     "name": "stderr",
     "output_type": "stream",
     "text": [
      " 21% (42 of 200) |####                   | Elapsed Time: 0:00:26 ETA:   0:01:29"
     ]
    },
    {
     "name": "stdout",
     "output_type": "stream",
     "text": [
      " - COST: 1.7261421148549493e-06\n",
      "\n",
      " - ITERATION: 44\n",
      " - DATA FIDELITY (X): 1.7270620389572718e-06\n",
      " - G (X): 6.17393277634861e-10\n",
      " - F2 (X): 4.505078038878334e-09\n"
     ]
    },
    {
     "name": "stderr",
     "output_type": "stream",
     "text": [
      " 21% (43 of 200) |####                   | Elapsed Time: 0:00:27 ETA:   0:01:28"
     ]
    },
    {
     "name": "stdout",
     "output_type": "stream",
     "text": [
      " - COST: 1.732184510273785e-06\n",
      "\n",
      " - CONVERGENCE TEST - \n",
      " - CHANGE IN COST: 0.007628320483879681\n",
      "\n",
      " - ITERATION: 45\n",
      " - DATA FIDELITY (X): 1.73288590057945e-06\n",
      " - G (X): 5.685949612754876e-10\n",
      " - F2 (X): 4.2739909559989425e-09\n"
     ]
    },
    {
     "name": "stderr",
     "output_type": "stream",
     "text": [
      " 22% (44 of 200) |#####                  | Elapsed Time: 0:00:27 ETA:   0:01:28"
     ]
    },
    {
     "name": "stdout",
     "output_type": "stream",
     "text": [
      " - COST: 1.7377284864967244e-06\n",
      "\n",
      " - ITERATION: 46\n",
      " - DATA FIDELITY (X): 1.7382209917643324e-06\n",
      " - G (X): 5.257247370657261e-10\n",
      " - F2 (X): 4.067190643226224e-09\n"
     ]
    },
    {
     "name": "stderr",
     "output_type": "stream",
     "text": [
      " 22% (45 of 200) |#####                  | Elapsed Time: 0:00:28 ETA:   0:01:27"
     ]
    },
    {
     "name": "stdout",
     "output_type": "stream",
     "text": [
      " - COST: 1.7428139071446245e-06\n",
      "\n",
      " - ITERATION: 47\n",
      " - DATA FIDELITY (X): 1.743107734859758e-06\n",
      " - G (X): 4.880389871063469e-10\n",
      " - F2 (X): 3.881990955892426e-09\n"
     ]
    },
    {
     "name": "stderr",
     "output_type": "stream",
     "text": [
      " 23% (46 of 200) |#####                  | Elapsed Time: 0:00:28 ETA:   0:01:27"
     ]
    },
    {
     "name": "stdout",
     "output_type": "stream",
     "text": [
      " - COST: 1.7474777648027566e-06\n",
      "\n",
      " - ITERATION: 48\n",
      " - DATA FIDELITY (X): 1.747583300556242e-06\n",
      " - G (X): 4.5470710085188377e-10\n",
      " - F2 (X): 3.7159315008863642e-09\n"
     ]
    },
    {
     "name": "stderr",
     "output_type": "stream",
     "text": [
      " 23% (47 of 200) |#####                  | Elapsed Time: 0:00:29 ETA:   0:01:27"
     ]
    },
    {
     "name": "stdout",
     "output_type": "stream",
     "text": [
      " - COST: 1.7517539391579803e-06\n",
      "\n",
      " - CONVERGENCE TEST - \n",
      " - CHANGE IN COST: 0.0053409753627443055\n",
      "\n",
      " - ITERATION: 49\n",
      " - DATA FIDELITY (X): 1.7516818575783971e-06\n",
      " - G (X): 4.252941155770325e-10\n",
      " - F2 (X): 3.5665222738276254e-09\n"
     ]
    },
    {
     "name": "stderr",
     "output_type": "stream",
     "text": [
      " 24% (48 of 200) |#####                  | Elapsed Time: 0:00:30 ETA:   0:01:26"
     ]
    },
    {
     "name": "stdout",
     "output_type": "stream",
     "text": [
      " - COST: 1.755673673967802e-06\n",
      "\n",
      " - ITERATION: 50\n",
      " - DATA FIDELITY (X): 1.7554348052731528e-06\n",
      " - G (X): 3.992555451134305e-10\n",
      " - F2 (X): 3.4318838615902437e-09\n"
     ]
    },
    {
     "name": "stderr",
     "output_type": "stream",
     "text": [
      " 24% (49 of 200) |#####                  | Elapsed Time: 0:00:30 ETA:   0:01:26"
     ]
    },
    {
     "name": "stdout",
     "output_type": "stream",
     "text": [
      " - COST: 1.7592659446798565e-06\n",
      "\n",
      " - ITERATION: 51\n",
      " - DATA FIDELITY (X): 1.758870986892283e-06\n",
      " - G (X): 3.76160436936969e-10\n",
      " - F2 (X): 3.3101168692616694e-09\n"
     ]
    },
    {
     "name": "stderr",
     "output_type": "stream",
     "text": [
      " 25% (50 of 200) |#####                  | Elapsed Time: 0:00:31 ETA:   0:01:25"
     ]
    },
    {
     "name": "stdout",
     "output_type": "stream",
     "text": [
      " - COST: 1.7625572641984817e-06\n",
      "\n",
      " - ITERATION: 52\n",
      " - DATA FIDELITY (X): 1.7620168883020243e-06\n",
      " - G (X): 3.5565106021582055e-10\n",
      " - F2 (X): 3.1998927038725687e-09\n"
     ]
    },
    {
     "name": "stderr",
     "output_type": "stream",
     "text": [
      " 25% (51 of 200) |#####                  | Elapsed Time: 0:00:31 ETA:   0:01:24"
     ]
    },
    {
     "name": "stdout",
     "output_type": "stream",
     "text": [
      " - COST: 1.7655724320661126e-06\n",
      "\n",
      " - CONVERGENCE TEST - \n",
      " - CHANGE IN COST: 0.00373854669540653\n",
      "\n",
      " - ITERATION: 53\n",
      " - DATA FIDELITY (X): 1.7648968186162632e-06\n",
      " - G (X): 3.373743881481715e-10\n",
      " - F2 (X): 3.1001995420627127e-09\n"
     ]
    },
    {
     "name": "stderr",
     "output_type": "stream",
     "text": [
      " 26% (52 of 200) |#####                  | Elapsed Time: 0:00:32 ETA:   0:01:25"
     ]
    },
    {
     "name": "stdout",
     "output_type": "stream",
     "text": [
      " - COST: 1.7683343925464742e-06\n",
      "\n",
      " - ITERATION: 54\n",
      " - DATA FIDELITY (X): 1.7675330827691008e-06\n",
      " - G (X): 3.2108995773170615e-10\n",
      " - F2 (X): 3.009867501219226e-09\n"
     ]
    },
    {
     "name": "stderr",
     "output_type": "stream",
     "text": [
      " 26% (53 of 200) |######                 | Elapsed Time: 0:00:32 ETA:   0:01:24"
     ]
    },
    {
     "name": "stdout",
     "output_type": "stream",
     "text": [
      " - COST: 1.7708640402280516e-06\n",
      "\n",
      " - ITERATION: 55\n",
      " - DATA FIDELITY (X): 1.7699461431628808e-06\n"
     ]
    },
    {
     "name": "stderr",
     "output_type": "stream",
     "text": [
      "\r",
      "                                                                               \r",
      "\r",
      " 27% (54 of 200) |######                 | Elapsed Time: 0:00:32 ETA:   0:01:24"
     ]
    },
    {
     "name": "stdout",
     "output_type": "stream",
     "text": [
      " - G (X): 3.0654790143177457e-10\n",
      " - F2 (X): 2.9279994175877483e-09\n",
      " - COST: 1.7731806904819002e-06\n",
      "\n"
     ]
    },
    {
     "name": "stderr",
     "output_type": "stream",
     "text": [
      " 27% (54 of 200) |######                 | Elapsed Time: 0:00:33 ETA:   0:01:40"
     ]
    },
    {
     "name": "stdout",
     "output_type": "stream",
     "text": [
      " - ITERATION: 56\n",
      " - DATA FIDELITY (X): 1.7721547699838619e-06\n"
     ]
    },
    {
     "name": "stderr",
     "output_type": "stream",
     "text": [
      "\r",
      "                                                                               \r",
      "\r",
      " 27% (54 of 200) |######                 | Elapsed Time: 0:00:33 ETA:   0:01:40"
     ]
    },
    {
     "name": "stdout",
     "output_type": "stream",
     "text": [
      " - G (X): 2.9354240380557277e-10\n",
      " - F2 (X): 2.8537337654331667e-09\n"
     ]
    },
    {
     "name": "stderr",
     "output_type": "stream",
     "text": [
      " 27% (55 of 200) |######                 | Elapsed Time: 0:00:34 ETA:   0:01:41"
     ]
    },
    {
     "name": "stdout",
     "output_type": "stream",
     "text": [
      " - COST: 1.7753020461531005e-06\n",
      "\n",
      " - CONVERGENCE TEST - \n",
      " - CHANGE IN COST: 0.002616415113034804\n",
      "\n",
      " - ITERATION: 57\n",
      " - DATA FIDELITY (X): 1.7741761737824358e-06\n",
      " - G (X): 2.818933646551357e-10\n",
      " - F2 (X): 2.7862665539146185e-09\n"
     ]
    },
    {
     "name": "stderr",
     "output_type": "stream",
     "text": [
      " 28% (56 of 200) |######                 | Elapsed Time: 0:00:34 ETA:   0:01:36"
     ]
    },
    {
     "name": "stdout",
     "output_type": "stream",
     "text": [
      " - COST: 1.7772443337010056e-06\n",
      "\n",
      " - ITERATION: 58\n",
      " - DATA FIDELITY (X): 1.7760261351123486e-06\n"
     ]
    },
    {
     "name": "stderr",
     "output_type": "stream",
     "text": [
      "\r",
      "                                                                               \r",
      "\r",
      " 28% (56 of 200) |######                 | Elapsed Time: 0:00:34 ETA:   0:01:36"
     ]
    },
    {
     "name": "stdout",
     "output_type": "stream",
     "text": [
      " - G (X): 2.714448519779e-10\n",
      " - F2 (X): 2.7248406070662314e-09\n"
     ]
    },
    {
     "name": "stderr",
     "output_type": "stream",
     "text": [
      " 28% (57 of 200) |######                 | Elapsed Time: 0:00:35 ETA:   0:01:36"
     ]
    },
    {
     "name": "stdout",
     "output_type": "stream",
     "text": [
      " - COST: 1.7790224205713928e-06\n",
      "\n",
      " - ITERATION: 59\n",
      " - DATA FIDELITY (X): 1.7777191200584203e-06\n"
     ]
    },
    {
     "name": "stderr",
     "output_type": "stream",
     "text": [
      "\r",
      "                                                                               \r",
      "\r",
      " 28% (57 of 200) |######                 | Elapsed Time: 0:00:35 ETA:   0:01:35"
     ]
    },
    {
     "name": "stdout",
     "output_type": "stream",
     "text": [
      " - G (X): 2.620606291419963e-10\n",
      " - F2 (X): 2.668964002322439e-09\n"
     ]
    },
    {
     "name": "stderr",
     "output_type": "stream",
     "text": [
      " 29% (59 of 200) |######                 | Elapsed Time: 0:00:36 ETA:   0:01:34"
     ]
    },
    {
     "name": "stdout",
     "output_type": "stream",
     "text": [
      " - COST: 1.7806501446898848e-06\n",
      "\n",
      " - ITERATION: 60\n",
      " - DATA FIDELITY (X): 1.7792683880171483e-06\n",
      " - G (X): 2.5362158136190915e-10\n",
      " - F2 (X): 2.6181654657516167e-09\n",
      " - COST: 1.7821401750642618e-06\n",
      "\n",
      " - CONVERGENCE TEST - \n",
      " - CHANGE IN COST: 0.0018310270592062621\n",
      "\n"
     ]
    },
    {
     "name": "stderr",
     "output_type": "stream",
     "text": [
      " 29% (59 of 200) |######                 | Elapsed Time: 0:00:36 ETA:   0:01:34"
     ]
    },
    {
     "name": "stdout",
     "output_type": "stream",
     "text": [
      " - ITERATION: 61\n",
      " - DATA FIDELITY (X): 1.7806860886179883e-06\n",
      " - G (X): 2.4602341010750084e-10\n",
      " - F2 (X): 2.5718589143052023e-09\n"
     ]
    },
    {
     "name": "stderr",
     "output_type": "stream",
     "text": [
      " 30% (60 of 200) |######                 | Elapsed Time: 0:00:37 ETA:   0:01:34"
     ]
    },
    {
     "name": "stdout",
     "output_type": "stream",
     "text": [
      " - COST: 1.783503970942401e-06\n",
      "\n",
      " - ITERATION: 62\n",
      " - DATA FIDELITY (X): 1.7819833525981128e-06\n",
      " - G (X): 2.3917458545572804e-10\n",
      " - F2 (X): 2.5297119174516454e-09\n"
     ]
    },
    {
     "name": "stderr",
     "output_type": "stream",
     "text": [
      " 30% (61 of 200) |#######                | Elapsed Time: 0:00:37 ETA:   0:01:20"
     ]
    },
    {
     "name": "stdout",
     "output_type": "stream",
     "text": [
      " - COST: 1.7847522391010202e-06\n",
      "\n",
      " - ITERATION: 63\n",
      " - DATA FIDELITY (X): 1.783170376636145e-06\n",
      " - G (X): 2.329946280734546e-10\n",
      " - F2 (X): 2.491403710402495e-09\n"
     ]
    },
    {
     "name": "stderr",
     "output_type": "stream",
     "text": [
      " 31% (62 of 200) |#######                | Elapsed Time: 0:00:38 ETA:   0:01:22"
     ]
    },
    {
     "name": "stdout",
     "output_type": "stream",
     "text": [
      " - COST: 1.7858947749746211e-06\n",
      "\n",
      " - ITERATION: 64\n",
      " - DATA FIDELITY (X): 1.7842565008831828e-06\n",
      " - G (X): 2.2741261936095242e-10\n",
      " - F2 (X): 2.4566124342341206e-09\n"
     ]
    },
    {
     "name": "stderr",
     "output_type": "stream",
     "text": [
      " 32% (64 of 200) |#######                | Elapsed Time: 0:00:39 ETA:   0:01:17"
     ]
    },
    {
     "name": "stdout",
     "output_type": "stream",
     "text": [
      " - COST: 1.786940525936778e-06\n",
      "\n",
      " - CONVERGENCE TEST - \n",
      " - CHANGE IN COST: 0.001281640624970863\n",
      "\n",
      " - ITERATION: 65\n",
      " - DATA FIDELITY (X): 1.7852502789319509e-06\n",
      " - G (X): 2.2236599124677796e-10\n",
      " - F2 (X): 2.4248079544148066e-09\n",
      " - COST: 1.7878974528776125e-06\n",
      "\n"
     ]
    },
    {
     "name": "stderr",
     "output_type": "stream",
     "text": [
      " 32% (64 of 200) |#######                | Elapsed Time: 0:00:39 ETA:   0:01:20"
     ]
    },
    {
     "name": "stdout",
     "output_type": "stream",
     "text": [
      " - ITERATION: 66\n",
      " - DATA FIDELITY (X): 1.786159543161799e-06\n",
      " - G (X): 2.1779934240471436e-10\n",
      " - F2 (X): 2.395781285065641e-09\n"
     ]
    },
    {
     "name": "stderr",
     "output_type": "stream",
     "text": [
      " 33% (66 of 200) |#######                | Elapsed Time: 0:00:40 ETA:   0:01:29"
     ]
    },
    {
     "name": "stdout",
     "output_type": "stream",
     "text": [
      " - COST: 1.7887731237892693e-06\n",
      "\n",
      " - ITERATION: 67\n",
      " - DATA FIDELITY (X): 1.7869914649504347e-06\n",
      " - G (X): 2.1366363392087046e-10\n",
      " - F2 (X): 2.369266744422526e-09\n",
      " - COST: 1.7895743953287781e-06\n",
      "\n"
     ]
    },
    {
     "name": "stderr",
     "output_type": "stream",
     "text": [
      " 33% (66 of 200) |#######                | Elapsed Time: 0:00:41 ETA:   0:01:34"
     ]
    },
    {
     "name": "stdout",
     "output_type": "stream",
     "text": [
      " - ITERATION: 68\n",
      " - DATA FIDELITY (X): 1.7877526106120507e-06\n"
     ]
    },
    {
     "name": "stderr",
     "output_type": "stream",
     "text": [
      "\r",
      "                                                                               \r",
      "\r",
      " 33% (66 of 200) |#######                | Elapsed Time: 0:00:41 ETA:   0:01:34"
     ]
    },
    {
     "name": "stdout",
     "output_type": "stream",
     "text": [
      " - G (X): 2.099153206396526e-10\n",
      " - F2 (X): 2.3449964409566116e-09\n"
     ]
    },
    {
     "name": "stderr",
     "output_type": "stream",
     "text": [
      " 33% (67 of 200) |#######                | Elapsed Time: 0:00:42 ETA:   0:01:40"
     ]
    },
    {
     "name": "stdout",
     "output_type": "stream",
     "text": [
      " - COST: 1.790307522373647e-06\n",
      "\n",
      " - CONVERGENCE TEST - \n",
      " - CHANGE IN COST: 0.0008970522238913494\n",
      "\n",
      " - ITERATION: 69\n",
      " - DATA FIDELITY (X): 1.7884489916711064e-06\n"
     ]
    },
    {
     "name": "stderr",
     "output_type": "stream",
     "text": [
      " 34% (68 of 200) |#######                | Elapsed Time: 0:00:42 ETA:   0:01:47"
     ]
    },
    {
     "name": "stdout",
     "output_type": "stream",
     "text": [
      " - G (X): 2.1074631142316099e-10\n",
      " - F2 (X): 2.3229178798507164e-09\n",
      " - COST: 1.7909826558623803e-06\n",
      "\n",
      " - ITERATION: 70\n",
      " - DATA FIDELITY (X): 1.7890861101516123e-06\n"
     ]
    },
    {
     "name": "stderr",
     "output_type": "stream",
     "text": [
      "\r",
      "                                                                               \r",
      "\r",
      " 34% (68 of 200) |#######                | Elapsed Time: 0:00:42 ETA:   0:01:52"
     ]
    },
    {
     "name": "stdout",
     "output_type": "stream",
     "text": [
      " - G (X): 2.0406843039561506e-10\n",
      " - F2 (X): 2.302686777387621e-09\n"
     ]
    },
    {
     "name": "stderr",
     "output_type": "stream",
     "text": [
      " 34% (69 of 200) |#######                | Elapsed Time: 0:00:43 ETA:   0:01:48"
     ]
    },
    {
     "name": "stdout",
     "output_type": "stream",
     "text": [
      " - COST: 1.7915928653593954e-06\n",
      "\n",
      " - ITERATION: 71\n",
      " - DATA FIDELITY (X): 1.7896690021985648e-06\n"
     ]
    },
    {
     "name": "stderr",
     "output_type": "stream",
     "text": [
      "\r",
      "                                                                               \r",
      "\r",
      " 34% (69 of 200) |#######                | Elapsed Time: 0:00:43 ETA:   0:01:53"
     ]
    },
    {
     "name": "stdout",
     "output_type": "stream",
     "text": [
      " - G (X): 2.006282682875722e-10\n",
      " - F2 (X): 2.2841491757371924e-09\n"
     ]
    },
    {
     "name": "stderr",
     "output_type": "stream",
     "text": [
      " 35% (70 of 200) |########               | Elapsed Time: 0:00:44 ETA:   0:01:49"
     ]
    },
    {
     "name": "stdout",
     "output_type": "stream",
     "text": [
      " - COST: 1.7921537796425896e-06\n",
      "\n",
      " - ITERATION: 72\n",
      " - DATA FIDELITY (X): 1.7902022774858352e-06\n"
     ]
    },
    {
     "name": "stderr",
     "output_type": "stream",
     "text": [
      "\r",
      "                                                                               \r",
      "\r",
      " 35% (70 of 200) |########               | Elapsed Time: 0:00:44 ETA:   0:01:54"
     ]
    },
    {
     "name": "stdout",
     "output_type": "stream",
     "text": [
      " - G (X): 1.9808219402167217e-10\n",
      " - F2 (X): 2.267235090487643e-09\n"
     ]
    },
    {
     "name": "stderr",
     "output_type": "stream",
     "text": [
      " 35% (71 of 200) |########               | Elapsed Time: 0:00:45 ETA:   0:01:47"
     ]
    },
    {
     "name": "stdout",
     "output_type": "stream",
     "text": [
      " - COST: 1.7926675947703445e-06\n",
      "\n",
      " - CONVERGENCE TEST - \n",
      " - CHANGE IN COST: 0.0006264895671478568\n",
      "\n",
      " - ITERATION: 73\n",
      " - DATA FIDELITY (X): 1.7906901543188684e-06\n"
     ]
    },
    {
     "name": "stderr",
     "output_type": "stream",
     "text": [
      "\r",
      "                                                                               \r",
      "\r",
      " 35% (71 of 200) |########               | Elapsed Time: 0:00:45 ETA:   0:01:47"
     ]
    },
    {
     "name": "stdout",
     "output_type": "stream",
     "text": [
      " - G (X): 1.957674524218454e-10\n",
      " - F2 (X): 2.2518987305619534e-09\n"
     ]
    },
    {
     "name": "stderr",
     "output_type": "stream",
     "text": [
      " 36% (72 of 200) |########               | Elapsed Time: 0:00:46 ETA:   0:01:44"
     ]
    },
    {
     "name": "stdout",
     "output_type": "stream",
     "text": [
      " - COST: 1.7931378205018522e-06\n",
      "\n",
      " - ITERATION: 74\n",
      " - DATA FIDELITY (X): 1.7911364932456309e-06\n"
     ]
    },
    {
     "name": "stderr",
     "output_type": "stream",
     "text": [
      "\r",
      "                                                                               \r",
      "\r",
      " 36% (72 of 200) |########               | Elapsed Time: 0:00:46 ETA:   0:01:49"
     ]
    },
    {
     "name": "stdout",
     "output_type": "stream",
     "text": [
      " - G (X): 1.9366198428836487e-10\n",
      " - F2 (X): 2.2378498611684e-09\n"
     ]
    },
    {
     "name": "stderr",
     "output_type": "stream",
     "text": [
      " 36% (73 of 200) |########               | Elapsed Time: 0:00:47 ETA:   0:01:45"
     ]
    },
    {
     "name": "stdout",
     "output_type": "stream",
     "text": [
      " - COST: 1.7935680050910875e-06\n",
      "\n",
      " - ITERATION: 75\n",
      " - DATA FIDELITY (X): 1.7915448270478267e-06\n"
     ]
    },
    {
     "name": "stderr",
     "output_type": "stream",
     "text": [
      "\r",
      "                                                                               \r",
      "\r",
      " 36% (73 of 200) |########               | Elapsed Time: 0:00:47 ETA:   0:02:07"
     ]
    },
    {
     "name": "stdout",
     "output_type": "stream",
     "text": [
      " - G (X): 1.9174599207958157e-10\n",
      " - F2 (X): 2.224994804946254e-09\n"
     ]
    },
    {
     "name": "stderr",
     "output_type": "stream",
     "text": [
      " 37% (74 of 200) |########               | Elapsed Time: 0:00:47 ETA:   0:01:45"
     ]
    },
    {
     "name": "stdout",
     "output_type": "stream",
     "text": [
      " - COST: 1.7939615678448524e-06\n",
      "\n",
      " - ITERATION: 76\n",
      " - DATA FIDELITY (X): 1.7919183886110614e-06\n"
     ]
    },
    {
     "name": "stderr",
     "output_type": "stream",
     "text": [
      "\r",
      "                                                                               \r",
      "\r",
      " 37% (74 of 200) |########               | Elapsed Time: 0:00:48 ETA:   0:01:50"
     ]
    },
    {
     "name": "stdout",
     "output_type": "stream",
     "text": [
      " - G (X): 1.900016952635562e-10\n",
      " - F2 (X): 2.213311103704483e-09\n"
     ]
    },
    {
     "name": "stderr",
     "output_type": "stream",
     "text": [
      "\r",
      "                                                                               \r",
      "\r",
      " 37% (75 of 200) |########               | Elapsed Time: 0:00:48 ETA:   0:01:37"
     ]
    },
    {
     "name": "stdout",
     "output_type": "stream",
     "text": [
      " - COST: 1.7943217014100293e-06\n",
      "\n",
      " - CONVERGENCE TEST - \n",
      " - CHANGE IN COST: 0.00043960956913793186\n",
      "\n",
      " - ITERATION: 77\n"
     ]
    },
    {
     "name": "stderr",
     "output_type": "stream",
     "text": [
      " 38% (76 of 200) |########               | Elapsed Time: 0:00:48 ETA:   0:01:44"
     ]
    },
    {
     "name": "stdout",
     "output_type": "stream",
     "text": [
      " - DATA FIDELITY (X): 1.7922601365107837e-06\n",
      " - G (X): 1.884130876918652e-10\n",
      " - F2 (X): 2.20261628614936e-09\n",
      " - COST: 1.794651165884625e-06\n",
      "\n"
     ]
    },
    {
     "name": "stderr",
     "output_type": "stream",
     "text": [
      " 38% (76 of 200) |########               | Elapsed Time: 0:00:49 ETA:   0:01:36"
     ]
    },
    {
     "name": "stdout",
     "output_type": "stream",
     "text": [
      " - ITERATION: 78\n",
      " - DATA FIDELITY (X): 1.792572777732408e-06\n",
      " - G (X): 1.8696574674014525e-10\n",
      " - F2 (X): 2.1928838192394505e-09\n"
     ]
    },
    {
     "name": "stderr",
     "output_type": "stream",
     "text": [
      " 38% (77 of 200) |########               | Elapsed Time: 0:00:50 ETA:   0:01:36"
     ]
    },
    {
     "name": "stdout",
     "output_type": "stream",
     "text": [
      " - COST: 1.7949526272983876e-06\n",
      "\n",
      " - ITERATION: 79\n",
      " - DATA FIDELITY (X): 1.7928587893968937e-06\n",
      " - G (X): 1.8564668090181644e-10\n"
     ]
    },
    {
     "name": "stderr",
     "output_type": "stream",
     "text": [
      " 39% (79 of 200) |#########              | Elapsed Time: 0:00:51 ETA:   0:01:27"
     ]
    },
    {
     "name": "stdout",
     "output_type": "stream",
     "text": [
      " - F2 (X): 2.183884059208743e-09\n",
      " - COST: 1.7952283201370044e-06\n",
      "\n",
      " - ITERATION: 80\n",
      " - DATA FIDELITY (X): 1.7931204380449565e-06\n",
      " - G (X): 1.844441593453408e-10\n",
      " - F2 (X): 2.1756470495057124e-09\n",
      " - COST: 1.7954805292538077e-06\n",
      "\n",
      " - CONVERGENCE TEST - \n",
      " - CHANGE IN COST: 0.0003077543332389951\n",
      "\n"
     ]
    },
    {
     "name": "stderr",
     "output_type": "stream",
     "text": [
      " 39% (79 of 200) |#########              | Elapsed Time: 0:00:51 ETA:   0:01:25"
     ]
    },
    {
     "name": "stdout",
     "output_type": "stream",
     "text": [
      " - ITERATION: 81\n",
      " - DATA FIDELITY (X): 1.79335979771433e-06\n"
     ]
    },
    {
     "name": "stderr",
     "output_type": "stream",
     "text": [
      "\r",
      "                                                                               \r",
      "\r",
      " 39% (79 of 200) |#########              | Elapsed Time: 0:00:51 ETA:   0:01:29"
     ]
    },
    {
     "name": "stdout",
     "output_type": "stream",
     "text": [
      " - G (X): 1.833475686174725e-10\n",
      " - F2 (X): 2.1681001453336567e-09\n"
     ]
    },
    {
     "name": "stderr",
     "output_type": "stream",
     "text": [
      " 40% (80 of 200) |#########              | Elapsed Time: 0:00:52 ETA:   0:01:23"
     ]
    },
    {
     "name": "stdout",
     "output_type": "stream",
     "text": [
      " - COST: 1.795711245428281e-06\n",
      "\n",
      " - ITERATION: 82\n",
      " - DATA FIDELITY (X): 1.7935787660866819e-06\n",
      " - G (X): 1.823473214766817e-10\n"
     ]
    },
    {
     "name": "stderr",
     "output_type": "stream",
     "text": [
      " 40% (81 of 200) |#########              | Elapsed Time: 0:00:53 ETA:   0:01:21"
     ]
    },
    {
     "name": "stdout",
     "output_type": "stream",
     "text": [
      " - F2 (X): 2.161150507868536e-09\n",
      " - COST: 1.7959222639160272e-06\n",
      "\n",
      " - ITERATION: 83\n",
      " - DATA FIDELITY (X): 1.7937790793603519e-06\n",
      " - G (X): 1.814347403091251e-10\n"
     ]
    },
    {
     "name": "stderr",
     "output_type": "stream",
     "text": [
      "\r",
      "                                                                               \r",
      "\r",
      " 40% (81 of 200) |#########              | Elapsed Time: 0:00:53 ETA:   0:01:21"
     ]
    },
    {
     "name": "stdout",
     "output_type": "stream",
     "text": [
      " - F2 (X): 2.1548358695583707e-09\n"
     ]
    },
    {
     "name": "stderr",
     "output_type": "stream",
     "text": [
      " 41% (82 of 200) |#########              | Elapsed Time: 0:00:53 ETA:   0:01:21"
     ]
    },
    {
     "name": "stdout",
     "output_type": "stream",
     "text": [
      " - COST: 1.7961153499702194e-06\n",
      "\n",
      " - ITERATION: 84\n",
      " - DATA FIDELITY (X): 1.7939623261797127e-06\n",
      " - G (X): 1.806019346925978e-10\n",
      " - F2 (X): 2.149082052778782e-09\n"
     ]
    },
    {
     "name": "stderr",
     "output_type": "stream",
     "text": [
      " 41% (83 of 200) |#########              | Elapsed Time: 0:00:54 ETA:   0:01:22"
     ]
    },
    {
     "name": "stdout",
     "output_type": "stream",
     "text": [
      " - COST: 1.796292010167184e-06\n",
      "\n",
      " - CONVERGENCE TEST - \n",
      " - CHANGE IN COST: 0.0002154128737408606\n",
      "\n",
      " - ITERATION: 85\n",
      " - DATA FIDELITY (X): 1.7941299600287726e-06\n",
      " - G (X): 1.7984179929956254e-10\n",
      " - F2 (X): 2.1438594817604705e-09\n"
     ]
    },
    {
     "name": "stderr",
     "output_type": "stream",
     "text": [
      " 42% (84 of 200) |#########              | Elapsed Time: 0:00:54 ETA:   0:01:20"
     ]
    },
    {
     "name": "stdout",
     "output_type": "stream",
     "text": [
      " - COST: 1.7964536613098326e-06\n",
      "\n",
      " - ITERATION: 86\n",
      " - DATA FIDELITY (X): 1.7942833107822412e-06\n",
      " - G (X): 1.7914793132266733e-10\n",
      " - F2 (X): 2.139050218294653e-09\n"
     ]
    },
    {
     "name": "stderr",
     "output_type": "stream",
     "text": [
      " 42% (85 of 200) |#########              | Elapsed Time: 0:00:55 ETA:   0:01:10"
     ]
    },
    {
     "name": "stdout",
     "output_type": "stream",
     "text": [
      " - COST: 1.7966015089318587e-06\n",
      "\n",
      " - ITERATION: 87\n",
      " - DATA FIDELITY (X): 1.7944235949261867e-06\n",
      " - G (X): 1.7851434096058733e-10\n",
      " - F2 (X): 2.1346411245314894e-09\n"
     ]
    },
    {
     "name": "stderr",
     "output_type": "stream",
     "text": [
      " 43% (86 of 200) |#########              | Elapsed Time: 0:00:56 ETA:   0:01:06"
     ]
    },
    {
     "name": "stdout",
     "output_type": "stream",
     "text": [
      " - COST: 1.7967367503916788e-06\n",
      "\n",
      " - ITERATION: 88\n",
      " - DATA FIDELITY (X): 1.794551925504509e-06\n",
      " - G (X): 1.779357370940728e-10\n",
      " - F2 (X): 2.130607387162573e-09\n"
     ]
    },
    {
     "name": "stderr",
     "output_type": "stream",
     "text": [
      " 43% (87 of 200) |##########             | Elapsed Time: 0:00:56 ETA:   0:01:03"
     ]
    },
    {
     "name": "stdout",
     "output_type": "stream",
     "text": [
      " - COST: 1.7968604686287658e-06\n",
      "\n",
      " - CONVERGENCE TEST - \n",
      " - CHANGE IN COST: 0.0001508373770673341\n",
      "\n",
      " - ITERATION: 89\n",
      " - DATA FIDELITY (X): 1.7946693208884489e-06\n",
      " - G (X): 1.7740727534863212e-10\n",
      " - F2 (X): 2.126934475806654e-09\n"
     ]
    },
    {
     "name": "stderr",
     "output_type": "stream",
     "text": [
      " 44% (88 of 200) |##########             | Elapsed Time: 0:00:57 ETA:   0:01:06"
     ]
    },
    {
     "name": "stdout",
     "output_type": "stream",
     "text": [
      " - COST: 1.7969736626396042e-06\n",
      "\n",
      " - ITERATION: 90\n",
      " - DATA FIDELITY (X): 1.7947767126544257e-06\n",
      " - G (X): 1.7692462010340846e-10\n",
      " - F2 (X): 2.123592802411188e-09\n"
     ]
    },
    {
     "name": "stderr",
     "output_type": "stream",
     "text": [
      " 44% (89 of 200) |##########             | Elapsed Time: 0:00:57 ETA:   0:01:14"
     ]
    },
    {
     "name": "stdout",
     "output_type": "stream",
     "text": [
      " - COST: 1.7970772300769403e-06\n",
      "\n",
      " - ITERATION: 91\n",
      " - DATA FIDELITY (X): 1.7948749529008269e-06\n",
      " - G (X): 1.7648354805275347e-10\n",
      " - F2 (X): 2.120506590131515e-09\n"
     ]
    },
    {
     "name": "stderr",
     "output_type": "stream",
     "text": [
      " 45% (90 of 200) |##########             | Elapsed Time: 0:00:58 ETA:   0:01:13"
     ]
    },
    {
     "name": "stdout",
     "output_type": "stream",
     "text": [
      " - COST: 1.797171943039011e-06\n",
      "\n",
      " - ITERATION: 92\n",
      " - DATA FIDELITY (X): 1.7949648212452562e-06\n",
      " - G (X): 1.7608061934163622e-10\n",
      " - F2 (X): 2.1176465468638934e-09\n"
     ]
    },
    {
     "name": "stderr",
     "output_type": "stream",
     "text": [
      " 45% (91 of 200) |##########             | Elapsed Time: 0:00:59 ETA:   0:01:08"
     ]
    },
    {
     "name": "stdout",
     "output_type": "stream",
     "text": [
      " - COST: 1.7972585484114618e-06\n",
      "\n",
      " - CONVERGENCE TEST - \n",
      " - CHANGE IN COST: 0.00010560747657562368\n",
      "\n",
      " - ITERATION: 93\n",
      " - DATA FIDELITY (X): 1.7950470310082457e-06\n",
      " - G (X): 1.7571244154057717e-10\n",
      " - F2 (X): 2.115075066168894e-09\n"
     ]
    },
    {
     "name": "stderr",
     "output_type": "stream",
     "text": [
      " 46% (92 of 200) |##########             | Elapsed Time: 0:00:59 ETA:   0:01:04"
     ]
    },
    {
     "name": "stdout",
     "output_type": "stream",
     "text": [
      " - COST: 1.797337818515955e-06\n",
      "\n",
      " - ITERATION: 94\n",
      " - DATA FIDELITY (X): 1.7951222347441908e-06\n",
      " - G (X): 1.7537594310188258e-10\n",
      " - F2 (X): 2.112676165468209e-09\n"
     ]
    },
    {
     "name": "stderr",
     "output_type": "stream",
     "text": [
      " 47% (94 of 200) |##########             | Elapsed Time: 0:01:00 ETA:   0:01:01"
     ]
    },
    {
     "name": "stdout",
     "output_type": "stream",
     "text": [
      " - COST: 1.797410286852761e-06\n",
      "\n",
      " - ITERATION: 95\n",
      " - DATA FIDELITY (X): 1.7951910293748677e-06\n",
      " - G (X): 1.7506848369042603e-10\n",
      " - F2 (X): 2.1105061113715286e-09\n",
      " - COST: 1.7974766039699295e-06\n",
      "\n"
     ]
    },
    {
     "name": "stderr",
     "output_type": "stream",
     "text": [
      " 47% (94 of 200) |##########             | Elapsed Time: 0:01:00 ETA:   0:01:10"
     ]
    },
    {
     "name": "stdout",
     "output_type": "stream",
     "text": [
      " - ITERATION: 96\n",
      " - DATA FIDELITY (X): 1.79525396102336e-06\n",
      " - G (X): 1.7478743052114987e-10\n",
      " - F2 (X): 2.1085512493332793e-09\n"
     ]
    },
    {
     "name": "stderr",
     "output_type": "stream",
     "text": [
      " 47% (95 of 200) |##########             | Elapsed Time: 0:01:01 ETA:   0:01:10"
     ]
    },
    {
     "name": "stdout",
     "output_type": "stream",
     "text": [
      " - COST: 1.7975372997032144e-06\n",
      "\n",
      " - CONVERGENCE TEST - \n",
      " - CHANGE IN COST: 7.39352646609647e-05\n",
      "\n",
      " - ITERATION: 97\n",
      " - DATA FIDELITY (X): 1.7953115292781747e-06\n",
      " - G (X): 1.745305250189722e-10\n",
      " - F2 (X): 2.106712390841546e-09\n"
     ]
    },
    {
     "name": "stderr",
     "output_type": "stream",
     "text": [
      " 48% (96 of 200) |###########            | Elapsed Time: 0:01:02 ETA:   0:01:09"
     ]
    },
    {
     "name": "stdout",
     "output_type": "stream",
     "text": [
      " - COST: 1.7975927721940351e-06\n",
      "\n",
      " - ITERATION: 98\n",
      " - DATA FIDELITY (X): 1.7953641911634e-06\n",
      " - G (X): 1.74295678470461e-10\n",
      " - F2 (X): 2.1050706467249552e-09\n"
     ]
    },
    {
     "name": "stderr",
     "output_type": "stream",
     "text": [
      " 48% (97 of 200) |###########            | Elapsed Time: 0:01:02 ETA:   0:01:03"
     ]
    },
    {
     "name": "stdout",
     "output_type": "stream",
     "text": [
      " - COST: 1.7976435574885956e-06\n",
      "\n",
      " - ITERATION: 99\n",
      " - DATA FIDELITY (X): 1.7954123648373553e-06\n",
      " - G (X): 1.7408100640557586e-10\n",
      " - F2 (X): 2.1035498297977e-09\n"
     ]
    },
    {
     "name": "stderr",
     "output_type": "stream",
     "text": [
      " 49% (98 of 200) |###########            | Elapsed Time: 0:01:03 ETA:   0:00:59"
     ]
    },
    {
     "name": "stdout",
     "output_type": "stream",
     "text": [
      " - COST: 1.7976899956735587e-06\n",
      "\n",
      " - ITERATION: 100\n",
      " - DATA FIDELITY (X): 1.795456432717155e-06\n",
      " - G (X): 1.738847357401063e-10\n",
      " - F2 (X): 2.1021260381257475e-09\n"
     ]
    },
    {
     "name": "stderr",
     "output_type": "stream",
     "text": [
      " 49% (99 of 200) |###########            | Elapsed Time: 0:01:03 ETA:   0:00:59"
     ]
    },
    {
     "name": "stdout",
     "output_type": "stream",
     "text": [
      " - COST: 1.797732443491021e-06\n",
      "\n",
      " - CONVERGENCE TEST - \n",
      " - CHANGE IN COST: 5.1762897155474e-05\n",
      "\n",
      " - ITERATION: 101\n",
      " - DATA FIDELITY (X): 1.7954967447195749e-06\n",
      " - G (X): 1.7401942194554013e-10\n",
      " - F2 (X): 2.1009386102285225e-09\n"
     ]
    },
    {
     "name": "stderr",
     "output_type": "stream",
     "text": [
      " 50% (100 of 200) |###########           | Elapsed Time: 0:01:04 ETA:   0:00:59"
     ]
    },
    {
     "name": "stdout",
     "output_type": "stream",
     "text": [
      " - COST: 1.797771702751749e-06\n",
      "\n",
      " - ITERATION: 102\n",
      " - DATA FIDELITY (X): 1.7955336209490451e-06\n",
      " - G (X): 1.7754166197681302e-10\n",
      " - F2 (X): 2.099908280349624e-09\n"
     ]
    },
    {
     "name": "stderr",
     "output_type": "stream",
     "text": [
      " 50% (101 of 200) |###########           | Elapsed Time: 0:01:05 ETA:   0:00:58"
     ]
    },
    {
     "name": "stdout",
     "output_type": "stream",
     "text": [
      " - COST: 1.7978110708913714e-06\n",
      "\n",
      " - ITERATION: 103\n",
      " - DATA FIDELITY (X): 1.7955673541798674e-06\n",
      " - G (X): 1.7339122133600051e-10\n",
      " - F2 (X): 2.0989069328757624e-09\n"
     ]
    },
    {
     "name": "stderr",
     "output_type": "stream",
     "text": [
      " 51% (102 of 200) |###########           | Elapsed Time: 0:01:05 ETA:   0:00:58"
     ]
    },
    {
     "name": "stdout",
     "output_type": "stream",
     "text": [
      " - COST: 1.7978396523340791e-06\n",
      "\n",
      " - ITERATION: 104\n",
      " - DATA FIDELITY (X): 1.7955982122844323e-06\n",
      " - G (X): 1.7325405084417687e-10\n",
      " - F2 (X): 2.0980033159808525e-09\n"
     ]
    },
    {
     "name": "stderr",
     "output_type": "stream",
     "text": [
      " 51% (103 of 200) |###########           | Elapsed Time: 0:01:06 ETA:   0:00:57"
     ]
    },
    {
     "name": "stdout",
     "output_type": "stream",
     "text": [
      " - COST: 1.7978694696512572e-06\n",
      "\n",
      " - CONVERGENCE TEST - \n",
      " - CHANGE IN COST: 3.513864384726148e-05\n",
      "\n",
      " - ITERATION: 105\n",
      " - DATA FIDELITY (X): 1.7956264403387359e-06\n",
      " - G (X): 1.7312861699550182e-10\n",
      " - F2 (X): 2.0971203908614447e-09\n"
     ]
    },
    {
     "name": "stderr",
     "output_type": "stream",
     "text": [
      " 52% (104 of 200) |###########           | Elapsed Time: 0:01:06 ETA:   0:00:55"
     ]
    },
    {
     "name": "stdout",
     "output_type": "stream",
     "text": [
      " - COST: 1.7978966893465929e-06\n",
      "\n",
      " - ITERATION: 106\n",
      " - DATA FIDELITY (X): 1.7956522624734119e-06\n",
      " - G (X): 1.7301391359478113e-10\n",
      " - F2 (X): 2.0963400710889112e-09\n"
     ]
    },
    {
     "name": "stderr",
     "output_type": "stream",
     "text": [
      " 52% (105 of 200) |###########           | Elapsed Time: 0:01:07 ETA:   0:00:54"
     ]
    },
    {
     "name": "stdout",
     "output_type": "stream",
     "text": [
      " - COST: 1.7979216164580956e-06\n",
      "\n",
      " - ITERATION: 107\n",
      " - DATA FIDELITY (X): 1.7956758836916313e-06\n",
      " - G (X): 3.294094735261914e-10\n",
      " - F2 (X): 2.0956432945968056e-09\n"
     ]
    },
    {
     "name": "stderr",
     "output_type": "stream",
     "text": [
      " 53% (106 of 200) |###########           | Elapsed Time: 0:01:07 ETA:   0:00:53"
     ]
    },
    {
     "name": "stdout",
     "output_type": "stream",
     "text": [
      " - COST: 1.7981009364597542e-06\n",
      "\n",
      " - ITERATION: 108\n",
      " - DATA FIDELITY (X): 1.7956974916150185e-06\n",
      " - G (X): 1.7281310610872174e-10\n",
      " - F2 (X): 2.095063675119494e-09\n"
     ]
    },
    {
     "name": "stderr",
     "output_type": "stream",
     "text": [
      " 53% (107 of 200) |###########           | Elapsed Time: 0:01:08 ETA:   0:00:53"
     ]
    },
    {
     "name": "stdout",
     "output_type": "stream",
     "text": [
      " - COST: 1.7979653683962466e-06\n",
      "\n",
      " - CONVERGENCE TEST - \n",
      " - CHANGE IN COST: 6.89639818313949e-05\n",
      "\n",
      " - ITERATION: 109\n",
      " - DATA FIDELITY (X): 1.795717257835514e-06\n",
      " - G (X): 1.7272538463819164e-10\n",
      " - F2 (X): 2.094431812320996e-09\n"
     ]
    },
    {
     "name": "stderr",
     "output_type": "stream",
     "text": [
      " 54% (108 of 200) |###########           | Elapsed Time: 0:01:09 ETA:   0:00:53"
     ]
    },
    {
     "name": "stdout",
     "output_type": "stream",
     "text": [
      " - COST: 1.7979844150324732e-06\n",
      "\n",
      " - ITERATION: 110\n",
      " - DATA FIDELITY (X): 1.79573533930477e-06\n",
      " - G (X): 1.726451527392214e-10\n",
      " - F2 (X): 2.0937764646264345e-09\n"
     ]
    },
    {
     "name": "stderr",
     "output_type": "stream",
     "text": [
      " 54% (109 of 200) |###########           | Elapsed Time: 0:01:09 ETA:   0:00:52"
     ]
    },
    {
     "name": "stdout",
     "output_type": "stream",
     "text": [
      " - COST: 1.7980017609221358e-06\n",
      "\n",
      " - ITERATION: 111\n",
      " - DATA FIDELITY (X): 1.795751879626643e-06\n",
      " - G (X): 1.7257173791623973e-10\n",
      " - F2 (X): 2.0931495233013513e-09\n"
     ]
    },
    {
     "name": "stderr",
     "output_type": "stream",
     "text": [
      " 55% (110 of 200) |############          | Elapsed Time: 0:01:10 ETA:   0:00:52"
     ]
    },
    {
     "name": "stdout",
     "output_type": "stream",
     "text": [
      " - COST: 1.7980176008878607e-06\n",
      "\n",
      " - ITERATION: 112\n",
      " - DATA FIDELITY (X): 1.7957670101646454e-06\n",
      " - G (X): 1.7250465435076559e-10\n",
      " - F2 (X): 2.092549849476353e-09\n"
     ]
    },
    {
     "name": "stderr",
     "output_type": "stream",
     "text": [
      " 55% (111 of 200) |############          | Elapsed Time: 0:01:10 ETA:   0:00:52"
     ]
    },
    {
     "name": "stdout",
     "output_type": "stream",
     "text": [
      " - COST: 1.7980320646684725e-06\n",
      "\n",
      " - CONVERGENCE TEST - \n",
      " - CHANGE IN COST: 1.7655373987762697e-05\n",
      "\n",
      " - ITERATION: 113\n",
      " - DATA FIDELITY (X): 1.7957808510661564e-06\n"
     ]
    },
    {
     "name": "stderr",
     "output_type": "stream",
     "text": [
      "\r",
      "                                                                               \r",
      "\r",
      " 56% (112 of 200) |############          | Elapsed Time: 0:01:11 ETA:   0:00:51"
     ]
    },
    {
     "name": "stdout",
     "output_type": "stream",
     "text": [
      " - G (X): 1.7244326992683775e-10\n",
      " - F2 (X): 2.0919958924135446e-09\n",
      " - COST: 1.7980452902284968e-06\n",
      "\n"
     ]
    },
    {
     "name": "stderr",
     "output_type": "stream",
     "text": [
      " 56% (112 of 200) |############          | Elapsed Time: 0:01:11 ETA:   0:01:00"
     ]
    },
    {
     "name": "stdout",
     "output_type": "stream",
     "text": [
      " - ITERATION: 114\n",
      " - DATA FIDELITY (X): 1.7957935122662523e-06\n",
      " - G (X): 1.7238712780684349e-10\n",
      " - F2 (X): 2.0914980754919953e-09\n"
     ]
    },
    {
     "name": "stderr",
     "output_type": "stream",
     "text": [
      " 56% (113 of 200) |############          | Elapsed Time: 0:01:12 ETA:   0:00:59"
     ]
    },
    {
     "name": "stdout",
     "output_type": "stream",
     "text": [
      " - COST: 1.7980573974695512e-06\n",
      "\n",
      " - ITERATION: 115\n",
      " - DATA FIDELITY (X): 1.7958050942923656e-06\n",
      " - G (X): 1.7233577983698014e-10\n",
      " - F2 (X): 2.0910496883575107e-09\n"
     ]
    },
    {
     "name": "stderr",
     "output_type": "stream",
     "text": [
      " 56% (114 of 200) |############          | Elapsed Time: 0:01:12 ETA:   0:00:57"
     ]
    },
    {
     "name": "stdout",
     "output_type": "stream",
     "text": [
      " - COST: 1.79806847976056e-06\n",
      "\n",
      " - ITERATION: 116\n",
      " - DATA FIDELITY (X): 1.7958156891168593e-06\n",
      " - G (X): 1.72288815831815e-10\n",
      " - F2 (X): 2.0906501234395776e-09\n"
     ]
    },
    {
     "name": "stderr",
     "output_type": "stream",
     "text": [
      " 57% (115 of 200) |############          | Elapsed Time: 0:01:13 ETA:   0:00:52"
     ]
    },
    {
     "name": "stdout",
     "output_type": "stream",
     "text": [
      " - COST: 1.7980786280561305e-06\n",
      "\n",
      " - CONVERGENCE TEST - \n",
      " - CHANGE IN COST: 1.235214169806305e-05\n",
      "\n",
      " - ITERATION: 117\n",
      " - DATA FIDELITY (X): 1.7958253808747008e-06\n",
      " - G (X): 1.722458580045865e-10\n",
      " - F2 (X): 2.0902949919636423e-09\n"
     ]
    },
    {
     "name": "stderr",
     "output_type": "stream",
     "text": [
      " 57% (116 of 200) |############          | Elapsed Time: 0:01:14 ETA:   0:00:57"
     ]
    },
    {
     "name": "stdout",
     "output_type": "stream",
     "text": [
      " - COST: 1.798087921724669e-06\n",
      "\n",
      " - ITERATION: 118\n",
      " - DATA FIDELITY (X): 1.7958342465178194e-06\n",
      " - G (X): 1.7220652229043716e-10\n",
      " - F2 (X): 2.0900022061803568e-09\n"
     ]
    },
    {
     "name": "stderr",
     "output_type": "stream",
     "text": [
      " 58% (117 of 200) |############          | Elapsed Time: 0:01:14 ETA:   0:00:56"
     ]
    },
    {
     "name": "stdout",
     "output_type": "stream",
     "text": [
      " - COST: 1.7980964552462902e-06\n",
      "\n",
      " - ITERATION: 119\n",
      " - DATA FIDELITY (X): 1.795842356427863e-06\n",
      " - G (X): 1.7217063576797797e-10\n",
      " - F2 (X): 2.0897445200161347e-09\n"
     ]
    },
    {
     "name": "stderr",
     "output_type": "stream",
     "text": [
      " 59% (118 of 200) |############          | Elapsed Time: 0:01:15 ETA:   0:00:49"
     ]
    },
    {
     "name": "stdout",
     "output_type": "stream",
     "text": [
      " - COST: 1.7981042715836471e-06\n",
      "\n",
      " - ITERATION: 120\n",
      " - DATA FIDELITY (X): 1.7958497750169107e-06\n",
      " - G (X): 1.7213776780848622e-10\n",
      " - F2 (X): 2.0895881808854044e-09\n"
     ]
    },
    {
     "name": "stderr",
     "output_type": "stream",
     "text": [
      " 59% (119 of 200) |#############         | Elapsed Time: 0:01:15 ETA:   0:00:48"
     ]
    },
    {
     "name": "stdout",
     "output_type": "stream",
     "text": [
      " - COST: 1.7981115009656046e-06\n",
      "\n",
      " - CONVERGENCE TEST - \n",
      " - CHANGE IN COST: 8.730170901306261e-06\n",
      "\n",
      " - ITERATION: 121\n",
      " - DATA FIDELITY (X): 1.7958565612288523e-06\n"
     ]
    },
    {
     "name": "stderr",
     "output_type": "stream",
     "text": [
      "\r",
      "                                                                               \r",
      "\r",
      " 59% (119 of 200) |#############         | Elapsed Time: 0:01:15 ETA:   0:00:48"
     ]
    },
    {
     "name": "stdout",
     "output_type": "stream",
     "text": [
      " - G (X): 1.7210770821587582e-10\n",
      " - F2 (X): 2.089519645116742e-09\n"
     ]
    },
    {
     "name": "stderr",
     "output_type": "stream",
     "text": [
      " 60% (120 of 200) |#############         | Elapsed Time: 0:01:16 ETA:   0:00:53"
     ]
    },
    {
     "name": "stdout",
     "output_type": "stream",
     "text": [
      " - COST: 1.798118188582185e-06\n",
      "\n",
      " - ITERATION: 122\n",
      " - DATA FIDELITY (X): 1.7958627690018622e-06\n"
     ]
    },
    {
     "name": "stderr",
     "output_type": "stream",
     "text": [
      " 60% (121 of 200) |#############         | Elapsed Time: 0:01:17 ETA:   0:00:56"
     ]
    },
    {
     "name": "stdout",
     "output_type": "stream",
     "text": [
      " - G (X): 1.7208021016629651e-10\n",
      " - F2 (X): 2.0894477672763145e-09\n",
      " - COST: 1.7981242969793046e-06\n",
      "\n",
      " - ITERATION: 123\n",
      " - DATA FIDELITY (X): 1.7958684476243908e-06\n"
     ]
    },
    {
     "name": "stderr",
     "output_type": "stream",
     "text": [
      "\r",
      "                                                                               \r",
      "\r",
      " 60% (121 of 200) |#############         | Elapsed Time: 0:01:17 ETA:   0:00:54"
     ]
    },
    {
     "name": "stdout",
     "output_type": "stream",
     "text": [
      " - G (X): 1.7205505939096037e-10\n",
      " - F2 (X): 2.089302326918136e-09\n"
     ]
    },
    {
     "name": "stderr",
     "output_type": "stream",
     "text": [
      " 61% (122 of 200) |#############         | Elapsed Time: 0:01:17 ETA:   0:00:55"
     ]
    },
    {
     "name": "stdout",
     "output_type": "stream",
     "text": [
      " - COST: 1.7981298050107e-06\n",
      "\n",
      " - ITERATION: 124\n",
      " - DATA FIDELITY (X): 1.795873642160799e-06\n"
     ]
    },
    {
     "name": "stderr",
     "output_type": "stream",
     "text": [
      "\r",
      "                                                                               \r",
      "\r",
      " 61% (122 of 200) |#############         | Elapsed Time: 0:01:18 ETA:   0:00:58"
     ]
    },
    {
     "name": "stdout",
     "output_type": "stream",
     "text": [
      " - G (X): 1.7203204852644056e-10\n",
      " - F2 (X): 2.089193773038895e-09\n"
     ]
    },
    {
     "name": "stderr",
     "output_type": "stream",
     "text": [
      " 61% (123 of 200) |#############         | Elapsed Time: 0:01:18 ETA:   0:00:56"
     ]
    },
    {
     "name": "stdout",
     "output_type": "stream",
     "text": [
      " - COST: 1.7981348679823644e-06\n",
      "\n",
      " - CONVERGENCE TEST - \n",
      " - CHANGE IN COST: 6.169576933940344e-06\n",
      "\n",
      " - ITERATION: 125\n",
      " - DATA FIDELITY (X): 1.795878393880605e-06\n"
     ]
    },
    {
     "name": "stderr",
     "output_type": "stream",
     "text": [
      " 62% (124 of 200) |#############         | Elapsed Time: 0:01:19 ETA:   0:00:53"
     ]
    },
    {
     "name": "stdout",
     "output_type": "stream",
     "text": [
      " - G (X): 1.7201099963054577e-10\n",
      " - F2 (X): 2.08908481234771e-09\n",
      " - COST: 1.7981394896925832e-06\n",
      "\n",
      " - ITERATION: 126\n",
      " - DATA FIDELITY (X): 1.795882740546513e-06\n",
      " - G (X): 1.7199175775445222e-10\n",
      " - F2 (X): 2.0889306255433397e-09\n"
     ]
    },
    {
     "name": "stderr",
     "output_type": "stream",
     "text": [
      " 62% (125 of 200) |#############         | Elapsed Time: 0:01:20 ETA:   0:00:51"
     ]
    },
    {
     "name": "stdout",
     "output_type": "stream",
     "text": [
      " - COST: 1.7981436629298107e-06\n",
      "\n",
      " - ITERATION: 127\n",
      " - DATA FIDELITY (X): 1.7958867166745096e-06\n",
      " - G (X): 1.7197413052893743e-10\n",
      " - F2 (X): 2.0887970826863868e-09\n"
     ]
    },
    {
     "name": "stderr",
     "output_type": "stream",
     "text": [
      " 63% (127 of 200) |#############         | Elapsed Time: 0:01:20 ETA:   0:00:49"
     ]
    },
    {
     "name": "stdout",
     "output_type": "stream",
     "text": [
      " - COST: 1.798147487887725e-06\n",
      "\n",
      " - ITERATION: 128\n",
      " - DATA FIDELITY (X): 1.7958903538457123e-06\n",
      " - G (X): 1.719580103525469e-10\n",
      " - F2 (X): 2.0886799449158165e-09\n",
      " - COST: 1.7981509918009806e-06\n",
      "\n",
      " - CONVERGENCE TEST - \n",
      " - CHANGE IN COST: 4.26190050632153e-06\n",
      "\n"
     ]
    },
    {
     "name": "stderr",
     "output_type": "stream",
     "text": [
      " 63% (127 of 200) |#############         | Elapsed Time: 0:01:21 ETA:   0:00:46"
     ]
    },
    {
     "name": "stdout",
     "output_type": "stream",
     "text": [
      " - ITERATION: 129\n",
      " - DATA FIDELITY (X): 1.795893680922729e-06\n",
      " - G (X): 1.7194328084327906e-10\n",
      " - F2 (X): 2.088540299925823e-09\n"
     ]
    },
    {
     "name": "stderr",
     "output_type": "stream",
     "text": [
      " 64% (128 of 200) |##############        | Elapsed Time: 0:01:21 ETA:   0:00:48"
     ]
    },
    {
     "name": "stdout",
     "output_type": "stream",
     "text": [
      " - COST: 1.7981541645034982e-06\n",
      "\n",
      " - ITERATION: 130\n",
      " - DATA FIDELITY (X): 1.7958967243501168e-06\n",
      " - G (X): 1.7192979822940176e-10\n",
      " - F2 (X): 2.0884142215916456e-09\n"
     ]
    },
    {
     "name": "stderr",
     "output_type": "stream",
     "text": [
      " 65% (130 of 200) |##############        | Elapsed Time: 0:01:22 ETA:   0:00:41"
     ]
    },
    {
     "name": "stdout",
     "output_type": "stream",
     "text": [
      " - COST: 1.798157068369938e-06\n",
      "\n",
      " - ITERATION: 131\n",
      " - DATA FIDELITY (X): 1.7958995083143614e-06\n",
      " - G (X): 1.7191744750372665e-10\n",
      " - F2 (X): 2.0882735259320722e-09\n",
      " - COST: 1.7981596992877973e-06\n",
      "\n"
     ]
    },
    {
     "name": "stderr",
     "output_type": "stream",
     "text": [
      " 65% (130 of 200) |##############        | Elapsed Time: 0:01:23 ETA:   0:00:43"
     ]
    },
    {
     "name": "stdout",
     "output_type": "stream",
     "text": [
      " - ITERATION: 132\n",
      " - DATA FIDELITY (X): 1.7959020549140066e-06\n",
      " - G (X): 1.7190618182901332e-10\n",
      " - F2 (X): 2.088146064507979e-09\n"
     ]
    },
    {
     "name": "stderr",
     "output_type": "stream",
     "text": [
      " 66% (132 of 200) |##############        | Elapsed Time: 0:01:23 ETA:   0:00:46"
     ]
    },
    {
     "name": "stdout",
     "output_type": "stream",
     "text": [
      " - COST: 1.7981621071603436e-06\n",
      "\n",
      " - CONVERGENCE TEST - \n",
      " - CHANGE IN COST: 2.940108053130237e-06\n",
      "\n",
      " - ITERATION: 133\n",
      " - DATA FIDELITY (X): 1.795904384422775e-06\n",
      " - G (X): 1.7189586447619455e-10\n",
      " - F2 (X): 2.0880918825109937e-09\n",
      " - COST: 1.798164372169762e-06\n",
      "\n"
     ]
    },
    {
     "name": "stderr",
     "output_type": "stream",
     "text": [
      " 66% (132 of 200) |##############        | Elapsed Time: 0:01:24 ETA:   0:00:46"
     ]
    },
    {
     "name": "stdout",
     "output_type": "stream",
     "text": [
      " - ITERATION: 134\n",
      " - DATA FIDELITY (X): 1.7959065153570304e-06\n",
      " - G (X): 1.7188642821587625e-10\n",
      " - F2 (X): 2.0880520857699006e-09\n"
     ]
    },
    {
     "name": "stderr",
     "output_type": "stream",
     "text": [
      " 66% (133 of 200) |##############        | Elapsed Time: 0:01:24 ETA:   0:00:46"
     ]
    },
    {
     "name": "stdout",
     "output_type": "stream",
     "text": [
      " - COST: 1.7981664538710162e-06\n",
      "\n",
      " - ITERATION: 135\n",
      " - DATA FIDELITY (X): 1.795908464656073e-06\n",
      " - G (X): 1.7187779464384793e-10\n",
      " - F2 (X): 2.0880142370767114e-09\n"
     ]
    },
    {
     "name": "stderr",
     "output_type": "stream",
     "text": [
      " 67% (134 of 200) |##############        | Elapsed Time: 0:01:25 ETA:   0:00:41"
     ]
    },
    {
     "name": "stdout",
     "output_type": "stream",
     "text": [
      " - COST: 1.7981683566877937e-06\n",
      "\n",
      " - ITERATION: 136\n",
      " - DATA FIDELITY (X): 1.7959102477660378e-06\n",
      " - G (X): 1.7186989520764117e-10\n",
      " - F2 (X): 2.0879815662793456e-09\n"
     ]
    },
    {
     "name": "stderr",
     "output_type": "stream",
     "text": [
      "                                                                               \r"
     ]
    },
    {
     "name": "stdout",
     "output_type": "stream",
     "text": [
      " - COST: 1.7981700992275248e-06\n",
      "\n",
      " - CONVERGENCE TEST - \n",
      " - CHANGE IN COST: 2.121567431287968e-06\n",
      "\n",
      " - ITERATION: 137\n",
      " - DATA FIDELITY (X): 1.7959118788690358e-06\n"
     ]
    },
    {
     "name": "stderr",
     "output_type": "stream",
     "text": [
      "\r",
      " 67% (135 of 200) |##############        | Elapsed Time: 0:01:26 ETA:   0:00:38"
     ]
    },
    {
     "name": "stdout",
     "output_type": "stream",
     "text": [
      " - G (X): 1.718626955035687e-10\n",
      " - F2 (X): 2.087944666974928e-09\n"
     ]
    },
    {
     "name": "stderr",
     "output_type": "stream",
     "text": [
      "                                                                               \r"
     ]
    },
    {
     "name": "stdout",
     "output_type": "stream",
     "text": [
      " - COST: 1.7981716862315144e-06\n",
      "\n",
      " - ITERATION: 138\n",
      " - DATA FIDELITY (X): 1.7959133709138713e-06\n"
     ]
    },
    {
     "name": "stderr",
     "output_type": "stream",
     "text": [
      "\r",
      " 68% (137 of 200) |###############       | Elapsed Time: 0:01:26 ETA:   0:00:36"
     ]
    },
    {
     "name": "stdout",
     "output_type": "stream",
     "text": [
      " - G (X): 1.7185605617517738e-10\n",
      " - F2 (X): 2.0878753411354704e-09\n",
      " - COST: 1.798173102311182e-06\n",
      "\n"
     ]
    },
    {
     "name": "stderr",
     "output_type": "stream",
     "text": [
      " 68% (137 of 200) |###############       | Elapsed Time: 0:01:27 ETA:   0:00:42"
     ]
    },
    {
     "name": "stdout",
     "output_type": "stream",
     "text": [
      " - ITERATION: 139\n",
      " - DATA FIDELITY (X): 1.7959147357390852e-06\n",
      " - G (X): 1.718500065100321e-10\n",
      " - F2 (X): 2.0877935110527904e-09\n"
     ]
    },
    {
     "name": "stderr",
     "output_type": "stream",
     "text": [
      " 69% (138 of 200) |###############       | Elapsed Time: 0:01:28 ETA:   0:00:42"
     ]
    },
    {
     "name": "stdout",
     "output_type": "stream",
     "text": [
      " - COST: 1.798174379256648e-06\n",
      "\n",
      " - ITERATION: 140\n",
      " - DATA FIDELITY (X): 1.7959159841783707e-06\n",
      " - G (X): 1.7184447265937048e-10\n",
      " - F2 (X): 2.0877314513551616e-09\n"
     ]
    },
    {
     "name": "stderr",
     "output_type": "stream",
     "text": [
      " 69% (139 of 200) |###############       | Elapsed Time: 0:01:28 ETA:   0:00:41"
     ]
    },
    {
     "name": "stdout",
     "output_type": "stream",
     "text": [
      " - COST: 1.7981755601023852e-06\n",
      "\n",
      " - CONVERGENCE TEST - \n",
      " - CHANGE IN COST: 1.432234466496296e-06\n",
      "\n",
      " - ITERATION: 141\n",
      " - DATA FIDELITY (X): 1.7959171261695278e-06\n",
      " - G (X): 1.7183941042275462e-10\n",
      " - F2 (X): 2.0876427203338838e-09\n"
     ]
    },
    {
     "name": "stderr",
     "output_type": "stream",
     "text": [
      " 70% (140 of 200) |###############       | Elapsed Time: 0:01:29 ETA:   0:00:40"
     ]
    },
    {
     "name": "stdout",
     "output_type": "stream",
     "text": [
      " - COST: 1.7981766083002845e-06\n",
      "\n",
      " - ITERATION: 142\n",
      " - DATA FIDELITY (X): 1.795918170771291e-06\n",
      " - G (X): 1.7183477885054251e-10\n",
      " - F2 (X): 2.0875416173185487e-09\n"
     ]
    },
    {
     "name": "stderr",
     "output_type": "stream",
     "text": [
      " 71% (142 of 200) |###############       | Elapsed Time: 0:01:29 ETA:   0:00:34"
     ]
    },
    {
     "name": "stdout",
     "output_type": "stream",
     "text": [
      " - COST: 1.79817754716746e-06\n",
      "\n",
      " - ITERATION: 143\n",
      " - DATA FIDELITY (X): 1.7959191262914926e-06\n",
      " - G (X): 1.718305425894249e-10\n",
      " - F2 (X): 2.087472910005783e-09\n",
      " - COST: 1.798178429744088e-06\n",
      "\n"
     ]
    },
    {
     "name": "stderr",
     "output_type": "stream",
     "text": [
      " 71% (142 of 200) |###############       | Elapsed Time: 0:01:30 ETA:   0:00:35"
     ]
    },
    {
     "name": "stdout",
     "output_type": "stream",
     "text": [
      " - ITERATION: 144\n",
      " - DATA FIDELITY (X): 1.7959200003231335e-06\n",
      " - G (X): 1.7182666747153406e-10\n",
      " - F2 (X): 2.0874039406000627e-09\n"
     ]
    },
    {
     "name": "stderr",
     "output_type": "stream",
     "text": [
      " 71% (143 of 200) |###############       | Elapsed Time: 0:01:31 ETA:   0:00:38"
     ]
    },
    {
     "name": "stdout",
     "output_type": "stream",
     "text": [
      " - COST: 1.7981792309312052e-06\n",
      "\n",
      " - CONVERGENCE TEST - \n",
      " - CHANGE IN COST: 9.746548811632602e-07\n",
      "\n",
      " - ITERATION: 145\n",
      " - DATA FIDELITY (X): 1.7959207998272748e-06\n",
      " - G (X): 1.7182311063398346e-10\n",
      " - F2 (X): 2.087386764392317e-09\n"
     ]
    },
    {
     "name": "stderr",
     "output_type": "stream",
     "text": [
      " 72% (144 of 200) |###############       | Elapsed Time: 0:01:31 ETA:   0:00:38"
     ]
    },
    {
     "name": "stdout",
     "output_type": "stream",
     "text": [
      " - COST: 1.798180009702301e-06\n",
      "\n",
      " - ITERATION: 146\n",
      " - DATA FIDELITY (X): 1.7959215311515862e-06\n",
      " - G (X): 1.7181988041634874e-10\n",
      " - F2 (X): 2.087358323184947e-09\n"
     ]
    },
    {
     "name": "stderr",
     "output_type": "stream",
     "text": [
      " 72% (145 of 200) |###############       | Elapsed Time: 0:01:32 ETA:   0:00:34"
     ]
    },
    {
     "name": "stdout",
     "output_type": "stream",
     "text": [
      " - COST: 1.7981807093551876e-06\n",
      "\n",
      " - ITERATION: 147\n",
      " - DATA FIDELITY (X): 1.7959222000896676e-06\n"
     ]
    },
    {
     "name": "stderr",
     "output_type": "stream",
     "text": [
      "\r",
      "                                                                               \r",
      "\r",
      " 72% (145 of 200) |###############       | Elapsed Time: 0:01:32 ETA:   0:00:34"
     ]
    },
    {
     "name": "stdout",
     "output_type": "stream",
     "text": [
      " - G (X): 1.7181691498292797e-10\n",
      " - F2 (X): 2.0873573355081295e-09\n"
     ]
    },
    {
     "name": "stderr",
     "output_type": "stream",
     "text": [
      " 73% (146 of 200) |################      | Elapsed Time: 0:01:32 ETA:   0:00:36"
     ]
    },
    {
     "name": "stdout",
     "output_type": "stream",
     "text": [
      " - COST: 1.7981813743401587e-06\n",
      "\n",
      " - ITERATION: 148\n",
      " - DATA FIDELITY (X): 1.7959228119725428e-06\n",
      " - G (X): 1.71814207795803e-10\n",
      " - F2 (X): 2.087377859017946e-09\n"
     ]
    },
    {
     "name": "stderr",
     "output_type": "stream",
     "text": [
      " 73% (147 of 200) |################      | Elapsed Time: 0:01:33 ETA:   0:00:31"
     ]
    },
    {
     "name": "stdout",
     "output_type": "stream",
     "text": [
      " - COST: 1.7981820040393567e-06\n",
      "\n",
      " - CONVERGENCE TEST - \n",
      " - CHANGE IN COST: 7.394475327774689e-07\n",
      "\n",
      " - ITERATION: 149\n",
      " - DATA FIDELITY (X): 1.795923371633528e-06\n"
     ]
    },
    {
     "name": "stderr",
     "output_type": "stream",
     "text": [
      "\r",
      "                                                                               \r",
      "\r",
      " 73% (147 of 200) |################      | Elapsed Time: 0:01:33 ETA:   0:00:31"
     ]
    },
    {
     "name": "stdout",
     "output_type": "stream",
     "text": [
      " - G (X): 1.718117211581728e-10\n",
      " - F2 (X): 2.087381740734023e-09\n"
     ]
    },
    {
     "name": "stderr",
     "output_type": "stream",
     "text": [
      " 74% (148 of 200) |################      | Elapsed Time: 0:01:34 ETA:   0:00:35"
     ]
    },
    {
     "name": "stdout",
     "output_type": "stream",
     "text": [
      " - COST: 1.7981825650954201e-06\n",
      "\n",
      " - ITERATION: 150\n",
      " - DATA FIDELITY (X): 1.7959238835287217e-06\n",
      " - G (X): 1.7180944940744633e-10\n",
      " - F2 (X): 2.0873722225217027e-09\n"
     ]
    },
    {
     "name": "stderr",
     "output_type": "stream",
     "text": [
      " 74% (149 of 200) |################      | Elapsed Time: 0:01:34 ETA:   0:00:31"
     ]
    },
    {
     "name": "stdout",
     "output_type": "stream",
     "text": [
      " - COST: 1.798183065200651e-06\n",
      "\n",
      " - ITERATION: 151\n",
      " - DATA FIDELITY (X): 1.7959243517153138e-06\n",
      " - G (X): 1.7180736981508002e-10\n",
      " - F2 (X): 2.0873716891367525e-09\n"
     ]
    },
    {
     "name": "stderr",
     "output_type": "stream",
     "text": [
      " 75% (150 of 200) |################      | Elapsed Time: 0:01:35 ETA:   0:00:29"
     ]
    },
    {
     "name": "stdout",
     "output_type": "stream",
     "text": [
      " - COST: 1.7981835307742656e-06\n",
      "\n",
      " - ITERATION: 152\n",
      " - DATA FIDELITY (X): 1.795924779915449e-06\n",
      " - G (X): 1.71805468476647e-10\n",
      " - F2 (X): 2.087340540281505e-09\n"
     ]
    },
    {
     "name": "stderr",
     "output_type": "stream",
     "text": [
      " 75% (151 of 200) |################      | Elapsed Time: 0:01:35 ETA:   0:00:30"
     ]
    },
    {
     "name": "stdout",
     "output_type": "stream",
     "text": [
      " - COST: 1.7981839259242072e-06\n",
      "\n",
      " - CONVERGENCE TEST - \n",
      " - CHANGE IN COST: 5.078464377420113e-07\n",
      "\n",
      " - ITERATION: 153\n",
      " - DATA FIDELITY (X): 1.7959251715532586e-06\n",
      " - G (X): 1.718037273379615e-10\n",
      " - F2 (X): 2.08729520033049e-09\n"
     ]
    },
    {
     "name": "stderr",
     "output_type": "stream",
     "text": [
      " 76% (152 of 200) |################      | Elapsed Time: 0:01:36 ETA:   0:00:32"
     ]
    },
    {
     "name": "stdout",
     "output_type": "stream",
     "text": [
      " - COST: 1.798184270480927e-06\n",
      "\n",
      " - ITERATION: 154\n",
      " - DATA FIDELITY (X): 1.7959255297687813e-06\n",
      " - G (X): 1.7180213144679637e-10\n",
      " - F2 (X): 2.0872519351681214e-09\n"
     ]
    },
    {
     "name": "stderr",
     "output_type": "stream",
     "text": [
      " 76% (153 of 200) |################      | Elapsed Time: 0:01:37 ETA:   0:00:31"
     ]
    },
    {
     "name": "stdout",
     "output_type": "stream",
     "text": [
      " - COST: 1.7981845838353963e-06\n",
      "\n",
      " - ITERATION: 155\n",
      " - DATA FIDELITY (X): 1.7959258574204194e-06\n",
      " - G (X): 1.7180067686954854e-10\n",
      " - F2 (X): 2.0872171901987995e-09\n"
     ]
    },
    {
     "name": "stderr",
     "output_type": "stream",
     "text": [
      " 77% (154 of 200) |################      | Elapsed Time: 0:01:37 ETA:   0:00:31"
     ]
    },
    {
     "name": "stdout",
     "output_type": "stream",
     "text": [
      " - COST: 1.7981848752874877e-06\n",
      "\n",
      " - ITERATION: 156\n",
      " - DATA FIDELITY (X): 1.7959261571186915e-06\n",
      " - G (X): 1.7632751424520097e-10\n",
      " - F2 (X): 2.087245780854179e-09\n"
     ]
    },
    {
     "name": "stderr",
     "output_type": "stream",
     "text": [
      " 77% (155 of 200) |#################     | Elapsed Time: 0:01:38 ETA:   0:00:31"
     ]
    },
    {
     "name": "stdout",
     "output_type": "stream",
     "text": [
      " - COST: 1.7981897304137909e-06\n",
      "\n",
      " - CONVERGENCE TEST - \n",
      " - CHANGE IN COST: 1.5992174302345733e-06\n",
      "\n",
      " - ITERATION: 157\n",
      " - DATA FIDELITY (X): 1.795926431245409e-06\n",
      " - G (X): 1.717981294673971e-10\n",
      " - F2 (X): 2.087241592439821e-09\n"
     ]
    },
    {
     "name": "stderr",
     "output_type": "stream",
     "text": [
      " 78% (156 of 200) |#################     | Elapsed Time: 0:01:39 ETA:   0:00:30"
     ]
    },
    {
     "name": "stdout",
     "output_type": "stream",
     "text": [
      " - COST: 1.7981854709673163e-06\n",
      "\n",
      " - ITERATION: 158\n",
      " - DATA FIDELITY (X): 1.7959266819803097e-06\n",
      " - G (X): 1.7179700968155892e-10\n",
      " - F2 (X): 2.0872399932297404e-09\n"
     ]
    },
    {
     "name": "stderr",
     "output_type": "stream",
     "text": [
      " 78% (157 of 200) |#################     | Elapsed Time: 0:01:39 ETA:   0:00:29"
     ]
    },
    {
     "name": "stdout",
     "output_type": "stream",
     "text": [
      " - COST: 1.7981857189832209e-06\n",
      "\n",
      " - ITERATION: 159\n",
      " - DATA FIDELITY (X): 1.7959269113037752e-06\n",
      " - G (X): 1.717959959511107e-10\n",
      " - F2 (X): 2.0872616448186054e-09\n"
     ]
    },
    {
     "name": "stderr",
     "output_type": "stream",
     "text": [
      " 79% (158 of 200) |#################     | Elapsed Time: 0:01:40 ETA:   0:00:25"
     ]
    },
    {
     "name": "stdout",
     "output_type": "stream",
     "text": [
      " - COST: 1.798185968944545e-06\n",
      "\n",
      " - ITERATION: 160\n",
      " - DATA FIDELITY (X): 1.7959271210640383e-06\n",
      " - G (X): 1.7179506798853348e-10\n"
     ]
    },
    {
     "name": "stderr",
     "output_type": "stream",
     "text": [
      " 80% (160 of 200) |#################     | Elapsed Time: 0:01:41 ETA:   0:00:27"
     ]
    },
    {
     "name": "stdout",
     "output_type": "stream",
     "text": [
      " - F2 (X): 2.087380876455031e-09\n",
      " - COST: 1.7981862970084817e-06\n",
      "\n",
      " - CONVERGENCE TEST - \n",
      " - CHANGE IN COST: 2.99191076437753e-07\n",
      "\n",
      " - ITERATION: 161\n",
      " - DATA FIDELITY (X): 1.7959273129759556e-06\n",
      " - G (X): 1.7179731624605515e-10\n",
      " - F2 (X): 2.0874792826442905e-09\n",
      " - COST: 1.7981865895748458e-06\n",
      "\n"
     ]
    },
    {
     "name": "stderr",
     "output_type": "stream",
     "text": [
      " 80% (160 of 200) |#################     | Elapsed Time: 0:01:41 ETA:   0:00:28"
     ]
    },
    {
     "name": "stdout",
     "output_type": "stream",
     "text": [
      " - ITERATION: 162\n",
      " - DATA FIDELITY (X): 1.7959274885603604e-06\n",
      " - G (X): 1.7179344495598226e-10\n",
      " - F2 (X): 2.0875215722353406e-09\n"
     ]
    },
    {
     "name": "stderr",
     "output_type": "stream",
     "text": [
      " 80% (161 of 200) |#################     | Elapsed Time: 0:01:42 ETA:   0:00:26"
     ]
    },
    {
     "name": "stdout",
     "output_type": "stream",
     "text": [
      " - COST: 1.7981868035775518e-06\n",
      "\n",
      " - ITERATION: 163\n",
      " - DATA FIDELITY (X): 1.7959276492031874e-06\n",
      " - G (X): 1.7179272785460104e-10\n",
      " - F2 (X): 2.087505279691553e-09\n"
     ]
    },
    {
     "name": "stderr",
     "output_type": "stream",
     "text": [
      " 81% (162 of 200) |#################     | Elapsed Time: 0:01:42 ETA:   0:00:24"
     ]
    },
    {
     "name": "stdout",
     "output_type": "stream",
     "text": [
      " - COST: 1.7981869472107335e-06\n",
      "\n",
      " - ITERATION: 164\n",
      " - DATA FIDELITY (X): 1.795927796175642e-06\n"
     ]
    },
    {
     "name": "stderr",
     "output_type": "stream",
     "text": [
      "\r",
      "                                                                               \r",
      "\r",
      " 81% (163 of 200) |#################     | Elapsed Time: 0:01:42 ETA:   0:00:23"
     ]
    },
    {
     "name": "stdout",
     "output_type": "stream",
     "text": [
      " - G (X): 1.7179204703671093e-10\n",
      " - F2 (X): 2.087431117891076e-09\n",
      " - COST: 1.79818701934057e-06\n",
      "\n",
      " - CONVERGENCE TEST - \n",
      " - CHANGE IN COST: 1.5943806487296163e-07\n",
      "\n"
     ]
    },
    {
     "name": "stderr",
     "output_type": "stream",
     "text": [
      " 81% (163 of 200) |#################     | Elapsed Time: 0:01:43 ETA:   0:00:25"
     ]
    },
    {
     "name": "stdout",
     "output_type": "stream",
     "text": [
      " - ITERATION: 165\n",
      " - DATA FIDELITY (X): 1.7959279306185004e-06\n",
      " - G (X): 1.717914622839132e-10\n",
      " - F2 (X): 2.087338374021929e-09\n"
     ]
    },
    {
     "name": "stderr",
     "output_type": "stream",
     "text": [
      " 82% (164 of 200) |##################    | Elapsed Time: 0:01:44 ETA:   0:00:21"
     ]
    },
    {
     "name": "stdout",
     "output_type": "stream",
     "text": [
      " - COST: 1.7981870604548064e-06\n",
      "\n",
      " - ITERATION: 166\n",
      " - DATA FIDELITY (X): 1.7959280535882907e-06\n",
      " - G (X): 1.7179090859076786e-10\n",
      " - F2 (X): 2.0872404563445395e-09\n"
     ]
    },
    {
     "name": "stderr",
     "output_type": "stream",
     "text": [
      " 82% (165 of 200) |##################    | Elapsed Time: 0:01:44 ETA:   0:00:20"
     ]
    },
    {
     "name": "stdout",
     "output_type": "stream",
     "text": [
      " - COST: 1.798187084953226e-06\n",
      "\n",
      " - ITERATION: 167\n",
      " - DATA FIDELITY (X): 1.7959281660654555e-06\n",
      " - G (X): 1.717903802308145e-10\n",
      " - F2 (X): 2.087144067529887e-09\n"
     ]
    },
    {
     "name": "stderr",
     "output_type": "stream",
     "text": [
      " 83% (166 of 200) |##################    | Elapsed Time: 0:01:45 ETA:   0:00:20"
     ]
    },
    {
     "name": "stdout",
     "output_type": "stream",
     "text": [
      " - COST: 1.798187100513216e-06\n",
      "\n",
      " - ITERATION: 168\n",
      " - DATA FIDELITY (X): 1.7959282689544654e-06\n",
      " - G (X): 1.717899290686288e-10\n",
      " - F2 (X): 2.087068270749968e-09\n"
     ]
    },
    {
     "name": "stderr",
     "output_type": "stream",
     "text": [
      " 83% (167 of 200) |##################    | Elapsed Time: 0:01:45 ETA:   0:00:18"
     ]
    },
    {
     "name": "stdout",
     "output_type": "stream",
     "text": [
      " - COST: 1.7981871271542839e-06\n",
      "\n",
      " - CONVERGENCE TEST - \n",
      " - CHANGE IN COST: 2.2872888705638104e-08\n",
      "\n",
      " - ITERATION: 169\n",
      " - DATA FIDELITY (X): 1.795928363083896e-06\n",
      " - G (X): 1.717895213599446e-10\n",
      " - F2 (X): 2.087082652401509e-09\n"
     ]
    },
    {
     "name": "stderr",
     "output_type": "stream",
     "text": [
      " 84% (168 of 200) |##################    | Elapsed Time: 0:01:46 ETA:   0:00:18"
     ]
    },
    {
     "name": "stdout",
     "output_type": "stream",
     "text": [
      " - COST: 1.7981872352576574e-06\n",
      "\n",
      " - ITERATION: 170\n",
      " - DATA FIDELITY (X): 1.7959284491658107e-06\n",
      " - G (X): 1.7178913934127426e-10\n",
      " - F2 (X): 2.087092378070725e-09\n"
     ]
    },
    {
     "name": "stderr",
     "output_type": "stream",
     "text": [
      " 84% (169 of 200) |##################    | Elapsed Time: 0:01:47 ETA:   0:00:18"
     ]
    },
    {
     "name": "stdout",
     "output_type": "stream",
     "text": [
      " - COST: 1.7981873306832227e-06\n",
      "\n",
      " - ITERATION: 171\n",
      " - DATA FIDELITY (X): 1.7959285278808138e-06\n",
      " - G (X): 1.717887883739047e-10\n",
      " - F2 (X): 2.0871078568081373e-09\n"
     ]
    },
    {
     "name": "stderr",
     "output_type": "stream",
     "text": [
      " 85% (170 of 200) |##################    | Elapsed Time: 0:01:47 ETA:   0:00:17"
     ]
    },
    {
     "name": "stdout",
     "output_type": "stream",
     "text": [
      " - COST: 1.798187424525996e-06\n",
      "\n",
      " - ITERATION: 172\n",
      " - DATA FIDELITY (X): 1.7959285998633173e-06\n",
      " - G (X): 1.717884658128488e-10\n",
      " - F2 (X): 2.087103934376369e-09\n"
     ]
    },
    {
     "name": "stderr",
     "output_type": "stream",
     "text": [
      " 85% (171 of 200) |##################    | Elapsed Time: 0:01:48 ETA:   0:00:17"
     ]
    },
    {
     "name": "stdout",
     "output_type": "stream",
     "text": [
      " - COST: 1.7981874922635064e-06\n",
      "\n",
      " - CONVERGENCE TEST - \n",
      " - CHANGE IN COST: 9.755618664157944e-08\n",
      "\n",
      " - ITERATION: 173\n",
      " - DATA FIDELITY (X): 1.7959286657007043e-06\n",
      " - G (X): 1.7178816954726968e-10\n",
      " - F2 (X): 2.08708124065558e-09\n"
     ]
    },
    {
     "name": "stderr",
     "output_type": "stream",
     "text": [
      " 86% (172 of 200) |##################    | Elapsed Time: 0:01:48 ETA:   0:00:16"
     ]
    },
    {
     "name": "stdout",
     "output_type": "stream",
     "text": [
      " - COST: 1.7981875351109073e-06\n",
      "\n",
      " - ITERATION: 174\n",
      " - DATA FIDELITY (X): 1.795928725919325e-06\n",
      " - G (X): 1.7178789859162371e-10\n",
      " - F2 (X): 2.0870789175850453e-09\n"
     ]
    },
    {
     "name": "stderr",
     "output_type": "stream",
     "text": [
      " 86% (173 of 200) |###################   | Elapsed Time: 0:01:49 ETA:   0:00:15"
     ]
    },
    {
     "name": "stdout",
     "output_type": "stream",
     "text": [
      " - COST: 1.7981875927355017e-06\n",
      "\n",
      " - ITERATION: 175\n",
      " - DATA FIDELITY (X): 1.7959287810225577e-06\n",
      " - G (X): 1.717875967932084e-10\n",
      " - F2 (X): 2.0871100451606624e-09\n"
     ]
    },
    {
     "name": "stderr",
     "output_type": "stream",
     "text": [
      " 87% (174 of 200) |###################   | Elapsed Time: 0:01:50 ETA:   0:00:17"
     ]
    },
    {
     "name": "stdout",
     "output_type": "stream",
     "text": [
      " - COST: 1.7981876786645115e-06\n",
      "\n",
      " - ITERATION: 176\n",
      " - DATA FIDELITY (X): 1.79592883143859e-06\n",
      " - G (X): 1.717874269773301e-10\n",
      " - F2 (X): 2.0871074395117215e-09\n"
     ]
    },
    {
     "name": "stderr",
     "output_type": "stream",
     "text": [
      " 87% (175 of 200) |###################   | Elapsed Time: 0:01:50 ETA:   0:00:17"
     ]
    },
    {
     "name": "stdout",
     "output_type": "stream",
     "text": [
      " - COST: 1.798187726305079e-06\n",
      "\n",
      " - CONVERGENCE TEST - \n",
      " - CHANGE IN COST: 7.705624422005169e-08\n",
      "\n",
      " - ITERATION: 177\n",
      " - DATA FIDELITY (X): 1.7959288775607895e-06\n",
      " - G (X): 1.717872196651087e-10\n",
      " - F2 (X): 2.0870801167854896e-09\n"
     ]
    },
    {
     "name": "stderr",
     "output_type": "stream",
     "text": [
      " 88% (176 of 200) |###################   | Elapsed Time: 0:01:51 ETA:   0:00:16"
     ]
    },
    {
     "name": "stdout",
     "output_type": "stream",
     "text": [
      " - COST: 1.79818774489724e-06\n",
      "\n",
      " - ITERATION: 178\n",
      " - DATA FIDELITY (X): 1.7959289197617257e-06\n",
      " - G (X): 1.7178702918911527e-10\n",
      " - F2 (X): 2.0870595843513536e-09\n"
     ]
    },
    {
     "name": "stderr",
     "output_type": "stream",
     "text": [
      " 89% (178 of 200) |###################   | Elapsed Time: 0:01:51 ETA:   0:00:13"
     ]
    },
    {
     "name": "stdout",
     "output_type": "stream",
     "text": [
      " - COST: 1.7981877663752662e-06\n",
      "\n",
      " - ITERATION: 179\n",
      " - DATA FIDELITY (X): 1.7959289583888536e-06\n",
      " - G (X): 1.7178685444316771e-10\n",
      " - F2 (X): 2.0870331972707636e-09\n",
      " - COST: 1.7981877784405676e-06\n",
      "\n"
     ]
    },
    {
     "name": "stderr",
     "output_type": "stream",
     "text": [
      " 89% (178 of 200) |###################   | Elapsed Time: 0:01:52 ETA:   0:00:13"
     ]
    },
    {
     "name": "stdout",
     "output_type": "stream",
     "text": [
      " - ITERATION: 180\n",
      " - DATA FIDELITY (X): 1.7959289937466319e-06\n",
      " - G (X): 1.7178669421191517e-10\n",
      " - F2 (X): 2.0870019398229274e-09\n"
     ]
    },
    {
     "name": "stderr",
     "output_type": "stream",
     "text": [
      " 89% (179 of 200) |###################   | Elapsed Time: 0:01:53 ETA:   0:00:12"
     ]
    },
    {
     "name": "stdout",
     "output_type": "stream",
     "text": [
      " - COST: 1.7981877823806667e-06\n",
      "\n",
      " - CONVERGENCE TEST - \n",
      " - CHANGE IN COST: 1.3777406470045967e-08\n",
      "\n",
      " - ITERATION: 181\n",
      " - DATA FIDELITY (X): 1.7959290260920884e-06\n",
      " - G (X): 1.7178654547101197e-10\n",
      " - F2 (X): 2.0869696290759736e-09\n"
     ]
    },
    {
     "name": "stderr",
     "output_type": "stream",
     "text": [
      " 90% (180 of 200) |###################   | Elapsed Time: 0:01:53 ETA:   0:00:11"
     ]
    },
    {
     "name": "stdout",
     "output_type": "stream",
     "text": [
      " - COST: 1.7981877822666353e-06\n",
      "\n",
      " - ITERATION: 182\n",
      " - DATA FIDELITY (X): 1.79592905567266e-06\n",
      " - G (X): 1.7178641296808807e-10\n",
      " - F2 (X): 2.0869579438360273e-09\n"
     ]
    },
    {
     "name": "stderr",
     "output_type": "stream",
     "text": [
      " 90% (181 of 200) |###################   | Elapsed Time: 0:01:54 ETA:   0:00:11"
     ]
    },
    {
     "name": "stdout",
     "output_type": "stream",
     "text": [
      " - COST: 1.7981878000294642e-06\n",
      "\n",
      " - ITERATION: 183\n",
      " - DATA FIDELITY (X): 1.795929082710673e-06\n"
     ]
    },
    {
     "name": "stderr",
     "output_type": "stream",
     "text": [
      " 91% (183 of 200) |####################  | Elapsed Time: 0:01:54 ETA:   0:00:11"
     ]
    },
    {
     "name": "stdout",
     "output_type": "stream",
     "text": [
      " - G (X): 1.7178629106936878e-10\n",
      " - F2 (X): 2.0869428798112802e-09\n",
      " - COST: 1.7981878118815535e-06\n",
      "\n",
      " - ITERATION: 184\n",
      " - DATA FIDELITY (X): 1.7959291074176205e-06\n",
      " - G (X): 1.7178617486057228e-10\n",
      " - F2 (X): 2.0869244075889576e-09\n",
      " - COST: 1.7981878180000702e-06\n",
      "\n",
      " - CONVERGENCE TEST - \n",
      " - CHANGE IN COST: 1.3231522226921801e-08\n",
      "\n"
     ]
    },
    {
     "name": "stderr",
     "output_type": "stream",
     "text": [
      " 91% (183 of 200) |####################  | Elapsed Time: 0:01:55 ETA:   0:00:11"
     ]
    },
    {
     "name": "stdout",
     "output_type": "stream",
     "text": [
      " - ITERATION: 185\n",
      " - DATA FIDELITY (X): 1.7959291299968952e-06\n"
     ]
    },
    {
     "name": "stderr",
     "output_type": "stream",
     "text": [
      "\r",
      "                                                                               \r",
      "\r",
      " 91% (183 of 200) |####################  | Elapsed Time: 0:01:55 ETA:   0:00:12"
     ]
    },
    {
     "name": "stdout",
     "output_type": "stream",
     "text": [
      " - G (X): 1.7178607581050762e-10\n",
      " - F2 (X): 2.0869102474443637e-09\n"
     ]
    },
    {
     "name": "stderr",
     "output_type": "stream",
     "text": [
      " 92% (184 of 200) |####################  | Elapsed Time: 0:01:56 ETA:   0:00:11"
     ]
    },
    {
     "name": "stdout",
     "output_type": "stream",
     "text": [
      " - COST: 1.79818782632015e-06\n",
      "\n",
      " - ITERATION: 186\n",
      " - DATA FIDELITY (X): 1.7959291506347353e-06\n",
      " - G (X): 1.7178584390881286e-10\n",
      " - F2 (X): 2.08690631320413e-09\n"
     ]
    },
    {
     "name": "stderr",
     "output_type": "stream",
     "text": [
      " 92% (185 of 200) |####################  | Elapsed Time: 0:01:57 ETA:   0:00:10"
     ]
    },
    {
     "name": "stdout",
     "output_type": "stream",
     "text": [
      " - COST: 1.798187842791848e-06\n",
      "\n",
      " - ITERATION: 187\n",
      " - DATA FIDELITY (X): 1.795929169502733e-06\n",
      " - G (X): 1.7178589498638008e-10\n",
      " - F2 (X): 2.0868991528024507e-09\n"
     ]
    },
    {
     "name": "stderr",
     "output_type": "stream",
     "text": [
      " 93% (186 of 200) |####################  | Elapsed Time: 0:01:57 ETA:   0:00:09"
     ]
    },
    {
     "name": "stdout",
     "output_type": "stream",
     "text": [
      " - COST: 1.7981878545505216e-06\n",
      "\n",
      " - ITERATION: 188\n",
      " - DATA FIDELITY (X): 1.7959291867569406e-06\n",
      " - G (X): 1.7178581567855958e-10\n",
      " - F2 (X): 2.0868872141885798e-09\n"
     ]
    },
    {
     "name": "stderr",
     "output_type": "stream",
     "text": [
      " 93% (187 of 200) |####################  | Elapsed Time: 0:01:58 ETA:   0:00:07"
     ]
    },
    {
     "name": "stdout",
     "output_type": "stream",
     "text": [
      " - COST: 1.7981878597868077e-06\n",
      "\n",
      " - CONVERGENCE TEST - \n",
      " - CHANGE IN COST: 1.2575252188846514e-08\n",
      "\n",
      " - ITERATION: 189\n",
      " - DATA FIDELITY (X): 1.7959292025406934e-06\n",
      " - G (X): 1.717857431894145e-10\n",
      " - F2 (X): 2.0868854806771236e-09\n"
     ]
    },
    {
     "name": "stderr",
     "output_type": "stream",
     "text": [
      " 94% (188 of 200) |####################  | Elapsed Time: 0:01:58 ETA:   0:00:06"
     ]
    },
    {
     "name": "stdout",
     "output_type": "stream",
     "text": [
      " - COST: 1.79818787376456e-06\n",
      "\n",
      " - ITERATION: 190\n",
      " - DATA FIDELITY (X): 1.7959292169796632e-06\n",
      " - G (X): 1.7178567680651957e-10\n",
      " - F2 (X): 2.086878878372379e-09\n"
     ]
    },
    {
     "name": "stderr",
     "output_type": "stream",
     "text": [
      " 94% (189 of 200) |####################  | Elapsed Time: 0:01:59 ETA:   0:00:06"
     ]
    },
    {
     "name": "stdout",
     "output_type": "stream",
     "text": [
      " - COST: 1.798187881534842e-06\n",
      "\n",
      " - ITERATION: 191\n",
      " - DATA FIDELITY (X): 1.7959292301828973e-06\n",
      " - G (X): 1.7178561580780682e-10\n",
      " - F2 (X): 2.0868697041690537e-09\n"
     ]
    },
    {
     "name": "stderr",
     "output_type": "stream",
     "text": [
      " 95% (190 of 200) |####################  | Elapsed Time: 0:01:59 ETA:   0:00:05"
     ]
    },
    {
     "name": "stdout",
     "output_type": "stream",
     "text": [
      " - COST: 1.7981878855028741e-06\n",
      "\n",
      " - ITERATION: 192\n",
      " - DATA FIDELITY (X): 1.7959292422584747e-06\n",
      " - G (X): 1.8430747484308852e-10\n",
      " - F2 (X): 2.086905291509646e-09\n"
     ]
    },
    {
     "name": "stderr",
     "output_type": "stream",
     "text": [
      " 95% (191 of 200) |##################### | Elapsed Time: 0:02:00 ETA:   0:00:05"
     ]
    },
    {
     "name": "stdout",
     "output_type": "stream",
     "text": [
      " - COST: 1.7982004550248272e-06\n",
      "\n",
      " - CONVERGENCE TEST - \n",
      " - CHANGE IN COST: 3.4994074909828654e-06\n",
      "\n",
      " - ITERATION: 193\n",
      " - DATA FIDELITY (X): 1.7959292532942073e-06\n",
      " - G (X): 1.717855122715501e-10\n",
      " - F2 (X): 2.0869449419882187e-09\n"
     ]
    },
    {
     "name": "stderr",
     "output_type": "stream",
     "text": [
      " 96% (192 of 200) |##################### | Elapsed Time: 0:02:01 ETA:   0:00:04"
     ]
    },
    {
     "name": "stdout",
     "output_type": "stream",
     "text": [
      " - COST: 1.7981879837484672e-06\n",
      "\n",
      " - ITERATION: 194\n",
      " - DATA FIDELITY (X): 1.7959292633717924e-06\n",
      " - G (X): 1.7178546680791383e-10\n",
      " - F2 (X): 2.086988006649517e-09\n"
     ]
    },
    {
     "name": "stderr",
     "output_type": "stream",
     "text": [
      " 96% (193 of 200) |##################### | Elapsed Time: 0:02:01 ETA:   0:00:04"
     ]
    },
    {
     "name": "stdout",
     "output_type": "stream",
     "text": [
      " - COST: 1.79818803684525e-06\n",
      "\n",
      " - ITERATION: 195\n",
      " - DATA FIDELITY (X): 1.795929272593357e-06\n",
      " - G (X): 1.717854239211836e-10\n",
      " - F2 (X): 2.0869986914243836e-09\n"
     ]
    },
    {
     "name": "stderr",
     "output_type": "stream",
     "text": [
      " 97% (194 of 200) |##################### | Elapsed Time: 0:02:02 ETA:   0:00:04"
     ]
    },
    {
     "name": "stdout",
     "output_type": "stream",
     "text": [
      " - COST: 1.7981880567087026e-06\n",
      "\n",
      " - ITERATION: 196\n",
      " - DATA FIDELITY (X): 1.7959292810323576e-06\n",
      " - G (X): 1.7178538358572526e-10\n",
      " - F2 (X): 2.0870080715657703e-09\n"
     ]
    },
    {
     "name": "stderr",
     "output_type": "stream",
     "text": [
      " 97% (195 of 200) |##################### | Elapsed Time: 0:02:02 ETA:   0:00:02"
     ]
    },
    {
     "name": "stdout",
     "output_type": "stream",
     "text": [
      " - COST: 1.7981880744875091e-06\n",
      "\n",
      " - CONVERGENCE TEST - \n",
      " - CHANGE IN COST: 3.0753872860996726e-08\n",
      "\n",
      " - ITERATION: 197\n",
      " - DATA FIDELITY (X): 1.795929288761016e-06\n"
     ]
    },
    {
     "name": "stderr",
     "output_type": "stream",
     "text": [
      "\r",
      "                                                                               \r",
      "\r",
      " 97% (195 of 200) |##################### | Elapsed Time: 0:02:02 ETA:   0:00:03"
     ]
    },
    {
     "name": "stdout",
     "output_type": "stream",
     "text": [
      " - G (X): 1.7228771940582284e-10\n",
      " - F2 (X): 2.0870439976554206e-09\n"
     ]
    },
    {
     "name": "stderr",
     "output_type": "stream",
     "text": [
      " 98% (196 of 200) |##################### | Elapsed Time: 0:02:03 ETA:   0:00:02"
     ]
    },
    {
     "name": "stdout",
     "output_type": "stream",
     "text": [
      " - COST: 1.7981886204780773e-06\n",
      "\n",
      " - ITERATION: 198\n",
      " - DATA FIDELITY (X): 1.7959292958494122e-06\n",
      " - G (X): 1.7180488301147703e-10\n"
     ]
    },
    {
     "name": "stderr",
     "output_type": "stream",
     "text": [
      "\r",
      "                                                                               \r",
      "\r",
      " 98% (196 of 200) |##################### | Elapsed Time: 0:02:03 ETA:   0:00:02"
     ]
    },
    {
     "name": "stdout",
     "output_type": "stream",
     "text": [
      " - F2 (X): 2.0870572390363583e-09\n"
     ]
    },
    {
     "name": "stderr",
     "output_type": "stream",
     "text": [
      " 98% (197 of 200) |##################### | Elapsed Time: 0:02:04 ETA:   0:00:02"
     ]
    },
    {
     "name": "stdout",
     "output_type": "stream",
     "text": [
      " - COST: 1.79818815797146e-06\n",
      "\n",
      " - ITERATION: 199\n",
      " - DATA FIDELITY (X): 1.7959293023395541e-06\n"
     ]
    },
    {
     "name": "stderr",
     "output_type": "stream",
     "text": [
      "\r",
      "                                                                               \r",
      "\r",
      " 98% (197 of 200) |##################### | Elapsed Time: 0:02:04 ETA:   0:00:02"
     ]
    },
    {
     "name": "stdout",
     "output_type": "stream",
     "text": [
      " - G (X): 1.7178528231715404e-10\n",
      " - F2 (X): 2.0870408094771523e-09\n"
     ]
    },
    {
     "name": "stderr",
     "output_type": "stream",
     "text": [
      " 99% (198 of 200) |##################### | Elapsed Time: 0:02:04 ETA:   0:00:01"
     ]
    },
    {
     "name": "stdout",
     "output_type": "stream",
     "text": [
      " - COST: 1.7981881284313485e-06\n",
      "\n",
      " - ITERATION: 200\n",
      " - DATA FIDELITY (X): 1.7959293082748173e-06\n"
     ]
    },
    {
     "name": "stderr",
     "output_type": "stream",
     "text": [
      "100% (200 of 200) |######################| Elapsed Time: 0:02:05 Time:  0:02:05\n"
     ]
    },
    {
     "name": "stdout",
     "output_type": "stream",
     "text": [
      " - G (X): 1.7178525319023797e-10\n",
      " - F2 (X): 2.0870167989549544e-09\n",
      " - COST: 1.7981881103269626e-06\n",
      "\n",
      " - CONVERGENCE TEST - \n",
      " - CHANGE IN COST: 1.5006528540300093e-07\n",
      "\n"
     ]
    }
   ],
   "source": [
    "opt.iterate(max_iter = 200)"
   ]
  },
  {
   "cell_type": "code",
   "execution_count": 28,
   "metadata": {},
   "outputs": [
    {
     "name": "stdout",
     "output_type": "stream",
     "text": [
      "0.8412949490076079\n"
     ]
    }
   ],
   "source": [
    "uk = opt.x_final\n",
    "print(ssim(np.real(uk),u0_mat))\n",
    "pysap.Image(data = np.real(uk)).show()"
   ]
  },
  {
   "cell_type": "code",
   "execution_count": 20,
   "metadata": {},
   "outputs": [
    {
     "name": "stdout",
     "output_type": "stream",
     "text": [
      "4.0236278357540493e-10 3.193882683645833e-09\n"
     ]
    }
   ],
   "source": [
    "print(regularizer_G.cost(uk),regularizer_F2.cost(uk))"
   ]
  }
 ],
 "metadata": {
  "kernelspec": {
   "display_name": "Python 3",
   "language": "python",
   "name": "python3"
  },
  "language_info": {
   "codemirror_mode": {
    "name": "ipython",
    "version": 3
   },
   "file_extension": ".py",
   "mimetype": "text/x-python",
   "name": "python",
   "nbconvert_exporter": "python",
   "pygments_lexer": "ipython3",
   "version": "3.7.3"
  }
 },
 "nbformat": 4,
 "nbformat_minor": 2
}
