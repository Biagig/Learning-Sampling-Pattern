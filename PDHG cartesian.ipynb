{
 "cells": [
  {
   "cell_type": "markdown",
   "metadata": {},
   "source": [
    "PDHG algorithm"
   ]
  },
  {
   "cell_type": "code",
   "execution_count": 1,
   "metadata": {
    "scrolled": true
   },
   "outputs": [
    {
     "name": "stdout",
     "output_type": "stream",
     "text": [
      "\n",
      "                 .|'''|       /.\\      '||'''|,\n",
      "                 ||          // \\\\      ||   ||\n",
      "'||''|, '||  ||` `|'''|,    //...\\\\     ||...|'\n",
      " ||  ||  `|..||   .   ||   //     \\\\    ||\n",
      " ||..|'      ||   |...|' .//       \\\\. .||\n",
      " ||       ,  |'\n",
      ".||        ''\n",
      "\n",
      "Package version: 0.0.3\n",
      "\n",
      "License: CeCILL-B\n",
      "\n",
      "Authors: \n",
      "\n",
      "Antoine Grigis <antoine.grigis@cea.fr>\n",
      "Samuel Farrens <samuel.farrens@cea.fr>\n",
      "Jean-Luc Starck <jl.stark@cea.fr>\n",
      "Philippe Ciuciu <philippe.ciuciu@cea.fr>\n",
      "\n",
      "Dependencies: \n",
      "\n",
      "scipy          : >=1.3.0   - required | 1.3.0     installed\n",
      "numpy          : >=1.16.4  - required | 1.16.4    installed\n",
      "matplotlib     : >=3.0.0   - required | 3.1.1     installed\n",
      "astropy        : >=3.0.0   - required | 3.2.1     installed\n",
      "nibabel        : >=2.3.2   - required | 2.5.1     installed\n",
      "pyqtgraph      : >=0.10.0  - required | 0.10.0    installed\n",
      "progressbar2   : >=3.34.3  - required | ?         installed\n",
      "modopt         : >=1.4.0   - required | 1.4.1     installed\n",
      "scikit-learn   : >=0.19.1  - required | ?         installed\n",
      "pywt           : >=1.0.0   - required | 1.0.3     installed\n",
      "pysparse       : >=0.0.1   - required | 0.1.0     installed\n",
      "\n"
     ]
    }
   ],
   "source": [
    "# Package import\n",
    "from mri.operators import NonCartesianFFT, WaveletUD2, WaveletN , gradient\n",
    "from mri.operators.utils import convert_mask_to_locations, convert_locations_to_mask\n",
    "from mri.reconstructors import SingleChannelReconstructor\n",
    "import pysap\n",
    "from pysap.data import get_sample_data\n",
    "import time"
   ]
  },
  {
   "cell_type": "code",
   "execution_count": 2,
   "metadata": {},
   "outputs": [],
   "source": [
    "from modopt.math.metrics import ssim\n",
    "from scipy.stats import norm\n",
    "\n",
    "import numpy as np\n",
    "import matplotlib.pyplot as plt\n",
    "\n",
    "import nibabel as nib\n",
    "import h5py"
   ]
  },
  {
   "cell_type": "markdown",
   "metadata": {},
   "source": [
    "## Import data and add noise"
   ]
  },
  {
   "cell_type": "markdown",
   "metadata": {},
   "source": [
    "### Cartesian Fourier operator and noise"
   ]
  },
  {
   "cell_type": "code",
   "execution_count": 3,
   "metadata": {},
   "outputs": [],
   "source": [
    "#Oasis image\n",
    "all_images = [ \"oasis_data/sub-OAS30001_ses-d0129_run-01_T1w.nii\"]\n",
    "              #,\"../oasis_data/sub-OAS30278_ses-d1325_run-02_T1w.nii\" ]\n",
    "im = nib.load(\"oasis_data/sub-OAS30001_ses-d0129_run-01_T1w.nii\")\n",
    "im = im.get_fdata()\n",
    "\n",
    "u0_mat = (1+0j)*im[ :, 30:206, 124 ]"
   ]
  },
  {
   "cell_type": "code",
   "execution_count": 4,
   "metadata": {},
   "outputs": [
    {
     "name": "stderr",
     "output_type": "stream",
     "text": [
      "/home/guillaume/temp/pysap-mri/mri/operators/fourier/utils.py:78: FutureWarning: Using a non-tuple sequence for multidimensional indexing is deprecated; use `arr[tuple(seq)]` instead of `arr[seq]`. In the future this will be interpreted as an array index, `arr[np.array(seq)]`, which will result either in an error or a different result.\n",
      "  mask[test] = 1\n"
     ]
    }
   ],
   "source": [
    "(n,m) = u0_mat.shape\n",
    "x = np.linspace(0,m,m,endpoint=False)/m-0.5\n",
    "y = np.linspace(0,n,n,endpoint=False)/n-0.5\n",
    "X,Y = np.meshgrid(x,y)\n",
    "kspace_loc = np.stack([X.flatten('F'),Y.flatten('F')],axis=1)\n",
    "\n",
    "mask = convert_locations_to_mask(kspace_loc,u0_mat.shape)\n",
    "fourier_op = NonCartesianFFT(samples=kspace_loc, shape=u0_mat.shape,implementation='cpu')\n",
    "\n",
    "# Adding noise\n",
    "s = 0.1*np.mean(u0_mat)\n",
    "# Computing y with non-cartesian Fourier transform\n",
    "fourier_op = NonCartesianFFT(samples=kspace_loc, shape=u0_mat.shape,implementation='cpu')\n",
    "y = (1+0j)*fourier_op.op(u0_mat)+s*np.random.randn(2*n*m).view(np.complex128)"
   ]
  },
  {
   "cell_type": "markdown",
   "metadata": {},
   "source": [
    "### Creating a random cartesian mask or projecting a radial mask on cartesian grid"
   ]
  },
  {
   "cell_type": "code",
   "execution_count": 5,
   "metadata": {},
   "outputs": [],
   "source": [
    "x = np.linspace( -0.5, 0.5, m, endpoint = False )\n",
    "p = np.array([norm.pdf(u,loc=0,scale=0.15) for u in x])\n",
    "p /= np.sum(p)\n",
    "y_sampled = np.random.choice( x, size=int(0.6*m), p=p, replace=False)\n",
    "\n",
    "#Subsampling: From pysap radial mask \n",
    "cartesian_p = np.zeros((n*m+1,))\n",
    "cartesian_p[-1] = 25\n",
    "for yi in y_sampled:\n",
    "    j=int((yi+0.5)*n)\n",
    "    cartesian_p[j*n:(j+1)*n] = np.ones((n,))\n",
    "pysap.Image(data=np.reshape(cartesian_p[:-1],(m,n)).transpose()).show()"
   ]
  },
  {
   "cell_type": "markdown",
   "metadata": {},
   "source": [
    "### Operators"
   ]
  },
  {
   "cell_type": "code",
   "execution_count": 6,
   "metadata": {},
   "outputs": [],
   "source": [
    "#Wavelet\n",
    "linear_op = WaveletN(wavelet_name=\"sym8\",nb_scale=3,padding_mode = \"periodization\")\n",
    "#linear_op = WaveletUD2(wavelet_id=24,nb_scale=3)"
   ]
  },
  {
   "cell_type": "code",
   "execution_count": 7,
   "metadata": {
    "scrolled": true
   },
   "outputs": [
    {
     "name": "stdout",
     "output_type": "stream",
     "text": [
      "0.8157645283430403\n"
     ]
    }
   ],
   "source": [
    "#ifft on noised data = base result\n",
    "uk = fourier_op.adj_op(y)\n",
    "print(ssim(uk,u0_mat))\n",
    "pysap.Image(data = np.real(uk)).show()\n",
    "pysap.Image(data = np.arctan(np.imag(uk)/np.real(uk))).show()"
   ]
  },
  {
   "cell_type": "markdown",
   "metadata": {},
   "source": [
    "## Reconstruction"
   ]
  },
  {
   "cell_type": "code",
   "execution_count": 8,
   "metadata": {},
   "outputs": [],
   "source": [
    "# Specific files import\n",
    "from LowerLevel.prox import prox_G,prox_F1_dual,prox_F2_dual\n",
    "from LowerLevel.pdhg import pdhg\n",
    "from LowerLevel.cost_utils import f1,f2,g"
   ]
  },
  {
   "cell_type": "code",
   "execution_count": 9,
   "metadata": {},
   "outputs": [],
   "source": [
    "param = {\"epsilon\":1e-3,\"gamma\":1e-10}"
   ]
  },
  {
   "cell_type": "code",
   "execution_count": 10,
   "metadata": {},
   "outputs": [
    {
     "name": "stdout",
     "output_type": "stream",
     "text": [
      "493727.504 30491721.465768337 7920938.462447648\n"
     ]
    }
   ],
   "source": [
    "print(g(u0_mat,param[\"epsilon\"]),\n",
    "      f2(linear_op.op(u0_mat),cartesian_p[-1],param[\"gamma\"]),\n",
    "      f1(u0_mat,cartesian_p[:-1],y,fourier_op))"
   ]
  },
  {
   "cell_type": "code",
   "execution_count": 11,
   "metadata": {
    "scrolled": true
   },
   "outputs": [
    {
     "name": "stdout",
     "output_type": "stream",
     "text": [
      "Sigma: 5 \n",
      "Tau: 0.1\n"
     ]
    },
    {
     "name": "stderr",
     "output_type": "stream",
     "text": [
      "/home/guillaume/pysap-mri/Learning Sampling Pattern/LowerLevel/prox.py:19: RuntimeWarning: invalid value encountered in sqrt\n",
      "  x/np.abs(x)*(gamma+gamma**2/2/c-gamma/c*np.sqrt((c+0.5*gamma)**2-c*np.abs(x))))\n"
     ]
    },
    {
     "name": "stdout",
     "output_type": "stream",
     "text": [
      "10  iterations:\n",
      "Cost: 40928869.14878703 \n",
      "Norm: 0.05915423366524007 \n",
      "\n",
      "20  iterations:\n",
      "Cost: 39806743.958330765 \n",
      "Norm: 0.01592329326836338 \n",
      "\n",
      "30  iterations:\n",
      "Cost: 39667970.315466605 \n",
      "Norm: 0.004587809719302517 \n",
      "\n",
      "40  iterations:\n",
      "Cost: 39649371.19083513 \n",
      "Norm: 0.0014881944402753376 \n",
      "\n",
      "50  iterations:\n",
      "Cost: 39646740.490952194 \n",
      "Norm: 0.0005072697145673471 \n",
      "\n",
      "60  iterations:\n",
      "Cost: 39646358.9771016 \n",
      "Norm: 0.0001733230415156752 \n",
      "\n",
      "70  iterations:\n",
      "Cost: 39646306.39439113 \n",
      "Norm: 6.532085411060699e-05 \n",
      "\n",
      "80  iterations:\n",
      "Cost: 39646298.65190615 \n",
      "Norm: 2.4307647175537007e-05 \n",
      "\n",
      "90  iterations:\n",
      "Cost: 39646297.5214727 \n",
      "Norm: 9.401777268031702e-06 \n",
      "\n",
      "100  iterations:\n",
      "Cost: 39646297.31317769 \n",
      "Norm: 3.3909132267196607e-06 \n",
      "\n",
      "Finished in 7.964839696884155 seconds.\n"
     ]
    }
   ],
   "source": [
    "# -- Solving --\n",
    "#p0=cartesian_p\n",
    "p0 = np.ones(n**2+1)\n",
    "p0[-1] = 30\n",
    "uk,norms,energy,ssims = pdhg(y , p0 ,\n",
    "                             fourier_op = fourier_op,\n",
    "                             linear_op = linear_op,\n",
    "                             param = param,\n",
    "                             ground_truth=u0_mat,\n",
    "                             const = {\"sigma\":5,\"tau\":0.1},\n",
    "                             maxit=100,\n",
    "                             compute_energy = True,\n",
    "                             mask_type=\"cartesian\")"
   ]
  },
  {
   "cell_type": "code",
   "execution_count": 12,
   "metadata": {
    "scrolled": true
   },
   "outputs": [
    {
     "name": "stdout",
     "output_type": "stream",
     "text": [
      "0.9116079122647066\n"
     ]
    }
   ],
   "source": [
    "#Showing\n",
    "print(ssim(u0_mat,uk))\n",
    "pysap.Image(data = np.abs(uk)).show()"
   ]
  },
  {
   "cell_type": "code",
   "execution_count": 13,
   "metadata": {},
   "outputs": [
    {
     "name": "stdout",
     "output_type": "stream",
     "text": [
      "467391.24246786645 24334310.067229733 6200293.258095679\n"
     ]
    }
   ],
   "source": [
    "print(g(uk,param[\"epsilon\"]),\n",
    "      f2(linear_op.op(uk),cartesian_p[-1],param[\"gamma\"]),\n",
    "      f1(uk,cartesian_p[:-1],y,fourier_op))"
   ]
  },
  {
   "cell_type": "code",
   "execution_count": 14,
   "metadata": {},
   "outputs": [],
   "source": [
    "pysap.Image(data = np.abs(np.abs(uk)-u0_mat)).show()"
   ]
  },
  {
   "cell_type": "code",
   "execution_count": 15,
   "metadata": {},
   "outputs": [],
   "source": [
    "pysap.Image(data = np.arctan(np.imag(uk)/np.real(uk))).show()"
   ]
  },
  {
   "cell_type": "code",
   "execution_count": 16,
   "metadata": {
    "scrolled": false
   },
   "outputs": [
    {
     "data": {
      "image/png": "[encoded data removed]",
      "text/plain": [
       "<Figure size 432x288 with 1 Axes>"
      ]
     },
     "metadata": {
      "needs_background": "light"
     },
     "output_type": "display_data"
    }
   ],
   "source": [
    "plt.plot(energy[1:])\n",
    "plt.yscale(\"log\")\n",
    "plt.xlabel(\"Number of iterations\")\n",
    "plt.ylabel(\"Cost function\")\n",
    "plt.title(\"Evolution of the cost function\")\n",
    "plt.yscale(\"log\")\n",
    "#plt.savefig(\"Results/radial V cartesian/cartesian/energy.png\")\n",
    "plt.show()"
   ]
  },
  {
   "cell_type": "code",
   "execution_count": 17,
   "metadata": {},
   "outputs": [
    {
     "data": {
      "image/png": "[encoded data removed]",
      "text/plain": [
       "<Figure size 432x288 with 1 Axes>"
      ]
     },
     "metadata": {
      "needs_background": "light"
     },
     "output_type": "display_data"
    }
   ],
   "source": [
    "plt.plot(ssims[10:])\n",
    "plt.yscale(\"log\")\n",
    "plt.xlabel(\"Number of iterations\")\n",
    "plt.ylabel(\"SSIM\")\n",
    "plt.title(\"Evolution of the SSIM\")\n",
    "plt.yscale(\"log\")\n",
    "#plt.savefig(\"Results/radial V cartesian/cartesian/metrics.png\")\n",
    "plt.show()"
   ]
  },
  {
   "cell_type": "code",
   "execution_count": 18,
   "metadata": {},
   "outputs": [
    {
     "data": {
      "image/png": "[encoded data removed]",
      "text/plain": [
       "<Figure size 432x288 with 1 Axes>"
      ]
     },
     "metadata": {
      "needs_background": "light"
     },
     "output_type": "display_data"
    }
   ],
   "source": [
    "plt.plot(norms[10:])\n",
    "plt.yscale(\"log\")\n",
    "plt.xlabel(\"Number of iterations\")\n",
    "plt.ylabel(\"SSIM\")\n",
    "plt.title(\"Evolution of the stopping criterion\")\n",
    "plt.yscale(\"log\")\n",
    "#plt.savefig(\"Results/radial V cartesian/cartesian/convergence.png\")\n",
    "plt.show()"
   ]
  },
  {
   "cell_type": "code",
   "execution_count": null,
   "metadata": {},
   "outputs": [],
   "source": []
  }
 ],
 "metadata": {
  "kernelspec": {
   "display_name": "Python 3",
   "language": "python",
   "name": "python3"
  },
  "language_info": {
   "codemirror_mode": {
    "name": "ipython",
    "version": 3
   },
   "file_extension": ".py",
   "mimetype": "text/x-python",
   "name": "python",
   "nbconvert_exporter": "python",
   "pygments_lexer": "ipython3",
   "version": "3.7.3"
  }
 },
 "nbformat": 4,
 "nbformat_minor": 2
}
