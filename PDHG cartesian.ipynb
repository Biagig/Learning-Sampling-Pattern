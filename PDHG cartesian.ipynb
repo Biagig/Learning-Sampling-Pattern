{
 "cells": [
  {
   "cell_type": "markdown",
   "metadata": {},
   "source": [
    "PDHG algorithm"
   ]
  },
  {
   "cell_type": "code",
   "execution_count": 1,
   "metadata": {
    "scrolled": true
   },
   "outputs": [
    {
     "name": "stdout",
     "output_type": "stream",
     "text": [
      "\n",
      "                 .|'''|       /.\\      '||'''|,\n",
      "                 ||          // \\\\      ||   ||\n",
      "'||''|, '||  ||` `|'''|,    //...\\\\     ||...|'\n",
      " ||  ||  `|..||   .   ||   //     \\\\    ||\n",
      " ||..|'      ||   |...|' .//       \\\\. .||\n",
      " ||       ,  |'\n",
      ".||        ''\n",
      "\n",
      "Package version: 0.0.3\n",
      "\n",
      "License: CeCILL-B\n",
      "\n",
      "Authors: \n",
      "\n",
      "Antoine Grigis <antoine.grigis@cea.fr>\n",
      "Samuel Farrens <samuel.farrens@cea.fr>\n",
      "Jean-Luc Starck <jl.stark@cea.fr>\n",
      "Philippe Ciuciu <philippe.ciuciu@cea.fr>\n",
      "\n",
      "Dependencies: \n",
      "\n",
      "scipy          : >=1.3.0   - required | 1.3.0     installed\n",
      "numpy          : >=1.16.4  - required | 1.16.4    installed\n",
      "matplotlib     : >=3.0.0   - required | 3.1.1     installed\n",
      "astropy        : >=3.0.0   - required | 3.2.1     installed\n",
      "nibabel        : >=2.3.2   - required | 2.5.1     installed\n",
      "pyqtgraph      : >=0.10.0  - required | 0.10.0    installed\n",
      "progressbar2   : >=3.34.3  - required | ?         installed\n",
      "modopt         : >=1.4.0   - required | 1.4.4     installed\n",
      "scikit-learn   : >=0.19.1  - required | ?         installed\n",
      "pywt           : >=1.0.0   - required | 1.0.3     installed\n",
      "pysparse       : >=0.0.1   - required | 0.1.0     installed\n",
      "\n"
     ]
    }
   ],
   "source": [
    "# Package import\n",
    "from mri.operators import NonCartesianFFT, WaveletUD2, WaveletN , gradient\n",
    "from mri.operators.utils import convert_mask_to_locations, convert_locations_to_mask\n",
    "from mri.reconstructors import SingleChannelReconstructor\n",
    "import pysap\n",
    "from pysap.data import get_sample_data\n",
    "import time"
   ]
  },
  {
   "cell_type": "code",
   "execution_count": 2,
   "metadata": {},
   "outputs": [],
   "source": [
    "from modopt.math.metrics import ssim\n",
    "from scipy.stats import norm\n",
    "\n",
    "import numpy as np\n",
    "import matplotlib.pyplot as plt\n",
    "\n",
    "import nibabel as nib\n",
    "import h5py"
   ]
  },
  {
   "cell_type": "markdown",
   "metadata": {},
   "source": [
    "## Import data and add noise"
   ]
  },
  {
   "cell_type": "markdown",
   "metadata": {},
   "source": [
    "### Cartesian Fourier operator and noise"
   ]
  },
  {
   "cell_type": "code",
   "execution_count": 3,
   "metadata": {},
   "outputs": [],
   "source": [
    "#Oasis image\n",
    "all_images = [ \"oasis_data/sub-OAS30001_ses-d0129_run-01_T1w.nii\"]\n",
    "              #,\"../oasis_data/sub-OAS30278_ses-d1325_run-02_T1w.nii\" ]\n",
    "im = nib.load(\"oasis_data/sub-OAS30001_ses-d0129_run-01_T1w.nii\")\n",
    "im = im.get_fdata()\n",
    "\n",
    "#u0_mat = (1+0j)*im[ :, 30:206, 160 ]\n",
    "u0_mat = get_sample_data('2d-mri').data"
   ]
  },
  {
   "cell_type": "code",
   "execution_count": 5,
   "metadata": {},
   "outputs": [
    {
     "name": "stderr",
     "output_type": "stream",
     "text": [
      "/home/guillaume/temp/pysap-mri/mri/operators/fourier/utils.py:78: FutureWarning: Using a non-tuple sequence for multidimensional indexing is deprecated; use `arr[tuple(seq)]` instead of `arr[seq]`. In the future this will be interpreted as an array index, `arr[np.array(seq)]`, which will result either in an error or a different result.\n",
      "  mask[test] = 1\n"
     ]
    }
   ],
   "source": [
    "(n,m) = u0_mat.shape\n",
    "x = np.linspace(0,m,m,endpoint=False)/m-0.5\n",
    "y = np.linspace(0,n,n,endpoint=False)/n-0.5\n",
    "X,Y = np.meshgrid(x,y)\n",
    "kspace_loc = np.stack([X.flatten('F'),Y.flatten('F')],axis=1)\n",
    "\n",
    "mask = convert_locations_to_mask(kspace_loc,u0_mat.shape)\n",
    "fourier_op = NonCartesianFFT(samples=kspace_loc, shape=u0_mat.shape,implementation='cpu')\n",
    "\n",
    "# Adding noise\n",
    "s = 0.15*np.mean(u0_mat)\n",
    "# Computing y with non-cartesian Fourier transform\n",
    "fourier_op = NonCartesianFFT(samples=kspace_loc, shape=u0_mat.shape,implementation='cpu')\n",
    "y = (1+0j)*fourier_op.op(u0_mat)+s*np.random.randn(2*n*m).view(np.complex128)"
   ]
  },
  {
   "cell_type": "markdown",
   "metadata": {},
   "source": [
    "### Creating a random cartesian mask or projecting a radial mask on cartesian grid"
   ]
  },
  {
   "cell_type": "code",
   "execution_count": 6,
   "metadata": {},
   "outputs": [],
   "source": [
    "x = np.linspace( -0.5, 0.5, m, endpoint = False )\n",
    "p = np.array([norm.pdf(u,loc=0,scale=0.15) for u in x])\n",
    "p /= np.sum(p)\n",
    "y_sampled = np.random.choice( x, size=int(0.5*m), p=p, replace=False)\n",
    "\n",
    "#Subsampling: From pysap radial mask \n",
    "cartesian_p = np.zeros((n*m+1,))\n",
    "cartesian_p[-1] = 7e-7\n",
    "for yi in y_sampled:\n",
    "    j=int((yi+0.5)*n)\n",
    "    cartesian_p[j*n:(j+1)*n] = np.ones((n,))\n",
    "#pysap.Image(data=np.reshape(cartesian_p[:-1],(m,n)).transpose()).show()"
   ]
  },
  {
   "cell_type": "markdown",
   "metadata": {},
   "source": [
    "### Operators"
   ]
  },
  {
   "cell_type": "code",
   "execution_count": 7,
   "metadata": {},
   "outputs": [],
   "source": [
    "#Wavelet\n",
    "linear_op = WaveletN(wavelet_name=\"sym8\",nb_scale=3,padding_mode = \"periodization\")\n",
    "#linear_op = WaveletUD2(wavelet_id=24,nb_scale=3)"
   ]
  },
  {
   "cell_type": "code",
   "execution_count": 8,
   "metadata": {
    "scrolled": true
   },
   "outputs": [
    {
     "name": "stdout",
     "output_type": "stream",
     "text": [
      "0.9118931200728658\n"
     ]
    }
   ],
   "source": [
    "#ifft on noised data = base result\n",
    "uk = fourier_op.adj_op(cartesian_p[:-1]*y)\n",
    "print(ssim(uk,u0_mat))\n",
    "#pysap.Image(data = np.abs(uk)).show()\n",
    "#pysap.Image(data = np.arctan(np.imag(uk)/np.real(uk))).show()"
   ]
  },
  {
   "cell_type": "markdown",
   "metadata": {},
   "source": [
    "## Reconstruction"
   ]
  },
  {
   "cell_type": "code",
   "execution_count": 9,
   "metadata": {},
   "outputs": [],
   "source": [
    "# Specific files import\n",
    "from LowerLevel.prox import prox_G,prox_F1_dual,prox_F2_dual\n",
    "from LowerLevel.pdhg import pdhg\n",
    "from LowerLevel.cost_utils import f1,f2,g"
   ]
  },
  {
   "cell_type": "code",
   "execution_count": 10,
   "metadata": {},
   "outputs": [],
   "source": [
    "param = {\"epsilon\":1e-3,\"gamma\":1e-10}"
   ]
  },
  {
   "cell_type": "code",
   "execution_count": 11,
   "metadata": {},
   "outputs": [
    {
     "name": "stdout",
     "output_type": "stream",
     "text": [
      "1.907348405438831e-09 9.985400438308716e-08 1.8393813345386355e-08\n"
     ]
    }
   ],
   "source": [
    "print(g(u0_mat,param[\"epsilon\"]),\n",
    "      f2(linear_op.op(u0_mat),cartesian_p[-1],param[\"gamma\"]),\n",
    "      f1(u0_mat,cartesian_p[:-1],y,fourier_op))"
   ]
  },
  {
   "cell_type": "code",
   "execution_count": 12,
   "metadata": {
    "scrolled": true
   },
   "outputs": [
    {
     "name": "stdout",
     "output_type": "stream",
     "text": [
      "Sigma: 5 \n",
      "Tau: 0.1\n"
     ]
    },
    {
     "name": "stderr",
     "output_type": "stream",
     "text": [
      "/home/guillaume/pysap-mri/Learning Sampling Pattern/LowerLevel/prox.py:19: RuntimeWarning: invalid value encountered in sqrt\n",
      "  x/np.abs(x)*(gamma+gamma**2/2/c-gamma/c*np.sqrt((c+0.5*gamma)**2-c*np.abs(x))))\n"
     ]
    },
    {
     "name": "stdout",
     "output_type": "stream",
     "text": [
      "10  iterations:\n",
      "Cost: 9.640048926982538e-08 \n",
      "Norm: 0.09202625623927069 \n",
      "\n",
      "20  iterations:\n",
      "Cost: 9.365161963586017e-08 \n",
      "Norm: 0.019917891703474147 \n",
      "\n",
      "30  iterations:\n",
      "Cost: 9.327900133276522e-08 \n",
      "Norm: 0.006475548973298102 \n",
      "\n",
      "40  iterations:\n",
      "Cost: 9.319145172337109e-08 \n",
      "Norm: 0.002880062641952426 \n",
      "\n",
      "50  iterations:\n",
      "Cost: 9.315991510579188e-08 \n",
      "Norm: 0.0015467482880965812 \n",
      "\n",
      "60  iterations:\n",
      "Cost: 9.31444821068721e-08 \n",
      "Norm: 0.000977999459177803 \n",
      "\n",
      "70  iterations:\n",
      "Cost: 9.313499997085769e-08 \n",
      "Norm: 0.0007188942869620019 \n",
      "\n",
      "80  iterations:\n",
      "Cost: 9.312830439303274e-08 \n",
      "Norm: 0.0005337097962363148 \n",
      "\n",
      "90  iterations:\n",
      "Cost: 9.312312969076152e-08 \n",
      "Norm: 0.00039106661851493396 \n",
      "\n",
      "100  iterations:\n",
      "Cost: 9.311888695420597e-08 \n",
      "Norm: 0.00031345119210762334 \n",
      "\n",
      "Finished in 60.93263554573059 seconds.\n"
     ]
    }
   ],
   "source": [
    "# -- Solving --\n",
    "p0=cartesian_p\n",
    "#p0 = np.ones(n**2+1)\n",
    "p0[-1] = 7e-7\n",
    "\n",
    "t1 = time.time()\n",
    "uk,norms,energy,ssims = pdhg(y , p0 ,\n",
    "                             fourier_op = fourier_op,\n",
    "                             linear_op = linear_op,\n",
    "                             param = param,\n",
    "                             ground_truth=u0_mat,\n",
    "                             const = {\"sigma\":5,\"tau\":0.1},\n",
    "                             maxit=100,\n",
    "                             compute_energy = True,\n",
    "                             mask_type=\"cartesian\")\n",
    "PDHGtime = time.time()-t1"
   ]
  },
  {
   "cell_type": "code",
   "execution_count": 13,
   "metadata": {
    "scrolled": true
   },
   "outputs": [
    {
     "name": "stdout",
     "output_type": "stream",
     "text": [
      "0.9737627659067382\n"
     ]
    }
   ],
   "source": [
    "#Showing\n",
    "PDHGssim = ssim(u0_mat,uk)\n",
    "print(PDHGssim)\n",
    "pysap.Image(data = np.abs(uk)).show()"
   ]
  },
  {
   "cell_type": "code",
   "execution_count": 14,
   "metadata": {},
   "outputs": [
    {
     "name": "stdout",
     "output_type": "stream",
     "text": [
      "1.8213297511612349e-09 7.073287739095442e-08 2.056467981209032e-08\n"
     ]
    }
   ],
   "source": [
    "print(g(uk,param[\"epsilon\"]),\n",
    "      f2(linear_op.op(uk),cartesian_p[-1],param[\"gamma\"]),\n",
    "      f1(uk,cartesian_p[:-1],y,fourier_op))"
   ]
  },
  {
   "cell_type": "code",
   "execution_count": 15,
   "metadata": {},
   "outputs": [],
   "source": [
    "#pysap.Image(data = np.abs(np.abs(uk)-u0_mat)).show()"
   ]
  },
  {
   "cell_type": "code",
   "execution_count": 16,
   "metadata": {},
   "outputs": [
    {
     "name": "stdout",
     "output_type": "stream",
     "text": [
      "0.23194790936983026\n"
     ]
    }
   ],
   "source": [
    "#pysap.Image(data = np.arctan(np.imag(uk)/np.real(uk))).show()\n",
    "print(np.std(np.arctan(np.imag(uk)/np.real(uk))))"
   ]
  },
  {
   "cell_type": "code",
   "execution_count": 17,
   "metadata": {
    "scrolled": false
   },
   "outputs": [
    {
     "data": {
      "image/png": "[encoded data removed]",
      "text/plain": [
       "<Figure size 432x288 with 1 Axes>"
      ]
     },
     "metadata": {
      "needs_background": "light"
     },
     "output_type": "display_data"
    }
   ],
   "source": [
    "plt.plot(energy[1:])\n",
    "plt.yscale(\"log\")\n",
    "plt.xlabel(\"Number of iterations\")\n",
    "plt.ylabel(\"Cost function\")\n",
    "plt.title(\"Evolution of the cost function\")\n",
    "plt.yscale(\"log\")\n",
    "#plt.savefig(\"Results/PDHG V Condat/PDHG/energy.png\")\n",
    "plt.show()"
   ]
  },
  {
   "cell_type": "code",
   "execution_count": 18,
   "metadata": {},
   "outputs": [
    {
     "data": {
      "image/png": "[encoded data removed]",
      "text/plain": [
       "<Figure size 432x288 with 1 Axes>"
      ]
     },
     "metadata": {
      "needs_background": "light"
     },
     "output_type": "display_data"
    }
   ],
   "source": [
    "plt.plot(ssims[10:])\n",
    "plt.yscale(\"log\")\n",
    "plt.xlabel(\"Number of iterations\")\n",
    "plt.ylabel(\"SSIM\")\n",
    "plt.title(\"Evolution of the SSIM\")\n",
    "plt.yscale(\"log\")\n",
    "#plt.savefig(\"Results/PDHG V Condat/PDHG/metrics.png\")\n",
    "plt.show()"
   ]
  },
  {
   "cell_type": "code",
   "execution_count": 19,
   "metadata": {},
   "outputs": [
    {
     "data": {
      "image/png": "[encoded data removed]",
      "text/plain": [
       "<Figure size 432x288 with 1 Axes>"
      ]
     },
     "metadata": {
      "needs_background": "light"
     },
     "output_type": "display_data"
    }
   ],
   "source": [
    "plt.plot(norms[10:])\n",
    "plt.yscale(\"log\")\n",
    "plt.xlabel(\"Number of iterations\")\n",
    "plt.ylabel(\"SSIM\")\n",
    "plt.title(\"Evolution of the stopping criterion\")\n",
    "plt.yscale(\"log\")\n",
    "#plt.savefig(\"Results/PDHG V Condat/PDHG/convergence.png\")\n",
    "plt.show()"
   ]
  },
  {
   "cell_type": "markdown",
   "metadata": {},
   "source": [
    "# Comparison with Condat-Vu"
   ]
  },
  {
   "cell_type": "code",
   "execution_count": 20,
   "metadata": {},
   "outputs": [],
   "source": [
    "from modopt.opt.linear import Identity\n",
    "from modopt.opt.proximity import SparseThreshold,Ridge,ProximityParent,ProximityCombo"
   ]
  },
  {
   "cell_type": "code",
   "execution_count": 21,
   "metadata": {},
   "outputs": [],
   "source": [
    "class RegularizerG(ProximityParent):\n",
    "    r\"\"\"L2 norm\n",
    "\n",
    "    Parameters\n",
    "    ----------\n",
    "    linear : class\n",
    "        Linear operator class\n",
    "    weights : np.ndarray\n",
    "        Input array of weights\n",
    "    \"\"\"\n",
    "\n",
    "    def __init__(self, eps):\n",
    "        self.weights = [eps]\n",
    "        self.eps = eps\n",
    "        self.op = self._op_method\n",
    "        self.cost = self._cost_method\n",
    "\n",
    "        \n",
    "    def _op_method(self, data, extra_factor=1.0):  \n",
    "        thresh = self.eps*extra_factor\n",
    "        \n",
    "        return data/(1+thresh)\n",
    "\n",
    "    \n",
    "    def _cost_method(self, *args, **kwargs):\n",
    "        \n",
    "        cost_val = self.eps*np.linalg.norm(args[0])**2/2\n",
    "\n",
    "        if 'verbose' in kwargs and kwargs['verbose']:\n",
    "            print(' - G (X):', cost_val)\n",
    "\n",
    "        return cost_val"
   ]
  },
  {
   "cell_type": "code",
   "execution_count": 22,
   "metadata": {},
   "outputs": [],
   "source": [
    "class RegularizerF2(ProximityParent):\n",
    "    r\"\"\"C2 approximation of an L1 norm\n",
    "\n",
    "    Parameters\n",
    "    ----------\n",
    "    linear : class\n",
    "        Linear operator class\n",
    "    weights : np.ndarray\n",
    "        Input array of weights\n",
    "    \"\"\"\n",
    "\n",
    "    def __init__(self, linear, gamma, pn1):\n",
    "        self.linear = linear\n",
    "        self.weights = [gamma,pn1]\n",
    "        self.gamma = gamma\n",
    "        self.pn1=pn1\n",
    "        self.op = self._op_method\n",
    "        self.cost = self._cost_method\n",
    "    \n",
    "    def rho(self, x):\n",
    "        m = np.abs(x)\n",
    "        return np.where(m<self.gamma,-m**3/3/self.gamma**2+m**2/self.gamma,m-self.gamma/3)    \n",
    "    \n",
    "    def prox_J(self,x,c,gamma):\n",
    "        return np.where(np.abs(x)>gamma+c,x*(1-c/np.abs(x)),\n",
    "                    gamma*x/(c+0.5*gamma+np.sqrt((c+0.5*gamma)**2-c*np.abs(x))))\n",
    "\n",
    "        \n",
    "    def _op_method(self, data, extra_factor=1.0):  \n",
    "        return self.prox_J(data,self.pn1*extra_factor,self.gamma)\n",
    "        \n",
    "    \n",
    "    def _cost_method(self, *args, **kwargs):\n",
    "        \n",
    "        cost_val = self.pn1*np.sum(self.rho(self.linear.op(args[0])))\n",
    "\n",
    "        if 'verbose' in kwargs and kwargs['verbose']:\n",
    "            print(' - F2 (X):', cost_val)\n",
    "\n",
    "        return cost_val"
   ]
  },
  {
   "cell_type": "code",
   "execution_count": 23,
   "metadata": {},
   "outputs": [],
   "source": [
    "regularizer_G = RegularizerG(param[\"epsilon\"])\n",
    "regularizer_F2 = RegularizerF2(linear_op,param[\"gamma\"],cartesian_p[-1])"
   ]
  },
  {
   "cell_type": "code",
   "execution_count": 24,
   "metadata": {},
   "outputs": [
    {
     "name": "stdout",
     "output_type": "stream",
     "text": [
      "1.907348405438831e-09 9.985400438308716e-08\n"
     ]
    }
   ],
   "source": [
    "print(regularizer_G.cost(u0_mat),regularizer_F2.cost(u0_mat))"
   ]
  },
  {
   "cell_type": "code",
   "execution_count": 25,
   "metadata": {},
   "outputs": [],
   "source": [
    "from modopt.opt.algorithms import Condat\n",
    "from mri.operators import GradAnalysis\n",
    "from modopt.opt.gradient import GradParent,GradBasic"
   ]
  },
  {
   "cell_type": "code",
   "execution_count": 26,
   "metadata": {},
   "outputs": [
    {
     "name": "stderr",
     "output_type": "stream",
     "text": [
      "\u001b[33mWARNING\u001b[0m: Making input data immutable.\n"
     ]
    }
   ],
   "source": [
    "p = cartesian_p[:-1]\n",
    "gradient_op = GradBasic(p*y,fourier_op.op,fourier_op.adj_op)"
   ]
  },
  {
   "cell_type": "code",
   "execution_count": 27,
   "metadata": {},
   "outputs": [],
   "source": [
    "metrics = {\n",
    "        'ssim': {\n",
    "            'metric': ssim,\n",
    "            'mapping': {'x_new': 'test', 'y_new': None},\n",
    "            'cst_kwargs': {'ref': u0_mat, 'mask': None},\n",
    "            'early_stopping': True,\n",
    "        },\n",
    "    }"
   ]
  },
  {
   "cell_type": "code",
   "execution_count": 28,
   "metadata": {
    "scrolled": true
   },
   "outputs": [
    {
     "name": "stderr",
     "output_type": "stream",
     "text": [
      "/home/guillaume/anaconda3/lib/python3.7/site-packages/ipykernel_launcher.py:26: RuntimeWarning: invalid value encountered in sqrt\n"
     ]
    },
    {
     "name": "stdout",
     "output_type": "stream",
     "text": [
      " - ITERATION: 1\n",
      " - DATA FIDELITY (X): 4.774337970296736e-07\n",
      " - G (X): 2.3890760618362624e-09\n",
      " - F2 (X): 1.6620899255622375e-07\n",
      " - COST: 6.460318656477337e-07\n",
      "\n"
     ]
    },
    {
     "name": "stderr",
     "output_type": "stream",
     "text": [
      "N/A% (0 of 100) |                        | Elapsed Time: 0:00:00 ETA:  --:--:--"
     ]
    },
    {
     "name": "stdout",
     "output_type": "stream",
     "text": [
      " - ITERATION: 2\n",
      " - DATA FIDELITY (X): 4.685889649171697e-07\n",
      " - G (X): 2.3525947514764536e-09\n",
      " - F2 (X): 1.4572273167596722e-07\n"
     ]
    },
    {
     "name": "stderr",
     "output_type": "stream",
     "text": [
      "  1% (1 of 100) |                        | Elapsed Time: 0:00:01 ETA:   0:01:54"
     ]
    },
    {
     "name": "stdout",
     "output_type": "stream",
     "text": [
      " - COST: 6.166642913446134e-07\n",
      "\n",
      " - ITERATION: 3\n",
      " - DATA FIDELITY (X): 2.6807492263197817e-07\n"
     ]
    },
    {
     "name": "stderr",
     "output_type": "stream",
     "text": [
      "\r",
      "                                                                               \r",
      "\r",
      "  2% (2 of 100) |                        | Elapsed Time: 0:00:01 ETA:   0:01:53"
     ]
    },
    {
     "name": "stdout",
     "output_type": "stream",
     "text": [
      " - G (X): 2.1262453215345334e-09\n",
      " - F2 (X): 1.3050689597328568e-07\n",
      " - COST: 4.0070806392679836e-07\n",
      "\n"
     ]
    },
    {
     "name": "stderr",
     "output_type": "stream",
     "text": [
      "  2% (2 of 100) |                        | Elapsed Time: 0:00:01 ETA:   0:01:30"
     ]
    },
    {
     "name": "stdout",
     "output_type": "stream",
     "text": [
      " - ITERATION: 4\n",
      " - DATA FIDELITY (X): 1.2718097197422848e-07\n",
      " - G (X): 1.965691447487483e-09\n",
      " - F2 (X): 1.1660878273566741e-07\n"
     ]
    },
    {
     "name": "stderr",
     "output_type": "stream",
     "text": [
      "  3% (3 of 100) |                        | Elapsed Time: 0:00:02 ETA:   0:01:18"
     ]
    },
    {
     "name": "stdout",
     "output_type": "stream",
     "text": [
      " - COST: 2.457554461573834e-07\n",
      "\n",
      " - CONVERGENCE TEST - \n",
      " - CHANGE IN COST: 0.9532365513220077\n",
      "\n",
      " - ITERATION: 5\n",
      " - DATA FIDELITY (X): 5.9148265291013286e-08\n",
      " - G (X): 1.883915874857772e-09\n",
      " - F2 (X): 1.0629206032800217e-07\n"
     ]
    },
    {
     "name": "stderr",
     "output_type": "stream",
     "text": [
      "  4% (4 of 100) |                        | Elapsed Time: 0:00:03 ETA:   0:00:57"
     ]
    },
    {
     "name": "stdout",
     "output_type": "stream",
     "text": [
      " - COST: 1.6732424149387322e-07\n",
      "\n",
      " - ITERATION: 6\n",
      " - DATA FIDELITY (X): 3.1698712241133524e-08\n",
      " - G (X): 1.8471847635795068e-09\n",
      " - F2 (X): 9.833053315865009e-08\n"
     ]
    },
    {
     "name": "stderr",
     "output_type": "stream",
     "text": [
      "  5% (5 of 100) |#                       | Elapsed Time: 0:00:03 ETA:   0:00:59"
     ]
    },
    {
     "name": "stdout",
     "output_type": "stream",
     "text": [
      " - COST: 1.3187643016336312e-07\n",
      "\n",
      " - ITERATION: 7\n",
      " - DATA FIDELITY (X): 2.199782147722222e-08\n",
      " - G (X): 1.831309150532324e-09\n",
      " - F2 (X): 9.233744200329169e-08\n"
     ]
    },
    {
     "name": "stderr",
     "output_type": "stream",
     "text": [
      "  6% (6 of 100) |#                       | Elapsed Time: 0:00:04 ETA:   0:00:55"
     ]
    },
    {
     "name": "stdout",
     "output_type": "stream",
     "text": [
      " - COST: 1.1616657263104624e-07\n",
      "\n",
      " - ITERATION: 8\n",
      " - DATA FIDELITY (X): 1.911189592522635e-08\n",
      " - G (X): 1.8243088553075516e-09\n",
      " - F2 (X): 8.774739822034822e-08\n"
     ]
    },
    {
     "name": "stderr",
     "output_type": "stream",
     "text": [
      "  7% (7 of 100) |#                       | Elapsed Time: 0:00:04 ETA:   0:00:55"
     ]
    },
    {
     "name": "stdout",
     "output_type": "stream",
     "text": [
      " - COST: 1.0868360300088212e-07\n",
      "\n",
      " - CONVERGENCE TEST - \n",
      " - CHANGE IN COST: 0.3306668354443142\n",
      "\n",
      " - ITERATION: 9\n",
      " - DATA FIDELITY (X): 1.8609648175000325e-08\n",
      " - G (X): 1.821036138304352e-09\n",
      " - F2 (X): 8.42080846450892e-08\n"
     ]
    },
    {
     "name": "stderr",
     "output_type": "stream",
     "text": [
      "  8% (8 of 100) |#                       | Elapsed Time: 0:00:05 ETA:   0:00:54"
     ]
    },
    {
     "name": "stdout",
     "output_type": "stream",
     "text": [
      " - COST: 1.0463876895839387e-07\n",
      "\n",
      " - ITERATION: 10\n",
      " - DATA FIDELITY (X): 1.8857219725082217e-08\n",
      " - G (X): 1.8193855215379905e-09\n",
      " - F2 (X): 8.144597858903492e-08\n"
     ]
    },
    {
     "name": "stderr",
     "output_type": "stream",
     "text": [
      "  9% (9 of 100) |##                      | Elapsed Time: 0:00:05 ETA:   0:00:53"
     ]
    },
    {
     "name": "stdout",
     "output_type": "stream",
     "text": [
      " - COST: 1.0212258383565513e-07\n",
      "\n",
      " - ITERATION: 11\n",
      " - DATA FIDELITY (X): 1.9292846521971874e-08\n",
      " - G (X): 1.8184935659632018e-09\n",
      " - F2 (X): 7.92743660021275e-08\n"
     ]
    },
    {
     "name": "stderr",
     "output_type": "stream",
     "text": [
      " 10% (10 of 100) |##                     | Elapsed Time: 0:00:06 ETA:   0:00:53"
     ]
    },
    {
     "name": "stdout",
     "output_type": "stream",
     "text": [
      " - COST: 1.0038570609006258e-07\n",
      "\n",
      " - ITERATION: 12\n",
      " - DATA FIDELITY (X): 1.9734802926689455e-08\n",
      " - G (X): 1.8179860496589884e-09\n",
      " - F2 (X): 7.755671294741764e-08\n"
     ]
    },
    {
     "name": "stderr",
     "output_type": "stream",
     "text": [
      " 11% (11 of 100) |##                     | Elapsed Time: 0:00:07 ETA:   0:00:52"
     ]
    },
    {
     "name": "stdout",
     "output_type": "stream",
     "text": [
      " - COST: 9.910950192376608e-08\n",
      "\n",
      " - CONVERGENCE TEST - \n",
      " - CHANGE IN COST: 0.03642265321840042\n",
      "\n",
      " - ITERATION: 13\n",
      " - DATA FIDELITY (X): 2.0130325068308608e-08\n",
      " - G (X): 1.8176876550510434e-09\n",
      " - F2 (X): 7.61927302096656e-08\n"
     ]
    },
    {
     "name": "stderr",
     "output_type": "stream",
     "text": [
      " 12% (12 of 100) |##                     | Elapsed Time: 0:00:07 ETA:   0:00:52"
     ]
    },
    {
     "name": "stdout",
     "output_type": "stream",
     "text": [
      " - COST: 9.814074293302525e-08\n",
      "\n",
      " - ITERATION: 14\n",
      " - DATA FIDELITY (X): 2.046828642008981e-08\n",
      " - G (X): 1.8175083478344285e-09\n",
      " - F2 (X): 7.510593209863721e-08\n"
     ]
    },
    {
     "name": "stderr",
     "output_type": "stream",
     "text": [
      " 13% (13 of 100) |##                     | Elapsed Time: 0:00:08 ETA:   0:00:51"
     ]
    },
    {
     "name": "stdout",
     "output_type": "stream",
     "text": [
      " - COST: 9.739172686656145e-08\n",
      "\n",
      " - ITERATION: 15\n",
      " - DATA FIDELITY (X): 2.0751192938666153e-08\n",
      " - G (X): 1.817399061423745e-09\n",
      " - F2 (X): 7.423773160688233e-08\n"
     ]
    },
    {
     "name": "stderr",
     "output_type": "stream",
     "text": [
      " 14% (14 of 100) |###                    | Elapsed Time: 0:00:08 ETA:   0:00:50"
     ]
    },
    {
     "name": "stdout",
     "output_type": "stream",
     "text": [
      " - COST: 9.680632360697224e-08\n",
      "\n",
      " - ITERATION: 16\n",
      " - DATA FIDELITY (X): 2.0985395923352683e-08\n",
      " - G (X): 1.8173316764208462e-09\n",
      " - F2 (X): 7.354259224573588e-08\n"
     ]
    },
    {
     "name": "stderr",
     "output_type": "stream",
     "text": [
      " 15% (15 of 100) |###                    | Elapsed Time: 0:00:09 ETA:   0:00:50"
     ]
    },
    {
     "name": "stdout",
     "output_type": "stream",
     "text": [
      " - COST: 9.634531984550941e-08\n",
      "\n",
      " - CONVERGENCE TEST - \n",
      " - CHANGE IN COST: 0.012326202897107494\n",
      "\n",
      " - ITERATION: 17\n",
      " - DATA FIDELITY (X): 2.117807497328722e-08\n",
      " - G (X): 1.8172897819339171e-09\n",
      " - F2 (X): 7.298505528481626e-08\n"
     ]
    },
    {
     "name": "stderr",
     "output_type": "stream",
     "text": [
      " 16% (16 of 100) |###                    | Elapsed Time: 0:00:10 ETA:   0:00:49"
     ]
    },
    {
     "name": "stdout",
     "output_type": "stream",
     "text": [
      " - COST: 9.59804200400374e-08\n",
      "\n",
      " - ITERATION: 18\n",
      " - DATA FIDELITY (X): 2.133592197905013e-08\n",
      " - G (X): 1.8172635506332494e-09\n",
      " - F2 (X): 7.253724120122762e-08\n"
     ]
    },
    {
     "name": "stderr",
     "output_type": "stream",
     "text": [
      " 17% (17 of 100) |###                    | Elapsed Time: 0:00:10 ETA:   0:00:49"
     ]
    },
    {
     "name": "stdout",
     "output_type": "stream",
     "text": [
      " - COST: 9.569042673091099e-08\n",
      "\n",
      " - ITERATION: 19\n",
      " - DATA FIDELITY (X): 2.1464857110135907e-08\n",
      " - G (X): 1.8172470396161427e-09\n",
      " - F2 (X): 7.217714804024787e-08\n"
     ]
    },
    {
     "name": "stderr",
     "output_type": "stream",
     "text": [
      " 18% (18 of 100) |####                   | Elapsed Time: 0:00:11 ETA:   0:00:47"
     ]
    },
    {
     "name": "stdout",
     "output_type": "stream",
     "text": [
      " - COST: 9.545925218999993e-08\n",
      "\n",
      " - ITERATION: 20\n",
      " - DATA FIDELITY (X): 2.1569943620005055e-08\n",
      " - G (X): 1.8172365887059931e-09\n",
      " - F2 (X): 7.18872975596863e-08\n"
     ]
    },
    {
     "name": "stderr",
     "output_type": "stream",
     "text": [
      " 19% (19 of 100) |####                   | Elapsed Time: 0:00:11 ETA:   0:00:47"
     ]
    },
    {
     "name": "stdout",
     "output_type": "stream",
     "text": [
      " - COST: 9.527447776839735e-08\n",
      "\n",
      " - CONVERGENCE TEST - \n",
      " - CHANGE IN COST: 0.004913220187931698\n",
      "\n",
      " - ITERATION: 21\n",
      " - DATA FIDELITY (X): 2.1655452360890344e-08\n",
      " - G (X): 1.8172299418076412e-09\n",
      " - F2 (X): 7.16537893324741e-08\n"
     ]
    },
    {
     "name": "stderr",
     "output_type": "stream",
     "text": [
      " 20% (20 of 100) |####                   | Elapsed Time: 0:00:12 ETA:   0:00:47"
     ]
    },
    {
     "name": "stdout",
     "output_type": "stream",
     "text": [
      " - COST: 9.512647163517209e-08\n",
      "\n",
      " - ITERATION: 22\n",
      " - DATA FIDELITY (X): 2.1724946369109212e-08\n",
      " - G (X): 1.8172256954541307e-09\n",
      " - F2 (X): 7.146553290740434e-08\n"
     ]
    },
    {
     "name": "stderr",
     "output_type": "stream",
     "text": [
      " 21% (21 of 100) |####                   | Elapsed Time: 0:00:13 ETA:   0:00:46"
     ]
    },
    {
     "name": "stdout",
     "output_type": "stream",
     "text": [
      " - COST: 9.500770497196768e-08\n",
      "\n",
      " - ITERATION: 23\n",
      " - DATA FIDELITY (X): 2.178137096034624e-08\n",
      " - G (X): 1.8172229721051164e-09\n",
      " - F2 (X): 7.131366738578961e-08\n"
     ]
    },
    {
     "name": "stderr",
     "output_type": "stream",
     "text": [
      " 22% (22 of 100) |#####                  | Elapsed Time: 0:00:13 ETA:   0:00:48"
     ]
    },
    {
     "name": "stdout",
     "output_type": "stream",
     "text": [
      " - COST: 9.491226131824096e-08\n",
      "\n",
      " - ITERATION: 24\n",
      " - DATA FIDELITY (X): 2.182714940765781e-08\n",
      " - G (X): 1.817221219588212e-09\n",
      " - F2 (X): 7.119109705941964e-08\n"
     ]
    },
    {
     "name": "stderr",
     "output_type": "stream",
     "text": [
      " 23% (23 of 100) |#####                  | Elapsed Time: 0:00:14 ETA:   0:00:46"
     ]
    },
    {
     "name": "stdout",
     "output_type": "stream",
     "text": [
      " - COST: 9.483546768666566e-08\n",
      "\n",
      " - CONVERGENCE TEST - \n",
      " - CHANGE IN COST: 0.0020366388797367256\n",
      "\n",
      " - ITERATION: 25\n",
      " - DATA FIDELITY (X): 2.1864268128293555e-08\n",
      " - G (X): 1.8172200884904262e-09\n",
      " - F2 (X): 7.109213020033268e-08\n"
     ]
    },
    {
     "name": "stderr",
     "output_type": "stream",
     "text": [
      " 24% (24 of 100) |#####                  | Elapsed Time: 0:00:14 ETA:   0:00:45"
     ]
    },
    {
     "name": "stdout",
     "output_type": "stream",
     "text": [
      " - COST: 9.477361841711667e-08\n",
      "\n",
      " - ITERATION: 26\n",
      " - DATA FIDELITY (X): 2.189435151493333e-08\n",
      " - G (X): 1.8172193565692789e-09\n",
      " - F2 (X): 7.101219395190963e-08\n"
     ]
    },
    {
     "name": "stderr",
     "output_type": "stream",
     "text": [
      " 25% (25 of 100) |#####                  | Elapsed Time: 0:00:15 ETA:   0:00:45"
     ]
    },
    {
     "name": "stdout",
     "output_type": "stream",
     "text": [
      " - COST: 9.472376482341223e-08\n",
      "\n",
      " - ITERATION: 27\n",
      " - DATA FIDELITY (X): 2.191872456958916e-08\n",
      " - G (X): 1.8172188818806884e-09\n",
      " - F2 (X): 7.094761037046223e-08\n"
     ]
    },
    {
     "name": "stderr",
     "output_type": "stream",
     "text": [
      " 26% (26 of 100) |#####                  | Elapsed Time: 0:00:16 ETA:   0:00:49"
     ]
    },
    {
     "name": "stdout",
     "output_type": "stream",
     "text": [
      " - COST: 9.468355382193207e-08\n",
      "\n",
      " - ITERATION: 28\n",
      " - DATA FIDELITY (X): 2.1938465331472947e-08\n",
      " - G (X): 1.8172185734330852e-09\n",
      " - F2 (X): 7.089541920636147e-08\n"
     ]
    },
    {
     "name": "stderr",
     "output_type": "stream",
     "text": [
      " 27% (27 of 100) |######                 | Elapsed Time: 0:00:16 ETA:   0:00:48"
     ]
    },
    {
     "name": "stdout",
     "output_type": "stream",
     "text": [
      " - COST: 9.46511031112675e-08\n",
      "\n",
      " - CONVERGENCE TEST - \n",
      " - CHANGE IN COST: 0.0008594639246989993\n",
      "\n",
      " - ITERATION: 29\n",
      " - DATA FIDELITY (X): 2.1954450107243547e-08\n",
      " - G (X): 1.8172183726659155e-09\n",
      " - F2 (X): 7.085323550166729e-08\n"
     ]
    },
    {
     "name": "stderr",
     "output_type": "stream",
     "text": [
      " 28% (28 of 100) |######                 | Elapsed Time: 0:00:17 ETA:   0:00:43"
     ]
    },
    {
     "name": "stdout",
     "output_type": "stream",
     "text": [
      " - COST: 9.462490398157675e-08\n",
      "\n",
      " - ITERATION: 30\n",
      " - DATA FIDELITY (X): 2.1967391127744926e-08\n",
      " - G (X): 1.8172182417858253e-09\n",
      " - F2 (X): 7.081913589808592e-08\n"
     ]
    },
    {
     "name": "stderr",
     "output_type": "stream",
     "text": [
      " 28% (29 of 100) |######                 | Elapsed Time: 0:00:17 ETA:   0:00:42"
     ]
    },
    {
     "name": "stdout",
     "output_type": "stream",
     "text": [
      " - COST: 9.460374526761666e-08\n",
      "\n",
      " - ITERATION: 31\n",
      " - DATA FIDELITY (X): 2.1977866086894056e-08\n",
      " - G (X): 1.8172181563464114e-09\n",
      " - F2 (X): 7.079156914539278e-08\n"
     ]
    },
    {
     "name": "stderr",
     "output_type": "stream",
     "text": [
      " 30% (30 of 100) |######                 | Elapsed Time: 0:00:18 ETA:   0:00:41"
     ]
    },
    {
     "name": "stdout",
     "output_type": "stream",
     "text": [
      " - COST: 9.458665338863326e-08\n",
      "\n",
      " - ITERATION: 32\n",
      " - DATA FIDELITY (X): 2.1986344056255597e-08\n",
      " - G (X): 1.8172181004945714e-09\n",
      " - F2 (X): 7.07692829738683e-08\n"
     ]
    },
    {
     "name": "stderr",
     "output_type": "stream",
     "text": [
      " 31% (31 of 100) |#######                | Elapsed Time: 0:00:19 ETA:   0:00:41"
     ]
    },
    {
     "name": "stdout",
     "output_type": "stream",
     "text": [
      " - COST: 9.457284513061847e-08\n",
      "\n",
      " - CONVERGENCE TEST - \n",
      " - CHANGE IN COST: 0.0003655683721040101\n",
      "\n",
      " - ITERATION: 33\n",
      " - DATA FIDELITY (X): 2.1993205349607872e-08\n",
      " - G (X): 1.8172180639346669e-09\n",
      " - F2 (X): 7.075126660190878e-08\n"
     ]
    },
    {
     "name": "stderr",
     "output_type": "stream",
     "text": [
      " 32% (32 of 100) |#######                | Elapsed Time: 0:00:19 ETA:   0:00:40"
     ]
    },
    {
     "name": "stdout",
     "output_type": "stream",
     "text": [
      " - COST: 9.456169001545132e-08\n",
      "\n",
      " - ITERATION: 34\n",
      " - DATA FIDELITY (X): 2.199875802228839e-08\n",
      " - G (X): 1.8172180399701227e-09\n",
      " - F2 (X): 7.073670435598612e-08\n"
     ]
    },
    {
     "name": "stderr",
     "output_type": "stream",
     "text": [
      " 33% (33 of 100) |#######                | Elapsed Time: 0:00:20 ETA:   0:00:40"
     ]
    },
    {
     "name": "stdout",
     "output_type": "stream",
     "text": [
      " - COST: 9.455268041824464e-08\n",
      "\n",
      " - ITERATION: 35\n",
      " - DATA FIDELITY (X): 2.2003251534856108e-08\n",
      " - G (X): 1.8172180242389041e-09\n",
      " - F2 (X): 7.072493806037915e-08\n"
     ]
    },
    {
     "name": "stderr",
     "output_type": "stream",
     "text": [
      " 34% (34 of 100) |#######                | Elapsed Time: 0:00:20 ETA:   0:00:38"
     ]
    },
    {
     "name": "stdout",
     "output_type": "stream",
     "text": [
      " - COST: 9.454540761947416e-08\n",
      "\n",
      " - ITERATION: 36\n",
      " - DATA FIDELITY (X): 2.200688779666812e-08\n",
      " - G (X): 1.8172180138960545e-09\n",
      " - F2 (X): 7.071543677947952e-08\n"
     ]
    },
    {
     "name": "stderr",
     "output_type": "stream",
     "text": [
      "\r",
      "                                                                               \r",
      "\r",
      " 36% (36 of 100) |########               | Elapsed Time: 0:00:21 ETA:   0:00:28"
     ]
    },
    {
     "name": "stdout",
     "output_type": "stream",
     "text": [
      " - COST: 9.453954259004368e-08\n",
      "\n",
      " - CONVERGENCE TEST - \n",
      " - CHANGE IN COST: 0.00015559262725836924\n",
      "\n"
     ]
    },
    {
     "name": "stderr",
     "output_type": "stream",
     "text": [
      "100% (100 of 100) |######################| Elapsed Time: 0:00:49 Time:  0:00:49\n"
     ]
    }
   ],
   "source": [
    "t2 = time.time()\n",
    "opt = Condat(x=fourier_op.adj_op(p*y),\n",
    "    y=p*y,\n",
    "    grad = gradient_op,\n",
    "    prox = regularizer_G,\n",
    "    prox_dual = regularizer_F2,\n",
    "    linear = linear_op,\n",
    "    max_iter=100,\n",
    "    metrics=metrics,\n",
    "    verbose=0)\n",
    "CVtime = time.time()-t2"
   ]
  },
  {
   "cell_type": "code",
   "execution_count": 29,
   "metadata": {},
   "outputs": [
    {
     "name": "stdout",
     "output_type": "stream",
     "text": [
      "0.9700318579436361\n"
     ]
    }
   ],
   "source": [
    "uk = opt.x_final\n",
    "CVssim = ssim(uk,u0_mat)\n",
    "print(CVssim)\n",
    "#pysap.Image(data = uk).show()"
   ]
  },
  {
   "cell_type": "code",
   "execution_count": 30,
   "metadata": {},
   "outputs": [],
   "source": [
    "#pysap.Image(data=np.abs(uk-u0_mat)).show()"
   ]
  },
  {
   "cell_type": "code",
   "execution_count": 31,
   "metadata": {},
   "outputs": [
    {
     "data": {
      "text/plain": [
       "Text(0, 0.5, 'SSIM')"
      ]
     },
     "execution_count": 31,
     "metadata": {},
     "output_type": "execute_result"
    },
    {
     "data": {
      "image/png": "[encoded data removed]",
      "text/plain": [
       "<Figure size 432x288 with 1 Axes>"
      ]
     },
     "metadata": {
      "needs_background": "light"
     },
     "output_type": "display_data"
    }
   ],
   "source": [
    "plt.plot(opt.metrics['ssim']['index'],opt.metrics['ssim']['values'])\n",
    "plt.title(\"Evolution of ssim\")\n",
    "plt.xlabel(\"Number of iterations\")\n",
    "plt.ylabel(\"SSIM\")\n",
    "#plt.savefig(\"Results/PDHG V Condat/Condat/ssim.png\")"
   ]
  },
  {
   "cell_type": "code",
   "execution_count": 32,
   "metadata": {},
   "outputs": [
    {
     "name": "stdout",
     "output_type": "stream",
     "text": [
      "Condat-Vu converged in 50.07612633705139s for a final SSIM of 0.9700318579436361 \n",
      "PDHG converged in 61.207974910736084 for a final ssim of 0.9737627659067382\n"
     ]
    }
   ],
   "source": [
    "print(f\"Condat-Vu converged in {CVtime}s for a final SSIM of {CVssim}\",\n",
    "f\"\\nPDHG converged in {PDHGtime} for a final ssim of {PDHGssim}\")"
   ]
  }
 ],
 "metadata": {
  "kernelspec": {
   "display_name": "Python 3",
   "language": "python",
   "name": "python3"
  },
  "language_info": {
   "codemirror_mode": {
    "name": "ipython",
    "version": 3
   },
   "file_extension": ".py",
   "mimetype": "text/x-python",
   "name": "python",
   "nbconvert_exporter": "python",
   "pygments_lexer": "ipython3",
   "version": "3.7.3"
  }
 },
 "nbformat": 4,
 "nbformat_minor": 2
}
